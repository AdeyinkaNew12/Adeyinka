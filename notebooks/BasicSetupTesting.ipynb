{
 "cells": [
  {
   "cell_type": "markdown",
   "metadata": {},
   "source": [
    "# Raytracing-based Atmospheric Delay Estimation - RADE\n",
    "\n",
    "## Getting set up to use the code\n",
    "1. Create an account on the Copernicus servers here:  https://cds.climate.copernicus.eu/user\n",
    "2. Confirm your email, etc. \n",
    "3. Install the public API key and client (https://cds.climate.copernicus.eu/api-how-to): \n",
    "   a. Copy the URL and API key from the webpage into a file in your home directory name ~/.cdsapirc \n",
    "   b. Install the CDS API using pip: pip install cdsapi. \n",
    "4. You must accept the license for each product you wish to download: https://cds.climate.copernicus.eu/cdsapp/#!/terms/licence-to-use-copernicus-products\n",
    "5. See the test_cdsapi.py script for details of the API. You can test that you can connect to the servers by running the test suite (described below)."
   ]
  },
  {
   "cell_type": "markdown",
   "metadata": {},
   "source": [
    "# Setup and source code installation"
   ]
  },
  {
   "cell_type": "code",
   "execution_count": 18,
   "metadata": {},
   "outputs": [
    {
     "name": "stdout",
     "output_type": "stream",
     "text": [
      "/u/kriek1/maurer/Documents/test\n",
      "build  git_raytracing\n"
     ]
    }
   ],
   "source": [
    "baseDir = '~/Documents/test/'\n",
    "%cd $baseDir\n",
    "!mkdir -p build\n",
    "!ls"
   ]
  },
  {
   "cell_type": "code",
   "execution_count": 19,
   "metadata": {},
   "outputs": [
    {
     "name": "stdout",
     "output_type": "stream",
     "text": [
      "build  git_raytracing\r\n"
     ]
    }
   ],
   "source": [
    "# Uncomment the following line the first time you run this notebook\n",
    "# !git clone ~/software/pythonmodules/raytracing/git_raytracing/\n",
    "!ls"
   ]
  },
  {
   "cell_type": "markdown",
   "metadata": {},
   "source": [
    "## Anaconda Installation\n",
    "If you need anaconda installed, see [here](https://docs.anaconda.com/anaconda/install/)\n",
    "\n",
    "## Anaconda environment setup\n",
    "Run the following from inside your base directory (baseDir):\n",
    "\n",
    "conda env create -f git_raytracing/doc/environment.yml\n",
    "\n",
    "source activate raytracing"
   ]
  },
  {
   "cell_type": "markdown",
   "metadata": {},
   "source": [
    "# Installing Geometry Module:"
   ]
  },
  {
   "cell_type": "markdown",
   "metadata": {},
   "source": [
    "## Environment Setup\n",
    "### setup the following variables and paths, for example in a module file:\n",
    "```\n",
    "setenv          SRC_DIR             ~/software/pythonmodules/raytracing/git_raytracing\n",
    "setenv          GEOMETRY_DIR        $SRC_DIR/Geometry\n",
    "setenv          GEOMETRY_LIB_DIR    ~/software/pythonmodules/raytracing/build\n",
    "\n",
    "prepend-path    PATH                 $GEOMETRY_LIB_DIR\n",
    "prepend-path    PATH                 $SRC_DIR\n",
    "\n",
    "append-path     PYTHONPATH           $GEOMETRY_LIB_DIR\n",
    "append-path     LD_LIBRARY_PATH      $GEOMETRY_LIB_DIR\n",
    "append-path     PYTHONPATH           $SRC_DIR\n",
    "append-path     PYTHONPATH           $SRC_DIR/models\n",
    "append-path     PYTHONPATH           $SRC_DIR/utils\n",
    "```"
   ]
  },
  {
   "cell_type": "code",
   "execution_count": 16,
   "metadata": {},
   "outputs": [],
   "source": [
    "# Run this if you use a module file for the environment setup\n",
    "!module load raytracing"
   ]
  },
  {
   "cell_type": "code",
   "execution_count": 17,
   "metadata": {},
   "outputs": [
    {
     "name": "stdout",
     "output_type": "stream",
     "text": [
      "[Errno 2] No such file or directory: '../build'\n",
      "/u/kriek1/maurer/Documents/test\n",
      "CMake Error: The source directory \"/u/kriek1/maurer/Documents/git_raytracing/Geometry/cpp\" does not exist.\n",
      "Specify --help for usage, or press the help button on the CMake GUI.\n",
      "make: *** No targets specified and no makefile found.  Stop.\n",
      "(null): can't open file '../git_raytracing/Geometry/cython/setup.py': [Errno 2] No such file or directory\n"
     ]
    }
   ],
   "source": [
    "%cd ../build\n",
    "!cmake . ../git_raytracing/Geometry/cpp/\n",
    "!make \n",
    "!python3 ../git_raytracing/Geometry/cython/setup.py build_ext -b ~/Documents/test/build"
   ]
  },
  {
   "cell_type": "code",
   "execution_count": null,
   "metadata": {},
   "outputs": [],
   "source": [
    "# Test out the build\n",
    "import Geo2rdr"
   ]
  },
  {
   "cell_type": "code",
   "execution_count": null,
   "metadata": {},
   "outputs": [],
   "source": []
  }
 ],
 "metadata": {
  "kernelspec": {
   "display_name": "Python 3",
   "language": "python",
   "name": "python3"
  },
  "language_info": {
   "codemirror_mode": {
    "name": "ipython",
    "version": 3
   },
   "file_extension": ".py",
   "mimetype": "text/x-python",
   "name": "python",
   "nbconvert_exporter": "python",
   "pygments_lexer": "ipython3",
   "version": "3.7.0"
  }
 },
 "nbformat": 4,
 "nbformat_minor": 2
}
