{
 "cells": [
  {
   "cell_type": "code",
   "execution_count": null,
   "id": "9aa3f367",
   "metadata": {
    "init_cell": true,
    "scrolled": true
   },
   "outputs": [],
   "source": [
    "import os, os.path as op\n",
    "import shutil\n",
    "import yaml\n",
    "import numpy as np\n",
    "import matplotlib.pyplot as plt\n",
    "from mpl_toolkits.axes_grid1 import make_axes_locatable\n",
    "\n",
    "import pandas as pd\n",
    "import xarray as xr\n",
    "from wand.image import Image as WImage\n",
    "\n",
    "## Defining the home and data directories\n",
    "tutorial_home_dir = os.path.abspath(os.getcwd())\n",
    "work_dir = os.path.abspath(os.getcwd())\n",
    "print(\"Tutorial directory: \", tutorial_home_dir)\n",
    "print(\"Work directory: \", work_dir)\n",
    "\n",
    "# Verifying if RAiDER is installed correctly\n",
    "try:\n",
    "    import RAiDER\n",
    "except:\n",
    "    raise Exception('RAiDER is missing from your PYTHONPATH')\n",
    "\n",
    "os.chdir(work_dir)"
   ]
  },
  {
   "cell_type": "code",
   "execution_count": null,
   "id": "88210cbf",
   "metadata": {},
   "outputs": [],
   "source": [
    "if not op.exists(op.join(work_dir, 'data')):\n",
    "    !unzip -a data.zip"
   ]
  },
  {
   "cell_type": "code",
   "execution_count": null,
   "id": "3438ead1",
   "metadata": {},
   "outputs": [],
   "source": [
    "## make lat lon files\n",
    "src = op.join(work_dir, 'data', 'los_HR.rdr.geo')\n",
    "dst = op.join(work_dir, 'data', 'los_HR.rdr.geo.nc')\n",
    "!gdal_translate {src} {dst} -of netcdf\n",
    "ds_base   = xr.open_dataset(dst)\n",
    "\n",
    "Lat, Lon  = np.meshgrid(ds_base.lat.data, ds_base.lon.data)\n",
    "print (Lat.shape, Lon.shape)\n",
    "\n",
    "da_lat = xr.DataArray(Lat.T, coords=[Lon[0, :], Lat[:, 0]], dims='lon lat'.split())\n",
    "da_lon = xr.DataArray(Lon.T, coords=[Lon[0, :], Lat[:, 0]], dims='lon lat'.split())\n",
    "\n",
    "da_lat.to_netcdf(op.join(work_dir, 'data', 'lat_HR.geo'))\n",
    "da_lon.to_netcdf(op.join(work_dir, 'data', 'lon_HR.geo'))"
   ]
  },
  {
   "cell_type": "markdown",
   "id": "2c5f91f7",
   "metadata": {},
   "source": [
    "### Helpers"
   ]
  },
  {
   "cell_type": "code",
   "execution_count": null,
   "id": "73236916",
   "metadata": {
    "init_cell": true
   },
   "outputs": [],
   "source": [
    "def new_yaml_group(example_yaml, dct_group, dst='tmp.yaml'):\n",
    "    \"\"\" Write a temporary yaml file with the new 'value' for 'key', preserving parms in example_yaml\"\"\"\n",
    "    with open(example_yaml, 'r') as f:\n",
    "        try:\n",
    "            params = yaml.safe_load(f)\n",
    "        except yaml.YAMLError as exc:\n",
    "            print(exc)\n",
    "            raise ValueError(f'Something is wrong with the yaml file {example_yaml}')\n",
    "\n",
    "    params = {**params, **dct_group}\n",
    "    dst = op.join(os.path.dirname(example_yaml), dst)\n",
    "#     print (params)\n",
    "\n",
    "    with open(dst, 'w') as fh:\n",
    "        yaml.dump(params, fh, default_flow_style=False)\n",
    "\n",
    "    print ('Wrote new cfg file:', dst)\n",
    "    return dst"
   ]
  },
  {
   "cell_type": "code",
   "execution_count": null,
   "id": "5bccf371",
   "metadata": {
    "init_cell": true
   },
   "outputs": [],
   "source": [
    "yaml_base = os.path.join(tutorial_home_dir, 'example_yamls', 'raider_example_LA_bbox.yaml')\n",
    "print(yaml_base)"
   ]
  },
  {
   "cell_type": "code",
   "execution_count": null,
   "id": "ea1d2706",
   "metadata": {},
   "outputs": [],
   "source": [
    "# check the base file works\n",
    "!raider.py {yaml_base}"
   ]
  },
  {
   "cell_type": "markdown",
   "id": "e0ce6867",
   "metadata": {
    "heading_collapsed": true
   },
   "source": [
    "## Models"
   ]
  },
  {
   "cell_type": "code",
   "execution_count": null,
   "id": "e13f4bf6",
   "metadata": {
    "hidden": true
   },
   "outputs": [],
   "source": [
    "from RAiDER.models.allowed import ALLOWED_MODELS\n",
    "models = ALLOWED_MODELS.copy()\n",
    "models.remove('NCMR')\n",
    "print ('Testing Models:', models)"
   ]
  },
  {
   "cell_type": "code",
   "execution_count": null,
   "id": "08cacfeb",
   "metadata": {
    "hidden": true
   },
   "outputs": [],
   "source": [
    "## may want to test downloading\n",
    "shutil.rmtree('weather_files')"
   ]
  },
  {
   "cell_type": "code",
   "execution_count": null,
   "id": "d4f71dad",
   "metadata": {
    "hidden": true
   },
   "outputs": [],
   "source": [
    "for model in models:\n",
    "    grp = {'weather_model': model}\n",
    "    cfg = new_yaml_group(yaml_base, grp)\n",
    "    print('Running:', model)\n",
    "    !raider.py {cfg}"
   ]
  },
  {
   "cell_type": "markdown",
   "id": "044f55ca",
   "metadata": {
    "heading_collapsed": true
   },
   "source": [
    "## Date Options"
   ]
  },
  {
   "cell_type": "code",
   "execution_count": null,
   "id": "8ec06939",
   "metadata": {
    "hidden": true
   },
   "outputs": [],
   "source": [
    "# date start only is default"
   ]
  },
  {
   "cell_type": "code",
   "execution_count": null,
   "id": "36641aad",
   "metadata": {
    "hidden": true
   },
   "outputs": [],
   "source": [
    "# date start and end\n",
    "grp = {'date_group': {'date_start' : 20200103, 'date_end': 20200107}}\n",
    "cfg = new_yaml_group(yaml_base, grp)\n",
    "!raider.py {cfg}"
   ]
  },
  {
   "cell_type": "code",
   "execution_count": null,
   "id": "e3471500",
   "metadata": {
    "hidden": true
   },
   "outputs": [],
   "source": [
    "# date start and end every 2 days\n",
    "grp = {'date_group': {'date_start' : 20200103, 'date_end': 20200107, 'date_step': 2}}\n",
    "cfg = new_yaml_group(yaml_base, grp)\n",
    "!raider.py {cfg}"
   ]
  },
  {
   "cell_type": "code",
   "execution_count": null,
   "id": "0c404c22",
   "metadata": {
    "hidden": true
   },
   "outputs": [],
   "source": [
    "# list of dates\n",
    "grp = {'date_group': {'date_list': [20200110, 20200115]}}\n",
    "cfg = new_yaml_group(yaml_base, grp)\n",
    "!raider.py {cfg}"
   ]
  },
  {
   "cell_type": "markdown",
   "id": "27f57e39",
   "metadata": {
    "heading_collapsed": true
   },
   "source": [
    "## Time Options"
   ]
  },
  {
   "cell_type": "code",
   "execution_count": null,
   "id": "18426a14",
   "metadata": {
    "hidden": true
   },
   "outputs": [],
   "source": [
    "# start time only is default"
   ]
  },
  {
   "cell_type": "code",
   "execution_count": null,
   "id": "3b7b0b69",
   "metadata": {
    "hidden": true
   },
   "outputs": [],
   "source": [
    "# start and end time\n",
    "grp = {'time_group': {'time': '00:00:00', 'end_time': '06:00:00'}}\n",
    "cfg = new_yaml_group(yaml_base, grp)\n",
    "!raider.py {cfg}"
   ]
  },
  {
   "cell_type": "markdown",
   "id": "0ea094c7",
   "metadata": {},
   "source": [
    "## AOI Options"
   ]
  },
  {
   "cell_type": "code",
   "execution_count": null,
   "id": "6e582efe",
   "metadata": {},
   "outputs": [],
   "source": [
    "# bbox\n",
    "!raider.py {yaml_base}"
   ]
  },
  {
   "cell_type": "code",
   "execution_count": null,
   "id": "82b7b71f",
   "metadata": {},
   "outputs": [],
   "source": [
    "##TODO: Change to ++process\n",
    "\n",
    "# bbox global for GNSS\n",
    "grp = {'aoi_group': {'bounding_box': '-90 90 -180 180'}}\n",
    "cfg = new_yaml_group(yaml_base, grp)\n",
    "\n",
    "# !raider.py {cfg} --dostep download_gnss"
   ]
  },
  {
   "cell_type": "code",
   "execution_count": null,
   "id": "544d9d57",
   "metadata": {},
   "outputs": [],
   "source": [
    "# geocoded file (GUNW)\n",
    "prod = 'S1-GUNW-D-R-071-tops-20200130_20200124-135156-34956N_32979N-PP-913f-v2_0_4.nc'\n",
    "grp  = {'aoi_group': {'geocoded_file': op.join(work_dir, 'data', prod)}}\n",
    "cfg  = new_yaml_group(yaml_base, grp)\n",
    "!raider.py {cfg}"
   ]
  },
  {
   "cell_type": "code",
   "execution_count": null,
   "id": "1b7264d7",
   "metadata": {},
   "outputs": [],
   "source": [
    "!gdalinfo {work_dir}/GMAO_wet_20200103T000000_ztd.GTiff"
   ]
  },
  {
   "cell_type": "code",
   "execution_count": null,
   "id": "ced94fa9",
   "metadata": {},
   "outputs": [],
   "source": [
    "# geocoded file (SRTM DEM)\n",
    "dem  = op.join(work_dir, 'data', 'SRTM_3arcsec_LA.dem')\n",
    "\n",
    "grp  = {'aoi_group': {'geocoded_file': dem}}\n",
    "cfg  = new_yaml_group(yaml_base, grp)\n",
    "!raider.py {cfg}"
   ]
  },
  {
   "cell_type": "code",
   "execution_count": null,
   "id": "06174c8a",
   "metadata": {},
   "outputs": [],
   "source": [
    "!gdalinfo {work_dir}/GMAO_wet_20200103T000000_ztd.GTiff -stats"
   ]
  },
  {
   "cell_type": "code",
   "execution_count": null,
   "id": "479c8c9e",
   "metadata": {},
   "outputs": [],
   "source": [
    "# ISCE lat/lon files (Hampton Roads)\n",
    "# this downloads the DEM and intersects it\n",
    "\n",
    "grp = {\n",
    "    'aoi_group': {\n",
    "        'lat_file': f'{work_dir}/data/lat_HR.geo',\n",
    "        'lon_file': f'{work_dir}/data/lon_HR.geo'\n",
    "    },\n",
    "    'weather_model': 'ERA5',\n",
    "    'date_group': {'date_start': '20181113'},\n",
    "    'time_group': {'time': '23:00:00'}\n",
    "}\n",
    "\n",
    "cfg = new_yaml_group(yaml_base, grp)\n",
    "# !raider.py {cfg}\n",
    "\n",
    "## store it for use later\n",
    "# shutil.copy(f'{work_dir}/GLO30_fullres_dem.tif', f'{work_dir}/data/GLO30_fullres_dem_HR.tif')"
   ]
  },
  {
   "cell_type": "code",
   "execution_count": null,
   "id": "777af6e1",
   "metadata": {},
   "outputs": [],
   "source": [
    "# gnss station file\n",
    "yaml_gnss = yaml_base.replace('bbox', 'GNSS')\n",
    "\n",
    "!raider.py {yaml_gnss}"
   ]
  },
  {
   "cell_type": "markdown",
   "id": "694b2f8c",
   "metadata": {},
   "source": [
    "## Height Options"
   ]
  },
  {
   "cell_type": "code",
   "execution_count": null,
   "id": "fb0965d9",
   "metadata": {},
   "outputs": [],
   "source": [
    "# list of heights\n",
    "!raider.py {yaml_base}"
   ]
  },
  {
   "cell_type": "code",
   "execution_count": null,
   "id": "7fc334ef",
   "metadata": {},
   "outputs": [],
   "source": [
    "# check its not all nan\n",
    "with xr.open_dataset(f'{work_dir}/GMAO_tropo_20200103T000000_ztd.nc') as ds:\n",
    "    print (ds['wet'].mean())"
   ]
  },
  {
   "cell_type": "code",
   "execution_count": null,
   "id": "5be5e6c1",
   "metadata": {},
   "outputs": [],
   "source": [
    "# dem (use lat lon at DEM)\n",
    "grp  = {'height_group': {'dem': f'{work_dir}/data/SRTM_3arcsec_LA.dem', 'use_dem_latlon': True}}\n",
    "cfg  = new_yaml_group(yaml_base, grp)\n",
    "\n",
    "!raider.py {cfg}"
   ]
  },
  {
   "cell_type": "code",
   "execution_count": null,
   "id": "ec924888",
   "metadata": {},
   "outputs": [],
   "source": [
    "# check its not all nan\n",
    "!gdalinfo {work_dir}/GMAO_wet_20200103T000000_ztd.GTiff -stats"
   ]
  },
  {
   "cell_type": "code",
   "execution_count": null,
   "id": "d9fee805",
   "metadata": {},
   "outputs": [],
   "source": [
    "# ISCE lat/lonfiles (Hampton Roads)\n",
    "\n",
    "grp = {\n",
    "    'aoi_group': {\n",
    "        'lat_file': f'{work_dir}/data/lat_HR.geo',\n",
    "        'lon_file': f'{work_dir}/data/lon_HR.geo'\n",
    "    }, \n",
    "    'height_group': {},\n",
    "    #'height_group': {'dem': f'{work_dir}/data/GLO30_fullres_dem_HR.tif'}, # written above in AOI\n",
    "    'weather_model': 'ERA5',\n",
    "    'date_group': {'date_start': '20181113'},\n",
    "    'time_group': {'time': '23:00:00'}\n",
    "}\n",
    "\n",
    "cfg = new_yaml_group(yaml_base, grp)\n",
    "!raider.py {cfg}"
   ]
  },
  {
   "cell_type": "code",
   "execution_count": null,
   "id": "5d66057e",
   "metadata": {},
   "outputs": [],
   "source": [
    "# check its not all nan\n",
    "!gdalinfo {work_dir}/ERA5_wet_20181113T230000_ztd.GTiff -stats"
   ]
  },
  {
   "cell_type": "code",
   "execution_count": null,
   "id": "a7b08d43",
   "metadata": {},
   "outputs": [],
   "source": [
    "# ISCE lat/lon/hgt files (Hampton Roads)\n",
    "grp = {\n",
    "    'aoi_group': {\n",
    "        'lat_file': f'{work_dir}/data/lat_HR.geo',\n",
    "        'lon_file': f'{work_dir}/data/lon_HR.geo'\n",
    "    },\n",
    "    'height_group': {'height_file_rdr': f'{work_dir}/data/dem_HR.crop'},\n",
    "    'weather_model': 'ERA5',\n",
    "    'date_group': {'date_start': '20181113'},\n",
    "    'time_group': {'time': '23:00:00'}\n",
    "}\n",
    "\n",
    "cfg = new_yaml_group(yaml_base, grp)\n",
    "!raider.py {cfg}"
   ]
  },
  {
   "cell_type": "code",
   "execution_count": null,
   "id": "ac80aea5",
   "metadata": {},
   "outputs": [],
   "source": [
    "# check valid\n",
    "!gdalinfo {work_dir}/ERA5_wet_20181113T230000_ztd.GTiff -stats"
   ]
  },
  {
   "cell_type": "markdown",
   "id": "0d6c3c22",
   "metadata": {},
   "source": [
    "## LOS Options"
   ]
  },
  {
   "cell_type": "code",
   "execution_count": null,
   "id": "9c2b3233",
   "metadata": {},
   "outputs": [],
   "source": [
    "yaml_orbit = op.join(work_dir, 'example_yamls', 'raider_example_UK-isce.yaml')\n",
    "orbit_file = op.join(work_dir, 'orbits', 'S1B_OPER_AUX_POEORB_OPOD_20211122T112354_V20211101T225942_20211103T005942.EOF')"
   ]
  },
  {
   "cell_type": "code",
   "execution_count": null,
   "id": "c0bac093",
   "metadata": {},
   "outputs": [],
   "source": [
    "# orbit file, bounding box, height levels, ray_trace\n",
    "!raider.py {yaml_orbit}"
   ]
  },
  {
   "cell_type": "code",
   "execution_count": null,
   "id": "efb938b2",
   "metadata": {},
   "outputs": [],
   "source": [
    "# check its not all nan\n",
    "with xr.open_dataset(f'{work_dir}/ERA5_tropo_20211102T062159_ray.nc') as ds:\n",
    "    print (ds['wet'].mean())"
   ]
  },
  {
   "cell_type": "code",
   "execution_count": null,
   "id": "570d3995",
   "metadata": {},
   "outputs": [],
   "source": [
    "# orbit file, bounding box, height levels, projection\n",
    "grp  = {\n",
    "    'los_group': {\n",
    "        'ray_trace': False,\n",
    "        'orbit_file': orbit_file\n",
    "    }\n",
    "}\n",
    "cfg  = new_yaml_group(yaml_orbit, grp)\n",
    "!raider.py {cfg}"
   ]
  },
  {
   "cell_type": "code",
   "execution_count": null,
   "id": "2f424c26",
   "metadata": {},
   "outputs": [],
   "source": [
    "# check its not all nan\n",
    "with xr.open_dataset(f'{work_dir}/ERA5_tropo_20211102T062159_std.nc') as ds:\n",
    "    print (ds['wet'].mean())"
   ]
  },
  {
   "cell_type": "code",
   "execution_count": null,
   "id": "43a53108",
   "metadata": {},
   "outputs": [],
   "source": [
    "# orbit file, bounding box, NO height levels (so at weather model zlevels)\n",
    "grp  = {'height_group': {}}\n",
    "cfg  = new_yaml_group(yaml_orbit, grp)\n",
    "!raider.py {cfg}"
   ]
  },
  {
   "cell_type": "code",
   "execution_count": null,
   "id": "545f01ed",
   "metadata": {},
   "outputs": [],
   "source": [
    "# check its not all nan\n",
    "with xr.open_dataset(f'{work_dir}/ERA5_tropo_20211102T062159_ray.nc') as ds:\n",
    "    print (ds['wet'].mean())"
   ]
  },
  {
   "cell_type": "code",
   "execution_count": null,
   "id": "2ef2d16d",
   "metadata": {},
   "outputs": [],
   "source": [
    "# orbit file, bounding box, NO height levels (so at weather model zlevels), projection\n",
    "grp  = {'height_group': {}, 'los_group': {'ray_trace': False}}\n",
    "cfg  = new_yaml_group(yaml_orbit, grp)\n",
    "!raider.py {cfg}"
   ]
  },
  {
   "cell_type": "code",
   "execution_count": null,
   "id": "8cb77ec1",
   "metadata": {},
   "outputs": [],
   "source": [
    "# check its not all nan\n",
    "with xr.open_dataset(f'{work_dir}/ERA5_tropo_20211102T062159_ztd.nc') as ds:\n",
    "    print (ds['wet'].mean())"
   ]
  },
  {
   "cell_type": "code",
   "execution_count": null,
   "id": "f2e8d54e",
   "metadata": {},
   "outputs": [],
   "source": [
    "# orbit file, lat/lon grid, no ray tracing\n",
    "orbit_file_HR = op.join(work_dir, 'orbits', 'S1A_OPER_AUX_POEORB_OPOD_20181203T120749_V20181112T225942_20181114T005942.EOF')\n",
    "\n",
    "grp = {\n",
    "    'aoi_group': {\n",
    "        'lat_file': f'{work_dir}/data/lat_HR.geo',\n",
    "        'lon_file': f'{work_dir}/data/lon_HR.geo'\n",
    "    },\n",
    "    'height_group': {'dem': f'{work_dir}/data/GLO30_fullres_dem_HR.tif'}, # written above in AOI\n",
    "    'weather_model': 'ERA5',\n",
    "    'date_group': {'date_start': '20181113'},\n",
    "    'time_group': {'time': '23:00:00'},\n",
    "    'los_group':  {\n",
    "        'ray_trace': True,\n",
    "        'orbit_file': orbit_file_HR\n",
    "    }\n",
    "}\n",
    "\n",
    "cfg = new_yaml_group(yaml_base, grp)\n",
    "!raider.py {cfg}"
   ]
  },
  {
   "cell_type": "code",
   "execution_count": null,
   "id": "4d196ffb",
   "metadata": {},
   "outputs": [],
   "source": [
    "!gdalinfo {work_dir}/ERA5_wet_20181113T230000_std.GTiff -stats"
   ]
  },
  {
   "cell_type": "code",
   "execution_count": null,
   "id": "a9aabcff",
   "metadata": {},
   "outputs": [],
   "source": [
    "# orbit file, lat/lon grid,  ray tracing\n",
    "orbit_file_HR = op.join(work_dir, 'orbits', 'S1A_OPER_AUX_POEORB_OPOD_20181203T120749_V20181112T225942_20181114T005942.EOF')\n",
    "\n",
    "grp = {\n",
    "    'aoi_group': {\n",
    "        'lat_file': f'{work_dir}/data/lat_HR.geo',\n",
    "        'lon_file': f'{work_dir}/data/lon_HR.geo'\n",
    "    },\n",
    "    'height_group': {'dem': f'{work_dir}/data/GLO30_fullres_dem_HR.tif'}, # written above in AOI\n",
    "    'weather_model': 'ERA5',\n",
    "    'date_group': {'date_start': '20181113'},\n",
    "    'time_group': {'time': '23:00:00'},\n",
    "    'los_group':  {\n",
    "        'ray_trace': True,\n",
    "        'orbit_file': orbit_file_HR\n",
    "    }\n",
    "}\n",
    "\n",
    "cfg = new_yaml_group(yaml_base, grp)\n",
    "!raider.py {cfg}"
   ]
  },
  {
   "cell_type": "code",
   "execution_count": null,
   "id": "ba273a5f",
   "metadata": {},
   "outputs": [],
   "source": [
    "!gdalinfo {work_dir}/ERA5_wet_20181113T230000_ray.GTiff -stats"
   ]
  },
  {
   "cell_type": "markdown",
   "id": "d336c7ee",
   "metadata": {
    "heading_collapsed": true
   },
   "source": [
    "## Projection Options"
   ]
  },
  {
   "cell_type": "code",
   "execution_count": null,
   "id": "5ab99f03",
   "metadata": {
    "hidden": true
   },
   "outputs": [],
   "source": [
    "# os.chdir('UTM_DEM')"
   ]
  },
  {
   "cell_type": "code",
   "execution_count": null,
   "id": "092645ac",
   "metadata": {
    "hidden": true
   },
   "outputs": [],
   "source": [
    "## UTM DEM with WGS Model\n",
    "# !raider.py raiderDelay_utm_CA-ERA5.yaml"
   ]
  },
  {
   "cell_type": "code",
   "execution_count": null,
   "id": "b9d9479b",
   "metadata": {
    "hidden": true
   },
   "outputs": [],
   "source": [
    "## UTM DEM with UTM Model\n",
    "# !raider.py raiderDelay_utm_CA-HRRR.yaml"
   ]
  },
  {
   "cell_type": "code",
   "execution_count": null,
   "id": "755f2930",
   "metadata": {
    "hidden": true
   },
   "outputs": [],
   "source": [
    "## WGS DEM with UTM Model\n",
    "# !raider.py raiderDelay_geo_CA-HRRR.yaml"
   ]
  },
  {
   "cell_type": "code",
   "execution_count": null,
   "id": "cbf4d443",
   "metadata": {
    "hidden": true
   },
   "outputs": [],
   "source": [
    "# os.chdir('..')"
   ]
  }
 ],
 "metadata": {
  "celltoolbar": "Initialization Cell",
  "kernelspec": {
   "display_name": "Python 3 (ipykernel)",
   "language": "python",
   "name": "python3"
  },
  "language_info": {
   "codemirror_mode": {
    "name": "ipython",
    "version": 3
   },
   "file_extension": ".py",
   "mimetype": "text/x-python",
   "name": "python",
   "nbconvert_exporter": "python",
   "pygments_lexer": "ipython3",
   "version": "3.12.3"
  }
 },
 "nbformat": 4,
 "nbformat_minor": 5
}
