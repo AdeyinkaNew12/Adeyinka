{
 "cells": [
  {
   "cell_type": "code",
   "execution_count": 1,
   "id": "9aa3f367",
   "metadata": {
    "init_cell": true,
    "scrolled": true
   },
   "outputs": [
    {
     "name": "stdout",
     "output_type": "stream",
     "text": [
      "Tutorial directory:  /Users/buzzanga/Software_InSAR/RAiDER-docs_git/notebooks/RAiDER_options\n",
      "Work directory:  /Users/buzzanga/Software_InSAR/RAiDER-docs_git/notebooks/RAiDER_options\n"
     ]
    }
   ],
   "source": [
    "import os, os.path as op\n",
    "import shutil\n",
    "import yaml\n",
    "import numpy as np\n",
    "import matplotlib.pyplot as plt\n",
    "from mpl_toolkits.axes_grid1 import make_axes_locatable\n",
    "\n",
    "import pandas as pd\n",
    "import xarray as xr\n",
    "from wand.image import Image as WImage\n",
    "\n",
    "## Defining the home and data directories\n",
    "tutorial_home_dir = os.path.abspath(os.getcwd())\n",
    "work_dir = os.path.abspath(os.getcwd())\n",
    "print(\"Tutorial directory: \", tutorial_home_dir)\n",
    "print(\"Work directory: \", work_dir)\n",
    "\n",
    "# Verifying if RAiDER is installed correctly\n",
    "try:\n",
    "    import RAiDER\n",
    "except:\n",
    "    raise Exception('RAiDER is missing from your PYTHONPATH')\n",
    "\n",
    "os.chdir(work_dir)"
   ]
  },
  {
   "cell_type": "code",
   "execution_count": 5,
   "id": "88210cbf",
   "metadata": {},
   "outputs": [],
   "source": [
    "if not op.exists(op.join(work_dir, 'data')):\n",
    "    !unzip -a data.zip"
   ]
  },
  {
   "cell_type": "code",
   "execution_count": 58,
   "id": "6ed274a3",
   "metadata": {},
   "outputs": [
    {
     "name": "stdout",
     "output_type": "stream",
     "text": [
      "Input file size is 1459, 1081\n",
      "0...10...20...30...40...50...60...70...80...90...100 - done.\n",
      "(1459, 1081) (1459, 1081)\n"
     ]
    }
   ],
   "source": [
    "## make lat lon files\n",
    "src = op.join(work_dir, 'data', 'los_HR.rdr.geo')\n",
    "dst = op.join(work_dir, 'data', 'los_HR.rdr.geo.nc')\n",
    "!gdal_translate {src} {dst} -of netcdf\n",
    "ds_base   = xr.open_dataset(dst)                        \n",
    "\n",
    "Lat, Lon  = np.meshgrid(ds_base.lat.data, ds_base.lon.data)\n",
    "print (Lat.shape, Lon.shape)\n",
    "\n",
    "da_lat = xr.DataArray(Lat.T, coords=[Lon[0, :], Lat[:, 0]], dims='lon lat'.split())\n",
    "da_lon = xr.DataArray(Lon.T, coords=[Lon[0, :], Lat[:, 0]], dims='lon lat'.split())\n",
    "\n",
    "da_lat.to_netcdf(op.join(work_dir, 'data', 'lat_HR.geo'))\n",
    "da_lon.to_netcdf(op.join(work_dir, 'data', 'lon_HR.geo'))"
   ]
  },
  {
   "cell_type": "markdown",
   "id": "2c5f91f7",
   "metadata": {
    "heading_collapsed": true
   },
   "source": [
    "### Helpers"
   ]
  },
  {
   "cell_type": "code",
   "execution_count": 2,
   "id": "73236916",
   "metadata": {
    "hidden": true,
    "init_cell": true
   },
   "outputs": [],
   "source": [
    "def new_yaml_group(example_yaml, dct_group, dst='tmp.yaml'):\n",
    "    \"\"\" Write a temporary yaml file with the new 'value' for 'key', preserving parms in example_yaml\"\"\"\n",
    "    with open(example_yaml, 'r') as f:\n",
    "        try:\n",
    "            params = yaml.safe_load(f)\n",
    "        except yaml.YAMLError as exc:\n",
    "            print(exc)\n",
    "            raise ValueError(f'Something is wrong with the yaml file {example_yaml}')\n",
    "    \n",
    "    params = {**params, **dct_group}\n",
    "    dst = op.join(os.path.dirname(example_yaml), dst)\n",
    "#     print (params)\n",
    "    \n",
    "    with open(dst, 'w') as fh:\n",
    "        yaml.dump(params, fh, default_flow_style=False)\n",
    "    \n",
    "    print ('Wrote new cfg file:', dst)\n",
    "    return dst"
   ]
  },
  {
   "cell_type": "code",
   "execution_count": 3,
   "id": "5bccf371",
   "metadata": {
    "hidden": true,
    "init_cell": true
   },
   "outputs": [],
   "source": [
    "yaml_base = os.path.join(tutorial_home_dir, 'example_yamls', 'raider_example_LA_bbox.yaml')"
   ]
  },
  {
   "cell_type": "code",
   "execution_count": 91,
   "id": "ea1d2706",
   "metadata": {
    "hidden": true
   },
   "outputs": [
    {
     "name": "stdout",
     "output_type": "stream",
     "text": [
      "Starting to run the weather model calculation\n",
      "Time: 20200103\n",
      "Beginning weather model pre-processing\n",
      "\u001b[33;21mWARNING: Weather model already exists, please remove it (\"['/Users/buzzanga/Software_InSAR/RAiDER-docs_git/notebooks/RAiDER_options/weather_files/GMAO_2020_01_03_T00_00_00.nc']\") if you want to download a new one.\u001b[0m\n",
      "Extent of the weather model is (xmin, ymin, xmax, ymax):-123.75, 27.50, -111.25, 39.50\n",
      "Extent of the input is (xmin, ymin, xmax, ymax): -123.00, 28.00, -112.00, 39.00\n",
      "\u001b[33;21mWARNING: The processed weather model file already exists, so I will use that.\u001b[0m\n",
      "Output SNWE: [28.0, 39.02, -123.0, -111.98]\n",
      "Output cube spacing: 0.02\n",
      "Wrote delays to: /Users/buzzanga/Software_InSAR/RAiDER-docs_git/notebooks/RAiDER_options/GMAO_tropo_20200103T000000_ztd.nc\n"
     ]
    }
   ],
   "source": [
    "# check the base file works\n",
    "!raider.py {yaml_base}"
   ]
  },
  {
   "cell_type": "markdown",
   "id": "e0ce6867",
   "metadata": {
    "heading_collapsed": true
   },
   "source": [
    "## Models"
   ]
  },
  {
   "cell_type": "code",
   "execution_count": 68,
   "id": "e13f4bf6",
   "metadata": {
    "hidden": true
   },
   "outputs": [
    {
     "name": "stdout",
     "output_type": "stream",
     "text": [
      "Testing Models ['ERA5', 'ERA5T', 'HRRR', 'GMAO', 'HRES']\n"
     ]
    }
   ],
   "source": [
    "from RAiDER.models.allowed import ALLOWED_MODELS\n",
    "models = ALLOWED_MODELS.copy()\n",
    "models.remove('NCMR')\n",
    "print ('Testing Models:', models)"
   ]
  },
  {
   "cell_type": "code",
   "execution_count": 84,
   "id": "08cacfeb",
   "metadata": {
    "hidden": true
   },
   "outputs": [],
   "source": [
    "## may want to test downloading\n",
    "shutil.rmtree('weather_files')"
   ]
  },
  {
   "cell_type": "code",
   "execution_count": 85,
   "id": "d4f71dad",
   "metadata": {
    "hidden": true
   },
   "outputs": [
    {
     "name": "stdout",
     "output_type": "stream",
     "text": [
      "Wrote new cfg file: /Users/buzzanga/Software_InSAR/RAiDER-docs_git/notebooks/RAiDER_tutorial/example_yamls/tmp.yaml\n",
      "Running: ERA5\n",
      "Starting to run the weather model calculation\n",
      "Time type: <class 'datetime.datetime'>\n",
      "Time: 20200103\n",
      "Max integration height is 15000.0 m\n",
      "Beginning weather model pre-processing\n",
      "Weather model ERA-5 is available from 1950-01-01 00:00:00-Present\n",
      "/Users/buzzanga/Miniconda3/envs/RAiDER/lib/python3.10/site-packages/urllib3/connectionpool.py:1045: InsecureRequestWarning: Unverified HTTPS request is being made to host 'cds.climate.copernicus.eu'. Adding certificate verification is strongly advised. See: https://urllib3.readthedocs.io/en/1.26.x/advanced-usage.html#ssl-warnings\n",
      "  warnings.warn(\n",
      "2022-11-29 18:30:52,889 INFO Welcome to the CDS\n",
      "2022-11-29 18:30:52,890 INFO Sending request to https://cds.climate.copernicus.eu/api/v2/resources/reanalysis-era5-complete\n",
      "/Users/buzzanga/Miniconda3/envs/RAiDER/lib/python3.10/site-packages/urllib3/connectionpool.py:1045: InsecureRequestWarning: Unverified HTTPS request is being made to host 'cds.climate.copernicus.eu'. Adding certificate verification is strongly advised. See: https://urllib3.readthedocs.io/en/1.26.x/advanced-usage.html#ssl-warnings\n",
      "  warnings.warn(\n",
      "2022-11-29 18:30:53,120 INFO Request is completed\n",
      "2022-11-29 18:30:53,120 INFO Downloading https://download-0019.copernicus-climate.eu/cache-compute-0019/cache/data2/adaptor.mars.external-1669773521.3902743-635-3-13bb7945-abc7-45d3-9e38-305f38658b6b.nc to /Users/buzzanga/Software_InSAR/RAiDER-docs_git/notebooks/RAiDER_tutorial/weather_files/ERA-5_2020_01_03_T00_00_00.nc (422K)\n",
      "/Users/buzzanga/Miniconda3/envs/RAiDER/lib/python3.10/site-packages/urllib3/connectionpool.py:1045: InsecureRequestWarning: Unverified HTTPS request is being made to host 'download-0019.copernicus-climate.eu'. Adding certificate verification is strongly advised. See: https://urllib3.readthedocs.io/en/1.26.x/advanced-usage.html#ssl-warnings\n",
      "  warnings.warn(\n",
      "2022-11-29 18:30:54,637 INFO Download rate 278.3K/s                             \n",
      "/Users/buzzanga/Miniconda3/envs/RAiDER/lib/python3.10/site-packages/urllib3/connectionpool.py:1045: InsecureRequestWarning: Unverified HTTPS request is being made to host 'cds.climate.copernicus.eu'. Adding certificate verification is strongly advised. See: https://urllib3.readthedocs.io/en/1.26.x/advanced-usage.html#ssl-warnings\n",
      "  warnings.warn(\n",
      "\u001b[33;21mWARNING: download_only flag selected. No further processing will happen.\u001b[0m\n",
      "2022-11-29 18:30:54,811 WARNING download_only flag selected. No further processing will happen.\n",
      "Weather model has downloaded. Finished.\n",
      "2022-11-29 18:30:54,812 DEBUG Weather model has downloaded. Finished.\n"
     ]
    }
   ],
   "source": [
    "for model in models:\n",
    "    grp  = {'weather_model': model}\n",
    "    cfg  = new_yaml_group(yaml_base, grp)\n",
    "    print ('Running:', model)\n",
    "    !raider.py {cfg} \n",
    "    "
   ]
  },
  {
   "cell_type": "markdown",
   "id": "044f55ca",
   "metadata": {
    "heading_collapsed": true
   },
   "source": [
    "## Date Options"
   ]
  },
  {
   "cell_type": "code",
   "execution_count": 92,
   "id": "8ec06939",
   "metadata": {
    "hidden": true
   },
   "outputs": [],
   "source": [
    "# date start only is default"
   ]
  },
  {
   "cell_type": "code",
   "execution_count": 93,
   "id": "36641aad",
   "metadata": {
    "hidden": true
   },
   "outputs": [
    {
     "name": "stdout",
     "output_type": "stream",
     "text": [
      "Wrote new cfg file: /Users/buzzanga/Software_InSAR/RAiDER-docs_git/notebooks/RAiDER_options/example_yamls/tmp.yaml\n",
      "Starting to run the weather model calculation\n",
      "Time: 20200103\n",
      "Beginning weather model pre-processing\n",
      "\u001b[33;21mWARNING: Weather model already exists, please remove it (\"['/Users/buzzanga/Software_InSAR/RAiDER-docs_git/notebooks/RAiDER_options/weather_files/GMAO_2020_01_03_T00_00_00.nc']\") if you want to download a new one.\u001b[0m\n",
      "Extent of the weather model is (xmin, ymin, xmax, ymax):-123.75, 27.50, -111.25, 39.50\n",
      "Extent of the input is (xmin, ymin, xmax, ymax): -123.00, 28.00, -112.00, 39.00\n",
      "\u001b[33;21mWARNING: The processed weather model file already exists, so I will use that.\u001b[0m\n",
      "Output SNWE: [28.0, 39.02, -123.0, -111.98]\n",
      "Output cube spacing: 0.02\n",
      "Wrote delays to: /Users/buzzanga/Software_InSAR/RAiDER-docs_git/notebooks/RAiDER_options/GMAO_tropo_20200103T000000_ztd.nc\n",
      "Starting to run the weather model calculation\n",
      "Time: 20200104\n",
      "Beginning weather model pre-processing\n",
      "Extent of the weather model is (xmin, ymin, xmax, ymax):-123.75, 27.50, -111.25, 39.50\n",
      "Extent of the input is (xmin, ymin, xmax, ymax): -123.00, 28.00, -112.00, 39.00\n",
      "\u001b[33;21mWARNING: The processed weather model file already exists, so I will use that.\u001b[0m\n",
      "Output SNWE: [28.0, 39.02, -123.0, -111.98]\n",
      "Output cube spacing: 0.02\n",
      "Wrote delays to: /Users/buzzanga/Software_InSAR/RAiDER-docs_git/notebooks/RAiDER_options/GMAO_tropo_20200104T000000_ztd.nc\n",
      "Starting to run the weather model calculation\n",
      "Time: 20200105\n",
      "Beginning weather model pre-processing\n",
      "Extent of the weather model is (xmin, ymin, xmax, ymax):-123.75, 27.50, -111.25, 39.50\n",
      "Extent of the input is (xmin, ymin, xmax, ymax): -123.00, 28.00, -112.00, 39.00\n",
      "\u001b[33;21mWARNING: The processed weather model file already exists, so I will use that.\u001b[0m\n",
      "Output SNWE: [28.0, 39.02, -123.0, -111.98]\n",
      "Output cube spacing: 0.02\n",
      "Wrote delays to: /Users/buzzanga/Software_InSAR/RAiDER-docs_git/notebooks/RAiDER_options/GMAO_tropo_20200105T000000_ztd.nc\n",
      "Starting to run the weather model calculation\n",
      "Time: 20200106\n",
      "Beginning weather model pre-processing\n",
      "Extent of the weather model is (xmin, ymin, xmax, ymax):-123.75, 27.50, -111.25, 39.50\n",
      "Extent of the input is (xmin, ymin, xmax, ymax): -123.00, 28.00, -112.00, 39.00\n",
      "\u001b[33;21mWARNING: The processed weather model file already exists, so I will use that.\u001b[0m\n",
      "Output SNWE: [28.0, 39.02, -123.0, -111.98]\n",
      "Output cube spacing: 0.02\n",
      "Wrote delays to: /Users/buzzanga/Software_InSAR/RAiDER-docs_git/notebooks/RAiDER_options/GMAO_tropo_20200106T000000_ztd.nc\n",
      "Starting to run the weather model calculation\n",
      "Time: 20200107\n",
      "Beginning weather model pre-processing\n",
      "Extent of the weather model is (xmin, ymin, xmax, ymax):-123.75, 27.50, -111.25, 39.50\n",
      "Extent of the input is (xmin, ymin, xmax, ymax): -123.00, 28.00, -112.00, 39.00\n",
      "\u001b[33;21mWARNING: The processed weather model file already exists, so I will use that.\u001b[0m\n",
      "Output SNWE: [28.0, 39.02, -123.0, -111.98]\n",
      "Output cube spacing: 0.02\n",
      "Wrote delays to: /Users/buzzanga/Software_InSAR/RAiDER-docs_git/notebooks/RAiDER_options/GMAO_tropo_20200107T000000_ztd.nc\n"
     ]
    }
   ],
   "source": [
    "# date start and end\n",
    "grp = {'date_group': {'date_start' : 20200103, 'date_end': 20200107}}\n",
    "cfg = new_yaml_group(yaml_base, grp)\n",
    "!raider.py {cfg}"
   ]
  },
  {
   "cell_type": "code",
   "execution_count": 94,
   "id": "e3471500",
   "metadata": {
    "hidden": true
   },
   "outputs": [
    {
     "name": "stdout",
     "output_type": "stream",
     "text": [
      "Wrote new cfg file: /Users/buzzanga/Software_InSAR/RAiDER-docs_git/notebooks/RAiDER_options/example_yamls/tmp.yaml\n",
      "Starting to run the weather model calculation\n",
      "Time: 20200103\n",
      "Beginning weather model pre-processing\n",
      "\u001b[33;21mWARNING: Weather model already exists, please remove it (\"['/Users/buzzanga/Software_InSAR/RAiDER-docs_git/notebooks/RAiDER_options/weather_files/GMAO_2020_01_03_T00_00_00.nc']\") if you want to download a new one.\u001b[0m\n",
      "Extent of the weather model is (xmin, ymin, xmax, ymax):-123.75, 27.50, -111.25, 39.50\n",
      "Extent of the input is (xmin, ymin, xmax, ymax): -123.00, 28.00, -112.00, 39.00\n",
      "\u001b[33;21mWARNING: The processed weather model file already exists, so I will use that.\u001b[0m\n",
      "Output SNWE: [28.0, 39.02, -123.0, -111.98]\n",
      "Output cube spacing: 0.02\n",
      "Wrote delays to: /Users/buzzanga/Software_InSAR/RAiDER-docs_git/notebooks/RAiDER_options/GMAO_tropo_20200103T000000_ztd.nc\n",
      "Starting to run the weather model calculation\n",
      "Time: 20200105\n",
      "Beginning weather model pre-processing\n",
      "Extent of the weather model is (xmin, ymin, xmax, ymax):-123.75, 27.50, -111.25, 39.50\n",
      "Extent of the input is (xmin, ymin, xmax, ymax): -123.00, 28.00, -112.00, 39.00\n",
      "\u001b[33;21mWARNING: The processed weather model file already exists, so I will use that.\u001b[0m\n",
      "Output SNWE: [28.0, 39.02, -123.0, -111.98]\n",
      "Output cube spacing: 0.02\n",
      "Wrote delays to: /Users/buzzanga/Software_InSAR/RAiDER-docs_git/notebooks/RAiDER_options/GMAO_tropo_20200105T000000_ztd.nc\n",
      "Starting to run the weather model calculation\n",
      "Time: 20200107\n",
      "Beginning weather model pre-processing\n",
      "Extent of the weather model is (xmin, ymin, xmax, ymax):-123.75, 27.50, -111.25, 39.50\n",
      "Extent of the input is (xmin, ymin, xmax, ymax): -123.00, 28.00, -112.00, 39.00\n",
      "\u001b[33;21mWARNING: The processed weather model file already exists, so I will use that.\u001b[0m\n",
      "Output SNWE: [28.0, 39.02, -123.0, -111.98]\n",
      "Output cube spacing: 0.02\n",
      "Wrote delays to: /Users/buzzanga/Software_InSAR/RAiDER-docs_git/notebooks/RAiDER_options/GMAO_tropo_20200107T000000_ztd.nc\n"
     ]
    }
   ],
   "source": [
    "# date start and end every 2 days\n",
    "grp = {'date_group': {'date_start' : 20200103, 'date_end': 20200107, 'date_step': 2}}\n",
    "cfg = new_yaml_group(yaml_base, grp)\n",
    "!raider.py {cfg}"
   ]
  },
  {
   "cell_type": "code",
   "execution_count": 95,
   "id": "0c404c22",
   "metadata": {
    "hidden": true
   },
   "outputs": [
    {
     "name": "stdout",
     "output_type": "stream",
     "text": [
      "Wrote new cfg file: /Users/buzzanga/Software_InSAR/RAiDER-docs_git/notebooks/RAiDER_options/example_yamls/tmp.yaml\n",
      "Starting to run the weather model calculation\n",
      "Time: 20200110\n",
      "Beginning weather model pre-processing\n",
      "\u001b[33;21mWARNING: Weather model already exists, please remove it (\"['/Users/buzzanga/Software_InSAR/RAiDER-docs_git/notebooks/RAiDER_options/weather_files/GMAO_2020_01_10_T00_00_00.nc']\") if you want to download a new one.\u001b[0m\n",
      "Extent of the weather model is (xmin, ymin, xmax, ymax):-123.75, 27.50, -111.25, 39.50\n",
      "Extent of the input is (xmin, ymin, xmax, ymax): -123.00, 28.00, -112.00, 39.00\n",
      "\u001b[33;21mWARNING: The processed weather model file already exists, so I will use that.\u001b[0m\n",
      "Output SNWE: [28.0, 39.02, -123.0, -111.98]\n",
      "Output cube spacing: 0.02\n",
      "Wrote delays to: /Users/buzzanga/Software_InSAR/RAiDER-docs_git/notebooks/RAiDER_options/GMAO_tropo_20200110T000000_ztd.nc\n",
      "Starting to run the weather model calculation\n",
      "Time: 20200115\n",
      "Beginning weather model pre-processing\n",
      "Extent of the weather model is (xmin, ymin, xmax, ymax):-123.75, 27.50, -111.25, 39.50\n",
      "Extent of the input is (xmin, ymin, xmax, ymax): -123.00, 28.00, -112.00, 39.00\n",
      "\u001b[33;21mWARNING: The processed weather model file already exists, so I will use that.\u001b[0m\n",
      "Output SNWE: [28.0, 39.02, -123.0, -111.98]\n",
      "Output cube spacing: 0.02\n",
      "Wrote delays to: /Users/buzzanga/Software_InSAR/RAiDER-docs_git/notebooks/RAiDER_options/GMAO_tropo_20200115T000000_ztd.nc\n"
     ]
    }
   ],
   "source": [
    "# list of dates\n",
    "grp = {'date_group': {'date_list': [20200110, 20200115]}}\n",
    "cfg = new_yaml_group(yaml_base, grp)\n",
    "!raider.py {cfg}"
   ]
  },
  {
   "cell_type": "markdown",
   "id": "27f57e39",
   "metadata": {
    "heading_collapsed": true
   },
   "source": [
    "## Time Options"
   ]
  },
  {
   "cell_type": "code",
   "execution_count": 96,
   "id": "18426a14",
   "metadata": {
    "hidden": true
   },
   "outputs": [],
   "source": [
    "# start time only is default"
   ]
  },
  {
   "cell_type": "code",
   "execution_count": 97,
   "id": "3b7b0b69",
   "metadata": {
    "hidden": true
   },
   "outputs": [
    {
     "name": "stdout",
     "output_type": "stream",
     "text": [
      "Wrote new cfg file: /Users/buzzanga/Software_InSAR/RAiDER-docs_git/notebooks/RAiDER_options/example_yamls/tmp.yaml\n",
      "Starting to run the weather model calculation\n",
      "Time: 20200103\n",
      "Beginning weather model pre-processing\n",
      "\u001b[33;21mWARNING: Weather model already exists, please remove it (\"['/Users/buzzanga/Software_InSAR/RAiDER-docs_git/notebooks/RAiDER_options/weather_files/GMAO_2020_01_03_T00_00_00.nc']\") if you want to download a new one.\u001b[0m\n",
      "Extent of the weather model is (xmin, ymin, xmax, ymax):-123.75, 27.50, -111.25, 39.50\n",
      "Extent of the input is (xmin, ymin, xmax, ymax): -123.00, 28.00, -112.00, 39.00\n",
      "\u001b[33;21mWARNING: The processed weather model file already exists, so I will use that.\u001b[0m\n",
      "Output SNWE: [28.0, 39.02, -123.0, -111.98]\n",
      "Output cube spacing: 0.02\n",
      "Wrote delays to: /Users/buzzanga/Software_InSAR/RAiDER-docs_git/notebooks/RAiDER_options/GMAO_tropo_20200103T000000_ztd.nc\n"
     ]
    }
   ],
   "source": [
    "# start and end time\n",
    "grp = {'time_group': {'time': '00:00:00', 'end_time': '06:00:00'}}\n",
    "cfg = new_yaml_group(yaml_base, grp)\n",
    "!raider.py {cfg}"
   ]
  },
  {
   "cell_type": "markdown",
   "id": "0ea094c7",
   "metadata": {},
   "source": [
    "## AOI Options"
   ]
  },
  {
   "cell_type": "code",
   "execution_count": 135,
   "id": "6e582efe",
   "metadata": {},
   "outputs": [
    {
     "name": "stdout",
     "output_type": "stream",
     "text": [
      "Starting to run the weather model calculation\n",
      "Time: 20200103\n",
      "Beginning weather model pre-processing\n",
      "\u001b[33;21mWARNING: Weather model already exists, please remove it (\"['/Users/buzzanga/Software_InSAR/RAiDER-docs_git/notebooks/RAiDER_options/weather_files/GMAO_2020_01_03_T00_00_00.nc']\") if you want to download a new one.\u001b[0m\n",
      "Extent of the weather model is (xmin, ymin, xmax, ymax):-123.75, 27.50, -111.25, 39.50\n",
      "Extent of the input is (xmin, ymin, xmax, ymax): -123.00, 28.00, -112.00, 39.00\n",
      "\u001b[33;21mWARNING: The processed weather model file already exists, so I will use that.\u001b[0m\n",
      "Output SNWE: [28.0, 39.02, -123.0, -111.98]\n",
      "Output cube spacing: 0.02\n",
      "Wrote delays to: /Users/buzzanga/Software_InSAR/RAiDER-docs_git/notebooks/RAiDER_options/GMAO_tropo_20200103T000000_ztd.nc\n"
     ]
    }
   ],
   "source": [
    "# bbox \n",
    "!raider.py {yaml_base}"
   ]
  },
  {
   "cell_type": "code",
   "execution_count": 99,
   "id": "82b7b71f",
   "metadata": {},
   "outputs": [
    {
     "name": "stdout",
     "output_type": "stream",
     "text": [
      "Wrote new cfg file: /Users/buzzanga/Software_InSAR/RAiDER-docs_git/notebooks/RAiDER_options/example_yamls/tmp.yaml\n"
     ]
    }
   ],
   "source": [
    "##TODO: Change to ++process\n",
    "\n",
    "# bbox global for GNSS\n",
    "grp  = {'aoi_group': {'bounding_box': '-90 90 -180 180'}}\n",
    "cfg  = new_yaml_group(yaml_base, grp)\n",
    "\n",
    "# !raider.py {cfg} --dostep download_gnss"
   ]
  },
  {
   "cell_type": "code",
   "execution_count": 136,
   "id": "544d9d57",
   "metadata": {},
   "outputs": [
    {
     "name": "stdout",
     "output_type": "stream",
     "text": [
      "Wrote new cfg file: /Users/buzzanga/Software_InSAR/RAiDER-docs_git/notebooks/RAiDER_options/example_yamls/tmp.yaml\n",
      "Starting to run the weather model calculation\n",
      "Time: 20200103\n",
      "Beginning weather model pre-processing\n",
      "\u001b[33;21mWARNING: Weather model already exists, please remove it (\"['/Users/buzzanga/Software_InSAR/RAiDER-docs_git/notebooks/RAiDER_options/weather_files/GMAO_2020_01_03_T00_00_00.nc']\") if you want to download a new one.\u001b[0m\n",
      "Extent of the weather model is (xmin, ymin, xmax, ymax):-123.75, 27.50, -111.25, 39.50\n",
      "Extent of the input is (xmin, ymin, xmax, ymax): -119.36, 32.98, -116.24, 34.96\n",
      "\u001b[33;21mWARNING: The processed weather model file already exists, so I will use that.\u001b[0m\n",
      "Output SNWE: [32.980000000000004, 34.980000000000004, -119.38, -116.22]\n",
      "Output cube spacing: 0.02\n",
      "/Users/buzzanga/Miniconda3/envs/RAiDER/lib/python3.10/site-packages/scipy/interpolate/_rgi.py:358: RuntimeWarning: invalid value encountered in add\n",
      "  values += np.asarray(self.values[edge_indices]) * weight[vslice]\n",
      "/Users/buzzanga/Miniconda3/envs/RAiDER/lib/python3.10/site-packages/rasterio/__init__.py:314: NotGeoreferencedWarning: Dataset has no geotransform, gcps, or rpcs. The identity matrix will be returned.\n",
      "  dataset = writer(\n",
      "Wrote: /Users/buzzanga/Software_InSAR/RAiDER-docs_git/notebooks/RAiDER_options/GMAO_wet_20200103T000000_ztd.GTiff\n",
      "Wrote: /Users/buzzanga/Software_InSAR/RAiDER-docs_git/notebooks/RAiDER_options/GMAO_hydro_20200103T000000_ztd.GTiff\n"
     ]
    }
   ],
   "source": [
    "# geocoded file (GUNW)\n",
    "prod = 'S1-GUNW-D-R-071-tops-20200130_20200124-135156-34956N_32979N-PP-913f-v2_0_4.nc'\n",
    "grp  = {'aoi_group': {'geocoded_file': op.join(work_dir, 'data', prod)}}\n",
    "cfg  = new_yaml_group(yaml_base, grp)\n",
    "!raider.py {cfg}"
   ]
  },
  {
   "cell_type": "code",
   "execution_count": 139,
   "id": "ced94fa9",
   "metadata": {},
   "outputs": [
    {
     "name": "stdout",
     "output_type": "stream",
     "text": [
      "Wrote new cfg file: /Users/buzzanga/Software_InSAR/RAiDER-docs_git/notebooks/RAiDER_options/example_yamls/tmp.yaml\n",
      "Using user DEM: SRTM_3ARCSEC_LA.DEM\n",
      "Starting to run the weather model calculation\n",
      "Time: 20200103\n",
      "Beginning weather model pre-processing\n",
      "\u001b[33;21mWARNING: Weather model already exists, please remove it (\"['/Users/buzzanga/Software_InSAR/RAiDER-docs_git/notebooks/RAiDER_options/weather_files/GMAO_2020_01_03_T00_00_00.nc']\") if you want to download a new one.\u001b[0m\n",
      "Extent of the weather model is (xmin, ymin, xmax, ymax):-123.75, 27.50, -111.25, 39.50\n",
      "Extent of the input is (xmin, ymin, xmax, ymax): -123.00, 29.00, -113.00, 39.00\n",
      "\u001b[33;21mWARNING: The processed weather model file already exists, so I will use that.\u001b[0m\n",
      "Output SNWE: [29.0, 39.02, -123.0, -112.98]\n",
      "Output cube spacing: 0.02\n",
      "/Users/buzzanga/Miniconda3/envs/RAiDER/lib/python3.10/site-packages/scipy/interpolate/_rgi.py:358: RuntimeWarning: invalid value encountered in add\n",
      "  values += np.asarray(self.values[edge_indices]) * weight[vslice]\n",
      "/Users/buzzanga/Miniconda3/envs/RAiDER/lib/python3.10/site-packages/rasterio/__init__.py:314: NotGeoreferencedWarning: Dataset has no geotransform, gcps, or rpcs. The identity matrix will be returned.\n",
      "  dataset = writer(\n",
      "Wrote: /Users/buzzanga/Software_InSAR/RAiDER-docs_git/notebooks/RAiDER_options/GMAO_wet_20200103T000000_ztd.GTiff\n",
      "Wrote: /Users/buzzanga/Software_InSAR/RAiDER-docs_git/notebooks/RAiDER_options/GMAO_hydro_20200103T000000_ztd.GTiff\n"
     ]
    }
   ],
   "source": [
    "# geocoded file (SRTM DEM)\n",
    "dem  = op.join(work_dir, 'data', 'SRTM_3arcsec_LA.dem')\n",
    "\n",
    "grp  = {'aoi_group': {'geocoded_file': dem},\n",
    "       }\n",
    "cfg  = new_yaml_group(yaml_base, grp)\n",
    "!raider.py {cfg}"
   ]
  },
  {
   "cell_type": "code",
   "execution_count": 59,
   "id": "479c8c9e",
   "metadata": {},
   "outputs": [
    {
     "name": "stdout",
     "output_type": "stream",
     "text": [
      "Wrote new cfg file: /Users/buzzanga/Software_InSAR/RAiDER-docs_git/notebooks/RAiDER_options/example_yamls/tmp.yaml\n",
      "/Users/buzzanga/Miniconda3/envs/RAiDER/lib/python3.10/site-packages/rasterio/__init__.py:304: NotGeoreferencedWarning: Dataset has no geotransform, gcps, or rpcs. The identity matrix will be returned.\n",
      "  dataset = DatasetReader(path, driver=driver, sharing=sharing, **kwargs)\n",
      "Starting to run the weather model calculation\n",
      "Time: 20181113\n",
      "Beginning weather model pre-processing\n",
      "\u001b[33;21mWARNING: Weather model already exists, please remove it (\"['/Users/buzzanga/Software_InSAR/RAiDER-docs_git/notebooks/RAiDER_options/weather_files/ERA-5_2018_11_13_T23_00_00.nc']\") if you want to download a new one.\u001b[0m\n",
      "Extent of the weather model is (xmin, ymin, xmax, ymax):-77.06, 36.27, -75.55, 37.52\n",
      "Extent of the input is (xmin, ymin, xmax, ymax): -76.20, 36.70, -75.80, 37.00\n",
      "Number of weather model nodes: 1344\n",
      "Shape of weather model: (6, 7, 32)\n",
      "Bounds of the weather model: 36.27/37.52/-77.06/-75.55 (SNWE)\n",
      "Weather model: ERA-5\n",
      "Mean value of the wet refractivity: 20.226200\n",
      "Mean value of the hydrostatic refractivity: 138.367264\n",
      "\n",
      "======Weather Model class object=====\n",
      "Weather model time: 2018-11-13 23:00:00\n",
      "Latitude resolution: 0.2\n",
      "Longitude resolution: 0.2\n",
      "Native projection: epsg:4326\n",
      "ZMIN: -100.0\n",
      "ZMAX: 15000.0\n",
      "k1 = 0.776\n",
      "k2 = 0.233\n",
      "k3 = 3750.0\n",
      "Humidity type = q\n",
      "=====================================\n",
      "Class name: ea\n",
      "Dataset: era5\n",
      "=====================================\n",
      "A: []\n",
      "B: []\n",
      "Number of points in Lon/Lat = 6/7\n",
      "Total number of grid points (3D): 1344\n",
      "=====================================\n",
      "\n",
      "Output SNWE: [36.7, 37.02, -76.2, -75.78]\n",
      "Output cube spacing: 0.02\n",
      "/Users/buzzanga/Miniconda3/envs/RAiDER/lib/python3.10/site-packages/rasterio/__init__.py:304: NotGeoreferencedWarning: Dataset has no geotransform, gcps, or rpcs. The identity matrix will be returned.\n",
      "  dataset = DatasetReader(path, driver=driver, sharing=sharing, **kwargs)\n",
      "Reading glo_30 Datasets:  11%|██▏                 | 1/9 [00:10<01:25, 10.64s/it]"
     ]
    },
    {
     "name": "stderr",
     "output_type": "stream",
     "text": [
      "\n",
      "KeyboardInterrupt\n",
      "\n"
     ]
    }
   ],
   "source": [
    "# ISCE lat/lon files (Hampton Roads)\n",
    "# this downloads the DEM and intersects it\n",
    "\n",
    "grp = {'aoi_group': {'lat_file': f'{work_dir}/data/lat_HR.geo', 'lon_file': f'{work_dir}/data/lon_HR.geo'}, \n",
    "       'weather_model': 'ERA5',\n",
    "       'date_group': {'date_start': '20181113'},\n",
    "       'time_group': {'time': '23:00:00'}\n",
    "      }\n",
    "\n",
    "cfg = new_yaml_group(yaml_base, grp)\n",
    "!raider.py {cfg}\n",
    "\n",
    "## store it for use later\n",
    "shutil.copy(f'{work_dir}/GLO30_fullres_dem.tif', f'{work_dir}/data/GLO30_fullres_dem_HR.tif')"
   ]
  },
  {
   "cell_type": "code",
   "execution_count": 117,
   "id": "777af6e1",
   "metadata": {},
   "outputs": [
    {
     "name": "stdout",
     "output_type": "stream",
     "text": [
      "Starting to run the weather model calculation\n",
      "Time: 20200103\n",
      "Beginning weather model pre-processing\n",
      "\u001b[33;21mWARNING: Weather model already exists, please remove it (\"['/Users/buzzanga/Software_InSAR/RAiDER-docs_git/notebooks/RAiDER_options/weather_files/GMAO_2020_01_03_T00_00_00.nc']\") if you want to download a new one.\u001b[0m\n",
      "Extent of the weather model is (xmin, ymin, xmax, ymax):-123.75, 27.50, -111.25, 39.50\n",
      "Extent of the input is (xmin, ymin, xmax, ymax): -122.96, 29.03, -113.01, 39.00\n",
      "\u001b[33;21mWARNING: The processed weather model file already exists, so I will use that.\u001b[0m\n",
      "Output SNWE: [29.02, 39.02, -122.96000000000001, -113.0]\n",
      "Output cube spacing: 0.02\n",
      "Wrote delays to: /Users/buzzanga/Software_InSAR/RAiDER-docs_git/notebooks/RAiDER_options/GMAO_wet_20200103T000000_ztd.GTiff\n"
     ]
    }
   ],
   "source": [
    "# gnss station file\n",
    "yaml_gnss = yaml_base.replace('bbox', 'GNSS')\n",
    "\n",
    "!raider.py {yaml_gnss}"
   ]
  },
  {
   "cell_type": "markdown",
   "id": "694b2f8c",
   "metadata": {},
   "source": [
    "## Height Options"
   ]
  },
  {
   "cell_type": "code",
   "execution_count": 118,
   "id": "fb0965d9",
   "metadata": {},
   "outputs": [
    {
     "name": "stdout",
     "output_type": "stream",
     "text": [
      "Starting to run the weather model calculation\n",
      "Time: 20200103\n",
      "Beginning weather model pre-processing\n",
      "\u001b[33;21mWARNING: Weather model already exists, please remove it (\"['/Users/buzzanga/Software_InSAR/RAiDER-docs_git/notebooks/RAiDER_options/weather_files/GMAO_2020_01_03_T00_00_00.nc']\") if you want to download a new one.\u001b[0m\n",
      "Extent of the weather model is (xmin, ymin, xmax, ymax):-123.75, 27.50, -111.25, 39.50\n",
      "Extent of the input is (xmin, ymin, xmax, ymax): -123.00, 28.00, -112.00, 39.00\n",
      "\u001b[33;21mWARNING: The processed weather model file already exists, so I will use that.\u001b[0m\n",
      "Output SNWE: [28.0, 39.02, -123.0, -111.98]\n",
      "Output cube spacing: 0.02\n",
      "Wrote delays to: /Users/buzzanga/Software_InSAR/RAiDER-docs_git/notebooks/RAiDER_options/GMAO_tropo_20200103T000000_ztd.nc\n"
     ]
    }
   ],
   "source": [
    "# list of heights\n",
    "!raider.py {yaml_base}"
   ]
  },
  {
   "cell_type": "code",
   "execution_count": 41,
   "id": "1305f3da",
   "metadata": {},
   "outputs": [
    {
     "name": "stdout",
     "output_type": "stream",
     "text": [
      "<xarray.DataArray 'wet' ()>\n",
      "array(0.06113094)\n"
     ]
    }
   ],
   "source": [
    "# check its not all nan\n",
    "with xr.open_dataset(f'{work_dir}/GMAO_tropo_20200103T000000_ztd.nc') as ds:\n",
    "    print (ds['wet'].mean())"
   ]
  },
  {
   "cell_type": "code",
   "execution_count": 68,
   "id": "5be5e6c1",
   "metadata": {},
   "outputs": [
    {
     "name": "stdout",
     "output_type": "stream",
     "text": [
      "Wrote new cfg file: /Users/buzzanga/Software_InSAR/RAiDER-docs_git/notebooks/RAiDER_options/example_yamls/tmp.yaml\n",
      "Starting to run the weather model calculation\n",
      "Time: 20200103\n",
      "Beginning weather model pre-processing\n",
      "\u001b[33;21mWARNING: Weather model already exists, please remove it (\"['/Users/buzzanga/Software_InSAR/RAiDER-docs_git/notebooks/RAiDER_options/weather_files/GMAO_2020_01_03_T00_00_00.nc']\") if you want to download a new one.\u001b[0m\n",
      "Extent of the weather model is (xmin, ymin, xmax, ymax):-123.75, 27.50, -111.25, 39.50\n",
      "Extent of the input is (xmin, ymin, xmax, ymax): -123.00, 29.00, -113.00, 39.00\n",
      "\u001b[33;21mWARNING: The processed weather model file already exists, so I will use that.\u001b[0m\n",
      "Output SNWE: [29.0, 39.02, -123.0, -112.98]\n",
      "Output cube spacing: 0.02\n"
     ]
    }
   ],
   "source": [
    "# dem (use lat lon at DEM)\n",
    "grp  = {'height_group': {'dem': f'{work_dir}/data/SRTM_3arcsec_LA.dem', 'use_dem_latlon': True}}\n",
    "cfg  = new_yaml_group(yaml_base, grp)\n",
    "\n",
    "!raider.py {cfg}"
   ]
  },
  {
   "cell_type": "code",
   "execution_count": 69,
   "id": "782abd3e",
   "metadata": {},
   "outputs": [
    {
     "name": "stdout",
     "output_type": "stream",
     "text": [
      "Driver: GTiff/GeoTIFF\n",
      "Files: /Users/buzzanga/Software_InSAR/RAiDER-docs_git/notebooks/RAiDER_options/GMAO_wet_20200103T000000_ztd.GTiff\n",
      "       /Users/buzzanga/Software_InSAR/RAiDER-docs_git/notebooks/RAiDER_options/GMAO_wet_20200103T000000_ztd.GTiff.aux.xml\n",
      "Size is 12001, 12001\n",
      "Image Structure Metadata:\n",
      "  INTERLEAVE=BAND\n",
      "Corner Coordinates:\n",
      "Upper Left  (    0.0,    0.0)\n",
      "Lower Left  (    0.0,12001.0)\n",
      "Upper Right (12001.0,    0.0)\n",
      "Lower Right (12001.0,12001.0)\n",
      "Center      ( 6000.5, 6000.5)\n",
      "Band 1 Block=12001x1 Type=Float32, ColorInterp=Gray\n",
      "ERROR 1: /Users/buzzanga/Software_InSAR/RAiDER-docs_git/notebooks/RAiDER_options/GMAO_wet_20200103T000000_ztd.GTiff, band 1: Failed to compute statistics, no valid pixels found in sampling.\n",
      "  NoData Value=0\n",
      "  Metadata:\n",
      "    STATISTICS_VALID_PERCENT=0\n"
     ]
    }
   ],
   "source": [
    "# check its not all nan\n",
    "!gdalinfo {work_dir}/GMAO_wet_20200103T000000_ztd.GTiff -stats"
   ]
  },
  {
   "cell_type": "code",
   "execution_count": 66,
   "id": "d9fee805",
   "metadata": {},
   "outputs": [
    {
     "name": "stdout",
     "output_type": "stream",
     "text": [
      "Wrote new cfg file: /Users/buzzanga/Software_InSAR/RAiDER-docs_git/notebooks/RAiDER_options/example_yamls/tmp.yaml\n",
      "/Users/buzzanga/Miniconda3/envs/RAiDER/lib/python3.10/site-packages/rasterio/__init__.py:304: NotGeoreferencedWarning: Dataset has no geotransform, gcps, or rpcs. The identity matrix will be returned.\n",
      "  dataset = DatasetReader(path, driver=driver, sharing=sharing, **kwargs)\n",
      "Starting to run the weather model calculation\n",
      "Time: 20181113\n",
      "Beginning weather model pre-processing\n",
      "\u001b[33;21mWARNING: Weather model already exists, please remove it (\"['/Users/buzzanga/Software_InSAR/RAiDER-docs_git/notebooks/RAiDER_options/weather_files/ERA-5_2018_11_13_T23_00_00.nc']\") if you want to download a new one.\u001b[0m\n",
      "Extent of the weather model is (xmin, ymin, xmax, ymax):-77.06, 36.27, -75.55, 37.52\n",
      "Extent of the input is (xmin, ymin, xmax, ymax): -76.20, 36.70, -75.80, 37.00\n",
      "\u001b[33;21mWARNING: The processed weather model file already exists, so I will use that.\u001b[0m\n",
      "Output SNWE: [36.7, 37.02, -76.2, -75.78]\n",
      "Output cube spacing: 0.02\n",
      "/Users/buzzanga/Miniconda3/envs/RAiDER/lib/python3.10/site-packages/rasterio/__init__.py:304: NotGeoreferencedWarning: Dataset has no geotransform, gcps, or rpcs. The identity matrix will be returned.\n",
      "  dataset = DatasetReader(path, driver=driver, sharing=sharing, **kwargs)\n",
      "Using existing DEM: /Users/buzzanga/Software_InSAR/RAiDER-docs_git/notebooks/RAiDER_options/data/GLO30_fullres_dem_HR.tif\n",
      "/Users/buzzanga/Miniconda3/envs/RAiDER/lib/python3.10/site-packages/rasterio/__init__.py:314: NotGeoreferencedWarning: Dataset has no geotransform, gcps, or rpcs. The identity matrix will be returned.\n",
      "  dataset = writer(\n",
      "Wrote: /Users/buzzanga/Software_InSAR/RAiDER-docs_git/notebooks/RAiDER_options/ERA5_wet_20181113T230000_ztd.GTiff\n",
      "Wrote: /Users/buzzanga/Software_InSAR/RAiDER-docs_git/notebooks/RAiDER_options/ERA5_hydro_20181113T230000_ztd.GTiff\n"
     ]
    }
   ],
   "source": [
    "# dem (use lat lon files)\n",
    "\n",
    "# ISCE lat/lon files (Hampton Roads)\n",
    "grp = {'aoi_group': {'lat_file': f'{work_dir}/data/lat_HR.geo', 'lon_file': f'{work_dir}/data/lon_HR.geo'}, \n",
    "       'height_group': {'dem': f'{work_dir}/data/GLO30_fullres_dem_HR.tif'}, # written above in AOI\n",
    "       'weather_model': 'ERA5',\n",
    "       'date_group': {'date_start': '20181113'},\n",
    "       'time_group': {'time': '23:00:00'}\n",
    "      }\n",
    "\n",
    "cfg = new_yaml_group(yaml_base, grp)\n",
    "!raider.py {cfg}"
   ]
  },
  {
   "cell_type": "code",
   "execution_count": 67,
   "id": "f3d54c91",
   "metadata": {},
   "outputs": [
    {
     "name": "stdout",
     "output_type": "stream",
     "text": [
      "Driver: GTiff/GeoTIFF\r\n",
      "Files: /Users/buzzanga/Software_InSAR/RAiDER-docs_git/notebooks/RAiDER_options/ERA5_wet_20181113T230000_ztd.GTiff\r\n",
      "Size is 1459, 1081\r\n",
      "Image Structure Metadata:\r\n",
      "  INTERLEAVE=BAND\r\n",
      "Corner Coordinates:\r\n",
      "Upper Left  (    0.0,    0.0)\r\n",
      "Lower Left  (    0.0, 1081.0)\r\n",
      "Upper Right ( 1459.0,    0.0)\r\n",
      "Lower Right ( 1459.0, 1081.0)\r\n",
      "Center      (  729.5,  540.5)\r\n",
      "Band 1 Block=1459x1 Type=Float32, ColorInterp=Gray\r\n",
      "  Minimum=0.230, Maximum=0.241, Mean=0.236, StdDev=0.002\r\n",
      "  NoData Value=0\r\n",
      "  Metadata:\r\n",
      "    STATISTICS_MAXIMUM=0.24060887098312\r\n",
      "    STATISTICS_MEAN=0.23577767976745\r\n",
      "    STATISTICS_MINIMUM=0.23027303814888\r\n",
      "    STATISTICS_STDDEV=0.0021820579649971\r\n",
      "    STATISTICS_VALID_PERCENT=100\r\n"
     ]
    }
   ],
   "source": [
    "# check its not all nan\n",
    "!gdalinfo {work_dir}/ERA5_wet_20181113T230000_ztd.GTiff -stats"
   ]
  },
  {
   "cell_type": "code",
   "execution_count": 63,
   "id": "cc5aee4d",
   "metadata": {},
   "outputs": [
    {
     "name": "stdout",
     "output_type": "stream",
     "text": [
      "Wrote new cfg file: /Users/buzzanga/Software_InSAR/RAiDER-docs_git/notebooks/RAiDER_options/example_yamls/tmp.yaml\n",
      "/Users/buzzanga/Miniconda3/envs/RAiDER/lib/python3.10/site-packages/rasterio/__init__.py:304: NotGeoreferencedWarning: Dataset has no geotransform, gcps, or rpcs. The identity matrix will be returned.\n",
      "  dataset = DatasetReader(path, driver=driver, sharing=sharing, **kwargs)\n",
      "Starting to run the weather model calculation\n",
      "Time: 20181113\n",
      "Beginning weather model pre-processing\n",
      "\u001b[33;21mWARNING: Weather model already exists, please remove it (\"['/Users/buzzanga/Software_InSAR/RAiDER-docs_git/notebooks/RAiDER_options/weather_files/ERA-5_2018_11_13_T23_00_00.nc']\") if you want to download a new one.\u001b[0m\n",
      "Extent of the weather model is (xmin, ymin, xmax, ymax):-77.06, 36.27, -75.55, 37.52\n",
      "Extent of the input is (xmin, ymin, xmax, ymax): -76.20, 36.70, -75.80, 37.00\n",
      "\u001b[33;21mWARNING: The processed weather model file already exists, so I will use that.\u001b[0m\n",
      "Output SNWE: [36.7, 37.02, -76.2, -75.78]\n",
      "Output cube spacing: 0.02\n",
      "/Users/buzzanga/Miniconda3/envs/RAiDER/lib/python3.10/site-packages/rasterio/__init__.py:304: NotGeoreferencedWarning: Dataset has no geotransform, gcps, or rpcs. The identity matrix will be returned.\n",
      "  dataset = DatasetReader(path, driver=driver, sharing=sharing, **kwargs)\n",
      "Using existing heights at: /Users/buzzanga/Software_InSAR/RAiDER-docs_git/notebooks/RAiDER_options/data/dem_HR.crop\n",
      "/Users/buzzanga/Miniconda3/envs/RAiDER/lib/python3.10/site-packages/rasterio/__init__.py:314: NotGeoreferencedWarning: Dataset has no geotransform, gcps, or rpcs. The identity matrix will be returned.\n",
      "  dataset = writer(\n",
      "Wrote: /Users/buzzanga/Software_InSAR/RAiDER-docs_git/notebooks/RAiDER_options/ERA5_wet_20181113T230000_ztd.GTiff\n",
      "Wrote: /Users/buzzanga/Software_InSAR/RAiDER-docs_git/notebooks/RAiDER_options/ERA5_hydro_20181113T230000_ztd.GTiff\n"
     ]
    }
   ],
   "source": [
    "# ISCE lat/lon/hgt files (Hampton Roads)\n",
    "grp = {'aoi_group': {'lat_file': f'{work_dir}/data/lat_HR.geo', 'lon_file': f'{work_dir}/data/lon_HR.geo'}, \n",
    "       'height_group': {'height_file_rdr': f'{work_dir}/data/dem_HR.crop'}, \n",
    "       'weather_model': 'ERA5',\n",
    "       'date_group': {'date_start': '20181113'},\n",
    "       'time_group': {'time': '23:00:00'}\n",
    "      }\n",
    "\n",
    "cfg = new_yaml_group(yaml_base, grp)\n",
    "!raider.py {cfg}"
   ]
  },
  {
   "cell_type": "code",
   "execution_count": 64,
   "id": "e8570737",
   "metadata": {},
   "outputs": [
    {
     "name": "stdout",
     "output_type": "stream",
     "text": [
      "Driver: GTiff/GeoTIFF\r\n",
      "Files: /Users/buzzanga/Software_InSAR/RAiDER-docs_git/notebooks/RAiDER_options/ERA5_wet_20181113T230000_ztd.GTiff\r\n",
      "Size is 1459, 1081\r\n",
      "Image Structure Metadata:\r\n",
      "  INTERLEAVE=BAND\r\n",
      "Corner Coordinates:\r\n",
      "Upper Left  (    0.0,    0.0)\r\n",
      "Lower Left  (    0.0, 1081.0)\r\n",
      "Upper Right ( 1459.0,    0.0)\r\n",
      "Lower Right ( 1459.0, 1081.0)\r\n",
      "Center      (  729.5,  540.5)\r\n",
      "Band 1 Block=1459x1 Type=Float32, ColorInterp=Gray\r\n",
      "  Minimum=0.229, Maximum=0.241, Mean=0.236, StdDev=0.002\r\n",
      "  NoData Value=0\r\n",
      "  Metadata:\r\n",
      "    STATISTICS_MAXIMUM=0.24056635797024\r\n",
      "    STATISTICS_MEAN=0.23565491008817\r\n",
      "    STATISTICS_MINIMUM=0.22946693003178\r\n",
      "    STATISTICS_STDDEV=0.0023011036607045\r\n",
      "    STATISTICS_VALID_PERCENT=100\r\n"
     ]
    }
   ],
   "source": [
    "# check valid\n",
    "!gdalinfo {work_dir}/ERA5_wet_20181113T230000_ztd.GTiff -stats"
   ]
  },
  {
   "cell_type": "markdown",
   "id": "0d6c3c22",
   "metadata": {},
   "source": [
    "## LOS Options"
   ]
  },
  {
   "cell_type": "code",
   "execution_count": 44,
   "id": "9c2b3233",
   "metadata": {},
   "outputs": [],
   "source": [
    "yaml_orbit = op.join(work_dir, 'example_yamls', 'raider_example_UK-isce.yaml')\n",
    "orbit_file = op.join(work_dir, 'orbits', 'S1B_OPER_AUX_POEORB_OPOD_20211122T112354_V20211101T225942_20211103T005942.EOF')"
   ]
  },
  {
   "cell_type": "code",
   "execution_count": 49,
   "id": "c0bac093",
   "metadata": {},
   "outputs": [
    {
     "name": "stdout",
     "output_type": "stream",
     "text": [
      "Starting to run the weather model calculation\n",
      "Time: 20211102\n",
      "Beginning weather model pre-processing\n",
      "\u001b[33;21mWARNING: Weather model already exists, please remove it (\"['/Users/buzzanga/Software_InSAR/RAiDER-docs_git/notebooks/RAiDER_options/weather_files/ERA-5_2021_11_02_T06_21_59.nc']\") if you want to download a new one.\u001b[0m\n",
      "Extent of the weather model is (xmin, ymin, xmax, ymax):-5.40, 51.60, 0.35, 57.35\n",
      "Extent of the input is (xmin, ymin, xmax, ymax): -5.00, 52.00, 0.00, 57.00\n",
      "\u001b[33;21mWARNING: The processed weather model file already exists, so I will use that.\u001b[0m\n",
      "Output SNWE: [52.980000000000004, 56.0, -4.0, -0.98]\n",
      "Output cube spacing: 0.02\n",
      "Look direction: right\n",
      "Processing slice 1 / 5: 0.0\n",
      "Processing slice 2 / 5: 50.0\n",
      "Processing slice 3 / 5: 100.0\n",
      "Processing slice 4 / 5: 500.0\n",
      "Processing slice 5 / 5: 1000.0\n",
      "Wrote delays to: /Users/buzzanga/Software_InSAR/RAiDER-docs_git/notebooks/RAiDER_options/ERA5_tropo_20211102T062159_ray.nc\n"
     ]
    }
   ],
   "source": [
    "# orbit file, bounding box, height levels, ray_trace\n",
    "!raider.py {yaml_orbit}"
   ]
  },
  {
   "cell_type": "code",
   "execution_count": 50,
   "id": "4e44a245",
   "metadata": {},
   "outputs": [
    {
     "name": "stdout",
     "output_type": "stream",
     "text": [
      "<xarray.DataArray 'wet' ()>\n",
      "array(0.09260369)\n"
     ]
    }
   ],
   "source": [
    "# check its not all nan\n",
    "with xr.open_dataset(f'{work_dir}/ERA5_tropo_20211102T062159_ray.nc') as ds:\n",
    "    print (ds['wet'].mean())"
   ]
  },
  {
   "cell_type": "code",
   "execution_count": 51,
   "id": "570d3995",
   "metadata": {},
   "outputs": [
    {
     "name": "stdout",
     "output_type": "stream",
     "text": [
      "Wrote new cfg file: /Users/buzzanga/Software_InSAR/RAiDER-docs_git/notebooks/RAiDER_options/example_yamls/tmp.yaml\n",
      "Starting to run the weather model calculation\n",
      "Time: 20211102\n",
      "Beginning weather model pre-processing\n",
      "\u001b[33;21mWARNING: Weather model already exists, please remove it (\"['/Users/buzzanga/Software_InSAR/RAiDER-docs_git/notebooks/RAiDER_options/weather_files/ERA-5_2021_11_02_T06_21_59.nc']\") if you want to download a new one.\u001b[0m\n",
      "Extent of the weather model is (xmin, ymin, xmax, ymax):-5.40, 51.60, 0.35, 57.35\n",
      "Extent of the input is (xmin, ymin, xmax, ymax): -4.00, 53.00, -1.00, 56.00\n",
      "\u001b[33;21mWARNING: The processed weather model file already exists, so I will use that.\u001b[0m\n",
      "Output SNWE: [52.980000000000004, 56.0, -4.0, -0.98]\n",
      "Output cube spacing: 0.02\n",
      "Wrote delays to: /Users/buzzanga/Software_InSAR/RAiDER-docs_git/notebooks/RAiDER_options/ERA5_tropo_20211102T062159_std.nc\n"
     ]
    }
   ],
   "source": [
    "# orbit file, bounding box, height levels, projection\n",
    "grp  = {'los_group': {'ray_trace': False, \n",
    "                      'orbit_file': orbit_file}}\n",
    "cfg  = new_yaml_group(yaml_orbit, grp)\n",
    "!raider.py {cfg}"
   ]
  },
  {
   "cell_type": "code",
   "execution_count": 52,
   "id": "01b3b006",
   "metadata": {},
   "outputs": [
    {
     "name": "stdout",
     "output_type": "stream",
     "text": [
      "<xarray.DataArray 'wet' ()>\n",
      "array(0.0684944)\n"
     ]
    }
   ],
   "source": [
    "# check its not all nan\n",
    "with xr.open_dataset(f'{work_dir}/ERA5_tropo_20211102T062159_std.nc') as ds:\n",
    "    print (ds['wet'].mean())"
   ]
  },
  {
   "cell_type": "code",
   "execution_count": 53,
   "id": "43a53108",
   "metadata": {},
   "outputs": [
    {
     "name": "stdout",
     "output_type": "stream",
     "text": [
      "Wrote new cfg file: /Users/buzzanga/Software_InSAR/RAiDER-docs_git/notebooks/RAiDER_options/example_yamls/tmp.yaml\n",
      "Starting to run the weather model calculation\n",
      "Time: 20211102\n",
      "Beginning weather model pre-processing\n",
      "\u001b[33;21mWARNING: Weather model already exists, please remove it (\"['/Users/buzzanga/Software_InSAR/RAiDER-docs_git/notebooks/RAiDER_options/weather_files/ERA-5_2021_11_02_T06_21_59.nc']\") if you want to download a new one.\u001b[0m\n",
      "Extent of the weather model is (xmin, ymin, xmax, ymax):-5.40, 51.60, 0.35, 57.35\n",
      "Extent of the input is (xmin, ymin, xmax, ymax): -5.00, 52.00, 0.00, 57.00\n",
      "\u001b[33;21mWARNING: The processed weather model file already exists, so I will use that.\u001b[0m\n",
      "Output SNWE: [52.980000000000004, 56.0, -4.0, -0.98]\n",
      "Output cube spacing: 0.02\n",
      "Look direction: right\n",
      "Processing slice 1 / 32: -500.0\n",
      "Processing slice 2 / 32: -300.0\n",
      "Processing slice 3 / 32: -200.0\n",
      "Processing slice 4 / 32: -100.0\n",
      "Processing slice 5 / 32: -50.0\n",
      "Processing slice 6 / 32: -20.0\n",
      "Processing slice 7 / 32: -10.0\n",
      "Processing slice 8 / 32: 106.54000091552734\n",
      "Processing slice 9 / 32: 566.5399780273438\n",
      "Processing slice 10 / 32: 798.719970703125\n",
      "Processing slice 11 / 32: 987.1500244140625\n",
      "Processing slice 12 / 32: 1459.9100341796875\n",
      "Processing slice 13 / 32: 1910.760009765625\n",
      "Processing slice 14 / 32: 3089.25\n",
      "Processing slice 15 / 32: 4074.409912109375\n",
      "Processing slice 16 / 32: 5469.2998046875\n",
      "Processing slice 17 / 32: 7214.08984375\n",
      "Processing slice 18 / 32: 9255.7001953125\n",
      "Processing slice 19 / 32: 10422.6396484375\n",
      "Processing slice 20 / 32: 11890.240234375\n",
      "Processing slice 21 / 32: 13727.1796875\n",
      "Processing slice 22 / 32: 16322.830078125\n",
      "Processing slice 23 / 32: 18394.25\n",
      "Processing slice 24 / 32: 20694.900390625\n",
      "Processing slice 25 / 32: 24413.5\n",
      "Processing slice 26 / 32: 26635.560546875\n",
      "Processing slice 27 / 32: 31330.9609375\n",
      "Processing slice 28 / 32: 33763.05078125\n",
      "Processing slice 29 / 32: 36569.71875\n",
      "Processing slice 30 / 32: 39850.55859375\n",
      "Processing slice 31 / 32: 43738.55078125\n",
      "Processing slice 32 / 32: 48413.94140625\n",
      "Wrote delays to: /Users/buzzanga/Software_InSAR/RAiDER-docs_git/notebooks/RAiDER_options/ERA5_tropo_20211102T062159_ray.nc\n"
     ]
    }
   ],
   "source": [
    "# orbit file, bounding box, NO height levels (so at weather model zlevels)\n",
    "grp  = {'height_group': {}}\n",
    "cfg  = new_yaml_group(yaml_orbit, grp)\n",
    "!raider.py {cfg}"
   ]
  },
  {
   "cell_type": "code",
   "execution_count": 54,
   "id": "f66fcc5d",
   "metadata": {},
   "outputs": [
    {
     "name": "stdout",
     "output_type": "stream",
     "text": [
      "<xarray.DataArray 'wet' ()>\n",
      "array(0.03905929)\n"
     ]
    }
   ],
   "source": [
    "# check its not all nan\n",
    "with xr.open_dataset(f'{work_dir}/ERA5_tropo_20211102T062159_ray.nc') as ds:\n",
    "    print (ds['wet'].mean())"
   ]
  },
  {
   "cell_type": "code",
   "execution_count": 55,
   "id": "b573825d",
   "metadata": {},
   "outputs": [
    {
     "name": "stdout",
     "output_type": "stream",
     "text": [
      "Wrote new cfg file: /Users/buzzanga/Software_InSAR/RAiDER-docs_git/notebooks/RAiDER_options/example_yamls/tmp.yaml\n",
      "Starting to run the weather model calculation\n",
      "Time: 20211102\n",
      "Beginning weather model pre-processing\n",
      "\u001b[33;21mWARNING: Weather model already exists, please remove it (\"['/Users/buzzanga/Software_InSAR/RAiDER-docs_git/notebooks/RAiDER_options/weather_files/ERA-5_2021_11_02_T06_21_59.nc']\") if you want to download a new one.\u001b[0m\n",
      "Extent of the weather model is (xmin, ymin, xmax, ymax):-5.40, 51.60, 0.35, 57.35\n",
      "Extent of the input is (xmin, ymin, xmax, ymax): -4.00, 53.00, -1.00, 56.00\n",
      "\u001b[33;21mWARNING: The processed weather model file already exists, so I will use that.\u001b[0m\n",
      "Output SNWE: [52.980000000000004, 56.0, -4.0, -0.98]\n",
      "Output cube spacing: 0.02\n",
      "Wrote delays to: /Users/buzzanga/Software_InSAR/RAiDER-docs_git/notebooks/RAiDER_options/ERA5_tropo_20211102T062159_ztd.nc\n"
     ]
    }
   ],
   "source": [
    "# orbit file, bounding box, NO height levels (so at weather model zlevels), projection\n",
    "grp  = {'height_group': {}, 'los_group': {'ray_trace': False}}\n",
    "cfg  = new_yaml_group(yaml_orbit, grp)\n",
    "!raider.py {cfg}"
   ]
  },
  {
   "cell_type": "code",
   "execution_count": 56,
   "id": "767c60ad",
   "metadata": {},
   "outputs": [
    {
     "name": "stdout",
     "output_type": "stream",
     "text": [
      "<xarray.DataArray 'wet' ()>\n",
      "array(0.02900639)\n"
     ]
    }
   ],
   "source": [
    "# check its not all nan\n",
    "with xr.open_dataset(f'{work_dir}/ERA5_tropo_20211102T062159_ztd.nc') as ds:\n",
    "    print (ds['wet'].mean())"
   ]
  },
  {
   "cell_type": "code",
   "execution_count": 70,
   "id": "f2e8d54e",
   "metadata": {},
   "outputs": [
    {
     "name": "stdout",
     "output_type": "stream",
     "text": [
      "Wrote new cfg file: /Users/buzzanga/Software_InSAR/RAiDER-docs_git/notebooks/RAiDER_options/example_yamls/tmp.yaml\n"
     ]
    }
   ],
   "source": [
    "# orbit file, lat/lon grid, no ray tracing\n",
    "orbit_file_HR = op.join(work_dir, 'orbits', 'S1A_OPER_AUX_POEORB_OPOD_20181203T120749_V20181112T225942_20181114T005942.EOF')\n",
    "\n",
    "grp = {'aoi_group': {'lat_file': f'{work_dir}/data/lat_HR.geo', 'lon_file': f'{work_dir}/data/lon_HR.geo'}, \n",
    "       'height_group': {'dem': f'{work_dir}/data/GLO30_fullres_dem_HR.tif'}, # written above in AOI\n",
    "       'weather_model': 'ERA5',\n",
    "       'date_group': {'date_start': '20181113'},\n",
    "       'time_group': {'time': '23:00:00'},\n",
    "       'los_group':  {'ray_trace': False, \n",
    "                      'orbit_file': orbit_file_HR}\n",
    "      }\n",
    "\n",
    "cfg = new_yaml_group(yaml_base, grp)\n",
    "!raider.py {cfg}"
   ]
  },
  {
   "cell_type": "code",
   "execution_count": 71,
   "id": "c2b1956c",
   "metadata": {},
   "outputs": [
    {
     "name": "stdout",
     "output_type": "stream",
     "text": [
      "Driver: GTiff/GeoTIFF\r\n",
      "Files: /Users/buzzanga/Software_InSAR/RAiDER-docs_git/notebooks/RAiDER_options/ERA5_wet_20181113T230000_std.GTiff\r\n",
      "       /Users/buzzanga/Software_InSAR/RAiDER-docs_git/notebooks/RAiDER_options/ERA5_wet_20181113T230000_std.GTiff.aux.xml\r\n",
      "Size is 1459, 1081\r\n",
      "Image Structure Metadata:\r\n",
      "  INTERLEAVE=BAND\r\n",
      "Corner Coordinates:\r\n",
      "Upper Left  (    0.0,    0.0)\r\n",
      "Lower Left  (    0.0, 1081.0)\r\n",
      "Upper Right ( 1459.0,    0.0)\r\n",
      "Lower Right ( 1459.0, 1081.0)\r\n",
      "Center      (  729.5,  540.5)\r\n",
      "Band 1 Block=1459x1 Type=Float32, ColorInterp=Gray\r\n",
      "  Min=0.281 Max=0.304 \r\n",
      "  Minimum=0.281, Maximum=0.304, Mean=0.293, StdDev=0.005\r\n",
      "  NoData Value=0\r\n",
      "  Metadata:\r\n",
      "    STATISTICS_MAXIMUM=0.30430519580841\r\n",
      "    STATISTICS_MEAN=0.2930534336304\r\n",
      "    STATISTICS_MINIMUM=0.28130912780762\r\n",
      "    STATISTICS_STDDEV=0.0048879907196936\r\n",
      "    STATISTICS_VALID_PERCENT=100\r\n"
     ]
    }
   ],
   "source": [
    "!gdalinfo {work_dir}/ERA5_wet_20181113T230000_std.GTiff -stats"
   ]
  },
  {
   "cell_type": "code",
   "execution_count": 72,
   "id": "c93a38b3",
   "metadata": {},
   "outputs": [
    {
     "name": "stdout",
     "output_type": "stream",
     "text": [
      "Wrote new cfg file: /Users/buzzanga/Software_InSAR/RAiDER-docs_git/notebooks/RAiDER_options/example_yamls/tmp.yaml\n",
      "/Users/buzzanga/Miniconda3/envs/RAiDER/lib/python3.10/site-packages/rasterio/__init__.py:304: NotGeoreferencedWarning: Dataset has no geotransform, gcps, or rpcs. The identity matrix will be returned.\n",
      "  dataset = DatasetReader(path, driver=driver, sharing=sharing, **kwargs)\n",
      "Starting to run the weather model calculation\n",
      "Time: 20181113\n",
      "Beginning weather model pre-processing\n",
      "\u001b[33;21mWARNING: Weather model already exists, please remove it (\"['/Users/buzzanga/Software_InSAR/RAiDER-docs_git/notebooks/RAiDER_options/weather_files/ERA-5_2018_11_13_T23_00_00.nc']\") if you want to download a new one.\u001b[0m\n",
      "Extent of the weather model is (xmin, ymin, xmax, ymax):-77.06, 36.27, -75.55, 37.52\n",
      "Extent of the input is (xmin, ymin, xmax, ymax): -77.20, 35.70, -74.80, 38.00\n",
      "\u001b[33;21mWARNING: The weather model passed does not cover all of the input points; you may need to download a larger area.\u001b[0m\n",
      "Number of weather model nodes: 1344\n",
      "Shape of weather model: (6, 7, 32)\n",
      "Bounds of the weather model: 36.27/37.52/-77.06/-75.55 (SNWE)\n",
      "Weather model: ERA-5\n",
      "Mean value of the wet refractivity: 20.226200\n",
      "Mean value of the hydrostatic refractivity: 138.367264\n",
      "\n",
      "======Weather Model class object=====\n",
      "Weather model time: 2018-11-13 23:00:00\n",
      "Latitude resolution: 0.2\n",
      "Longitude resolution: 0.2\n",
      "Native projection: epsg:4326\n",
      "ZMIN: -100.0\n",
      "ZMAX: 15000.0\n",
      "k1 = 0.776\n",
      "k2 = 0.233\n",
      "k3 = 3750.0\n",
      "Humidity type = q\n",
      "=====================================\n",
      "Class name: ea\n",
      "Dataset: era5\n",
      "=====================================\n",
      "A: []\n",
      "B: []\n",
      "Number of points in Lon/Lat = 6/7\n",
      "Total number of grid points (3D): 1344\n",
      "=====================================\n",
      "\n",
      "Output SNWE: [36.7, 37.02, -76.2, -75.78]\n",
      "Output cube spacing: 0.02\n",
      "Look direction: right\n",
      "Processing slice 1 / 32: -500.0\n",
      "Processing slice 2 / 32: -300.0\n",
      "Processing slice 3 / 32: -200.0\n",
      "Processing slice 4 / 32: -100.0\n",
      "Processing slice 5 / 32: -50.0\n",
      "Processing slice 6 / 32: -20.0\n",
      "Processing slice 7 / 32: -10.0\n",
      "Processing slice 8 / 32: 106.54000091552734\n",
      "Processing slice 9 / 32: 566.5399780273438\n",
      "Processing slice 10 / 32: 798.719970703125\n",
      "Processing slice 11 / 32: 987.1500244140625\n",
      "Processing slice 12 / 32: 1459.9100341796875\n",
      "Processing slice 13 / 32: 1910.760009765625\n",
      "Processing slice 14 / 32: 3089.25\n",
      "Processing slice 15 / 32: 4074.409912109375\n",
      "Processing slice 16 / 32: 5469.2998046875\n",
      "Processing slice 17 / 32: 7214.08984375\n",
      "Processing slice 18 / 32: 9255.7001953125\n",
      "Processing slice 19 / 32: 10422.6396484375\n",
      "Processing slice 20 / 32: 11890.240234375\n",
      "Processing slice 21 / 32: 13727.1796875\n",
      "Processing slice 22 / 32: 16322.830078125\n",
      "Processing slice 23 / 32: 18394.25\n",
      "Processing slice 24 / 32: 20694.900390625\n",
      "Processing slice 25 / 32: 24413.5\n",
      "Processing slice 26 / 32: 26635.560546875\n",
      "Processing slice 27 / 32: 31330.9609375\n",
      "Processing slice 28 / 32: 33763.05078125\n",
      "Processing slice 29 / 32: 36569.71875\n",
      "Processing slice 30 / 32: 39850.55859375\n",
      "Processing slice 31 / 32: 43738.55078125\n",
      "Processing slice 32 / 32: 48413.94140625\n",
      "/Users/buzzanga/Miniconda3/envs/RAiDER/lib/python3.10/site-packages/rasterio/__init__.py:304: NotGeoreferencedWarning: Dataset has no geotransform, gcps, or rpcs. The identity matrix will be returned.\n",
      "  dataset = DatasetReader(path, driver=driver, sharing=sharing, **kwargs)\n",
      "Using existing DEM: /Users/buzzanga/Software_InSAR/RAiDER-docs_git/notebooks/RAiDER_options/data/GLO30_fullres_dem_HR.tif\n",
      "/Users/buzzanga/Miniconda3/envs/RAiDER/lib/python3.10/site-packages/rasterio/__init__.py:314: NotGeoreferencedWarning: Dataset has no geotransform, gcps, or rpcs. The identity matrix will be returned.\n",
      "  dataset = writer(\n",
      "Wrote: /Users/buzzanga/Software_InSAR/RAiDER-docs_git/notebooks/RAiDER_options/ERA5_wet_20181113T230000_ray.GTiff\n",
      "Wrote: /Users/buzzanga/Software_InSAR/RAiDER-docs_git/notebooks/RAiDER_options/ERA5_hydro_20181113T230000_ray.GTiff\n"
     ]
    }
   ],
   "source": [
    "# orbit file, lat/lon grid, no ray tracing\n",
    "orbit_file_HR = op.join(work_dir, 'orbits', 'S1A_OPER_AUX_POEORB_OPOD_20181203T120749_V20181112T225942_20181114T005942.EOF')\n",
    "\n",
    "grp = {'aoi_group': {'lat_file': f'{work_dir}/data/lat_HR.geo', 'lon_file': f'{work_dir}/data/lon_HR.geo'}, \n",
    "       'height_group': {'dem': f'{work_dir}/data/GLO30_fullres_dem_HR.tif'}, # written above in AOI\n",
    "       'weather_model': 'ERA5',\n",
    "       'date_group': {'date_start': '20181113'},\n",
    "       'time_group': {'time': '23:00:00'},\n",
    "       'los_group':  {'ray_trace': True, \n",
    "                      'orbit_file': orbit_file_HR}\n",
    "      }\n",
    "\n",
    "cfg = new_yaml_group(yaml_base, grp)\n",
    "!raider.py {cfg}"
   ]
  },
  {
   "cell_type": "code",
   "execution_count": 73,
   "id": "fbcc2b4f",
   "metadata": {},
   "outputs": [
    {
     "name": "stdout",
     "output_type": "stream",
     "text": [
      "Driver: GTiff/GeoTIFF\r\n",
      "Files: /Users/buzzanga/Software_InSAR/RAiDER-docs_git/notebooks/RAiDER_options/ERA5_wet_20181113T230000_ray.GTiff\r\n",
      "Size is 1459, 1081\r\n",
      "Image Structure Metadata:\r\n",
      "  INTERLEAVE=BAND\r\n",
      "Corner Coordinates:\r\n",
      "Upper Left  (    0.0,    0.0)\r\n",
      "Lower Left  (    0.0, 1081.0)\r\n",
      "Upper Right ( 1459.0,    0.0)\r\n",
      "Lower Right ( 1459.0, 1081.0)\r\n",
      "Center      (  729.5,  540.5)\r\n",
      "Band 1 Block=1459x1 Type=Float32, ColorInterp=Gray\r\n",
      "  Minimum=0.314, Maximum=0.337, Mean=0.326, StdDev=0.005\r\n",
      "  NoData Value=0\r\n",
      "  Metadata:\r\n",
      "    STATISTICS_MAXIMUM=0.33695501089096\r\n",
      "    STATISTICS_MEAN=0.32577324027235\r\n",
      "    STATISTICS_MINIMUM=0.3138073682785\r\n",
      "    STATISTICS_STDDEV=0.0050881116111986\r\n",
      "    STATISTICS_VALID_PERCENT=100\r\n"
     ]
    }
   ],
   "source": [
    "!gdalinfo {work_dir}/ERA5_wet_20181113T230000_ray.GTiff -stats"
   ]
  },
  {
   "cell_type": "markdown",
   "id": "d336c7ee",
   "metadata": {
    "heading_collapsed": true
   },
   "source": [
    "## Projection Options"
   ]
  },
  {
   "cell_type": "code",
   "execution_count": 41,
   "id": "5ab99f03",
   "metadata": {
    "hidden": true
   },
   "outputs": [],
   "source": [
    "# os.chdir('UTM_DEM')"
   ]
  },
  {
   "cell_type": "code",
   "execution_count": 42,
   "id": "092645ac",
   "metadata": {
    "hidden": true
   },
   "outputs": [],
   "source": [
    "## UTM DEM with WGS Model\n",
    "# !raider.py raiderDelay_utm_CA-ERA5.yaml"
   ]
  },
  {
   "cell_type": "code",
   "execution_count": 43,
   "id": "b9d9479b",
   "metadata": {
    "hidden": true
   },
   "outputs": [],
   "source": [
    "## UTM DEM with UTM Model\n",
    "# !raider.py raiderDelay_utm_CA-HRRR.yaml"
   ]
  },
  {
   "cell_type": "code",
   "execution_count": 44,
   "id": "755f2930",
   "metadata": {
    "hidden": true
   },
   "outputs": [],
   "source": [
    "## WGS DEM with UTM Model\n",
    "# !raider.py raiderDelay_geo_CA-HRRR.yaml"
   ]
  },
  {
   "cell_type": "code",
   "execution_count": 45,
   "id": "cbf4d443",
   "metadata": {
    "hidden": true
   },
   "outputs": [],
   "source": [
    "# os.chdir('..')"
   ]
  }
 ],
 "metadata": {
  "celltoolbar": "Initialization Cell",
  "kernelspec": {
   "display_name": "Python 3 (ipykernel)",
   "language": "python",
   "name": "python3"
  },
  "language_info": {
   "codemirror_mode": {
    "name": "ipython",
    "version": 3
   },
   "file_extension": ".py",
   "mimetype": "text/x-python",
   "name": "python",
   "nbconvert_exporter": "python",
   "pygments_lexer": "ipython3",
   "version": "3.10.6"
  }
 },
 "nbformat": 4,
 "nbformat_minor": 5
}
