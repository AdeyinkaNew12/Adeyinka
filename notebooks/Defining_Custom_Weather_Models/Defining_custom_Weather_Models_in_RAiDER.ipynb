{
 "cells": [
  {
   "cell_type": "markdown",
   "metadata": {},
   "source": [
    "# Creating a new Weather Model in RAiDER"
   ]
  },
  {
   "cell_type": "markdown",
   "metadata": {},
   "source": [
    "**Author**: Jeremy Maurer, David Bekaert, Simran Sangha, Yang Lei - Jet Propulsion Laboratory, California Institute of Technology\n",
    "\n",
    "This notebook provides an overview of how to get started using the RAiDER package for estimating tropospheric RADAR delays, and other functionality included in the **raiderDelay.py** program. We give an example of how to download and process delays using ERA-5 and HRRR weather models for the Los Angeles region. \n",
    "\n",
    "In this notebook, we will demonstrate how to:\n",
    "- Define and use a custom weather model for use with RAiDER\n",
    "    \n",
    "<div class=\"alert alert-warning\">\n",
    "The initial setup (<b>Prep A</b> section) should be run at the start of the notebook. \n",
    "</div>\n",
    "\n",
    "<div class=\"alert alert-danger\">\n",
    "<b>Potential Errors:</b> \n",
    "    - RAiDER needs to be installed to run this notebook\n",
    "</div>\n",
    "\n",
    "\n",
    "<div class=\"alert alert-info\">\n",
    "    <b>Terminology:</b>\n",
    "    \n",
    "- *Weather model*: A reanalysis weather product defining temperature, pressure, and humidity on a regular grid in some coordinate system (e.g., at regular lat/lon intervals in the standard EPSG:4326 reference frame).\n",
    "</div>\n",
    "    "
   ]
  },
  {
   "cell_type": "markdown",
   "metadata": {},
   "source": [
    "## Some initial setup "
   ]
  },
  {
   "cell_type": "code",
   "execution_count": null,
   "metadata": {},
   "outputs": [],
   "source": [
    "from osgeo import gdal\n",
    "import os\n",
    "import numpy as np\n",
    "import matplotlib.pyplot as plt\n",
    "\n",
    "## Defining the home and data directories at the processing location\n",
    "work_dir = os.path.abspath(os.getcwd())\n",
    "tutorial_home_dir = os.path.abspath(os.getcwd())\n",
    "print(\"Work directory: \", work_dir)\n",
    "print(\"Tutorial directory: \", tutorial_home_dir)\n",
    "\n",
    "# Enable GDAL/OGR exceptions\n",
    "gdal.UseExceptions()\n",
    "\n",
    "# Verifying if ARIA-tools is installed correctly\n",
    "try:\n",
    "    import RAiDER\n",
    "except:\n",
    "    raise RuntimeError('RAiDER is missing from your PYTHONPATH')\n",
    "\n",
    "os.chdir(work_dir)"
   ]
  },
  {
   "cell_type": "markdown",
   "metadata": {
    "heading_collapsed": true,
    "hidden": true
   },
   "source": [
    "# RAiDER Readers"
   ]
  },
  {
   "cell_type": "markdown",
   "metadata": {
    "hidden": true
   },
   "source": [
    "Weather model readers provide the link between the raw weather model data (e.g. available from ECMWF, ERA-5, ERA-5T, GMAO, MERRA-2, HRRR), and the absolute delay calculation. Readers can be added by users to account for other models and custom formats. Here we provide an overview of the WeatherModel class object and requirements for writing one's own reader function. "
   ]
  },
  {
   "cell_type": "markdown",
   "metadata": {
    "hidden": true
   },
   "source": [
    "## The WeatherModel class"
   ]
  },
  {
   "cell_type": "markdown",
   "metadata": {
    "hidden": true
   },
   "source": [
    "### Functions to be overloaded:\n",
    "\\_fetch: \n",
    "- Called by WeatherModel.fetch method\n",
    "- downloads or loads data from the source files\n",
    "\n",
    "load_weather: \n",
    "- Called by the WeatherModel.load method\n",
    "- loads data from the raw weather model files and parses it into the WeatherModel format (see below)"
   ]
  },
  {
   "cell_type": "markdown",
   "metadata": {},
   "source": [
    "### Defining a custom Reader\n",
    "The example below describes the minimum required attributes and methods for a custom model reader. Each model reader should call as a super-class the \"WeatherModel\" base class and should initialize the base class as shown in the example. This will initialize all of the required attributes, etc. and default values for non-required attributes.  \n",
    "\n",
    "The minimum required class methods are ```__init__```, ```_fetch``` and ```load_weather```, and auxiliary methods and attributes can be defined as needed for accessing the data API, loading and manipulating the data, etc. "
   ]
  },
  {
   "cell_type": "markdown",
   "metadata": {
    "hidden": true
   },
   "source": [
    "#### Required data and format\n",
    "RAiDER expects that your custom weather model reader will result in a Python object with attributes consistent with the WeatherModel class and the RAiDER convention. The required variables are: \n",
    "- \\_lats, \\_lons\n",
    "- \\_p, \\_t\n",
    "- \\_rh OR \\_q, matching the corresponding \\_humidityType\n",
    "\n",
    "In addition, you need three variables that capture the coordinates of the data cubes:\n",
    "- \\_xs, \\_ys, \\_zs\n",
    "\n",
    "Each of the required variables should be a 3-D cube, all of the same shape, with axes ordered as (z, x, y), monotonically increasing***. \\_lons and \\_lats should also be 3D cubes, replicated in the z-dimension. "
   ]
  },
  {
   "cell_type": "markdown",
   "metadata": {
    "hidden": true
   },
   "source": [
    "<div class=\"alert alert-warning\">\n",
    "    \n",
    "The longitude '_lons' needs to vary between -180 and 180 (longitudes between 0 and 360 are not supported).\n",
    "    \n",
    "\n",
    "The '_zs' variable should be topographic height, but the height variable passed with the weather model data is often the geopotential height, which must be converted to topographic height. The WeatherModel class has a helper function for this conversion, which can be called within the custom class as self._get_heights(lats, geo_hgt), where geo_hgt is geopotential height. \n",
    "</div>"
   ]
  },
  {
   "cell_type": "code",
   "execution_count": null,
   "metadata": {},
   "outputs": [],
   "source": [
    "from RAiDER.models.weatherModel import WeatherModel\n",
    "\n",
    "class customModelReader(WeatherModel):\n",
    "    def __init__(self):\n",
    "        WeatherModel.__init__(self)\n",
    "        \n",
    "        # **Note**: The equation for refractivity uses e, ***<def>, but\n",
    "        # typically weather models provide either q (specific humidity) or\n",
    "        # rh (relative humidity). RAiDER computes e automatically from\n",
    "        # either of these.\n",
    "        self._humidityType = 'q'  # can be \"q\" (specific humidity) or \"rh\" (relative humidity)\n",
    "\n",
    "        # This is useful if a single weather model provides data on both fixed\n",
    "        # pressure levels and fixed model levels (e.g., ECMWF). You can define\n",
    "        # different readers for both types\n",
    "        self._model_level_type = 'pl' # Default, pressure levels are \"pl\", and model levels are \"ml\"\n",
    "\n",
    "        # Tuple of min/max years where data is available.\n",
    "        # valid range of the dataset. Users need to specify the start date and\n",
    "        # end date (can be \"present\")\n",
    "        self._valid_range = (datetime.datetime(2016,7,15),\"Present\")\n",
    "\n",
    "        # Lag time between today and when today's data will be available for\n",
    "        # download.\n",
    "        # Can be specified in hours \"hours=3\" or in days \"days=3\"\n",
    "        self._lag_time = datetime.timedelta(hours=3)\n",
    "\n",
    "        # model constants (these three borrowed from the ECMWF model)\n",
    "        # These the k's in the expression for refractivity:\n",
    "        #   k1*(P/T) + k2*(e/T) + k3*(e/T^2)\n",
    "        self._k1 = 0.776  # [K/Pa]\n",
    "        self._k2 = 0.233 # [K/Pa]\n",
    "        self._k3 = 3.75e3 # [K^2/Pa]\n",
    "\n",
    "        # horizontal grid spacing. These are NOT used for projection\n",
    "        # information, but are used to estimate a buffer region around your\n",
    "        # query points to ensure that a large enough area is downloaded\n",
    "        self._lat_res = 3./111  #  grid spacing in latitude\n",
    "        self._lon_res = 3./111  #  grid spacing in longitude\n",
    "        self._x_res = 3.        #  x-direction grid spacing in the native weather model projection\n",
    "                                #  (if the projection is in lat/lon, it is the same as \"self._lon_res\")\n",
    "        self._y_res = 3.        #  y-direction grid spacing in the weather model native projection\n",
    "                                #  (if the projection is in lat/lon, it is the same as \"self._lat_res\")\n",
    "\n",
    "        self._Name = 'ABCD' #  name of the custom weather model (better to be capitalized)\n",
    "\n",
    "        # Projections in RAiDER are defined using pyproj\n",
    "        # (python wrapper around Proj)\n",
    "        # If the projection is defined with EPSG code, one can use\n",
    "        #   \"self._proj = CRS.from_epsg(4326)\"\n",
    "        # to replace the following lines to get \"self._proj\".\n",
    "        # Below we show the example of HRRR model with the parameters of its\n",
    "        # Lambert Conformal Conic projection\n",
    "        lon0 = 262.5\n",
    "        lat0 = 38.5\n",
    "        lat1 = 38.5\n",
    "        lat2 = 38.5\n",
    "        x0 = 0\n",
    "        y0 = 0\n",
    "        earth_radius = 6371229\n",
    "        self._proj = CRS(\n",
    "            '+proj=lcc ' + \\\n",
    "            f'+lat_1={lat1} +lat_2={lat2} +lat_0={lat0} +lon_0={lon0} ' + \\\n",
    "            f'+x_0={x0} +y_0={y0} +a={earth_radius} +b={earth_radius} ' + \\\n",
    "            '+units=m +no_defs'\n",
    "        )\n",
    "\n",
    "\n",
    "    # This function needs to be writen by the users and is used to e.g. download\n",
    "    # a file containing weather data (p, t, rh, etc.) from the weather model\n",
    "    # server, or iff your weather models always live locally, you can define\n",
    "    # logic here to read a subset of the files based on the input bounding box.\n",
    "    def _fetch(self, lats, lons, time, out):\n",
    "        '''\n",
    "        Fetch weather model data from the custom weather model \"ABCD\"\n",
    "\n",
    "        Parameters\n",
    "        ----------\n",
    "        NDArray:                lats - latitude of your query points\n",
    "        NDArray:                lons - longitude of your query points\n",
    "        Python Datetime object: time - datatime object (year, month, day, hour, minute, second)\n",
    "        String:                 out  - name of downloaded dataset file from the custom weather model server\n",
    "        '''\n",
    "        # The list of inputs is exact; RAiDER will not pass any additional\n",
    "        # keyword arguments to this function, and all of the inputs must be\n",
    "        # provided.\n",
    "        \n",
    "        # bounding box plus a buffer using the helper function from the WeatherModel base class\n",
    "        # \n",
    "        # Set the \"Nextra\" argument to match the number of additional grid cells\n",
    "        # in your custom model to download outside of your query points. This is\n",
    "        # needed when ray-tracing slant delays for the points on the edge.\n",
    "        #\n",
    "        # Nextra should be something like\n",
    "        #   ceil(zref*tan(inc)/horizontal_grid_spacing),\n",
    "        # where zref is the assumed height of the troposphere (default 15 km),\n",
    "        # inc is the average inclination angle, and\n",
    "        # horizontal_grid_spacing is from your model in km.\n",
    "        # \n",
    "        # Example: Sentinel-1 (inc ~ 35 degrees), ERA-5 (grid spacing ~ 30 km)\n",
    "        # and the default zref (15 km),\n",
    "        # Nextra = 1.\n",
    "        lat_min, lat_max, lon_min, lon_max = self._get_ll_bounds(lats, lons, Nextra = 1)\n",
    "        self._bounds = (lat_min, lat_max, lon_min, lon_max)\n",
    "        \n",
    "        # Even if you don't need to download files, you will need to assign the\n",
    "        # \"self._files\" attribute so that the \"load_weather\" method knows what\n",
    "        # file contains the data\n",
    "        # \n",
    "        # In this example, you would need to define an auxilliary function\n",
    "        # _download_abcd_file (see below)\n",
    "        self._files = self._download_abcd_file(out, time, self._bounds)\n",
    "\n",
    "\n",
    "    # This function gets called by RAiDER to read individual variables from your\n",
    "    # source file and pre-process the data from the file into the format\n",
    "    # expected by RAiDER (see main text above and \"Returns\" description below).\n",
    "    def load_weather(self, filename: str) -> None:\n",
    "        '''\n",
    "        Load weather model variables from the downloaded file named filename\n",
    "\n",
    "        Parameters\n",
    "        ---------- \n",
    "        filename - filename of the downloaded weather model file\n",
    "\n",
    "        Returns\n",
    "        -------\n",
    "        # Doesn't directly return anything, but assigns values to self.\n",
    "        # Data cubes: should be ordered as (z, x, y)\n",
    "        NDArray: _p    - 3D data cube of pressure in Pa\n",
    "        NDArray: _t    - 3D data cube of temperature in Kelvin\n",
    "        NDArray: _q    - 3D data cube of specific humidity in ***; only one of _q or _rh is required\n",
    "        NDArray: _rh   - 3D data cube of relative humidity in ***; only one of _q or _rh is required\n",
    "        NDArray: _lats - 3D data cube of latitude. Should be WGS-84 latitudes (EPSG: 4326)\n",
    "        NDArray: _lons - 3D data cube of longitude. Should be WGS-84 latitudes (EPSG: 4326)\n",
    "        NDArray: _xs   - 3D cube of x-coordinates of the data cubes in the native weather model projection\n",
    "        NDArray: _ys   - 3D cube of y-coordinates of the data cubes in the native weather model projection\n",
    "        NDArray: _zs   - 3D cube of z-coordinates of the data cubes in the native weather model projection\n",
    "\n",
    "        '''\n",
    "        # In this case we have an auxiliary function \"_makeDataCubes\" to do the\n",
    "        # pre-processing. Pre-processing loads the data available from the\n",
    "        # weather model file and manipulates it as needed to get the data cubes\n",
    "        # into the form prescribed above.\n",
    "        lats, lons, xs, ys, t, q, p, hgt = self._makeDataCubes(filename)\n",
    "        \n",
    "        # **Note**: RAiDER provides helper functions for certain types of\n",
    "        # operations; e.g. for converting surface pressure and geopotential to\n",
    "        # pressure and geopotential height:\n",
    "        #   z, p, hgt = self._calculategeoh(z, lnsp),\n",
    "        # where z is geopotential and lnsp is the natural log of surface pressure\n",
    "\n",
    "        # **Note**: ECMWF provides heights as geopotential (units m^2/s^2).\n",
    "        # For a similar custom model, one can use the following line to convert\n",
    "        # to geopotential height:\n",
    "        #   hgt = z / self._g0\n",
    "        \n",
    "        # if geopotential height is provided, one can use the following line to\n",
    "        # convert to topographic height, which is then automatically assigned to\n",
    "        # self._zs:\n",
    "        #   self._get_heights(lats, hgt)\n",
    "        # where hgt is geopotential height = geopotential / gravity acceleration\n",
    "        \n",
    "        # Otherwise, if topographic height is provided directly:\n",
    "        _zs = hgt\n",
    "        \n",
    "        # depending\n",
    "        self._t = t\n",
    "        self._q = q\n",
    "        self._p = p\n",
    "        self._lats = lats\n",
    "        self._lons = lons\n",
    "\n",
    "        # _xs: x-direction grid coordinate in the native weather model projection (=_lons if projection is WGS-84)\n",
    "        # _ys: y-direction grid coordinate in the native weather model projection (=_lats if projection is WGS-84)\n",
    "        # _zs: z-direction grid coordinate. Must be topographic height in meters.\n",
    "        self._xs = xs\n",
    "        self._ys = ys\n",
    "        self._zs = _zs\n",
    "        ###########\n",
    "\n",
    "    def _download_abcd_file(self, out, date_time, bounding_box):\n",
    "        '''\n",
    "        Example auxilliary function for fetching data\n",
    "\n",
    "        Can be a file download from a server, grabbing a local filename, or\n",
    "        accessing a cloud-based API\n",
    "\n",
    "        Parameters\n",
    "        ----------\n",
    "        out          - filename to save data to\n",
    "        date_time    - Python datatime object\n",
    "        bounding_box - bounding box for the region of interest \n",
    "\n",
    "        Output: \n",
    "        out - returned filename from input\n",
    "        '''\n",
    "        return None\n",
    "\n",
    "    \n",
    "    def _makeDataCubes(self, filename):\n",
    "        '''\n",
    "        Example auxilliary function for data pre-processing\n",
    "        \n",
    "        Read 3-D data cubes from 'filename' \n",
    "        \n",
    "        Parameters\n",
    "        ----------\n",
    "        filename - filename of the downloaded weather model file from the server\n",
    "\n",
    "        Returns\n",
    "        -------\n",
    "        lats - latitude (3-D data cube)\n",
    "        lons - longitude (3-D data cube)\n",
    "        xs - x-direction grid dimension of the native weather model coordinates (3-D data cube; if in lat/lon, _xs = _lons)\n",
    "        ys - y-direction grid dimension of the native weather model coordinates (3-D data cube; if in lat/lon, _ys = _lats)\n",
    "        t - temperature (3-D data cube)\n",
    "        q - humidity (3-D data cube; could be relative humidity or specific humidity)\n",
    "        p - pressure level (3-D data cube; could be pressure level (preferred) or surface pressure)\n",
    "        hgt - height (3-D data cube; could be geopotential height or topographic height (preferred))\n",
    "        '''\n",
    "        return None, None, None, None, None, None, None, None\n",
    "    "
   ]
  },
  {
   "cell_type": "markdown",
   "metadata": {},
   "source": [
    "### The ```_fetch``` method\n",
    "The ```_fetch``` method gets called by the RAiDER to fetch download or read the data. As shown in the example script, this is where you can download the data from a server, etc. If your weather model always lives on your local machine (or can always be locally accessed) this method can be very simple, but should still be defined as it will always be called. In addition, the filename of the data should be returned so that RAiDER knows what file to load. "
   ]
  },
  {
   "cell_type": "markdown",
   "metadata": {},
   "source": [
    "### The ```load_weather``` method\n",
    "```load_weather``` is like ```_fetch``` in that it always gets called during the \"load\" routine. After you have a file available for RAiDER to read, this method will pre-process the data from your file to match the inputs RAiDER expects. In particular, after running this method, your weather model reader object should contain the variables listed in the example above. "
   ]
  },
  {
   "cell_type": "markdown",
   "metadata": {
    "hidden": true
   },
   "source": [
    " ### Adding the reader to the weather model list\n",
    "\n",
    "Modify the allowed list of weather models \"allowed.py\" under the directory of \"tools/RAiDER/models\" to include the custom \"ABCD\" model as below. "
   ]
  },
  {
   "cell_type": "code",
   "execution_count": null,
   "metadata": {},
   "outputs": [],
   "source": [
    "ALLOWED_MODELS = [\n",
    "    'ERA5',\n",
    "    'ERA5T',\n",
    "    'ERAI',\n",
    "    'MERRA2',\n",
    "    'WRF',\n",
    "    'HRRR',\n",
    "    'GMAO',\n",
    "    'HDF5',\n",
    "    'HRES',\n",
    "    'NCMR',\n",
    "    'ABCD'\n",
    "]"
   ]
  },
  {
   "cell_type": "markdown",
   "metadata": {},
   "source": [
    "### Debugging your custom reader\n",
    "The WeatherModel class has two built-in plots for debugging purposes:\n",
    "\n",
    "```WeatherModel.plot(plotType='pqt', savefig=True)```\n",
    "\n",
    "```WeatherModel.plot(plotType='wh', savefig=True)```\n",
    "\n",
    "These commands plot pressure/humidity/temperature and wet and hydrostatic refractivity for the weather model, and are created by default when running ```raiderDelay.py``` normally.\n",
    "\n",
    "When debugging your custom model reader, you can use the command line executable ```raiderWeatherModelDebug.py```, which can take the exactly same list of input variables as ```raiderDelay.py``` and just create the debugging plots."
   ]
  },
  {
   "cell_type": "code",
   "execution_count": null,
   "metadata": {},
   "outputs": [],
   "source": [
    "# Replace \"ABCD\" with your custom weather model name\n",
    "# add the --out option if you want your results to be written to a directory other than the current one\n",
    "raiderWeatherModelDebug.py --date 20200103 --time 23:00:00 -b 39 40 -79 -78 --model ABCD --zref 15000 -v"
   ]
  },
  {
   "cell_type": "markdown",
   "metadata": {},
   "source": [
    "You can also test your custom model reader by running the three example commands from the ```raiderDelay.py``` helper message (i.e. running ```raiderDelay.py``` with the ```-h``` option will show the three example commands) with the weather model name \"ERA5\" replaced with the newly-added custom one, e.g. \"ABCD\"."
   ]
  },
  {
   "cell_type": "code",
   "execution_count": null,
   "metadata": {},
   "outputs": [],
   "source": [
    "# Replace \"ABCD\" with your custom weather model name\n",
    "# add the --out option if you want your results to be written to a directory other than the current one\n",
    "raiderDelay.py --date 20200103 --time 23:00:00 -b 39 40 -79 -78 --model ABCD --zref 15000 -v"
   ]
  },
  {
   "cell_type": "markdown",
   "metadata": {},
   "source": [
    "RAiDER has several features to aid in debugging custom weather models. \n",
    "\n",
    "The debugging plots have been generated for several weather models (ERA-5, ERA-5T, ERA-I, MERRA-2, GMAO, HRRR, ECMWF HRES, NCMR) on July 1st, 2018 at 00:00:00. ERA-5 is shown below, and the others are in the img directory in this folder.  \n",
    "\n",
    "For each weather model, the first debugging plot (with option 'pqt') shows the pressure/humidity/temperature at an altitude of 500 m (top row) and 15,000 m (middle row), and then the bottom row shows the vertical variation of pressure/humidity/temperature located specifically at the black point (Los Angeles).\n",
    "\n",
    "The second debugging plot (with option 'wh') shows the wet and hydrostatic refractivity at the altitude of 500 m (top row) and 15,000 m (bottom row)."
   ]
  },
  {
   "cell_type": "markdown",
   "metadata": {},
   "source": [
    "![ERA-5 Weather Model Data 20180701T00:00:00](img/ERA-5_weather_hgt500_and_15000m.png)\n",
    "![ERA-5 Refractivity 20180701T00:00:00](img/ERA-5_refractivity_hgt500_and_15000m.png)"
   ]
  }
 ],
 "metadata": {
  "kernelspec": {
   "display_name": "Python 3",
   "language": "python",
   "name": "python3"
  },
  "language_info": {
   "codemirror_mode": {
    "name": "ipython",
    "version": 3
   },
   "file_extension": ".py",
   "mimetype": "text/x-python",
   "name": "python",
   "nbconvert_exporter": "python",
   "pygments_lexer": "ipython3",
   "version": "3.7.8"
  }
 },
 "nbformat": 4,
 "nbformat_minor": 2
}
