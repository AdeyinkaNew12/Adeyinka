{
 "cells": [
  {
   "cell_type": "markdown",
   "metadata": {},
   "source": [
    "# Getting Started with RAiDER\n",
    "\n",
    "**Author**: Jeremy Maurer, David Bekaert, Simran Sangha, Yang Lei - Jet Propulsion Laboratory, California Institute of Technology\n",
    "\n",
    "This notebook provides an overview of how to get started using the RAiDER package for estimating tropospheric RADAR delays, and other functionality included in the **raiderDelay.py** program. We give an example of how to download and process delays using ERA-5 and HRRR weather models for the Los Angeles region. \n",
    "\n",
    "In this notebook, we will demonstrate how to:\n",
    "- Download and install the RAiDER package\n",
    "- Run RAiDER to generate a grid of delays over the Los Angeles region\n",
    "    \n",
    "<div class=\"alert alert-warning\">\n",
    "The initial setup (<b>Prep A</b> section) should be run at the start of the notebook. The overview sections do not need to be run in order. \n",
    "</div>\n",
    "\n",
    "<div class=\"alert alert-danger\">\n",
    "<b>Potential Errors:</b> \n",
    "    \n",
    "- GDAL uses \"HDF5\" driver instead of \"netCDF/Network Common Data Format.\" Verify GDAL version >= 3.\n",
    "- RAiDER needs to be installed to run this notebook\n",
    "</div>\n",
    "\n",
    "\n",
    "<div class=\"alert alert-info\">\n",
    "    <b>Terminology:</b>\n",
    "    \n",
    "- *Acquisition*: A single image acquired by a satellite at a particular time\n",
    "- *Interferogram*: An unwrapped image containing the surface displacement accumulated between two acquisitions.\n",
    "- *Weather model*: A reanalysis weather product defining temperature, pressure, and humidity on a regular grid in some coordinate system (e.g., at regular lat/lon intervals in the standard EPSG:4326 reference frame).\n",
    "- *Delay*: The apparent displacement in an interferogram that occurs solely due to changes in weather conditions between two acquisitions.\n",
    "    </div>\n",
    "    "
   ]
  },
  {
   "cell_type": "markdown",
   "metadata": {},
   "source": [
    "## 1. Download and Installation \n",
    "### Installing Anaconda or Miniconda\n",
    "RAiDER was designed to work with __[Conda](https://docs.conda.io/en/latest/index.html)__ a cross-platform way to use Python that allows you to setup and use \"virtual environments.\" These can help to keep dependencies for different sets of code separate. Conda is distrubed as __[Anaconda](https://www.anaconda.com/products/individual)__ or __[Miniconda](https://docs.conda.io/projects/conda/en/latest/user-guide/install/download.html#anaconda-or-miniconda)__, a light-weight version of Anaconda. See __[here](https://docs.anaconda.com/anaconda/install/)__ for help installing Anaconda and __[here](https://docs.conda.io/en/latest/miniconda.html)__ for installing Miniconda. \n",
    "\n",
    "### Requirements for running RAiDER\n",
    "RAiDER currently works on \\*nix systems, and has been tested on the following systems:\n",
    "- Ubuntu v.16 and up\n",
    "- Mac OS v.10 and up\n",
    "\n",
    "### Installing RAiDER using conda\n",
    "1. First, __[download the source code](https://github.com/dbekaert/RAiDER/archive/dev.zip)__ for RAiDER and unzip to the location where you want to keep the code, or __[clone to the repository](https://github.com/dbekaert/RAiDER)__ to your system.  \n",
    "2. On a terminal, change to the source code directory and create a new conda environment using ```conda env create -f environment.yml```\n",
    "3. Activate the new conda environment using ```conda activate RAiDER```\n",
    "4. From inside the main source code directory, type ```python setup.py install```\n",
    "5. Finally, test the new installation: ```py.test test/```\n",
    "\n",
    "### Installing RAiDER without conda\n",
    "- To be completed"
   ]
  },
  {
   "cell_type": "markdown",
   "metadata": {
    "hidden": true
   },
   "source": [
    "## 2. Accessing weather model data\n",
    "RAiDER has built-in support for a number of different weather models. In addition, RAiDER provides functionality for adding additional weather models as users have need. RAiDER provides all of the interfacing to data servers required to access data for the different weather models, although some weather models require a license agreement. Instructions for accessing data, including license-limited data, are provided below. It is the user's responsibility to accept license agreements for whatever model is desired. \n",
    "\n",
    "<div class=\"alert alert-warning\">\n",
    "<b>Potential download failure:</b> \n",
    "ERA-5/ERA-I products require access to the ESA Copernicus servers. GMAO and MERRA-2 products require access to the NASA Earthdata servers. If you are unable to download products, ensure that you have registered and have downloaded the public API key, and accepted/added the license/application for type of product you wish to download as detailed below. \n",
    "</div>\n",
    "\n",
    "### Open-source models (HRRR)\n",
    "1. High-resolution rapid refresh (HRRR) weather model data products are generated by __[NOAA](https://rapidrefresh.noaa.gov/hrrr/)__ for the coninental US (CONUS) but not archived beyond three days. However a public __[archive](home.chpc.utah.edu/~u0553130/Brian_Blaylock/hrrr_FAQ.html)__ is available at the University of Utah. This archive does not require a license agreement. This model has the highest spatial resolution available in RAiDER, with a horizontal grid spacing of about 3 km, and is provided in a Lambert conformal conic projection. \n",
    "\n",
    "### ECMWF weather models (ERA-5, ERA-5T, ERA-I, HiRES)\n",
    "The European Centre for Medium-Range Weather Forecasts (__[ECMWF](https://www.ecmwf.int/)__) provides a number of different weather models, including both reanalysis and real-time models. You can read more information about their reanalysis models __[here](https://www.ecmwf.int/en/research/climate-reanalysis)__ and real-time model __[here](https://www.ecmwf.int/en/forecasts/datasets/catalogue-ecmwf-real-time-products)__. ECMWF models are global, with horizontal resolution of about 30 km for ERA-I, ERA-5, and ERA-5T, and 6 km for Hi-RES. All of these models come in a global projection (EPSG 4326, WGS-84). \n",
    "\n",
    "ECMWF requires a license agreement to be able to access, download, and use their products. Instructions for completing this process is below. \n",
    "\n",
    "#### Accessing ERA-5 and ERA-5T weather reanalysis products\n",
    "1. Create an account on the Copernicus servers __[here](https://cds.climate.copernicus.eu/user)__\n",
    "2. Confirm your email, etc. \n",
    "3. Install the public API key and client as instructed __[here](https://cds.climate.copernicus.eu/api-how-to)__:\n",
    "   \n",
    "   a. Copy the URL and API key from the webpage into a file in your home directory name ~/.cdsapirc \n",
    "         url: https://cds.climate.copernicus.eu/api/v2\n",
    "         key: your_key_here\n",
    "      __**Note**: the key represents the API key obtained upon the registration of CDS API, and should be replaced with the user's own information.__\n",
    "\n",
    "   b. Install the CDS API using pip: \n",
    "         pip install cdsapi\n",
    "   ___**Note**: this step has been included in the conda install of RAiDER, thus can be omitted if one uses the recommended conda install of RAiDER___\n",
    "4. You must accept the [license](https://cds.climate.copernicus.eu/cdsapp/#!/terms/licence-to-use-copernicus-products) for each product you wish to download.\n",
    "\n",
    "#### Accessing ERA-I, Hi-RES\n",
    "\n",
    "1. Create an account on the Copernicus-ECMWF servers __[here](https://accounts.ecmwf.int/auth/realms/ecmwf/protocol/openid-connect/auth?response_type=code&scope=openid%20email&client_id=apache-www&state=sBYlpcTRPhat8d6uuM9swLCxuP8&redirect_uri=https%3A%2F%2Fwww.ecmwf.int%2Foidc.cgi&nonce=RyEzBUy4m6oo_HxRQEmJxbc5jrKY4KFZd1Usgi8cpnM)__\n",
    "2. Confirm your email, etc. \n",
    "3. Install the public API key and client as instructed __[here](https://confluence.ecmwf.int/display/WEBAPI/Access+ECMWF+Public+Datasets#AccessECMWFPublicDatasets-key)__: \n",
    "    \n",
    "    a. Copy the URL and API key from the webpage into a file in your home directory name ~/.cdsapirc \n",
    "        url: \"https://api.ecmwf.int/v1\"\n",
    "        email: your_email_here\n",
    "        key: your_key_here\n",
    "    __**Note**: the email that is used to register the user account, and the key represents the API key obtained upon the registration of ECMWF API, and should be replaced with the user's own information.__\n",
    "\n",
    "    b. Install the ECMWF API using pip: \n",
    "        ```pip install ecmwf-api-client```\n",
    "    ___**Note**: this step has been included in the conda install of RAiDER, thus can be omitted if one uses the recommended conda install of RAiDER___\n",
    "\n",
    "\n",
    "### Accessing NASA weather models (GMAO, MERRA-2)\n",
    "    \n",
    "1. The Global Modeling and Assimilation Office (__[GMAO](https://www.nccs.nasa.gov/services/data-collections/coupled-products/geos5-forecast#:~:text=The%20Global%20Modeling%20and%20Assimilation,near%2Dreal%2Dtime%20production.)__) at NASA generates reanalysis weather models. GMAO products can also be accessed without a license agreement through the pyDAP interface implemented in RAiDER. GMAO has a horizontal grid spacing of approximately 33 km, and its projection is EPSG code 4326 (WGS-84). \n",
    "\n",
    "2. The Modern-Era Retrospective analysis for Research and Applications, Version 2 (__[MERRA-2](https://gmao.gsfc.nasa.gov/reanalysis/MERRA-2/#:~:text=MERRA%2D2%20is%20the%20first,(say)%20Greenland%20and%20Antarctica.)__) provides data beginning in 1980. MERRA-2 is also produced by NASA and has a spatial resolution of about 50 km and a global projection (EPSG 4326, WGS-84).  \n",
    "\n",
    "Reference: __[The Modern-Era Retrospective Analysis for Research and Applications, Version 2 (MERRA-2)](https://journals.ametsoc.org/view/journals/clim/30/14/jcli-d-16-0758.1.xml)__, Ronald Gelaro, et al., 2017, J. Clim., doi: 10.1175/JCLI-D-16-0758.1\n",
    "\n",
    "#### Accessing NASA weather model data\n",
    "1. Create an account on the NASA's Earthdata website [here](https://urs.earthdata.nasa.gov)\n",
    "2. Confirm your email, etc. \n",
    "3. Copy the login username and password to a file in your home directory name ~/.netrc \n",
    "         \n",
    "         machine urs.earthdata.nasa.gov\n",
    "                 login <USERNAME>\n",
    "                 password <PASSWORD>\n",
    "                 \n",
    "   __**Note**: the username and password represent the user's username and password.__\n",
    "   \n",
    "4. Add the application `NASA GESDISC DATA ARCHIVE` by clicking on the `Applications->Authorized Apps` on the menu after logging into your Earthdata profile, and then scrolling down to the application `NASA GESDISC DATA ARCHIVE` to approve it. _This seems not required for GMAO for now, but recommended to do so for all OpenDAP-based weather models._\n",
    "5. Install the OpenDAP using pip: \n",
    "\n",
    "         pip install pydap==3.2.1\n",
    "      \n",
    "\n",
    "   ___**Note**: this step has been included in the conda install of RAiDER, thus can be omitted if one uses the recommended conda install of RAiDER___\n",
    "   \n",
    "   ___**Note**: PyDAP v3.2.1 is required for now (thus specified in the above pip install command) because the latest v3.2.2 (as of now) has a known [bug](https://colab.research.google.com/drive/1f_ss1Oa3VzgAOd_p8sgekdnLVE5NW6s5) in accessing and slicing the GMAO data. This bug is expected to be fixed in newer versions of PyDAP.___\n"
   ]
  },
  {
   "cell_type": "markdown",
   "metadata": {
    "heading_collapsed": true,
    "hidden": true
   },
   "source": [
    "## Getting Started Using RAiDER"
   ]
  },
  {
   "cell_type": "markdown",
   "metadata": {
    "hidden": true
   },
   "source": [
    "### The raiderDelay.py program\n",
    "**`raiderDelay.py`** is a command-line program that allows for easy downloading and processing of tropospheric weather delays for InSAR correction. "
   ]
  },
  {
   "cell_type": "code",
   "execution_count": 1,
   "metadata": {
    "hidden": true
   },
   "outputs": [
    {
     "name": "stdout",
     "output_type": "stream",
     "text": [
      "usage: raiderDelay.py [-h] --date DATELIST [DATELIST ...] --time TIME\n",
      "                      (--latlon LAT LONG | --bbox S N W E | --station_file QUERY_AREA)\n",
      "                      [--lineofsight LOS | --statevectors SV] [--dem DEM]\n",
      "                      [--heightlvs HEIGHTLVS [HEIGHTLVS ...]]\n",
      "                      [--model {ERA5,ERA5T,ERAI,MERRA2,WRF,HRRR,GMAO,HDF5,HRES,NCMR}]\n",
      "                      [--files FILES [FILES ...]] [--weatherFiles WMLOC]\n",
      "                      [--zref ZREF] [--parallel PARALLEL]\n",
      "                      [--outformat OUTFORMAT] [--out OUT] [--download_only]\n",
      "                      [--verbose]\n",
      "\n",
      "Calculate tropospheric delay from a weather model.\n",
      "Usage examples:\n",
      "raiderDelay.py --date 20200103 --time 23:00:00 -b 39 40 -79 -78 --model ERA5 --zref 15000 -v\n",
      "raiderDelay.py --date 20200103 --time 23:00:00 -b 39 40 -79 -78 --model ERA5 --zref 15000 --heightlvs 0 100 200 -v\n",
      "raiderDelay.py --date 20200103 --time 23:00:00 --latlon test/scenario_1/geom/lat.dat test/scenario_1/geom/lon.dat --model ERA5 --zref 20000 -v --out test/scenario_1/\n",
      "\n",
      "optional arguments:\n",
      "  -h, --help            show this help message and exit\n",
      "\n",
      "Datetime:\n",
      "  --date DATELIST [DATELIST ...]\n",
      "                        Date to calculate delay. Can be a single date, a list\n",
      "                        of two dates (earlier, later) with 1-day interval, or\n",
      "                        a list of two dates and interval in days (earlier,\n",
      "                        later, interval). Example accepted formats: YYYYMMDD\n",
      "                        or YYYYMMDD YYYYMMDD YYYYMMDD YYYYMMDD N\n",
      "  --time TIME           Calculate delay at this time. Example formats:\n",
      "                        THHMMSS, HHMMSS, or HH:MM:SS\n",
      "\n",
      "Area of Interest (Supply one):\n",
      "  --latlon LAT LONG, -ll LAT LONG\n",
      "                        GDAL-readable latitude and longitude raster files (2\n",
      "                        single-band files)\n",
      "  --bbox S N W E, -b S N W E\n",
      "                        Bounding box\n",
      "  --station_file QUERY_AREA\n",
      "                        CSV file with a list of stations, containing at least\n",
      "                        the columns \"Lat\" and \"Lon\"\n",
      "\n",
      "Specify a Line-of-sight or state vector file. If neither argument is supplied, the Zenith delay will be returned:\n",
      "  --lineofsight LOS, -l LOS\n",
      "                        GDAL-readable two-band line-of-sight file (B1:\n",
      "                        inclination, B2: heading)\n",
      "  --statevectors SV, -s SV\n",
      "                        An ESA orbit file or text file containing state\n",
      "                        vectors specifying the orbit of the sensor.\n",
      "\n",
      "Height data. Default is ground surface for specified lat/lons, height levels otherwise:\n",
      "  --dem DEM, -d DEM     Specify a DEM to use with lat/lon inputs.\n",
      "  --heightlvs HEIGHTLVS [HEIGHTLVS ...]\n",
      "                        A space-deliminited list of heights\n",
      "\n",
      "Weather model. See documentation for details:\n",
      "  --model {ERA5,ERA5T,ERAI,MERRA2,WRF,HRRR,GMAO,HDF5,HRES,NCMR}\n",
      "                        Weather model option to use.\n",
      "  --files FILES [FILES ...]\n",
      "                        OUT/PLEV or HDF5 file(s)\n",
      "  --weatherFiles WMLOC, -w WMLOC\n",
      "                        Directory location of/to write weather model files\n",
      "\n",
      "Run parameters:\n",
      "  --zref ZREF, -z ZREF  Height limit when integrating (meters) (default:\n",
      "                        15000.0 m)\n",
      "  --parallel PARALLEL, -p PARALLEL\n",
      "                        Number of parallel delays computations or weather\n",
      "                        model downloads (with download_only enabled) that are\n",
      "                        ran concurrently (default: 1)\n",
      "  --outformat OUTFORMAT\n",
      "                        GDAL-compatible file format if surface delays are\n",
      "                        requested.\n",
      "  --out OUT             Output directory\n",
      "  --download_only       Download weather model only without processing?\n",
      "                        Default False\n",
      "  --verbose, -v         Run in verbose mode\n"
     ]
    }
   ],
   "source": [
    "# Running raiderDelay.py -h will print the help menu\n",
    "!raiderDelay.py -h"
   ]
  },
  {
   "cell_type": "code",
   "execution_count": null,
   "metadata": {},
   "outputs": [],
   "source": [
    "# Get started quickly - Run an example command!\n",
    "# This command will download the weather model ERA5 (change it to GMAO or HRRR if you do not have access to ERA-5)\n",
    "# The download_only option specifies that the data will be downloaded from the remote server, but no other processing will occur\n",
    "# The -b option gives a bounding box in SNWE format\n",
    "# date and time of the delay to download is specified\n",
    "# -v means \"verbose,\" so RAiDER will print out extra information to the console\n",
    "raiderDelay.py --date 20200103 --time 00:00:00 -b 39 40 -79 -78 --model ERA5 --download_only -v --out <output_directory>"
   ]
  },
  {
   "cell_type": "markdown",
   "metadata": {},
   "source": [
    "#### Details of the command-line input options\n",
    "RAiDER is quite flexible in terms of the input arguments it allows.  "
   ]
  },
  {
   "cell_type": "markdown",
   "metadata": {
    "heading_collapsed": true,
    "hidden": true
   },
   "source": [
    "### 1. Date or date list (--date)"
   ]
  },
  {
   "cell_type": "markdown",
   "metadata": {
    "hidden": true
   },
   "source": [
    "This argument is required unless the weather model files are directly specified. The date(s) passed can be either: \n",
    "1) a single date, specified in psuedo-ISO 8601 format: 20180101, 2018-01-01, etc.  \n",
    "2) a space-deliminated pair of dates, in which case all the dates between the pair listed will be downloaded and processed. E.g., '20180101 20190101'  \n",
    "3) a space-delimited pair of dates plus an interval in days, to specify the date interval to download. E.g., '20180101 20190101 12'"
   ]
  },
  {
   "cell_type": "markdown",
   "metadata": {
    "heading_collapsed": true,
    "hidden": true
   },
   "source": [
    "### 2. Time of day (--time)"
   ]
  },
  {
   "cell_type": "markdown",
   "metadata": {
    "hidden": true
   },
   "source": [
    "This argument is also required unless files are explicitly passed. Specify the time of day to download and process in psuedo-ISO 8601 format: \n",
    "1) T020000  \n",
    "2) T02:00:00.000  \n",
    "3) T0200  \n",
    "4) 12:00:00  \n",
    "5) 120000  \n",
    "etc. "
   ]
  },
  {
   "cell_type": "markdown",
   "metadata": {},
   "source": [
    "### 3. Area of Interest (AOI) arguments\n",
    "\n",
    "RAiDER accepts three different options as inputs for the AOI: 1) a bounding box, in which case the weather model grid nodes are used for x/y locations, 2) a station file, which should be a .csv containing at minimum the columns \"Lat\" and \"Lon,\" and 3) ISCE-style latitude and longitude grid files in radar coordinates. Only one option should be used, and the arguments can be passed as described below.  \n",
    "\n",
    "```--latlon```: <latitude file> <longitude file> in gridded radar coordinates. Example: ```--latlon lat.rdr lon.rdr```  \n",
    "```--bbox```: A bounding box of numbers in South North West East format. Example: ```--bbox 41 42 -78 -77```  \n",
    "```--station_file```: A comma-delimited file with at least the columns \"Lat\" and \"Lon\". Example: ```--station_file stations.csv```"
   ]
  },
  {
   "cell_type": "markdown",
   "metadata": {
    "heading_collapsed": true,
    "hidden": true
   },
   "source": [
    "### 4. Direction Information"
   ]
  },
  {
   "cell_type": "markdown",
   "metadata": {
    "hidden": true
   },
   "source": [
    "This option can be used to specify a line-of-sight file such as those generated as outputs from the ISCE software package for InSAR (github.com/isce-framework/isce2). This should be a two-band GDAL-readable raster file containing the look vector components, with the incidence angle in band 1 and the heading in band 2."
   ]
  },
  {
   "cell_type": "markdown",
   "metadata": {
    "hidden": true
   },
   "source": [
    "This should be an ISCE-derived XML file or a shelve file containing state vectors specifying the orbit of the sensor. "
   ]
  },
  {
   "cell_type": "markdown",
   "metadata": {
    "hidden": true
   },
   "source": [
    "### 5. Height information"
   ]
  },
  {
   "cell_type": "markdown",
   "metadata": {
    "heading_collapsed": true,
    "hidden": true
   },
   "source": [
    "The DEM over the area of interest can be specified explicitly, or it will be downloaded on-the-fly. RAiDER will check the default location for a DEM (./geom), so if you download the DEM once it will not be downloaded again. "
   ]
  },
  {
   "cell_type": "markdown",
   "metadata": {
    "hidden": true
   },
   "source": [
    "### Height levels (--heightlvs)"
   ]
  },
  {
   "cell_type": "markdown",
   "metadata": {
    "hidden": true
   },
   "source": [
    "This option specifies a list of heights, for which the delay will be calculated. The result is a full 3-D cube of delays at the specified lat/lon grid and height levels. "
   ]
  },
  {
   "cell_type": "markdown",
   "metadata": {},
   "source": [
    "### 6. Runtime parameters"
   ]
  },
  {
   "cell_type": "markdown",
   "metadata": {
    "hidden": true
   },
   "source": [
    "### Weather model file directory location (-w/--weatherModelFileLocation)"
   ]
  },
  {
   "cell_type": "markdown",
   "metadata": {
    "hidden": true
   },
   "source": [
    "Specifies a directory to store the original weather model files. If not specified, the default location is ./weather_files."
   ]
  },
  {
   "cell_type": "markdown",
   "metadata": {
    "heading_collapsed": true,
    "hidden": true
   },
   "source": [
    "### Reference integration height (-z/--zref)"
   ]
  },
  {
   "cell_type": "markdown",
   "metadata": {
    "hidden": true
   },
   "source": [
    "This option allows the user to specify the integration height when computing the total delay. The default is 15 km. "
   ]
  },
  {
   "cell_type": "markdown",
   "metadata": {
    "hidden": true
   },
   "source": [
    "### Output file format (--outformat)"
   ]
  },
  {
   "cell_type": "markdown",
   "metadata": {
    "hidden": true
   },
   "source": [
    "This option is only used if the inputs are rasters or a bounding box, otherwise the output format is fixed (.csv file for station list, HDF5 file for height levels specified). Must be GDAL-compatible. "
   ]
  },
  {
   "cell_type": "markdown",
   "metadata": {
    "hidden": true
   },
   "source": [
    "### Output file directory (--out)"
   ]
  },
  {
   "cell_type": "markdown",
   "metadata": {
    "hidden": true
   },
   "source": [
    "This specifies the location of the output files. If not specified the default is ./results"
   ]
  },
  {
   "cell_type": "markdown",
   "metadata": {},
   "source": [
    "### Parallel Computation flag (-p, --no_parallel)"
   ]
  },
  {
   "cell_type": "markdown",
   "metadata": {},
   "source": [
    "If specified, do not run in parallel. Off by default. "
   ]
  },
  {
   "cell_type": "markdown",
   "metadata": {},
   "source": [
    "### Download the weather model only (--download_only)"
   ]
  },
  {
   "cell_type": "markdown",
   "metadata": {},
   "source": [
    "If specified, will only download the weather model and do nothing else. "
   ]
  },
  {
   "cell_type": "markdown",
   "metadata": {},
   "source": [
    "### Run in verbose mode (-v/--verbose)"
   ]
  },
  {
   "cell_type": "markdown",
   "metadata": {},
   "source": [
    "Runs the code in verbose mode. Will save the weather model to a pickle file for inspection and create debugging plots."
   ]
  },
  {
   "cell_type": "markdown",
   "metadata": {
    "hidden": true
   },
   "source": [
    "## Examples using RAiDER\n",
    "Below are some data demonstrations by using the debugging module of the RAiDER software. Here, the study area at Los Angles (latitude 34 deg, longitude -118 deg) is selected with a square box of 10 deg. See the optical image below.\n",
    "\n",
    "The debugging plots have been generated for the weather models (ERA-5, ERA-5T, ERA-I, MERRA-2, GMAO, HRRR, ECMWF HRES, NCMR) on July 1st, 2018 at 00:00:00. For each weather model, the first debugging plot (with option 'pqt') shows the pressure/humidity/temperature at an altitude of 500 m (top row) and 15,000 m (middle row), and then the bottom row shows the vertical variation of pressure/humidity/temperature located specifically at the black point (Los Angeles).\n",
    "\n",
    "The second debugging plot (with option 'wh') shows the wet and hydrostatic refractivity at the altitude of 500 m (top row) and 15,000 m (bottomw row)."
   ]
  },
  {
   "cell_type": "markdown",
   "metadata": {},
   "source": [
    "![Optical Image at Los Angeles]()\n",
    "<img src=\"img/optical.png\" width=\"300\" height=\"150\">\n",
    "\\\n",
    "\\\n",
    "![ERA-5 Weather Model Data 20180701T00:00:00]()\n",
    "![ERA-5_weather_hgt500_and_15000m.pdf](img/ERA-5_weather_hgt500_and_15000m.png)\n",
    "![ERA-5 Wet and Hydrostatic Refractivity 20180701T00:00:00]()\n",
    "![ERA-5_refractivity_hgt500_and_15000m](img/ERA-5_refractivity_hgt500_and_15000m.png)\n",
    "\\\n",
    "![ERA-5T Weather Model Data 20180701T00:00:00]()\n",
    "![ERA-5T_weather_hgt500_and_15000m.pdf](img/ERA-5T_weather_hgt500_and_15000m.png)\n",
    "![ERA-5T Wet and Hydrostatic Refractivity 20180701T00:00:00]()\n",
    "![ERA-5T_refractivity_hgt500_and_15000m](img/ERA-5T_refractivity_hgt500_and_15000m.png)\n",
    "\\\n",
    "![ERA-I Weather Model Data 20180701T00:00:00]()\n",
    "![ERA-I_weather_hgt500_and_15000m.pdf](img/ERA-I_weather_hgt500_and_15000m.png)\n",
    "![ERA-I Wet and Hydrostatic Refractivity 20180701T00:00:00]()\n",
    "![ERA-I_refractivity_hgt500_and_15000m](img/ERA-I_refractivity_hgt500_and_15000m.png)\n",
    "\\\n",
    "![MERRA-2 Weather Model Data 20180701T00:00:00]()\n",
    "![MERRA2_weather_hgt500_and_15000m.pdf](img/MERRA2_weather_hgt500_and_15000m.png)\n",
    "![MERRA-2 Wet and Hydrostatic Refractivity 20180701T00:00:00]()\n",
    "![MERRA2_refractivity_hgt500_and_15000m](img/MERRA2_refractivity_hgt500_and_15000m.png)\n",
    "\\\n",
    "![GMAO Weather Model Data 20180701T00:00:00]()\n",
    "![GMAO_weather_hgt500_and_15000m.pdf](img/GMAO_weather_hgt500_and_15000m.png)\n",
    "![GMAO Wet and Hydrostatic Refractivity 20180701T00:00:00]()\n",
    "![GMAO_refractivity_hgt500_and_15000m](img/GMAO_refractivity_hgt500_and_15000m.png)\n",
    "\\\n",
    "![HRRR Weather Model Data 20180701T00:00:00]()\n",
    "![HRRR_weather_hgt500_and_15000m.pdf](img/HRRR_weather_hgt500_and_15000m.png)\n",
    "![HRRR Wet and Hydrostatic Refractivity 20180701T00:00:00]()\n",
    "![HRRR_refractivity_hgt500_and_15000m](img/HRRR_refractivity_hgt500_and_15000m.png)\n",
    "\\\n",
    "![ECMWF HRES Weather Model Data 20180701T00:00:00]()\n",
    "![HRES_weather_hgt500_and_15000m.pdf](img/HRES_weather_hgt500_and_15000m.png)\n",
    "![ECMWF HRES Wet and Hydrostatic Refractivity 20180701T00:00:00]()\n",
    "![HRES_refractivity_hgt500_and_15000m](img/HRES_refractivity_hgt500_and_15000m.png)\n",
    "\\\n",
    "![NCMR Weather Model Data 20180701T00:00:00]()\n",
    "![NCMR_weather_hgt500_and_15000m.pdf](img/NCMR_weather_hgt500_and_15000m.png)\n",
    "![NCMR Wet and Hydrostatic Refractivity 20180701T00:00:00]()\n",
    "![NCMR_refractivity_hgt500_and_15000m](img/NCMR_refractivity_hgt500_and_15000m.png)"
   ]
  },
  {
   "cell_type": "code",
   "execution_count": null,
   "metadata": {},
   "outputs": [],
   "source": []
  }
 ],
 "metadata": {
  "kernelspec": {
   "display_name": "Python 3",
   "language": "python",
   "name": "python3"
  },
  "language_info": {
   "codemirror_mode": {
    "name": "ipython",
    "version": 3
   },
   "file_extension": ".py",
   "mimetype": "text/x-python",
   "name": "python",
   "nbconvert_exporter": "python",
   "pygments_lexer": "ipython3",
   "version": "3.8.3"
  },
  "latex_envs": {
   "LaTeX_envs_menu_present": true,
   "autoclose": false,
   "autocomplete": false,
   "bibliofile": "biblio.bib",
   "cite_by": "apalike",
   "current_citInitial": 1,
   "eqLabelWithNumbers": true,
   "eqNumInitial": 1,
   "hotkeys": {
    "equation": "Ctrl-E",
    "itemize": "Ctrl-I"
   },
   "labels_anchors": false,
   "latex_user_defs": false,
   "report_style_numbering": false,
   "user_envs_cfg": false
  }
 },
 "nbformat": 4,
 "nbformat_minor": 4
}
