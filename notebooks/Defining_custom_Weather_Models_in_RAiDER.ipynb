{
 "cells": [
  {
   "cell_type": "markdown",
   "metadata": {},
   "source": [
    "# Creating a new Weather Model in RAidER"
   ]
  },
  {
   "cell_type": "markdown",
   "metadata": {},
   "source": [
    "## Anaconda Installation\n",
    "If you need anaconda installed, see [here](https://docs.anaconda.com/anaconda/install/)\n",
    "\n",
    "## Anaconda environment setup\n",
    "Run the following from inside your base directory (baseDir):\n",
    "\n",
    "conda env create -f git_raytracing/doc/environment.yml\n",
    "\n",
    "source activate raytracing"
   ]
  },
  {
   "cell_type": "code",
   "execution_count": 16,
   "metadata": {},
   "outputs": [],
   "source": [
    "# Run this if you use a module file for the environment setup\n",
    "!module load raytracing"
   ]
  },
  {
   "cell_type": "code",
   "execution_count": 17,
   "metadata": {},
   "outputs": [
    {
     "name": "stdout",
     "output_type": "stream",
     "text": [
      "[Errno 2] No such file or directory: '../build'\n",
      "/u/kriek1/maurer/Documents/test\n",
      "CMake Error: The source directory \"/u/kriek1/maurer/Documents/git_raytracing/Geometry/cpp\" does not exist.\n",
      "Specify --help for usage, or press the help button on the CMake GUI.\n",
      "make: *** No targets specified and no makefile found.  Stop.\n",
      "(null): can't open file '../git_raytracing/Geometry/cython/setup.py': [Errno 2] No such file or directory\n"
     ]
    }
   ],
   "source": [
    "%cd ../build\n",
    "!cmake . ../git_raytracing/Geometry/cpp/\n",
    "!make \n",
    "!python3 ../git_raytracing/Geometry/cython/setup.py build_ext -b ~/Documents/test/build"
   ]
  },
  {
   "cell_type": "code",
   "execution_count": null,
   "metadata": {},
   "outputs": [],
   "source": [
    "# Test out the build\n",
    "import Geo2rdr"
   ]
  },
  {
   "cell_type": "code",
   "execution_count": null,
   "metadata": {},
   "outputs": [],
   "source": []
  }
 ],
 "metadata": {
  "kernelspec": {
   "display_name": "Python 3",
   "language": "python",
   "name": "python3"
  },
  "language_info": {
   "codemirror_mode": {
    "name": "ipython",
    "version": 3
   },
   "file_extension": ".py",
   "mimetype": "text/x-python",
   "name": "python",
   "nbconvert_exporter": "python",
   "pygments_lexer": "ipython3",
   "version": "3.8.3"
  }
 },
 "nbformat": 4,
 "nbformat_minor": 2
}
