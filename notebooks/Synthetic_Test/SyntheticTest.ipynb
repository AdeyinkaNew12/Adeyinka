{
 "cells": [
  {
   "cell_type": "markdown",
   "id": "e91c6342",
   "metadata": {},
   "source": [
    "# Delay Calculation Validation Experiments"
   ]
  },
  {
   "cell_type": "markdown",
   "id": "e1a4a1db",
   "metadata": {},
   "source": [
    "- Note that you'll have to be on an updated branch ... (to be pushed pending exising PRs)\n",
    "     - There is way to much going on in the current PRs, don't want to add complexity just yet"
   ]
  },
  {
   "cell_type": "code",
   "execution_count": 181,
   "id": "8701b438",
   "metadata": {
    "init_cell": true
   },
   "outputs": [
    {
     "name": "stdout",
     "output_type": "stream",
     "text": [
      "Automatic pdb calling has been turned OFF\n",
      "Working directory (WD): /Users/buzzanga/Software_InSAR/RAiDER-docs_git/notebooks/Synthetic_Test\n"
     ]
    }
   ],
   "source": [
    "import os, os.path as op\n",
    "import numpy as np\n",
    "import matplotlib.pyplot as plt\n",
    "import xarray as xr\n",
    "from datetime import datetime\n",
    "from RAiDER.llreader import BoundingBox\n",
    "from RAiDER.losreader import Raytracing, getTopOfAtmosphere\n",
    "from RAiDER.delay import tropo_delay\n",
    "from RAiDER.utilFcns import lla2ecef, ecef2lla\n",
    "from RAiDER.delayFcns import getInterpolators\n",
    "from RAiDER.models.gmao import GMAO\n",
    "from RAiDER.models.weatherModel import make_weather_model_filename\n",
    "import yaml\n",
    "from pyproj import CRS, Transformer\n",
    "\n",
    "plt.switch_backend('MacOSX')\n",
    "%matplotlib inline\n",
    "%pdb off\n",
    "\n",
    "# change this to the directory with the notebook\n",
    "wd = op.join(op.expanduser('~'), 'Software_InSAR','RAiDER-docs_git','notebooks', 'Synthetic_Test')\n",
    "WM = 'GMAO'\n",
    "\n",
    "yaml_GUNW = f'{wd}/GUNW_Base.yaml' # manually created\n",
    "\n",
    "os.chdir(wd)\n",
    "print ('Working directory (WD):', wd)"
   ]
  },
  {
   "cell_type": "markdown",
   "id": "9481cbce",
   "metadata": {},
   "source": [
    "## Tools"
   ]
  },
  {
   "cell_type": "code",
   "execution_count": 182,
   "id": "2c6dc64d",
   "metadata": {
    "init_cell": true
   },
   "outputs": [],
   "source": [
    "def new_yaml_group(example_yaml, dct_group, dst='tmp.yaml'):\n",
    "    \"\"\" Write a temporary yaml file with the new 'value' for 'key', preserving parms in example_yaml\"\"\"\n",
    "    with open(example_yaml, 'r') as f:\n",
    "        try:\n",
    "            params = yaml.safe_load(f)\n",
    "        except yaml.YAMLError as exc:\n",
    "            print(exc)\n",
    "            raise ValueError(f'Something is wrong with the yaml file {example_yaml}')\n",
    "\n",
    "    params = {**params, **dct_group}\n",
    "    dst = op.join(os.path.dirname(example_yaml), dst)\n",
    "    \n",
    "    with open(dst, 'w') as fh:\n",
    "        yaml.dump(params, fh, default_flow_style=False)\n",
    "    \n",
    "    print ('Wrote new cfg file:', dst)\n",
    "    return dst\n",
    "\n",
    "\n",
    "def update_GMAO(gmao_obj, wm_file):\n",
    "    wet = gmao_obj.getWetRefractivity()\n",
    "    dry = gmao_obj.getHydroRefractivity()\n",
    "    wet_total = gmao_obj._wet_ztd\n",
    "    dry_total = gmao_obj._hydrostatic_ztd\n",
    "    with xr.open_dataset(wm_file) as ds:\n",
    "        ds['wet']   = ('z y x'.split(), wet.transpose(2, 0, 1))\n",
    "        ds['hydro'] = ('z y x'.split(), dry.transpose(2, 0, 1))\n",
    "        \n",
    "       \n",
    "        ds['wet_total']   = ('z y x'.split(), wet_total.transpose(2, 0, 1))\n",
    "        ds['hydro_total'] = ('z y x'.split(), dry_total.transpose(2, 0, 1))\n",
    "        \n",
    "    dst = f'{op.splitext(wm_file)[0]}_SYNTH.nc'.replace('_REAL', '')\n",
    "    os.remove(dst) if op.exists(dst) else ''\n",
    "    ds.to_netcdf(dst)\n",
    "    print ('Wrote synthetic weather model file to:', dst)\n",
    "    return dst"
   ]
  },
  {
   "cell_type": "code",
   "execution_count": 183,
   "id": "447c35fc",
   "metadata": {
    "init_cell": true,
    "scrolled": true
   },
   "outputs": [],
   "source": [
    "class GMAOsynth(GMAO):\n",
    "    def __init__(self, SNWE, k1=0, k2=0, k3=0, lh=False):\n",
    "        \"\"\" Set lh (lateral heterogeneity) to true for variable pressure/temperature \"\"\"\n",
    "        super().__init__()\n",
    "        \n",
    "        self._setup_grid(SNWE)\n",
    "        \n",
    "        self._k1 = k1 # 0.776  # [K/Pa]\n",
    "        self._k2 = k2 # 0.233  # [K/Pa]\n",
    "        self._k3 = k3 # 3.75e3  # [K^2/Pa]\n",
    "\n",
    "        self._set_pet(lh)\n",
    "        \n",
    "        self._get_wet_refractivity()\n",
    "        self._get_hydro_refractivity()\n",
    "        self._getZTD() # make the wet/dry variables\n",
    "\n",
    "\n",
    "    def _set_pet(self, lh):\n",
    "        \"\"\" Set the pet variables, optionally with lateral heterogeneity \"\"\"\n",
    "        self._p  = np.ones(self.shp) \n",
    "\n",
    "        # set the bottom half to a different constant (cancels out in equation)\n",
    "        if lh:\n",
    "            yix = int(np.floor(self.shp[0]/2))\n",
    "            self._p[yix:, :, :] = 2\n",
    "        \n",
    "        self._t  = self._p.copy()\n",
    "        self._e  = self._p.copy()\n",
    "\n",
    "        # plt.imshow(self._p.mean(-1))\n",
    "        # plt.colorbar()\n",
    "\n",
    "        return\n",
    "        \n",
    "              \n",
    "    # unneeded; just to show eqs \n",
    "    def _get_wet_refractivity(self):\n",
    "        '''\n",
    "        Calculate the wet delay from pressure, temperature, and e\n",
    "        '''\n",
    "        self._wet_refractivity = self._k2 * self._e / self._t + self._k3 * self._e / self._t**2\n",
    "        return self._wet_refractivity\n",
    "    \n",
    "    \n",
    "    def _get_hydro_refractivity(self):\n",
    "        '''\n",
    "        Calculate the hydrostatic delay from pressure and temperature\n",
    "        '''\n",
    "        self._hydrostatic_refractivity = self._k1 * self._p / self._t\n",
    "        return self._hydrostatic_refractivity\n",
    "    \n",
    "    # not used\n",
    "    def get_xr(self, kind='hydro'):\n",
    "        \"\"\" Make an xarray dataset for easier slicing \"\"\"\n",
    "        arr = self._get_hydro_refractivity() if kind == 'hydro' else self._get_wet_refractivity()\n",
    "        da  = xr.DataArray(arr, coords={'x': self._xs, 'y': self._ys, 'z': self._zs}, dims='y x z'.split())\n",
    "        return da\n",
    "\n",
    "    \n",
    "    def _setup_grid(self, SNWE):\n",
    "        \"\"\" Custom; setup the xs and ys (from _fetch)\"\"\"\n",
    "        self.set_latlon_bounds(SNWE)\n",
    "        lat_min_ind = int((self._ll_bounds[0] - (-90.0)) / self._lat_res)\n",
    "        lat_max_ind = int((self._ll_bounds[1] - (-90.0)) / self._lat_res)\n",
    "        lon_min_ind = int((self._ll_bounds[2] - (-180.0)) / self._lon_res)\n",
    "        lon_max_ind = int((self._ll_bounds[3] - (-180.0)) / self._lon_res)\n",
    "        \n",
    "        lats = np.arange(\n",
    "            (-90 + lat_min_ind * self._lat_res),\n",
    "            (-90 + (lat_max_ind + 1) * self._lat_res),\n",
    "            self._lat_res\n",
    "        )\n",
    "        lons = np.arange(\n",
    "            (-180 + lon_min_ind * self._lon_res),\n",
    "            (-180 + (lon_max_ind + 1) * self._lon_res),\n",
    "            self._lon_res\n",
    "        )\n",
    "        self._xs = lons\n",
    "        self._ys = lats\n",
    "        self._zs = self._zlevels # model levels\n",
    "        self.shp = (self._ys.size, self._xs.size, self._zs.size)\n",
    "\n",
    "        return"
   ]
  },
  {
   "cell_type": "code",
   "execution_count": 184,
   "id": "65786765",
   "metadata": {
    "code_folding": [],
    "init_cell": true
   },
   "outputs": [],
   "source": [
    "def build_ray_const(target_xyz:list, model_zs, los, constant):\n",
    "    \"\"\" This builds rays only; no impact of delays \n",
    "    \n",
    "    Target xyz is a list of lists (xpts, ypts, hgt_levels)\n",
    "    Model_zs are all the model levels over which ray is calculated\n",
    "    los in los object (has the orbit info)\n",
    "    constant is the value to scale the rays by\n",
    "    \"\"\"\n",
    "    # Create a regular 2D grid\n",
    "    xx, yy = np.meshgrid(target_xyz[0], target_xyz[1])\n",
    "    hgt_lvls = target_xyz[2]\n",
    "    outputArrs = np.zeros((hgt_lvls.size, target_xyz[1].size, target_xyz[0].size))\n",
    "\n",
    "    # iterate over height levels\n",
    "    for hh, ht in enumerate(hgt_lvls):\n",
    "        \n",
    "        outSubs = outputArrs[hh, ...] # a 2d array where output is stored and added to (at one heihgt level)\n",
    "        \n",
    "        llh = [xx, yy, np.full(yy.shape, ht)]\n",
    "\n",
    "        xyz = np.stack(lla2ecef(llh[1], llh[0], np.full(yy.shape, ht)), axis=-1)\n",
    "        LOS = los.getLookVectors(ht, llh, xyz, yy)\n",
    "            \n",
    "        cos_factor = None\n",
    "        \n",
    "        # iterate over all model levels\n",
    "        nn=0\n",
    "        for zz in range(model_zs.size-1):\n",
    "            low_ht = model_zs[zz]\n",
    "            high_ht = model_zs[zz + 1]\n",
    "            \n",
    "            if (high_ht <= ht) or (low_ht >= 50000):\n",
    "                continue\n",
    "                \n",
    "            # If high_ht > max_tropo_height - integral only up to max tropo\n",
    "            if high_ht > 50000:\n",
    "                high_ht = 50000\n",
    "                \n",
    "            # If low_ht < height of point - integral only up to height of point\n",
    "            if low_ht < ht:\n",
    "                low_ht = ht\n",
    "                \n",
    "            # Continue only if needed - 1m troposphere does nothing\n",
    "            if np.abs(high_ht - low_ht) < 1.0:\n",
    "                continue\n",
    "\n",
    "            low_xyz = getTopOfAtmosphere(xyz, LOS, low_ht, factor=cos_factor)\n",
    "            high_xyz = getTopOfAtmosphere(xyz, LOS, high_ht, factor=cos_factor)\n",
    "            \n",
    "            ray_length = np.linalg.norm(high_xyz - low_xyz, axis=-1)\n",
    "\n",
    "\n",
    "            outSubs   += ray_length * 1e-6 * constant\n",
    "            \n",
    "            cos_factor = (high_ht - low_ht) / ray_length if cos_factor is None else cos_factor\n",
    "          \n",
    "        print (f'Mean delay over height level {ht}: {outSubs.mean():.5f}')\n",
    "        # break\n",
    "    return outputArrs\n",
    "\n",
    "# length_of_ray; scaling outside of it (including 1e-6)\n",
    "# code directly from piyush as possible\n",
    "\n",
    "# testing just eqs so import getTOA\n",
    "# normaliel residuals (document explanation for spatial variation in residual); normal constants (real)\n",
    "# dont make them explicityl the same\n",
    "# could do spatial variable with diff varibles, double the size\n",
    "# directly use P/T (cancel)\n",
    "# test sqrt part\n",
    "# use HRRR\n",
    "# save part of the GMAO file\n",
    "# check near/far range (high lat/low lat) \n",
    "# high/near more sensitive for buffering\n",
    "# unit test should let us know whats failing (naem the functions good)\n",
    "# could pick 4 points and then run those "
   ]
  },
  {
   "cell_type": "markdown",
   "id": "e2a3c373",
   "metadata": {
    "heading_collapsed": true
   },
   "source": [
    "## Get/Set defaults"
   ]
  },
  {
   "cell_type": "code",
   "execution_count": 185,
   "id": "c84d906e",
   "metadata": {
    "hidden": true,
    "init_cell": true
   },
   "outputs": [],
   "source": [
    "## setup the study area\n",
    "SNWE = 33, 34, -118.25, -117.25 # 32.979829, 34.944592, -119.272279, -116.251959\n",
    "dt   = datetime(2020, 1, 30, 13, 52, 45)\n",
    "dts  = dt.strftime('%Y_%m_%d_T%H_%M_%S')\n",
    "\n",
    "aoi = BoundingBox(SNWE)\n",
    "aoi.add_buffer(buffer = 1.5 * 0.3125) # model.getLLRes(); gmao)\n",
    "\n",
    "\n",
    "orbit     = f'{wd}/S1B_OPER_AUX_POEORB_OPOD_20210317T025713_V20200129T225942_20200131T005942.EOF'\n",
    "los       = Raytracing(orbit, time=dt)\n",
    "wm_bounds = aoi.calc_buffer_ray(los.getSensorDirection(), lookDir=los.getLookDirection())\n",
    "\n",
    "## setup the weather model stuff\n",
    "Obj  = GMAOsynth(wm_bounds)\n",
    "\n",
    "path_wm = os.path.join(wd, 'weather_files', make_weather_model_filename(WM, dt, Obj._ll_bounds))\n",
    "\n",
    "grid_spacing = 0.5\n",
    "cube_spacing = np.round(grid_spacing/1e-5).astype(np.float32)\n",
    "\n",
    "hgt_lvls     = np.arange(-500, 1500, 500)\n",
    "\n",
    "targ_xyz = [Obj._xs, Obj._ys, hgt_lvls] # for the ray"
   ]
  },
  {
   "cell_type": "markdown",
   "id": "51319084",
   "metadata": {},
   "source": [
    "# Test One"
   ]
  },
  {
   "cell_type": "markdown",
   "id": "51fe1c4e",
   "metadata": {},
   "source": [
    "Test the hydrostatic calculation\n",
    "- k1 = a number; \n",
    "- P=T; \n",
    "- k2=k3=0; "
   ]
  },
  {
   "cell_type": "markdown",
   "id": "39bd64d0",
   "metadata": {},
   "source": [
    "## Scenario 1a"
   ]
  },
  {
   "cell_type": "markdown",
   "id": "3e99acd7",
   "metadata": {},
   "source": [
    "- no lateral variation.\n",
    "- integral = k1*ray-length. \n",
    "\n"
   ]
  },
  {
   "cell_type": "code",
   "execution_count": 134,
   "id": "01c96b55",
   "metadata": {},
   "outputs": [],
   "source": [
    "!rm {wd}/weather_files/{WM}*"
   ]
  },
  {
   "cell_type": "code",
   "execution_count": 186,
   "id": "69e77169",
   "metadata": {
    "init_cell": true
   },
   "outputs": [
    {
     "name": "stdout",
     "output_type": "stream",
     "text": [
      "S/N/W/E: 33 34 -118.25 -117.25\n",
      "Grid Spacing: 50000.0 m\n"
     ]
    }
   ],
   "source": [
    "print ('S/N/W/E:', *SNWE)\n",
    "print ('Grid Spacing:', cube_spacing, 'm')"
   ]
  },
  {
   "cell_type": "code",
   "execution_count": 188,
   "id": "47aa4701",
   "metadata": {
    "scrolled": true
   },
   "outputs": [
    {
     "name": "stdout",
     "output_type": "stream",
     "text": [
      "Wrote new cfg file: /Users/buzzanga/Software_InSAR/RAiDER-docs_git/notebooks/Synthetic_Test/tmp.yaml\n"
     ]
    }
   ],
   "source": [
    "## run it through with the real weather model file\n",
    "\n",
    "# remove the weather model file for a clean run\n",
    "path_wm_real  = f'{op.splitext(path_wm)[0]}_REAL.nc'\n",
    "\n",
    "# use existing if possible\n",
    "if op.exists(path_wm_real):\n",
    "    os.remove(path_wm)\n",
    "    os.symlink(path_wm_real, path_wm)\n",
    "else:\n",
    "    try:\n",
    "        os.remove(f'{wd}/weather_files/{WM}_{dts}.nc')\n",
    "    except:\n",
    "        pass\n",
    "\n",
    "grp = {\n",
    "       'aoi_group': {'bounding_box': list(SNWE)},\n",
    "        'height_group': {\n",
    "                         'height_levels': hgt_lvls.tolist(),\n",
    "                        },\n",
    "        'date_group': {'date_list': datetime.strftime(dt, '%Y%m%d')},\n",
    "        'cube_spacing_in_m': str(cube_spacing),\n",
    "        'los_group': {'ray_trace': True, 'orbit_file': orbit},\n",
    "        'weather_model': WM\n",
    "      }\n",
    "\n",
    "cfg = new_yaml_group(yaml_GUNW, grp)\n",
    "# !raider.py {cfg}\n",
    "\n",
    "# if not op.exists(path_wm_real):\n",
    "#     os.rename(path_wm, path_wm_real)"
   ]
  },
  {
   "cell_type": "code",
   "execution_count": 141,
   "id": "1340aefc",
   "metadata": {
    "scrolled": true
   },
   "outputs": [
    {
     "name": "stdout",
     "output_type": "stream",
     "text": [
      "Wrote synthetic weather model file to: /Users/buzzanga/Software_InSAR/RAiDER-docs_git/notebooks/Synthetic_Test/weather_files/GMAO_2020_01_30_T13_52_45_32N_35N_120W_115W_SYNTH.nc\n",
      "\u001b[33;21mWARNING: Weather model only extends to the surface topography; height levels below the topography will be interpolated from the surface and may be inaccurate.\u001b[0m\n",
      "Invalid extension GTiff for cube. Defaulting to .nc\n",
      "Starting to run the weather model calculation\n",
      "Date: 20200130\n",
      "Beginning weather model pre-processing\n",
      "\u001b[33;21mWARNING: Weather model already exists, please remove it (\"['/Users/buzzanga/Software_InSAR/RAiDER-docs_git/notebooks/Synthetic_Test/weather_files/GMAO_2020_01_30_T13_52_45.nc']\") if you want to download a new one.\u001b[0m\n",
      "Extent of the weather model is (xmin, ymin, xmax, ymax):-119.38, 32.00, -115.31, 34.75\n",
      "Extent of the input is (xmin, ymin, xmax, ymax): -118.72, 32.53, -116.22, 34.47\n",
      "\u001b[33;21mWARNING: The processed weather model file already exists, so I will use that.\u001b[0m\n",
      "Output SNWE: [32.5, 34.5, -119.0, -116.5]\n",
      "Output cube spacing: 0.5\n",
      "Processing slice 1 / 4: -500.0\n",
      "\n",
      "Mean delay over height level -500.0: 0.45103\n",
      "Processing slice 2 / 4: 0.0\n",
      "\n",
      "Mean delay over height level 0.0: 0.44670\n",
      "Processing slice 3 / 4: 500.0\n",
      "\n",
      "Mean delay over height level 500.0: 0.44236\n",
      "Processing slice 4 / 4: 1000.0\n",
      "\n",
      "Mean delay over height level 1000.0: 0.43804\n",
      "\n",
      "Successfully wrote delay cube to: /Users/buzzanga/Software_InSAR/RAiDER-docs_git/notebooks/Synthetic_Test/GMAO_tropo_20200130T135245_ray.nc\n",
      "\n"
     ]
    }
   ],
   "source": [
    "## run it again with the synthetic model\n",
    "const = 7.0\n",
    "Obj   = GMAOsynth(wm_bounds, k1=const, k2=0, k3=0)\n",
    "path_wm_synth = update_GMAO(Obj, path_wm_real)\n",
    "\n",
    "os.remove(path_wm) if op.exists(path_wm) or op.islink(path_wm) else ''\n",
    "os.symlink(path_wm_synth, path_wm)\n",
    "\n",
    "!raider.py {cfg}\n",
    "\n",
    "# get the just created synthetic delays\n",
    "ds = xr.open_dataset(f'{wd}/{WM}_tropo_{dts.replace(\"_\", \"\")}_ray.nc')\n",
    "da = ds['hydro']\n",
    "ds.close()\n",
    "del ds\n",
    "\n",
    "## or just run tropo delay\n",
    "# ds  = tropo_delay(dt, path_wm_synth, aoi, los, hgt_lvls, cube_spacing_m=cube_spacing)[0]\n",
    "# da  = ds['wet']\n"
   ]
  },
  {
   "cell_type": "code",
   "execution_count": 142,
   "id": "f3fb0146",
   "metadata": {},
   "outputs": [
    {
     "data": {
      "image/png": "[encoded data removed]",
      "text/plain": [
       "<Figure size 640x480 with 1 Axes>"
      ]
     },
     "metadata": {},
     "output_type": "display_data"
    },
    {
     "data": {
      "image/png": "[encoded data removed]",
      "text/plain": [
       "<Figure size 800x600 with 8 Axes>"
      ]
     },
     "metadata": {},
     "output_type": "display_data"
    },
    {
     "name": "stdout",
     "output_type": "stream",
     "text": [
      "Min: 0.393\n",
      "Any nan: False\n"
     ]
    }
   ],
   "source": [
    "## plot a profile of delays and the height levels\n",
    "\n",
    "lalo_ix = (1,2) # random index of lat lon\n",
    "\n",
    "fig, axes = plt.subplots()\n",
    "da.isel(y=lalo_ix[0], x=lalo_ix[1]).plot(ax=axes, color='k')\n",
    "da.isel(y=lalo_ix[0]+1, x=lalo_ix[1]).plot(ax=axes, color='red');\n",
    "axes.set_title('Neighboring Pixel Profiles')\n",
    "\n",
    "fig, axes = plt.subplots(ncols=2, nrows=2, sharex=True, sharey=True, figsize=(8,6))\n",
    "for i, ax in enumerate(axes.ravel()):\n",
    "    da.isel(z=i).plot(ax=ax, cmap='cmc.lajolla')#, vmin=0.058, vmax=0.061)\n",
    "    ax.set_xlabel('')\n",
    "    ax.set_ylabel('')\n",
    "fig.subplots_adjust(wspace=0.4)\n",
    "plt.show()\n",
    "\n",
    "## ensure there are no nans/0s\n",
    "print ('Min:', round(da.min().item(), 3))\n",
    "print ('Any nan:', da.isnull().any().item())"
   ]
  },
  {
   "cell_type": "code",
   "execution_count": 143,
   "id": "98fc4a20",
   "metadata": {},
   "outputs": [
    {
     "name": "stdout",
     "output_type": "stream",
     "text": [
      "Mean delay over height level -500.0: 0.45103\n",
      "Mean delay over height level 0.0: 0.44670\n",
      "Mean delay over height level 500.0: 0.44236\n",
      "Mean delay over height level 1000.0: 0.43804\n"
     ]
    }
   ],
   "source": [
    "## now build the rays at the unbuffered wm nodes , scaled by k1\n",
    "targ_xyz = [da.x.data, da.y.data, da.z.data]\n",
    "ray_data = build_ray_const(targ_xyz, Obj._zs, los, constant=const)"
   ]
  },
  {
   "cell_type": "code",
   "execution_count": 144,
   "id": "08ee3277",
   "metadata": {},
   "outputs": [
    {
     "name": "stdout",
     "output_type": "stream",
     "text": [
      "True\n"
     ]
    }
   ],
   "source": [
    "## compare the delays in the cube vs the scaled rays\n",
    "\n",
    "# in case of running in terminal\n",
    "# da = xr.open_dataset(f'{wd}/{WM}_tropo_20200130T135245_ray.nc')['hydro']\n",
    "\n",
    "raid_data = da.data\n",
    "# print (np.allclose(ray_data[0], raid_data[0])) \n",
    "\n",
    "print (np.allclose(ray_data, raid_data)) \n",
    "da.close()\n",
    "del da"
   ]
  },
  {
   "cell_type": "code",
   "execution_count": 14,
   "id": "fc30013f",
   "metadata": {},
   "outputs": [
    {
     "data": {
      "image/png": "[encoded data removed]",
      "text/plain": [
       "<Figure size 640x480 with 2 Axes>"
      ]
     },
     "metadata": {},
     "output_type": "display_data"
    }
   ],
   "source": [
    "# plot the residual at one height level\n",
    "hgt_lvl = 2\n",
    "plt.imshow(ray_data[hgt_lvl] - raid_data[hgt_lvl], cmap='cmc.lajolla')\n",
    "plt.title('Hydrostatic Residual (Ray*Constant) - (Constant Delay)')\n",
    "plt.colorbar();"
   ]
  },
  {
   "cell_type": "markdown",
   "id": "90745a4b",
   "metadata": {
    "heading_collapsed": true
   },
   "source": [
    "## Scenario 1b"
   ]
  },
  {
   "cell_type": "markdown",
   "id": "04c8df19",
   "metadata": {
    "hidden": true
   },
   "source": [
    "- k1 = a number; \n",
    "- P=T; \n",
    "- k2=k3=0; \n",
    "\n",
    "LATERAL variation\n",
    "integral would be k1*ray-length. \n"
   ]
  },
  {
   "cell_type": "code",
   "execution_count": 170,
   "id": "3aca15b6",
   "metadata": {
    "hidden": true
   },
   "outputs": [],
   "source": [
    "!rm {wd}/weather_files/{WM}*"
   ]
  },
  {
   "cell_type": "code",
   "execution_count": 171,
   "id": "e4621f51",
   "metadata": {
    "hidden": true
   },
   "outputs": [
    {
     "name": "stdout",
     "output_type": "stream",
     "text": [
      "S/N/W/E: 33 34 -118.25 -117.25\n",
      "Grid Spacing: 50000.0 m\n"
     ]
    }
   ],
   "source": [
    "print ('S/N/W/E:', *SNWE)\n",
    "print ('Grid Spacing:', cube_spacing, 'm')"
   ]
  },
  {
   "cell_type": "code",
   "execution_count": 173,
   "id": "6c10a185",
   "metadata": {
    "hidden": true,
    "scrolled": true
   },
   "outputs": [
    {
     "name": "stdout",
     "output_type": "stream",
     "text": [
      "Wrote new cfg file: /Users/buzzanga/Software_InSAR/RAiDER-docs_git/notebooks/Synthetic_Test/tmp.yaml\n",
      "\u001b[33;21mWARNING: Weather model only extends to the surface topography; height levels below the topography will be interpolated from the surface and may be inaccurate.\u001b[0m\n",
      "Invalid extension GTiff for cube. Defaulting to .nc\n",
      "Starting to run the weather model calculation\n",
      "Date: 20200130\n",
      "Beginning weather model pre-processing\n",
      "Weather model GMAO is available from 2014-02-20 to Present\n",
      "\u001b[33;21mWARNING: Rounded given datetime from  2020-01-30 13:52:45 to 2020-01-30 15:00:00\u001b[0m\n",
      "\u001b[31;21mERROR: 500 Internal Server Error\n",
      "<!doctype html><html lang=\"en\"><head><title>HTTP Status 500 – Internal Server Error</title><style type=\"text/css\">body {font-family:Tahoma,Arial,sans-serif;} h1, h2, h3, b {color:white;background-color:#525D76;} h1 {font-size:22px;} h2 {font-size:16px;} h3 {font-size:14px;} p {font-size:12px;} a {color:black;} .line {height:1px;background-color:#525D76;border:none;}</style></head><body><h1>HTTP Status 500 – Internal Server Error</h1><hr class=\"line\" /><p><b>Type</b> Exception Report</p><p><b>Description</b> The server encountered an unexpected condition that prevented it from fulfilling the request.</p><p><b>Exception</b> <pre>javax.servlet.ServletException: \n",
      "\torg.iges.anagram.Server.fail(Server.java:310)\n",
      "\torg.iges.anagram.Server.&lt;init&gt;(Server.java:247)\n",
      "\torg.iges.anagram.AnagramServlet.init(AnagramServlet.java:138)\n",
      "\torg.apache.catalina.authenticator.AuthenticatorBase.invoke(AuthenticatorBase.java:492)\n",
      "\torg.apache.catalina.valves.ErrorReportValve.invoke(ErrorReportValve.java:104)\n",
      "\torg.apache.catalina.valves.AccessLogValve.invoke(AccessLogValve.java:1025)\n",
      "\torg.apache.catalina.connector.CoyoteAdapter.service(CoyoteAdapter.java:452)\n",
      "\torg.apache.coyote.ajp.AjpProcessor.process(AjpProcessor.java:190)\n",
      "\torg.apache.coyote.AbstractProtocol$AbstractConnectionHandler.process(AbstractProtocol.java:654)\n",
      "\torg.apache.tomcat.util.net.JIoEndpoint$SocketProcessor.run(JIoEndpoint.java:317)\n",
      "\tjava.util.concurrent.ThreadPoolExecutor.runWorker(ThreadPoolExecutor.java:1152)\n",
      "\tjava.util.concurrent.ThreadPoolExecutor$Worker.run(ThreadPoolExecutor.java:622)\n",
      "\torg.apache.tomcat.util.threads.TaskThread$WrappingRunnable.run(TaskThread.java:61)\n",
      "\tjava.lang.Thread.run(Thread.java:748)\n",
      "</pre></p><p><b>Note</b> The full stack trace of the root cause is available in the server logs.</p><hr class=\"line\" /><h3>Apache Tomcat/7.0.106</h3></body></html>\u001b[0m\n",
      "Weather model point bounds are 32.53/34.47/-118.72/-116.22\n",
      "Query datetime: 2020-01-30 13:52:45\n",
      "\u001b[31;21mERROR: Downloading and/or preparation of GMAO failed.\u001b[0m\n",
      "\u001b[31;21mERROR: No weather model data available on: 2020-01-30\u001b[0m\n"
     ]
    },
    {
     "ename": "FileNotFoundError",
     "evalue": "[Errno 2] No such file or directory: '/Users/buzzanga/Software_InSAR/RAiDER-docs_git/notebooks/Synthetic_Test/weather_files/GMAO_2020_01_30_T13_52_45_32N_35N_120W_115W.nc' -> '/Users/buzzanga/Software_InSAR/RAiDER-docs_git/notebooks/Synthetic_Test/weather_files/GMAO_2020_01_30_T13_52_45_32N_35N_120W_115W_REAL.nc'",
     "output_type": "error",
     "traceback": [
      "\u001b[0;31m---------------------------------------------------------------------------\u001b[0m",
      "\u001b[0;31mFileNotFoundError\u001b[0m                         Traceback (most recent call last)",
      "Cell \u001b[0;32mIn[173], line 31\u001b[0m\n\u001b[1;32m     28\u001b[0m get_ipython()\u001b[38;5;241m.\u001b[39msystem(\u001b[38;5;124m'\u001b[39m\u001b[38;5;124mraider.py \u001b[39m\u001b[38;5;132;01m{cfg}\u001b[39;00m\u001b[38;5;124m'\u001b[39m)\n\u001b[1;32m     30\u001b[0m \u001b[38;5;28;01mif\u001b[39;00m \u001b[38;5;129;01mnot\u001b[39;00m op\u001b[38;5;241m.\u001b[39mexists(path_wm_real):\n\u001b[0;32m---> 31\u001b[0m     \u001b[43mos\u001b[49m\u001b[38;5;241;43m.\u001b[39;49m\u001b[43mrename\u001b[49m\u001b[43m(\u001b[49m\u001b[43mpath_wm\u001b[49m\u001b[43m,\u001b[49m\u001b[43m \u001b[49m\u001b[43mpath_wm_real\u001b[49m\u001b[43m)\u001b[49m\n",
      "\u001b[0;31mFileNotFoundError\u001b[0m: [Errno 2] No such file or directory: '/Users/buzzanga/Software_InSAR/RAiDER-docs_git/notebooks/Synthetic_Test/weather_files/GMAO_2020_01_30_T13_52_45_32N_35N_120W_115W.nc' -> '/Users/buzzanga/Software_InSAR/RAiDER-docs_git/notebooks/Synthetic_Test/weather_files/GMAO_2020_01_30_T13_52_45_32N_35N_120W_115W_REAL.nc'"
     ]
    }
   ],
   "source": [
    "## run it through with the real weather model file\n",
    "\n",
    "# remove the weather model file for a clean run\n",
    "path_wm_real  = f'{op.splitext(path_wm)[0]}_REAL.nc'\n",
    "\n",
    "# use existing if possible\n",
    "if op.exists(path_wm_real):\n",
    "    os.remove(path_wm)\n",
    "    os.symlink(path_wm_real, path_wm)\n",
    "else:\n",
    "    try:\n",
    "        os.remove(f'{wd}/weather_files/{WM}_{dts}.nc')\n",
    "    except:\n",
    "        pass\n",
    "\n",
    "grp = {\n",
    "       'aoi_group': {'bounding_box': list(SNWE)},\n",
    "        'height_group': {\n",
    "                         'height_levels': hgt_lvls.tolist(),\n",
    "                        },\n",
    "        'date_group': {'date_list': datetime.strftime(dt, '%Y%m%d')},\n",
    "        'cube_spacing_in_m': str(cube_spacing),\n",
    "        'los_group': {'ray_trace': True, 'orbit_file': orbit},\n",
    "        'weather_model': WM\n",
    "      }\n",
    "\n",
    "cfg = new_yaml_group(yaml_GUNW, grp)\n",
    "!raider.py {cfg}\n",
    "\n",
    "if not op.exists(path_wm_real):\n",
    "    os.rename(path_wm, path_wm_real)"
   ]
  },
  {
   "cell_type": "code",
   "execution_count": null,
   "id": "7412c867",
   "metadata": {
    "hidden": true,
    "scrolled": true
   },
   "outputs": [],
   "source": [
    "## run it again with the synthetic model\n",
    "const = 7.0\n",
    "Obj   = GMAOsynth(wm_bounds, k1=const, k2=0, k3=0, lh=True)\n",
    "path_wm_synth = update_GMAO(Obj, path_wm_real)\n",
    "\n",
    "os.remove(path_wm) if op.exists(path_wm) or op.islink(path_wm) else ''\n",
    "os.symlink(path_wm_synth, path_wm)\n",
    "\n",
    "!raider.py {cfg}\n",
    "\n",
    "# get the just created synthetic delays\n",
    "ds = xr.open_dataset(f'{wd}/{WM}_tropo_{dts.replace(\"_\", \"\")}_ray.nc')\n",
    "da = ds['hydro']\n",
    "ds.close()\n",
    "del ds\n",
    "\n",
    "## or just run tropo delay\n",
    "# ds  = tropo_delay(dt, path_wm_synth, aoi, los, hgt_lvls, cube_spacing_m=cube_spacing)[0]\n",
    "# da  = ds['wet']\n"
   ]
  },
  {
   "cell_type": "code",
   "execution_count": null,
   "id": "8da58158",
   "metadata": {
    "hidden": true
   },
   "outputs": [],
   "source": [
    "## plot a profile of delays and the height levels\n",
    "\n",
    "lalo_ix = (1,2) # random index of lat lon\n",
    "\n",
    "fig, axes = plt.subplots()\n",
    "da.isel(y=lalo_ix[0], x=lalo_ix[1]).plot(ax=axes, color='k')\n",
    "da.isel(y=lalo_ix[0]+1, x=lalo_ix[1]).plot(ax=axes, color='red');\n",
    "axes.set_title('Neighboring Pixel Profiles')\n",
    "\n",
    "fig, axes = plt.subplots(ncols=2, nrows=2, sharex=True, sharey=True, figsize=(8,6))\n",
    "for i, ax in enumerate(axes.ravel()):\n",
    "    da.isel(z=i).plot(ax=ax, cmap='cmc.lajolla')#, vmin=0.058, vmax=0.061)\n",
    "    ax.set_xlabel('')\n",
    "    ax.set_ylabel('')\n",
    "fig.subplots_adjust(wspace=0.4)\n",
    "plt.show()\n",
    "\n",
    "## ensure there are no nans/0s\n",
    "print ('Min:', round(da.min().item(), 3))\n",
    "print ('Any nan:', da.isnull().any().item())"
   ]
  },
  {
   "cell_type": "code",
   "execution_count": 20,
   "id": "4676d277",
   "metadata": {
    "hidden": true
   },
   "outputs": [
    {
     "name": "stdout",
     "output_type": "stream",
     "text": [
      "Mean delay over height level -500.0: 0.71219\n",
      "Mean delay over height level 0.0: 0.70547\n",
      "Mean delay over height level 500.0: 0.69872\n",
      "Mean delay over height level 1000.0: 0.69199\n"
     ]
    }
   ],
   "source": [
    "## now build the rays at the unbuffered wm nodes , scaled by k1\n",
    "targ_xyz = [da.x.data, da.y.data, da.z.data]\n",
    "ifWet, ifHydro = getInterpolators(path_wm_synth, 'pointwise')\n",
    "ray_data    = build_ray_het(targ_xyz, los, ifHydro)"
   ]
  },
  {
   "cell_type": "code",
   "execution_count": 21,
   "id": "aba09280",
   "metadata": {
    "hidden": true
   },
   "outputs": [
    {
     "name": "stdout",
     "output_type": "stream",
     "text": [
      "True\n"
     ]
    }
   ],
   "source": [
    "## compare the delays in the cube vs the scaled rays\n",
    "\n",
    "# in case of running in terminal\n",
    "# da = xr.open_dataset(f'{wd}/{WM}_tropo_20200130T135245_ray.nc')['hydro']\n",
    "\n",
    "raid_data = da.data\n",
    "# print (np.allclose(ray_data[0], raid_data[0])) \n",
    "\n",
    "print (np.allclose(ray_data, raid_data)) \n",
    "da.close()\n",
    "del da"
   ]
  },
  {
   "cell_type": "markdown",
   "id": "3e12328e",
   "metadata": {},
   "source": [
    "# Test 2"
   ]
  },
  {
   "cell_type": "markdown",
   "id": "30c4bbef",
   "metadata": {},
   "source": [
    "Test the wet calculation\n",
    "- k2'= a number; \n",
    "- k1=k3'=0; \n",
    "\n",
    "- then E=T or like E=1/100*T; \n",
    "\n",
    "- Integral would be k2'*1(or 1/100) * ray length. "
   ]
  },
  {
   "cell_type": "markdown",
   "id": "cb64c697",
   "metadata": {},
   "source": [
    "## Scenario 2a"
   ]
  },
  {
   "cell_type": "markdown",
   "id": "644d5023",
   "metadata": {},
   "source": [
    "No horizontal/vertical variation"
   ]
  },
  {
   "cell_type": "code",
   "execution_count": 22,
   "id": "79517106",
   "metadata": {},
   "outputs": [],
   "source": [
    "!rm {wd}/weather_files/{WM}*"
   ]
  },
  {
   "cell_type": "code",
   "execution_count": 23,
   "id": "3077e7d6",
   "metadata": {},
   "outputs": [
    {
     "name": "stdout",
     "output_type": "stream",
     "text": [
      "S/N/W/E: 33 34 -118.25 -117.25\n",
      "Grid Spacing: 50000.0 m\n"
     ]
    }
   ],
   "source": [
    "print ('S/N/W/E:', *SNWE)\n",
    "print ('Grid Spacing:', cube_spacing, 'm')"
   ]
  },
  {
   "cell_type": "code",
   "execution_count": 24,
   "id": "3bfc2e8b",
   "metadata": {},
   "outputs": [
    {
     "name": "stdout",
     "output_type": "stream",
     "text": [
      "Wrote new cfg file: /Users/buzzanga/Software_InSAR/RAiDER-docs_git/notebooks/Synthetic_Test/tmp.yaml\n",
      "\u001b[33;21mWARNING: Weather model only extends to the surface topography; height levels below the topography will be interpolated from the surface and may be inaccurate.\u001b[0m\n",
      "Invalid extension GTiff for cube. Defaulting to .nc\n",
      "Starting to run the weather model calculation\n",
      "Date: 20200130\n",
      "Beginning weather model pre-processing\n",
      "Weather model GMAO is available from 2014-02-20 to Present\n",
      "\u001b[33;21mWARNING: Rounded given datetime from  2020-01-30 13:52:45 to 2020-01-30 15:00:00\u001b[0m\n",
      "Number of weather model nodes: 24360\n",
      "Shape of weather model: (12, 14, 145)\n",
      "Bounds of the weather model: 32.00/34.75/-119.38/-115.31 (SNWE)\n",
      "Weather model: GMAO\n",
      "Mean value of the wet refractivity: 5.758169\n",
      "Mean value of the hydrostatic refractivity: 105.635017\n",
      "\n",
      "======Weather Model class object=====\n",
      "Weather model time: 2020-01-30 13:52:45\n",
      "Latitude resolution: 0.25\n",
      "Longitude resolution: 0.3125\n",
      "Native projection: EPSG:4326\n",
      "ZMIN: -100.0\n",
      "ZMAX: 15000.0\n",
      "k1 = 0.776\n",
      "k2 = 0.233\n",
      "k3 = 3750.0\n",
      "Humidity type = q\n",
      "=====================================\n",
      "Class name: gmao\n",
      "Dataset: gmao\n",
      "=====================================\n",
      "A: []\n",
      "B: []\n",
      "Number of points in Lon/Lat = 12/14\n",
      "Total number of grid points (3D): 24360\n",
      "=====================================\n",
      "\n",
      "Output SNWE: [32.5, 34.5, -119.0, -116.5]\n",
      "Output cube spacing: 0.5\n",
      "Processing slice 1 / 4: -500.0\n",
      "\n",
      "Mean delay over height level -500.0: 3.12396\n",
      "Processing slice 2 / 4: 0.0\n",
      "\n",
      "Mean delay over height level 0.0: 2.95872\n",
      "Processing slice 3 / 4: 500.0\n",
      "\n",
      "Mean delay over height level 500.0: 2.79494\n",
      "Processing slice 4 / 4: 1000.0\n",
      "\n",
      "Mean delay over height level 1000.0: 2.63673\n",
      "\n",
      "Successfully wrote delay cube to: /Users/buzzanga/Software_InSAR/RAiDER-docs_git/notebooks/Synthetic_Test/GMAO_tropo_20200130T135245_ray.nc\n",
      "\n"
     ]
    }
   ],
   "source": [
    "# remove the weather model file for a clean run\n",
    "path_wm_real  = f'{op.splitext(path_wm)[0]}_REAL'\n",
    "\n",
    "# use existing if possible\n",
    "if op.exists(path_wm_real):\n",
    "    os.remove(path_wm)\n",
    "    os.symlink(path_wm, f'{op.splitext(path_wm)[0]}_REAL')\n",
    "else:\n",
    "    try:\n",
    "        os.remove(f'{wd}/weather_files/{WM}_{dts}.nc')\n",
    "    except:\n",
    "        pass\n",
    "\n",
    "\n",
    "\n",
    "## run it through with the real weather model file\n",
    "grp = {\n",
    "       'aoi_group': {'bounding_box': list(SNWE)},\n",
    "        'height_group': {#'dem': 'GLO30_fullres_dem.tif', \n",
    "                         'height_levels': hgt_lvls.tolist(),\n",
    "                        },\n",
    "        'date_group': {'date_list': datetime.strftime(dt, '%Y%m%d')},\n",
    "        'cube_spacing_in_m': str(cube_spacing),\n",
    "        'los_group': {'ray_trace': True, 'orbit_file': orbit},\n",
    "        'weather_model': WM\n",
    "      }\n",
    "\n",
    "cfg = new_yaml_group(yaml_GUNW, grp)\n",
    "!raider.py {cfg}\n",
    "\n",
    "\n",
    "if not op.exists(path_wm_real):\n",
    "    os.rename(path_wm, path_wm_real)"
   ]
  },
  {
   "cell_type": "code",
   "execution_count": 25,
   "id": "66d2273d",
   "metadata": {},
   "outputs": [
    {
     "name": "stdout",
     "output_type": "stream",
     "text": [
      "Wrote synthetic weather model file to: /Users/buzzanga/Software_InSAR/RAiDER-docs_git/notebooks/Synthetic_Test/weather_files/GMAO_2020_01_30_T13_52_45_32N_35N_120W_115W_SYNTH.nc\n",
      "\u001b[33;21mWARNING: Weather model only extends to the surface topography; height levels below the topography will be interpolated from the surface and may be inaccurate.\u001b[0m\n",
      "Invalid extension GTiff for cube. Defaulting to .nc\n",
      "Starting to run the weather model calculation\n",
      "Date: 20200130\n",
      "Beginning weather model pre-processing\n",
      "\u001b[33;21mWARNING: Weather model already exists, please remove it (\"['/Users/buzzanga/Software_InSAR/RAiDER-docs_git/notebooks/Synthetic_Test/weather_files/GMAO_2020_01_30_T13_52_45.nc']\") if you want to download a new one.\u001b[0m\n",
      "Extent of the weather model is (xmin, ymin, xmax, ymax):-119.38, 32.00, -115.31, 34.75\n",
      "Extent of the input is (xmin, ymin, xmax, ymax): -118.72, 32.53, -116.22, 34.47\n",
      "\u001b[33;21mWARNING: The processed weather model file already exists, so I will use that.\u001b[0m\n",
      "Output SNWE: [32.5, 34.5, -119.0, -116.5]\n",
      "Output cube spacing: 0.5\n",
      "Processing slice 1 / 4: -500.0\n",
      "\n",
      "Mean delay over height level -500.0: 0.12887\n",
      "Processing slice 2 / 4: 0.0\n",
      "\n",
      "Mean delay over height level 0.0: 0.12763\n",
      "Processing slice 3 / 4: 500.0\n",
      "\n",
      "Mean delay over height level 500.0: 0.12639\n",
      "Processing slice 4 / 4: 1000.0\n",
      "\n",
      "Mean delay over height level 1000.0: 0.12515\n",
      "\n",
      "Successfully wrote delay cube to: /Users/buzzanga/Software_InSAR/RAiDER-docs_git/notebooks/Synthetic_Test/GMAO_tropo_20200130T135245_ray.nc\n",
      "\n"
     ]
    }
   ],
   "source": [
    "## run it again with the synthetic model\n",
    "const = 2.0\n",
    "Obj   = GMAOsynth(wm_bounds, k1=0, k2=const, k3=0)\n",
    "\n",
    "path_wm_synth = update_GMAO(Obj, path_wm_real)\n",
    "\n",
    "os.remove(path_wm) if op.exists(path_wm) or op.islink(path_wm) else ''\n",
    "os.symlink(path_wm_synth, path_wm)\n",
    "\n",
    "!raider.py {cfg}\n",
    "\n",
    "# get the just created synthetic delays\n",
    "ds = xr.open_dataset(f'{wd}/{WM}_tropo_{dts.replace(\"_\", \"\")}_ray.nc')\n",
    "da = ds['wet']\n",
    "ds.close()\n",
    "del ds\n",
    "\n",
    "## or just run tropo delay\n",
    "# ds  = tropo_delay(dt, path_wm_synth, aoi, los, hgt_lvls, cube_spacing_m=cube_spacing)[0]\n",
    "# da  = ds['wet']\n"
   ]
  },
  {
   "cell_type": "code",
   "execution_count": 26,
   "id": "8ad4d482",
   "metadata": {},
   "outputs": [
    {
     "data": {
      "image/png": "[encoded data removed]",
      "text/plain": [
       "<Figure size 640x480 with 1 Axes>"
      ]
     },
     "metadata": {},
     "output_type": "display_data"
    },
    {
     "data": {
      "image/png": "[encoded data removed]",
      "text/plain": [
       "<Figure size 800x600 with 8 Axes>"
      ]
     },
     "metadata": {},
     "output_type": "display_data"
    },
    {
     "name": "stdout",
     "output_type": "stream",
     "text": [
      "Min: 0.112\n",
      "Any nan: False\n"
     ]
    }
   ],
   "source": [
    "## plot a profile of delays and the height levels\n",
    "\n",
    "lalo_ix = (1,2) # random index of lat lon\n",
    "\n",
    "fig, axes = plt.subplots()\n",
    "da.isel(y=lalo_ix[0], x=lalo_ix[1]).plot(ax=axes, color='k')\n",
    "da.isel(y=lalo_ix[0]+1, x=lalo_ix[1]).plot(ax=axes, color='red');\n",
    "axes.set_title('Neighboring Pixel Delay Profiles')\n",
    "\n",
    "fig, axes = plt.subplots(ncols=2, nrows=2, sharex=True, sharey=True, figsize=(8,6))\n",
    "for i, ax in enumerate(axes.ravel()):\n",
    "    da.isel(z=i).plot(ax=ax, cmap='cmc.lajolla')#, vmin=0.058, vmax=0.061)\n",
    "    ax.set_xlabel('')\n",
    "    ax.set_ylabel('')\n",
    "fig.subplots_adjust(wspace=0.4)\n",
    "plt.show()\n",
    "\n",
    "## ensure there are no nans/0s\n",
    "print ('Min:', round(da.min().item(), 3))\n",
    "print ('Any nan:', da.isnull().any().item())"
   ]
  },
  {
   "cell_type": "code",
   "execution_count": 27,
   "id": "a09886e5",
   "metadata": {},
   "outputs": [
    {
     "name": "stdout",
     "output_type": "stream",
     "text": [
      "Mean delay over height level -500.0: 0.12887\n",
      "Mean delay over height level 0.0: 0.12763\n",
      "Mean delay over height level 500.0: 0.12639\n",
      "Mean delay over height level 1000.0: 0.12515\n"
     ]
    }
   ],
   "source": [
    "## now build the rays at the unbuffered wm nodes , scaled by k2\n",
    "# just do 4 corners\n",
    "targ_xyz = [da.x.data, da.y.data, da.z.data]\n",
    "ray_data = build_ray_const(targ_xyz, Obj._zs, los, constant=const)"
   ]
  },
  {
   "cell_type": "code",
   "execution_count": 28,
   "id": "8ac69d39",
   "metadata": {},
   "outputs": [
    {
     "name": "stdout",
     "output_type": "stream",
     "text": [
      "True\n"
     ]
    }
   ],
   "source": [
    "## compare the delays in the cube vs the scaled rays; normalize by other dataset\n",
    "\n",
    "# ds = xr.open_dataset(f'{wd}/{WM}_tropo_{dts.replace(\"_\", \"\")}_ray.nc')['wet']\n",
    "raider_data = da.data\n",
    "print (np.allclose(ray_data, raider_data)) \n",
    "da.close()\n",
    "del da "
   ]
  },
  {
   "cell_type": "code",
   "execution_count": 198,
   "id": "2b8edca0",
   "metadata": {},
   "outputs": [
    {
     "data": {
      "text/plain": [
       "array([[[[1869637.47251098, 1822722.36253525, 1777614.40421987, ...,\n",
       "          1460066.77373754, 1435623.19527207, 1413577.7501727 ],\n",
       "         [1877161.62082643, 1830091.73357712, 1784814.52786441, ...,\n",
       "          1464902.67304134, 1440083.35499981, 1417636.87981808],\n",
       "         [1884695.40632423, 1837475.07733437, 1792033.12164515, ...,\n",
       "          1469806.47331471, 1444617.78872532, 1421776.72098447],\n",
       "         ...,\n",
       "         [1937624.78738718, 1889470.98299805, 1842999.64819356, ...,\n",
       "          1505931.29296276, 1478334.62496268, 1452911.7344863 ],\n",
       "         [1945202.78961418, 1896932.47945621, 1850331.50557409, ...,\n",
       "          1511334.17802492, 1483418.693889  , 1457652.66337991],\n",
       "         [1952782.25879141, 1904399.59812122, 1857673.27203974, ...,\n",
       "          1516793.95186521, 1488565.8856961 , 1462463.10264464]],\n",
       "\n",
       "        [[1870462.04664559, 1823474.93767837, 1778298.17583163, ...,\n",
       "          1460269.29831615, 1435788.16599241, 1413708.68417927],\n",
       "         [1877997.74983439, 1830855.54955965, 1785509.22394055, ...,\n",
       "          1465112.59556577, 1440255.18277509, 1417774.08654157],\n",
       "         [1885543.11786162, 1838250.16563351, 1792738.7777199 , ...,\n",
       "          1470023.89049179, 1444796.58059952, 1421920.31837444],\n",
       "         ...,\n",
       "         [1938554.26364723, 1890325.77187013, 1843782.93093706, ...,\n",
       "          1506203.71990198, 1478564.99251876, 1453103.1912073 ],\n",
       "         [1946144.03205822, 1897798.75511087, 1851125.99479329, ...,\n",
       "          1511614.80503969, 1483656.80944789, 1457851.37846317],\n",
       "         [1953735.28559202, 1905277.38265726, 1858478.99382838, ...,\n",
       "          1517082.85891048, 1488811.8384576 , 1462669.17526001]],\n",
       "\n",
       "        [[1871288.44505162, 1824229.16740605, 1778983.44299149, ...,\n",
       "          1460472.26403251, 1435953.49703851, 1413839.90501744],\n",
       "         [1878835.73058952, 1831621.04631685, 1786205.44055046, ...,\n",
       "          1465322.97509724, 1440427.38563354, 1417911.59364749],\n",
       "         [1886392.70877789, 1839026.96105137, 1793445.97946546, ...,\n",
       "          1470241.78074586, 1444975.76252948, 1422064.22993996],\n",
       "         ...,\n",
       "         [1939485.81696736, 1891182.45649194, 1844567.93948694, ...,\n",
       "          1506476.73771959, 1478795.86075009, 1453295.0650582 ],\n",
       "         [1947087.38039412, 1898666.95405247, 1851922.23613792, ...,\n",
       "          1511896.04048429, 1483895.44227155, 1458050.5262476 ],\n",
       "         [1954690.44725873, 1906157.11816128, 1859286.49420524, ...,\n",
       "          1517372.39210891, 1489058.32526035, 1462875.6963524 ]],\n",
       "\n",
       "        [[1872116.67330462, 1824985.05670784, 1779670.21015508, ...,\n",
       "          1460675.67214667, 1436119.18944539, 1413971.41350969],\n",
       "         [1879675.56876382, 1832388.2289274 , 1786903.18223258, ...,\n",
       "          1465533.81294116, 1440599.96464555, 1418049.40199672],\n",
       "         [1887244.18484213, 1839805.46875655, 1794154.73150382, ...,\n",
       "          1470460.14542689, 1445155.33562772, 1422208.45658041],\n",
       "         ...,\n",
       "         [1940419.4538244 , 1892041.04268895, 1845354.67907464, ...,\n",
       "          1506750.34810178, 1479027.23108489, 1453487.35723017],\n",
       "         [1948032.84120329, 1899537.08220388, 1852720.23493042, ...,\n",
       "          1512177.88609486, 1484134.59383595, 1458250.10796896],\n",
       "         [1955647.75047881, 1907038.81065431, 1860095.77858426, ...,\n",
       "          1517662.5532478 , 1489305.34762744, 1463082.6672019 ]]],\n",
       "\n",
       "\n",
       "       [[[ 796286.79876037,  776190.66682288,  756877.03051198, ...,\n",
       "           621128.75839555,  610693.67496992,  601283.97260561],\n",
       "         [ 799510.60255954,  779346.73309578,  759959.31305296, ...,\n",
       "           623193.44942013,  612597.59619536,  603016.42425961],\n",
       "         [ 802738.77149522,  782509.00406456,  763049.70772099, ...,\n",
       "           625287.20704216,  614533.28688937,  604783.37619442],\n",
       "         ...,\n",
       "         [ 825425.34242748,  804785.07684299,  784875.21197509, ...,\n",
       "           640713.68050682,  628928.60739217,  618074.01833349],\n",
       "         [ 828674.40021605,  807982.65065352,  788015.81369579, ...,\n",
       "           643021.25431415,  631099.55382016,  620098.05186958],\n",
       "         [ 831924.33476906,  811182.86818014,  791160.88067169, ...,\n",
       "           645353.22317966,  633297.5394924 ,  622151.83422975]],\n",
       "\n",
       "        [[ 796640.0867339 ,  776512.96203377,  757169.73693042, ...,\n",
       "           621215.22503891,  610764.09546424,  601339.8549874 ],\n",
       "         [ 799868.86737713,  779673.86507185,  760256.71570807, ...,\n",
       "           623283.0778126 ,  612670.9461402 ,  603074.98554212],\n",
       "         [ 803102.02587474,  782840.98710086,  763351.82258414, ...,\n",
       "           625380.03876288,  614609.61222311,  604844.66691957],\n",
       "         ...,\n",
       "         [ 825823.84280174,  805151.38078702,  785210.72227108, ...,\n",
       "           640830.03202573,  629026.97489638,  618155.75521991],\n",
       "         [ 829077.97594345,  808353.90422038,  788356.14802577, ...,\n",
       "           643141.1130276 ,  631201.23365648,  620182.89049413],\n",
       "         [ 832332.99453741,  811559.08169334,  791506.05102017, ...,\n",
       "           645476.62360516,  633402.57007255,  622239.8172083 ]],\n",
       "\n",
       "        [[ 796994.15914729,  776835.96812946,  757463.08540511, ...,\n",
       "           621301.88015462,  610834.66985509,  601395.85984143],\n",
       "         [ 800227.92855638,  780001.71927804,  760554.77122615, ...,\n",
       "           623372.90147012,  612744.45629389,  603133.67508943],\n",
       "         [ 803466.08860854,  783173.70378224,  763654.60118514, ...,\n",
       "           625473.07262788,  614686.10417076,  604906.09180627],\n",
       "         ...,\n",
       "         [ 826223.23741779,  805518.5001959 ,  785546.97431463, ...,\n",
       "           640946.63614983,  629125.55636216,  618237.67030442],\n",
       "         [ 829482.4584522 ,  808725.98520882,  788697.23551268, ...,\n",
       "           643261.23186918,  631303.13455918,  620267.91398062],\n",
       "         [ 832742.57369215,  811936.13465029,  791851.98600016, ...,\n",
       "           645600.29175678,  633507.82890483,  622327.99180079]],\n",
       "\n",
       "        [[ 797349.01840933,  777159.68726283,  757757.07785643, ...,\n",
       "           621388.72428149,  610905.39858492,  601451.98751901],\n",
       "         [ 800587.78854826,  780330.29790629,  760853.48156348, ...,\n",
       "           623462.9209508 ,  612818.12711391,  603192.49326932],\n",
       "         [ 803830.96219011,  783507.15633998,  763958.04551666, ...,\n",
       "           625566.30921485,  614762.76320794,  604967.65123903],\n",
       "         ...,\n",
       "         [ 826623.52907918,  805886.43758789,  785883.97036439, ...,\n",
       "           641063.49360087,  629224.3524006 ,  618319.76409637],\n",
       "         [ 829887.85059191,  809098.89617977,  789039.07845486, ...,\n",
       "           643381.6115821 ,  631405.25715956,  620353.12285727],\n",
       "         [ 833153.07512935,  812314.02965513,  792198.68794993, ...,\n",
       "           645724.22839952,  633613.31664105,  622416.35855469]]]])"
      ]
     },
     "execution_count": 198,
     "metadata": {},
     "output_type": "execute_result"
    }
   ],
   "source": [
    "ray_data / "
   ]
  },
  {
   "cell_type": "code",
   "execution_count": 29,
   "id": "ec2b5ea8",
   "metadata": {},
   "outputs": [
    {
     "data": {
      "image/png": "[encoded data removed]",
      "text/plain": [
       "<Figure size 640x480 with 2 Axes>"
      ]
     },
     "metadata": {},
     "output_type": "display_data"
    }
   ],
   "source": [
    "# plot the residual at one height level\n",
    "hgt_lvl = 2\n",
    "plt.imshow(ray_data[hgt_lvl] - raider_data[hgt_lvl], cmap='cmc.lajolla')\n",
    "plt.title('Wet Residual (Ray*Constant) - (Constant Delay)')\n",
    "plt.colorbar();"
   ]
  },
  {
   "cell_type": "markdown",
   "id": "6a16d16b",
   "metadata": {
    "heading_collapsed": true
   },
   "source": [
    "## Scenario 2b"
   ]
  },
  {
   "cell_type": "code",
   "execution_count": 37,
   "id": "646c56d4",
   "metadata": {
    "hidden": true
   },
   "outputs": [],
   "source": [
    "!rm {wd}/weather_files/{WM}*"
   ]
  },
  {
   "cell_type": "code",
   "execution_count": 38,
   "id": "a02edf9b",
   "metadata": {
    "hidden": true
   },
   "outputs": [
    {
     "name": "stdout",
     "output_type": "stream",
     "text": [
      "S/N/W/E: 33 34 -118.25 -117.25\n",
      "Grid Spacing: 50000.0 m\n"
     ]
    }
   ],
   "source": [
    "print ('S/N/W/E:', *SNWE)\n",
    "print ('Grid Spacing:', cube_spacing, 'm')"
   ]
  },
  {
   "cell_type": "code",
   "execution_count": 39,
   "id": "1624735b",
   "metadata": {
    "hidden": true,
    "scrolled": true
   },
   "outputs": [
    {
     "name": "stdout",
     "output_type": "stream",
     "text": [
      "Wrote new cfg file: /Users/buzzanga/Software_InSAR/RAiDER-docs_git/notebooks/Synthetic_Test/tmp.yaml\n",
      "\u001b[33;21mWARNING: Weather model only extends to the surface topography; height levels below the topography will be interpolated from the surface and may be inaccurate.\u001b[0m\n",
      "Invalid extension GTiff for cube. Defaulting to .nc\n",
      "Starting to run the weather model calculation\n",
      "Date: 20200130\n",
      "Beginning weather model pre-processing\n",
      "Weather model GMAO is available from 2014-02-20 to Present\n",
      "\u001b[33;21mWARNING: Rounded given datetime from  2020-01-30 13:52:45 to 2020-01-30 15:00:00\u001b[0m\n",
      "Number of weather model nodes: 24360\n",
      "Shape of weather model: (12, 14, 145)\n",
      "Bounds of the weather model: 32.00/34.75/-119.38/-115.31 (SNWE)\n",
      "Weather model: GMAO\n",
      "Mean value of the wet refractivity: 5.758169\n",
      "Mean value of the hydrostatic refractivity: 105.635017\n",
      "\n",
      "======Weather Model class object=====\n",
      "Weather model time: 2020-01-30 13:52:45\n",
      "Latitude resolution: 0.25\n",
      "Longitude resolution: 0.3125\n",
      "Native projection: EPSG:4326\n",
      "ZMIN: -100.0\n",
      "ZMAX: 15000.0\n",
      "k1 = 0.776\n",
      "k2 = 0.233\n",
      "k3 = 3750.0\n",
      "Humidity type = q\n",
      "=====================================\n",
      "Class name: gmao\n",
      "Dataset: gmao\n",
      "=====================================\n",
      "A: []\n",
      "B: []\n",
      "Number of points in Lon/Lat = 12/14\n",
      "Total number of grid points (3D): 24360\n",
      "=====================================\n",
      "\n",
      "Output SNWE: [32.5, 34.5, -119.0, -116.5]\n",
      "Output cube spacing: 0.5\n",
      "Processing slice 1 / 4: -500.0\n",
      "\n",
      "Mean delay over height level -500.0: 3.12396\n",
      "Processing slice 2 / 4: 0.0\n",
      "\n",
      "Mean delay over height level 0.0: 2.95872\n",
      "Processing slice 3 / 4: 500.0\n",
      "\n",
      "Mean delay over height level 500.0: 2.79494\n",
      "Processing slice 4 / 4: 1000.0\n",
      "\n",
      "Mean delay over height level 1000.0: 2.63673\n",
      "\n",
      "Successfully wrote delay cube to: /Users/buzzanga/Software_InSAR/RAiDER-docs_git/notebooks/Synthetic_Test/GMAO_tropo_20200130T135245_ray.nc\n",
      "\n"
     ]
    }
   ],
   "source": [
    "## run it through with the real weather model file\n",
    "\n",
    "# remove the weather model file for a clean run\n",
    "path_wm_real  = f'{op.splitext(path_wm)[0]}_REAL.nc'\n",
    "\n",
    "# use existing if possible\n",
    "if op.exists(path_wm_real):\n",
    "    os.remove(path_wm)\n",
    "    os.symlink(path_wm_real, path_wm)\n",
    "else:\n",
    "    try:\n",
    "        os.remove(f'{wd}/weather_files/{WM}_{dts}.nc')\n",
    "    except:\n",
    "        pass\n",
    "\n",
    "grp = {\n",
    "       'aoi_group': {'bounding_box': list(SNWE)},\n",
    "        'height_group': {\n",
    "                         'height_levels': hgt_lvls.tolist(),\n",
    "                        },\n",
    "        'date_group': {'date_list': datetime.strftime(dt, '%Y%m%d')},\n",
    "        'cube_spacing_in_m': str(cube_spacing),\n",
    "        'los_group': {'ray_trace': True, 'orbit_file': orbit},\n",
    "        'weather_model': WM\n",
    "      }\n",
    "\n",
    "cfg = new_yaml_group(yaml_GUNW, grp)\n",
    "!raider.py {cfg}\n",
    "\n",
    "if not op.exists(path_wm_real):\n",
    "    os.rename(path_wm, path_wm_real)"
   ]
  },
  {
   "cell_type": "code",
   "execution_count": 45,
   "id": "a60aefeb",
   "metadata": {
    "hidden": true,
    "scrolled": true
   },
   "outputs": [
    {
     "name": "stdout",
     "output_type": "stream",
     "text": [
      "Wrote synthetic weather model file to: /Users/buzzanga/Software_InSAR/RAiDER-docs_git/notebooks/Synthetic_Test/weather_files/GMAO_2020_01_30_T13_52_45_32N_35N_120W_115W_SYNTH.nc\n",
      "\u001b[33;21mWARNING: Weather model only extends to the surface topography; height levels below the topography will be interpolated from the surface and may be inaccurate.\u001b[0m\n",
      "Invalid extension GTiff for cube. Defaulting to .nc\n",
      "Starting to run the weather model calculation\n",
      "Date: 20200130\n",
      "Beginning weather model pre-processing\n",
      "\u001b[33;21mWARNING: Weather model already exists, please remove it (\"['/Users/buzzanga/Software_InSAR/RAiDER-docs_git/notebooks/Synthetic_Test/weather_files/GMAO_2020_01_30_T13_52_45.nc']\") if you want to download a new one.\u001b[0m\n",
      "Extent of the weather model is (xmin, ymin, xmax, ymax):-119.38, 32.00, -115.31, 34.75\n",
      "Extent of the input is (xmin, ymin, xmax, ymax): -118.72, 32.53, -116.22, 34.47\n",
      "\u001b[33;21mWARNING: The processed weather model file already exists, so I will use that.\u001b[0m\n",
      "Output SNWE: [32.5, 34.5, -119.0, -116.5]\n",
      "Output cube spacing: 0.5\n",
      "Processing slice 1 / 4: -500.0\n",
      "\n",
      "Mean delay over height level -500.0: 0.20348\n",
      "Processing slice 2 / 4: 0.0\n",
      "\n",
      "Mean delay over height level 0.0: 0.20156\n",
      "Processing slice 3 / 4: 500.0\n",
      "\n",
      "Mean delay over height level 500.0: 0.19963\n",
      "Processing slice 4 / 4: 1000.0\n",
      "\n",
      "Mean delay over height level 1000.0: 0.19771\n",
      "\n",
      "Successfully wrote delay cube to: /Users/buzzanga/Software_InSAR/RAiDER-docs_git/notebooks/Synthetic_Test/GMAO_tropo_20200130T135245_ray.nc\n",
      "\n"
     ]
    }
   ],
   "source": [
    "## run it again with the synthetic model\n",
    "const = 2.0\n",
    "Obj   = GMAOsynth(wm_bounds, k1=0, k2=const, k3=0, lh=True)\n",
    "\n",
    "path_wm_synth = update_GMAO(Obj, path_wm_real)\n",
    "\n",
    "os.remove(path_wm) if op.exists(path_wm) or op.islink(path_wm) else ''\n",
    "os.symlink(path_wm_synth, path_wm)\n",
    "\n",
    "!raider.py {cfg}\n",
    "\n",
    "# get the just created synthetic delays\n",
    "ds = xr.open_dataset(f'{wd}/{WM}_tropo_{dts.replace(\"_\", \"\")}_ray.nc')\n",
    "da = ds['wet']\n",
    "ds.close()\n",
    "del ds\n",
    "\n",
    "## or just run tropo delay\n",
    "# ds  = tropo_delay(dt, path_wm_synth, aoi, los, hgt_lvls, cube_spacing_m=cube_spacing)[0]\n",
    "# da  = ds['wet']\n"
   ]
  },
  {
   "cell_type": "code",
   "execution_count": 46,
   "id": "3a249c9c",
   "metadata": {
    "hidden": true
   },
   "outputs": [
    {
     "data": {
      "image/png": "[encoded data removed]",
      "text/plain": [
       "<Figure size 640x480 with 1 Axes>"
      ]
     },
     "metadata": {},
     "output_type": "display_data"
    },
    {
     "data": {
      "image/png": "[encoded data removed]",
      "text/plain": [
       "<Figure size 800x600 with 8 Axes>"
      ]
     },
     "metadata": {},
     "output_type": "display_data"
    },
    {
     "name": "stdout",
     "output_type": "stream",
     "text": [
      "Min: 0.112\n",
      "Any nan: False\n"
     ]
    }
   ],
   "source": [
    "## plot a profile of delays and the height levels\n",
    "\n",
    "lalo_ix = (1,2) # random index of lat lon\n",
    "\n",
    "fig, axes = plt.subplots()\n",
    "da.isel(y=lalo_ix[0], x=lalo_ix[1]).plot(ax=axes, color='k')\n",
    "da.isel(y=lalo_ix[0]+1, x=lalo_ix[1]).plot(ax=axes, color='red');\n",
    "axes.set_title('Neighboring Pixel Profiles')\n",
    "\n",
    "fig, axes = plt.subplots(ncols=2, nrows=2, sharex=True, sharey=True, figsize=(8,6))\n",
    "for i, ax in enumerate(axes.ravel()):\n",
    "    da.isel(z=i).plot(ax=ax, cmap='cmc.lajolla')#, vmin=0.058, vmax=0.061)\n",
    "    ax.set_xlabel('')\n",
    "    ax.set_ylabel('')\n",
    "fig.subplots_adjust(wspace=0.4)\n",
    "plt.show()\n",
    "\n",
    "## ensure there are no nans/0s\n",
    "print ('Min:', round(da.min().item(), 3))\n",
    "print ('Any nan:', da.isnull().any().item())"
   ]
  },
  {
   "cell_type": "code",
   "execution_count": 47,
   "id": "441f6258",
   "metadata": {
    "hidden": true
   },
   "outputs": [
    {
     "name": "stdout",
     "output_type": "stream",
     "text": [
      "Mean delay over height level -500.0: 0.20348\n",
      "Mean delay over height level 0.0: 0.20156\n",
      "Mean delay over height level 500.0: 0.19963\n",
      "Mean delay over height level 1000.0: 0.19771\n"
     ]
    }
   ],
   "source": [
    "## now build the rays at the unbuffered wm nodes , scaled by k1\n",
    "targ_xyz = [da.x.data, da.y.data, da.z.data]\n",
    "ifWet, ifHydro = getInterpolators(path_wm_synth, 'pointwise')\n",
    "ray_data    = build_ray_het(targ_xyz, los, ifWet)"
   ]
  },
  {
   "cell_type": "code",
   "execution_count": 48,
   "id": "5bd947ac",
   "metadata": {
    "hidden": true
   },
   "outputs": [
    {
     "name": "stdout",
     "output_type": "stream",
     "text": [
      "True\n"
     ]
    }
   ],
   "source": [
    "## compare the delays in the cube vs the scaled rays\n",
    "\n",
    "# in case of running in terminal\n",
    "# da = xr.open_dataset(f'{wd}/{WM}_tropo_20200130T135245_ray.nc')['hydro']\n",
    "\n",
    "raid_data = da.data\n",
    "# print (np.allclose(ray_data[0], raid_data[0])) \n",
    "\n",
    "print (np.allclose(ray_data, raid_data)) \n",
    "da.close()\n",
    "del da"
   ]
  },
  {
   "cell_type": "markdown",
   "id": "f65a73dc",
   "metadata": {},
   "source": [
    "# Misc"
   ]
  },
  {
   "cell_type": "markdown",
   "id": "00d62141",
   "metadata": {
    "heading_collapsed": true
   },
   "source": [
    "## Estimate Projection Conversion Error"
   ]
  },
  {
   "cell_type": "code",
   "execution_count": 30,
   "id": "756a19b2",
   "metadata": {
    "hidden": true
   },
   "outputs": [],
   "source": [
    "# this is only a fair comparison at the lowest height level\n",
    "# you build the ray between two height levels. at the bottom of the height level, the unit \n",
    "def estimate_proj_error(xpts, ypts, low_ht, los:object):\n",
    "    \"\"\" Estimate the error due to projecting back and forth at a certain height level\n",
    "    \n",
    "    Only compare at the single height, where the ray starts. As the ray builds it moves horiontally. \n",
    "    Lat/lons error is within nnumerical precision but height is off by about 1e-4\n",
    "    \"\"\"\n",
    "    from pyproj import CRS, Transformer\n",
    "    \n",
    "    # Create a regular 2D grid\n",
    "    xx, yy = np.meshgrid(xpts, ypts)\n",
    "\n",
    "    llh = [xx, yy, np.full_like(yy, low_ht)]\n",
    "    xyz = np.stack(lla2ecef(llh[1], llh[0], llh[2]), axis=-1)\n",
    "    \n",
    "    # Step 2 - get LOS vectors for targets (at the requested height level)\n",
    "    LOS = los.getLookVectors(low_ht, llh, xyz, yy)\n",
    "\n",
    "    ecef_to_model = Transformer.from_crs(CRS.from_epsg(4978), CRS.from_epsg(4326))\n",
    "    low_xyz  = getTopOfAtmosphere(xyz, LOS, low_ht, factor=None)\n",
    "\n",
    "    # ray point in ECEF\n",
    "    ff = 0 # only care about the ray point on the ground, at the same x/y\n",
    "    pts_xyz = low_xyz + ff #*(high_xyz - low_xyz)\n",
    "\n",
    "    # Ray point in model coordinates\n",
    "    pts = ecef_to_model.transform(\n",
    "        pts_xyz[..., 0],\n",
    "        pts_xyz[..., 1],\n",
    "        pts_xyz[..., 2]\n",
    "    )\n",
    "    new_zs = pts[2] # the new z at each lat lon\n",
    "    resid  = new_zs-low_ht\n",
    "    return resid"
   ]
  },
  {
   "cell_type": "code",
   "execution_count": 31,
   "id": "86456404",
   "metadata": {
    "hidden": true
   },
   "outputs": [
    {
     "name": "stdout",
     "output_type": "stream",
     "text": [
      "(re)Projection induced error: -0.45 +/- 0.87 mm\n"
     ]
    }
   ],
   "source": [
    "resid_llh = estimate_proj_error(Obj._xs, Obj._ys, -500, los)*1000\n",
    "print (f'(re)Projection induced error: {resid_llh.mean():.2f} +/- {resid_llh.std():.2f} mm')"
   ]
  },
  {
   "cell_type": "markdown",
   "id": "4b1a3749",
   "metadata": {},
   "source": [
    "## Check Difference in Rays from Total vs height levels"
   ]
  },
  {
   "cell_type": "markdown",
   "id": "0e21e02c",
   "metadata": {},
   "source": [
    "Differences are due to truncation stuff we do to speed things up"
   ]
  },
  {
   "cell_type": "code",
   "execution_count": 192,
   "id": "067b4516",
   "metadata": {
    "code_folding": []
   },
   "outputs": [],
   "source": [
    "def test_ray(target_xyz:list, model_zs, los):\n",
    "    \"\"\" This builds rays only; no impact of delays \n",
    "    \n",
    "    Target xyz is a list of lists (xpts, ypts, hgt_levels)\n",
    "    Model_zs are all the model levels over which ray is calculated\n",
    "    los in los object (has the orbit info)\n",
    "    constant is the value to scale the rays by\n",
    "    \"\"\"\n",
    "    # Create a regular 2D grid\n",
    "    xx, yy = np.meshgrid(target_xyz[0], target_xyz[1])\n",
    "    hgt_lvls = target_xyz[2]\n",
    "    outputArrs = np.zeros((hgt_lvls.size, target_xyz[1].size, target_xyz[0].size))\n",
    "\n",
    "    # iterate over height levels\n",
    "    ray_lengths = [], []\n",
    "    for hh, ht in enumerate(hgt_lvls):\n",
    "        \n",
    "        outSubs = outputArrs[hh, ...] # a 2d array where output is stored and added to (at one heihgt level)\n",
    "        \n",
    "        llh = [xx, yy, np.full(yy.shape, ht)]\n",
    "\n",
    "        xyz = np.stack(lla2ecef(llh[1], llh[0], np.full(yy.shape, ht)), axis=-1)\n",
    "        LOS = los.getLookVectors(ht, llh, xyz, yy)\n",
    "            \n",
    "        cos_factor = None\n",
    "        \n",
    "        low_xyz = getTopOfAtmosphere(xyz, LOS, model_zs[0], factor=cos_factor)\n",
    "        # cant just force it because zz will do a bunch more iteration/sums\n",
    "        high_xyz = getTopOfAtmosphere(xyz, LOS, model_zs[-1], factor=cos_factor)\n",
    "        ray_lengths[1].append(np.linalg.norm(high_xyz - low_xyz, axis=-1))# * 1e-6)\n",
    "        \n",
    "        ray_length = np.zeros_like(yy)\n",
    "        for zz in range(model_zs.size-1):\n",
    "            low_ht = model_zs[zz]\n",
    "            high_ht = model_zs[zz + 1]\n",
    "            \n",
    "            # turn all these off to match exactly the full ray\n",
    "#             if (high_ht <= ht) or (low_ht >= 50000):\n",
    "#                 print (ht, zz)\n",
    "#                 continue\n",
    "                \n",
    "#             If high_ht > max_tropo_height - integral only up to max tropo\n",
    "            if high_ht > 50000:\n",
    "                high_ht = 50000\n",
    "                \n",
    "            # If low_ht < height of point - integral only up to height of point\n",
    "#             if low_ht < ht:\n",
    "#                 low_ht = ht\n",
    "                \n",
    "            # Continue only if needed - 1m troposphere does nothing\n",
    "#             if np.abs(high_ht - low_ht) < 1.0:\n",
    "#                 continue\n",
    "\n",
    "            low_xyz     = getTopOfAtmosphere(xyz, LOS, low_ht, factor=cos_factor)\n",
    "            high_xyz    = getTopOfAtmosphere(xyz, LOS, high_ht, factor=cos_factor)\n",
    "            ray_length += np.linalg.norm(high_xyz - low_xyz, axis=-1)\n",
    "        ray_lengths[0].append(ray_length)\n",
    "    \n",
    "    #ray_lengths[0] = summation\n",
    "    #ray_lengths[1] = integral over whole ray\n",
    "    return ray_lengths\n",
    "\n",
    "ray_data = test_ray(targ_xyz, Obj._zs, los)"
   ]
  },
  {
   "cell_type": "code",
   "execution_count": 193,
   "id": "cfdc03db",
   "metadata": {},
   "outputs": [
    {
     "name": "stdout",
     "output_type": "stream",
     "text": [
      "0 False\n",
      "1 False\n",
      "2 False\n",
      "3 False\n"
     ]
    },
    {
     "data": {
      "text/plain": [
       "False"
      ]
     },
     "execution_count": 193,
     "metadata": {},
     "output_type": "execute_result"
    }
   ],
   "source": [
    "# check if hgt level\n",
    "for i in range(4):\n",
    "    print (i, np.allclose(ray_data[0][i], ray_data[1][i]))\n",
    "\n",
    "np.allclose(ray_data[0], ray_data[1])"
   ]
  },
  {
   "cell_type": "code",
   "execution_count": 194,
   "id": "5c6bc106",
   "metadata": {},
   "outputs": [
    {
     "data": {
      "image/png": "[encoded data removed]",
      "text/plain": [
       "<Figure size 640x480 with 2 Axes>"
      ]
     },
     "metadata": {},
     "output_type": "display_data"
    }
   ],
   "source": [
    "hgt_lvl = 0\n",
    "resid_hgt = ray_data[1][hgt_lvl] - ray_data[0][hgt_lvl]\n",
    "\n",
    "# plot the residual at one height level\n",
    "plt.imshow(resid_hgt, cmap='cmc.lajolla')\n",
    "plt.title('Ray Length Residual (Full - Interval)')\n",
    "plt.colorbar();"
   ]
  },
  {
   "cell_type": "markdown",
   "id": "fc09ac25",
   "metadata": {
    "heading_collapsed": true
   },
   "source": [
    "### Test Lateral Homogeneity with Interpolation"
   ]
  },
  {
   "cell_type": "code",
   "execution_count": 187,
   "id": "74776533",
   "metadata": {
    "code_folding": [
     0
    ],
    "hidden": true,
    "init_cell": true
   },
   "outputs": [],
   "source": [
    "def build_ray_het(target_xyz:list, los, interpolator):\n",
    "    \"\"\" This builds rays and interpolates the delays to them\n",
    "    \n",
    "    Target xyz is a list of lists (xpts, ypts, hgt_levels)\n",
    "    Model_zs are all the model levels over which ray is calculated\n",
    "    los in los object (has the orbit info)\n",
    "    \n",
    "    \"\"\"\n",
    "    # Create a regular 2D grid\n",
    "    xx, yy = np.meshgrid(target_xyz[0], target_xyz[1])\n",
    "    hgt_lvls = target_xyz[2]\n",
    "    outputArrs = np.zeros((hgt_lvls.size, target_xyz[1].size, target_xyz[0].size))\n",
    "    \n",
    "    model_zs   = interpolator.grid[-1]\n",
    "    \n",
    "    ecef_to_model = Transformer.from_crs(CRS.from_epsg(4978), CRS.from_epsg(4326))\n",
    "\n",
    "    # iterate over height levels\n",
    "    for hh, ht in enumerate(hgt_lvls):\n",
    "        \n",
    "        outSubs = outputArrs[hh, ...] # a 2d array where output is stored and added to (at one height level)\n",
    "        \n",
    "        llh = [xx, yy, np.full(yy.shape, ht)]\n",
    "\n",
    "        xyz = np.stack(lla2ecef(llh[1], llh[0], np.full(yy.shape, ht)), axis=-1)\n",
    "        LOS = los.getLookVectors(ht, llh, xyz, yy)\n",
    "            \n",
    "        cos_factor = None\n",
    "        \n",
    "        # iterate over all model levels\n",
    "        nn=0\n",
    "        for zz in range(model_zs.size-1):\n",
    "            low_ht = model_zs[zz]\n",
    "            high_ht = model_zs[zz + 1]\n",
    "            \n",
    "            if (high_ht <= ht) or (low_ht >= 50000):\n",
    "                continue\n",
    "                \n",
    "            # If high_ht > max_tropo_height - integral only up to max tropo\n",
    "            if high_ht > 50000:\n",
    "                high_ht = 50000\n",
    "                \n",
    "            # If low_ht < height of point - integral only up to height of point\n",
    "            if low_ht < ht:\n",
    "                low_ht = ht\n",
    "                \n",
    "            # Continue only if needed - 1m troposphere does nothing\n",
    "            if np.abs(high_ht - low_ht) < 1.0:\n",
    "                continue\n",
    "\n",
    "            low_xyz = getTopOfAtmosphere(xyz, LOS, low_ht, factor=cos_factor)\n",
    "            high_xyz = getTopOfAtmosphere(xyz, LOS, high_ht, factor=cos_factor)\n",
    "            ray_length = np.linalg.norm(high_xyz - low_xyz, axis=-1)\n",
    "            nParts = int(np.ceil(ray_length.max() / 1000)) + 1\n",
    "\n",
    "            if cos_factor is None:\n",
    "                cos_factor = (high_ht - low_ht) / ray_length\n",
    "\n",
    "            # fractions of ray\n",
    "            fracs = np.linspace(0., 1., num=nParts)\n",
    "\n",
    "            # Integrate over the ray\n",
    "            for findex, ff in enumerate(fracs):\n",
    "                pts_xyz = low_xyz + ff * (high_xyz - low_xyz)\n",
    "\n",
    "                # Ray point in model coordinates\n",
    "                pts = ecef_to_model.transform(\n",
    "                    pts_xyz[..., 0],\n",
    "                    pts_xyz[..., 1],\n",
    "                    pts_xyz[..., 2]\n",
    "                )\n",
    "                \n",
    "                pts = np.stack(pts, axis=-1)\n",
    "                ## adjust the lowest level by ~ 1 mm to account for transformation error\n",
    "                if (pts[:, :, -1] < ht).all():\n",
    "                    pts[:, :, -1] = ht\n",
    "\n",
    "                \n",
    "                # Trapezoidal integration with scaling\n",
    "                wt   = 0.5 if findex in [0, fracs.size-1] else 1.0\n",
    "                wt  *= ray_length  * 1e-6 / (nParts - 1.0)\n",
    "                \n",
    "                val =  interpolator(pts)\n",
    "                outSubs += wt * val\n",
    "\n",
    "                nn+1 # counter for stopping\n",
    "\n",
    "        print (f'Mean delay over height level {ht}: {outSubs.mean():.5f}')\n",
    "#         break\n",
    "        \n",
    "    return outputArrs"
   ]
  },
  {
   "cell_type": "code",
   "execution_count": null,
   "id": "1e7888c8",
   "metadata": {
    "hidden": true
   },
   "outputs": [],
   "source": [
    "# would use something like this; note that weather model class would be adjusted to have self._p != self._t/self._e"
   ]
  },
  {
   "cell_type": "code",
   "execution_count": null,
   "id": "d1e86fd0",
   "metadata": {
    "hidden": true
   },
   "outputs": [],
   "source": [
    "## run it again with the synthetic model\n",
    "const = 7.0\n",
    "Obj   = GMAOsynth(wm_bounds, k1=const, k2=0, k3=0, lh=True)\n",
    "path_wm_synth = update_GMAO(Obj, path_wm_real)\n",
    "\n",
    "os.remove(path_wm) if op.exists(path_wm) or op.islink(path_wm) else ''\n",
    "os.symlink(path_wm_synth, path_wm)\n",
    "\n",
    "!raider.py {cfg}\n",
    "\n",
    "# get the just created synthetic delays\n",
    "ds = xr.open_dataset(f'{wd}/{WM}_tropo_{dts.replace(\"_\", \"\")}_ray.nc')\n",
    "da = ds['hydro']\n",
    "ds.close()\n",
    "del ds\n",
    "\n",
    "## or just run tropo delay\n",
    "# ds  = tropo_delay(dt, path_wm_synth, aoi, los, hgt_lvls, cube_spacing_m=cube_spacing)[0]\n",
    "# da  = ds['wet']\n"
   ]
  },
  {
   "cell_type": "code",
   "execution_count": null,
   "id": "30d6d199",
   "metadata": {
    "hidden": true
   },
   "outputs": [],
   "source": [
    " \n",
    "## now build the rays at the unbuffered wm nodes , scaled by constant\n",
    "targ_xyz = [da.x.data, da.y.data, da.z.data]\n",
    "ifWet, ifHydro = getInterpolators(path_wm_synth, 'pointwise')\n",
    "ray_data    = build_ray_het(targ_xyz, los, ifHydro)"
   ]
  }
 ],
 "metadata": {
  "celltoolbar": "Initialization Cell",
  "kernelspec": {
   "display_name": "Python 3 (ipykernel)",
   "language": "python",
   "name": "python3"
  },
  "language_info": {
   "codemirror_mode": {
    "name": "ipython",
    "version": 3
   },
   "file_extension": ".py",
   "mimetype": "text/x-python",
   "name": "python",
   "nbconvert_exporter": "python",
   "pygments_lexer": "ipython3",
   "version": "3.10.9"
  }
 },
 "nbformat": 4,
 "nbformat_minor": 5
}
