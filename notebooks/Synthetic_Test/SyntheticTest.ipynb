{
 "cells": [
  {
   "cell_type": "markdown",
   "id": "e91c6342",
   "metadata": {},
   "source": [
    "# Delay Calculation Validation Experiments"
   ]
  },
  {
   "cell_type": "markdown",
   "id": "e1a4a1db",
   "metadata": {},
   "source": [
    "- Note that you'll have to be on an updated branch ... (to be pushed pending exising PRs)\n",
    "     - There is way to much going on in the current PRs, don't want to add complexity just yet"
   ]
  },
  {
   "cell_type": "code",
   "execution_count": 1,
   "id": "8701b438",
   "metadata": {
    "init_cell": true
   },
   "outputs": [
    {
     "name": "stdout",
     "output_type": "stream",
     "text": [
      "Automatic pdb calling has been turned OFF\n",
      "Working directory (WD): /Users/buzzanga/Software_InSAR/RAiDER-docs_git/notebooks/Synthetic_Test\n"
     ]
    }
   ],
   "source": [
    "import os, os.path as op\n",
    "import numpy as np\n",
    "import matplotlib.pyplot as plt\n",
    "import xarray as xr\n",
    "from datetime import datetime\n",
    "from RAiDER.llreader import BoundingBox\n",
    "from RAiDER.losreader import Zenith, Conventional, Raytracing\n",
    "from RAiDER.delay import tropo_delay\n",
    "from RAiDER.utilFcns import (\n",
    "    lla2ecef, transform_bbox, clip_bbox, writeResultsToXarray,\n",
    "    rio_profile,\n",
    ")\n",
    "%pdb off\n",
    "\n",
    "# change this to the directory with the notebook\n",
    "WD = op.join(op.expanduser('~'), 'Software_InSAR','RAiDER-docs_git','notebooks', 'Synthetic_Test')\n",
    "os.chdir(WD)\n",
    "print ('Working directory (WD):', WD)"
   ]
  },
  {
   "cell_type": "markdown",
   "id": "9481cbce",
   "metadata": {},
   "source": [
    "### helper functions"
   ]
  },
  {
   "cell_type": "markdown",
   "id": "213a404d",
   "metadata": {},
   "source": [
    "update_wm is the one to edit"
   ]
  },
  {
   "cell_type": "code",
   "execution_count": 2,
   "id": "59715c2d",
   "metadata": {
    "code_folding": [
     0
    ],
    "init_cell": true
   },
   "outputs": [],
   "source": [
    "def compare_golden(wd, ext='ray'):\n",
    "    \"\"\" Quick check if the synth result is different than real weather wm \"\"\"\n",
    "    ds_orig = xr.open_dataset(f'{wd}/golden_data/GMAO_tropo_20181113T230000_{ext}.nc')\n",
    "    da_dry0 = ds_orig['hydro']\n",
    "    ds_new  = xr.open_dataset(f'{wd}/Synthetic_tropo_20181113T110000_{ext}.nc')\n",
    "    da_dry1 = ds_new['hydro']\n",
    "    equal = np.allclose(da_dry0.data, da_dry1.data, equal_nan=True)\n",
    "    print ('Orig == synthetic?', equal)\n",
    "    return"
   ]
  },
  {
   "cell_type": "markdown",
   "id": "44c75a54",
   "metadata": {},
   "source": [
    "## Hack Weather Model"
   ]
  },
  {
   "cell_type": "code",
   "execution_count": 3,
   "id": "96668bc6",
   "metadata": {
    "code_folding": [],
    "init_cell": true
   },
   "outputs": [],
   "source": [
    "from RAiDER.models.gmao import GMAO\n",
    "\n",
    "class GMAOdummy(GMAO):\n",
    "    def __init__(self):\n",
    "        super().__init__()\n",
    "#         self.shp = (13, 12, 145) # unique to this study area (145 height levels)\n",
    "        self.shp = (21, 22, 145) # unique to this study area (145 height levels)\n",
    "\n",
    "        self._k1 = 2# 0.776  # [K/Pa]\n",
    "        self._k2 = 1# 0.233  # [K/Pa]\n",
    "        self._k3 = 0# 3.75e3  # [K^2/Pa]\n",
    "        self._p  = np.ones(self.shp) \n",
    "        self._e  = np.ones(self.shp) \n",
    "        self._t  = np.ones(self.shp)\n",
    "#         self._zs = self._zlevels # model levels\n",
    "        self._zs = np.ones(self.shp[-1])\n",
    "\n",
    "    def _get_wet_refractivity(self):\n",
    "        '''\n",
    "        Calculate the wet delay from pressure, temperature, and e\n",
    "        '''\n",
    "        self._wet_refractivity = self._k2 * self._e / self._t + self._k3 * self._e / self._t**2\n",
    "        return self._wet_refractivity\n",
    "    \n",
    "    def _get_hydro_refractivity(self):\n",
    "        '''\n",
    "        Calculate the hydrostatic delay from pressure and temperature\n",
    "        '''\n",
    "        self._hydrostatic_refractivity = self._k1 * self._p / self._t\n",
    "        return self._hydrostatic_refractivity\n",
    "    \n",
    "    def getWetRefractivity(self):\n",
    "        return self._wet_refractivity\n",
    "\n",
    "   \n",
    "    def getHydroRefractivity(self):\n",
    "        return self._hydrostatic_refractivity\n",
    "\n",
    "   \n",
    "    def _getZTD(self, zref=None):\n",
    "        self._get_wet_refractivity()\n",
    "        self._get_hydro_refractivity()\n",
    "        wet   = self.getWetRefractivity()\n",
    "        hydro = self.getHydroRefractivity()\n",
    "\n",
    "\n",
    "        # Get the integrated ZTD\n",
    "        wet_total, hydro_total = np.zeros(wet.shape), np.zeros(hydro.shape)\n",
    "        for level in range(wet.shape[2]):\n",
    "            wet_total[..., level] = 1e-6 * np.trapz(\n",
    "                wet[..., level:], x=self._zs[level:], axis=2\n",
    "            )\n",
    "            hydro_total[..., level] = 1e-6 * np.trapz(\n",
    "                hydro[..., level:], x=self._zs[level:], axis=2\n",
    "            )\n",
    "        self._hydrostatic_ztd = hydro_total\n",
    "        self._wet_ztd = wet_total\n",
    "        return"
   ]
  },
  {
   "cell_type": "code",
   "execution_count": 4,
   "id": "7fd947bb",
   "metadata": {
    "code_folding": [],
    "init_cell": true
   },
   "outputs": [],
   "source": [
    "def update_wm(wm_file, wet, dry, dry_total=None, wet_total=None):\n",
    "    \"\"\" Edit the pointwise? values in a weather model file \n",
    "\n",
    "    write it out with extension _SYNTH\n",
    "    Return the file name for input into tropo_delay\n",
    "\n",
    "    wet_total/hydro_total used for zenith/proj\n",
    "    wet/hydro used for ray\n",
    "    \"\"\"\n",
    "    with xr.open_dataset(wm_file) as ds:\n",
    "        ds['wet']   = ('z y x'.split(), wet)\n",
    "        ds['hydro'] = ('z y x'.split(), dry)\n",
    "        \n",
    "        if wet_total:\n",
    "            ds['wet_total']   = ('z y x'.split(), wet_total)\n",
    "        if dry_total:\n",
    "            ds['hydro_total'] = ('z y x'.split(), dry_total)\n",
    "        \n",
    "    dst = f'{op.splitext(wm_file)[0]}_SYNTH.nc'\n",
    "    ds.to_netcdf(dst)\n",
    "    print ('Wrote synthetic weather model file to:', dst)\n",
    "    return dst\n"
   ]
  },
  {
   "cell_type": "code",
   "execution_count": 5,
   "id": "9bd1ae2d",
   "metadata": {
    "init_cell": true
   },
   "outputs": [
    {
     "name": "stdout",
     "output_type": "stream",
     "text": [
      "Wrote synthetic weather model file to: /Users/buzzanga/Software_InSAR/RAiDER-docs_git/notebooks/Synthetic_Test/weather_files/GMAO_2020_01_30_T13_52_45_32N_37N_121W_115W_SYNTH.nc\n"
     ]
    }
   ],
   "source": [
    "Obj = GMAOdummy()\n",
    "# Obj._getZTD()\n",
    "\n",
    "wet = Obj._get_wet_refractivity().transpose(2,0,1)\n",
    "dry = Obj._get_hydro_refractivity().transpose(2,0,1)\n",
    "\n",
    "f   = op.join(WD, 'weather_files', 'GMAO_2020_01_30_T13_52_45_32N_37N_121W_115W.nc')\n",
    "# f   = op.join(WD, 'weather_files', 'GMAO_2018_11_13_T23_00_00_36N_39N_78W_75W.nc')\n",
    "dst = update_wm(f, wet=wet, dry=dry)\n",
    "ds  = xr.open_dataset(dst)"
   ]
  },
  {
   "cell_type": "code",
   "execution_count": null,
   "id": "7ca6a3ed",
   "metadata": {},
   "outputs": [],
   "source": [
    "from RAiDER.utilFcns import (\n",
    "    lla2ecef, transform_bbox, clip_bbox, writeResultsToXarray,\n",
    "    rio_profile,\n",
    ")\n",
    "\n",
    "wm_proj = rio_profile(f\"netcdf:{dst}:t\")[\"crs\"]\n",
    "wm_proj"
   ]
  },
  {
   "cell_type": "markdown",
   "id": "c329352b",
   "metadata": {
    "heading_collapsed": true
   },
   "source": [
    "## Setup Fake Ray Tracing"
   ]
  },
  {
   "cell_type": "code",
   "execution_count": null,
   "id": "2576f652",
   "metadata": {
    "hidden": true
   },
   "outputs": [],
   "source": [
    "import isce3.ext.isce3 as isce\n",
    "from isce3.core import DateTime, TimeDelta\n",
    "\n",
    "# degrees\n",
    "_LON0 = 0\n",
    "_LAT0 = 0\n",
    "_OMEGA = 0.1 / (180/np.pi)"
   ]
  },
  {
   "cell_type": "code",
   "execution_count": null,
   "id": "b7be0ebd",
   "metadata": {
    "hidden": true
   },
   "outputs": [],
   "source": [
    "help(isce.core.Ellipsoid)"
   ]
  },
  {
   "cell_type": "code",
   "execution_count": null,
   "id": "dc97238f",
   "metadata": {
    "hidden": true
   },
   "outputs": [],
   "source": [
    "def setup_fake_raytracing(lat0, lon0, omega):\n",
    "    '''This sets up a fake orbit for the weather model'''\n",
    "    hsat = 700000.\n",
    "    Nvec = 30\n",
    "\n",
    "    t0 = DateTime(\"2017-02-12T01:12:30.0\")\n",
    "\n",
    "    elp = isce.core.Ellipsoid(6378137., .0066943799901)\n",
    "    look = isce.core.LookSide.Left\n",
    "\n",
    "    sat_hgt = elp.a + hsat\n",
    "    sat_lat = np.sin(np.radians(lat0))\n",
    "    clat = np.cos(np.radians(lat0))\n",
    "\n",
    "    svs = []\n",
    "    for k in range(Nvec):\n",
    "        dt = TimeDelta(100 * k)\n",
    "        lon = lon0 + omega * dt.total_seconds()\n",
    "\n",
    "        pos = []\n",
    "        pos.append(sat_hgt * clat * np.cos(np.radians(lon)))\n",
    "        pos.append(sat_hgt * clat * np.sin(np.radians(lon)))\n",
    "        pos.append(sat_hgt * sat_lat)\n",
    "\n",
    "        vel = []\n",
    "        vel.append(-omega * pos[1])\n",
    "        vel.append(omega * pos[0])\n",
    "        vel.append(0.)\n",
    "\n",
    "        epoch = t0 + dt\n",
    "\n",
    "        svs.append(\n",
    "            isce.core.StateVector(epoch,pos, vel)\n",
    "        )\n",
    "\n",
    "    orb = isce.core.Orbit(svs)\n",
    "\n",
    "    return orb, look, elp, sat_hgt"
   ]
  },
  {
   "cell_type": "code",
   "execution_count": null,
   "id": "f81b9144",
   "metadata": {
    "hidden": true
   },
   "outputs": [],
   "source": [
    "orb, look, elp, sat_hgt = setup_fake_raytracing(_LAT0, _LON0, _OMEGA)"
   ]
  },
  {
   "cell_type": "markdown",
   "id": "376b1dc6",
   "metadata": {},
   "source": [
    "## Get/Set defaults"
   ]
  },
  {
   "cell_type": "code",
   "execution_count": null,
   "id": "a069782d",
   "metadata": {},
   "outputs": [],
   "source": [
    "## Mimic test_scenario_3.py\n",
    "# dt  = datetime(2018, 11, 13, 23)\n",
    "# dts = dt.strftime('%Y_%m_%d_T%H_%M_%S')\n",
    "\n",
    "# height_levels = np.array([0., 100., 500., 1000.])\n",
    "# aoi = BoundingBox([36.8, 36.85, -76.15, -76.05])\n",
    "# # aoi.add_buffer(buffer=1.)\n",
    "\n",
    "# # get redownload (with change to name) with !eof -m S1A -d {dts.replace('_', '')}\n",
    "# orbit = f'{WD}/S1A_OPER_AUX_POEORB_OPOD_20181203T120749_V20181112T225942_20181114T005942.EOF'"
   ]
  },
  {
   "cell_type": "code",
   "execution_count": 7,
   "id": "e44deb14",
   "metadata": {
    "init_cell": true
   },
   "outputs": [],
   "source": [
    "## Mimic LA_ARIA GUNW\n",
    "\n",
    "dt  = datetime(2020, 1, 30, 13, 52, 45)\n",
    "dts = dt.strftime('%Y_%m_%d_T%H_%M_%S')\n",
    "\n",
    "height_levels = np.array([0., 100., 500., 1000.])\n",
    "aoi = BoundingBox([32.979829, 34.944592, -119.272279, -116.251959])\n",
    "# aoi.add_buffer(buffer=1.)\n",
    "orbit = f'{WD}/S1B_OPER_AUX_POEORB_OPOD_20210317T025713_V20200129T225942_20200131T005942.EOF'"
   ]
  },
  {
   "cell_type": "markdown",
   "id": "313f82c4",
   "metadata": {},
   "source": [
    "### Hack Orbit File"
   ]
  },
  {
   "cell_type": "code",
   "execution_count": 52,
   "id": "a9080231",
   "metadata": {
    "init_cell": true
   },
   "outputs": [],
   "source": [
    "import isce3.ext.isce3 as isce\n",
    "from RAiDER.losreader import read_ESA_Orbit_file, cut_times, get_orbit\n",
    "\n",
    "svs = read_ESA_Orbit_file(orbit)\n",
    "idx = cut_times(svs[0], dt, pad=6000)\n",
    "svs = [d[idx] for d in svs]\n",
    "\n",
    "svs0 = svs.copy()\n",
    "\n",
    "# returns \n",
    "#         svs (list of ndarrays): - the times, x/y/z positions and velocities\n",
    "# ecef?\n",
    "# of the sensor for the given window around the reference time"
   ]
  },
  {
   "cell_type": "code",
   "execution_count": 53,
   "id": "a63374e7",
   "metadata": {
    "init_cell": true
   },
   "outputs": [],
   "source": [
    "# only N/S orbit?\n",
    "# svs[1] = len(svs[0]) * [np.mean(svs[1])] # x\n",
    "# svs[1] = len(svs[0]) * [np.median(svs[1])] # x\n",
    "\n",
    "svs[1] = len(svs[1]) * [svs[1][0]] # x\n",
    "# svs[4] = len(svs[4]) * [0]\n",
    "# svs[3] = len(svs[0]) * [np.mean(svs[2])] # z"
   ]
  },
  {
   "cell_type": "code",
   "execution_count": 54,
   "id": "277dafd1",
   "metadata": {},
   "outputs": [],
   "source": [
    "# basically losreader.get_orbit\n",
    "svs1  = np.stack(svs, axis=-1)\n",
    "svs_i = []\n",
    "for sv in svs1:\n",
    "    sv = isce.core.StateVector(isce.core.DateTime(sv[0]), sv[1:4], sv[4:7])\n",
    "    svs_i.append(sv)\n",
    "\n",
    "orb = isce.core.Orbit(svs_i)"
   ]
  },
  {
   "cell_type": "code",
   "execution_count": 55,
   "id": "f63731df",
   "metadata": {},
   "outputs": [],
   "source": [
    "from pyproj import CRS, Transformer\n",
    "out_snwe = [32.9, 35.0, -119.30000000000001, -116.2]\n",
    "out_spacing  = 0.1\n",
    "xpts = np.arange(out_snwe[2], out_snwe[3] + out_spacing, out_spacing)\n",
    "ypts = np.arange(out_snwe[1], out_snwe[0] - out_spacing, -out_spacing)\n",
    "\n",
    "xx, yy = np.meshgrid(xpts, ypts)\n",
    "pts_crs = CRS.from_epsg(4326)\n",
    "\n",
    "ht  = 0\n",
    "llh = [xx, yy, np.full(yy.shape, ht)]\n",
    "xyz = np.stack(lla2ecef(llh[1], llh[0], np.full(yy.shape, ht)), axis=-1)"
   ]
  },
  {
   "cell_type": "code",
   "execution_count": 56,
   "id": "da86a819",
   "metadata": {},
   "outputs": [
    {
     "name": "stdout",
     "output_type": "stream",
     "text": [
      "All nan? True\n"
     ]
    }
   ],
   "source": [
    "los = Raytracing(orbit)\n",
    "los._orbit = orb\n",
    "los._time  = dt\n",
    "\n",
    "LOS = los.getLookVectors(ht, llh, xyz, yy)\n",
    "print ('All nan?', np.isnan(LOS).all())"
   ]
  },
  {
   "cell_type": "code",
   "execution_count": 19,
   "id": "da4a5a95",
   "metadata": {},
   "outputs": [],
   "source": [
    "# # only N/S orbit?\n",
    "# # svs[1] = len(svs[0]) * [np.mean(svs[1])] # x\n",
    "# svs[1] = len(svs[0]) * [np.median(svs[1])] # x\n",
    "\n",
    "# # svs[1] = len(svs[0]) * [svs[1][0]] # x\n",
    "# # svs[4] = len(svs[4]) * [0]\n",
    "# # svs[3] = len(svs[0]) * [np.mean(svs[2])] # z\n",
    "# # basically losreader.get_orbit\n",
    "# svs1  = np.stack(svs, axis=-1)\n",
    "\n",
    "# svs_i = []\n",
    "# for sv in svs1:\n",
    "#     sv = isce.core.StateVector(isce.core.DateTime(sv[0]), sv[1:4], sv[4:7])\n",
    "#     svs_i.append(sv)\n",
    "\n",
    "# orb = isce.core.Orbit(svs_i)\n",
    "# xpts  = ds.x.data\n",
    "# ypts  = ds.y.data\n",
    "# xx, yy = np.meshgrid(xpts, ypts)\n",
    "# pts_crs = CRS.from_epsg(4326)\n",
    "\n",
    "# ht  = -500\n",
    "# llh = [xx, yy, np.full(yy.shape, ht)]\n",
    "# xyz = np.stack(lla2ecef(llh[1], llh[0], np.full(yy.shape, ht)), axis=-1)\n",
    "# los = Raytracing(orbit)\n",
    "# los._oribt = orb\n",
    "# los._time  = dt\n",
    "\n",
    "# LOS = los.getLookVectors(ht, llh, xyz, yy)"
   ]
  },
  {
   "cell_type": "code",
   "execution_count": null,
   "id": "bcbef7ba",
   "metadata": {},
   "outputs": [],
   "source": [
    "los = Zenith()\n",
    "ext = 'ztd'\n",
    "\n",
    "# los = Conventional(orbit)\n",
    "# ext = 'std'\n",
    "\n",
    "# los = Raytracing(orbit, time=dt)\n",
    "# ext = 'ray'"
   ]
  },
  {
   "cell_type": "code",
   "execution_count": null,
   "id": "4e4ed7ed",
   "metadata": {},
   "outputs": [],
   "source": []
  },
  {
   "cell_type": "code",
   "execution_count": null,
   "id": "f487fc8e",
   "metadata": {},
   "outputs": [],
   "source": [
    "# original weather model file \n",
    "# can be redownloaded with !raider.py raider_example_3.yaml\n",
    "wm0 = f'{WD}/weather_files/GMAO_{dts}_36N_39N_78W_75W.nc'\n",
    "wm  = update_wm(wm0)"
   ]
  },
  {
   "cell_type": "markdown",
   "id": "21dd307f",
   "metadata": {
    "heading_collapsed": true
   },
   "source": [
    "### Compute Delays"
   ]
  },
  {
   "cell_type": "code",
   "execution_count": null,
   "id": "41307491",
   "metadata": {
    "hidden": true
   },
   "outputs": [],
   "source": [
    "ds  = tropo_delay(dt, wm, aoi, los, height_levels, cube_spacing_m=5000)[0]"
   ]
  },
  {
   "cell_type": "code",
   "execution_count": null,
   "id": "251ddf5f",
   "metadata": {
    "hidden": true
   },
   "outputs": [],
   "source": [
    "out = f'{WD}/Synthetic_tropo_20181113T110000_{ext}.nc'\n",
    "ds.to_netcdf(out, mode=\"w\")\n",
    "print ('Wrote:', out)"
   ]
  },
  {
   "cell_type": "markdown",
   "id": "010de329",
   "metadata": {
    "heading_collapsed": true
   },
   "source": [
    "### Check against analytical solutions"
   ]
  },
  {
   "cell_type": "code",
   "execution_count": null,
   "id": "afa4d1d7",
   "metadata": {
    "hidden": true
   },
   "outputs": [],
   "source": [
    "compare_golden(WD)"
   ]
  },
  {
   "cell_type": "markdown",
   "id": "0d14d36a",
   "metadata": {
    "heading_collapsed": true
   },
   "source": [
    "## Questions"
   ]
  },
  {
   "cell_type": "markdown",
   "id": "3c38e931",
   "metadata": {
    "hidden": true
   },
   "source": [
    "- is our hydrostatic equation missing a term?\n",
    "ours: $$0.776 \\frac{P_d}{T}$$\n",
    "[Li et al, Eq. 2](https://amt.copernicus.org/articles/14/6379/2021/): $$0.776  \\frac{P_d}{T} + 0.776 \\frac{M_w}{M_d}\\frac{P_w}{T}$$\n",
    "\n",
    "where: $P_d$ (in hPa) is the partial pressure of the dry constituent, $P_w$ (in hPa) is the partial pressure of water vapor, T (in K) is the partial temperature. They don't define $M_w$ and $M_d$/\n",
    "\n",
    "Meanwhile, from [Stephens et al., Eq. 4](https://www.mdpi.com/2072-4292/12/5/782)(also Jolivet): $$0.776  \\frac{R_d}{9.8}(P)$$\n",
    "\n",
    "where $R_d$ is the specific gas constants for dry air \n",
    "\n",
    "Agreement with [Bekaert et al., 2015](https://www.sciencedirect.com/science/article/pii/S0034425715301231):\n",
    "$$k_1\\left(\\frac{P}{T}\\right)_{hyd} + \\left(k_2\\frac{e}{T} + k_3\\frac{e}{T}^2\\right)_{wet}$$\n",
    "\n",
    "\n",
    "I suppose we ignore the $P_w$ wrt Li et al., but why are we so different from Jolivet?\n"
   ]
  },
  {
   "cell_type": "markdown",
   "id": "741dff48",
   "metadata": {},
   "source": [
    "## Plot Orbits"
   ]
  },
  {
   "cell_type": "code",
   "execution_count": null,
   "id": "6b7e4bae",
   "metadata": {},
   "outputs": [],
   "source": [
    "xs = np.ones(5)*5\n",
    "ys = np.arange(5)*2\n",
    "zs = np.arange(5)"
   ]
  },
  {
   "cell_type": "code",
   "execution_count": null,
   "id": "307b8c25",
   "metadata": {},
   "outputs": [],
   "source": [
    "%matplotlib inline\n",
    "fig = plt.figure()\n",
    "ax = fig.add_subplot(projection='3d')\n",
    "ax.scatter(xs, ys, zs, color='k')\n",
    "ax.set_xlabel('x')\n",
    "ax.set_ylabel('y')\n",
    "ax.set_zlabel('z')"
   ]
  },
  {
   "cell_type": "code",
   "execution_count": null,
   "id": "87b6a0d5",
   "metadata": {},
   "outputs": [],
   "source": [
    "\n",
    "xs  = svs0[1]\n",
    "ys  = svs0[2]\n",
    "zs  = svs0[3]\n",
    "\n",
    "xs1 = svs[1]\n",
    "ys1 = svs[2]\n",
    "zs1 = svs[3]\n",
    "# xx = np.arange(len(xs))\n",
    "# xx = np.polyval(np.polyfit(xx, xs, 1), xx)\n",
    "# xx"
   ]
  },
  {
   "cell_type": "code",
   "execution_count": null,
   "id": "ecb8351e",
   "metadata": {},
   "outputs": [],
   "source": [
    "%matplotlib inline\n",
    "\n",
    "\n",
    "fig = plt.figure(figsize=(7,7))\n",
    "ax = fig.add_subplot(projection='3d')\n",
    "\n",
    "ax.scatter(xs, ys, zs, color='k')\n",
    "ax.scatter(xs1, ys1, zs1, color='red')\n",
    "\n",
    "\n",
    "ax.set_xlabel('xax')\n",
    "ax.set_ylabel('yax')\n",
    "ax.set_zlabel('zax')\n",
    "\n",
    "ax.view_init(elev=20., azim=-35, roll=0)"
   ]
  },
  {
   "cell_type": "markdown",
   "id": "a01cdc9d",
   "metadata": {},
   "source": [
    "## Orbit Math"
   ]
  },
  {
   "cell_type": "markdown",
   "id": "d4cc593c",
   "metadata": {},
   "source": [
    "https://github.com/isce-framework/isce3/blob/0eb175f86f6c74d86c19ba9623f23054513fc657/tests/cxx/isce3/geometry/geometry/geometry_constlat.cpp"
   ]
  },
  {
   "cell_type": "markdown",
   "id": "58166488",
   "metadata": {},
   "source": [
    "This unit test compares output of geometry algorithms against analytic solutions\n",
    "derived for a satellite flying at constant velocity and radius over a line of constant\n",
    "latitude.\n",
    "The target is assumed to lie on a sphere with radius equal to Ellipsoid's major axis.\n",
    "## Geodetic LLH to ECEF XYZ\n",
    "---------\n",
    "Radius along the East-West direction ($R_e$) is given by:\n",
    "$$R_e \\left(\\theta \\right) = \\frac{a}{\\sqrt{1 - e^2 \\cdot \\sin^2 \\left(\\theta \\right)}}$$\n",
    "Using the East-West radius, a given target at Geodetic Latitude ($\\theta$), Longitude ($\\psi$)\n",
    "and Height ($h$) can be transformed to Caresian ECEF coordinates as follows:\n",
    "$$X = \\left( R_e\\left( \\theta \\right) + h \\right) \\cdot \\cos \\theta \\cdot \\cos \\psi$$\n",
    "$$Y = \\left( R_e\\left( \\theta \\right) + h \\right) \\cdot \\cos \\theta \\cdot \\sin \\psi$$\n",
    "$$Z = \\left( R_e\\left( \\theta \\right) \\cdot \\left( 1 - e^2 \\right) +h \\right) \\cdot \\sin \\theta $$\n",
    "## Parametric form of Sphere with Geocentric Latitude\n",
    "-----------\n",
    "A point $\\vec{S}$ on a sphere at a height $h$ above the major axis characterized by Geocentric\n",
    "Latitude ($\\lambda$), Longitude ($\\psi$) can be expressed in ECEF coordinates as follows:\n",
    "$$ X = \\left( a + h \\right) \\cdot \\cos \\lambda \\cos \\psi $$\n",
    "$$ Y = \\left( a + h \\right) \\cdot \\cos \\lambda \\sin \\psi $$\n",
    "$$ Z = \\left( a + h \\right) \\cdot \\sin \\lambda $$\n",
    "## Target on same longitude as satellite is on Zero Doppler Countour\n",
    "----------\n",
    "Consider a target ($\\vec{T}$) located on the same longitude as the satellite.\n",
    "Let the location of target ($\\vec{T}$) be represented by geocentric latitude $\\lambda$,\n",
    "longitude $\\psi$ and zero height .\n",
    "$$X_t = a \\cdot \\cos \\lambda \\cdot \\cos \\psi$$\n",
    "$$Y_t = a \\cdot \\cos \\lambda \\cdot \\sin \\psi$$\n",
    "$$Z_t = a \\cdot \\sin \\lambda $$\n",
    "Using the above expressions, it can be shown that\n",
    "$$\\left( \\vec{R_{s}} - \\vec{T} \\right) \\cdot \\vec{V_{s}} = 0$$\n",
    "Hence, it is sufficient to solve for Target latitude ($\\lambda$) when estimating target\n",
    "on reference surface of ellipsoid ($h_t$) for a given slant range for forward\n",
    "geometry operations.\n",
    "## Target on Geocentric sphere with radius a\n",
    "-----------\n",
    "For a given slant range ($R$), we can write out\n",
    "$$ \\left( \\left( a + h_s \\right) \\cdot \\cos \\lambda_s  -   a \\cdot \\cos \\lambda \\right)^2$$\n",
    "$$ + \\left( \\left( a +h_s \\right) \\cdot \\sin \\lambda_s - a \\cdot \\sin \\lambda \\right)^2 = R^2$$\n",
    "Leading to\n",
    "$$\\cos \\left( \\lambda - \\lambda_s \\right) = \\frac{1}{2} \\cdot \\left[ \\frac{a+h_s}{a} + \\frac{a}{a+h_s} - \\frac{R}{a} \\cdot \\frac{R}{a+h_s} \\right] $$"
   ]
  }
 ],
 "metadata": {
  "celltoolbar": "Initialization Cell",
  "kernelspec": {
   "display_name": "Python 3 (ipykernel)",
   "language": "python",
   "name": "python3"
  },
  "language_info": {
   "codemirror_mode": {
    "name": "ipython",
    "version": 3
   },
   "file_extension": ".py",
   "mimetype": "text/x-python",
   "name": "python",
   "nbconvert_exporter": "python",
   "pygments_lexer": "ipython3",
   "version": "3.10.9"
  }
 },
 "nbformat": 4,
 "nbformat_minor": 5
}
