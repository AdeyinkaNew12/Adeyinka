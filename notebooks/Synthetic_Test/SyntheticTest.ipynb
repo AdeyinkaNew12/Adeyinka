{
 "cells": [
  {
   "cell_type": "markdown",
   "id": "e91c6342",
   "metadata": {},
   "source": [
    "# Delay Calculation Validation Experiments"
   ]
  },
  {
   "cell_type": "markdown",
   "id": "e1a4a1db",
   "metadata": {},
   "source": [
    "- Note that you'll have to be on an updated branch ... (to be pushed pending exising PRs)\n",
    "     - There is way to much going on in the current PRs, don't want to add complexity just yet"
   ]
  },
  {
   "cell_type": "code",
   "execution_count": 2,
   "id": "8701b438",
   "metadata": {},
   "outputs": [
    {
     "name": "stdout",
     "output_type": "stream",
     "text": [
      "Automatic pdb calling has been turned OFF\n",
      "Working directory (WD): /Users/buzzanga/Software_InSAR/RAiDER-docs_git/notebooks/Synthetic_Test\n"
     ]
    }
   ],
   "source": [
    "import os, os.path as op\n",
    "import numpy as np\n",
    "import xarray as xr\n",
    "from datetime import datetime\n",
    "from RAiDER.llreader import BoundingBox\n",
    "from RAiDER.losreader import Zenith, Conventional, Raytracing\n",
    "from RAiDER.delay import tropo_delay\n",
    "%pdb off\n",
    "\n",
    "# change this to the directory with the notebook\n",
    "WD = op.join(op.expanduser('~'), 'Software_InSAR','RAiDER-docs_git','notebooks', 'Synthetic_Test')\n",
    "os.chdir(WD)\n",
    "print ('Working directory (WD):', WD)"
   ]
  },
  {
   "cell_type": "markdown",
   "id": "9481cbce",
   "metadata": {},
   "source": [
    "### helper functions"
   ]
  },
  {
   "cell_type": "markdown",
   "id": "213a404d",
   "metadata": {},
   "source": [
    "update_wm is the one to edit"
   ]
  },
  {
   "cell_type": "code",
   "execution_count": 33,
   "id": "8d47f8cb",
   "metadata": {},
   "outputs": [],
   "source": [
    "def update_wm(wm_file):\n",
    "    \"\"\" Edit the values in a weather model file \n",
    "\n",
    "    write it out with extension _SYNTH\n",
    "    Return the file name for input into tropo_delay\n",
    "\n",
    "    wet_total/hydro_total used for zenith/proj\n",
    "    wet/hydro used for ray\n",
    "    \"\"\"\n",
    "\n",
    "    with xr.open_dataset(wm_file) as ds:\n",
    "        # edit t, p, e, wet, hydro, wet_total, hydro_total\n",
    "        ds['wet']   = ('z y x'.split(), np.zeros_like(ds['wet']))\n",
    "        ds['hydro'] = ('z y x'.split(), np.zeros_like(ds['hydro']))\n",
    "        \n",
    "        ds['wet_total']   = ('z y x'.split(), np.zeros_like(ds['wet_total']))\n",
    "        ds['hydro_total'] = ('z y x'.split(), np.zeros_like(ds['hydro_total']))\n",
    "        \n",
    "    print (ds)\n",
    "    dst = f'{op.splitext(wm_file)[0]}_SYNTH.nc'\n",
    "    ds.to_netcdf(dst)\n",
    "    print ('Wrote synthetic weather model file to:', dst)\n",
    "    return dst\n"
   ]
  },
  {
   "cell_type": "code",
   "execution_count": 4,
   "id": "59715c2d",
   "metadata": {},
   "outputs": [],
   "source": [
    "def compare_golden(wd, ext='ray'):\n",
    "    \"\"\" Quick check if the synth result is different than real weather wm \"\"\"\n",
    "    ds_orig = xr.open_dataset(f'{wd}/golden_data/GMAO_tropo_20181113T230000_{ext}.nc')\n",
    "    da_dry0 = ds_orig['hydro']\n",
    "    ds_new  = xr.open_dataset(f'{wd}/Synthetic_tropo_20181113T110000_{ext}.nc')\n",
    "    da_dry1 = ds_new['hydro']\n",
    "    equal = np.allclose(da_dry0.data, da_dry1.data, equal_nan=True)\n",
    "    print ('Orig == synthetic?', equal)\n",
    "    return"
   ]
  },
  {
   "cell_type": "markdown",
   "id": "376b1dc6",
   "metadata": {},
   "source": [
    "### Get/Set defaults\n",
    "- Mimic test_scenario_3.py"
   ]
  },
  {
   "cell_type": "code",
   "execution_count": 22,
   "id": "a069782d",
   "metadata": {},
   "outputs": [],
   "source": [
    "dt  = datetime(2018, 11, 13, 23)\n",
    "dts = dt.strftime('%Y_%m_%d_T%H_%M_%S')\n",
    "\n",
    "height_levels = np.array([0., 100., 500., 1000.])\n",
    "aoi = BoundingBox([36.8, 36.85, -76.15, -76.05])\n",
    "aoi.add_buffer(buffer=1.)\n",
    "\n",
    "# get redownload (with change to name) with !eof -m S1A -d {dts.replace('_', '')}\n",
    "orbit = f'{WD}/S1A_OPER_AUX_POEORB_OPOD_20181203T120749_V20181112T225942_20181114T005942.EOF'"
   ]
  },
  {
   "cell_type": "code",
   "execution_count": 23,
   "id": "bcbef7ba",
   "metadata": {},
   "outputs": [],
   "source": [
    "los = Zenith()\n",
    "ext = 'ztd'\n",
    "\n",
    "# los = Conventional(orbit)\n",
    "# ext = 'std'\n",
    "\n",
    "# los = Raytracing(orbit, time=dt)\n",
    "# ext = 'ray'"
   ]
  },
  {
   "cell_type": "code",
   "execution_count": 29,
   "id": "d291a277",
   "metadata": {},
   "outputs": [
    {
     "name": "stdout",
     "output_type": "stream",
     "text": [
      "<xarray.Dataset>\n",
      "Dimensions:      (x: 12, y: 13, z: 145)\n",
      "Coordinates:\n",
      "  * x            (x) float64 -77.81 -77.5 -77.19 -76.88 ... -75.0 -74.69 -74.38\n",
      "  * y            (y) float64 35.25 35.5 35.75 36.0 ... 37.5 37.75 38.0 38.25\n",
      "  * z            (z) float32 -500.0 -300.0 -200.0 ... 7.458e+04 8.03e+04\n",
      "Data variables:\n",
      "    WGS84        |S1 ...\n",
      "    latitude     (z, y, x) float64 ...\n",
      "    longitude    (z, y, x) float64 ...\n",
      "    t            (z, y, x) float32 ...\n",
      "    p            (z, y, x) float32 ...\n",
      "    e            (z, y, x) float32 ...\n",
      "    wet          (z, y, x) float32 ...\n",
      "    hydro        (z, y, x) float32 ...\n",
      "    wet_total    (z, y, x) float32 0.0 0.0 0.0 0.0 0.0 ... 0.0 0.0 0.0 0.0 0.0\n",
      "    hydro_total  (z, y, x) float32 0.0 0.0 0.0 0.0 0.0 ... 0.0 0.0 0.0 0.0 0.0\n",
      "Attributes:\n",
      "    Conventions:   CF-1.6\n",
      "    datetime:      2018_11_13T23_00_00\n",
      "    date_created:  2023_03_08T17_52_47\n",
      "    title:         Weather model data and delay calculations\n",
      "Wrote synthetic weather model file to: /Users/buzzanga/Software_InSAR/RAiDER-docs_git/notebooks/Synthetic_Test/weather_files/GMAO_2018_11_13_T23_00_00_36N_39N_78W_75W_SYNTH.nc\n"
     ]
    }
   ],
   "source": [
    "# original weather model file \n",
    "# can be redownloaded with !raider.py raider_example_3.yaml\n",
    "wm0 = f'{WD}/weather_files/GMAO_{dts}_36N_39N_78W_75W.nc'\n",
    "wm  = update_wm(wm0)"
   ]
  },
  {
   "cell_type": "markdown",
   "id": "21dd307f",
   "metadata": {},
   "source": [
    "### Compute Delays"
   ]
  },
  {
   "cell_type": "code",
   "execution_count": 20,
   "id": "41307491",
   "metadata": {},
   "outputs": [
    {
     "name": "stdout",
     "output_type": "stream",
     "text": [
      "Output SNWE: [36.75, 36.85, -76.15, -76.0]\n",
      "Output cube spacing: 0.05\n",
      "Processing slice 1 / 4: 0.0\n",
      "Processing slice 2 / 4: 100.0\n",
      "Processing slice 3 / 4: 500.0\n",
      "Processing slice 4 / 4: 1000.0\n"
     ]
    }
   ],
   "source": [
    "ds  = tropo_delay(dt, wm, aoi, los, height_levels, cube_spacing_m=5000)[0]"
   ]
  },
  {
   "cell_type": "code",
   "execution_count": 9,
   "id": "251ddf5f",
   "metadata": {},
   "outputs": [
    {
     "name": "stdout",
     "output_type": "stream",
     "text": [
      "Wrote: /Users/buzzanga/Software_InSAR/RAiDER-docs_git/notebooks/Synthetic_Test/Synthetic_tropo_20181113T110000_ray.nc\n"
     ]
    }
   ],
   "source": [
    "out = f'{WD}/Synthetic_tropo_20181113T110000_{ext}.nc'\n",
    "ds.to_netcdf(out, mode=\"w\")\n",
    "print ('Wrote:', out)"
   ]
  },
  {
   "cell_type": "markdown",
   "id": "010de329",
   "metadata": {},
   "source": [
    "### Check against analytical solutions"
   ]
  },
  {
   "cell_type": "code",
   "execution_count": 10,
   "id": "afa4d1d7",
   "metadata": {},
   "outputs": [
    {
     "name": "stdout",
     "output_type": "stream",
     "text": [
      "Orig == synthetic? True\n"
     ]
    }
   ],
   "source": [
    "compare_golden(WD)"
   ]
  },
  {
   "cell_type": "code",
   "execution_count": 35,
   "id": "f161f4f4",
   "metadata": {},
   "outputs": [],
   "source": [
    "from RAiDER.models.gmao import GMAO\n",
    "Obj = GMAO()"
   ]
  },
  {
   "cell_type": "code",
   "execution_count": 31,
   "id": "093dd656",
   "metadata": {},
   "outputs": [],
   "source": [
    "## zenith delays in weatherModel.py:\n",
    "\n",
    "class GMAOdummy(object):\n",
    "    def __init__(self):\n",
    "        self._k1 = 0.776  # [K/Pa]\n",
    "        self._k2 = 0.233  # [K/Pa]\n",
    "        self._k3 = 3.75e3  # [K^2/Pa]\n",
    "        self._p  = np.ones([2,3,4])\n",
    "        self._e  = np.ones([2,3,4])\n",
    "        self._t  = np.ones([2,3,4])\n",
    "        self._zs = np.array([-500., -300., -200., -100.,  -50.]) # model levels\n",
    "        self._get_wet_refractivity()\n",
    "        self._get_hydro_refractivity()\n",
    "\n",
    "    def _get_wet_refractivity(self):\n",
    "        '''\n",
    "        Calculate the wet delay from pressure, temperature, and e\n",
    "        '''\n",
    "        self._wet_refractivity = self._k2 * self._e / self._t + self._k3 * self._e / self._t**2\n",
    "\n",
    "    def _get_hydro_refractivity(self):\n",
    "        '''\n",
    "        Calculate the hydrostatic delay from pressure and temperature\n",
    "        '''\n",
    "        self._hydrostatic_refractivity = self._k1 * self._p / self._t\n",
    "\n",
    "    \n",
    "    def getWetRefractivity(self):\n",
    "        return self._wet_refractivity\n",
    "\n",
    "   \n",
    "    def getHydroRefractivity(self):\n",
    "        return self._hydrostatic_refractivity\n",
    "\n",
    "   \n",
    "    def _getZTD(self, zref=None):\n",
    "        wet   = self.getWetRefractivity()\n",
    "        hydro = self.getHydroRefractivity()\n",
    "\n",
    "\n",
    "        # Get the integrated ZTD\n",
    "        wet_total, hydro_total = np.zeros(wet.shape), np.zeros(hydro.shape)\n",
    "        for level in range(wet.shape[2]):\n",
    "            wet_total[..., level] = 1e-6 * np.trapz(\n",
    "                wet[..., level:], x=self._zs[level:], axis=2\n",
    "            )\n",
    "            hydro_total[..., level] = 1e-6 * np.trapz(\n",
    "                hydro[..., level:], x=self._zs[level:], axis=2\n",
    "            )\n",
    "        self._hydrostatic_ztd = hydro_total\n",
    "        self._wet_ztd = wet_total\n",
    "        return\n",
    "\n",
    "Obj = GMAOdummy()\n",
    "# Obj._getZTD()"
   ]
  },
  {
   "cell_type": "markdown",
   "id": "18818c42",
   "metadata": {},
   "source": [
    "## Questions"
   ]
  },
  {
   "cell_type": "markdown",
   "id": "e6d7a143",
   "metadata": {},
   "source": [
    "- is our hydrostatic equation missing a term?\n",
    "ours: $$0.776 \\frac{P_d}{T}$$\n",
    "[Li et al, Eq. 2](https://amt.copernicus.org/articles/14/6379/2021/): $$0.776  \\frac{P_d}{T} + 0.776 \\frac{M_w}{M_d}\\frac{P_w}{T}$$\n",
    "\n",
    "where: $P_d$ (in hPa) is the partial pressure of the dry constituent, $P_w$ (in hPa) is the partial pressure of water vapor, T (in K) is the partial temperature. They don't define $M_w$ and $M_d$/\n",
    "\n",
    "Meanwhile, from [Stephens et al., Eq. 4](https://www.mdpi.com/2072-4292/12/5/782)(also Jolivet): $$0.776  \\frac{R_d}{9.8}(P)$$\n",
    "\n",
    "where $R_d$ is the specific gas constants for dry air \n",
    "\n",
    "Agreement with [Bekaert et al., 2015](https://www.sciencedirect.com/science/article/pii/S0034425715301231):\n",
    "$$k_1\\left(\\frac{P}{T}\\right)_{hyd} + \\left(k_2\\frac{e}{T} + k_3\\frac{e}{T}^2\\right)_{wet}$$\n",
    "\n",
    "\n",
    "I suppose we ignore the $P_w$ wrt Li et al., but why are we so different from Jolivet?\n"
   ]
  }
 ],
 "metadata": {
  "kernelspec": {
   "display_name": "Python 3 (ipykernel)",
   "language": "python",
   "name": "python3"
  },
  "language_info": {
   "codemirror_mode": {
    "name": "ipython",
    "version": 3
   },
   "file_extension": ".py",
   "mimetype": "text/x-python",
   "name": "python",
   "nbconvert_exporter": "python",
   "pygments_lexer": "ipython3",
   "version": "3.10.9"
  }
 },
 "nbformat": 4,
 "nbformat_minor": 5
}
