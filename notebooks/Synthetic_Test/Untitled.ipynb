{
 "cells": [
  {
   "cell_type": "markdown",
   "id": "e91c6342",
   "metadata": {},
   "source": [
    "# Delay Calculation Validation Experiments"
   ]
  },
  {
   "cell_type": "markdown",
   "id": "e1a4a1db",
   "metadata": {},
   "source": [
    "- Note that you'll have to be on an updated branch ... (to be pushed pending exising PRs)\n",
    "     - There is way to much going on in the current PRs, don't want to add complexity just yet"
   ]
  },
  {
   "cell_type": "code",
   "execution_count": 22,
   "id": "8701b438",
   "metadata": {},
   "outputs": [
    {
     "name": "stdout",
     "output_type": "stream",
     "text": [
      "Automatic pdb calling has been turned OFF\n",
      "Working directory (WD): /Users/buzzanga/Software_InSAR/RAiDER-docs_git/notebooks/Synthetic_Test\n"
     ]
    }
   ],
   "source": [
    "import os, os.path as op\n",
    "import numpy as np\n",
    "import xarray as xr\n",
    "from datetime import datetime\n",
    "from RAiDER.llreader import BoundingBox\n",
    "from RAiDER.losreader import Zenith, Conventional, Raytracing\n",
    "from RAiDER.delay import tropo_delay\n",
    "%pdb off\n",
    "\n",
    "# change this to the directory with the notebook\n",
    "WD = op.join(op.expanduser('~'), 'Software_InSAR','RAiDER-docs_git','notebooks', 'Synthetic_Test')\n",
    "os.chdir(WD)\n",
    "print ('Working directory (WD):', WD)"
   ]
  },
  {
   "cell_type": "markdown",
   "id": "9481cbce",
   "metadata": {},
   "source": [
    "### helper functions"
   ]
  },
  {
   "cell_type": "markdown",
   "id": "213a404d",
   "metadata": {},
   "source": [
    "update_wm is the one to edit"
   ]
  },
  {
   "cell_type": "code",
   "execution_count": 25,
   "id": "8d47f8cb",
   "metadata": {},
   "outputs": [],
   "source": [
    "def update_wm(wm_file):\n",
    "    \"\"\" Edit the values in a weather model file \n",
    "\n",
    "    write it out with extension _SYNTH\n",
    "    Return the file name for input into tropo_delay\n",
    "\n",
    "    wet_total/hydro_total used for zenith/proj\n",
    "    wet/hydro used for ray\n",
    "    \"\"\"\n",
    "\n",
    "    with xr.open_dataset(wm_file) as ds:\n",
    "        # edit t, p, e, wet, hydro, wet_total, hydro_total\n",
    "        ds['wet_total']   = ('z y x'.split(), np.zeros_like(ds['wet_total']))\n",
    "        ds['hydro_total'] = ('z y x'.split(), np.zeros_like(ds['hydro_total']))\n",
    "\n",
    "    dst = f'{op.splitext(wm_file)[0]}_SYNTH.nc'\n",
    "    ds.to_netcdf(dst)\n",
    "    print ('Wrote synthetic weather model file to:', dst)\n",
    "    return dst\n"
   ]
  },
  {
   "cell_type": "code",
   "execution_count": 26,
   "id": "59715c2d",
   "metadata": {},
   "outputs": [],
   "source": [
    "def compare_golden(wd, ext='ray'):\n",
    "    \"\"\" Quick check if the synth result is different than real weather wm \"\"\"\n",
    "    ds_orig = xr.open_dataset(f'{wd}/golden_data/GMAO_tropo_20181113T230000_{ext}.nc')\n",
    "    da_dry0 = ds_orig['hydro']\n",
    "    ds_new  = xr.open_dataset(f'{wd}/Synthetic_tropo_20181113T110000_{ext}.nc')\n",
    "    da_dry1 = ds_new['hydro']\n",
    "    equal = np.allclose(da_dry0.data, da_dry1.data, equal_nan=True)\n",
    "    print ('Orig == synthetic?', equal)\n",
    "    return"
   ]
  },
  {
   "cell_type": "markdown",
   "id": "376b1dc6",
   "metadata": {},
   "source": [
    "### Get/Set defaults\n",
    "- Mimic test_scenario_3.py"
   ]
  },
  {
   "cell_type": "code",
   "execution_count": 27,
   "id": "a069782d",
   "metadata": {},
   "outputs": [],
   "source": [
    "dt  = datetime(2018, 11, 13, 23)\n",
    "dts = dt.strftime('%Y_%m_%d_T%H_%M_%S')\n",
    "\n",
    "height_levels = np.array([0., 100., 500., 1000.])\n",
    "aoi = BoundingBox([36.8, 36.85, -76.15, -76.05])\n",
    "aoi.add_buffer(buffer=1.)\n",
    "\n",
    "# get redownload (with change to name) with !eof -m S1A -d {dts.replace('_', '')}\n",
    "orbit = f'{WD}/S1A_OPER_AUX_POEORB_OPOD_20181203T120749_V20181112T225942_20181114T005942.EOF'"
   ]
  },
  {
   "cell_type": "code",
   "execution_count": 29,
   "id": "279f25b7",
   "metadata": {},
   "outputs": [
    {
     "name": "stdout",
     "output_type": "stream",
     "text": [
      "Wrote synthetic weather model file to: /Users/buzzanga/Software_InSAR/RAiDER-docs_git/notebooks/Synthetic_Test/weather_files/GMAO_2018_11_13_T23_00_00_36N_39N_78W_75W_SYNTH.nc\n"
     ]
    }
   ],
   "source": [
    "# original weather model file \n",
    "# can be redownloaded with !raider.py raider_example_3.yaml\n",
    "wm0 = f'{WD}/weather_files/GMAO_{dts}_36N_39N_78W_75W.nc'\n",
    "wm  = update_wm(wm0)"
   ]
  },
  {
   "cell_type": "code",
   "execution_count": 30,
   "id": "bcbef7ba",
   "metadata": {},
   "outputs": [],
   "source": [
    "# los = Zenith()\n",
    "# ext = 'zenith'\n",
    "# los = Conventional(orbit)\n",
    "# ext = 'proj'\n",
    "\n",
    "los = Raytracing(orbit, time=dt)\n",
    "ext = 'ray'"
   ]
  },
  {
   "cell_type": "markdown",
   "id": "21dd307f",
   "metadata": {},
   "source": [
    "### Compute Delays"
   ]
  },
  {
   "cell_type": "code",
   "execution_count": 31,
   "id": "41307491",
   "metadata": {},
   "outputs": [
    {
     "name": "stdout",
     "output_type": "stream",
     "text": [
      "Output SNWE: [36.75, 36.85, -76.15, -76.0]\n",
      "Output cube spacing: 0.05\n",
      "Processing slice 1 / 4: 0.0\n",
      "Processing slice 2 / 4: 100.0\n",
      "Processing slice 3 / 4: 500.0\n",
      "Processing slice 4 / 4: 1000.0\n"
     ]
    }
   ],
   "source": [
    "ds  = tropo_delay(dt, wm, aoi, los, height_levels, cube_spacing_m=5000)[0]"
   ]
  },
  {
   "cell_type": "code",
   "execution_count": 32,
   "id": "251ddf5f",
   "metadata": {},
   "outputs": [
    {
     "name": "stdout",
     "output_type": "stream",
     "text": [
      "Wrote: /Users/buzzanga/Software_InSAR/RAiDER-docs_git/notebooks/Synthetic_Test/Synthetic_tropo_20181113T110000_ray.nc\n"
     ]
    }
   ],
   "source": [
    "out = f'{WD}/Synthetic_tropo_20181113T110000_{ext}.nc'\n",
    "ds.to_netcdf(out, mode=\"w\")\n",
    "print ('Wrote:', out)"
   ]
  },
  {
   "cell_type": "markdown",
   "id": "010de329",
   "metadata": {},
   "source": [
    "### Check against analytical solutions"
   ]
  },
  {
   "cell_type": "code",
   "execution_count": 34,
   "id": "afa4d1d7",
   "metadata": {},
   "outputs": [
    {
     "name": "stdout",
     "output_type": "stream",
     "text": [
      "Orig == synthetic? True\n"
     ]
    }
   ],
   "source": [
    "compare_golden(WD)"
   ]
  }
 ],
 "metadata": {
  "kernelspec": {
   "display_name": "Python 3 (ipykernel)",
   "language": "python",
   "name": "python3"
  },
  "language_info": {
   "codemirror_mode": {
    "name": "ipython",
    "version": 3
   },
   "file_extension": ".py",
   "mimetype": "text/x-python",
   "name": "python",
   "nbconvert_exporter": "python",
   "pygments_lexer": "ipython3",
   "version": "3.10.9"
  }
 },
 "nbformat": 4,
 "nbformat_minor": 5
}
