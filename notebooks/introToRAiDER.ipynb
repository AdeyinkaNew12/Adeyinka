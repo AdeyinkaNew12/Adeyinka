{
 "cells": [
  {
   "cell_type": "markdown",
   "metadata": {
    "heading_collapsed": true
   },
   "source": [
    "# Getting Started with RAiDER\n",
    "\n",
    "**Author**: Jeremy Maurer, David Bekaert, Simran Sangha, Yang Lei - Jet Propulsion Laboratory, California Institute of Technology\n",
    "\n",
    "This notebook provides an overview of how to get started using the RAiDER package for estimating tropospheric RADAR delays, and other functionality included in the **raiderDelay.py** program. We give an example of how to download and process delays using ERA-5 and HRRR weather models for the Los Angeles region. \n",
    "\n",
    "In this notebook, we will demonstrate how to:\n",
    "- Download and install the RAiDER package\n",
    "- Run RAiDER to generate a grid of delays over the Los Angeles region\n",
    "- Compare tropospheric delays from the weather model to that obtained from a GNSS station\n",
    "    \n",
    "<div class=\"alert alert-warning\">\n",
    "The initial setup (<b>Prep A</b> section) should be run at the start of the notebook. The overview sections do not need to be run in order. \n",
    "</div>\n",
    "\n",
    "<div class=\"alert alert-danger\">\n",
    "<b>Potential Errors:</b> \n",
    "    \n",
    "- GDAL uses \"HDF5\" driver instead of \"netCDF/Network Common Data Format.\" Verify GDAL version >= 3.\n",
    "- RAiDER needs to be installed to run this notebook\n",
    "</div>\n",
    "\n",
    "\n",
    "<div class=\"alert alert-info\">\n",
    "    <b>Terminology:</b>\n",
    "    \n",
    "- *Acquisition*: A single image acquired by a satellite at a particular time\n",
    "- *Interferogram*: An unwrapped image containing the surface displacement accumulated between two acquisitions.\n",
    "- *Weather model*: A reanalysis weather product defining temperature, pressure, and humidity on a regular grid in some coordinate system (e.g., at regular lat/lon intervals in the standard EPSG:4326 reference frame).\n",
    "- *Delay*: The apparent displacement in an interferogram that occurs solely due to changes in weather conditions between two acquisitions.\n",
    "    </div>\n",
    "    "
   ]
  },
  {
   "cell_type": "markdown",
   "metadata": {
    "heading_collapsed": true,
    "hidden": true
   },
   "source": [
    "## Prep A. Initial setup of the notebook"
   ]
  },
  {
   "cell_type": "markdown",
   "metadata": {
    "hidden": true
   },
   "source": [
    "Below we set up the directory structure for this notebook exercise. In addition, we load the required modules into our python environment using the **`import`** command. We also explicitly enable exceptions for GDAL as this allows us to capture GDAL errors."
   ]
  },
  {
   "cell_type": "code",
   "execution_count": 1,
   "metadata": {
    "hidden": true
   },
   "outputs": [
    {
     "ename": "ModuleNotFoundError",
     "evalue": "No module named 'matplotlib'",
     "output_type": "error",
     "traceback": [
      "\u001b[0;31m---------------------------------------------------------------------------\u001b[0m",
      "\u001b[0;31mModuleNotFoundError\u001b[0m                       Traceback (most recent call last)",
      "\u001b[0;32m<ipython-input-1-a9e1356a033d>\u001b[0m in \u001b[0;36m<module>\u001b[0;34m\u001b[0m\n\u001b[1;32m      1\u001b[0m \u001b[0;32mimport\u001b[0m \u001b[0mos\u001b[0m\u001b[0;34m\u001b[0m\u001b[0;34m\u001b[0m\u001b[0m\n\u001b[1;32m      2\u001b[0m \u001b[0;32mimport\u001b[0m \u001b[0mnumpy\u001b[0m \u001b[0;32mas\u001b[0m \u001b[0mnp\u001b[0m\u001b[0;34m\u001b[0m\u001b[0;34m\u001b[0m\u001b[0m\n\u001b[0;32m----> 3\u001b[0;31m \u001b[0;32mimport\u001b[0m \u001b[0mmatplotlib\u001b[0m\u001b[0;34m.\u001b[0m\u001b[0mpyplot\u001b[0m \u001b[0;32mas\u001b[0m \u001b[0mplt\u001b[0m\u001b[0;34m\u001b[0m\u001b[0;34m\u001b[0m\u001b[0m\n\u001b[0m\u001b[1;32m      4\u001b[0m \u001b[0;34m\u001b[0m\u001b[0m\n\u001b[1;32m      5\u001b[0m \u001b[0;31m## Defining the home and data directories at the processing location\u001b[0m\u001b[0;34m\u001b[0m\u001b[0;34m\u001b[0m\u001b[0;34m\u001b[0m\u001b[0m\n",
      "\u001b[0;31mModuleNotFoundError\u001b[0m: No module named 'matplotlib'"
     ]
    }
   ],
   "source": [
    "import os\n",
    "import numpy as np\n",
    "import matplotlib.pyplot as plt\n",
    "\n",
    "## Defining the home and data directories at the processing location\n",
    "work_dir = os.path.abspath(os.getcwd())\n",
    "tutorial_home_dir = os.path.abspath(os.getcwd())\n",
    "print(\"Work directory: \", work_dir)\n",
    "print(\"Tutorial directory: \", tutorial_home_dir)\n",
    "\n",
    "# Enable GDAL/OGR exceptions\n",
    "gdal.UseExceptions()\n",
    "\n",
    "# Verifying if ARIA-tools is installed correctly\n",
    "try:\n",
    "    from RAiDER.delay import tropo_delay\n",
    "except:\n",
    "    raise Exception('RAiDER is missing from your PYTHONPATH')\n",
    "        \n",
    "os.chdir(work_dir)"
   ]
  },
  {
   "cell_type": "markdown",
   "metadata": {
    "hidden": true
   },
   "source": [
    "Below we define a plotting function that will be used throughout the notebook for plotting GDAL compatible datasets on a map."
   ]
  },
  {
   "cell_type": "code",
   "execution_count": 2,
   "metadata": {
    "hidden": true
   },
   "outputs": [],
   "source": [
    "def plot_layer(path_layer, lay_type=None, cmap=None, n_bands=None, **kwargs):\n",
    "    \"\"\" \n",
    "        path_layers is a string to the GDAL compatible dataset to be plotted\n",
    "    \"\"\"\n",
    "    \n",
    "    if not lay_type: \n",
    "        lay_type = os.path.dirname(path_layer)\n",
    "    title = [os.path.basename(lay_type)]\n",
    "    \n",
    "    ## get the lon lat bounds\n",
    "    ds       = gdal.Open(path_layer, gdal.GA_ReadOnly)\n",
    "    trans    = ds.GetGeoTransform()\n",
    "    extent   = [trans[0], trans[0] + ds.RasterXSize * trans[1], trans[3] + ds.RasterYSize*trans[5], trans[3]]\n",
    "    \n",
    "    ## loading the data\n",
    "    if not n_bands:\n",
    "        n_bands  = ds.RasterCount\n",
    "    lst_arrs = []\n",
    "    \n",
    "    for band in range(n_bands):\n",
    "        raster = ds.GetRasterBand(band+1)\n",
    "        arr    = raster.ReadAsArray()\n",
    "        try:\n",
    "            NoData = raster.GetNoDataValue()\n",
    "            arr = np.ma.masked_where((arr>1e20) |(arr==NoData),arr )\n",
    "        except:\n",
    "            print('Could not find a no-data value...')\n",
    "            arr = np.ma.masked_where(arr>1e20,arr)\n",
    "        \n",
    "        lst_arrs.append(arr)\n",
    "\n",
    "    ds = None\n",
    "    if n_bands < 4:\n",
    "        nrows = 1; ncols = n_bands\n",
    "    else:\n",
    "        raise Exception('Number of bands currently unsupported')\n",
    "        \n",
    "    \n",
    "    ## initializing a figure\n",
    "    fig, axes = plt.subplots(figsize=(12,9), ncols=ncols, nrows=nrows, sharex='col', sharey='row')\n",
    "    axes = axes if isinstance(axes, np.ndarray) else np.array(axes)\n",
    "    axe  = axes.ravel() \n",
    "    cmap = plt.cm.Greys_r\n",
    "    cmap.set_under('black')\n",
    "    \n",
    "    ## definging the plotting options for differnt layer types\n",
    "    # Amplitude:\n",
    "    if lay_type.endswith('amplitude'): \n",
    "        # will fix the maximum amplitude bound\n",
    "        vmin=None\n",
    "        vmax = 2000 \n",
    "    # Coherence:\n",
    "    elif lay_type.endswith('coherence'): \n",
    "        # has fixed range between 0-1\n",
    "        vmin=0\n",
    "        vmax = 1\n",
    "    # Incidence angle:\n",
    "    elif lay_type.endswith('incidenceAngle'): \n",
    "        vmin=None\n",
    "        vmax=None\n",
    "    # water\n",
    "    elif lay_type.startswith('water'):\n",
    "        # no bounds needed will be a 0/1 mask\n",
    "        vmin=0\n",
    "        vmax=1\n",
    "        cmap='Greys'\n",
    "    # deformation or unwrapped phase\n",
    "    elif lay_type.startswith('defo'): \n",
    "        # let the data drive the bounds\n",
    "        vmin=None\n",
    "        vmax=None\n",
    "        # change colormap to a warm type\n",
    "        cmap=plt.cm.coolwarm\n",
    "    elif lay_type.startswith('terr') or lay_type.startswith('topo'): \n",
    "        # let the data drive the bounds\n",
    "        vmin=None\n",
    "        vmax=None\n",
    "        # change colormap to a warm type\n",
    "        cmap=plt.cm.terrain\n",
    "    elif lay_type == 'ENU':\n",
    "        vmin=None\n",
    "        vmax=None\n",
    "        title = ['East', 'North', 'Up']\n",
    "        fig.subplots_adjust(wspace=0.5)\n",
    "\n",
    "    else:\n",
    "        # let the data drive the bounds\n",
    "        vmin=None\n",
    "        vmax=None\n",
    "        # change colormap to a warm type\n",
    "        cmap=plt.cm.coolwarm\n",
    "        \n",
    "    # plotting the data    \n",
    "    for i, ax in enumerate(axe):\n",
    "        im   = ax.imshow(lst_arrs[i], cmap=cmap, vmin=vmin, vmax=vmax, extent=extent)\n",
    "        divider = make_axes_locatable(ax)\n",
    "        cax     = divider.append_axes('right', size='5%', pad=0.25)\n",
    "        if lay_type == 'ENU':\n",
    "            fig.colorbar(im, cax=cax, format=FuncFormatter(lambda x, y: '{:.3f}'.format(x)))\n",
    "        elif lay_type.startswith('water'):\n",
    "            fig.colorbar(im, cax=cax, ticks=[vmin, vmax])\n",
    "        else:\n",
    "            fig.colorbar(im, cax=cax)\n",
    "\n",
    "        ax.set_title(title[i], fontsize=15)\n",
    "        ax.grid(False)\n",
    "\n",
    "    axe[0].set_ylabel('latitude', labelpad=15, fontsize=15)\n",
    "# Setup for accessing weather model data\n",
    "\n",
    "## For accessing ECMWF-type weather model data (e.g. ECMWF, ERA5, ERA5-T)\n",
    "\n",
    "1. Create an account on the Copernicus servers [here](https://cds.climate.copernicus.eu/user)\n",
    "\n",
    "2. Confirm your email, etc. \n",
    "\n",
    "3. Install the public API key and client as instructed [here](https://cds.climate.copernicus.eu/api-how-to): \n",
    "\n",
    "   a. Copy the URL and API key from the webpage into a file in your home directory name ~/.cdsapirc \n",
    "      \n",
    "         url: https://cds.climate.copernicus.eu/api/v2\n",
    "         key: <KEY>\n",
    "      \n",
    "      _Note the `<KEY>` represents the API key obtained upon the registration of CDS API, and should be replaced with the user's own information._\n",
    "      \n",
    "   b. Install the CDS API using pip: \n",
    "   \n",
    "         pip install cdsapi\n",
    "   \n",
    "   ___Note: this step has been included in the conda install of RAiDER, thus can be omitted if one uses the recommended conda install of RAiDER___\n",
    "   \n",
    "4. You must accept the [license](https://cds.climate.copernicus.eu/cdsapp/#!/terms/licence-to-use-copernicus-products) for each product you wish to download.\n",
    "\n",
    "## For accessing MERRA2-type weather model data with the use of OpenDAP  (e.g. MERRA-2, GMAO)\n",
    "\n",
    "1. Create an account on the NASA's Earthdata website [here](https://urs.earthdata.nasa.gov)\n",
    "\n",
    "2. Confirm your email, etc. \n",
    "\n",
    "3. Copy the login username and password to a file in your home directory name ~/.netrc \n",
    "         \n",
    "         machine urs.earthdata.nasa.gov\n",
    "                 login <USERNAME>\n",
    "                 password <PASSWORD>\n",
    "                 \n",
    "   _Note the `<USERNAME>` and `<PASSWORD>` represent the actual username and password, and should be replaced with the user's own information correspondingly._\n",
    "   \n",
    "4. Add the application `NASA GESDISC DATA ARCHIVE` by clicking on the `Applications->Authorized Apps` on the menu after logging into your Earthdata profile, and then scrolling down to the application `NASA GESDISC DATA ARCHIVE` to approve it. _This seems not required for GMAO for now, but recommended to do so for all OpenDAP-based weather models._\n",
    "\n",
    "5. Install the OpenDAP using pip: \n",
    "\n",
    "         pip install pydap==3.2.1\n",
    "      \n",
    "   ___Note: this step has been included in the conda install of RAiDER, thus can be omitted if one uses the recommended conda install of RAiDER___\n",
    "   \n",
    "   ___Note: PyDAP v3.2.1 is required for now (thus specified in the above pip install command) because the latest v3.2.2 (as of now) has a known [bug](https://colab.research.google.com/drive/1f_ss1Oa3VzgAOd_p8sgekdnLVE5NW6s5) in accessing and slicing the GMAO data. This bug is expected to be fixed in newer versions of PyDAP.___    axe[int(np.floor(n_bands/2))].set_xlabel('longitude', labelpad=15, fontsize=15)"
   ]
  },
  {
   "cell_type": "markdown",
   "metadata": {
    "hidden": true
   },
   "source": [
    "# Setup for accessing weather model data\n",
    "\n",
    "## For accessing ECMWF-type weather model data (e.g. ECMWF, ERA5, ERA5-T)\n",
    "\n",
    "1. Create an account on the Copernicus servers [here](https://cds.climate.copernicus.eu/user)\n",
    "\n",
    "2. Confirm your email, etc. \n",
    "\n",
    "3. Install the public API key and client as instructed [here](https://cds.climate.copernicus.eu/api-how-to): \n",
    "\n",
    "   a. Copy the URL and API key from the webpage into a file in your home directory name ~/.cdsapirc \n",
    "      \n",
    "         url: https://cds.climate.copernicus.eu/api/v2\n",
    "         key: <KEY>\n",
    "      \n",
    "      _Note the `<KEY>` represents the API key obtained upon the registration of CDS API, and should be replaced with the user's own information._\n",
    "      \n",
    "   b. Install the CDS API using pip: \n",
    "   \n",
    "         pip install cdsapi\n",
    "   \n",
    "   ___Note: this step has been included in the conda install of RAiDER, thus can be omitted if one uses the recommended conda install of RAiDER___\n",
    "   \n",
    "4. You must accept the [license](https://cds.climate.copernicus.eu/cdsapp/#!/terms/licence-to-use-copernicus-products) for each product you wish to download.\n",
    "\n",
    "## For accessing MERRA2-type weather model data with the use of OpenDAP  (e.g. MERRA-2, GMAO)\n",
    "\n",
    "1. Create an account on the NASA's Earthdata website [here](https://urs.earthdata.nasa.gov)\n",
    "\n",
    "2. Confirm your email, etc. \n",
    "\n",
    "3. Copy the login username and password to a file in your home directory name ~/.netrc \n",
    "         \n",
    "         machine urs.earthdata.nasa.gov\n",
    "                 login <USERNAME>\n",
    "                 password <PASSWORD>\n",
    "                 \n",
    "   _Note the `<USERNAME>` and `<PASSWORD>` represent the actual username and password, and should be replaced with the user's own information correspondingly._\n",
    "   \n",
    "4. Add the application `NASA GESDISC DATA ARCHIVE` by clicking on the `Applications->Authorized Apps` on the menu after logging into your Earthdata profile, and then scrolling down to the application `NASA GESDISC DATA ARCHIVE` to approve it. _This seems not required for GMAO for now, but recommended to do so for all OpenDAP-based weather models._\n",
    "\n",
    "5. Install the OpenDAP using pip: \n",
    "\n",
    "         pip install pydap==3.2.1\n",
    "      \n",
    "   ___Note: this step has been included in the conda install of RAiDER, thus can be omitted if one uses the recommended conda install of RAiDER___\n",
    "   \n",
    "   __Note: PyDAP v3.2.1 is required for now (thus specified in the above pip install command) because the latest v3.2.2 (as of now) has a known [bug](https://colab.research.google.com/drive/1f_ss1Oa3VzgAOd_p8sgekdnLVE5NW6s5) in accessing and slicing the GMAO data. This bug is expected to be fixed in newer versions of PyDAP.__\n",
    "\n",
    "\n",
    "\n",
    "## For accessing HRRR products \n",
    "1. High-resolution rapid refresh (HRRR) weather model data products are generated by [NOAA]() but not archived beyond three days. However a public HRRR archive is available at the University of Utah [archive](home.chpc.utah.edu/~u0553130/Brian_Blaylock/hrrr_FAQ.html). This archive does not require a license agreement\n"
   ]
  },
  {
   "cell_type": "markdown",
   "metadata": {
    "heading_collapsed": true,
    "hidden": true
   },
   "source": [
    "## Download options"
   ]
  },
  {
   "cell_type": "markdown",
   "metadata": {
    "hidden": true
   },
   "source": [
    "ECMWF, ERA-5, ERA-5T, GMAO, MERRA-2 and HRRR weather model products can be downloaded automatically in RAiDER. Other weather models can be specified manually using the WRF or -wmnetcdf options and described in the docs. \n",
    "\n",
    "<div class=\"alert alert-warning\">\n",
    "<b>Potential download failure:</b> \n",
    "ERA-5/ERA-I products require access to the ESA Copernicus servers. GMAO and MERRA-2 products require access to the NASA Earthdata servers. If you are unable to download products, ensure that you have registered and have downloaded the public API key, and accepted/added the license/application for type of product you wish to download as detailed above. \n",
    "</div>"
   ]
  },
  {
   "cell_type": "markdown",
   "metadata": {
    "heading_collapsed": true,
    "hidden": true
   },
   "source": [
    "## Overview of the raiderDelay.py program\n",
    "<a id='overview'></a>"
   ]
  },
  {
   "cell_type": "markdown",
   "metadata": {
    "hidden": true
   },
   "source": [
    "The **`raiderDelay.py`** program allows for easy downloading and processing of tropospheric weather delays for InSAR correction. Running **`raiderDelay.py`** with the **`-h`** option will show the parameter options. \n",
    "\n",
    "Let us explore these options:"
   ]
  },
  {
   "cell_type": "code",
   "execution_count": 3,
   "metadata": {
    "hidden": true
   },
   "outputs": [
    {
     "name": "stdout",
     "output_type": "stream",
     "text": [
      "/bin/sh: raiderDelay.py: command not found\r\n"
     ]
    }
   ],
   "source": [
    "!raiderDelay.py -h"
   ]
  },
  {
   "cell_type": "markdown",
   "metadata": {
    "heading_collapsed": true,
    "hidden": true
   },
   "source": [
    "### 1. Date or date list (--date)"
   ]
  },
  {
   "cell_type": "markdown",
   "metadata": {
    "hidden": true
   },
   "source": [
    "This argument is required unless the weather model files are directly specified. The date passed can be either: \n",
    "1) a single date, specified in psuedo-ISO 8601 format: 20180101, 2018-01-01, etc. \n",
    "2) a comma-deliminated pair of dates, in which case all the dates between the pair listed will be downloaded and processed. E.g., '20180101,20190101'"
   ]
  },
  {
   "cell_type": "markdown",
   "metadata": {
    "heading_collapsed": true,
    "hidden": true
   },
   "source": [
    "### 2. Time of day (--time)"
   ]
  },
  {
   "cell_type": "markdown",
   "metadata": {
    "hidden": true
   },
   "source": [
    "This argument is also required unless files are explicitly passed. Specify the time of day to download and process in psuedo-ISO 8601 format: \n",
    "1) T020000\n",
    "2) T02:00:00.000\n",
    "3) T0200\n",
    "etc. "
   ]
  },
  {
   "cell_type": "markdown",
   "metadata": {
    "heading_collapsed": true,
    "hidden": true
   },
   "source": [
    "### 3. Line-of-sight vector file (-l/--lineofsight)"
   ]
  },
  {
   "cell_type": "markdown",
   "metadata": {
    "hidden": true
   },
   "source": [
    "This option can be used to specify a line-of-sight file such as those generated as outputs from the ISCE software package for InSAR (github.com/isce-framework/isce2). This should be a two-band GDAL-readable raster file containing the look vector components, with the incidence angle in band 1 and the heading in band 2."
   ]
  },
  {
   "cell_type": "markdown",
   "metadata": {
    "heading_collapsed": true,
    "hidden": true
   },
   "source": [
    "### 4. Statevector file (-s/--statevectors)"
   ]
  },
  {
   "cell_type": "markdown",
   "metadata": {
    "hidden": true
   },
   "source": [
    "This should be an ISCE-derived XML file or a shelve file containing state vectors specifying the orbit of the sensor. "
   ]
  },
  {
   "cell_type": "markdown",
   "metadata": {},
   "source": [
    "### Options for Specifying Area/points to process"
   ]
  },
  {
   "cell_type": "markdown",
   "metadata": {
    "heading_collapsed": true,
    "hidden": true
   },
   "source": [
    "### 5. Lat/Lon raster files area option (-/--area)"
   ]
  },
  {
   "cell_type": "markdown",
   "metadata": {
    "hidden": true
   },
   "source": [
    "A two-argument option giving the latitude and longitude raster files, such as would be output from the ISCE processor. "
   ]
  },
  {
   "cell_type": "markdown",
   "metadata": {
    "heading_collapsed": true,
    "hidden": true
   },
   "source": [
    "### 6. Bounding box area option (-modelbb/--modelBBOX"
   ]
  },
  {
   "cell_type": "markdown",
   "metadata": {
    "hidden": true
   },
   "source": [
    "This option takes four floats that specify a bounding box (given as North West South East) to be processed. "
   ]
  },
  {
   "cell_type": "markdown",
   "metadata": {
    "heading_collapsed": true,
    "hidden": true
   },
   "source": [
    "### 7.  Station file area option (--station_file)"
   ]
  },
  {
   "cell_type": "markdown",
   "metadata": {
    "hidden": true
   },
   "source": [
    "Instead of a lat/lon file pair or bounding box, a list of lat/lon locations (i.e., stations) can be specified. This should be a .csv file contiaining at least the columns Lat and Lon. "
   ]
  },
  {
   "cell_type": "markdown",
   "metadata": {
    "hidden": true
   },
   "source": [
    "### DEM (-d/--dem)"
   ]
  },
  {
   "cell_type": "markdown",
   "metadata": {
    "heading_collapsed": true,
    "hidden": true
   },
   "source": [
    "The DEM over the area of interest can be specified explicitly, or it will be downloaded on-the-fly. RAiDER will check the default location for a DEM (./geom), so if you download the DEM once it will not be downloaded again. "
   ]
  },
  {
   "cell_type": "markdown",
   "metadata": {
    "hidden": true
   },
   "source": [
    "### Height levels (--heightlvs)"
   ]
  },
  {
   "cell_type": "markdown",
   "metadata": {
    "hidden": true
   },
   "source": [
    "This option specifies a list of heights, for which the delay will be calculated. The result is a full 3-D cube of delays at the specified lat/lon grid and height levels. "
   ]
  },
  {
   "cell_type": "markdown",
   "metadata": {
    "hidden": true
   },
   "source": [
    "### Specified weather model files (--wmnetcdf)"
   ]
  },
  {
   "cell_type": "markdown",
   "metadata": {
    "hidden": true
   },
   "source": [
    "Allows for directly passing a list of netcdf files (the appropriate reader must also be specified) to RAiDER. "
   ]
  },
  {
   "cell_type": "markdown",
   "metadata": {},
   "source": [
    "## Other input options"
   ]
  },
  {
   "cell_type": "markdown",
   "metadata": {
    "hidden": true
   },
   "source": [
    "### Weather model file directory location (-w/--weatherModelFileLocation)"
   ]
  },
  {
   "cell_type": "markdown",
   "metadata": {
    "hidden": true
   },
   "source": [
    "Specifies a directory to store the original weather model files. If not specified, the default location is ./weather_files."
   ]
  },
  {
   "cell_type": "markdown",
   "metadata": {
    "heading_collapsed": true,
    "hidden": true
   },
   "source": [
    "### Reference integration height (-z/--zref)"
   ]
  },
  {
   "cell_type": "markdown",
   "metadata": {
    "hidden": true
   },
   "source": [
    "This option allows the user to specify the integration height when computing the total delay. The default is 15 km. "
   ]
  },
  {
   "cell_type": "markdown",
   "metadata": {
    "hidden": true
   },
   "source": [
    "### Output file format (--outformat)"
   ]
  },
  {
   "cell_type": "markdown",
   "metadata": {
    "hidden": true
   },
   "source": [
    "This option is only used if the inputs are rasters or a bounding box, otherwise the output format is fixed (.csv file for station list, HDF5 file for height levels specified). Must be GDAL-compatible. "
   ]
  },
  {
   "cell_type": "markdown",
   "metadata": {
    "hidden": true
   },
   "source": [
    "### Output file directory (--out)"
   ]
  },
  {
   "cell_type": "markdown",
   "metadata": {
    "hidden": true
   },
   "source": [
    "This specifies the location of the output files. If not specified the default is ./results"
   ]
  },
  {
   "cell_type": "markdown",
   "metadata": {},
   "source": [
    "### Parallel Computation flag (-p, --no_parallel)"
   ]
  },
  {
   "cell_type": "code",
   "execution_count": 4,
   "metadata": {},
   "outputs": [
    {
     "ename": "SyntaxError",
     "evalue": "invalid syntax (<ipython-input-4-d220c037c411>, line 1)",
     "output_type": "error",
     "traceback": [
      "\u001b[0;36m  File \u001b[0;32m\"<ipython-input-4-d220c037c411>\"\u001b[0;36m, line \u001b[0;32m1\u001b[0m\n\u001b[0;31m    If specified, do not run in parallel. Off by default.\u001b[0m\n\u001b[0m               ^\u001b[0m\n\u001b[0;31mSyntaxError\u001b[0m\u001b[0;31m:\u001b[0m invalid syntax\n"
     ]
    }
   ],
   "source": [
    "If specified, do not run in parallel. Off by default. "
   ]
  },
  {
   "cell_type": "markdown",
   "metadata": {},
   "source": [
    "### Download the weather model only (--download_only)"
   ]
  },
  {
   "cell_type": "markdown",
   "metadata": {},
   "source": [
    "If specified, will only download the weather model and do nothing else. "
   ]
  },
  {
   "cell_type": "markdown",
   "metadata": {},
   "source": [
    "### Run in verbose mode (-v/--verbose)"
   ]
  },
  {
   "cell_type": "markdown",
   "metadata": {},
   "source": [
    "Runs the code in verbose mode. Will save the weather model to a pickle file for inspection and create debugging plots."
   ]
  },
  {
   "cell_type": "markdown",
   "metadata": {},
   "source": [
    "## WRF-specific options"
   ]
  },
  {
   "cell_type": "markdown",
   "metadata": {},
   "source": [
    "### WRF model files (--wrfmodelfiles)"
   ]
  },
  {
   "cell_type": "markdown",
   "metadata": {},
   "source": [
    "A two-argument list of files (out plev) specfied for the WRF model"
   ]
  },
  {
   "cell_type": "markdown",
   "metadata": {
    "heading_collapsed": true,
    "hidden": true
   },
   "source": [
    "# RAiDER Readers"
   ]
  },
  {
   "cell_type": "markdown",
   "metadata": {
    "hidden": true
   },
   "source": [
    "Weather model readers provide the link between the raw weather model data (e.g. available from ECMWF, ERA-5, ERA-5T, GMAO, MERRA-2, HRRR), and the absolute delay calculation. Readers can be added by users to account for other models and custom formats. Here we provide an overview of the WeatherModel class object and requirements for writing one's own reader function. "
   ]
  },
  {
   "cell_type": "markdown",
   "metadata": {
    "hidden": true
   },
   "source": [
    "## The WeatherModel class"
   ]
  },
  {
   "cell_type": "markdown",
   "metadata": {
    "hidden": true
   },
   "source": [
    "### Functions to be overloaded:\n",
    "\\_fetch: \n",
    "- Called by WeatherModel.fetch method\n",
    "- downloads or loads data from the source files\n",
    "\n",
    "load_weather: \n",
    "- Called by the WeatherModel.load method\n",
    "- loads data from the raw weather model files and parses it into the WeatherModel format (see below)"
   ]
  },
  {
   "cell_type": "markdown",
   "metadata": {},
   "source": [
    "### Defining the Reader"
   ]
  },
  {
   "cell_type": "markdown",
   "metadata": {},
   "source": [
    "The readers are defined with respect to the base WeatherModel class. At minimum, the \\_\\_init__, \\_fetch, Name, and load_weather methods are required. \n",
    "\n",
    "A number of important parameters can be defined within the \\_\\_init__ method, if they are not specified, the defaults listed in the base WeatherModel class will be used.\n",
    "\n",
    "The following file should be created and saved as \"abcd.py\" (for the custom weather model named \"ABCD\") under the directory of \"tools/RAiDER/models\". "
   ]
  },
  {
   "cell_type": "code",
   "execution_count": null,
   "metadata": {},
   "outputs": [],
   "source": [
    "from RAiDER.models.weatherModel import WeatherModel\n",
    "\n",
    "class customModelReader(WeatherModel):\n",
    "    def __init__(self):\n",
    "        WeatherModel.__init__(self)\n",
    "        self._humidityType = 'q'  # can be \"q\" (specific humidity) or \"rh\" (relative humidity)\n",
    "        self._model_level_type = 'pl' # Default, pressure levels are \"pl\", and model levels are \"ml\"\n",
    "        self._classname = 'abcd'  # name of the custom weather model\n",
    "        self._dataset = 'abcd'  # same name as above\n",
    "\n",
    "        # Tuple of min/max years where data is available. \n",
    "        #  valid range of the dataset. Users need to specify the start date and end date (can be \"present\")\n",
    "        self._valid_range = (datetime.datetime(2016,7,15),\"Present\")  \n",
    "        #  Availability lag time. Can be specified in hours \"hours=3\" or in days \"days=3\"\n",
    "        self._lag_time = datetime.timedelta(hours=3) \n",
    "\n",
    "        # model constants (these three constants are borrowed from ECMWF model and currently\n",
    "        # set to be default for all other models, which may need to be double checked.)\n",
    "        self._k1 = 0.776  # [K/Pa]\n",
    "        self._k2 = 0.233 # [K/Pa]\n",
    "        self._k3 = 3.75e3 # [K^2/Pa]\n",
    "\n",
    "        # horizontal grid spacing\n",
    "        self._lat_res = 3./111  #  grid spacing in latitude\n",
    "        self._lon_res = 3./111  #  grid spacing in longitude\n",
    "        self._x_res = 3.        #  x-direction grid spacing in the native weather model projection \n",
    "                                #  (if the projection is in lat/lon, it is the same as \"self._lon_res\")\n",
    "        self._y_res = 3.        #  y-direction grid spacing in the weather model native projection\n",
    "                                #  (if the projection is in lat/lon, it is the same as \"self._lat_res\")\n",
    "\n",
    "        self._Name = 'ABCD' #  name of the custom weather model (better to be capitalized)\n",
    "\n",
    "        # Projections in RAiDER are defined using pyproj (python wrapper around Proj)\n",
    "        # If the projection is defined with EPSG code, one can use \"self._proj = CRS.from_epsg(4326)\" \n",
    "        # to replace the following lines to get \"self._proj\".\n",
    "        # Below we show the example of HRRR model with the parameters of its Lambert Conformal Conic projection\n",
    "        lon0 = 262.5\n",
    "        lat0 = 38.5\n",
    "        lat1 = 38.5\n",
    "        lat2 = 38.5\n",
    "        x0 = 0\n",
    "        y0 = 0\n",
    "        earth_radius = 6371229\n",
    "        p1 = CRS('+proj=lcc +lat_1={lat1} +lat_2={lat2} +lat_0={lat0} +lon_0={lon0} +x_0={x0} +y_0={y0} +a={a} +b={a} +units=m +no_defs'.format(lat1=lat1, lat2=lat2, lat0=lat0, lon0=lon0, x0=x0, y0=y0, a=earth_radius))\n",
    "        self._proj = p1\n",
    "       \n",
    "    def _fetch(self, lats, lons, time, out, Nextra=2):\n",
    "        '''\n",
    "        Fetch weather model data from the custom weather model \"ABCD\"\n",
    "        Inputs (no need to change in the custom weather model reader): \n",
    "        lats - latitude \n",
    "        lons - longitude \n",
    "        time - datatime object (year,month,day,hour,minute,second)\n",
    "        out - name of downloaded dataset file from the custom weather model server\n",
    "        Nextra - buffer of latitude/longitude for determining the bounding box \n",
    "        '''\n",
    "        \n",
    "        # bounding box plus a buffer using the helper function from the WeatherModel base class\n",
    "        # This part can be kept without modification.\n",
    "        lat_min, lat_max, lon_min, lon_max = self._get_ll_bounds(lats, lons, Nextra)\n",
    "        self._bounds = (lat_min, lat_max, lon_min, lon_max)\n",
    "        \n",
    "        # Auxilliary function: \n",
    "        # download dataset of the custom weather model \"ABCD\" from a server and then save it to a file named out.\n",
    "        # This function needs to be writen by the users. For download from the weather model server, the weather model \n",
    "        # name, time and bounding box may be needed to retrieve the dataset; for cases where no file is actually \n",
    "        # downloaded, e.g. the GMAO and MERRA-2 models using OpenDAP, this function can be omitted leaving the data \n",
    "        # retrieval to the following \"load_weather\" function.\n",
    "        self._files = self._download_abcd_file(out, 'abcd', time, self._bounds)\n",
    "    \n",
    "    def load_weather(self, filename):\n",
    "        '''\n",
    "        Load weather model variables from the downloaded file named filename\n",
    "        Inputs: \n",
    "        filename - filename of the downloaded weather model file \n",
    "        '''\n",
    "        \n",
    "        # Auxilliary function:\n",
    "        # read individual variables (in 3-D cube format with exactly the same dimension) from downloaded file\n",
    "        # This function needs to be writen by the users. For downloaded file from the weather model server, \n",
    "        # this function extracts the individual variables from the saved file named filename; \n",
    "        # for cases where no file is actually downloaded, e.g. the GMAO and MERRA-2 models using OpenDAP, \n",
    "        # this function retrieves the individual variables directly from the weblink of the weather model.\n",
    "        lats, lons, xs, ys, t, q, p, hgt = self._makeDataCubes(filename)\n",
    "\n",
    "        ########### extra steps that may be needed to calculate topographic height and pressure level if not provided\n",
    "        ########### directly by the weather model through the above auxilliary function \"self._makeDataCubes\"\n",
    "        \n",
    "        # if surface pressure (in logarithm) is provided as \"p\" along with the surface geopotential \"z\" (needs to be\n",
    "        # added to the auxilliary function \"self._makeDataCubes\"), one can use the following line to convert to \n",
    "        # geopotential, pressure level and geopotential height; otherwise commented out\n",
    "        z, p, hgt = self._calculategeoh(z, p)\n",
    "        \n",
    "        # if the geopotential is provided as \"z\" (needs to be added to the auxilliary function \"self._makeDataCubes\"),\n",
    "        # one can use the following line to convert to geopotential height; otherwise, commented out\n",
    "        hgt = z / self._g0\n",
    "        \n",
    "        # if geopotential height is provided/calculated as \"hgt\", one can use the following line to convert to \n",
    "        # topographic height, which is then automatically assigned to \"self._zs\"; otherwise commented out\n",
    "        self._get_heights(lats, hgt)\n",
    "        \n",
    "        # if topographic height is provided as \"hgt\", use the following line directly; otherwise commented out\n",
    "        self._zs = hgt\n",
    "        \n",
    "        ###########\n",
    "\n",
    "        ######### output of the weather model reader for delay calculations (all in 3-D data cubes) ########\n",
    "        \n",
    "        # _t: temperture\n",
    "        # _q: either relative or specific humidity\n",
    "        # _p: must be pressure level\n",
    "        # _xs: x-direction grid dimension of the native weather model coordinates (if in lat/lon, _xs = _lons)\n",
    "        # _ys: y-direction grid dimension of the native weather model coordinates (if in lat/lon, _ys = _lats)\n",
    "        # _zs: must be topographic height\n",
    "        # _lats: latitude\n",
    "        # _lons: longitude\n",
    "        self._t = t\n",
    "        self._q = q\n",
    "        self._p = p\n",
    "        self._xs = xs\n",
    "        self._ys = ys\n",
    "        self._lats = lats\n",
    "        self._lons = lons\n",
    "        \n",
    "        ###########\n",
    "\n",
    "    def _download_abcd_file(self, out, model_name, date_time, bounding_box):\n",
    "        '''\n",
    "        Auxilliary function:\n",
    "        Download weather model data from a server\n",
    "        Inputs: \n",
    "        out - filename for saving the retrieved data file \n",
    "        model_name - name of the custom weather model \n",
    "        date_time - datatime object (year,month,day,hour,minute,second)\n",
    "        bounding_box - lat/lon bounding box for the region of interest\n",
    "        Output: \n",
    "        out - returned filename from input\n",
    "        '''\n",
    "        pass\n",
    "        \n",
    "    def _makeDataCubes(self, filename):\n",
    "        '''\n",
    "        Auxilliary function:\n",
    "        Read 3-D data cubes from downloaded file or directly from weather model weblink (in which case, there is no \n",
    "        need to download and save any file; rather, the weblink needs to be hardcoded in the custom reader, e.g. GMAO)\n",
    "        Input: \n",
    "        filename - filename of the downloaded weather model file from the server\n",
    "        Outputs: \n",
    "        lats - latitude (3-D data cube)\n",
    "        lons - longitude (3-D data cube)\n",
    "        xs - x-direction grid dimension of the native weather model coordinates (3-D data cube; if in lat/lon, _xs = _lons)\n",
    "        ys - y-direction grid dimension of the native weather model coordinates (3-D data cube; if in lat/lon, _ys = _lats)\n",
    "        t - temperature (3-D data cube)\n",
    "        q - humidity (3-D data cube; could be relative humidity or specific humidity)\n",
    "        p - pressure level (3-D data cube; could be pressure level (preferred) or surface pressure)\n",
    "        hgt - height (3-D data cube; could be geopotential height or topographic height (preferred))\n",
    "        '''\n",
    "        pass\n",
    "    "
   ]
  },
  {
   "cell_type": "markdown",
   "metadata": {
    "hidden": true
   },
   "source": [
    "### Required data format"
   ]
  },
  {
   "cell_type": "markdown",
   "metadata": {
    "hidden": true
   },
   "source": [
    "The result of running the load_weather method should be a Python object with attributes consistent with the WeatherModel class and the RAiDER convention. The required variables are: \n",
    "- _lats, _lons\n",
    "- _xs, _ys, _zs\n",
    "- _p, _t\n",
    "- _rh OR _q, matching the corresponding _humidityType\n",
    "\n",
    "Each of these variables should be a 3-D cube, all of the same shape. "
   ]
  },
  {
   "cell_type": "markdown",
   "metadata": {
    "hidden": true
   },
   "source": [
    "<div class=\"alert alert-warning\">\n",
    "The '_zs' variable should be topographic height, but the height variable passed with the weather model data is often the geopotential height, which must be converted to topographic height. The WeatherModel class has a helper function for this conversion, which can be called within the custom class as self._get_heights(lats, geo_hgt), where geo_hgt is geopotential height. \n",
    "</div>"
   ]
  },
  {
   "cell_type": "markdown",
   "metadata": {
    "hidden": true
   },
   "source": [
    " ### Adding the reader to the weather model list"
   ]
  },
  {
   "cell_type": "markdown",
   "metadata": {},
   "source": [
    "Modify the allowed list of weather models \"allowed.py\" under the directory of \"tools/RAiDER/models\" to include the custom \"ABCD\" model as below. "
   ]
  },
  {
   "cell_type": "code",
   "execution_count": 1,
   "metadata": {},
   "outputs": [],
   "source": [
    "ALLOWED_MODELS = [\n",
    "    'ERA5',\n",
    "    'ERA5T',\n",
    "    'ERAI',\n",
    "    'MERRA2',\n",
    "    'WRF',\n",
    "    'HRRR',\n",
    "    'GMAO',\n",
    "    'HDF5',\n",
    "    'ABCD'\n",
    "]"
   ]
  },
  {
   "cell_type": "markdown",
   "metadata": {
    "hidden": true
   },
   "source": [
    " ### Testing the custom weather model reader"
   ]
  },
  {
   "cell_type": "markdown",
   "metadata": {},
   "source": [
    "Run the three example commands from the **`raiderDelay.py`** helper message (i.e. running **`raiderDelay.py`** with the **`-h`** option will show the three example commands) with the weather model name \"ERA5\" replaced with the newly-added custom one, e.g. \"ABCD\"."
   ]
  },
  {
   "cell_type": "markdown",
   "metadata": {
    "hidden": true
   },
   "source": [
    "### Debugging\n",
    "The WeatherModel class has two built-in plots for debugging purposes, which can be called using "
   ]
  }
 ],
 "metadata": {
  "kernelspec": {
   "display_name": "Python 3",
   "language": "python",
   "name": "python3"
  },
  "language_info": {
   "codemirror_mode": {
    "name": "ipython",
    "version": 3
   },
   "file_extension": ".py",
   "mimetype": "text/x-python",
   "name": "python",
   "nbconvert_exporter": "python",
   "pygments_lexer": "ipython3",
   "version": "3.6.7"
  },
  "latex_envs": {
   "LaTeX_envs_menu_present": true,
   "autoclose": false,
   "autocomplete": false,
   "bibliofile": "biblio.bib",
   "cite_by": "apalike",
   "current_citInitial": 1,
   "eqLabelWithNumbers": true,
   "eqNumInitial": 1,
   "hotkeys": {
    "equation": "Ctrl-E",
    "itemize": "Ctrl-I"
   },
   "labels_anchors": false,
   "latex_user_defs": false,
   "report_style_numbering": false,
   "user_envs_cfg": false
  }
 },
 "nbformat": 4,
 "nbformat_minor": 2
}
