{
 "cells": [
  {
   "cell_type": "code",
   "execution_count": 1,
   "id": "3a83ec9e",
   "metadata": {
    "init_cell": true
   },
   "outputs": [
    {
     "name": "stdout",
     "output_type": "stream",
     "text": [
      "Tutorial directory:  /Users/buzzanga/Software_InSAR/RAiDER-docs_git/notebooks/RAiDER_ARIA\n",
      "Work directory:  /Users/buzzanga/Software_InSAR/RAiDER-docs_git/notebooks/RAiDER_ARIA\n"
     ]
    }
   ],
   "source": [
    "import os, os.path as op\n",
    "import shutil\n",
    "import yaml\n",
    "import numpy as np\n",
    "import matplotlib.pyplot as plt\n",
    "from mpl_toolkits.axes_grid1 import make_axes_locatable\n",
    "\n",
    "import pandas as pd\n",
    "import xarray as xr\n",
    "from wand.image import Image as WImage\n",
    "\n",
    "## Defining the home and data directories\n",
    "tutorial_home_dir = os.path.abspath(os.getcwd())\n",
    "work_dir = os.path.abspath(os.getcwd())\n",
    "print(\"Tutorial directory: \", tutorial_home_dir)\n",
    "print(\"Work directory: \", work_dir)\n",
    "\n",
    "# Verifying if RAiDER is installed correctly\n",
    "try:\n",
    "    import RAiDER\n",
    "except:\n",
    "    raise Exception('RAiDER is missing from your PYTHONPATH')\n",
    "\n",
    "os.chdir(work_dir)"
   ]
  },
  {
   "cell_type": "markdown",
   "id": "9b2de683",
   "metadata": {},
   "source": [
    "### helpers"
   ]
  },
  {
   "cell_type": "code",
   "execution_count": 2,
   "id": "2d6f9771",
   "metadata": {
    "init_cell": true
   },
   "outputs": [],
   "source": [
    "def new_yaml_group(example_yaml, dct_group, dst='tmp.yaml'):\n",
    "    \"\"\" Write a temporary yaml file with the new 'value' for 'key', preserving parms in example_yaml\"\"\"\n",
    "    with open(example_yaml, 'r') as f:\n",
    "        try:\n",
    "            params = yaml.safe_load(f)\n",
    "        except yaml.YAMLError as exc:\n",
    "            print(exc)\n",
    "            raise ValueError(f'Something is wrong with the yaml file {example_yaml}')\n",
    "    \n",
    "    params = {**params, **dct_group}\n",
    "    dst = op.join(os.path.dirname(example_yaml), dst)\n",
    "#     print (params)\n",
    "    \n",
    "    with open(dst, 'w') as fh:\n",
    "        yaml.dump(params, fh, default_flow_style=False)\n",
    "    \n",
    "    print ('Wrote new cfg file:', dst)\n",
    "    return dst"
   ]
  },
  {
   "cell_type": "markdown",
   "id": "46ba7780",
   "metadata": {},
   "source": [
    "#### Pieces of prepARIA"
   ]
  },
  {
   "cell_type": "markdown",
   "id": "893159c9",
   "metadata": {},
   "source": [
    "These are just for temporarily making the config file"
   ]
  },
  {
   "cell_type": "code",
   "execution_count": 7,
   "id": "606c6e60",
   "metadata": {
    "init_cell": true
   },
   "outputs": [],
   "source": [
    "def makeLatLonGrid(f:str, reg, out_dir):\n",
    "    '''\n",
    "    Convert the geocoded grids to lat/lon files for input to RAiDER\n",
    "    '''\n",
    "    from RAiDER.utilFcns import writeArrayToRaster\n",
    "    group   = 'science/grids/data'\n",
    "    lat_f   = os.path.join(f'NETCDF:\"{f}\":{group}/latitude')\n",
    "    lon_f   = os.path.join(f'NETCDF:\"{f}\":{group}/longitude')\n",
    "\n",
    "\n",
    "    ds   = xr.open_dataset(f, group='science/grids/data')\n",
    "\n",
    "    gt   = (0, 1, 0, 0, 0, 1)\n",
    "    proj = ds['crs'].crs_wkt\n",
    "\n",
    "    lats = ds.latitude.data\n",
    "    lons = ds.longitude.data\n",
    "\n",
    "    ySize = len(lats)\n",
    "    xSize = len(lons)\n",
    "\n",
    "    # ISCE lats are ordered from smallest to biggest\n",
    "    LATS  = np.flipud(np.tile(lats, (xSize, 1)).T)\n",
    "    LONS  = np.tile(lons, (ySize, 1))\n",
    "\n",
    "    dst_lat = op.join(out_dir, f'lat_{reg}.geo')\n",
    "    dst_lon = op.join(out_dir, f'lon_{reg}.geo')\n",
    "\n",
    "    writeArrayToRaster(LATS, dst_lat, 0., 'GTiff', proj, gt)\n",
    "    writeArrayToRaster(LONS, dst_lon, 0., 'GTiff', proj, gt)\n",
    "\n",
    "    logger.debug('Wrote: %s', dst_lat)\n",
    "    logger.debug('Wrote: %s', dst_lon)\n",
    "    return LATS, LONS"
   ]
  },
  {
   "cell_type": "code",
   "execution_count": 20,
   "id": "e2f5e417",
   "metadata": {},
   "outputs": [],
   "source": [
    "def parse_time_GUNW(f:str):\n",
    "    \"\"\" Get the center time of the secondary date from the filename \"\"\"\n",
    "    tt = op.basename(f).split('-')[7]\n",
    "    return f'{tt[:2]}:{tt[2:4]}:{tt[4:]}'"
   ]
  },
  {
   "cell_type": "markdown",
   "id": "94fd8fe1",
   "metadata": {},
   "source": [
    "## Hampton Roads Test"
   ]
  },
  {
   "cell_type": "code",
   "execution_count": 15,
   "id": "499d0065",
   "metadata": {
    "init_cell": true
   },
   "outputs": [
    {
     "name": "stdout",
     "output_type": "stream",
     "text": [
      "Wrote: /Users/buzzanga/Software_InSAR/RAiDER-docs_git/notebooks/RAiDER_ARIA/data/lat_HR.geo\n",
      "Wrote: /Users/buzzanga/Software_InSAR/RAiDER-docs_git/notebooks/RAiDER_ARIA/data/lon_HR.geo\n"
     ]
    }
   ],
   "source": [
    "yaml_base = op.join(work_dir, 'example_yamls', 'raider.yaml')\n",
    "gunw = op.join(work_dir, 'data', 'S1-GUNW-A-R-004-tops-20181219_20181113-230629-37654N_35778N-PP-ede0-v2_0_2.nc')\n",
    "orb1 = op.join(work_dir, 'orbits', 'S1A_OPER_AUX_POEORB_OPOD_20181203T120749_V20181112T225942_20181114T005942.EOF')\n",
    "orb2 = op.join(work_dir, 'orbits', 'S1A_OPER_AUX_POEORB_OPOD_20190108T120818_V20181218T225942_20181220T005942.EOF')\n",
    "makeLatLonGrid(gunw, 'HR', op.join(work_dir, 'data'));"
   ]
  },
  {
   "cell_type": "code",
   "execution_count": null,
   "id": "35a4b603",
   "metadata": {},
   "outputs": [],
   "source": [
    "# first just use config file option"
   ]
  },
  {
   "cell_type": "code",
   "execution_count": null,
   "id": "f93db5ab",
   "metadata": {},
   "outputs": [
    {
     "name": "stdout",
     "output_type": "stream",
     "text": [
      "Wrote new cfg file: /Users/buzzanga/Software_InSAR/RAiDER-docs_git/notebooks/RAiDER_ARIA/example_yamls/tmp.yaml\n",
      "Starting to run the weather model calculation\n",
      "Time: 20181219\n",
      "Beginning weather model pre-processing\n",
      "\u001b[33;21mWARNING: Weather model already exists, please remove it (\"['/Users/buzzanga/Software_InSAR/RAiDER-docs_git/notebooks/RAiDER_ARIA/weather_files/ERA-5_2018_12_19_T23_06_29.nc']\") if you want to download a new one.\u001b[0m\n",
      "Extent of the weather model is (xmin, ymin, xmax, ymax):-78.93, 35.38, -74.93, 37.88\n",
      "Extent of the input is (xmin, ymin, xmax, ymax): -78.53, 35.78, -75.26, 37.65\n",
      "\u001b[33;21mWARNING: The processed weather model file already exists, so I will use that.\u001b[0m\n",
      "Output SNWE: [35.78, 37.660000000000004, -78.54, -75.24]\n",
      "Output cube spacing: 0.02\n",
      "Reading glo_30 Datasets: 100%|██████████████████| 25/25 [00:44<00:00,  1.78s/it]\n"
     ]
    }
   ],
   "source": [
    "# ISCE lat/lon files (Hampton Roads)\n",
    "# this downloads the DEM and intersects it\n",
    "\n",
    "grp = {'aoi_group': {'lat_file': f'{work_dir}/data/lat_HR.geo', 'lon_file': f'{work_dir}/data/lon_HR.geo'}, \n",
    "       'weather_model': 'ERA5',\n",
    "       'date_group': {'date_start': '20181219'},\n",
    "       'time_group': {'time': parse_time_GUNW(gunw)},\n",
    "       'los_group' : {'orbit_file': {orb2}}\n",
    "      }\n",
    "\n",
    "cfg = new_yaml_group(yaml_base, grp)\n",
    "!raider.py {cfg}\n",
    "\n",
    "## store it for use later\n",
    "# shutil.copy(f'{work_dir}/GLO30_fullres_dem.tif', f'{work_dir}/data/GLO30_fullres_dem_HR.tif')"
   ]
  },
  {
   "cell_type": "markdown",
   "id": "fcaca4d0",
   "metadata": {},
   "source": [
    "## LA Test"
   ]
  },
  {
   "cell_type": "code",
   "execution_count": null,
   "id": "41c13812",
   "metadata": {},
   "outputs": [],
   "source": []
  }
 ],
 "metadata": {
  "celltoolbar": "Initialization Cell",
  "kernelspec": {
   "display_name": "Python 3 (ipykernel)",
   "language": "python",
   "name": "python3"
  },
  "language_info": {
   "codemirror_mode": {
    "name": "ipython",
    "version": 3
   },
   "file_extension": ".py",
   "mimetype": "text/x-python",
   "name": "python",
   "nbconvert_exporter": "python",
   "pygments_lexer": "ipython3",
   "version": "3.10.6"
  }
 },
 "nbformat": 4,
 "nbformat_minor": 5
}
