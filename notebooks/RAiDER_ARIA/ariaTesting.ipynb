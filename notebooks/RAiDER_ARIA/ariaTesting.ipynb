{
 "cells": [
  {
   "cell_type": "code",
   "execution_count": null,
   "id": "eb49726a",
   "metadata": {
    "init_cell": true
   },
   "outputs": [],
   "source": [
    "import os, os.path as op\n",
    "import shutil\n",
    "import yaml\n",
    "import numpy as np\n",
    "import matplotlib.pyplot as plt\n",
    "from mpl_toolkits.axes_grid1 import make_axes_locatable\n",
    "\n",
    "import pandas as pd\n",
    "import xarray as xr\n",
    "from wand.image import Image as WImage\n",
    "\n",
    "import logging\n",
    "logging.basicConfig(level=logging.INFO)\n",
    "logger = logging.getLogger()\n",
    "\n",
    "## Defining the home and data directories\n",
    "tutorial_home_dir = os.path.abspath(os.getcwd())\n",
    "work_dir = os.path.abspath(os.getcwd())\n",
    "print(\"Tutorial directory: \", tutorial_home_dir)\n",
    "print(\"Work directory: \", work_dir)\n",
    "\n",
    "# Verifying if RAiDER is installed correctly\n",
    "try:\n",
    "    import RAiDER\n",
    "except:\n",
    "    raise Exception('RAiDER is missing from your PYTHONPATH')\n",
    "\n",
    "os.chdir(work_dir)"
   ]
  },
  {
   "cell_type": "markdown",
   "id": "6f52403a",
   "metadata": {},
   "source": [
    "### helpers"
   ]
  },
  {
   "cell_type": "code",
   "execution_count": null,
   "id": "78fe0d71",
   "metadata": {
    "init_cell": true
   },
   "outputs": [],
   "source": [
    "def new_yaml_group(example_yaml, dct_group, dst='tmp.yaml'):\n",
    "    \"\"\" Write a temporary yaml file with the new 'value' for 'key', preserving parms in example_yaml\"\"\"\n",
    "    with open(example_yaml, 'r') as f:\n",
    "        try:\n",
    "            params = yaml.safe_load(f)\n",
    "        except yaml.YAMLError as exc:\n",
    "            print(exc)\n",
    "            raise ValueError(f'Something is wrong with the yaml file {example_yaml}')\n",
    "\n",
    "    params = {**params, **dct_group}\n",
    "    dst = op.join(os.path.dirname(example_yaml), dst)\n",
    "#     print (params)\n",
    "\n",
    "    with open(dst, 'w') as fh:\n",
    "        yaml.dump(params, fh, default_flow_style=False)\n",
    "\n",
    "    print ('Wrote new cfg file:', dst)\n",
    "    return dst"
   ]
  },
  {
   "cell_type": "markdown",
   "id": "4a1bd772",
   "metadata": {},
   "source": [
    "#### Pieces of prepARIA"
   ]
  },
  {
   "cell_type": "markdown",
   "id": "233bae03",
   "metadata": {},
   "source": [
    "These are just for temporarily making the config file"
   ]
  },
  {
   "cell_type": "code",
   "execution_count": null,
   "id": "4e488967",
   "metadata": {
    "init_cell": true
   },
   "outputs": [],
   "source": [
    "def makeLatLonGrid1(f:str, reg, out_dir):\n",
    "    ds0  = xr.open_dataset(f, group='science/grids/data')\n",
    "\n",
    "    Lat, Lon  = np.meshgrid(ds0.latitude.data, ds0.longitude.data)\n",
    "    print (Lat.shape, Lon.shape)\n",
    "\n",
    "    da_lat = xr.DataArray(Lat.T, coords=[Lon[0, :], Lat[:, 0]], dims='lon lat'.split())\n",
    "    da_lon = xr.DataArray(Lon.T, coords=[Lon[0, :], Lat[:, 0]], dims='lon lat'.split())\n",
    "    dst_lat = op.join(out_dir, 'lat_HR.geo')\n",
    "    dst_lon = op.join(out_dir, 'lon_HR.geo')\n",
    "    da_lat.to_netcdf(dst_lat)\n",
    "    da_lon.to_netcdf(dst_lon)\n",
    "    logger.debug('Wrote: %s', dst_lat)\n",
    "    logger.debug('Wrote: %s', dst_lon)\n",
    "    return"
   ]
  },
  {
   "cell_type": "code",
   "execution_count": null,
   "id": "bd10c986",
   "metadata": {
    "init_cell": true
   },
   "outputs": [],
   "source": [
    "def parse_time_GUNW(f:str):\n",
    "    \"\"\" Get the center time of the secondary date from the filename \"\"\"\n",
    "    tt = op.basename(f).split('-')[7]\n",
    "    return f'{tt[:2]}:{tt[2:4]}:{tt[4:]}'"
   ]
  },
  {
   "cell_type": "code",
   "execution_count": null,
   "id": "7a565639",
   "metadata": {},
   "outputs": [],
   "source": [
    "def makeLatLonGrid_dep(f:str, reg, out_dir):\n",
    "    '''\n",
    "    Convert the geocoded grids to lat/lon files for input to RAiDER\n",
    "    '''\n",
    "    from RAiDER.utilFcns import writeArrayToRaster\n",
    "    group   = 'science/grids/data'\n",
    "    lat_f   = os.path.join(f'NETCDF:\"{f}\":{group}/latitude')\n",
    "    lon_f   = os.path.join(f'NETCDF:\"{f}\":{group}/longitude')\n",
    "\n",
    "    ds0   = xr.open_dataset(f, group='science/grids/data')\n",
    "\n",
    "    \n",
    "    gt   = (0, 1, 0, 0, 0, 1)\n",
    "    proj = ds['crs'].crs_wkt\n",
    "\n",
    "    lats = ds.latitude.data\n",
    "    lons = ds.longitude.data\n",
    "\n",
    "    ySize = len(lats)\n",
    "    xSize = len(lons)\n",
    "\n",
    "    # ISCE lats are ordered from smallest to biggest\n",
    "    LATS  = np.flipud(np.tile(lats, (xSize, 1)).T)\n",
    "    LONS  = np.tile(lons, (ySize, 1))\n",
    "\n",
    "    dst_lat = op.join(out_dir, f'lat_{reg}.geo')\n",
    "    dst_lon = op.join(out_dir, f'lon_{reg}.geo')\n",
    "\n",
    "    writeArrayToRaster(LATS, dst_lat, 0., 'GTiff', proj, gt)\n",
    "    writeArrayToRaster(LONS, dst_lon, 0., 'GTiff', proj, gt)\n",
    "\n",
    "    logger.debug('Wrote: %s', dst_lat)\n",
    "    logger.debug('Wrote: %s', dst_lon)\n",
    "    return LATS, LONS"
   ]
  },
  {
   "cell_type": "markdown",
   "id": "78874fc4",
   "metadata": {},
   "source": [
    "## Hampton Roads Test"
   ]
  },
  {
   "cell_type": "code",
   "execution_count": null,
   "id": "9148bfce",
   "metadata": {
    "init_cell": true
   },
   "outputs": [],
   "source": [
    "yaml_base = op.join(work_dir, 'example_yamls', 'raider.yaml')\n",
    "gunw = op.join(work_dir, 'data', 'S1-GUNW-A-R-004-tops-20181219_20181113-230629-37654N_35778N-PP-ede0-v2_0_2.nc')\n",
    "orb1 = op.join(work_dir, 'orbits', 'S1A_OPER_AUX_POEORB_OPOD_20181203T120749_V20181112T225942_20181114T005942.EOF')\n",
    "orb2 = op.join(work_dir, 'orbits', 'S1A_OPER_AUX_POEORB_OPOD_20190108T120818_V20181218T225942_20181220T005942.EOF')\n",
    "orb3 = op.join(work_dir, 'orbits', 'S1A_OPER_AUX_POEORB_OPOD_20210309T234202_V20181112T225942_20181114T005942.EOF')\n",
    "makeLatLonGrid1(gunw, 'HR', op.join(work_dir, 'data'))"
   ]
  },
  {
   "cell_type": "code",
   "execution_count": null,
   "id": "0f314c11",
   "metadata": {},
   "outputs": [],
   "source": [
    "# first just use config file option"
   ]
  },
  {
   "cell_type": "code",
   "execution_count": null,
   "id": "3264dfcc",
   "metadata": {},
   "outputs": [],
   "source": [
    "# ISCE lat/lon files (Hampton Roads)\n",
    "# this downloads the DEM and intersects it\n",
    "\n",
    "grp = {'aoi_group': {'lat_file': f'{work_dir}/data/lat_HR.geo', 'lon_file': f'{work_dir}/data/lon_HR.geo'}, \n",
    "       'height_group': {'dem': f'{work_dir}/GLO30_fullres_dem.tif'},\n",
    "       'weather_model': 'ERA5',\n",
    "       'date_group': {'date_start': '20181113'},\n",
    "       'time_group': {'time': parse_time_GUNW(gunw)},\n",
    "       'los_group' : {'orbit_file': orb3}\n",
    "      }\n",
    "\n",
    "cfg = new_yaml_group(yaml_base, grp)\n",
    "!raider.py {cfg}\n",
    "\n",
    "## store it for use later\n",
    "# shutil.copy(f'{work_dir}/GLO30_fullres_dem.tif', f'{work_dir}/data/GLO30_fullres_dem_HR.tif')"
   ]
  },
  {
   "cell_type": "code",
   "execution_count": null,
   "id": "868da2c7",
   "metadata": {},
   "outputs": [],
   "source": [
    "!gdalinfo ERA5_wet_20181219T230629_ztd.GTiff -stats"
   ]
  },
  {
   "cell_type": "markdown",
   "id": "d2eb9163",
   "metadata": {},
   "source": [
    "## LA Test"
   ]
  },
  {
   "cell_type": "code",
   "execution_count": null,
   "id": "f5722180",
   "metadata": {},
   "outputs": [],
   "source": []
  }
 ],
 "metadata": {
  "celltoolbar": "Initialization Cell",
  "kernelspec": {
   "display_name": "Python 3 (ipykernel)",
   "language": "python",
   "name": "python3"
  },
  "language_info": {
   "codemirror_mode": {
    "name": "ipython",
    "version": 3
   },
   "file_extension": ".py",
   "mimetype": "text/x-python",
   "name": "python",
   "nbconvert_exporter": "python",
   "pygments_lexer": "ipython3",
   "version": "3.12.3"
  }
 },
 "nbformat": 4,
 "nbformat_minor": 5
}
