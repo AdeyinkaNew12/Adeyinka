{
 "cells": [
  {
   "cell_type": "markdown",
   "metadata": {
    "heading_collapsed": true
   },
   "source": [
    "# Data Wrangling with Pandas\n",
    "\n",
    "**Author**: Jeremy Maurer - Missouri University of Science and Technology\n",
    "\n",
    "This notebook provides an overview of data manipulation using Pandas, a Python package that provides similar functionality to spreadsheet programs like Excel or Google Sheets.\n",
    "\n",
    "You can read more details about Pandas __[here](https://pandas.pydata.org/pandas-docs/stable/getting_started/index.html)__\n",
    "\n",
    "In this notebook we will briefly demonstrate the following capabilities of pandas:\n",
    "- Reading data from comma and space-delimited files into pandas dataframes\n",
    "- Manipulating data in a dataframe\n",
    "- Writing dataframes to files\n",
    "\n",
    "<div class=\"alert alert-info\">\n",
    "    <b>Terminology:</b>    \n",
    "\n",
    "- *dataframe*: The equivalent of a spreadsheet in Python.\n",
    "    \n",
    "- *Series*: A single column of a Pandas dataframe; equivalent to a column in a spreadsheet  \n",
    "\n",
    "- *tropospheric zenith delay*: The precise atmospheric delay satellite signals experience when propagating through the troposphere.  \n",
    "</div>\n",
    "\n",
    "Estimated time to run notebook: 15 minutes"
   ]
  },
  {
   "cell_type": "markdown",
   "metadata": {
    "heading_collapsed": true,
    "hidden": true
   },
   "source": [
    "## Table of Contents:\n",
    "<a id='example_TOC'></a>"
   ]
  },
  {
   "cell_type": "markdown",
   "metadata": {
    "hidden": true
   },
   "source": [
    "[**Overview of the pandas package**](#overview)  \n",
    "[1. Reading data from files](#reading-data)  \n",
    "[2. Manipulating data in dataframes](#manip-data)  \n",
    "[3. Writing data to files](#write-data)  "
   ]
  },
  {
   "cell_type": "markdown",
   "metadata": {
    "heading_collapsed": true,
    "hidden": true
   },
   "source": [
    "## Prep: Initial setup of the notebook"
   ]
  },
  {
   "cell_type": "markdown",
   "metadata": {
    "hidden": true
   },
   "source": [
    "Below we set up the directory structure for this notebook exercise. In addition, we load the required modules into our python environment using the **`import`** command.\n",
    "\n",
    "<div class=\"alert alert-info\">\n",
    "    You can customize the location of your home and working directory when running this notebook by modifying the cell below. \n",
    "</div>\n",
    "    "
   ]
  },
  {
   "cell_type": "code",
   "execution_count": 1,
   "metadata": {
    "hidden": true
   },
   "outputs": [
    {
     "name": "stdout",
     "output_type": "stream",
     "text": [
      "Tutorial directory:  /Users/jeremym/software/RAiDER-docs/notebooks/Pandas_tutorial\n",
      "Work directory:  /Users/jeremym/software/RAiDER-docs/notebooks/Pandas_tutorial\n"
     ]
    }
   ],
   "source": [
    "import numpy as np\n",
    "import os\n",
    "import matplotlib.pyplot as plt\n",
    "import pandas as pd\n",
    "\n",
    "## Defining the home and data directories\n",
    "tutorial_home_dir = os.path.abspath(os.getcwd())\n",
    "work_dir = os.path.abspath(os.getcwd())\n",
    "print(\"Tutorial directory: \", tutorial_home_dir)\n",
    "print(\"Work directory: \", work_dir)"
   ]
  },
  {
   "cell_type": "markdown",
   "metadata": {},
   "source": [
    "## Overview of the Pandas Package\n",
    "<a id='overview'></a>"
   ]
  },
  {
   "cell_type": "markdown",
   "metadata": {},
   "source": [
    "### Reading data from files\n",
    "<a id='reading-data'></a>"
   ]
  },
  {
   "cell_type": "code",
   "execution_count": 3,
   "metadata": {},
   "outputs": [
    {
     "data": {
      "text/html": [
       "<div>\n",
       "<style scoped>\n",
       "    .dataframe tbody tr th:only-of-type {\n",
       "        vertical-align: middle;\n",
       "    }\n",
       "\n",
       "    .dataframe tbody tr th {\n",
       "        vertical-align: top;\n",
       "    }\n",
       "\n",
       "    .dataframe thead th {\n",
       "        text-align: right;\n",
       "    }\n",
       "</style>\n",
       "<table border=\"1\" class=\"dataframe\">\n",
       "  <thead>\n",
       "    <tr style=\"text-align: right;\">\n",
       "      <th></th>\n",
       "      <th>Datetime</th>\n",
       "      <th>ID</th>\n",
       "      <th>Lat</th>\n",
       "      <th>Lon</th>\n",
       "      <th>Hgt_m</th>\n",
       "      <th>ZTD</th>\n",
       "    </tr>\n",
       "  </thead>\n",
       "  <tbody>\n",
       "    <tr>\n",
       "      <th>0</th>\n",
       "      <td>2019-01-09 06:00:00</td>\n",
       "      <td>1LSU</td>\n",
       "      <td>30.4074</td>\n",
       "      <td>-91.1803</td>\n",
       "      <td>-6.487</td>\n",
       "      <td>2.4517</td>\n",
       "    </tr>\n",
       "    <tr>\n",
       "      <th>1</th>\n",
       "      <td>2019-01-09 06:00:00</td>\n",
       "      <td>1NSU</td>\n",
       "      <td>31.7508</td>\n",
       "      <td>-93.0976</td>\n",
       "      <td>28.071</td>\n",
       "      <td>2.3984</td>\n",
       "    </tr>\n",
       "    <tr>\n",
       "      <th>2</th>\n",
       "      <td>2019-01-09 06:00:00</td>\n",
       "      <td>1ULM</td>\n",
       "      <td>32.5290</td>\n",
       "      <td>-92.0759</td>\n",
       "      <td>16.000</td>\n",
       "      <td>2.3861</td>\n",
       "    </tr>\n",
       "    <tr>\n",
       "      <th>3</th>\n",
       "      <td>2019-01-09 06:00:00</td>\n",
       "      <td>AACR</td>\n",
       "      <td>9.9388</td>\n",
       "      <td>-84.1179</td>\n",
       "      <td>1123.929</td>\n",
       "      <td>2.1691</td>\n",
       "    </tr>\n",
       "    <tr>\n",
       "      <th>4</th>\n",
       "      <td>2019-01-09 06:00:00</td>\n",
       "      <td>ABE1</td>\n",
       "      <td>16.4720</td>\n",
       "      <td>-61.5093</td>\n",
       "      <td>-17.198</td>\n",
       "      <td>2.5406</td>\n",
       "    </tr>\n",
       "  </tbody>\n",
       "</table>\n",
       "</div>"
      ],
      "text/plain": [
       "              Datetime    ID      Lat      Lon     Hgt_m     ZTD\n",
       "0  2019-01-09 06:00:00  1LSU  30.4074 -91.1803    -6.487  2.4517\n",
       "1  2019-01-09 06:00:00  1NSU  31.7508 -93.0976    28.071  2.3984\n",
       "2  2019-01-09 06:00:00  1ULM  32.5290 -92.0759    16.000  2.3861\n",
       "3  2019-01-09 06:00:00  AACR   9.9388 -84.1179  1123.929  2.1691\n",
       "4  2019-01-09 06:00:00  ABE1  16.4720 -61.5093   -17.198  2.5406"
      ]
     },
     "execution_count": 3,
     "metadata": {},
     "output_type": "execute_result"
    }
   ],
   "source": [
    "# Let's start by loading a simple .csv dataset into a pandas dataframe \n",
    "df = pd.read_csv('data/sample_data.csv')\n",
    "df.head()"
   ]
  },
  {
   "cell_type": "code",
   "execution_count": 4,
   "metadata": {},
   "outputs": [],
   "source": [
    "# It's also possible to read space-delimited and excel files using pandas \n",
    "# df = pd.read_csv('space_delimited_file.txt', delim_whitespace=True)\n",
    "# df = pd.read_excel('excel_file.xlsx') # You may need to install xlrd or openpyxl to read excel files"
   ]
  },
  {
   "cell_type": "markdown",
   "metadata": {},
   "source": [
    "### Manipulating data in pandas\n",
    "<a id='manip-data'></a>"
   ]
  },
  {
   "cell_type": "code",
   "execution_count": 5,
   "metadata": {},
   "outputs": [
    {
     "name": "stdout",
     "output_type": "stream",
     "text": [
      "RangeIndex(start=0, stop=94549, step=1)\n"
     ]
    }
   ],
   "source": [
    "# Pandas uses an \"index\" to keep track of rows. By default it uses integers\n",
    "print(df.index)"
   ]
  },
  {
   "cell_type": "code",
   "execution_count": 6,
   "metadata": {},
   "outputs": [
    {
     "data": {
      "text/html": [
       "<div>\n",
       "<style scoped>\n",
       "    .dataframe tbody tr th:only-of-type {\n",
       "        vertical-align: middle;\n",
       "    }\n",
       "\n",
       "    .dataframe tbody tr th {\n",
       "        vertical-align: top;\n",
       "    }\n",
       "\n",
       "    .dataframe thead th {\n",
       "        text-align: right;\n",
       "    }\n",
       "</style>\n",
       "<table border=\"1\" class=\"dataframe\">\n",
       "  <thead>\n",
       "    <tr style=\"text-align: right;\">\n",
       "      <th></th>\n",
       "      <th>ID</th>\n",
       "      <th>Lat</th>\n",
       "      <th>Lon</th>\n",
       "      <th>Hgt_m</th>\n",
       "      <th>ZTD</th>\n",
       "    </tr>\n",
       "    <tr>\n",
       "      <th>Datetime</th>\n",
       "      <th></th>\n",
       "      <th></th>\n",
       "      <th></th>\n",
       "      <th></th>\n",
       "      <th></th>\n",
       "    </tr>\n",
       "  </thead>\n",
       "  <tbody>\n",
       "    <tr>\n",
       "      <th>2019-01-09 06:00:00</th>\n",
       "      <td>1LSU</td>\n",
       "      <td>30.4074</td>\n",
       "      <td>-91.1803</td>\n",
       "      <td>-6.487</td>\n",
       "      <td>2.4517</td>\n",
       "    </tr>\n",
       "    <tr>\n",
       "      <th>2019-01-09 06:00:00</th>\n",
       "      <td>1NSU</td>\n",
       "      <td>31.7508</td>\n",
       "      <td>-93.0976</td>\n",
       "      <td>28.071</td>\n",
       "      <td>2.3984</td>\n",
       "    </tr>\n",
       "    <tr>\n",
       "      <th>2019-01-09 06:00:00</th>\n",
       "      <td>1ULM</td>\n",
       "      <td>32.5290</td>\n",
       "      <td>-92.0759</td>\n",
       "      <td>16.000</td>\n",
       "      <td>2.3861</td>\n",
       "    </tr>\n",
       "    <tr>\n",
       "      <th>2019-01-09 06:00:00</th>\n",
       "      <td>AACR</td>\n",
       "      <td>9.9388</td>\n",
       "      <td>-84.1179</td>\n",
       "      <td>1123.929</td>\n",
       "      <td>2.1691</td>\n",
       "    </tr>\n",
       "    <tr>\n",
       "      <th>2019-01-09 06:00:00</th>\n",
       "      <td>ABE1</td>\n",
       "      <td>16.4720</td>\n",
       "      <td>-61.5093</td>\n",
       "      <td>-17.198</td>\n",
       "      <td>2.5406</td>\n",
       "    </tr>\n",
       "  </tbody>\n",
       "</table>\n",
       "</div>"
      ],
      "text/plain": [
       "                       ID      Lat      Lon     Hgt_m     ZTD\n",
       "Datetime                                                     \n",
       "2019-01-09 06:00:00  1LSU  30.4074 -91.1803    -6.487  2.4517\n",
       "2019-01-09 06:00:00  1NSU  31.7508 -93.0976    28.071  2.3984\n",
       "2019-01-09 06:00:00  1ULM  32.5290 -92.0759    16.000  2.3861\n",
       "2019-01-09 06:00:00  AACR   9.9388 -84.1179  1123.929  2.1691\n",
       "2019-01-09 06:00:00  ABE1  16.4720 -61.5093   -17.198  2.5406"
      ]
     },
     "execution_count": 6,
     "metadata": {},
     "output_type": "execute_result"
    }
   ],
   "source": [
    "# You can change the index to a column in the dataframe, for example a datetime\n",
    "df = df.set_index('Datetime')\n",
    "df.head()"
   ]
  },
  {
   "cell_type": "code",
   "execution_count": 7,
   "metadata": {},
   "outputs": [
    {
     "data": {
      "text/html": [
       "<div>\n",
       "<style scoped>\n",
       "    .dataframe tbody tr th:only-of-type {\n",
       "        vertical-align: middle;\n",
       "    }\n",
       "\n",
       "    .dataframe tbody tr th {\n",
       "        vertical-align: top;\n",
       "    }\n",
       "\n",
       "    .dataframe thead th {\n",
       "        text-align: right;\n",
       "    }\n",
       "</style>\n",
       "<table border=\"1\" class=\"dataframe\">\n",
       "  <thead>\n",
       "    <tr style=\"text-align: right;\">\n",
       "      <th></th>\n",
       "      <th>Datetime</th>\n",
       "      <th>ID</th>\n",
       "      <th>Lat</th>\n",
       "      <th>Lon</th>\n",
       "      <th>Hgt_m</th>\n",
       "      <th>ZTD</th>\n",
       "    </tr>\n",
       "  </thead>\n",
       "  <tbody>\n",
       "    <tr>\n",
       "      <th>0</th>\n",
       "      <td>2019-01-09 06:00:00</td>\n",
       "      <td>1LSU</td>\n",
       "      <td>30.4074</td>\n",
       "      <td>-91.1803</td>\n",
       "      <td>-6.487</td>\n",
       "      <td>2.4517</td>\n",
       "    </tr>\n",
       "    <tr>\n",
       "      <th>1</th>\n",
       "      <td>2019-01-09 06:00:00</td>\n",
       "      <td>1NSU</td>\n",
       "      <td>31.7508</td>\n",
       "      <td>-93.0976</td>\n",
       "      <td>28.071</td>\n",
       "      <td>2.3984</td>\n",
       "    </tr>\n",
       "    <tr>\n",
       "      <th>2</th>\n",
       "      <td>2019-01-09 06:00:00</td>\n",
       "      <td>1ULM</td>\n",
       "      <td>32.5290</td>\n",
       "      <td>-92.0759</td>\n",
       "      <td>16.000</td>\n",
       "      <td>2.3861</td>\n",
       "    </tr>\n",
       "    <tr>\n",
       "      <th>3</th>\n",
       "      <td>2019-01-09 06:00:00</td>\n",
       "      <td>AACR</td>\n",
       "      <td>9.9388</td>\n",
       "      <td>-84.1179</td>\n",
       "      <td>1123.929</td>\n",
       "      <td>2.1691</td>\n",
       "    </tr>\n",
       "    <tr>\n",
       "      <th>4</th>\n",
       "      <td>2019-01-09 06:00:00</td>\n",
       "      <td>ABE1</td>\n",
       "      <td>16.4720</td>\n",
       "      <td>-61.5093</td>\n",
       "      <td>-17.198</td>\n",
       "      <td>2.5406</td>\n",
       "    </tr>\n",
       "  </tbody>\n",
       "</table>\n",
       "</div>"
      ],
      "text/plain": [
       "              Datetime    ID      Lat      Lon     Hgt_m     ZTD\n",
       "0  2019-01-09 06:00:00  1LSU  30.4074 -91.1803    -6.487  2.4517\n",
       "1  2019-01-09 06:00:00  1NSU  31.7508 -93.0976    28.071  2.3984\n",
       "2  2019-01-09 06:00:00  1ULM  32.5290 -92.0759    16.000  2.3861\n",
       "3  2019-01-09 06:00:00  AACR   9.9388 -84.1179  1123.929  2.1691\n",
       "4  2019-01-09 06:00:00  ABE1  16.4720 -61.5093   -17.198  2.5406"
      ]
     },
     "execution_count": 7,
     "metadata": {},
     "output_type": "execute_result"
    }
   ],
   "source": [
    "# You can reset the index as well\n",
    "df = df.reset_index()\n",
    "df.head()"
   ]
  },
  {
   "cell_type": "code",
   "execution_count": 8,
   "metadata": {},
   "outputs": [
    {
     "data": {
      "text/html": [
       "<div>\n",
       "<style scoped>\n",
       "    .dataframe tbody tr th:only-of-type {\n",
       "        vertical-align: middle;\n",
       "    }\n",
       "\n",
       "    .dataframe tbody tr th {\n",
       "        vertical-align: top;\n",
       "    }\n",
       "\n",
       "    .dataframe thead th {\n",
       "        text-align: right;\n",
       "    }\n",
       "</style>\n",
       "<table border=\"1\" class=\"dataframe\">\n",
       "  <thead>\n",
       "    <tr style=\"text-align: right;\">\n",
       "      <th></th>\n",
       "      <th>ID</th>\n",
       "      <th>Lat</th>\n",
       "      <th>Lon</th>\n",
       "      <th>Hgt_m</th>\n",
       "      <th>ZTD</th>\n",
       "    </tr>\n",
       "    <tr>\n",
       "      <th>Datetime</th>\n",
       "      <th></th>\n",
       "      <th></th>\n",
       "      <th></th>\n",
       "      <th></th>\n",
       "      <th></th>\n",
       "    </tr>\n",
       "  </thead>\n",
       "  <tbody>\n",
       "    <tr>\n",
       "      <th>2019-01-09 06:00:00</th>\n",
       "      <td>1LSU</td>\n",
       "      <td>30.4074</td>\n",
       "      <td>-91.1803</td>\n",
       "      <td>-6.487</td>\n",
       "      <td>2.4517</td>\n",
       "    </tr>\n",
       "    <tr>\n",
       "      <th>2019-01-09 06:00:00</th>\n",
       "      <td>1NSU</td>\n",
       "      <td>31.7508</td>\n",
       "      <td>-93.0976</td>\n",
       "      <td>28.071</td>\n",
       "      <td>2.3984</td>\n",
       "    </tr>\n",
       "    <tr>\n",
       "      <th>2019-01-09 06:00:00</th>\n",
       "      <td>1ULM</td>\n",
       "      <td>32.5290</td>\n",
       "      <td>-92.0759</td>\n",
       "      <td>16.000</td>\n",
       "      <td>2.3861</td>\n",
       "    </tr>\n",
       "    <tr>\n",
       "      <th>2019-01-09 06:00:00</th>\n",
       "      <td>AACR</td>\n",
       "      <td>9.9388</td>\n",
       "      <td>-84.1179</td>\n",
       "      <td>1123.929</td>\n",
       "      <td>2.1691</td>\n",
       "    </tr>\n",
       "    <tr>\n",
       "      <th>2019-01-09 06:00:00</th>\n",
       "      <td>ABE1</td>\n",
       "      <td>16.4720</td>\n",
       "      <td>-61.5093</td>\n",
       "      <td>-17.198</td>\n",
       "      <td>2.5406</td>\n",
       "    </tr>\n",
       "  </tbody>\n",
       "</table>\n",
       "</div>"
      ],
      "text/plain": [
       "                       ID      Lat      Lon     Hgt_m     ZTD\n",
       "Datetime                                                     \n",
       "2019-01-09 06:00:00  1LSU  30.4074 -91.1803    -6.487  2.4517\n",
       "2019-01-09 06:00:00  1NSU  31.7508 -93.0976    28.071  2.3984\n",
       "2019-01-09 06:00:00  1ULM  32.5290 -92.0759    16.000  2.3861\n",
       "2019-01-09 06:00:00  AACR   9.9388 -84.1179  1123.929  2.1691\n",
       "2019-01-09 06:00:00  ABE1  16.4720 -61.5093   -17.198  2.5406"
      ]
     },
     "execution_count": 8,
     "metadata": {},
     "output_type": "execute_result"
    }
   ],
   "source": [
    "# By default Pandas reads datetimes from files as strings.\n",
    "# we can convert them to actual Python datetimes \n",
    "df['Datetime'] = pd.to_datetime(df['Datetime'])\n",
    "df = df.set_index('Datetime')\n",
    "df.head()"
   ]
  },
  {
   "cell_type": "code",
   "execution_count": 2,
   "metadata": {},
   "outputs": [
    {
     "ename": "NameError",
     "evalue": "name 'df' is not defined",
     "output_type": "error",
     "traceback": [
      "\u001b[0;31m---------------------------------------------------------------------------\u001b[0m",
      "\u001b[0;31mNameError\u001b[0m                                 Traceback (most recent call last)",
      "Input \u001b[0;32mIn [2]\u001b[0m, in \u001b[0;36m<cell line: 2>\u001b[0;34m()\u001b[0m\n\u001b[1;32m      1\u001b[0m \u001b[38;5;66;03m# We can get a subset of the data using the column name\u001b[39;00m\n\u001b[0;32m----> 2\u001b[0m index \u001b[38;5;241m=\u001b[39m \u001b[43mdf\u001b[49m[\u001b[38;5;124m'\u001b[39m\u001b[38;5;124mID\u001b[39m\u001b[38;5;124m'\u001b[39m] \u001b[38;5;241m==\u001b[39m \u001b[38;5;124m'\u001b[39m\u001b[38;5;124mJME2\u001b[39m\u001b[38;5;124m'\u001b[39m\n\u001b[1;32m      3\u001b[0m \u001b[38;5;66;03m# df_jme2 = df[index]\u001b[39;00m\n\u001b[1;32m      4\u001b[0m \u001b[38;5;66;03m# df_jme2.head()\u001b[39;00m\n\u001b[1;32m      5\u001b[0m np\u001b[38;5;241m.\u001b[39msum(index)\n",
      "\u001b[0;31mNameError\u001b[0m: name 'df' is not defined"
     ]
    }
   ],
   "source": [
    "# We can get a subset of the data using the column name\n",
    "index = df['ID'] == 'JME2'\n",
    "# df_jme2 = df[index]\n",
    "# df_jme2.head()\n",
    "np.sum(index)"
   ]
  },
  {
   "cell_type": "code",
   "execution_count": 16,
   "metadata": {},
   "outputs": [
    {
     "data": {
      "text/plain": [
       "<AxesSubplot:xlabel='Datetime'>"
      ]
     },
     "execution_count": 16,
     "metadata": {},
     "output_type": "execute_result"
    },
    {
     "data": {
      "image/png": "[encoded data removed]",
      "text/plain": [
       "<Figure size 432x288 with 1 Axes>"
      ]
     },
     "metadata": {
      "needs_background": "light"
     },
     "output_type": "display_data"
    }
   ],
   "source": [
    "# It's possible to plot data directly using Pandas\n",
    "df_jme2['ZTD'].plot()"
   ]
  },
  {
   "cell_type": "code",
   "execution_count": 19,
   "metadata": {},
   "outputs": [
    {
     "data": {
      "text/plain": [
       "Datetime\n",
       "2019-01-09 06:00:00    Station_1LSU\n",
       "2019-01-09 06:00:00    Station_1NSU\n",
       "2019-01-09 06:00:00    Station_1ULM\n",
       "2019-01-09 06:00:00    Station_AACR\n",
       "2019-01-09 06:00:00    Station_ABE1\n",
       "                           ...     \n",
       "2019-12-23 06:00:00    Station_ZNY1\n",
       "2019-12-23 06:00:00    Station_ZOB1\n",
       "2019-12-23 06:00:00    Station_ZSU4\n",
       "2019-12-23 06:00:00    Station_ZTL4\n",
       "2019-12-23 06:00:00    Station_ZUMB\n",
       "Name: ID, Length: 94549, dtype: object"
      ]
     },
     "execution_count": 19,
     "metadata": {},
     "output_type": "execute_result"
    }
   ],
   "source": [
    "# We can perform operations on columns:\n",
    "'Station_' + df['ID'] "
   ]
  },
  {
   "cell_type": "code",
   "execution_count": 35,
   "metadata": {},
   "outputs": [
    {
     "name": "stdout",
     "output_type": "stream",
     "text": [
      "[2.70946344 2.4153913  2.24911469 ... 2.20632448 2.36747469 2.35675044]\n"
     ]
    }
   ],
   "source": [
    "# Or mathematical operations:\n",
    "noisy = np.nanmean(df['ZTD']) + np.nanstd(df['ZTD'])*np.random.randn(len(df))\n",
    "print(noisy)"
   ]
  },
  {
   "cell_type": "code",
   "execution_count": 36,
   "metadata": {},
   "outputs": [],
   "source": [
    "# We can assign the output of an operation to a new column\n",
    "df['ZTD_noisy'] = noisy"
   ]
  },
  {
   "cell_type": "code",
   "execution_count": 37,
   "metadata": {},
   "outputs": [],
   "source": [
    "# And we can take operations of several columns\n",
    "df['ZTD_diff'] = df['ZTD'] - df['ZTD_noisy']"
   ]
  },
  {
   "cell_type": "code",
   "execution_count": 38,
   "metadata": {},
   "outputs": [],
   "source": [
    "# We can define functions and then call them as operators on a dataframe column or index\n",
    "def dt2fracYear(date):\n",
    "    import datetime as dt\n",
    "    import time\n",
    "\n",
    "    def sinceEpoch(date): # returns seconds since epoch\n",
    "        return time.mktime(date.timetuple())\n",
    "    s = sinceEpoch\n",
    "\n",
    "    # check that the object is a datetime\n",
    "    try:\n",
    "        year = date.year\n",
    "    except AttributeError:\n",
    "        date = numpyDT64ToDatetime(date)\n",
    "        year = date.year\n",
    "\n",
    "    startOfThisYear = dt.datetime(year=year, month=1, day=1)\n",
    "    startOfNextYear = dt.datetime(year=year+1, month=1, day=1)\n",
    "\n",
    "    yearElapsed = s(date) - s(startOfThisYear)\n",
    "    yearDuration = s(startOfNextYear) - s(startOfThisYear)\n",
    "    fraction = yearElapsed/yearDuration\n",
    "    date_frac = date.year + fraction\n",
    "\n",
    "    return date_frac\n",
    "\n",
    "def numpyDT64ToDatetime(dt64):\n",
    "    '''\n",
    "    Convert a numpy datetime64 object to a python datetime object\n",
    "    '''\n",
    "    import datetime\n",
    "    import numpy as np\n",
    "\n",
    "    unix_epoch = np.datetime64(0, 's')\n",
    "    one_second = np.timedelta64(1, 's')\n",
    "    seconds_since_epoch = (dt64 - unix_epoch) / one_second\n",
    "    dt = datetime.datetime.utcfromtimestamp(seconds_since_epoch)\n",
    "    return dt"
   ]
  },
  {
   "cell_type": "code",
   "execution_count": 39,
   "metadata": {},
   "outputs": [
    {
     "data": {
      "text/html": [
       "<div>\n",
       "<style scoped>\n",
       "    .dataframe tbody tr th:only-of-type {\n",
       "        vertical-align: middle;\n",
       "    }\n",
       "\n",
       "    .dataframe tbody tr th {\n",
       "        vertical-align: top;\n",
       "    }\n",
       "\n",
       "    .dataframe thead th {\n",
       "        text-align: right;\n",
       "    }\n",
       "</style>\n",
       "<table border=\"1\" class=\"dataframe\">\n",
       "  <thead>\n",
       "    <tr style=\"text-align: right;\">\n",
       "      <th></th>\n",
       "      <th>ID</th>\n",
       "      <th>Lat</th>\n",
       "      <th>Lon</th>\n",
       "      <th>Hgt_m</th>\n",
       "      <th>ZTD</th>\n",
       "      <th>fracYear</th>\n",
       "      <th>ZTD_noisy</th>\n",
       "      <th>ZTD_diff</th>\n",
       "    </tr>\n",
       "    <tr>\n",
       "      <th>Datetime</th>\n",
       "      <th></th>\n",
       "      <th></th>\n",
       "      <th></th>\n",
       "      <th></th>\n",
       "      <th></th>\n",
       "      <th></th>\n",
       "      <th></th>\n",
       "      <th></th>\n",
       "    </tr>\n",
       "  </thead>\n",
       "  <tbody>\n",
       "    <tr>\n",
       "      <th>2019-01-09 06:00:00</th>\n",
       "      <td>1LSU</td>\n",
       "      <td>30.4074</td>\n",
       "      <td>-91.1803</td>\n",
       "      <td>-6.487</td>\n",
       "      <td>2.4517</td>\n",
       "      <td>2019.022603</td>\n",
       "      <td>2.709463</td>\n",
       "      <td>-0.257763</td>\n",
       "    </tr>\n",
       "    <tr>\n",
       "      <th>2019-01-09 06:00:00</th>\n",
       "      <td>1NSU</td>\n",
       "      <td>31.7508</td>\n",
       "      <td>-93.0976</td>\n",
       "      <td>28.071</td>\n",
       "      <td>2.3984</td>\n",
       "      <td>2019.022603</td>\n",
       "      <td>2.415391</td>\n",
       "      <td>-0.016991</td>\n",
       "    </tr>\n",
       "    <tr>\n",
       "      <th>2019-01-09 06:00:00</th>\n",
       "      <td>1ULM</td>\n",
       "      <td>32.5290</td>\n",
       "      <td>-92.0759</td>\n",
       "      <td>16.000</td>\n",
       "      <td>2.3861</td>\n",
       "      <td>2019.022603</td>\n",
       "      <td>2.249115</td>\n",
       "      <td>0.136985</td>\n",
       "    </tr>\n",
       "    <tr>\n",
       "      <th>2019-01-09 06:00:00</th>\n",
       "      <td>AACR</td>\n",
       "      <td>9.9388</td>\n",
       "      <td>-84.1179</td>\n",
       "      <td>1123.929</td>\n",
       "      <td>2.1691</td>\n",
       "      <td>2019.022603</td>\n",
       "      <td>2.494659</td>\n",
       "      <td>-0.325559</td>\n",
       "    </tr>\n",
       "    <tr>\n",
       "      <th>2019-01-09 06:00:00</th>\n",
       "      <td>ABE1</td>\n",
       "      <td>16.4720</td>\n",
       "      <td>-61.5093</td>\n",
       "      <td>-17.198</td>\n",
       "      <td>2.5406</td>\n",
       "      <td>2019.022603</td>\n",
       "      <td>2.077471</td>\n",
       "      <td>0.463129</td>\n",
       "    </tr>\n",
       "    <tr>\n",
       "      <th>...</th>\n",
       "      <td>...</td>\n",
       "      <td>...</td>\n",
       "      <td>...</td>\n",
       "      <td>...</td>\n",
       "      <td>...</td>\n",
       "      <td>...</td>\n",
       "      <td>...</td>\n",
       "      <td>...</td>\n",
       "    </tr>\n",
       "    <tr>\n",
       "      <th>2019-12-23 06:00:00</th>\n",
       "      <td>ZNY1</td>\n",
       "      <td>40.7843</td>\n",
       "      <td>-73.0972</td>\n",
       "      <td>6.416</td>\n",
       "      <td>2.3727</td>\n",
       "      <td>2019.976027</td>\n",
       "      <td>2.564064</td>\n",
       "      <td>-0.191364</td>\n",
       "    </tr>\n",
       "    <tr>\n",
       "      <th>2019-12-23 06:00:00</th>\n",
       "      <td>ZOB1</td>\n",
       "      <td>41.2972</td>\n",
       "      <td>-82.2064</td>\n",
       "      <td>223.618</td>\n",
       "      <td>2.2977</td>\n",
       "      <td>2019.976027</td>\n",
       "      <td>2.347061</td>\n",
       "      <td>-0.049361</td>\n",
       "    </tr>\n",
       "    <tr>\n",
       "      <th>2019-12-23 06:00:00</th>\n",
       "      <td>ZSU4</td>\n",
       "      <td>18.4313</td>\n",
       "      <td>-65.9935</td>\n",
       "      <td>-28.523</td>\n",
       "      <td>2.4765</td>\n",
       "      <td>2019.976027</td>\n",
       "      <td>2.206324</td>\n",
       "      <td>0.270176</td>\n",
       "    </tr>\n",
       "    <tr>\n",
       "      <th>2019-12-23 06:00:00</th>\n",
       "      <td>ZTL4</td>\n",
       "      <td>33.3797</td>\n",
       "      <td>-84.2967</td>\n",
       "      <td>261.134</td>\n",
       "      <td>2.4336</td>\n",
       "      <td>2019.976027</td>\n",
       "      <td>2.367475</td>\n",
       "      <td>0.066125</td>\n",
       "    </tr>\n",
       "    <tr>\n",
       "      <th>2019-12-23 06:00:00</th>\n",
       "      <td>ZUMB</td>\n",
       "      <td>44.2907</td>\n",
       "      <td>-92.6813</td>\n",
       "      <td>295.980</td>\n",
       "      <td>2.2527</td>\n",
       "      <td>2019.976027</td>\n",
       "      <td>2.356750</td>\n",
       "      <td>-0.104050</td>\n",
       "    </tr>\n",
       "  </tbody>\n",
       "</table>\n",
       "<p>94549 rows × 8 columns</p>\n",
       "</div>"
      ],
      "text/plain": [
       "                       ID      Lat      Lon     Hgt_m     ZTD     fracYear  \\\n",
       "Datetime                                                                     \n",
       "2019-01-09 06:00:00  1LSU  30.4074 -91.1803    -6.487  2.4517  2019.022603   \n",
       "2019-01-09 06:00:00  1NSU  31.7508 -93.0976    28.071  2.3984  2019.022603   \n",
       "2019-01-09 06:00:00  1ULM  32.5290 -92.0759    16.000  2.3861  2019.022603   \n",
       "2019-01-09 06:00:00  AACR   9.9388 -84.1179  1123.929  2.1691  2019.022603   \n",
       "2019-01-09 06:00:00  ABE1  16.4720 -61.5093   -17.198  2.5406  2019.022603   \n",
       "...                   ...      ...      ...       ...     ...          ...   \n",
       "2019-12-23 06:00:00  ZNY1  40.7843 -73.0972     6.416  2.3727  2019.976027   \n",
       "2019-12-23 06:00:00  ZOB1  41.2972 -82.2064   223.618  2.2977  2019.976027   \n",
       "2019-12-23 06:00:00  ZSU4  18.4313 -65.9935   -28.523  2.4765  2019.976027   \n",
       "2019-12-23 06:00:00  ZTL4  33.3797 -84.2967   261.134  2.4336  2019.976027   \n",
       "2019-12-23 06:00:00  ZUMB  44.2907 -92.6813   295.980  2.2527  2019.976027   \n",
       "\n",
       "                     ZTD_noisy  ZTD_diff  \n",
       "Datetime                                  \n",
       "2019-01-09 06:00:00   2.709463 -0.257763  \n",
       "2019-01-09 06:00:00   2.415391 -0.016991  \n",
       "2019-01-09 06:00:00   2.249115  0.136985  \n",
       "2019-01-09 06:00:00   2.494659 -0.325559  \n",
       "2019-01-09 06:00:00   2.077471  0.463129  \n",
       "...                        ...       ...  \n",
       "2019-12-23 06:00:00   2.564064 -0.191364  \n",
       "2019-12-23 06:00:00   2.347061 -0.049361  \n",
       "2019-12-23 06:00:00   2.206324  0.270176  \n",
       "2019-12-23 06:00:00   2.367475  0.066125  \n",
       "2019-12-23 06:00:00   2.356750 -0.104050  \n",
       "\n",
       "[94549 rows x 8 columns]"
      ]
     },
     "execution_count": 39,
     "metadata": {},
     "output_type": "execute_result"
    }
   ],
   "source": [
    "# We can assign the index to be a column, operate on it, and then drop the added column\n",
    "df['dt'] = df.index\n",
    "df['fracYear'] = df['dt'].apply(lambda x: dt2fracYear(x))\n",
    "df.drop('dt', axis=1)"
   ]
  },
  {
   "cell_type": "code",
   "execution_count": 42,
   "metadata": {},
   "outputs": [
    {
     "data": {
      "text/html": [
       "<div>\n",
       "<style scoped>\n",
       "    .dataframe tbody tr th:only-of-type {\n",
       "        vertical-align: middle;\n",
       "    }\n",
       "\n",
       "    .dataframe tbody tr th {\n",
       "        vertical-align: top;\n",
       "    }\n",
       "\n",
       "    .dataframe thead th {\n",
       "        text-align: right;\n",
       "    }\n",
       "</style>\n",
       "<table border=\"1\" class=\"dataframe\">\n",
       "  <thead>\n",
       "    <tr style=\"text-align: right;\">\n",
       "      <th></th>\n",
       "      <th>Lat</th>\n",
       "      <th>Lon</th>\n",
       "      <th>Hgt_m</th>\n",
       "      <th>ZTD</th>\n",
       "      <th>fracYear</th>\n",
       "      <th>ZTD_noisy</th>\n",
       "      <th>ZTD_diff</th>\n",
       "    </tr>\n",
       "  </thead>\n",
       "  <tbody>\n",
       "    <tr>\n",
       "      <th>count</th>\n",
       "      <td>94549.000000</td>\n",
       "      <td>94549.000000</td>\n",
       "      <td>94549.000000</td>\n",
       "      <td>94549.000000</td>\n",
       "      <td>94549.000000</td>\n",
       "      <td>94549.000000</td>\n",
       "      <td>94549.000000</td>\n",
       "    </tr>\n",
       "    <tr>\n",
       "      <th>mean</th>\n",
       "      <td>38.340600</td>\n",
       "      <td>-87.244276</td>\n",
       "      <td>326.014858</td>\n",
       "      <td>2.345234</td>\n",
       "      <td>2019.488497</td>\n",
       "      <td>2.344503</td>\n",
       "      <td>0.000731</td>\n",
       "    </tr>\n",
       "    <tr>\n",
       "      <th>std</th>\n",
       "      <td>9.174419</td>\n",
       "      <td>11.566122</td>\n",
       "      <td>486.766052</td>\n",
       "      <td>0.157833</td>\n",
       "      <td>0.286958</td>\n",
       "      <td>0.157580</td>\n",
       "      <td>0.223167</td>\n",
       "    </tr>\n",
       "    <tr>\n",
       "      <th>min</th>\n",
       "      <td>0.017300</td>\n",
       "      <td>-109.994900</td>\n",
       "      <td>-42.374000</td>\n",
       "      <td>1.294900</td>\n",
       "      <td>2019.022603</td>\n",
       "      <td>1.644059</td>\n",
       "      <td>-1.420441</td>\n",
       "    </tr>\n",
       "    <tr>\n",
       "      <th>25%</th>\n",
       "      <td>33.552000</td>\n",
       "      <td>-95.745100</td>\n",
       "      <td>58.139000</td>\n",
       "      <td>2.284800</td>\n",
       "      <td>2019.219749</td>\n",
       "      <td>2.238117</td>\n",
       "      <td>-0.130479</td>\n",
       "    </tr>\n",
       "    <tr>\n",
       "      <th>50%</th>\n",
       "      <td>39.952500</td>\n",
       "      <td>-88.290000</td>\n",
       "      <td>198.193000</td>\n",
       "      <td>2.350600</td>\n",
       "      <td>2019.482763</td>\n",
       "      <td>2.344741</td>\n",
       "      <td>0.010239</td>\n",
       "    </tr>\n",
       "    <tr>\n",
       "      <th>75%</th>\n",
       "      <td>43.902900</td>\n",
       "      <td>-79.514700</td>\n",
       "      <td>337.553000</td>\n",
       "      <td>2.438500</td>\n",
       "      <td>2019.745776</td>\n",
       "      <td>2.450631</td>\n",
       "      <td>0.149005</td>\n",
       "    </tr>\n",
       "    <tr>\n",
       "      <th>max</th>\n",
       "      <td>83.111700</td>\n",
       "      <td>-40.198100</td>\n",
       "      <td>5088.370000</td>\n",
       "      <td>2.724700</td>\n",
       "      <td>2019.976027</td>\n",
       "      <td>2.995662</td>\n",
       "      <td>1.029241</td>\n",
       "    </tr>\n",
       "  </tbody>\n",
       "</table>\n",
       "</div>"
      ],
      "text/plain": [
       "                Lat           Lon         Hgt_m           ZTD      fracYear  \\\n",
       "count  94549.000000  94549.000000  94549.000000  94549.000000  94549.000000   \n",
       "mean      38.340600    -87.244276    326.014858      2.345234   2019.488497   \n",
       "std        9.174419     11.566122    486.766052      0.157833      0.286958   \n",
       "min        0.017300   -109.994900    -42.374000      1.294900   2019.022603   \n",
       "25%       33.552000    -95.745100     58.139000      2.284800   2019.219749   \n",
       "50%       39.952500    -88.290000    198.193000      2.350600   2019.482763   \n",
       "75%       43.902900    -79.514700    337.553000      2.438500   2019.745776   \n",
       "max       83.111700    -40.198100   5088.370000      2.724700   2019.976027   \n",
       "\n",
       "          ZTD_noisy      ZTD_diff  \n",
       "count  94549.000000  94549.000000  \n",
       "mean       2.344503      0.000731  \n",
       "std        0.157580      0.223167  \n",
       "min        1.644059     -1.420441  \n",
       "25%        2.238117     -0.130479  \n",
       "50%        2.344741      0.010239  \n",
       "75%        2.450631      0.149005  \n",
       "max        2.995662      1.029241  "
      ]
     },
     "execution_count": 42,
     "metadata": {},
     "output_type": "execute_result"
    }
   ],
   "source": [
    "# We can look at summary statistics\n",
    "df.describe()"
   ]
  },
  {
   "cell_type": "code",
   "execution_count": 43,
   "metadata": {},
   "outputs": [
    {
     "data": {
      "text/plain": [
       "ID\n",
       "1LSU    30\n",
       "LSB2    30\n",
       "LOYC    30\n",
       "LOYA    30\n",
       "LOY8    30\n",
       "dtype: int64"
      ]
     },
     "execution_count": 43,
     "metadata": {},
     "output_type": "execute_result"
    }
   ],
   "source": [
    "# We can group variables as needed\n",
    "station_stats = df.value_counts('ID')\n",
    "station_stats.head()"
   ]
  },
  {
   "cell_type": "code",
   "execution_count": 53,
   "metadata": {},
   "outputs": [
    {
     "data": {
      "text/plain": [
       "Text(0.5, 0, 'ZTD (m)')"
      ]
     },
     "execution_count": 53,
     "metadata": {},
     "output_type": "execute_result"
    },
    {
     "data": {
      "image/png": "[encoded data removed]",
      "text/plain": [
       "<Figure size 432x288 with 1 Axes>"
      ]
     },
     "metadata": {
      "needs_background": "light"
     },
     "output_type": "display_data"
    }
   ],
   "source": [
    "# We can create different plots, depending on the type of variable we are interested in\n",
    "df['ZTD'].plot.hist(bins=100)\n",
    "plt.xlabel('ZTD (m)')"
   ]
  },
  {
   "cell_type": "code",
   "execution_count": 52,
   "metadata": {},
   "outputs": [
    {
     "data": {
      "text/plain": [
       "<AxesSubplot:xlabel='ZTD', ylabel='ZTD_noisy'>"
      ]
     },
     "execution_count": 52,
     "metadata": {},
     "output_type": "execute_result"
    },
    {
     "data": {
      "image/png": "[encoded data removed]",
      "text/plain": [
       "<Figure size 432x288 with 1 Axes>"
      ]
     },
     "metadata": {
      "needs_background": "light"
     },
     "output_type": "display_data"
    }
   ],
   "source": [
    "# See the API documentation for keyword arguments, etc.\n",
    "df.plot.scatter(x='ZTD', y='ZTD_noisy', s=1, c='k')"
   ]
  },
  {
   "cell_type": "markdown",
   "metadata": {},
   "source": [
    "### Writing dataframes to a file\n",
    "<a id='write-data'></a>"
   ]
  },
  {
   "cell_type": "markdown",
   "metadata": {},
   "source": [
    "Pandas can write to various file formats, including xcel, JSON, HTML, HDF5, STATA, SQL, and pickle formats. \n",
    "\n",
    "Using the __[Scipy.io](https://docs.scipy.org/doc/scipy/reference/io.html)__ module, you can also export data from Python to a .mat file that can be read in Matlab. \n",
    "\n",
    "You can the Pandas I/O documentation __[here](https://pandas.pydata.org/pandas-docs/stable/user_guide/io.html)__. "
   ]
  },
  {
   "cell_type": "code",
   "execution_count": 18,
   "metadata": {},
   "outputs": [],
   "source": [
    "# We can export a dataframe to a .csv file\n",
    "df_jme2.to_csv(os.path.join(work_dir, 'Station_JME2_ZTD.csv'), index = False)"
   ]
  },
  {
   "cell_type": "code",
   "execution_count": 33,
   "metadata": {},
   "outputs": [],
   "source": [
    "# export to a .mat file by first converting the dataframe to a dictionary\n",
    "import scipy.io as sio\n",
    "sio.savemat('Station_JME2_ZTD.mat', {'data': df_jme2.to_dict()})"
   ]
  },
  {
   "cell_type": "code",
   "execution_count": null,
   "metadata": {},
   "outputs": [],
   "source": []
  }
 ],
 "metadata": {
  "kernelspec": {
   "display_name": "Python 3 (ipykernel)",
   "language": "python",
   "name": "python3"
  },
  "language_info": {
   "codemirror_mode": {
    "name": "ipython",
    "version": 3
   },
   "file_extension": ".py",
   "mimetype": "text/x-python",
   "name": "python",
   "nbconvert_exporter": "python",
   "pygments_lexer": "ipython3",
   "version": "3.10.6"
  },
  "latex_envs": {
   "LaTeX_envs_menu_present": true,
   "autoclose": false,
   "autocomplete": false,
   "bibliofile": "biblio.bib",
   "cite_by": "apalike",
   "current_citInitial": 1,
   "eqLabelWithNumbers": true,
   "eqNumInitial": 1,
   "hotkeys": {
    "equation": "Ctrl-E",
    "itemize": "Ctrl-I"
   },
   "labels_anchors": false,
   "latex_user_defs": false,
   "report_style_numbering": false,
   "user_envs_cfg": false
  }
 },
 "nbformat": 4,
 "nbformat_minor": 4
}
