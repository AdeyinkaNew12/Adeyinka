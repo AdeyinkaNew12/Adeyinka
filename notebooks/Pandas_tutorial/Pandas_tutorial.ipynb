{
 "cells": [
  {
   "cell_type": "markdown",
   "metadata": {
    "heading_collapsed": true
   },
   "source": [
    "# Data Wrangling with Pandas\n",
    "\n",
    "**Author**: Jeremy Maurer - Missouri University of Science and Technology\n",
    "\n",
    "This notebook provides an overview of data manipulation using Pandas, a Python package that provides similar functionality to spreadsheet programs like Excel or Google Sheets.\n",
    "\n",
    "In this notebook we will briefly demonstrate the following capabilities of pandas:\n",
    "- Reading data from comma and space-delimited files into pandas dataframes\n",
    "- Manipulating data in a dataframe\n",
    "- Writing dataframes to files\n",
    "\n",
    "<div class=\"alert alert-info\">\n",
    "    <b>Terminology:</b>    \n",
    "\n",
    "- *dataframe*: The equivalent of a spreadsheet in Python.\n",
    "    \n",
    "- *Series*: A single column of a Pandas dataframe; equivalent to a column in a spreadsheet  \n",
    "\n",
    "- *tropospheric zenith delay*: The precise atmospheric delay satellite signals experience when propagating through the troposphere.  \n",
    "</div>\n",
    "    "
   ]
  },
  {
   "cell_type": "markdown",
   "metadata": {
    "heading_collapsed": true,
    "hidden": true
   },
   "source": [
    "## Table of Contents:\n",
    "<a id='example_TOC'></a>"
   ]
  },
  {
   "cell_type": "markdown",
   "metadata": {
    "hidden": true
   },
   "source": [
    "[**Overview of the pandas package**](#overview)\n",
    "- [1. Reading data from files](#overview_1)\n",
    "- [2. Manipulating data in dataframes](#overview_2)\n",
    "- [3. Writing data to files](#overview_3)\n",
    "\n",
    "[**Manipulating RAiDER data in Pandas**](#examples)\n",
    "- [Example 1. Generate all individual station scatter-plots, as listed under section #4](#example_1)\n",
    "- [Example 2. Generate all basic gridded station plots, as listed under section #5](#example_2)"
   ]
  },
  {
   "cell_type": "markdown",
   "metadata": {
    "heading_collapsed": true,
    "hidden": true
   },
   "source": [
    "## Prep: Initial setup of the notebook"
   ]
  },
  {
   "cell_type": "markdown",
   "metadata": {
    "hidden": true
   },
   "source": [
    "Below we set up the directory structure for this notebook exercise. In addition, we load the required modules into our python environment using the **`import`** command."
   ]
  },
  {
   "cell_type": "code",
   "execution_count": 3,
   "metadata": {
    "hidden": true
   },
   "outputs": [
    {
     "name": "stdout",
     "output_type": "stream",
     "text": [
      "Tutorial directory:  /Users/jeremym/software/RAiDER-docs/notebooks/Pandas_tutorial\n",
      "Work directory:  /Users/jeremym/software/RAiDER-docs/notebooks/Pandas_tutorial\n"
     ]
    }
   ],
   "source": [
    "import numpy as np\n",
    "import os\n",
    "import matplotlib.pyplot as plt\n",
    "import pandas as pd\n",
    "\n",
    "## Defining the home and data directories\n",
    "tutorial_home_dir = os.path.abspath(os.getcwd())\n",
    "work_dir = os.path.abspath(os.getcwd())\n",
    "print(\"Tutorial directory: \", tutorial_home_dir)\n",
    "print(\"Work directory: \", work_dir)"
   ]
  },
  {
   "cell_type": "code",
   "execution_count": 25,
   "metadata": {},
   "outputs": [
    {
     "data": {
      "text/html": [
       "<div>\n",
       "<style scoped>\n",
       "    .dataframe tbody tr th:only-of-type {\n",
       "        vertical-align: middle;\n",
       "    }\n",
       "\n",
       "    .dataframe tbody tr th {\n",
       "        vertical-align: top;\n",
       "    }\n",
       "\n",
       "    .dataframe thead th {\n",
       "        text-align: right;\n",
       "    }\n",
       "</style>\n",
       "<table border=\"1\" class=\"dataframe\">\n",
       "  <thead>\n",
       "    <tr style=\"text-align: right;\">\n",
       "      <th></th>\n",
       "      <th>Datetime</th>\n",
       "      <th>ID</th>\n",
       "      <th>Lat</th>\n",
       "      <th>Lon</th>\n",
       "      <th>Hgt_m</th>\n",
       "      <th>ZTD</th>\n",
       "    </tr>\n",
       "  </thead>\n",
       "  <tbody>\n",
       "    <tr>\n",
       "      <th>0</th>\n",
       "      <td>2019-01-09 06:00:00</td>\n",
       "      <td>1LSU</td>\n",
       "      <td>30.4074</td>\n",
       "      <td>-91.1803</td>\n",
       "      <td>-6.487</td>\n",
       "      <td>2.4517</td>\n",
       "    </tr>\n",
       "    <tr>\n",
       "      <th>1</th>\n",
       "      <td>2019-01-09 06:00:00</td>\n",
       "      <td>1NSU</td>\n",
       "      <td>31.7508</td>\n",
       "      <td>-93.0976</td>\n",
       "      <td>28.071</td>\n",
       "      <td>2.3984</td>\n",
       "    </tr>\n",
       "    <tr>\n",
       "      <th>2</th>\n",
       "      <td>2019-01-09 06:00:00</td>\n",
       "      <td>1ULM</td>\n",
       "      <td>32.5290</td>\n",
       "      <td>-92.0759</td>\n",
       "      <td>16.000</td>\n",
       "      <td>2.3861</td>\n",
       "    </tr>\n",
       "    <tr>\n",
       "      <th>3</th>\n",
       "      <td>2019-01-09 06:00:00</td>\n",
       "      <td>AACR</td>\n",
       "      <td>9.9388</td>\n",
       "      <td>-84.1179</td>\n",
       "      <td>1123.929</td>\n",
       "      <td>2.1691</td>\n",
       "    </tr>\n",
       "    <tr>\n",
       "      <th>4</th>\n",
       "      <td>2019-01-09 06:00:00</td>\n",
       "      <td>ABE1</td>\n",
       "      <td>16.4720</td>\n",
       "      <td>-61.5093</td>\n",
       "      <td>-17.198</td>\n",
       "      <td>2.5406</td>\n",
       "    </tr>\n",
       "  </tbody>\n",
       "</table>\n",
       "</div>"
      ],
      "text/plain": [
       "              Datetime    ID      Lat      Lon     Hgt_m     ZTD\n",
       "0  2019-01-09 06:00:00  1LSU  30.4074 -91.1803    -6.487  2.4517\n",
       "1  2019-01-09 06:00:00  1NSU  31.7508 -93.0976    28.071  2.3984\n",
       "2  2019-01-09 06:00:00  1ULM  32.5290 -92.0759    16.000  2.3861\n",
       "3  2019-01-09 06:00:00  AACR   9.9388 -84.1179  1123.929  2.1691\n",
       "4  2019-01-09 06:00:00  ABE1  16.4720 -61.5093   -17.198  2.5406"
      ]
     },
     "execution_count": 25,
     "metadata": {},
     "output_type": "execute_result"
    }
   ],
   "source": [
    "# Let's start by loading a simple .csv dataset into a pandas dataframe \n",
    "df = pd.read_csv('sample_data.csv')\n",
    "df.head()"
   ]
  },
  {
   "cell_type": "code",
   "execution_count": 26,
   "metadata": {},
   "outputs": [],
   "source": [
    "# It's also possible to read space-delimited and excel files using pandas \n",
    "# df = pd.read_csv('space_delimited_file.txt', delim_whitespace=True)\n",
    "# df = pd.read_excel('excel_file.xlsx') # You may need to install xlrd or openpyxl to read excel files"
   ]
  },
  {
   "cell_type": "code",
   "execution_count": 27,
   "metadata": {},
   "outputs": [
    {
     "name": "stdout",
     "output_type": "stream",
     "text": [
      "RangeIndex(start=0, stop=94549, step=1)\n"
     ]
    }
   ],
   "source": [
    "# Pandas uses an \"index\" to keep track of rows. By default it uses integers\n",
    "print(df.index)"
   ]
  },
  {
   "cell_type": "code",
   "execution_count": 28,
   "metadata": {},
   "outputs": [
    {
     "data": {
      "text/html": [
       "<div>\n",
       "<style scoped>\n",
       "    .dataframe tbody tr th:only-of-type {\n",
       "        vertical-align: middle;\n",
       "    }\n",
       "\n",
       "    .dataframe tbody tr th {\n",
       "        vertical-align: top;\n",
       "    }\n",
       "\n",
       "    .dataframe thead th {\n",
       "        text-align: right;\n",
       "    }\n",
       "</style>\n",
       "<table border=\"1\" class=\"dataframe\">\n",
       "  <thead>\n",
       "    <tr style=\"text-align: right;\">\n",
       "      <th></th>\n",
       "      <th>ID</th>\n",
       "      <th>Lat</th>\n",
       "      <th>Lon</th>\n",
       "      <th>Hgt_m</th>\n",
       "      <th>ZTD</th>\n",
       "    </tr>\n",
       "    <tr>\n",
       "      <th>Datetime</th>\n",
       "      <th></th>\n",
       "      <th></th>\n",
       "      <th></th>\n",
       "      <th></th>\n",
       "      <th></th>\n",
       "    </tr>\n",
       "  </thead>\n",
       "  <tbody>\n",
       "    <tr>\n",
       "      <th>2019-01-09 06:00:00</th>\n",
       "      <td>1LSU</td>\n",
       "      <td>30.4074</td>\n",
       "      <td>-91.1803</td>\n",
       "      <td>-6.487</td>\n",
       "      <td>2.4517</td>\n",
       "    </tr>\n",
       "    <tr>\n",
       "      <th>2019-01-09 06:00:00</th>\n",
       "      <td>1NSU</td>\n",
       "      <td>31.7508</td>\n",
       "      <td>-93.0976</td>\n",
       "      <td>28.071</td>\n",
       "      <td>2.3984</td>\n",
       "    </tr>\n",
       "    <tr>\n",
       "      <th>2019-01-09 06:00:00</th>\n",
       "      <td>1ULM</td>\n",
       "      <td>32.5290</td>\n",
       "      <td>-92.0759</td>\n",
       "      <td>16.000</td>\n",
       "      <td>2.3861</td>\n",
       "    </tr>\n",
       "    <tr>\n",
       "      <th>2019-01-09 06:00:00</th>\n",
       "      <td>AACR</td>\n",
       "      <td>9.9388</td>\n",
       "      <td>-84.1179</td>\n",
       "      <td>1123.929</td>\n",
       "      <td>2.1691</td>\n",
       "    </tr>\n",
       "    <tr>\n",
       "      <th>2019-01-09 06:00:00</th>\n",
       "      <td>ABE1</td>\n",
       "      <td>16.4720</td>\n",
       "      <td>-61.5093</td>\n",
       "      <td>-17.198</td>\n",
       "      <td>2.5406</td>\n",
       "    </tr>\n",
       "  </tbody>\n",
       "</table>\n",
       "</div>"
      ],
      "text/plain": [
       "                       ID      Lat      Lon     Hgt_m     ZTD\n",
       "Datetime                                                     \n",
       "2019-01-09 06:00:00  1LSU  30.4074 -91.1803    -6.487  2.4517\n",
       "2019-01-09 06:00:00  1NSU  31.7508 -93.0976    28.071  2.3984\n",
       "2019-01-09 06:00:00  1ULM  32.5290 -92.0759    16.000  2.3861\n",
       "2019-01-09 06:00:00  AACR   9.9388 -84.1179  1123.929  2.1691\n",
       "2019-01-09 06:00:00  ABE1  16.4720 -61.5093   -17.198  2.5406"
      ]
     },
     "execution_count": 28,
     "metadata": {},
     "output_type": "execute_result"
    }
   ],
   "source": [
    "# You can change the index to a column in the dataframe, for example a datetime\n",
    "df = df.set_index('Datetime')\n",
    "df.head()"
   ]
  },
  {
   "cell_type": "code",
   "execution_count": 29,
   "metadata": {},
   "outputs": [
    {
     "data": {
      "text/html": [
       "<div>\n",
       "<style scoped>\n",
       "    .dataframe tbody tr th:only-of-type {\n",
       "        vertical-align: middle;\n",
       "    }\n",
       "\n",
       "    .dataframe tbody tr th {\n",
       "        vertical-align: top;\n",
       "    }\n",
       "\n",
       "    .dataframe thead th {\n",
       "        text-align: right;\n",
       "    }\n",
       "</style>\n",
       "<table border=\"1\" class=\"dataframe\">\n",
       "  <thead>\n",
       "    <tr style=\"text-align: right;\">\n",
       "      <th></th>\n",
       "      <th>Datetime</th>\n",
       "      <th>ID</th>\n",
       "      <th>Lat</th>\n",
       "      <th>Lon</th>\n",
       "      <th>Hgt_m</th>\n",
       "      <th>ZTD</th>\n",
       "    </tr>\n",
       "  </thead>\n",
       "  <tbody>\n",
       "    <tr>\n",
       "      <th>0</th>\n",
       "      <td>2019-01-09 06:00:00</td>\n",
       "      <td>1LSU</td>\n",
       "      <td>30.4074</td>\n",
       "      <td>-91.1803</td>\n",
       "      <td>-6.487</td>\n",
       "      <td>2.4517</td>\n",
       "    </tr>\n",
       "    <tr>\n",
       "      <th>1</th>\n",
       "      <td>2019-01-09 06:00:00</td>\n",
       "      <td>1NSU</td>\n",
       "      <td>31.7508</td>\n",
       "      <td>-93.0976</td>\n",
       "      <td>28.071</td>\n",
       "      <td>2.3984</td>\n",
       "    </tr>\n",
       "    <tr>\n",
       "      <th>2</th>\n",
       "      <td>2019-01-09 06:00:00</td>\n",
       "      <td>1ULM</td>\n",
       "      <td>32.5290</td>\n",
       "      <td>-92.0759</td>\n",
       "      <td>16.000</td>\n",
       "      <td>2.3861</td>\n",
       "    </tr>\n",
       "    <tr>\n",
       "      <th>3</th>\n",
       "      <td>2019-01-09 06:00:00</td>\n",
       "      <td>AACR</td>\n",
       "      <td>9.9388</td>\n",
       "      <td>-84.1179</td>\n",
       "      <td>1123.929</td>\n",
       "      <td>2.1691</td>\n",
       "    </tr>\n",
       "    <tr>\n",
       "      <th>4</th>\n",
       "      <td>2019-01-09 06:00:00</td>\n",
       "      <td>ABE1</td>\n",
       "      <td>16.4720</td>\n",
       "      <td>-61.5093</td>\n",
       "      <td>-17.198</td>\n",
       "      <td>2.5406</td>\n",
       "    </tr>\n",
       "  </tbody>\n",
       "</table>\n",
       "</div>"
      ],
      "text/plain": [
       "              Datetime    ID      Lat      Lon     Hgt_m     ZTD\n",
       "0  2019-01-09 06:00:00  1LSU  30.4074 -91.1803    -6.487  2.4517\n",
       "1  2019-01-09 06:00:00  1NSU  31.7508 -93.0976    28.071  2.3984\n",
       "2  2019-01-09 06:00:00  1ULM  32.5290 -92.0759    16.000  2.3861\n",
       "3  2019-01-09 06:00:00  AACR   9.9388 -84.1179  1123.929  2.1691\n",
       "4  2019-01-09 06:00:00  ABE1  16.4720 -61.5093   -17.198  2.5406"
      ]
     },
     "execution_count": 29,
     "metadata": {},
     "output_type": "execute_result"
    }
   ],
   "source": [
    "# You can reset the index as well\n",
    "df = df.reset_index()\n",
    "df.head()"
   ]
  },
  {
   "cell_type": "code",
   "execution_count": 30,
   "metadata": {},
   "outputs": [
    {
     "data": {
      "text/html": [
       "<div>\n",
       "<style scoped>\n",
       "    .dataframe tbody tr th:only-of-type {\n",
       "        vertical-align: middle;\n",
       "    }\n",
       "\n",
       "    .dataframe tbody tr th {\n",
       "        vertical-align: top;\n",
       "    }\n",
       "\n",
       "    .dataframe thead th {\n",
       "        text-align: right;\n",
       "    }\n",
       "</style>\n",
       "<table border=\"1\" class=\"dataframe\">\n",
       "  <thead>\n",
       "    <tr style=\"text-align: right;\">\n",
       "      <th></th>\n",
       "      <th>ID</th>\n",
       "      <th>Lat</th>\n",
       "      <th>Lon</th>\n",
       "      <th>Hgt_m</th>\n",
       "      <th>ZTD</th>\n",
       "    </tr>\n",
       "    <tr>\n",
       "      <th>Datetime</th>\n",
       "      <th></th>\n",
       "      <th></th>\n",
       "      <th></th>\n",
       "      <th></th>\n",
       "      <th></th>\n",
       "    </tr>\n",
       "  </thead>\n",
       "  <tbody>\n",
       "    <tr>\n",
       "      <th>2019-01-09 06:00:00</th>\n",
       "      <td>1LSU</td>\n",
       "      <td>30.4074</td>\n",
       "      <td>-91.1803</td>\n",
       "      <td>-6.487</td>\n",
       "      <td>2.4517</td>\n",
       "    </tr>\n",
       "    <tr>\n",
       "      <th>2019-01-09 06:00:00</th>\n",
       "      <td>1NSU</td>\n",
       "      <td>31.7508</td>\n",
       "      <td>-93.0976</td>\n",
       "      <td>28.071</td>\n",
       "      <td>2.3984</td>\n",
       "    </tr>\n",
       "    <tr>\n",
       "      <th>2019-01-09 06:00:00</th>\n",
       "      <td>1ULM</td>\n",
       "      <td>32.5290</td>\n",
       "      <td>-92.0759</td>\n",
       "      <td>16.000</td>\n",
       "      <td>2.3861</td>\n",
       "    </tr>\n",
       "    <tr>\n",
       "      <th>2019-01-09 06:00:00</th>\n",
       "      <td>AACR</td>\n",
       "      <td>9.9388</td>\n",
       "      <td>-84.1179</td>\n",
       "      <td>1123.929</td>\n",
       "      <td>2.1691</td>\n",
       "    </tr>\n",
       "    <tr>\n",
       "      <th>2019-01-09 06:00:00</th>\n",
       "      <td>ABE1</td>\n",
       "      <td>16.4720</td>\n",
       "      <td>-61.5093</td>\n",
       "      <td>-17.198</td>\n",
       "      <td>2.5406</td>\n",
       "    </tr>\n",
       "  </tbody>\n",
       "</table>\n",
       "</div>"
      ],
      "text/plain": [
       "                       ID      Lat      Lon     Hgt_m     ZTD\n",
       "Datetime                                                     \n",
       "2019-01-09 06:00:00  1LSU  30.4074 -91.1803    -6.487  2.4517\n",
       "2019-01-09 06:00:00  1NSU  31.7508 -93.0976    28.071  2.3984\n",
       "2019-01-09 06:00:00  1ULM  32.5290 -92.0759    16.000  2.3861\n",
       "2019-01-09 06:00:00  AACR   9.9388 -84.1179  1123.929  2.1691\n",
       "2019-01-09 06:00:00  ABE1  16.4720 -61.5093   -17.198  2.5406"
      ]
     },
     "execution_count": 30,
     "metadata": {},
     "output_type": "execute_result"
    }
   ],
   "source": [
    "# By default Pandas reads datetimes from files as strings.\n",
    "# we can convert them to actual Python datetimes \n",
    "df['Datetime'] = pd.to_datetime(df['Datetime'])\n",
    "df = df.set_index('Datetime')\n",
    "df.head()"
   ]
  },
  {
   "cell_type": "code",
   "execution_count": 31,
   "metadata": {},
   "outputs": [
    {
     "data": {
      "text/html": [
       "<div>\n",
       "<style scoped>\n",
       "    .dataframe tbody tr th:only-of-type {\n",
       "        vertical-align: middle;\n",
       "    }\n",
       "\n",
       "    .dataframe tbody tr th {\n",
       "        vertical-align: top;\n",
       "    }\n",
       "\n",
       "    .dataframe thead th {\n",
       "        text-align: right;\n",
       "    }\n",
       "</style>\n",
       "<table border=\"1\" class=\"dataframe\">\n",
       "  <thead>\n",
       "    <tr style=\"text-align: right;\">\n",
       "      <th></th>\n",
       "      <th>ID</th>\n",
       "      <th>Lat</th>\n",
       "      <th>Lon</th>\n",
       "      <th>Hgt_m</th>\n",
       "      <th>ZTD</th>\n",
       "    </tr>\n",
       "    <tr>\n",
       "      <th>Datetime</th>\n",
       "      <th></th>\n",
       "      <th></th>\n",
       "      <th></th>\n",
       "      <th></th>\n",
       "      <th></th>\n",
       "    </tr>\n",
       "  </thead>\n",
       "  <tbody>\n",
       "    <tr>\n",
       "      <th>2019-01-09 06:00:00</th>\n",
       "      <td>JME2</td>\n",
       "      <td>18.235</td>\n",
       "      <td>-72.5384</td>\n",
       "      <td>-8.439</td>\n",
       "      <td>2.5576</td>\n",
       "    </tr>\n",
       "    <tr>\n",
       "      <th>2019-01-21 06:00:00</th>\n",
       "      <td>JME2</td>\n",
       "      <td>18.235</td>\n",
       "      <td>-72.5384</td>\n",
       "      <td>-8.439</td>\n",
       "      <td>2.5270</td>\n",
       "    </tr>\n",
       "    <tr>\n",
       "      <th>2019-02-02 06:00:00</th>\n",
       "      <td>JME2</td>\n",
       "      <td>18.235</td>\n",
       "      <td>-72.5384</td>\n",
       "      <td>-8.439</td>\n",
       "      <td>2.5204</td>\n",
       "    </tr>\n",
       "    <tr>\n",
       "      <th>2019-02-14 06:00:00</th>\n",
       "      <td>JME2</td>\n",
       "      <td>18.235</td>\n",
       "      <td>-72.5384</td>\n",
       "      <td>-8.439</td>\n",
       "      <td>2.5530</td>\n",
       "    </tr>\n",
       "    <tr>\n",
       "      <th>2019-02-26 06:00:00</th>\n",
       "      <td>JME2</td>\n",
       "      <td>18.235</td>\n",
       "      <td>-72.5384</td>\n",
       "      <td>-8.439</td>\n",
       "      <td>2.5139</td>\n",
       "    </tr>\n",
       "  </tbody>\n",
       "</table>\n",
       "</div>"
      ],
      "text/plain": [
       "                       ID     Lat      Lon  Hgt_m     ZTD\n",
       "Datetime                                                 \n",
       "2019-01-09 06:00:00  JME2  18.235 -72.5384 -8.439  2.5576\n",
       "2019-01-21 06:00:00  JME2  18.235 -72.5384 -8.439  2.5270\n",
       "2019-02-02 06:00:00  JME2  18.235 -72.5384 -8.439  2.5204\n",
       "2019-02-14 06:00:00  JME2  18.235 -72.5384 -8.439  2.5530\n",
       "2019-02-26 06:00:00  JME2  18.235 -72.5384 -8.439  2.5139"
      ]
     },
     "execution_count": 31,
     "metadata": {},
     "output_type": "execute_result"
    }
   ],
   "source": [
    "# We can get a subset of the data using the column name\n",
    "df_jme2 = df[df['ID'] == 'JME2']\n",
    "df_jme2.head()"
   ]
  },
  {
   "cell_type": "code",
   "execution_count": null,
   "metadata": {},
   "outputs": [],
   "source": [
    "# It's possible to plot data directly using Pandas\n",
    "ax = df_jme2['ZTD'].plot(marker='.')\n",
    "ax.set_xticks(df.index)\n",
    "ax.set_xticklabels(df.index, rotation=45)\n",
    "plt.show()"
   ]
  },
  {
   "cell_type": "code",
   "execution_count": null,
   "metadata": {},
   "outputs": [],
   "source": []
  }
 ],
 "metadata": {
  "kernelspec": {
   "display_name": "Python 3",
   "language": "python",
   "name": "python3"
  },
  "language_info": {
   "codemirror_mode": {
    "name": "ipython",
    "version": 3
   },
   "file_extension": ".py",
   "mimetype": "text/x-python",
   "name": "python",
   "nbconvert_exporter": "python",
   "pygments_lexer": "ipython3",
   "version": "3.7.8"
  },
  "latex_envs": {
   "LaTeX_envs_menu_present": true,
   "autoclose": false,
   "autocomplete": false,
   "bibliofile": "biblio.bib",
   "cite_by": "apalike",
   "current_citInitial": 1,
   "eqLabelWithNumbers": true,
   "eqNumInitial": 1,
   "hotkeys": {
    "equation": "Ctrl-E",
    "itemize": "Ctrl-I"
   },
   "labels_anchors": false,
   "latex_user_defs": false,
   "report_style_numbering": false,
   "user_envs_cfg": false
  }
 },
 "nbformat": 4,
 "nbformat_minor": 2
}
