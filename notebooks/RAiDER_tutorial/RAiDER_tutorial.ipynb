{
 "cells": [
  {
   "cell_type": "markdown",
   "metadata": {},
   "source": [
    "# Getting Started with RAiDER\n",
    "\n",
    "**Author**: Jeremy Maurer, David Bekaert, Simran Sangha, Yang Lei - Jet Propulsion Laboratory, California Institute of Technology\n",
    "\n",
    "This notebook provides an overview of how to get started using the RAiDER package for estimating tropospheric RADAR delays, and other functionality included in the **raiderDelay.py** program. We give an example of how to download and process delays using the ERA-5 weather model for the Los Angeles region. \n",
    "\n",
    "In this notebook, we will demonstrate how to:\n",
    "- Use the raiderDelay.py command-line utility to download and process tropospheric delays\n",
    "- Generate Zenith Delays over the Los Angeles region\n",
    "- Generate Zenith Delays for a set of GNSS stations over the Los Angeles region\n",
    "\n",
    "The notebook will take approximately 15 minutes to run all the way through aside from the data download step. "
   ]
  },
  {
   "cell_type": "markdown",
   "metadata": {},
   "source": [
    "<div class=\"alert alert-warning\">\n",
    "The initial setup (<b>Prep A</b> section) should be run at the start of the notebook. The overview sections do not need to be run in order. \n",
    "</div>\n",
    "\n",
    "<div class=\"alert alert-danger\">\n",
    "<b>Potential Errors:</b> \n",
    "    \n",
    "- Pandas 1.2.0 or greater is required for some of the the plotting examples.   \n",
    "- RAiDER needs to be installed to run this notebook  \n",
    "- This notebook needs to be launched from the RAiDER environment\n",
    "   \n",
    "</div>\n",
    "\n",
    "\n",
    "<div class=\"alert alert-info\">\n",
    "    <b>Terminology:</b>\n",
    "    \n",
    "- *Acquisition*: A single image acquired by a satellite at a particular time\n",
    "- *AOI*: Area of interest: the lat/lon area (in RAiDER a square region) containing your query points\n",
    "- *Interferogram*: An unwrapped image containing the surface displacement accumulated between two acquisitions.\n",
    "- *SLC*: Single-look complex image. A complex single-band raster that contains a single focused RADAR frame from a SAR satellite. For Sentinel-1, SLCs are Level-1 products. \n",
    "- *Weather model*: A reanalysis weather product defining temperature, pressure, and humidity on a regular grid in some coordinate system (e.g., at regular lat/lon intervals in the standard EPSG:4326 reference frame).\n",
    "- *Delay*: The apparent displacement in an interferogram that occurs solely due to changes in weather conditions between two acquisitions.\n",
    "    </div>\n",
    "    "
   ]
  },
  {
   "cell_type": "markdown",
   "metadata": {},
   "source": [
    "## Table of Contents"
   ]
  },
  {
   "cell_type": "markdown",
   "metadata": {},
   "source": [
    "[**Overview of the raiderDelay.py program**](#overview)  \n",
    "[1. Details of the user input options](#user-input)  \n",
    "  \n",
    "[**Example Calculations**](#examples)  \n",
    "[1. Downloading the weather model data using a bounding box](#bounding_box_example)  \n",
    "[2. Compute Zenith Delays using a bounding box](#bounding_box_ztd)  \n",
    "[3. Compute Zenith Delays using a list of GNSS stations](#station_list_example)  \n",
    "[4. Visualizing Zenith Delays for a list of GNSS stations](#station_list_visualization)  \n",
    "[5. Compute Slant Delays using ISCE raster files](#raster_example)  "
   ]
  },
  {
   "cell_type": "markdown",
   "metadata": {},
   "source": [
    "## Prep A: Initial setup of the notebook"
   ]
  },
  {
   "cell_type": "markdown",
   "metadata": {},
   "source": [
    "Please run the cell below prior to running the rest of the notebook to ensure RAiDER is installed and set your working directory. You can change the relevant directories as desired for your system.  "
   ]
  },
  {
   "cell_type": "code",
   "execution_count": 194,
   "metadata": {
    "init_cell": true
   },
   "outputs": [
    {
     "name": "stdout",
     "output_type": "stream",
     "text": [
      "Tutorial directory:  /Users/buzzanga/Software_InSAR/RAiDER-docs_git/notebooks/RAiDER_tutorial\n",
      "Work directory:  /Users/buzzanga/Software_InSAR/RAiDER-docs_git/notebooks/RAiDER_tutorial\n"
     ]
    }
   ],
   "source": [
    "import os\n",
    "import numpy as np\n",
    "import matplotlib.pyplot as plt\n",
    "from mpl_toolkits.axes_grid1 import make_axes_locatable\n",
    "\n",
    "import pandas as pd\n",
    "import xarray as xr\n",
    "from wand.image import Image as WImage\n",
    "\n",
    "## Defining the home and data directories\n",
    "tutorial_home_dir = os.path.abspath(os.getcwd())\n",
    "work_dir = os.path.abspath(os.getcwd())\n",
    "print(\"Tutorial directory: \", tutorial_home_dir)\n",
    "print(\"Work directory: \", work_dir)\n",
    "\n",
    "# Verifying if RAiDER is installed correctly\n",
    "try:\n",
    "    import RAiDER\n",
    "except:\n",
    "    raise Exception('RAiDER is missing from your PYTHONPATH')\n",
    "\n",
    "os.chdir(work_dir)"
   ]
  },
  {
   "cell_type": "markdown",
   "metadata": {},
   "source": [
    "## Overview of the raiderDelay.py program\n",
    "<a id='overview'></a>\n",
    "\n",
    "**`raiderDelay.py`** is a command-line program written in Python that allows for easy downloading and processing of tropospheric weather delays for InSAR correction or comparison with GNSS tropospheric delays.\n",
    "raiderDelay.yaml shows all the different options that can be passed to RAiDER; the software is extensible such that arguments can also be passed for custom workflows if desired. "
   ]
  },
  {
   "cell_type": "code",
   "execution_count": 2,
   "metadata": {},
   "outputs": [
    {
     "name": "stdout",
     "output_type": "stream",
     "text": [
      "usage: raiderDelay.py [-h] [-g] [--start STEP] [--end STEP] [--dostep STEP]\r\n",
      "                      [customTemplateFile]\r\n",
      "\r\n",
      "Command line options for RAiDER processing to calculate tropospheric\r\n",
      "delay from a weather model. Default options can be found by running\r\n",
      "raiderDelay.py --generate_config.\r\n",
      "\r\n",
      "positional arguments:\r\n",
      "  customTemplateFile    custom template with option settings. ignored if the\r\n",
      "                        default smallbaselineApp.cfg is input.\r\n",
      "\r\n",
      "options:\r\n",
      "  -h, --help            show this help message and exit\r\n",
      "  -g, --generate_template\r\n",
      "                        generate default template (if it does not exist) and\r\n",
      "                        exit.\r\n",
      "\r\n",
      "steps processing (start/end/dostep):\r\n",
      "  Command line options for steps processing with names are chosen from the following list:\r\n",
      "  ['load_weather_model', 'calculate_delays']\r\n",
      "  In order to use either --start or --dostep, it is necessary that a\r\n",
      "  previous run was done using one of the steps options to process at least\r\n",
      "  through the step immediately preceding the starting step of the current run.\r\n",
      "\r\n",
      "  --start STEP          start processing at the named step (default:\r\n",
      "                        load_weather_model).\r\n",
      "  --end STEP, --stop STEP\r\n",
      "                        end processing at the named step (default:\r\n",
      "                        calculate_delays)\r\n",
      "  --dostep STEP         run processing at the named step only\r\n",
      "\r\n",
      "Usage examples:\r\n",
      "raiderDelay.py -g\r\n",
      "raiderDelay.py customTemplatefile.cfg\r\n",
      "raiderDelay.py --dostep=load_weather_model\r\n"
     ]
    }
   ],
   "source": [
    "# Running raiderDelay.py -h will print the help menu\n",
    "!raiderDelay.py -h"
   ]
  },
  {
   "cell_type": "markdown",
   "metadata": {},
   "source": [
    "The **load_weather_model** step downloads and stores locally the weather model output according to the user specifications in the yaml file. Note that the files will be not be downloaded again if they already exist.\n",
    "\n",
    "The **calculate_delays** step performs the computation as specified by the [los_group](#los_group)."
   ]
  },
  {
   "attachments": {},
   "cell_type": "markdown",
   "metadata": {},
   "source": [
    "## Details of the user input options\n",
    "<a id='user-input'></a>\n",
    "RAiDER is quite flexible in terms of the input arguments it allows.  \n",
    "Options are specified in a configuration file. Run the following to see an example file.\n",
    "\n",
    "[//]: # \"![example_yaml.png](attachment:350ef453-f997-4a53-b91a-8e7da11fb72b.png)\""
   ]
  },
  {
   "cell_type": "code",
   "execution_count": 63,
   "metadata": {},
   "outputs": [],
   "source": [
    "%pycat raider_example_LA_bbox.yaml"
   ]
  },
  {
   "cell_type": "markdown",
   "metadata": {},
   "source": [
    "### 1. weather_model\n",
    "<a id='weather_model_arg'></a>"
   ]
  },
  {
   "cell_type": "markdown",
   "metadata": {},
   "source": [
    "This parameter is required. \n",
    "\n",
    "RAiDER supports many weather models (though not all are fully tested at this time), including: \n",
    "- [ERA-5](#https://www.ecmwf.int/en/forecasts/datasets/reanalysis-datasets/era5),\n",
    "- ERA-5T,\n",
    "- [ERA-I](#https://www.ecmwf.int/en/forecasts/datasets/reanalysis-datasets/era-interim),\n",
    "- [MERRA-2](#https://gmao.gsfc.nasa.gov/reanalysis/MERRA-2/),\n",
    "- [HRRR](#https://rapidrefresh.noaa.gov/hrrr/),\n",
    "- [GMAO](#https://gmao.gsfc.nasa.gov/),\n",
    "- [HRES](#https://www.ecmwf.int/en/forecasts/datasets/set-i), and\n",
    "- [NCMR](#https://www.ncmrwf.gov.in/)\n",
    "\n",
    "Custom weather models can also be defined using the [template file](https://github.com/dbekaert/RAiDER/blob/8265cfb05678b156f10ad9866f5753fbd91b6f7f/tools/RAiDER/models/template.py) to define a custom reader and adding the model to the [ALLOWED_MODELS](https://github.com/dbekaert/RAiDER/blob/8265cfb05678b156f10ad9866f5753fbd91b6f7f/tools/RAiDER/models/allowed.py) list. \n",
    "Setting up the licensing and API keys for each weather model is different; see [WeatherModels.md](https://github.com/dbekaert/RAiDER/blob/8265cfb05678b156f10ad9866f5753fbd91b6f7f/WeatherModels.md) in the main RAiDER repository for more details. "
   ]
  },
  {
   "cell_type": "markdown",
   "metadata": {},
   "source": [
    "### 2. date_group\n",
    "<a id='date_arg'></a>"
   ]
  },
  {
   "cell_type": "markdown",
   "metadata": {},
   "source": [
    "This argument group is required. \n",
    "\n",
    "Dates are specified as either a single date, a date range, or a date list.  \n",
    "`date_start`: a single date, specified in psuedo-ISO 8601 format: 20180101, 2018-01-01, etc.   \n",
    "`date_end`: a single date, specified in psuedo-ISO 8601 format, last date in range minus one `date_step` to process.  \n",
    "`date_step`: integer, interval in days between date_start and date_end to process.  \n",
    "`date_list`: Python list of dates to process in psuedo-ISO 8601 format.  "
   ]
  },
  {
   "cell_type": "markdown",
   "metadata": {},
   "source": [
    "### 3. time_group\n",
    "<a id='time_arg'></a>"
   ]
  },
  {
   "cell_type": "markdown",
   "metadata": {},
   "source": [
    "This argument is required. \n",
    "\n",
    "`time`: UTC time to process in psuedo-ISO 8601 format. Accepted formats include:\n",
    "1) T020000  \n",
    "2) T02:00:00.000  \n",
    "3) T0200  \n",
    "4) 12:00:00  \n",
    "5) 120000  \n",
    "etc. \n",
    "\n",
    "`time_end`: Last UTC time to consider when processing an orbit file. This option is only needed if an orbit file is specified in the `los_group`"
   ]
  },
  {
   "cell_type": "markdown",
   "metadata": {},
   "source": [
    "### 4. aoi_group\n",
    "<a id='aoi_arg'></a>"
   ]
  },
  {
   "cell_type": "markdown",
   "metadata": {},
   "source": [
    "This group is required if not pulling lat/lon info from a geocoded file (see `los_group` options).\n",
    "\n",
    "RAiDER can handle several different types of AOIs: \n",
    "1) `bounding_box`: a bounding box in SNWE format, in which case the weather model grid nodes are used for x/y or lat/lon locations.  \n",
    "2) `lat_file, lon_file`: Latitude and longitude grid files in gridded radar coordinates; e.g., files generated using ISCE\n",
    "3) `station_file`: a comma-delimited file containing at minimum the columns \"Lat\" and \"Lon,\" and optionally \"Hgt_m.\"  \n",
    "4) `utm_zone, grid_x, grid_y`: A UTM grid with specified x- and y-spacing in meters.  \n",
    "5) A geocoded DEM or line-of-sight files, from which the lat/lon information can be used (see DEM/LOS options below).  "
   ]
  },
  {
   "cell_type": "markdown",
   "metadata": {},
   "source": [
    "### 5. height_group\n",
    "<a id='height_arg'></a>"
   ]
  },
  {
   "cell_type": "markdown",
   "metadata": {},
   "source": [
    "This group is optional. \n",
    "\n",
    "Ellipsoidal heights are needed to compute absolute delays.\n",
    "If using a bounding box or UTM cube, the heights of the weather model grid will be used by default; optionally a list of height_levels may be passed. \n",
    "For lat/lon rasters or a station file, a DEM can either be provided by the user or downloaded on the fly. Options include: \n",
    "1) `dem`: user-provided DEM file to use\n",
    "2) `use_dem_latlon`: This option should be specified as True if the user wishes to compute delays on the DEM grid. **NOTE**: This option is only available for ZTD calculation. \n",
    "3) `height_file_rdr`: A gridded height file in radar coordinates, such as produced by ISCE. This is to be used with corresponding lat/lon gridded files (see the information on [AOI group](#aoi_arg) above). \n",
    "4) `height_levels`: A Python list of height levels. Can be used with the bounding box / UTM grid AOI options and will return delays at the specified heights. \n",
    "5) If no DEM is specified and a bounding box / UTM cube is not used, RAiDER will automatically download the [Copernicus GLO-30 DEM](https://spacedata.copernicus.eu/explore-more/news-archive/-/asset_publisher/Ye8egYeRPLEs/blog/id/434960) on the fly and interpolate to the specified query points in the AOI group. \n",
    "\n",
    "**NOTE**: No DEM is needed for the `bounding_box` option. If nothing is specified under this group, delays will be calculated at the weather model grid nodes. \n",
    "If `height_levels` is specified, delays will be calculated at the weather model grid lat/lon coordinates and the specified heights. \n",
    "If either of these options or a UTM grid is provided, delays are returned as a 3D cube in netcdf file format. "
   ]
  },
  {
   "cell_type": "markdown",
   "metadata": {},
   "source": [
    "### 6. los_group\n",
    "<a id='los_arg'></a>"
   ]
  },
  {
   "cell_type": "markdown",
   "metadata": {},
   "source": [
    "This group is optional and used to specify line-of-sight information. \n",
    "\n",
    "Three options are available in RAiDER. Calculation of: \n",
    "1) Zenith total delays (ZTD) (**Default**)\n",
    "2) Slant total delays (STD) by projection of ZTD using the incidence angle: STD = ZTD / cos(inc)\n",
    "3) STD by  numerically integrating the delays along along raypaths extending from the ground pixels to the top of the atmosphere. The rays follow the look vector at the ground pixel (i.e. no bending). \n",
    "\n",
    "STD parameters:  \n",
    "- `ray_trace`: whether or not to use ray-tracing if line-of-sight files are provided; i.e. option 3 above as opposed to projection, option 2 above.  \n",
    "- `zref`: if `ray_trace` is True, then this is the maximum integration height to use in meters.  \n",
    "\n",
    "STD input options:  \n",
    "- `los_file`: a gridded raster file containing look vector information. Format is specified by `los_convention`.  \n",
    "- `los_convention`: File format of the `los_file`. Options are `isce` or `hyp3`.  \n",
    "- `los_cube`: a NETCDF file containing georeferenced look vectors defined on a 3D grid.  \n",
    "- `orbit_file`: A compatible orbit file to use in determining look vectors.  \n",
    "\n",
    "ISCE format line-of-sight files are two-band files with incidence angle in band 1 and heading in degrees clockwise from north in band 2. \n",
    "\n",
    "**HYP3 format is ??**"
   ]
  },
  {
   "cell_type": "markdown",
   "metadata": {},
   "source": [
    "### 7. runtime_group\n",
    "<a id='runtime_arg'></a>"
   ]
  },
  {
   "cell_type": "markdown",
   "metadata": {},
   "source": [
    "RAiDER allows user flexibility by specifying a variety of runtime parameters, including directories to write to, file formats, and projections. "
   ]
  },
  {
   "cell_type": "markdown",
   "metadata": {},
   "source": [
    "#### raster_format\n",
    "- GDAL-compatible raster image format\n",
    "- Default is GTiff\n",
    "- Only used when outputs are rasters"
   ]
  },
  {
   "cell_type": "markdown",
   "metadata": {},
   "source": [
    "#### output_directory\n",
    "- The location of the output files. **(Default: current directory)**"
   ]
  },
  {
   "cell_type": "markdown",
   "metadata": {},
   "source": [
    "#### weather_model_directory\n",
    "- Specifies the directory of weather model files **(Default: \\<output_location\\>/weather_files)**"
   ]
  },
  {
   "cell_type": "markdown",
   "metadata": {},
   "source": [
    "#### cube_spacing_in_m\n",
    "- spacing for cube over which rays are calculated"
   ]
  },
  {
   "cell_type": "markdown",
   "metadata": {},
   "source": [
    "#### output_projection\n",
    "- CRS (geographic projection) of the output delays. **Default: WGS-84**"
   ]
  },
  {
   "cell_type": "markdown",
   "metadata": {},
   "source": [
    "To see many of the options that RAiDER supports, you can generate the default config file:"
   ]
  },
  {
   "cell_type": "code",
   "execution_count": 14,
   "metadata": {},
   "outputs": [],
   "source": [
    "!raiderDelay.py -g"
   ]
  },
  {
   "cell_type": "markdown",
   "metadata": {},
   "source": [
    "And view it:"
   ]
  },
  {
   "cell_type": "code",
   "execution_count": 64,
   "metadata": {},
   "outputs": [],
   "source": [
    "%pycat raiderDelay.yaml"
   ]
  },
  {
   "cell_type": "markdown",
   "metadata": {},
   "source": [
    "## Examples using RAiDER\n",
    "<a id='runtime_arg'></a>"
   ]
  },
  {
   "cell_type": "markdown",
   "metadata": {},
   "source": [
    "In this section we will demostrate some of the basic capabilities of RAiDER, using a region in southern California shown below. \n",
    "The study area is around Los Angles, chosen to be a a square box 10 x 10 deg centered on 34 deg latitude, -118 deg  longitude. (See the optical image below.)"
   ]
  },
  {
   "cell_type": "markdown",
   "metadata": {},
   "source": [
    "![Optical Image of Los Angeles and surrounding area]()\n",
    "<img src=\"img/optical.png\" width=\"300\" height=\"150\">"
   ]
  },
  {
   "cell_type": "markdown",
   "metadata": {},
   "source": [
    "### Downloading the weather model data using a bounding box\n",
    "<a id='bounding_box_example'></a>"
   ]
  },
  {
   "cell_type": "markdown",
   "metadata": {},
   "source": [
    "RAiDER uses weather model data from third parties to calculate weather model delays. For this excercise we will use the weather model available from the __[Global Model Assimilation Office](https://gmao.gsfc.nasa.gov/weather_prediction/)__ at NASA. \n",
    "\n",
    "You can also try the ERA-5 model from the __[European Medium-range Weather Forecast](https://www.ecmwf.int/)__ if you have access to ECMWF weather models, simply change \"GMAO\" to \"ERA5\"."
   ]
  },
  {
   "cell_type": "code",
   "execution_count": 22,
   "metadata": {},
   "outputs": [],
   "source": [
    "# take a look at the configuration file\n",
    "%pycat raider_example_LA_bbox.yaml"
   ]
  },
  {
   "cell_type": "code",
   "execution_count": 65,
   "metadata": {},
   "outputs": [
    {
     "name": "stdout",
     "output_type": "stream",
     "text": [
      "Run routine processing with raiderDelay.py on steps: ['load_weather_model']\n",
      "Remaining steps: ['calculate_delays']\n",
      "--------------------------------------------------\n",
      "\u001b[33;21mWARNING: Weather model already exists, please remove it (\"['/Users/buzzanga/Software_InSAR/RAiDER-docs_git/notebooks/RAiDER_tutorial/weather_files/GMAO_2020_01_03_T00_00_00.nc']\") if you want to download a new one.\u001b[0m\n",
      "/Users/buzzanga/Miniconda3/envs/RAiDER/lib/python3.10/site-packages/rasterio/__init__.py:304: NotGeoreferencedWarning: Dataset has no geotransform, gcps, or rpcs. The identity matrix will be returned.\n",
      "  dataset = DatasetReader(path, driver=driver, sharing=sharing, **kwargs)\n",
      "Extent of the weather model is (xmin, ymin, xmax, ymax):-123.28, 28.88, -112.97, 39.12\n",
      "Extent of the input is (xmin, ymin, xmax, ymax): -123.00, 29.00, -113.00, 39.00\n",
      "\u001b[33;21mWARNING: The processed weather model file already exists, so I will use that.\u001b[0m\n"
     ]
    }
   ],
   "source": [
    "# download the weather model output\n",
    "!raiderDelay.py raider_example_LA_bbox.yaml --dostep load_weather_model"
   ]
  },
  {
   "cell_type": "markdown",
   "metadata": {},
   "source": [
    "The weather model data is accessed through different APIs depending on the model. GMAO and MERRA-2 are both directly accessed using the OpenDAP interface, while ECMWF models have a custom API. RAiDER automatically uses the appropriate API for the weather model that you specify. Each model has a custom reader defined that is used to access the API and manipulate it to a consistent set of variables."
   ]
  },
  {
   "cell_type": "markdown",
   "metadata": {},
   "source": [
    "By default the weather model files are stored in a subfolder of the local directory called \"weather_files.\" You can change this using the `--weatherFiles` option described above. "
   ]
  },
  {
   "cell_type": "code",
   "execution_count": 27,
   "metadata": {},
   "outputs": [
    {
     "name": "stdout",
     "output_type": "stream",
     "text": [
      "GMAO_2020_01_03_T00_00_00.nc\r\n",
      "GMAO_2020_01_03_T00_00_00_29N_39N_123W_113W.nc\r\n"
     ]
    }
   ],
   "source": [
    "# We can look at the downloaded file\n",
    "!ls weather_files/"
   ]
  },
  {
   "cell_type": "markdown",
   "metadata": {},
   "source": [
    "The downloaded weather model is a NETCDF file, so it can be viewed and manipulated using GDAL or any NETCDF utility or package. "
   ]
  },
  {
   "cell_type": "code",
   "execution_count": 32,
   "metadata": {},
   "outputs": [
    {
     "name": "stdout",
     "output_type": "stream",
     "text": [
      "Driver: netCDF/Network Common Data Format\r\n",
      "Files: weather_files/GMAO_2020_01_03_T00_00_00.nc\r\n",
      "Size is 512, 512\r\n",
      "Metadata:\r\n",
      "  NC_GLOBAL#Conventions=CF-1.6\r\n",
      "  NC_GLOBAL#datetime=2020_01_03T00_00_00\r\n",
      "  NC_GLOBAL#date_created=2022_11_17T09_41_52\r\n",
      "  NC_GLOBAL#title=GMAO weather model data\r\n",
      "Subdatasets:\r\n",
      "  SUBDATASET_1_NAME=NETCDF:\"weather_files/GMAO_2020_01_03_T00_00_00.nc\":H\r\n",
      "  SUBDATASET_1_DESC=[72x41x33] mid_layer_heights (32-bit floating-point)\r\n",
      "  SUBDATASET_2_NAME=NETCDF:\"weather_files/GMAO_2020_01_03_T00_00_00.nc\":QV\r\n",
      "  SUBDATASET_2_DESC=[72x41x33] specific_humidity (32-bit floating-point)\r\n",
      "  SUBDATASET_3_NAME=NETCDF:\"weather_files/GMAO_2020_01_03_T00_00_00.nc\":PL\r\n",
      "  SUBDATASET_3_DESC=[72x41x33] mid_level_pressure (32-bit floating-point)\r\n",
      "  SUBDATASET_4_NAME=NETCDF:\"weather_files/GMAO_2020_01_03_T00_00_00.nc\":T\r\n",
      "  SUBDATASET_4_DESC=[72x41x33] air_temperature (32-bit floating-point)\r\n",
      "Corner Coordinates:\r\n",
      "Upper Left  (    0.0,    0.0)\r\n",
      "Lower Left  (    0.0,  512.0)\r\n",
      "Upper Right (  512.0,    0.0)\r\n",
      "Lower Right (  512.0,  512.0)\r\n",
      "Center      (  256.0,  256.0)\r\n"
     ]
    }
   ],
   "source": [
    "# GDAL provides an API to access the variables and attributes of the file\n",
    "!gdalinfo weather_files/GMAO_2020_01_03_T00_00_00.nc"
   ]
  },
  {
   "cell_type": "markdown",
   "metadata": {},
   "source": [
    "Notice the file contains (usually) four variables: height, pressure, temperature, and humidity. In some cases, pressure is not explicitly stored; instead the variables are provided at fixed pressure levels, or an intermediate variable like geopotential is provided. "
   ]
  },
  {
   "cell_type": "markdown",
   "metadata": {},
   "source": [
    "Notice that no information is printed about the projection or size of the variables. These variables can be queried using GDAL individually to show the projection and shape information. "
   ]
  },
  {
   "cell_type": "code",
   "execution_count": 35,
   "metadata": {},
   "outputs": [
    {
     "name": "stdout",
     "output_type": "stream",
     "text": [
      "Driver: netCDF/Network Common Data Format\r\n",
      "Files: weather_files/GMAO_2020_01_03_T00_00_00.nc\r\n",
      "Size is 33, 41\r\n",
      "Coordinate System is:\r\n",
      "GEOGCRS[\"WGS 84\",\r\n",
      "    ENSEMBLE[\"World Geodetic System 1984 ensemble\",\r\n",
      "        MEMBER[\"World Geodetic System 1984 (Transit)\"],\r\n",
      "        MEMBER[\"World Geodetic System 1984 (G730)\"],\r\n",
      "        MEMBER[\"World Geodetic System 1984 (G873)\"],\r\n",
      "        MEMBER[\"World Geodetic System 1984 (G1150)\"],\r\n",
      "        MEMBER[\"World Geodetic System 1984 (G1674)\"],\r\n",
      "        MEMBER[\"World Geodetic System 1984 (G1762)\"],\r\n",
      "        MEMBER[\"World Geodetic System 1984 (G2139)\"],\r\n",
      "        ELLIPSOID[\"WGS 84\",6378137,298.257223563,\r\n",
      "            LENGTHUNIT[\"metre\",1]],\r\n",
      "        ENSEMBLEACCURACY[2.0]],\r\n",
      "    PRIMEM[\"Greenwich\",0,\r\n",
      "        ANGLEUNIT[\"degree\",0.0174532925199433]],\r\n",
      "    CS[ellipsoidal,2],\r\n",
      "        AXIS[\"geodetic latitude (Lat)\",north,\r\n",
      "            ORDER[1],\r\n",
      "            ANGLEUNIT[\"degree\",0.0174532925199433]],\r\n",
      "        AXIS[\"geodetic longitude (Lon)\",east,\r\n",
      "            ORDER[2],\r\n",
      "            ANGLEUNIT[\"degree\",0.0174532925199433]],\r\n",
      "    USAGE[\r\n",
      "        SCOPE[\"Horizontal component of 3D system.\"],\r\n",
      "        AREA[\"World.\"],\r\n",
      "        BBOX[-90,-180,90,180]],\r\n",
      "    ID[\"EPSG\",4326]]\r\n",
      "Data axis to CRS axis mapping: 2,1\r\n",
      "Origin = (-123.281250000000000,39.125000000000000)\r\n",
      "Pixel Size = (0.312500000000000,-0.250000000000000)\r\n",
      "Metadata:\r\n",
      "  NC_GLOBAL#Conventions=CF-1.6\r\n",
      "  NC_GLOBAL#datetime=2020_01_03T00_00_00\r\n",
      "  NC_GLOBAL#date_created=2022_11_17T09_41_52\r\n",
      "  NC_GLOBAL#title=GMAO weather model data\r\n",
      "  NETCDF_DIM_EXTRA={z}\r\n",
      "  NETCDF_DIM_z_DEF={72,5}\r\n",
      "  NETCDF_DIM_z_VALUES={0,1,2,3,4,5,6,7,8,9,10,11,12,13,14,15,16,17,18,19,20,21,22,23,24,25,26,27,28,29,30,31,32,33,34,35,36,37,38,39,40,41,42,43,44,45,46,47,48,49,50,51,52,53,54,55,56,57,58,59,60,61,62,63,64,65,66,67,68,69,70,71}\r\n",
      "  QV#description=specific humidity\r\n",
      "  QV#grid_mapping=WGS84\r\n",
      "  QV#standard_name=specific_humidity\r\n",
      "  QV#units=kg kg-1\r\n",
      "  QV#_FillValue=-9999\r\n",
      "  WGS84#crs_wkt=GEOGCRS[\"WGS 84\",ENSEMBLE[\"World Geodetic System 1984 ensemble\",MEMBER[\"World Geodetic System 1984 (Transit)\"],MEMBER[\"World Geodetic System 1984 (G730)\"],MEMBER[\"World Geodetic System 1984 (G873)\"],MEMBER[\"World Geodetic System 1984 (G1150)\"],MEMBER[\"World Geodetic System 1984 (G1674)\"],MEMBER[\"World Geodetic System 1984 (G1762)\"],MEMBER[\"World Geodetic System 1984 (G2139)\"],ELLIPSOID[\"WGS 84\",6378137,298.257223563,LENGTHUNIT[\"metre\",1]],ENSEMBLEACCURACY[2.0]],PRIMEM[\"Greenwich\",0,ANGLEUNIT[\"degree\",0.0174532925199433]],CS[ellipsoidal,2],AXIS[\"geodetic latitude (Lat)\",north,ORDER[1],ANGLEUNIT[\"degree\",0.0174532925199433]],AXIS[\"geodetic longitude (Lon)\",east,ORDER[2],ANGLEUNIT[\"degree\",0.0174532925199433]],USAGE[SCOPE[\"Horizontal component of 3D system.\"],AREA[\"World.\"],BBOX[-90,-180,90,180]],ID[\"EPSG\",4326]]\r\n",
      "  WGS84#geographic_crs_name=WGS 84\r\n",
      "  WGS84#GeoTransform=-123.125 0.3125 0.0 29.0 0.0 0.25\r\n",
      "  WGS84#grid_mapping_name=latitude_longitude\r\n",
      "  WGS84#inverse_flattening=298.257223563\r\n",
      "  WGS84#longitude_of_prime_meridian=0\r\n",
      "  WGS84#prime_meridian_name=Greenwich\r\n",
      "  WGS84#reference_ellipsoid_name=WGS 84\r\n",
      "  WGS84#semi_major_axis=6378137\r\n",
      "  WGS84#semi_minor_axis=6356752.314245179\r\n",
      "  x#description=longitude\r\n",
      "  x#standard_name=longitude\r\n",
      "  x#units=degrees_east\r\n",
      "  y#description=latitude\r\n",
      "  y#standard_name=latitude\r\n",
      "  y#units=degrees_north\r\n",
      "  z#description=model layers\r\n",
      "  z#standard_name=model_layers\r\n",
      "  z#units=layer\r\n",
      "Corner Coordinates:\r\n",
      "Upper Left  (-123.2812500,  39.1250000) (123d16'52.50\"W, 39d 7'30.00\"N)\r\n",
      "Lower Left  (-123.2812500,  28.8750000) (123d16'52.50\"W, 28d52'30.00\"N)\r\n",
      "Upper Right (-112.9687500,  39.1250000) (112d58' 7.50\"W, 39d 7'30.00\"N)\r\n",
      "Lower Right (-112.9687500,  28.8750000) (112d58' 7.50\"W, 28d52'30.00\"N)\r\n",
      "Center      (-118.1250000,  34.0000000) (118d 7'30.00\"W, 34d 0' 0.00\"N)\r\n",
      "Band 1 Block=33x41 Type=Float32, ColorInterp=Undefined\r\n",
      "  NoData Value=-9999\r\n",
      "  Unit Type: kg kg-1\r\n",
      "  Metadata:\r\n",
      "    description=specific humidity\r\n",
      "    grid_mapping=WGS84\r\n",
      "    NETCDF_DIM_z=0\r\n",
      "    NETCDF_VARNAME=QV\r\n",
      "    standard_name=specific_humidity\r\n",
      "    units=kg kg-1\r\n",
      "    _FillValue=-9999\r\n",
      "Band 2 Block=33x41 Type=Float32, ColorInterp=Undefined\r\n",
      "  NoData Value=-9999\r\n",
      "  Unit Type: kg kg-1\r\n",
      "  Metadata:\r\n",
      "    description=specific humidity\r\n",
      "    grid_mapping=WGS84\r\n",
      "    NETCDF_DIM_z=1\r\n",
      "    NETCDF_VARNAME=QV\r\n",
      "    standard_name=specific_humidity\r\n",
      "    units=kg kg-1\r\n",
      "    _FillValue=-9999\r\n",
      "Band 3 Block=33x41 Type=Float32, ColorInterp=Undefined\r\n",
      "  NoData Value=-9999\r\n",
      "  Unit Type: kg kg-1\r\n",
      "  Metadata:\r\n",
      "    description=specific humidity\r\n",
      "    grid_mapping=WGS84\r\n",
      "    NETCDF_DIM_z=2\r\n",
      "    NETCDF_VARNAME=QV\r\n",
      "    standard_name=specific_humidity\r\n",
      "    units=kg kg-1\r\n",
      "    _FillValue=-9999\r\n",
      "Band 4 Block=33x41 Type=Float32, ColorInterp=Undefined\r\n",
      "  NoData Value=-9999\r\n",
      "  Unit Type: kg kg-1\r\n",
      "  Metadata:\r\n",
      "    description=specific humidity\r\n",
      "    grid_mapping=WGS84\r\n",
      "    NETCDF_DIM_z=3\r\n",
      "    NETCDF_VARNAME=QV\r\n",
      "    standard_name=specific_humidity\r\n",
      "    units=kg kg-1\r\n",
      "    _FillValue=-9999\r\n",
      "Band 5 Block=33x41 Type=Float32, ColorInterp=Undefined\r\n",
      "  NoData Value=-9999\r\n",
      "  Unit Type: kg kg-1\r\n",
      "  Metadata:\r\n",
      "    description=specific humidity\r\n",
      "    grid_mapping=WGS84\r\n",
      "    NETCDF_DIM_z=4\r\n",
      "    NETCDF_VARNAME=QV\r\n",
      "    standard_name=specific_humidity\r\n",
      "    units=kg kg-1\r\n",
      "    _FillValue=-9999\r\n",
      "Band 6 Block=33x41 Type=Float32, ColorInterp=Undefined\r\n",
      "  NoData Value=-9999\r\n",
      "  Unit Type: kg kg-1\r\n",
      "  Metadata:\r\n",
      "    description=specific humidity\r\n",
      "    grid_mapping=WGS84\r\n",
      "    NETCDF_DIM_z=5\r\n",
      "    NETCDF_VARNAME=QV\r\n",
      "    standard_name=specific_humidity\r\n",
      "    units=kg kg-1\r\n",
      "    _FillValue=-9999\r\n",
      "Band 7 Block=33x41 Type=Float32, ColorInterp=Undefined\r\n",
      "  NoData Value=-9999\r\n",
      "  Unit Type: kg kg-1\r\n",
      "  Metadata:\r\n",
      "    description=specific humidity\r\n",
      "    grid_mapping=WGS84\r\n",
      "    NETCDF_DIM_z=6\r\n",
      "    NETCDF_VARNAME=QV\r\n",
      "    standard_name=specific_humidity\r\n",
      "    units=kg kg-1\r\n",
      "    _FillValue=-9999\r\n",
      "Band 8 Block=33x41 Type=Float32, ColorInterp=Undefined\r\n",
      "  NoData Value=-9999\r\n",
      "  Unit Type: kg kg-1\r\n",
      "  Metadata:\r\n",
      "    description=specific humidity\r\n",
      "    grid_mapping=WGS84\r\n",
      "    NETCDF_DIM_z=7\r\n",
      "    NETCDF_VARNAME=QV\r\n",
      "    standard_name=specific_humidity\r\n",
      "    units=kg kg-1\r\n",
      "    _FillValue=-9999\r\n",
      "Band 9 Block=33x41 Type=Float32, ColorInterp=Undefined\r\n",
      "  NoData Value=-9999\r\n",
      "  Unit Type: kg kg-1\r\n",
      "  Metadata:\r\n",
      "    description=specific humidity\r\n",
      "    grid_mapping=WGS84\r\n",
      "    NETCDF_DIM_z=8\r\n",
      "    NETCDF_VARNAME=QV\r\n",
      "    standard_name=specific_humidity\r\n",
      "    units=kg kg-1\r\n",
      "    _FillValue=-9999\r\n",
      "Band 10 Block=33x41 Type=Float32, ColorInterp=Undefined\r\n",
      "  NoData Value=-9999\r\n",
      "  Unit Type: kg kg-1\r\n",
      "  Metadata:\r\n",
      "    description=specific humidity\r\n",
      "    grid_mapping=WGS84\r\n",
      "    NETCDF_DIM_z=9\r\n",
      "    NETCDF_VARNAME=QV\r\n",
      "    standard_name=specific_humidity\r\n",
      "    units=kg kg-1\r\n",
      "    _FillValue=-9999\r\n",
      "Band 11 Block=33x41 Type=Float32, ColorInterp=Undefined\r\n",
      "  NoData Value=-9999\r\n",
      "  Unit Type: kg kg-1\r\n",
      "  Metadata:\r\n",
      "    description=specific humidity\r\n",
      "    grid_mapping=WGS84\r\n",
      "    NETCDF_DIM_z=10\r\n",
      "    NETCDF_VARNAME=QV\r\n",
      "    standard_name=specific_humidity\r\n",
      "    units=kg kg-1\r\n",
      "    _FillValue=-9999\r\n",
      "Band 12 Block=33x41 Type=Float32, ColorInterp=Undefined\r\n",
      "  NoData Value=-9999\r\n",
      "  Unit Type: kg kg-1\r\n",
      "  Metadata:\r\n",
      "    description=specific humidity\r\n",
      "    grid_mapping=WGS84\r\n",
      "    NETCDF_DIM_z=11\r\n",
      "    NETCDF_VARNAME=QV\r\n",
      "    standard_name=specific_humidity\r\n",
      "    units=kg kg-1\r\n",
      "    _FillValue=-9999\r\n",
      "Band 13 Block=33x41 Type=Float32, ColorInterp=Undefined\r\n",
      "  NoData Value=-9999\r\n",
      "  Unit Type: kg kg-1\r\n",
      "  Metadata:\r\n",
      "    description=specific humidity\r\n",
      "    grid_mapping=WGS84\r\n",
      "    NETCDF_DIM_z=12\r\n",
      "    NETCDF_VARNAME=QV\r\n",
      "    standard_name=specific_humidity\r\n",
      "    units=kg kg-1\r\n",
      "    _FillValue=-9999\r\n",
      "Band 14 Block=33x41 Type=Float32, ColorInterp=Undefined\r\n",
      "  NoData Value=-9999\r\n",
      "  Unit Type: kg kg-1\r\n",
      "  Metadata:\r\n",
      "    description=specific humidity\r\n",
      "    grid_mapping=WGS84\r\n",
      "    NETCDF_DIM_z=13\r\n",
      "    NETCDF_VARNAME=QV\r\n",
      "    standard_name=specific_humidity\r\n",
      "    units=kg kg-1\r\n",
      "    _FillValue=-9999\r\n",
      "Band 15 Block=33x41 Type=Float32, ColorInterp=Undefined\r\n",
      "  NoData Value=-9999\r\n",
      "  Unit Type: kg kg-1\r\n",
      "  Metadata:\r\n",
      "    description=specific humidity\r\n",
      "    grid_mapping=WGS84\r\n",
      "    NETCDF_DIM_z=14\r\n",
      "    NETCDF_VARNAME=QV\r\n",
      "    standard_name=specific_humidity\r\n",
      "    units=kg kg-1\r\n",
      "    _FillValue=-9999\r\n",
      "Band 16 Block=33x41 Type=Float32, ColorInterp=Undefined\r\n",
      "  NoData Value=-9999\r\n",
      "  Unit Type: kg kg-1\r\n",
      "  Metadata:\r\n",
      "    description=specific humidity\r\n",
      "    grid_mapping=WGS84\r\n",
      "    NETCDF_DIM_z=15\r\n",
      "    NETCDF_VARNAME=QV\r\n",
      "    standard_name=specific_humidity\r\n",
      "    units=kg kg-1\r\n",
      "    _FillValue=-9999\r\n",
      "Band 17 Block=33x41 Type=Float32, ColorInterp=Undefined\r\n",
      "  NoData Value=-9999\r\n",
      "  Unit Type: kg kg-1\r\n",
      "  Metadata:\r\n",
      "    description=specific humidity\r\n",
      "    grid_mapping=WGS84\r\n",
      "    NETCDF_DIM_z=16\r\n",
      "    NETCDF_VARNAME=QV\r\n",
      "    standard_name=specific_humidity\r\n",
      "    units=kg kg-1\r\n",
      "    _FillValue=-9999\r\n",
      "Band 18 Block=33x41 Type=Float32, ColorInterp=Undefined\r\n",
      "  NoData Value=-9999\r\n",
      "  Unit Type: kg kg-1\r\n",
      "  Metadata:\r\n",
      "    description=specific humidity\r\n",
      "    grid_mapping=WGS84\r\n",
      "    NETCDF_DIM_z=17\r\n",
      "    NETCDF_VARNAME=QV\r\n",
      "    standard_name=specific_humidity\r\n",
      "    units=kg kg-1\r\n",
      "    _FillValue=-9999\r\n",
      "Band 19 Block=33x41 Type=Float32, ColorInterp=Undefined\r\n",
      "  NoData Value=-9999\r\n",
      "  Unit Type: kg kg-1\r\n",
      "  Metadata:\r\n",
      "    description=specific humidity\r\n",
      "    grid_mapping=WGS84\r\n",
      "    NETCDF_DIM_z=18\r\n",
      "    NETCDF_VARNAME=QV\r\n",
      "    standard_name=specific_humidity\r\n",
      "    units=kg kg-1\r\n",
      "    _FillValue=-9999\r\n",
      "Band 20 Block=33x41 Type=Float32, ColorInterp=Undefined\r\n",
      "  NoData Value=-9999\r\n",
      "  Unit Type: kg kg-1\r\n",
      "  Metadata:\r\n",
      "    description=specific humidity\r\n",
      "    grid_mapping=WGS84\r\n",
      "    NETCDF_DIM_z=19\r",
      "\r\n",
      "    NETCDF_VARNAME=QV\r\n",
      "    standard_name=specific_humidity\r\n",
      "    units=kg kg-1\r\n",
      "    _FillValue=-9999\r\n",
      "Band 21 Block=33x41 Type=Float32, ColorInterp=Undefined\r\n",
      "  NoData Value=-9999\r\n",
      "  Unit Type: kg kg-1\r\n",
      "  Metadata:\r\n",
      "    description=specific humidity\r\n",
      "    grid_mapping=WGS84\r\n",
      "    NETCDF_DIM_z=20\r\n",
      "    NETCDF_VARNAME=QV\r\n",
      "    standard_name=specific_humidity\r\n",
      "    units=kg kg-1\r\n",
      "    _FillValue=-9999\r\n",
      "Band 22 Block=33x41 Type=Float32, ColorInterp=Undefined\r\n",
      "  NoData Value=-9999\r\n",
      "  Unit Type: kg kg-1\r\n",
      "  Metadata:\r\n",
      "    description=specific humidity\r\n",
      "    grid_mapping=WGS84\r\n",
      "    NETCDF_DIM_z=21\r\n",
      "    NETCDF_VARNAME=QV\r\n",
      "    standard_name=specific_humidity\r\n",
      "    units=kg kg-1\r\n",
      "    _FillValue=-9999\r\n",
      "Band 23 Block=33x41 Type=Float32, ColorInterp=Undefined\r\n",
      "  NoData Value=-9999\r\n",
      "  Unit Type: kg kg-1\r\n",
      "  Metadata:\r\n",
      "    description=specific humidity\r\n",
      "    grid_mapping=WGS84\r\n",
      "    NETCDF_DIM_z=22\r\n",
      "    NETCDF_VARNAME=QV\r\n",
      "    standard_name=specific_humidity\r\n",
      "    units=kg kg-1\r\n",
      "    _FillValue=-9999\r\n",
      "Band 24 Block=33x41 Type=Float32, ColorInterp=Undefined\r\n",
      "  NoData Value=-9999\r\n",
      "  Unit Type: kg kg-1\r\n",
      "  Metadata:\r\n",
      "    description=specific humidity\r\n",
      "    grid_mapping=WGS84\r\n",
      "    NETCDF_DIM_z=23\r\n",
      "    NETCDF_VARNAME=QV\r\n",
      "    standard_name=specific_humidity\r\n",
      "    units=kg kg-1\r\n",
      "    _FillValue=-9999\r\n",
      "Band 25 Block=33x41 Type=Float32, ColorInterp=Undefined\r\n",
      "  NoData Value=-9999\r\n",
      "  Unit Type: kg kg-1\r\n",
      "  Metadata:\r\n",
      "    description=specific humidity\r\n",
      "    grid_mapping=WGS84\r\n",
      "    NETCDF_DIM_z=24\r\n",
      "    NETCDF_VARNAME=QV\r\n",
      "    standard_name=specific_humidity\r\n",
      "    units=kg kg-1\r\n",
      "    _FillValue=-9999\r\n",
      "Band 26 Block=33x41 Type=Float32, ColorInterp=Undefined\r\n",
      "  NoData Value=-9999\r\n",
      "  Unit Type: kg kg-1\r\n",
      "  Metadata:\r\n",
      "    description=specific humidity\r\n",
      "    grid_mapping=WGS84\r\n",
      "    NETCDF_DIM_z=25\r\n",
      "    NETCDF_VARNAME=QV\r\n",
      "    standard_name=specific_humidity\r\n",
      "    units=kg kg-1\r\n",
      "    _FillValue=-9999\r\n",
      "Band 27 Block=33x41 Type=Float32, ColorInterp=Undefined\r\n",
      "  NoData Value=-9999\r\n",
      "  Unit Type: kg kg-1\r\n",
      "  Metadata:\r\n",
      "    description=specific humidity\r\n",
      "    grid_mapping=WGS84\r\n",
      "    NETCDF_DIM_z=26\r\n",
      "    NETCDF_VARNAME=QV\r\n",
      "    standard_name=specific_humidity\r\n",
      "    units=kg kg-1\r\n",
      "    _FillValue=-9999\r\n",
      "Band 28 Block=33x41 Type=Float32, ColorInterp=Undefined\r\n",
      "  NoData Value=-9999\r\n",
      "  Unit Type: kg kg-1\r\n",
      "  Metadata:\r\n",
      "    description=specific humidity\r\n",
      "    grid_mapping=WGS84\r\n",
      "    NETCDF_DIM_z=27\r\n",
      "    NETCDF_VARNAME=QV\r\n",
      "    standard_name=specific_humidity\r\n",
      "    units=kg kg-1\r\n",
      "    _FillValue=-9999\r\n",
      "Band 29 Block=33x41 Type=Float32, ColorInterp=Undefined\r\n",
      "  NoData Value=-9999\r\n",
      "  Unit Type: kg kg-1\r\n",
      "  Metadata:\r\n",
      "    description=specific humidity\r\n",
      "    grid_mapping=WGS84\r\n",
      "    NETCDF_DIM_z=28\r\n",
      "    NETCDF_VARNAME=QV\r\n",
      "    standard_name=specific_humidity\r\n",
      "    units=kg kg-1\r\n",
      "    _FillValue=-9999\r\n",
      "Band 30 Block=33x41 Type=Float32, ColorInterp=Undefined\r\n",
      "  NoData Value=-9999\r\n",
      "  Unit Type: kg kg-1\r\n",
      "  Metadata:\r\n",
      "    description=specific humidity\r\n",
      "    grid_mapping=WGS84\r\n",
      "    NETCDF_DIM_z=29\r\n",
      "    NETCDF_VARNAME=QV\r\n",
      "    standard_name=specific_humidity\r\n",
      "    units=kg kg-1\r\n",
      "    _FillValue=-9999\r\n",
      "Band 31 Block=33x41 Type=Float32, ColorInterp=Undefined\r\n",
      "  NoData Value=-9999\r\n",
      "  Unit Type: kg kg-1\r\n",
      "  Metadata:\r\n",
      "    description=specific humidity\r\n",
      "    grid_mapping=WGS84\r\n",
      "    NETCDF_DIM_z=30\r\n",
      "    NETCDF_VARNAME=QV\r\n",
      "    standard_name=specific_humidity\r\n",
      "    units=kg kg-1\r\n",
      "    _FillValue=-9999\r\n",
      "Band 32 Block=33x41 Type=Float32, ColorInterp=Undefined\r\n",
      "  NoData Value=-9999\r\n",
      "  Unit Type: kg kg-1\r\n",
      "  Metadata:\r\n",
      "    description=specific humidity\r\n",
      "    grid_mapping=WGS84\r\n",
      "    NETCDF_DIM_z=31\r\n",
      "    NETCDF_VARNAME=QV\r\n",
      "    standard_name=specific_humidity\r\n",
      "    units=kg kg-1\r\n",
      "    _FillValue=-9999\r\n",
      "Band 33 Block=33x41 Type=Float32, ColorInterp=Undefined\r\n",
      "  NoData Value=-9999\r\n",
      "  Unit Type: kg kg-1\r\n",
      "  Metadata:\r\n",
      "    description=specific humidity\r\n",
      "    grid_mapping=WGS84\r\n",
      "    NETCDF_DIM_z=32\r\n",
      "    NETCDF_VARNAME=QV\r\n",
      "    standard_name=specific_humidity\r\n",
      "    units=kg kg-1\r\n",
      "    _FillValue=-9999\r\n",
      "Band 34 Block=33x41 Type=Float32, ColorInterp=Undefined\r\n",
      "  NoData Value=-9999\r\n",
      "  Unit Type: kg kg-1\r\n",
      "  Metadata:\r\n",
      "    description=specific humidity\r\n",
      "    grid_mapping=WGS84\r\n",
      "    NETCDF_DIM_z=33\r\n",
      "    NETCDF_VARNAME=QV\r\n",
      "    standard_name=specific_humidity\r\n",
      "    units=kg kg-1\r\n",
      "    _FillValue=-9999\r\n",
      "Band 35 Block=33x41 Type=Float32, ColorInterp=Undefined\r\n",
      "  NoData Value=-9999\r\n",
      "  Unit Type: kg kg-1\r\n",
      "  Metadata:\r\n",
      "    description=specific humidity\r\n",
      "    grid_mapping=WGS84\r\n",
      "    NETCDF_DIM_z=34\r\n",
      "    NETCDF_VARNAME=QV\r\n",
      "    standard_name=specific_humidity\r\n",
      "    units=kg kg-1\r\n",
      "    _FillValue=-9999\r\n",
      "Band 36 Block=33x41 Type=Float32, ColorInterp=Undefined\r\n",
      "  NoData Value=-9999\r\n",
      "  Unit Type: kg kg-1\r\n",
      "  Metadata:\r\n",
      "    description=specific humidity\r\n",
      "    grid_mapping=WGS84\r\n",
      "    NETCDF_DIM_z=35\r\n",
      "    NETCDF_VARNAME=QV\r\n",
      "    standard_name=specific_humidity\r\n",
      "    units=kg kg-1\r\n",
      "    _FillValue=-9999\r\n",
      "Band 37 Block=33x41 Type=Float32, ColorInterp=Undefined\r\n",
      "  NoData Value=-9999\r\n",
      "  Unit Type: kg kg-1\r\n",
      "  Metadata:\r\n",
      "    description=specific humidity\r\n",
      "    grid_mapping=WGS84\r\n",
      "    NETCDF_DIM_z=36\r\n",
      "    NETCDF_VARNAME=QV\r\n",
      "    standard_name=specific_humidity\r\n",
      "    units=kg kg-1\r\n",
      "    _FillValue=-9999\r\n",
      "Band 38 Block=33x41 Type=Float32, ColorInterp=Undefined\r\n",
      "  NoData Value=-9999\r\n",
      "  Unit Type: kg kg-1\r\n",
      "  Metadata:\r\n",
      "    description=specific humidity\r\n",
      "    grid_mapping=WGS84\r\n",
      "    NETCDF_DIM_z=37\r\n",
      "    NETCDF_VARNAME=QV\r\n",
      "    standard_name=specific_humidity\r\n",
      "    units=kg kg-1\r\n",
      "    _FillValue=-9999\r\n",
      "Band 39 Block=33x41 Type=Float32, ColorInterp=Undefined\r\n",
      "  NoData Value=-9999\r\n",
      "  Unit Type: kg kg-1\r\n",
      "  Metadata:\r\n",
      "    description=specific humidity\r\n",
      "    grid_mapping=WGS84\r\n",
      "    NETCDF_DIM_z=38\r\n",
      "    NETCDF_VARNAME=QV\r\n",
      "    standard_name=specific_humidity\r\n",
      "    units=kg kg-1\r\n",
      "    _FillValue=-9999\r\n",
      "Band 40 Block=33x41 Type=Float32, ColorInterp=Undefined\r\n",
      "  NoData Value=-9999\r\n",
      "  Unit Type: kg kg-1\r\n",
      "  Metadata:\r\n",
      "    description=specific humidity\r\n",
      "    grid_mapping=WGS84\r\n",
      "    NETCDF_DIM_z=39\r\n",
      "    NETCDF_VARNAME=QV\r\n",
      "    standard_name=specific_humidity\r\n",
      "    units=kg kg-1\r\n",
      "    _FillValue=-9999\r\n",
      "Band 41 Block=33x41 Type=Float32, ColorInterp=Undefined\r\n",
      "  NoData Value=-9999\r\n",
      "  Unit Type: kg kg-1\r\n",
      "  Metadata:\r\n",
      "    description=specific humidity\r\n",
      "    grid_mapping=WGS84\r\n",
      "    NETCDF_DIM_z=40\r\n",
      "    NETCDF_VARNAME=QV\r\n",
      "    standard_name=specific_humidity\r\n",
      "    units=kg kg-1\r\n",
      "    _FillValue=-9999\r\n",
      "Band 42 Block=33x41 Type=Float32, ColorInterp=Undefined\r\n",
      "  NoData Value=-9999\r\n",
      "  Unit Type: kg kg-1\r\n",
      "  Metadata:\r\n",
      "    description=specific humidity\r\n",
      "    grid_mapping=WGS84\r\n",
      "    NETCDF_DIM_z=41\r\n",
      "    NETCDF_VARNAME=QV\r\n",
      "    standard_name=specific_humidity\r\n",
      "    units=kg kg-1\r\n",
      "    _FillValue=-9999\r\n",
      "Band 43 Block=33x41 Type=Float32, ColorInterp=Undefined\r\n",
      "  NoData Value=-9999\r\n",
      "  Unit Type: kg kg-1\r\n",
      "  Metadata:\r\n",
      "    description=specific humidity\r\n",
      "    grid_mapping=WGS84\r\n",
      "    NETCDF_DIM_z=42\r\n",
      "    NETCDF_VARNAME=QV\r\n",
      "    standard_name=specific_humidity\r\n",
      "    units=kg kg-1\r\n",
      "    _FillValue=-9999\r\n",
      "Band 44 Block=33x41 Type=Float32, ColorInterp=Undefined\r\n",
      "  NoData Value=-9999\r\n",
      "  Unit Type: kg kg-1\r\n",
      "  Metadata:\r\n",
      "    description=specific humidity\r\n",
      "    grid_mapping=WGS84\r\n",
      "    NETCDF_DIM_z=43\r\n",
      "    NETCDF_VARNAME=QV\r\n",
      "    standard_name=specific_humidity\r\n",
      "    units=kg kg-1\r\n",
      "    _FillValue=-9999\r\n",
      "Band 45 Block=33x41 Type=Float32, ColorInterp=Undefined\r\n",
      "  NoData Value=-9999\r\n",
      "  Unit Type: kg kg-1\r\n",
      "  Metadata:\r\n",
      "    description=specific humidity\r\n",
      "    grid_mapping=WGS84\r\n",
      "    NETCDF_DIM_z=44\r\n",
      "    NETCDF_VARNAME=QV\r\n",
      "    standard_name=specific_humidity\r\n",
      "    units=kg kg-1\r\n",
      "    _FillValue=-9999\r\n",
      "Band 46 Block=33x41 Type=Float32, ColorInterp=Undefined\r\n",
      "  NoData Value=-9999\r\n",
      "  Unit Type: kg kg-1\r\n",
      "  Metadata:\r\n",
      "    description=specific humidity\r\n",
      "    grid_mapping=WGS84\r\n",
      "    NETCDF_DIM_z=45\r\n",
      "    NETCDF_VARNAME=QV\r\n",
      "    standard_name=specific_humidity\r\n",
      "    units=kg kg-1\r\n",
      "    _FillValue=-9999\r\n",
      "Band 47 Block=33x41 Type=Float32, ColorInterp=Undefined\r\n",
      "  NoData Value=-9999\r\n",
      "  Unit Type: kg kg-1\r\n",
      "  Metadata:\r\n",
      "    description=specific humidity\r\n",
      "    grid_mapping=WGS84\r\n",
      "    NETCDF_DIM_z=46\r\n",
      "    NETCDF_VARNAME=QV\r\n",
      "    standard_name=specific_humidity\r\n",
      "    units=kg kg-1\r\n",
      "    _FillValue=-9999\r\n",
      "Band 48 Block=33x41 Type=Float32, ColorInterp=Undefined\r\n",
      "  NoData Value=-9999\r\n",
      "  Unit Type: kg kg-1\r\n",
      "  Metadata:\r\n",
      "    description=specific humidity\r\n",
      "    grid_mapping=WGS84\r\n",
      "    NETCDF_DIM_z=47\r\n",
      "    NETCDF_VARNAME=QV\r\n",
      "    standard_name=specific_humidity\r\n",
      "    units=kg kg-1\r\n",
      "    _FillValue=-9999\r\n",
      "Band 49 Block=33x41 Type=Float32, ColorInterp=Undefined\r\n",
      "  NoData Value=-9999\r\n",
      "  Unit Type: kg kg-1\r\n",
      "  Metadata:\r\n",
      "    description=specific humidity\r\n",
      "    grid_mapping=WGS84\r\n",
      "    NETCDF_DIM_z=48\r\n",
      "    NETCDF_VARNAME=QV\r\n",
      "    standard_name=specific_humidity\r\n",
      "    units=kg kg-1\r\n",
      "    _FillValue=-9999\r\n",
      "Band 50 Block=33x41 Type=Float32, ColorInterp=Undefined\r\n",
      "  NoData Value=-9999\r\n",
      "  Unit Type: kg kg-1\r\n",
      "  Metadata:\r\n",
      "    description=specific humidity\r\n",
      "    grid_mapping=WGS84\r\n",
      "    NETCDF_DIM_z=49\r\n",
      "    NETCDF_VARNAME=QV\r\n",
      "    standard_name=specific_humidity\r\n",
      "    units=kg kg-1\r\n",
      "    _FillValue=-9999\r\n",
      "Band 51 Block=33x41 Type=Float32, ColorInterp=Undefined\r\n",
      "  NoData Value=-9999\r\n",
      "  Unit Type: kg kg-1\r\n",
      "  Metadata:\r\n",
      "    description=specific humidity\r\n",
      "    grid_mapping=WGS84\r\n",
      "    NETCDF_DIM_z=50\r\n",
      "    NETCDF_VARNAME=QV\r\n",
      "    standard_name=specific_humidity\r\n",
      "    units=kg kg-1\r\n",
      "    _FillValue=-9999\r\n",
      "Band 52 Block=33x41 Type=Float32, ColorInterp=Undefined\r\n",
      "  NoData Value=-9999\r\n",
      "  Unit Type: kg kg-1\r\n",
      "  Metadata:\r\n",
      "    description=specific humidity\r\n",
      "    grid_mapping=WGS84\r\n",
      "    NETCDF_DIM_z=51\r\n",
      "    NETCDF_VARNAME=QV\r\n",
      "    standard_name=specific_humidity\r\n",
      "    units=kg kg-1\r\n",
      "    _FillValue=-9999\r\n",
      "Band 53 Block=33x41 Type=Float32, ColorInterp=Undefined\r\n",
      "  NoData Value=-9999\r\n",
      "  Unit Type: kg kg-1\r\n",
      "  Metadata:\r\n",
      "    description=specific humidity\r\n",
      "    grid_mapping=WGS84\r\n",
      "    NETCDF_DIM_z=52\r\n",
      "    NETCDF_VARNAME=QV\r\n",
      "    standard_name=specific_humidity\r\n",
      "    units=kg kg-1\r\n",
      "    _FillValue=-9999\r\n",
      "Band 54 Block=33x41 Type=Float32, ColorInterp=Undefined\r\n",
      "  NoData Value=-9999\r\n",
      "  Unit Type: kg kg-1\r\n",
      "  Metadata:\r\n",
      "    description=specific humidity\r\n",
      "    grid_mapping=WGS84\r\n",
      "    NETCDF_DIM_z=53\r\n",
      "    NETCDF_VARNAME=QV\r\n",
      "    standard_name=specific_humidity\r\n",
      "    units=kg kg-1\r\n",
      "    _FillValue=-9999\r\n",
      "Band 55 Block=33x41 Type=Float32, ColorInterp=Undefined\r\n",
      "  NoData Value=-9999\r\n",
      "  Unit Type: kg kg-1\r\n",
      "  Metadata:\r\n",
      "    description=specific humidity\r\n",
      "    grid_mapping=WGS84\r\n",
      "    NETCDF_DIM_z=54\r\n",
      "    NETCDF_VARNAME=QV\r\n",
      "    standard_name=specific_humidity\r\n",
      "    units=kg kg-1\r\n",
      "    _FillValue=-9999\r\n",
      "Band 56 Block=33x41 Type=Float32, ColorInterp=Undefined\r\n",
      "  NoData Value=-9999\r\n",
      "  Unit Type: kg kg-1\r\n",
      "  Metadata:\r\n",
      "    description=specific humidity\r\n",
      "    grid_mapping=WGS84\r\n",
      "    NETCDF_DIM_z=55\r\n",
      "    NETCDF_VARNAME=QV\r\n",
      "    standard_name=specific_humidity\r\n",
      "    units=kg kg-1\r\n",
      "    _FillValue=-9999\r\n",
      "Band 57 Block=33x41 Type=Float32, ColorInterp=Undefined\r\n",
      "  NoData Value=-9999\r\n",
      "  Unit Type: kg kg-1\r\n",
      "  Metadata:\r\n",
      "    description=specific humidity\r\n",
      "    grid_mapping=WGS84\r\n",
      "    NETCDF_DIM_z=56\r\n",
      "    NETCDF_VARNAME=QV\r\n",
      "    standard_name=specific_humidity\r\n",
      "    units=kg kg-1\r\n",
      "    _FillValue=-9999\r\n",
      "Band 58 Block=33x41 Type=Float32, ColorInterp=Undefined\r\n",
      "  NoData Value=-9999\r\n",
      "  Unit Type: kg kg-1\r\n",
      "  Metadata:\r\n",
      "    description=specific humidity\r\n",
      "    grid_mapping=WGS84\r\n",
      "    NETCDF_DIM_z=57\r\n",
      "    NETCDF_VARNAME=QV\r\n",
      "    standard_name=specific_humidity\r\n",
      "    units=kg kg-1\r\n",
      "    _FillValue=-9999\r\n",
      "Band 59 Block=33x41 Type=Float32, ColorInterp=Undefined\r\n",
      "  NoData Value=-9999\r\n",
      "  Unit Type: kg kg-1\r\n",
      "  Metadata:\r\n",
      "    description=specific humidity\r\n",
      "    grid_mapping=WGS84\r\n",
      "    NETCDF_DIM_z=58\r\n",
      "    NETCDF_VARNAME=QV\r\n",
      "    standard_name=specific_humidity\r\n",
      "    units=kg kg-1\r\n",
      "    _FillValue=-9999\r\n",
      "Band 60 Block=33x41 Type=Float32, ColorInterp=Undefined\r\n",
      "  NoData Value=-9999\r\n",
      "  Unit Type: kg kg-1\r\n",
      "  Metadata:\r\n",
      "    description=specific humidity\r\n",
      "    grid_mapping=WGS84\r\n",
      "    NETCDF_DIM_z=59\r\n",
      "    NETCDF_VARNAME=QV\r\n",
      "    standard_name=specific_humidity\r\n",
      "    units=kg kg-1\r\n",
      "    _FillValue=-9999\r\n",
      "Band 61 Block=33x41 Type=Float32, ColorInterp=Undefined\r\n",
      "  NoData Value=-9999\r\n",
      "  Unit Type: kg kg-1\r\n",
      "  Metadata:\r\n",
      "    description=specific humidity\r\n",
      "    grid_mapping=WGS84\r\n",
      "    NETCDF_DIM_z=60\r\n",
      "    NETCDF_VARNAME=QV\r\n",
      "    standard_name=specific_humidity\r\n",
      "    units=kg kg-1\r\n",
      "    _FillValue=-9999\r\n",
      "Band 62 Block=33x41 Type=Float32, ColorInterp=Undefined\r\n",
      "  NoData Value=-9999\r\n",
      "  Unit Type: kg kg-1\r\n",
      "  Metadata:\r\n",
      "    description=specific humidity\r\n",
      "    grid_mapping=WGS84\r\n",
      "    NETCDF_DIM_z=61\r\n",
      "    NETCDF_VARNAME=QV\r\n",
      "    standard_name=specific_humidity\r\n",
      "    units=kg kg-1\r\n",
      "    _FillValue=-9999\r\n",
      "Band 63 Block=33x41 Type=Float32, ColorInterp=Undefined\r\n",
      "  NoData Value=-9999\r\n",
      "  Unit Type: kg kg-1\r\n",
      "  Metadata:\r\n",
      "    description=specific humidity\r\n",
      "    grid_mapping=WGS84\r\n",
      "    NETCDF_DIM_z=62\r\n",
      "    NETCDF_VARNAME=QV\r\n",
      "    standard_name=specific_humidity\r\n",
      "    units=kg kg-1\r\n",
      "    _FillValue=-9999\r\n",
      "Band 64 Block=33x41 Type=Float32, ColorInterp=Undefined\r\n",
      "  NoData Value=-9999\r\n",
      "  Unit Type: kg kg-1\r\n",
      "  Metadata:\r\n",
      "    description=specific humidity\r\n",
      "    grid_mapping=WGS84\r\n",
      "    NETCDF_DIM_z=63\r\n",
      "    NETCDF_VARNAME=QV\r\n",
      "    standard_name=specific_humidity\r\n",
      "    units=kg kg-1\r\n",
      "    _FillValue=-9999\r\n",
      "Band 65 Block=33x41 Type=Float32, ColorInterp=Undefined\r\n",
      "  NoData Value=-9999\r\n",
      "  Unit Type: kg kg-1\r\n",
      "  Metadata:\r\n",
      "    description=specific humidity\r\n",
      "    grid_mapping=WGS84\r\n",
      "    NETCDF_DIM_z=64\r\n",
      "    NETCDF_VARNAME=QV\r\n",
      "    standard_name=specific_humidity\r\n",
      "    units=kg kg-1\r\n",
      "    _FillValue=-9999\r\n",
      "Band 66 Block=33x41 Type=Float32, ColorInterp=Undefined\r\n",
      "  NoData Value=-9999\r\n",
      "  Unit Type: kg kg-1\r\n",
      "  Metadata:\r\n",
      "    description=specific humidity\r\n",
      "    grid_mapping=WGS84\r\n",
      "    NETCDF_DIM_z=65\r\n",
      "    NETCDF_VARNAME=QV\r\n",
      "    standard_name=specific_humidity\r\n",
      "    units=kg kg-1\r\n",
      "    _FillValue=-9999\r\n",
      "Band 67 Block=33x41 Type=Float32, ColorInterp=Undefined\r\n",
      "  NoData Value=-9999\r\n",
      "  Unit Type: kg kg-1\r\n",
      "  Metadata:\r\n",
      "    description=specific humidity\r\n",
      "    grid_mapping=WGS84\r\n",
      "    NETCDF_DIM_z=66\r\n",
      "    NETCDF_VARNAME=QV\r\n",
      "    standard_name=specific_humidity\r\n",
      "    units=kg kg-1\r\n",
      "    _FillValue=-9999\r\n",
      "Band 68 Block=33x41 Type=Float32, ColorInterp=Undefined\r\n",
      "  NoData Value=-9999\r\n",
      "  Unit Type: kg kg-1\r\n",
      "  Metadata:\r\n",
      "    description=specific humidity\r\n",
      "    grid_mapping=WGS84\r\n",
      "    NETCDF_DIM_z=67\r\n",
      "    NETCDF_VARNAME=QV\r\n",
      "    standard_name=specific_humidity\r\n",
      "    units=kg kg-1\r\n",
      "    _FillValue=-9999\r\n",
      "Band 69 Block=33x41 Type=Float32, ColorInterp=Undefined\r\n",
      "  NoData Value=-9999\r\n",
      "  Unit Type: kg kg-1\r\n",
      "  Metadata:\r\n",
      "    description=specific humidity\r\n",
      "    grid_mapping=WGS84\r\n",
      "    NETCDF_DIM_z=68\r\n",
      "    NETCDF_VARNAME=QV\r\n",
      "    standard_name=specific_humidity\r\n",
      "    units=kg kg-1\r\n",
      "    _FillValue=-9999\r\n",
      "Band 70 Block=33x41 Type=Float32, ColorInterp=Undefined\r\n",
      "  NoData Value=-9999\r\n",
      "  Unit Type: kg kg-1\r\n",
      "  Metadata:\r\n",
      "    description=specific humidity\r\n",
      "    grid_mapping=WGS84\r\n",
      "    NETCDF_DIM_z=69\r\n",
      "    NETCDF_VARNAME=QV\r\n",
      "    standard_name=specific_humidity\r\n",
      "    units=kg kg-1\r\n",
      "    _FillValue=-9999\r\n",
      "Band 71 Block=33x41 Type=Float32, ColorInterp=Undefined\r\n",
      "  NoData Value=-9999\r\n",
      "  Unit Type: kg kg-1\r\n",
      "  Metadata:\r\n",
      "    description=specific humidity\r\n",
      "    grid_mapping=WGS84\r\n",
      "    NETCDF_DIM_z=70\r\n",
      "    NETCDF_VARNAME=QV\r\n",
      "    standard_name=specific_humidity\r\n",
      "    units=kg kg-1\r\n",
      "    _FillValue=-9999\r\n",
      "Band 72 Block=33x41 Type=Float32, ColorInterp=Undefined\r\n",
      "  NoData Value=-9999\r\n",
      "  Unit Type: kg kg-1\r\n",
      "  Metadata:\r\n",
      "    description=specific humidity\r\n",
      "    grid_mapping=WGS84\r\n",
      "    NETCDF_DIM_z=71\r\n",
      "    NETCDF_VARNAME=QV\r\n",
      "    standard_name=specific_humidity\r\n",
      "    units=kg kg-1\r\n",
      "    _FillValue=-9999\r\n"
     ]
    }
   ],
   "source": [
    "!cd weather_files\n",
    "!gdalinfo NETCDF:\"weather_files/GMAO_2020_01_03_T00_00_00.nc\":QV\n",
    "!cd .."
   ]
  },
  {
   "cell_type": "markdown",
   "metadata": {},
   "source": [
    "Once the weather model file has been downloaded, you can compute delays for the same area without re-downloading. RAiDER will check your input query points (such as a bounding box) against the extents of the downloaded file and proceed with processing if the weather model file includes a large enough area. If not, then it will ask you to delete the existing file so that it can download a new one. "
   ]
  },
  {
   "cell_type": "code",
   "execution_count": 124,
   "metadata": {},
   "outputs": [
    {
     "name": "stdout",
     "output_type": "stream",
     "text": [
      "Run routine processing with raiderDelay.py on steps: ['load_weather_model']\n",
      "Remaining steps: ['calculate_delays']\n",
      "--------------------------------------------------\n",
      "Starting to run the weather model calculation\n",
      "Time type: <class 'datetime.datetime'>\n",
      "Time: 20200103\n",
      "Max integration height is 15000.0 m\n",
      "Beginning weather model pre-processing\n",
      "Download-only is False\n",
      "\u001b[33;21mWARNING: Weather model already exists, please remove it (\"['/Users/buzzanga/Software_InSAR/RAiDER-docs_git/notebooks/RAiDER_tutorial/weather_files/GMAO_2020_01_03_T00_00_00.nc']\") if you want to download a new one.\u001b[0m\n",
      "/Users/buzzanga/Miniconda3/envs/RAiDER/lib/python3.10/site-packages/rasterio/__init__.py:304: NotGeoreferencedWarning: Dataset has no geotransform, gcps, or rpcs. The identity matrix will be returned.\n",
      "  dataset = DatasetReader(path, driver=driver, sharing=sharing, **kwargs)\n",
      "Using netcdf:/Users/buzzanga/Software_InSAR/RAiDER-docs_git/notebooks/RAiDER_tutorial/weather_files/GMAO_2020_01_03_T00_00_00.nc:T for bounds estimation\n",
      "Extent of the weather model is (xmin, ymin, xmax, ymax):-123.28, 28.88, -112.97, 39.12\n",
      "Extent of the input is (xmin, ymin, xmax, ymax): -123.00, 25.00, -113.00, 45.00\n",
      "\u001b[31;21mERROR: The weather model passed does not cover all of the input points; you need to download a larger area.\u001b[0m\n",
      "\u001b[31;21mERROR: Date 2020-01-03 00:00:00 failed\u001b[0m\n",
      "Traceback (most recent call last):\n",
      "  File \"/Volumes/GoogleDrive-112189022494608150062/My Drive/RAiDER_git/tools/RAiDER/runProgram.py\", line 33, in main\n",
      "    (_, _) = tropo_delay(t, w, f, params)\n",
      "  File \"/Volumes/GoogleDrive-112189022494608150062/My Drive/RAiDER_git/tools/RAiDER/delay.py\", line 89, in tropo_delay\n",
      "    weather_model_file = prepareWeatherModel(\n",
      "  File \"/Volumes/GoogleDrive-112189022494608150062/My Drive/RAiDER_git/tools/RAiDER/processWM.py\", line 64, in prepareWeatherModel\n",
      "    raise RuntimeError(\n",
      "RuntimeError: The weather model passed does not cover all of the input points; please delete or rename it so another can be downloaded.\n"
     ]
    }
   ],
   "source": [
    "# If we try to run the same datetime but a larger bounding box, we get a message asking us to delete the existing file\n",
    "!raiderDelay.py ./example_yamls/raider_example_LA_bbox-1.yaml --dostep load_weather_model"
   ]
  },
  {
   "cell_type": "markdown",
   "metadata": {
    "heading_collapsed": true
   },
   "source": [
    "### Compute Zenith Delays for a bounding box\n",
    "<a id='bounding_box_ztd'></a>"
   ]
  },
  {
   "cell_type": "markdown",
   "metadata": {
    "hidden": true
   },
   "source": [
    "If you only specify a bounding box as your AOI, RAiDER will compute the Zenith delay at the locations of the native grid nodes of the weather model itself. Because our bounding box is the same as before, RAiDER will skip the download step and directly process the delays. \n",
    "\n",
    "RAiDER will warn you that it is using the existing weather model file, which is specific to a 1) date, 2) time, 3) model, and 4) AOI. "
   ]
  },
  {
   "cell_type": "code",
   "execution_count": 67,
   "metadata": {
    "hidden": true
   },
   "outputs": [
    {
     "name": "stdout",
     "output_type": "stream",
     "text": [
      "GMAO_2020_01_03_T00_00_00.nc\r\n",
      "GMAO_2020_01_03_T00_00_00_29N_39N_123W_113W.nc\r\n"
     ]
    }
   ],
   "source": [
    "!ls weather_files/"
   ]
  },
  {
   "cell_type": "markdown",
   "metadata": {
    "hidden": true
   },
   "source": [
    "Since we've already downloaded the file and we're using the native grid nodes as our query points, the processing happens fairly quickly. \n",
    "\n",
    "<div class=\"alert alert-danger\">\n",
    "<b>Note:</b> \n",
    "Different weather models have different resolutions. GMAO has about a 50 km horizontal grid node spacing, while HRRR for example has a 3-km horizontal grid node spacing. As a result, some weather models will be much faster to process than others. </div>\n",
    "\n"
   ]
  },
  {
   "cell_type": "code",
   "execution_count": 123,
   "metadata": {
    "hidden": true
   },
   "outputs": [
    {
     "name": "stdout",
     "output_type": "stream",
     "text": [
      "Run routine processing with raiderDelay.py on steps: ['load_weather_model', 'calculate_delays']\n",
      "Remaining steps: ['calculate_delays']\n",
      "--------------------------------------------------\n",
      "Starting to run the weather model calculation\n",
      "Time type: <class 'datetime.datetime'>\n",
      "Time: 20200103\n",
      "Max integration height is 15000.0 m\n",
      "Beginning weather model pre-processing\n",
      "Download-only is False\n",
      "\u001b[33;21mWARNING: Weather model already exists, please remove it (\"['/Users/buzzanga/Software_InSAR/RAiDER-docs_git/notebooks/RAiDER_tutorial/weather_files/GMAO_2020_01_03_T00_00_00.nc']\") if you want to download a new one.\u001b[0m\n",
      "/Users/buzzanga/Miniconda3/envs/RAiDER/lib/python3.10/site-packages/rasterio/__init__.py:304: NotGeoreferencedWarning: Dataset has no geotransform, gcps, or rpcs. The identity matrix will be returned.\n",
      "  dataset = DatasetReader(path, driver=driver, sharing=sharing, **kwargs)\n",
      "Using netcdf:/Users/buzzanga/Software_InSAR/RAiDER-docs_git/notebooks/RAiDER_tutorial/weather_files/GMAO_2020_01_03_T00_00_00.nc:T for bounds estimation\n",
      "Extent of the weather model is (xmin, ymin, xmax, ymax):-123.28, 28.88, -112.97, 39.12\n",
      "Extent of the input is (xmin, ymin, xmax, ymax): -123.00, 29.00, -113.00, 39.00\n",
      "\u001b[33;21mWARNING: The processed weather model file already exists, so I will use that.\u001b[0m\n",
      "Starting to run the weather model cube calculation\n",
      "Time: 2020-01-03 00:00:00\n",
      "Max integration height is 15000.0 m\n",
      "Output cube projection is GEOGCRS[\"Hu Tzu Shan 1950\",DATUM[\"Hu Tzu Shan 1950\",ELLIPSOID[\"International 1924\",6378388,297,LENGTHUNIT[\"metre\",1]]],PRIMEM[\"Greenwich\",0,ANGLEUNIT[\"degree\",0.0174532925199433]],CS[ellipsoidal,2],AXIS[\"geodetic latitude (Lat)\",north,ORDER[1],ANGLEUNIT[\"degree\",0.0174532925199433]],AXIS[\"geodetic longitude (Lon)\",east,ORDER[2],ANGLEUNIT[\"degree\",0.0174532925199433]],USAGE[SCOPE[\"Geodesy.\"],AREA[\"Taiwan, Republic of China - onshore - Taiwan Island, Penghu (Pescadores) Islands.\"],BBOX[21.87,119.25,25.34,122.06]],ID[\"EPSG\",4236]]\n",
      "Output cube spacing is 2000.0 m\n",
      "Beginning weather model pre-processing\n",
      "Output SNWE: [29.0, 39.02, -123.0, -112.98]\n",
      "Output cube spacing: 0.02\n",
      "Output height range is 0.0 to 1000.0\n"
     ]
    }
   ],
   "source": [
    "# passing the original bounding \n",
    "!raiderDelay.py ./example_yamls/raider_example_LA.yaml"
   ]
  },
  {
   "cell_type": "markdown",
   "metadata": {
    "hidden": true
   },
   "source": [
    "Once the delays have been processed, there are several files that get created. One is a set of plots that are for sanity checking the weather model data. These are .pdf files and show the weather model variables at two different heights. The weather file also shows profile at a central point. These plots are  used to ensure that custom weather models are getting processed correctly (see __[Defining Custom Weather Models](../Defining_Custom_Weather_Models/Defining_custom_Weather_Models_in_RAiDER.ipynb)__ for more details)."
   ]
  },
  {
   "cell_type": "code",
   "execution_count": 70,
   "metadata": {
    "hidden": true
   },
   "outputs": [
    {
     "name": "stdout",
     "output_type": "stream",
     "text": [
      "GMAO_refractivity_hgt500_and_15000m.pdf GMAO_weather_hgt500_and_15000m.pdf\r\n"
     ]
    }
   ],
   "source": [
    "!ls *.pdf"
   ]
  },
  {
   "cell_type": "code",
   "execution_count": 71,
   "metadata": {
    "hidden": true
   },
   "outputs": [
    {
     "data": {
      "image/png": "[encoded data removed]",
      "text/plain": [
       "<wand.image.Image: 235834d 'PDF' (1296x1008)>"
      ]
     },
     "execution_count": 71,
     "metadata": {},
     "output_type": "execute_result"
    }
   ],
   "source": [
    "WImage(filename='GMAO_weather_hgt500_and_15000m.pdf')"
   ]
  },
  {
   "cell_type": "markdown",
   "metadata": {
    "hidden": true
   },
   "source": [
    "In addition, there are log files that get printed out. These can be especially helpful when troubleshooting or debugging. The \"debug.log\" file records all of the same information that gets printed to the console, while the \"error.log\" file records warnings and error messages, including tracebacks. These files are appended to instead of being overwritten, so the output of several calls to raiderDelay.py will be saved. "
   ]
  },
  {
   "cell_type": "code",
   "execution_count": 72,
   "metadata": {
    "hidden": true
   },
   "outputs": [
    {
     "name": "stdout",
     "output_type": "stream",
     "text": [
      "debug.log error.log\r\n"
     ]
    }
   ],
   "source": [
    "!ls *.log"
   ]
  },
  {
   "cell_type": "code",
   "execution_count": 73,
   "metadata": {
    "hidden": true
   },
   "outputs": [
    {
     "name": "stdout",
     "output_type": "stream",
     "text": [
      "    (_, _) = tropo_delay(t, w, f, params)\r\n",
      "  File \"/Volumes/GoogleDrive-112189022494608150062/My Drive/RAiDER_git/tools/RAiDER/delay.py\", line 89, in tropo_delay\r\n",
      "    weather_model_file = prepareWeatherModel(\r\n",
      "  File \"/Volumes/GoogleDrive-112189022494608150062/My Drive/RAiDER_git/tools/RAiDER/processWM.py\", line 64, in prepareWeatherModel\r\n",
      "    raise RuntimeError(\r\n",
      "RuntimeError: The weather model passed does not cover all of the input points; please delete or rename it so another can be downloaded.\r\n",
      "[2022-11-17 10:35:58,674]  prepareWeatherModel:43    WARNING    Weather model already exists, please remove it (\"['/Users/buzzanga/Software_InSAR/RAiDER-docs_git/notebooks/RAiDER_tutorial/weather_files/GMAO_2020_01_03_T00_00_00.nc']\") if you want to download a new one.\r\n",
      "[2022-11-17 10:35:58,698]     checkContainment:454   INFO       Extent of the weather model is (xmin, ymin, xmax, ymax):-123.28, 28.88, -112.97, 39.12\r\n",
      "[2022-11-17 10:35:58,698]     checkContainment:456   INFO       Extent of the input is (xmin, ymin, xmax, ymax): -123.00, 29.00, -113.00, 39.00\r\n",
      "[2022-11-17 10:35:58,699]  prepareWeatherModel:83    WARNING    The processed weather model file already exists, so I will use that.\r\n"
     ]
    }
   ],
   "source": [
    "!tail debug.log"
   ]
  },
  {
   "cell_type": "code",
   "execution_count": 74,
   "metadata": {
    "hidden": true
   },
   "outputs": [
    {
     "name": "stdout",
     "output_type": "stream",
     "text": [
      "Traceback (most recent call last):\r\n",
      "  File \"/Volumes/GoogleDrive-112189022494608150062/My Drive/RAiDER_git/tools/RAiDER/runProgram.py\", line 33, in main\r\n",
      "    (_, _) = tropo_delay(t, w, f, params)\r\n",
      "  File \"/Volumes/GoogleDrive-112189022494608150062/My Drive/RAiDER_git/tools/RAiDER/delay.py\", line 89, in tropo_delay\r\n",
      "    weather_model_file = prepareWeatherModel(\r\n",
      "  File \"/Volumes/GoogleDrive-112189022494608150062/My Drive/RAiDER_git/tools/RAiDER/processWM.py\", line 64, in prepareWeatherModel\r\n",
      "    raise RuntimeError(\r\n",
      "RuntimeError: The weather model passed does not cover all of the input points; please delete or rename it so another can be downloaded.\r\n",
      "[2022-11-17 10:35:58,674]  prepareWeatherModel:43    WARNING    Weather model already exists, please remove it (\"['/Users/buzzanga/Software_InSAR/RAiDER-docs_git/notebooks/RAiDER_tutorial/weather_files/GMAO_2020_01_03_T00_00_00.nc']\") if you want to download a new one.\r\n",
      "[2022-11-17 10:35:58,699]  prepareWeatherModel:83    WARNING    The processed weather model file already exists, so I will use that.\r\n"
     ]
    }
   ],
   "source": [
    "!tail error.log"
   ]
  },
  {
   "cell_type": "markdown",
   "metadata": {
    "hidden": true
   },
   "source": [
    "Notice that there are flags (\"INFO\", \"WARNING\", etc.) that alert you to the type of message that is being saved. "
   ]
  },
  {
   "cell_type": "markdown",
   "metadata": {
    "hidden": true
   },
   "source": [
    "Finally, we have the processed delay files. These are of two types: \n",
    "1) A NETCDF file containing a modified version of the weather model that has been processed and regularized   \n",
    "2) Depending on the type of input query points, there may be a separate final delay file  "
   ]
  },
  {
   "cell_type": "code",
   "execution_count": 59,
   "metadata": {
    "hidden": true
   },
   "outputs": [
    {
     "name": "stdout",
     "output_type": "stream",
     "text": [
      "total 8424\r\n",
      "-rw-r--r--  1 buzzanga  staff  3796162 Nov 17 09:41 GMAO_2020_01_03_T00_00_00_29N_39N_123W_113W.nc\r\n",
      "-rw-r--r--  1 buzzanga  staff   513322 Nov 17 09:41 GMAO_2020_01_03_T00_00_00.nc\r\n"
     ]
    }
   ],
   "source": [
    "!ls -lt weather_files/"
   ]
  },
  {
   "cell_type": "markdown",
   "metadata": {
    "hidden": true
   },
   "source": [
    "In the case of a bounding box input, there is no additional file written; the delays are stored in the processed weather model file. \n",
    "\n",
    "As before, we can use GDAL to examine the processed NETCDF file."
   ]
  },
  {
   "cell_type": "code",
   "execution_count": 62,
   "metadata": {
    "hidden": true
   },
   "outputs": [
    {
     "name": "stdout",
     "output_type": "stream",
     "text": [
      "Driver: netCDF/Network Common Data Format\r\n",
      "Files: weather_files/GMAO_2020_01_03_T00_00_00_29N_39N_123W_113W.nc\r\n",
      "Size is 512, 512\r\n",
      "Metadata:\r\n",
      "  NC_GLOBAL#Conventions=CF-1.6\r\n",
      "  NC_GLOBAL#datetime=2020_01_03T00_00_00\r\n",
      "  NC_GLOBAL#date_created=2022_11_17T09_41_55\r\n",
      "  NC_GLOBAL#title=Weather model data and delay calculations\r\n",
      "Subdatasets:\r\n",
      "  SUBDATASET_1_NAME=NETCDF:\"weather_files/GMAO_2020_01_03_T00_00_00_29N_39N_123W_113W.nc\":latitude\r\n",
      "  SUBDATASET_1_DESC=[145x41x33] latitude (64-bit floating-point)\r\n",
      "  SUBDATASET_2_NAME=NETCDF:\"weather_files/GMAO_2020_01_03_T00_00_00_29N_39N_123W_113W.nc\":longitude\r\n",
      "  SUBDATASET_2_DESC=[145x41x33] longitude (64-bit floating-point)\r\n",
      "  SUBDATASET_3_NAME=NETCDF:\"weather_files/GMAO_2020_01_03_T00_00_00_29N_39N_123W_113W.nc\":t\r\n",
      "  SUBDATASET_3_DESC=[145x41x33] temperature (32-bit floating-point)\r\n",
      "  SUBDATASET_4_NAME=NETCDF:\"weather_files/GMAO_2020_01_03_T00_00_00_29N_39N_123W_113W.nc\":p\r\n",
      "  SUBDATASET_4_DESC=[145x41x33] pressure (32-bit floating-point)\r\n",
      "  SUBDATASET_5_NAME=NETCDF:\"weather_files/GMAO_2020_01_03_T00_00_00_29N_39N_123W_113W.nc\":e\r\n",
      "  SUBDATASET_5_DESC=[145x41x33] humidity (32-bit floating-point)\r\n",
      "  SUBDATASET_6_NAME=NETCDF:\"weather_files/GMAO_2020_01_03_T00_00_00_29N_39N_123W_113W.nc\":wet\r\n",
      "  SUBDATASET_6_DESC=[145x41x33] wet_refractivity (32-bit floating-point)\r\n",
      "  SUBDATASET_7_NAME=NETCDF:\"weather_files/GMAO_2020_01_03_T00_00_00_29N_39N_123W_113W.nc\":hydro\r\n",
      "  SUBDATASET_7_DESC=[145x41x33] hydrostatic_refractivity (32-bit floating-point)\r\n",
      "  SUBDATASET_8_NAME=NETCDF:\"weather_files/GMAO_2020_01_03_T00_00_00_29N_39N_123W_113W.nc\":wet_total\r\n",
      "  SUBDATASET_8_DESC=[145x41x33] total_wet_refractivity (32-bit floating-point)\r\n",
      "  SUBDATASET_9_NAME=NETCDF:\"weather_files/GMAO_2020_01_03_T00_00_00_29N_39N_123W_113W.nc\":hydro_total\r\n",
      "  SUBDATASET_9_DESC=[145x41x33] total_hydrostatic_refractivity (32-bit floating-point)\r\n",
      "Corner Coordinates:\r\n",
      "Upper Left  (    0.0,    0.0)\r\n",
      "Lower Left  (    0.0,  512.0)\r\n",
      "Upper Right (  512.0,    0.0)\r\n",
      "Lower Right (  512.0,  512.0)\r\n",
      "Center      (  256.0,  256.0)\r\n"
     ]
    }
   ],
   "source": [
    "!gdalinfo weather_files/GMAO_2020_01_03_T00_00_00_29N_39N_123W_113W.nc"
   ]
  },
  {
   "cell_type": "markdown",
   "metadata": {
    "hidden": true
   },
   "source": [
    "Notice that there are several new variables in comparison with the original weather model data, including lats/lons and two new variables \"wet\" and \"hydro;\" these are the wet and hydrostatic refractivities (point-wise delays) that are calculated using the equation:\n",
    "\n",
    "$$ N_{\\text{hydro}} = k_1 \\frac{P}{T} $$\n",
    "\n",
    "$$ N_{\\text{wet}} = k_2 \\frac{e}{T} + k_3 \\frac{e}{T^2} $$\n",
    "\n",
    "These are integrated in the z-direction to produce the \"wet_total\" and \"hydro_total\" variables, which are the integrated (i.e. total) delays:\n",
    "\n",
    "$$ \\text{ZTD}_{\\text{wet}} = 10^{-6} \\int_{z = h}^{z_{ref}} N_{\\text{wet}}(z) \\hspace{3pt} dz $$\n",
    "\n",
    "$$ \\text{ZTD}_{\\text{hydro}} = 10^{-6} \\int_{z = h}^{z_{ref}} N_{\\text{hydro}}(z) \\hspace{3pt} dz $$\n",
    "\n",
    "When passing a station list or raster files containing query points, RAiDER will generate separate files containing the wet and hydrostatic total delays in the main directory. "
   ]
  },
  {
   "cell_type": "markdown",
   "metadata": {
    "hidden": true
   },
   "source": [
    "Although not explicit in variable descriptions above, a further difference between the original and processed weather model data is that it is all in a uniform cube; i.e. the grid heights are the same across the entire area of interest. In contrast, the native weather models typically use some other fixed variable such as pressure levels. "
   ]
  },
  {
   "cell_type": "markdown",
   "metadata": {},
   "source": [
    "### Compute Zenith delays using a GNSS station list\n",
    "<a id='station_list_example'></a>"
   ]
  },
  {
   "cell_type": "markdown",
   "metadata": {},
   "source": [
    "When using a GNSS station list, the program by default will create a bounding box around the list of points. \n",
    "For demonstration purposes, we will use an example list of stations from\n",
    "the L.A. area so that we don't have to download another weather model file. \n",
    "\n",
    "The station file **must be comma-delimited, and must contain at the minimum column names \"Lat\" and \"Lon.\"** By default, RAiDER will download a DEM to get the height information for the list of stations; if the heights are specified in a column named \"Hgt_m\" RAiDER will use those and save some processing time. "
   ]
  },
  {
   "cell_type": "code",
   "execution_count": 176,
   "metadata": {},
   "outputs": [
    {
     "name": "stdout",
     "output_type": "stream",
     "text": [
      "Run routine processing with raiderDelay.py on steps: ['load_weather_model', 'calculate_delays']\n",
      "Remaining steps: ['calculate_delays']\n",
      "--------------------------------------------------\n",
      "\u001b[33;21mWARNING: Weather model already exists, please remove it (\"['/Users/buzzanga/Software_InSAR/RAiDER-docs_git/notebooks/RAiDER_tutorial/weather_files/GMAO_2020_01_03_T00_00_00.nc']\") if you want to download a new one.\u001b[0m\n",
      "/Users/buzzanga/Miniconda3/envs/RAiDER/lib/python3.10/site-packages/rasterio/__init__.py:304: NotGeoreferencedWarning: Dataset has no geotransform, gcps, or rpcs. The identity matrix will be returned.\n",
      "  dataset = DatasetReader(path, driver=driver, sharing=sharing, **kwargs)\n",
      "Extent of the weather model is (xmin, ymin, xmax, ymax):-124.22, 27.88, -112.03, 40.12\n",
      "Extent of the input is (xmin, ymin, xmax, ymax): -122.96, 29.03, -113.01, 39.00\n",
      "Finished writing data to /Users/buzzanga/Software_InSAR/RAiDER-docs_git/notebooks/RAiDER_tutorial/GMAO_wet_20200103T000000_ztd.csv\n"
     ]
    }
   ],
   "source": [
    "!raiderDelay.py ./example_yamls/raider_example_LA_GNSS.yaml"
   ]
  },
  {
   "cell_type": "markdown",
   "metadata": {},
   "source": [
    "We can compare the files in weather_files to see what has been added: "
   ]
  },
  {
   "cell_type": "code",
   "execution_count": 134,
   "metadata": {},
   "outputs": [
    {
     "name": "stdout",
     "output_type": "stream",
     "text": [
      "total 15840\r\n",
      "-rw-r--r--  1 buzzanga  staff  3796162 Nov 17 10:52 GMAO_2020_01_03_T00_00_00_30N_39N_123W_114W.nc\r\n",
      "-rw-r--r--@ 1 buzzanga  staff  3796162 Nov 17 09:41 GMAO_2020_01_03_T00_00_00_29N_39N_123W_113W.nc\r\n",
      "-rw-r--r--  1 buzzanga  staff   513322 Nov 17 09:41 GMAO_2020_01_03_T00_00_00.nc\r\n"
     ]
    }
   ],
   "source": [
    "!ls -lt weather_files/"
   ]
  },
  {
   "cell_type": "markdown",
   "metadata": {},
   "source": [
    "We now have a new file in the base directory, which has been copied from the original station list file and to which has been added some new variables."
   ]
  },
  {
   "cell_type": "code",
   "execution_count": 135,
   "metadata": {},
   "outputs": [
    {
     "name": "stdout",
     "output_type": "stream",
     "text": [
      "GMAO_wet_20200103T000000_ztd.csv\r\n"
     ]
    }
   ],
   "source": [
    "!ls *.csv"
   ]
  },
  {
   "cell_type": "code",
   "execution_count": 138,
   "metadata": {},
   "outputs": [
    {
     "data": {
      "text/html": [
       "<div>\n",
       "<style scoped>\n",
       "    .dataframe tbody tr th:only-of-type {\n",
       "        vertical-align: middle;\n",
       "    }\n",
       "\n",
       "    .dataframe tbody tr th {\n",
       "        vertical-align: top;\n",
       "    }\n",
       "\n",
       "    .dataframe thead th {\n",
       "        text-align: right;\n",
       "    }\n",
       "</style>\n",
       "<table border=\"1\" class=\"dataframe\">\n",
       "  <thead>\n",
       "    <tr style=\"text-align: right;\">\n",
       "      <th></th>\n",
       "      <th>ID</th>\n",
       "      <th>Lat</th>\n",
       "      <th>Lon</th>\n",
       "      <th>Hgt_m</th>\n",
       "      <th>wetDelay</th>\n",
       "      <th>hydroDelay</th>\n",
       "      <th>totalDelay</th>\n",
       "    </tr>\n",
       "  </thead>\n",
       "  <tbody>\n",
       "    <tr>\n",
       "      <th>0</th>\n",
       "      <td>5PTS</td>\n",
       "      <td>36.429179</td>\n",
       "      <td>-120.264977</td>\n",
       "      <td>56.523155</td>\n",
       "      <td>0.068428</td>\n",
       "      <td>2.304436</td>\n",
       "      <td>2.372864</td>\n",
       "    </tr>\n",
       "    <tr>\n",
       "      <th>1</th>\n",
       "      <td>7OAK</td>\n",
       "      <td>37.594986</td>\n",
       "      <td>-114.759090</td>\n",
       "      <td>1713.278104</td>\n",
       "      <td>0.046192</td>\n",
       "      <td>1.885331</td>\n",
       "      <td>1.931523</td>\n",
       "    </tr>\n",
       "    <tr>\n",
       "      <th>2</th>\n",
       "      <td>7ODM</td>\n",
       "      <td>34.116407</td>\n",
       "      <td>-117.093192</td>\n",
       "      <td>762.071709</td>\n",
       "      <td>0.056272</td>\n",
       "      <td>2.109115</td>\n",
       "      <td>2.165387</td>\n",
       "    </tr>\n",
       "    <tr>\n",
       "      <th>3</th>\n",
       "      <td>ACSB</td>\n",
       "      <td>33.274265</td>\n",
       "      <td>-117.444891</td>\n",
       "      <td>-12.296036</td>\n",
       "      <td>0.080302</td>\n",
       "      <td>2.313523</td>\n",
       "      <td>2.393825</td>\n",
       "    </tr>\n",
       "    <tr>\n",
       "      <th>4</th>\n",
       "      <td>ACSX</td>\n",
       "      <td>33.274265</td>\n",
       "      <td>-117.444892</td>\n",
       "      <td>-12.291230</td>\n",
       "      <td>0.080302</td>\n",
       "      <td>2.313522</td>\n",
       "      <td>2.393823</td>\n",
       "    </tr>\n",
       "  </tbody>\n",
       "</table>\n",
       "</div>"
      ],
      "text/plain": [
       "     ID        Lat         Lon        Hgt_m  wetDelay  hydroDelay  totalDelay\n",
       "0  5PTS  36.429179 -120.264977    56.523155  0.068428    2.304436    2.372864\n",
       "1  7OAK  37.594986 -114.759090  1713.278104  0.046192    1.885331    1.931523\n",
       "2  7ODM  34.116407 -117.093192   762.071709  0.056272    2.109115    2.165387\n",
       "3  ACSB  33.274265 -117.444891   -12.296036  0.080302    2.313523    2.393825\n",
       "4  ACSX  33.274265 -117.444892   -12.291230  0.080302    2.313522    2.393823"
      ]
     },
     "execution_count": 138,
     "metadata": {},
     "output_type": "execute_result"
    }
   ],
   "source": [
    "pd.read_csv('GMAO_wet_20200103T000000_ztd.csv').head()"
   ]
  },
  {
   "cell_type": "markdown",
   "metadata": {},
   "source": [
    "You can see that the new .csv file contains the original station data, but with the addition of the wet, hydrostatic, and total delays, all in meters. "
   ]
  },
  {
   "cell_type": "markdown",
   "metadata": {},
   "source": [
    "### Visualizing Zenith delays for a list of GNSS stations\n",
    "<a id='station_list_visualization'></a>"
   ]
  },
  {
   "cell_type": "markdown",
   "metadata": {},
   "source": [
    "Once we have the delays in the .csv file, we can use Pandas to view and manipulate the data"
   ]
  },
  {
   "cell_type": "code",
   "execution_count": 156,
   "metadata": {},
   "outputs": [
    {
     "data": {
      "text/html": [
       "<div>\n",
       "<style scoped>\n",
       "    .dataframe tbody tr th:only-of-type {\n",
       "        vertical-align: middle;\n",
       "    }\n",
       "\n",
       "    .dataframe tbody tr th {\n",
       "        vertical-align: top;\n",
       "    }\n",
       "\n",
       "    .dataframe thead th {\n",
       "        text-align: right;\n",
       "    }\n",
       "</style>\n",
       "<table border=\"1\" class=\"dataframe\">\n",
       "  <thead>\n",
       "    <tr style=\"text-align: right;\">\n",
       "      <th></th>\n",
       "      <th>ID</th>\n",
       "      <th>Lat</th>\n",
       "      <th>Lon</th>\n",
       "      <th>Hgt_m</th>\n",
       "      <th>wetDelay</th>\n",
       "      <th>hydroDelay</th>\n",
       "      <th>totalDelay</th>\n",
       "    </tr>\n",
       "  </thead>\n",
       "  <tbody>\n",
       "    <tr>\n",
       "      <th>0</th>\n",
       "      <td>5PTS</td>\n",
       "      <td>36.429179</td>\n",
       "      <td>-120.264977</td>\n",
       "      <td>56.523155</td>\n",
       "      <td>0.068428</td>\n",
       "      <td>2.304436</td>\n",
       "      <td>2.372864</td>\n",
       "    </tr>\n",
       "    <tr>\n",
       "      <th>1</th>\n",
       "      <td>7OAK</td>\n",
       "      <td>37.594986</td>\n",
       "      <td>-114.759090</td>\n",
       "      <td>1713.278104</td>\n",
       "      <td>0.046192</td>\n",
       "      <td>1.885331</td>\n",
       "      <td>1.931523</td>\n",
       "    </tr>\n",
       "    <tr>\n",
       "      <th>2</th>\n",
       "      <td>7ODM</td>\n",
       "      <td>34.116407</td>\n",
       "      <td>-117.093192</td>\n",
       "      <td>762.071709</td>\n",
       "      <td>0.056272</td>\n",
       "      <td>2.109115</td>\n",
       "      <td>2.165387</td>\n",
       "    </tr>\n",
       "    <tr>\n",
       "      <th>3</th>\n",
       "      <td>ACSB</td>\n",
       "      <td>33.274265</td>\n",
       "      <td>-117.444891</td>\n",
       "      <td>-12.296036</td>\n",
       "      <td>0.080302</td>\n",
       "      <td>2.313523</td>\n",
       "      <td>2.393825</td>\n",
       "    </tr>\n",
       "    <tr>\n",
       "      <th>4</th>\n",
       "      <td>ACSX</td>\n",
       "      <td>33.274265</td>\n",
       "      <td>-117.444892</td>\n",
       "      <td>-12.291230</td>\n",
       "      <td>0.080302</td>\n",
       "      <td>2.313522</td>\n",
       "      <td>2.393823</td>\n",
       "    </tr>\n",
       "  </tbody>\n",
       "</table>\n",
       "</div>"
      ],
      "text/plain": [
       "     ID        Lat         Lon        Hgt_m  wetDelay  hydroDelay  totalDelay\n",
       "0  5PTS  36.429179 -120.264977    56.523155  0.068428    2.304436    2.372864\n",
       "1  7OAK  37.594986 -114.759090  1713.278104  0.046192    1.885331    1.931523\n",
       "2  7ODM  34.116407 -117.093192   762.071709  0.056272    2.109115    2.165387\n",
       "3  ACSB  33.274265 -117.444891   -12.296036  0.080302    2.313523    2.393825\n",
       "4  ACSX  33.274265 -117.444892   -12.291230  0.080302    2.313522    2.393823"
      ]
     },
     "execution_count": 156,
     "metadata": {},
     "output_type": "execute_result"
    }
   ],
   "source": [
    "delays0 = pd.read_csv('GMAO_wet_20200103T000000_ztd.csv')\n",
    "delays  = delays0[delays0.totalDelay>0] # drop stations without ZTD values\n",
    "delays.head()"
   ]
  },
  {
   "cell_type": "code",
   "execution_count": 149,
   "metadata": {},
   "outputs": [
    {
     "data": {
      "text/plain": [
       "<AxesSubplot: xlabel='Height (m)', ylabel='Total Delay (m)'>"
      ]
     },
     "execution_count": 149,
     "metadata": {},
     "output_type": "execute_result"
    },
    {
     "data": {
      "image/png": "[encoded data removed]",
      "text/plain": [
       "<Figure size 640x480 with 1 Axes>"
      ]
     },
     "metadata": {},
     "output_type": "display_data"
    }
   ],
   "source": [
    "delays.plot.scatter(x='Hgt_m', y='totalDelay', marker='.', xlabel = 'Height (m)', ylabel='Total Delay (m)');"
   ]
  },
  {
   "cell_type": "markdown",
   "metadata": {},
   "source": [
    "We can also plot the total (absolute) delays in space. "
   ]
  },
  {
   "cell_type": "code",
   "execution_count": 163,
   "metadata": {},
   "outputs": [
    {
     "data": {
      "image/png": "[encoded data removed]",
      "text/plain": [
       "<Figure size 640x480 with 2 Axes>"
      ]
     },
     "metadata": {},
     "output_type": "display_data"
    }
   ],
   "source": [
    "delays.plot.scatter(x='Lon',y='Lat', marker='.', c='totalDelay', cmap='afmhot_r'); # units are meters"
   ]
  },
  {
   "cell_type": "markdown",
   "metadata": {},
   "source": [
    "### Compute Slant Delays with ISCE raster files\n",
    "<a id='raster_example'></a>"
   ]
  },
  {
   "cell_type": "code",
   "execution_count": 177,
   "metadata": {},
   "outputs": [
    {
     "name": "stdout",
     "output_type": "stream",
     "text": [
      "Run routine processing with raiderDelay.py on steps: ['load_weather_model', 'calculate_delays']\n",
      "Remaining steps: ['calculate_delays']\n",
      "--------------------------------------------------\n",
      "\u001b[33;21mWARNING: Weather model already exists, please remove it (\"['/Users/buzzanga/Software_InSAR/RAiDER-docs_git/notebooks/RAiDER_tutorial/weather_files/GMAO_2021_11_02_T06_21_59.nc']\") if you want to download a new one.\u001b[0m\n",
      "/Users/buzzanga/Miniconda3/envs/RAiDER/lib/python3.10/site-packages/rasterio/__init__.py:304: NotGeoreferencedWarning: Dataset has no geotransform, gcps, or rpcs. The identity matrix will be returned.\n",
      "  dataset = DatasetReader(path, driver=driver, sharing=sharing, **kwargs)\n",
      "Extent of the weather model is (xmin, ymin, xmax, ymax):-5.16, 51.88, 0.16, 57.12\n",
      "Extent of the input is (xmin, ymin, xmax, ymax): -5.00, 52.00, 0.00, 57.00\n",
      "\u001b[33;21mWARNING: The processed weather model file already exists, so I will use that.\u001b[0m\n",
      "Processing slice 1 / 5: 0.0\n",
      "Processing slice 2 / 5: 50.0\n",
      "Processing slice 3 / 5: 100.0\n",
      "Processing slice 4 / 5: 500.0\n",
      "Processing slice 5 / 5: 1000.0\n",
      "Finished writing data to: /Users/buzzanga/Software_InSAR/RAiDER-docs_git/notebooks/RAiDER_tutorial/GMAO_tropo_20211102T062159_std.nc\n"
     ]
    }
   ],
   "source": [
    "!raiderDelay.py ./example_yamls/raider_example_UK-isce.yaml"
   ]
  },
  {
   "cell_type": "markdown",
   "metadata": {},
   "source": [
    "We can again compare the files in weather_files to see what has been added: "
   ]
  },
  {
   "cell_type": "code",
   "execution_count": 179,
   "metadata": {},
   "outputs": [
    {
     "name": "stdout",
     "output_type": "stream",
     "text": [
      "total 29392\r\n",
      "-rw-r--r--  1 buzzanga  staff  5258901 Nov 17 16:22 GMAO_2020_01_03_T00_00_00_30N_39N_123W_114W.nc\r\n",
      "-rw-r--r--  1 buzzanga  staff  1099113 Nov 17 15:36 GMAO_2021_11_02_T06_21_59_52N_57N_5W_0E.nc\r\n",
      "-rw-r--r--  1 buzzanga  staff   173828 Nov 17 15:36 GMAO_2021_11_02_T06_21_59.nc\r\n",
      "-rw-r--r--  1 buzzanga  staff  1105858 Nov 17 15:35 GMAO_2021_11_03_T06_21_59_52N_57N_5W_0E.nc\r\n",
      "-rw-r--r--  1 buzzanga  staff   175006 Nov 17 15:35 GMAO_2021_11_03_T06_21_59.nc\r\n",
      "-rw-r--r--  1 buzzanga  staff  1100374 Nov 17 15:28 GMAO_2021_11_03_T00_00_00_52N_57N_5W_0E.nc\r\n",
      "-rw-r--r--  1 buzzanga  staff   174397 Nov 17 15:28 GMAO_2021_11_03_T00_00_00.nc\r\n",
      "-rw-r--r--  1 buzzanga  staff  5258901 Nov 17 15:19 GMAO_2020_01_03_T00_00_00_28N_40N_124W_112W.nc\r\n",
      "-rw-r--r--  1 buzzanga  staff   691187 Nov 17 15:19 GMAO_2020_01_03_T00_00_00.nc\r\n"
     ]
    }
   ],
   "source": [
    "!ls -lt weather_files"
   ]
  },
  {
   "cell_type": "markdown",
   "metadata": {},
   "source": [
    "And again have a new file in the base directory which contains coordinates and the delay components on the cube:"
   ]
  },
  {
   "cell_type": "code",
   "execution_count": 182,
   "metadata": {},
   "outputs": [
    {
     "name": "stdout",
     "output_type": "stream",
     "text": [
      "cube_projection          Dataset {SCALAR}\r\n",
      "hydro                    Dataset {5, 152, 152}\r\n",
      "wet                      Dataset {5, 152, 152}\r\n",
      "x                        Dataset {152}\r\n",
      "y                        Dataset {152}\r\n",
      "z                        Dataset {5}\r\n"
     ]
    }
   ],
   "source": [
    "!h5ls GMAO_tropo_20211102T062159_std.nc"
   ]
  },
  {
   "cell_type": "markdown",
   "metadata": {},
   "source": [
    "We can easily look at a variable at a specific level height or total delay with xarray:"
   ]
  },
  {
   "cell_type": "code",
   "execution_count": 200,
   "metadata": {},
   "outputs": [
    {
     "data": {
      "image/png": "[encoded data removed]",
      "text/plain": [
       "<Figure size 400x400 with 2 Axes>"
      ]
     },
     "metadata": {},
     "output_type": "display_data"
    }
   ],
   "source": [
    "ds          = xr.open_dataset('GMAO_tropo_20211102T062159_std.nc')\n",
    "ds['total'] = ds['hydro'].sum('z') + ds['wet'].sum('z')\n",
    "\n",
    "fig, axes   = plt.subplots(figsize=(4,4))\n",
    "im      = axes.pcolor(ds.x, ds.y, ds.total)\n",
    "divider = make_axes_locatable(axes)\n",
    "dct_ps = dict(size='5%', pad=0.35)\n",
    "cbar_ax = divider.append_axes('right', **dct_ps)\n",
    "cbar_ax.set_xlabel('Delay (m)')\n",
    "\n",
    "cbar = plt.colorbar(im, cax=cbar_ax) \n"
   ]
  }
 ],
 "metadata": {
  "celltoolbar": "Initialization Cell",
  "kernelspec": {
   "display_name": "Python 3 (ipykernel)",
   "language": "python",
   "name": "python3"
  },
  "language_info": {
   "codemirror_mode": {
    "name": "ipython",
    "version": 3
   },
   "file_extension": ".py",
   "mimetype": "text/x-python",
   "name": "python",
   "nbconvert_exporter": "python",
   "pygments_lexer": "ipython3",
   "version": "3.10.6"
  },
  "latex_envs": {
   "LaTeX_envs_menu_present": true,
   "autoclose": false,
   "autocomplete": false,
   "bibliofile": "biblio.bib",
   "cite_by": "apalike",
   "current_citInitial": 1,
   "eqLabelWithNumbers": true,
   "eqNumInitial": 1,
   "hotkeys": {
    "equation": "Ctrl-E",
    "itemize": "Ctrl-I"
   },
   "labels_anchors": false,
   "latex_user_defs": false,
   "report_style_numbering": false,
   "user_envs_cfg": false
  }
 },
 "nbformat": 4,
 "nbformat_minor": 4
}
