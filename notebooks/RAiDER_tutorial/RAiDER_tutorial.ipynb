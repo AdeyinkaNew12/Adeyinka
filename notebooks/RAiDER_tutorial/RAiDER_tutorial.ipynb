{
 "cells": [
  {
   "cell_type": "markdown",
   "metadata": {},
   "source": [
    "# Getting Started with RAiDER\n",
    "\n",
    "**Author**: Jeremy Maurer, David Bekaert, Simran Sangha, Yang Lei - Jet Propulsion Laboratory, California Institute of Technology\n",
    "\n",
    "This notebook provides an overview of how to get started using the RAiDER package for estimating tropospheric RADAR delays, and other functionality included in the **raiderDelay.py** program. We give an example of how to download and process delays using the ERA-5 weather model for the Los Angeles region. \n",
    "\n",
    "In this notebook, we will demonstrate how to:\n",
    "- Use the raiderDelay.py command-line utility to download and process tropospheric delays\n",
    "- Generate Zenith Delays over the Los Angeles region\n",
    "- Generate Zenith Delays for a set of GNSS stations over the Los Angeles region\n",
    "\n",
    "The notebook will take approximately 15 minutes to run all the way through aside from the data download step. "
   ]
  },
  {
   "cell_type": "markdown",
   "metadata": {},
   "source": [
    "<div class=\"alert alert-warning\">\n",
    "The initial setup (<b>Prep A</b> section) should be run at the start of the notebook. The overview sections do not need to be run in order. \n",
    "</div>\n",
    "\n",
    "<div class=\"alert alert-danger\">\n",
    "<b>Potential Errors:</b> \n",
    "    \n",
    "- GDAL uses \"HDF5\" driver instead of \"netCDF/Network Common Data Format.\" Verify GDAL version >= 3.\n",
    "- RAiDER needs to be installed to run this notebook\n",
    "</div>\n",
    "\n",
    "\n",
    "<div class=\"alert alert-info\">\n",
    "    <b>Terminology:</b>\n",
    "    \n",
    "- *Acquisition*: A single image acquired by a satellite at a particular time\n",
    "- *AOI*: Area of interest: the lat/lon area (in RAiDER a square region) containing your query points\n",
    "- *Interferogram*: An unwrapped image containing the surface displacement accumulated between two acquisitions.\n",
    "- *SLC*: Single-look complex image. A complex single-band raster that contains a single focused RADAR frame from a SAR satellite. For Sentinel-1, SLCs are Level-1 products. \n",
    "- *Weather model*: A reanalysis weather product defining temperature, pressure, and humidity on a regular grid in some coordinate system (e.g., at regular lat/lon intervals in the standard EPSG:4326 reference frame).\n",
    "- *Delay*: The apparent displacement in an interferogram that occurs solely due to changes in weather conditions between two acquisitions.\n",
    "    </div>\n",
    "    "
   ]
  },
  {
   "cell_type": "markdown",
   "metadata": {},
   "source": [
    "## Table of Contents"
   ]
  },
  {
   "cell_type": "markdown",
   "metadata": {},
   "source": [
    "[**Overview of the raiderDelay.py program**](#overview)  \n",
    "[1. Details of the user input options](#user-input)  \n",
    "[- DateList](#date_arg)  \n",
    "[- Time](#time_arg)  \n",
    "[- Area of Interest](#aoi_arg)  \n",
    "[- Line-of-sight information](#los_arg)   \n",
    "[- Height information](#height_arg)  \n",
    "[- Weather Model Type](#weather_model_arg)  \n",
    "[- Other Runtime Parameters](#runtime_arg)\n",
    "  \n",
    "[**Example Calculations**](#examples)  \n",
    "[1. Downloading the weather model data using a bounding box](#bounding_box_example)  \n",
    "[2. Compute Zenith Delays using a bounding box](#bounding_box_ztd)  \n",
    "[3. Compute Zenith Delays using a list of GNSS stations](#station_list_example)  \n",
    "[4. Visualizing Zenith Delays for a list of GNSS stations](#station_list_visualization)  \n",
    "[5. Compute Slant Delays using ISCE raster files](#raster_example)  "
   ]
  },
  {
   "cell_type": "markdown",
   "metadata": {},
   "source": [
    "## Prep: Initial setup of the notebook"
   ]
  },
  {
   "cell_type": "markdown",
   "metadata": {},
   "source": [
    "Please run the cell below prior to running the rest of the notebook to ensure RAiDER is installed and set your working directory. You can change the relevant directories as desired for your system.  "
   ]
  },
  {
   "cell_type": "code",
   "execution_count": 1,
   "metadata": {},
   "outputs": [
    {
     "name": "stdout",
     "output_type": "stream",
     "text": [
      "Tutorial directory:  /Users/jeremym/software/RAiDER-docs/notebooks/RAiDER_tutorial\n",
      "Work directory:  /Users/jeremym/software/RAiDER-docs/notebooks/RAiDER_tutorial\n"
     ]
    }
   ],
   "source": [
    "import os\n",
    "import numpy as np\n",
    "import matplotlib.pyplot as plt\n",
    "import pandas as pd\n",
    "\n",
    "## Defining the home and data directories\n",
    "tutorial_home_dir = os.path.abspath(os.getcwd())\n",
    "work_dir = os.path.abspath(os.getcwd())\n",
    "print(\"Tutorial directory: \", tutorial_home_dir)\n",
    "print(\"Work directory: \", work_dir)\n",
    "\n",
    "# Verifying if RAiDER is installed correctly\n",
    "try:\n",
    "    import RAiDER\n",
    "except:\n",
    "    raise Exception('RAiDER is missing from your PYTHONPATH')\n",
    "\n",
    "os.chdir(work_dir)"
   ]
  },
  {
   "cell_type": "markdown",
   "metadata": {
    "hidden": true
   },
   "source": [
    "## Overview of the raiderDelay.py program\n",
    "<a id='overview'></a>\n",
    "\n",
    "**`raiderDelay.py`** is a command-line program written in Python that allows for easy downloading and processing of tropospheric weather delays for InSAR correction or comparison with GNSS tropospheric delays.\n",
    "\n",
    "We can explore the options by looking at the help menu for the program."
   ]
  },
  {
   "cell_type": "code",
   "execution_count": 2,
   "metadata": {
    "hidden": true
   },
   "outputs": [
    {
     "name": "stdout",
     "output_type": "stream",
     "text": [
      "usage: raiderDelay.py [-h] --date DATELIST [DATELIST ...] --time TIME\r\n",
      "                      (--latlon LAT LONG | --bbox S N W E | --station_file QUERY_AREA)\r\n",
      "                      [--lineofsight LOS | --statevectors SV] [--dem DEM]\r\n",
      "                      [--heightlvs HEIGHTLVS [HEIGHTLVS ...]]\r\n",
      "                      [--model {ERA5,ERA5T,ERAI,MERRA2,WRF,HRRR,GMAO,HDF5,HRES,NCMR}]\r\n",
      "                      [--files FILES [FILES ...]] [--weatherFiles WMLOC]\r\n",
      "                      [--zref ZREF] [--parallel PARALLEL]\r\n",
      "                      [--outformat OUTFORMAT] [--out OUT] [--download_only]\r\n",
      "                      [--verbose]\r\n",
      "\r\n",
      "Calculate tropospheric delay from a weather model.\r\n",
      "Usage examples:\r\n",
      "raiderDelay.py --date 20200103 --time 23:00:00 -b 39 40 -79 -78 --model ERA5 --zref 15000 -v\r\n",
      "raiderDelay.py --date 20200103 --time 23:00:00 -b 39 40 -79 -78 --model ERA5 --zref 15000 --heightlvs 0 100 200 -v\r\n",
      "raiderDelay.py --date 20200103 --time 23:00:00 --latlon test/scenario_1/geom/lat.dat test/scenario_1/geom/lon.dat --model ERA5 --zref 20000 -v --out test/scenario_1/\r\n",
      "\r\n",
      "optional arguments:\r\n",
      "  -h, --help            show this help message and exit\r\n",
      "\r\n",
      "Datetime:\r\n",
      "  --date DATELIST [DATELIST ...]\r\n",
      "                        Date to calculate delay. Can be a single date, a list\r\n",
      "                        of two dates (earlier, later) with 1-day interval, or\r\n",
      "                        a list of two dates and interval in days (earlier,\r\n",
      "                        later, interval). Example accepted formats: YYYYMMDD\r\n",
      "                        or YYYYMMDD YYYYMMDD YYYYMMDD YYYYMMDD N\r\n",
      "  --time TIME           Calculate delay at this time. Example formats:\r\n",
      "                        THHMMSS, HHMMSS, or HH:MM:SS\r\n",
      "\r\n",
      "Area of Interest (Supply one):\r\n",
      "  --latlon LAT LONG, -ll LAT LONG\r\n",
      "                        GDAL-readable latitude and longitude raster files (2\r\n",
      "                        single-band files)\r\n",
      "  --bbox S N W E, -b S N W E\r\n",
      "                        Bounding box\r\n",
      "  --station_file QUERY_AREA\r\n",
      "                        CSV file with a list of stations, containing at least\r\n",
      "                        the columns \"Lat\" and \"Lon\"\r\n",
      "\r\n",
      "Specify a Line-of-sight or state vector file. If neither argument is supplied, the Zenith delay will be returned:\r\n",
      "  --lineofsight LOS, -l LOS\r\n",
      "                        GDAL-readable two-band line-of-sight file (B1:\r\n",
      "                        inclination, B2: heading)\r\n",
      "  --statevectors SV, -s SV\r\n",
      "                        An ESA orbit file or text file containing state\r\n",
      "                        vectors specifying the orbit of the sensor.\r\n",
      "\r\n",
      "Height data. Default is ground surface for specified lat/lons, height levels otherwise:\r\n",
      "  --dem DEM, -d DEM     Specify a DEM to use with lat/lon inputs.\r\n",
      "  --heightlvs HEIGHTLVS [HEIGHTLVS ...]\r\n",
      "                        A space-deliminited list of heights\r\n",
      "\r\n",
      "Weather model. See documentation for details:\r\n",
      "  --model {ERA5,ERA5T,ERAI,MERRA2,WRF,HRRR,GMAO,HDF5,HRES,NCMR}\r\n",
      "                        Weather model option to use.\r\n",
      "  --files FILES [FILES ...]\r\n",
      "                        OUT/PLEV or HDF5 file(s)\r\n",
      "  --weatherFiles WMLOC, -w WMLOC\r\n",
      "                        Directory location of/to write weather model files\r\n",
      "\r\n",
      "Run parameters:\r\n",
      "  --zref ZREF, -z ZREF  Height limit when integrating (meters) (default:\r\n",
      "                        15000.0 m)\r\n",
      "  --parallel PARALLEL, -p PARALLEL\r\n",
      "                        Number of parallel delays computations or weather\r\n",
      "                        model downloads (with download_only enabled) that are\r\n",
      "                        ran concurrently (default: 1)\r\n",
      "  --outformat OUTFORMAT\r\n",
      "                        GDAL-compatible file format if surface delays are\r\n",
      "                        requested.\r\n",
      "  --out OUT             Output directory\r\n",
      "  --download_only       Download weather model only without processing?\r\n",
      "                        Default False\r\n",
      "  --verbose, -v         Run in verbose mode\r\n"
     ]
    }
   ],
   "source": [
    "# Running raiderDelay.py -h will print the help menu\n",
    "!raiderDelay.py -h"
   ]
  },
  {
   "cell_type": "markdown",
   "metadata": {},
   "source": [
    "## Details of the user input options\n",
    "<a id='user-input'></a>\n",
    "RAiDER is quite flexible in terms of the input arguments it allows.  "
   ]
  },
  {
   "cell_type": "markdown",
   "metadata": {
    "heading_collapsed": true,
    "hidden": true
   },
   "source": [
    "### 1. Date or date list (**`--date DATE1 [DATE2 DATESTEP]`**)\n",
    "<a id='date_arg'></a>"
   ]
  },
  {
   "cell_type": "markdown",
   "metadata": {
    "hidden": true
   },
   "source": [
    "This argument is required unless pre-downloaded weather model files are directly specified. (see the [`--files`](#weather_model_arg) argument below).\n",
    "The date(s) passed can be either: \n",
    "1) a single date, specified in psuedo-ISO 8601 format: 20180101, 2018-01-01, etc.  \n",
    "2) a space-deliminated pair of dates, in which case all the dates between the pair listed will be downloaded and processed. E.g., '20180101 20190101'  \n",
    "3) a space-delimited pair of dates plus an interval in days, to specify the date interval to download. E.g., '20180101 20190101 12'"
   ]
  },
  {
   "cell_type": "markdown",
   "metadata": {
    "heading_collapsed": true,
    "hidden": true
   },
   "source": [
    "### 2. Time of day (**`--time TIME`**)\n",
    "<a id='time_arg'></a>"
   ]
  },
  {
   "cell_type": "markdown",
   "metadata": {
    "hidden": true
   },
   "source": [
    "This argument is also required unless pre-downloaded weather model files are explicitly passed. Specify the time of day to download and process in psuedo-ISO 8601 format: \n",
    "1) T020000  \n",
    "2) T02:00:00.000  \n",
    "3) T0200  \n",
    "4) 12:00:00  \n",
    "5) 120000  \n",
    "etc. "
   ]
  },
  {
   "cell_type": "markdown",
   "metadata": {},
   "source": [
    "### 3. Area of Interest (AOI) arguments\n",
    "<a id='aoi_arg'></a>\n",
    "\n",
    "RAiDER requires one of three different options as inputs for the AOI: 1) a bounding box, in which case the weather model grid nodes are used for x/y locations, 2) a station file, which should be a .csv containing at minimum the columns \"Lat\" and \"Lon,\" and 3) ISCE-style latitude and longitude grid files in radar coordinates. Only one option should be used, and the arguments can be passed as described below.  "
   ]
  },
  {
   "cell_type": "markdown",
   "metadata": {},
   "source": [
    "#### Bounding Box (**`--bbox S N W E`**)\n",
    "- A list of four numbers describing a bounding box\n",
    "- Format is South North West East\n",
    "- Values can be integers or decimals. \n",
    "- A buffer will automatically be added to compensate for rays at the edge of the bounding box\n",
    "- Example: ```--bbox 41 42 -78 -77```  "
   ]
  },
  {
   "cell_type": "markdown",
   "metadata": {},
   "source": [
    "#### Latitude / Longitude files (**`--latlon LAT LONG`**)\n",
    "- Format is ```--latlon <latitude file> <longitude file>```. \n",
    "- Files in gridded radar coordinates; i.e. 2-D files containing the latitude and longitude of each pixel\n",
    "- Example: ```--latlon lat.rdr lon.rdr```  "
   ]
  },
  {
   "cell_type": "markdown",
   "metadata": {},
   "source": [
    "#### Station file (**`--station_file STATION_FILE`**)\n",
    "- A comma-delimited file with at least the columns \"Lat\" and \"Lon\"\n",
    "- An example is a file containing a list of GNSS stations with location info\n",
    "- If the heights of the stations are known, the height column should have the name \"Hgt_m\" and give ellipsoidal heights in meters. If heights are not known, RAiDER will download a DEM for the region encompassing the station locations to get the height info. \n",
    "- Example: ```--station_file stations.csv```"
   ]
  },
  {
   "cell_type": "markdown",
   "metadata": {
    "heading_collapsed": true,
    "hidden": true
   },
   "source": [
    "### 4. Line-of-sight Information\n",
    "<a id='los_arg'></a>"
   ]
  },
  {
   "cell_type": "markdown",
   "metadata": {
    "hidden": true
   },
   "source": [
    "This option is used to specify line-of-sight information. \n",
    "The line-of-sight is used to calculate the true rays from the ground pixel to the top of the troposphere, along of the line-of-sight to the sensor platform. One of the following two optional arguments may be specified; otherwise, RAiDER will compute the zenith delay (ZTD). \n",
    "In the future we will also incorporate the conventional slant delay calculation. "
   ]
  },
  {
   "cell_type": "markdown",
   "metadata": {
    "hidden": true
   },
   "source": [
    "#### RADAR Line-of-sight file in ISCE format (**`--lineofsight LOS`**)\n",
    "- A two-band GDAL-readable raster file containing the look vector components for the sensor, of the same size as the radar/SLC images\n",
    "- Band 1 should be incidence angle in degrees from vertical\n",
    "- Band 2 should be heading in degrees clockwise from north\n",
    "- Example: ```--lineofsight los.rdr```"
   ]
  },
  {
   "cell_type": "markdown",
   "metadata": {},
   "source": [
    "#### State vector file (**`--statevectors SV`**)\n",
    "- An ISCE-derived XML file, shelve file, text file, or ESA orbit file containing state vectors specifying the orbit of the sensor. \n",
    "- Example: ```--statevectors orbit.xml```"
   ]
  },
  {
   "cell_type": "markdown",
   "metadata": {
    "hidden": true
   },
   "source": [
    "### 5. Height information\n",
    "<a id='height_arg'></a>\n",
    "\n",
    "Ellipsoidal heights are needed to compute absolute delays. These can come from a DEM or simply by specifying fixed height levels. By default, RAiDER will download a DEM. A user can also specify an existing DEM or a set of specified height levels. For the latter, RAiDER will produce a 3D cube of delays, where the xy information is specified by the AOI arguments and the z-levels are specified directly. "
   ]
  },
  {
   "cell_type": "markdown",
   "metadata": {
    "heading_collapsed": true,
    "hidden": true
   },
   "source": [
    "#### DEM (**`--dem DEM`**)\n",
    "- The DEM over the area of interest can be specified explicitly, or it will be downloaded on-the-fly. RAiDER will check the default location for a DEM (./geom), so if you download the DEM once it will not be downloaded again. "
   ]
  },
  {
   "cell_type": "markdown",
   "metadata": {
    "hidden": true
   },
   "source": [
    "#### Height levels (**`--heightlvs HEIGHTLVS`**)\n",
    "- This option specifies a list of heights, for which the delay will be calculated. The result is a full 3-D cube of delays at the specified lat/lon grid and height levels. "
   ]
  },
  {
   "cell_type": "markdown",
   "metadata": {},
   "source": [
    "### 6. Weather Model Information\n",
    "<a id='weather_model_arg'></a>"
   ]
  },
  {
   "cell_type": "markdown",
   "metadata": {
    "hidden": true
   },
   "source": [
    "#### Weather model (**`--model {ERA5,ERA5T,ERAI,MERRA2,WRF,HRRR,GMAO,HDF5,HRES,NCMR}`**)\n",
    "- Specifies the type of weather model to use\n",
    "- Allowed models currently include ERA5, ERA5T, ERAI, MERRA2, HRRR, GMAO, HRES, and NCMR\n",
    "- Must be included in the ALLOWED_MODELS list in allowed.py and have a reader module defined\n",
    "- New weather models can be included following the template given in template.py"
   ]
  },
  {
   "cell_type": "markdown",
   "metadata": {},
   "source": [
    "#### Files (**`--files FILES`**)\n",
    "- A file containing the weather model data that can be processed using a defined reader\n",
    "- An example usage is to re-process a file previously downloaded"
   ]
  },
  {
   "cell_type": "markdown",
   "metadata": {},
   "source": [
    "#### Weather file directory (**`--weatherFiles WMLOC`**)\n",
    "- Specifies the directory location of/to write weather model files\n",
    "- Default is ./weather_files"
   ]
  },
  {
   "cell_type": "markdown",
   "metadata": {},
   "source": [
    "### 7. Runtime parameters\n",
    "<a id='runtime_arg'></a>"
   ]
  },
  {
   "cell_type": "markdown",
   "metadata": {
    "heading_collapsed": true,
    "hidden": true
   },
   "source": [
    "#### Reference integration height (**`--zref ZREF`**)\n",
    "- Integration height to use when computing the total delay. \n",
    "- Default is 15 km. "
   ]
  },
  {
   "cell_type": "markdown",
   "metadata": {},
   "source": [
    "#### Parallel Computation flag (**`--parallel`**)\n",
    "- Specifies the number of CPUs to use for parallel calculations\n",
    "- Default is 1 (one) for serial processing"
   ]
  },
  {
   "cell_type": "markdown",
   "metadata": {
    "hidden": true
   },
   "source": [
    "#### Output file format (**`--outformat OUTFORMAT`**)\n",
    "- GDAL-compatible raster image format\n",
    "- Default is ENVI\n",
    "- For other types of inputs (bounding box, station list) this argument is not used"
   ]
  },
  {
   "cell_type": "markdown",
   "metadata": {
    "hidden": true
   },
   "source": [
    "#### Output file directory (**`--out OUT`**)\n",
    "- This specifies the location of the output files. \n",
    "- Default is the current directory"
   ]
  },
  {
   "cell_type": "markdown",
   "metadata": {},
   "source": [
    "#### Download the weather model only (**`--download_only`**)\n",
    "- Download the weather model only and do nothing else. "
   ]
  },
  {
   "cell_type": "markdown",
   "metadata": {},
   "source": [
    "#### Run in verbose mode (**`-v/--verbose`**)\n",
    "- Runs the code in verbose mode. "
   ]
  },
  {
   "cell_type": "markdown",
   "metadata": {
    "hidden": true
   },
   "source": [
    "## Examples using RAiDER\n",
    "<a id='runtime_arg'></a>"
   ]
  },
  {
   "cell_type": "markdown",
   "metadata": {},
   "source": [
    "In this section we will demostrate some of the basic capabilities of RAiDER, using a region in southern California shown below. \n",
    "The study area is around Los Angles, chosen to be a a square box 10 x 10 deg centered on 34 deg latitude, -118 deg  longitude. (See the optical image below.)"
   ]
  },
  {
   "cell_type": "markdown",
   "metadata": {},
   "source": [
    "![Optical Image at Los Angeles]()\n",
    "<img src=\"img/optical.png\" width=\"300\" height=\"150\">"
   ]
  },
  {
   "cell_type": "markdown",
   "metadata": {},
   "source": [
    "### Downloading the weather model data using a bounding box\n",
    "<a id='bounding_box_example'></a>"
   ]
  },
  {
   "cell_type": "markdown",
   "metadata": {},
   "source": [
    "RAiDER uses weather model data from third parties to calculate weather model delays. We can use the --download_only option to download the data without doing any processing. For this excercise we will use the weather model available from the __[Global Model Assimilation Office](https://gmao.gsfc.nasa.gov/weather_prediction/)__ at NASA. \n",
    "\n",
    "You can also try the ERA-5 model from the __[European Medium-range Weather Forecast](https://www.ecmwf.int/)__ if you have access to ECMWF weather models, simply change \"GMAO\" to \"ERA5\"."
   ]
  },
  {
   "cell_type": "code",
   "execution_count": 3,
   "metadata": {},
   "outputs": [
    {
     "name": "stdout",
     "output_type": "stream",
     "text": [
      "Weather model GMAO is available from 2014-02-20 00:00:00-Present\n",
      "\u001b[33;21mWARNING: download_only flag selected. No further processing will happen.\u001b[0m\n"
     ]
    }
   ],
   "source": [
    "# Try downloading the data \n",
    "!raiderDelay.py --date 20200103 --time 00:00:00 -b 29 39 -123 -113 --model GMAO --download_only -v"
   ]
  },
  {
   "cell_type": "markdown",
   "metadata": {},
   "source": [
    "The weather model data is accessed through different APIs depending on the model. GMAO and MERRA-2 are both directly accessed using the OpenDAP interface, while ECMWF models have a custom API. RAiDER automatically uses the appropriate API for the weather model that you specify. Each model has a custom reader defined that is used to access the API and manipulate it to a consistent set of variables."
   ]
  },
  {
   "cell_type": "markdown",
   "metadata": {},
   "source": [
    "By default the weather model files are stored in a subfolder of the local directory called \"weather_files.\" You can change this using the `--weatherFiles` option described above. "
   ]
  },
  {
   "cell_type": "code",
   "execution_count": 4,
   "metadata": {},
   "outputs": [
    {
     "name": "stdout",
     "output_type": "stream",
     "text": [
      "GMAO_2020_01_03_T00_00_00.nc\r\n"
     ]
    }
   ],
   "source": [
    "# We can look at the downloaded file\n",
    "!ls weather_files/"
   ]
  },
  {
   "cell_type": "markdown",
   "metadata": {},
   "source": [
    "The downloaded weather model is a NETCDF file, so it can be viewed and manipulated using GDAL or any NETCDF utility or package. "
   ]
  },
  {
   "cell_type": "code",
   "execution_count": 7,
   "metadata": {},
   "outputs": [
    {
     "name": "stdout",
     "output_type": "stream",
     "text": [
      "Driver: netCDF/Network Common Data Format\r\n",
      "Files: weather_files/GMAO_2020_01_03_T00_00_00.nc\r\n",
      "Size is 512, 512\r\n",
      "Metadata:\r\n",
      "  NC_GLOBAL#Conventions=CF-1.6\r\n",
      "  NC_GLOBAL#datetime=2020_01_03T00_00_00\r\n",
      "  NC_GLOBAL#date_created=2021_02_22T21_51_45\r\n",
      "  NC_GLOBAL#title=GMAO weather model data\r\n",
      "Subdatasets:\r\n",
      "  SUBDATASET_1_NAME=NETCDF:\"weather_files/GMAO_2020_01_03_T00_00_00.nc\":H\r\n",
      "  SUBDATASET_1_DESC=[72x45x37] mid_layer_heights (32-bit floating-point)\r\n",
      "  SUBDATASET_2_NAME=NETCDF:\"weather_files/GMAO_2020_01_03_T00_00_00.nc\":QV\r\n",
      "  SUBDATASET_2_DESC=[72x45x37] specific_humidity (32-bit floating-point)\r\n",
      "  SUBDATASET_3_NAME=NETCDF:\"weather_files/GMAO_2020_01_03_T00_00_00.nc\":PL\r\n",
      "  SUBDATASET_3_DESC=[72x45x37] mid_level_pressure (32-bit floating-point)\r\n",
      "  SUBDATASET_4_NAME=NETCDF:\"weather_files/GMAO_2020_01_03_T00_00_00.nc\":T\r\n",
      "  SUBDATASET_4_DESC=[72x45x37] air_temperature (32-bit floating-point)\r\n",
      "Corner Coordinates:\r\n",
      "Upper Left  (    0.0,    0.0)\r\n",
      "Lower Left  (    0.0,  512.0)\r\n",
      "Upper Right (  512.0,    0.0)\r\n",
      "Lower Right (  512.0,  512.0)\r\n",
      "Center      (  256.0,  256.0)\r\n"
     ]
    }
   ],
   "source": [
    "# GDAL provides an API to access the variables and attributes of the file\n",
    "!gdalinfo weather_files/GMAO_2020_01_03_T00_00_00.nc"
   ]
  },
  {
   "cell_type": "markdown",
   "metadata": {},
   "source": [
    "Notice the file contains (usually) four variables, including height, pressure, temperature, and humidity. In some cases, pressure is not explicitly stored; instead the variables are provided at fixed pressure levels, or an intermediate variable like geopotential is provided. "
   ]
  },
  {
   "cell_type": "markdown",
   "metadata": {},
   "source": [
    "Notice that no information is printed about the projection or size of the variables. These variables can be queried using GDAL individually to show the projection and shape information. "
   ]
  },
  {
   "cell_type": "code",
   "execution_count": 8,
   "metadata": {},
   "outputs": [
    {
     "name": "stdout",
     "output_type": "stream",
     "text": [
      "Driver: netCDF/Network Common Data Format\r\n",
      "Files: weather_files/GMAO_2020_01_03_T00_00_00.nc\r\n",
      "Size is 37, 45\r\n",
      "Coordinate System is:\r\n",
      "GEOGCRS[\"WGS 84\",\r\n",
      "    DATUM[\"World Geodetic System 1984\",\r\n",
      "        ELLIPSOID[\"WGS 84\",6378137,298.257223563,\r\n",
      "            LENGTHUNIT[\"metre\",1]]],\r\n",
      "    PRIMEM[\"Greenwich\",0,\r\n",
      "        ANGLEUNIT[\"degree\",0.0174532925199433]],\r\n",
      "    CS[ellipsoidal,2],\r\n",
      "        AXIS[\"geodetic latitude (Lat)\",north,\r\n",
      "            ORDER[1],\r\n",
      "            ANGLEUNIT[\"degree\",0.0174532925199433]],\r\n",
      "        AXIS[\"geodetic longitude (Lon)\",east,\r\n",
      "            ORDER[2],\r\n",
      "            ANGLEUNIT[\"degree\",0.0174532925199433]],\r\n",
      "    ID[\"EPSG\",4326]]\r\n",
      "Data axis to CRS axis mapping: 2,1\r\n",
      "Origin = (-123.906250000000000,39.625000000000000)\r\n",
      "Pixel Size = (0.312500000000000,-0.250000000000000)\r\n",
      "Metadata:\r\n",
      "  NC_GLOBAL#Conventions=CF-1.6\r\n",
      "  NC_GLOBAL#datetime=2020_01_03T00_00_00\r\n",
      "  NC_GLOBAL#date_created=2021_02_22T21_51_45\r\n",
      "  NC_GLOBAL#title=GMAO weather model data\r\n",
      "  NETCDF_DIM_EXTRA={z}\r\n",
      "  NETCDF_DIM_z_DEF={72,5}\r\n",
      "  NETCDF_DIM_z_VALUES={0,1,2,3,4,5,6,7,8,9,10,11,12,13,14,15,16,17,18,19,20,21,22,23,24,25,26,27,28,29,30,31,32,33,34,35,36,37,38,39,40,41,42,43,44,45,46,47,48,49,50,51,52,53,54,55,56,57,58,59,60,61,62,63,64,65,66,67,68,69,70,71}\r\n",
      "  QV#description=specific humidity\r\n",
      "  QV#grid_mapping=WGS84\r\n",
      "  QV#standard_name=specific_humidity\r\n",
      "  QV#units=kg kg-1\r\n",
      "  QV#_FillValue=9.9999999e+14\r\n",
      "  WGS84#false_easting=0\r\n",
      "  WGS84#false_northing=0\r\n",
      "  WGS84#GeoTransform=-123.75 0.3125 0.0 28.5 0.0 0.25\r\n",
      "  WGS84#grid_mapping_name=WGS84\r\n",
      "  WGS84#inverse_flattening=298.257223563\r\n",
      "  WGS84#latitude_of_origin=0\r\n",
      "  WGS84#latitude_of_projection_origin=0\r\n",
      "  WGS84#scale_factor_at_projection_origin=1\r\n",
      "  WGS84#semi_major_axis=6378137\r\n",
      "  WGS84#spatial_epsg=4326\r\n",
      "  WGS84#spatial_proj4=+proj=longlat +datum=WGS84 +no_defs\r\n",
      "  WGS84#spatial_ref=GEOGCS[\"WGS 84\",DATUM[\"WGS_1984\",SPHEROID[\"WGS 84\",6378137,298.257223563,AUTHORITY[\"EPSG\",\"7030\"]],AUTHORITY[\"EPSG\",\"6326\"]],PRIMEM[\"Greenwich\",0,AUTHORITY[\"EPSG\",\"8901\"]],UNIT[\"degree\",0.0174532925199433,AUTHORITY[\"EPSG\",\"9122\"]],AXIS[\"Latitude\",NORTH],AXIS[\"Longitude\",EAST],AUTHORITY[\"EPSG\",\"4326\"]]\r\n",
      "  WGS84#straight_vertical_longitude_from_pole=0\r\n",
      "  x#description=longitude\r\n",
      "  x#standard_name=longitude\r\n",
      "  x#units=degrees_east\r\n",
      "  y#description=latitude\r\n",
      "  y#standard_name=latitude\r\n",
      "  y#units=degrees_north\r\n",
      "  z#description=model layers\r\n",
      "  z#standard_name=model_layers\r\n",
      "  z#units=layer\r\n",
      "Corner Coordinates:\r\n",
      "Upper Left  (-123.9062500,  39.6250000) (123d54'22.50\"W, 39d37'30.00\"N)\r\n",
      "Lower Left  (-123.9062500,  28.3750000) (123d54'22.50\"W, 28d22'30.00\"N)\r\n",
      "Upper Right (-112.3437500,  39.6250000) (112d20'37.50\"W, 39d37'30.00\"N)\r\n",
      "Lower Right (-112.3437500,  28.3750000) (112d20'37.50\"W, 28d22'30.00\"N)\r\n",
      "Center      (-118.1250000,  34.0000000) (118d 7'30.00\"W, 34d 0' 0.00\"N)\r\n",
      "Band 1 Block=37x45 Type=Float32, ColorInterp=Undefined\r\n",
      "  NoData Value=999999986991104\r\n",
      "  Unit Type: kg kg-1\r\n",
      "  Metadata:\r\n",
      "    description=specific humidity\r\n",
      "    grid_mapping=WGS84\r\n",
      "    NETCDF_DIM_z=0\r\n",
      "    NETCDF_VARNAME=QV\r\n",
      "    standard_name=specific_humidity\r\n",
      "    units=kg kg-1\r\n",
      "    _FillValue=9.9999999e+14\r\n",
      "Band 2 Block=37x45 Type=Float32, ColorInterp=Undefined\r\n",
      "  NoData Value=999999986991104\r\n",
      "  Unit Type: kg kg-1\r\n",
      "  Metadata:\r\n",
      "    description=specific humidity\r\n",
      "    grid_mapping=WGS84\r\n",
      "    NETCDF_DIM_z=1\r\n",
      "    NETCDF_VARNAME=QV\r\n",
      "    standard_name=specific_humidity\r\n",
      "    units=kg kg-1\r\n",
      "    _FillValue=9.9999999e+14\r\n",
      "Band 3 Block=37x45 Type=Float32, ColorInterp=Undefined\r\n",
      "  NoData Value=999999986991104\r\n",
      "  Unit Type: kg kg-1\r\n",
      "  Metadata:\r\n",
      "    description=specific humidity\r\n",
      "    grid_mapping=WGS84\r\n",
      "    NETCDF_DIM_z=2\r\n",
      "    NETCDF_VARNAME=QV\r\n",
      "    standard_name=specific_humidity\r\n",
      "    units=kg kg-1\r\n",
      "    _FillValue=9.9999999e+14\r\n",
      "Band 4 Block=37x45 Type=Float32, ColorInterp=Undefined\r\n",
      "  NoData Value=999999986991104\r\n",
      "  Unit Type: kg kg-1\r\n",
      "  Metadata:\r\n",
      "    description=specific humidity\r\n",
      "    grid_mapping=WGS84\r\n",
      "    NETCDF_DIM_z=3\r\n",
      "    NETCDF_VARNAME=QV\r\n",
      "    standard_name=specific_humidity\r\n",
      "    units=kg kg-1\r\n",
      "    _FillValue=9.9999999e+14\r\n",
      "Band 5 Block=37x45 Type=Float32, ColorInterp=Undefined\r\n",
      "  NoData Value=999999986991104\r\n",
      "  Unit Type: kg kg-1\r\n",
      "  Metadata:\r\n",
      "    description=specific humidity\r\n",
      "    grid_mapping=WGS84\r\n",
      "    NETCDF_DIM_z=4\r\n",
      "    NETCDF_VARNAME=QV\r\n",
      "    standard_name=specific_humidity\r\n",
      "    units=kg kg-1\r\n",
      "    _FillValue=9.9999999e+14\r\n",
      "Band 6 Block=37x45 Type=Float32, ColorInterp=Undefined\r\n",
      "  NoData Value=999999986991104\r\n",
      "  Unit Type: kg kg-1\r\n",
      "  Metadata:\r\n",
      "    description=specific humidity\r\n",
      "    grid_mapping=WGS84\r\n",
      "    NETCDF_DIM_z=5\r\n",
      "    NETCDF_VARNAME=QV\r\n",
      "    standard_name=specific_humidity\r\n",
      "    units=kg kg-1\r\n",
      "    _FillValue=9.9999999e+14\r\n",
      "Band 7 Block=37x45 Type=Float32, ColorInterp=Undefined\r\n",
      "  NoData Value=999999986991104\r\n",
      "  Unit Type: kg kg-1\r\n",
      "  Metadata:\r\n",
      "    description=specific humidity\r\n",
      "    grid_mapping=WGS84\r\n",
      "    NETCDF_DIM_z=6\r\n",
      "    NETCDF_VARNAME=QV\r\n",
      "    standard_name=specific_humidity\r\n",
      "    units=kg kg-1\r\n",
      "    _FillValue=9.9999999e+14\r\n",
      "Band 8 Block=37x45 Type=Float32, ColorInterp=Undefined\r\n",
      "  NoData Value=999999986991104\r\n",
      "  Unit Type: kg kg-1\r\n",
      "  Metadata:\r\n",
      "    description=specific humidity\r\n",
      "    grid_mapping=WGS84\r\n",
      "    NETCDF_DIM_z=7\r\n",
      "    NETCDF_VARNAME=QV\r\n",
      "    standard_name=specific_humidity\r\n",
      "    units=kg kg-1\r\n",
      "    _FillValue=9.9999999e+14\r\n",
      "Band 9 Block=37x45 Type=Float32, ColorInterp=Undefined\r\n",
      "  NoData Value=999999986991104\r\n",
      "  Unit Type: kg kg-1\r\n",
      "  Metadata:\r\n",
      "    description=specific humidity\r\n",
      "    grid_mapping=WGS84\r\n",
      "    NETCDF_DIM_z=8\r\n",
      "    NETCDF_VARNAME=QV\r\n",
      "    standard_name=specific_humidity\r\n",
      "    units=kg kg-1\r\n",
      "    _FillValue=9.9999999e+14\r\n",
      "Band 10 Block=37x45 Type=Float32, ColorInterp=Undefined\r\n",
      "  NoData Value=999999986991104\r\n",
      "  Unit Type: kg kg-1\r\n",
      "  Metadata:\r\n",
      "    description=specific humidity\r\n",
      "    grid_mapping=WGS84\r\n",
      "    NETCDF_DIM_z=9\r\n",
      "    NETCDF_VARNAME=QV\r\n",
      "    standard_name=specific_humidity\r\n",
      "    units=kg kg-1\r\n",
      "    _FillValue=9.9999999e+14\r\n",
      "Band 11 Block=37x45 Type=Float32, ColorInterp=Undefined\r\n",
      "  NoData Value=999999986991104\r\n",
      "  Unit Type: kg kg-1\r\n",
      "  Metadata:\r\n",
      "    description=specific humidity\r\n",
      "    grid_mapping=WGS84\r\n",
      "    NETCDF_DIM_z=10\r\n",
      "    NETCDF_VARNAME=QV\r\n",
      "    standard_name=specific_humidity\r\n",
      "    units=kg kg-1\r\n",
      "    _FillValue=9.9999999e+14\r\n",
      "Band 12 Block=37x45 Type=Float32, ColorInterp=Undefined\r\n",
      "  NoData Value=999999986991104\r\n",
      "  Unit Type: kg kg-1\r\n",
      "  Metadata:\r\n",
      "    description=specific humidity\r\n",
      "    grid_mapping=WGS84\r\n",
      "    NETCDF_DIM_z=11\r\n",
      "    NETCDF_VARNAME=QV\r\n",
      "    standard_name=specific_humidity\r\n",
      "    units=kg kg-1\r\n",
      "    _FillValue=9.9999999e+14\r\n",
      "Band 13 Block=37x45 Type=Float32, ColorInterp=Undefined\r\n",
      "  NoData Value=999999986991104\r\n",
      "  Unit Type: kg kg-1\r\n",
      "  Metadata:\r\n",
      "    description=specific humidity\r\n",
      "    grid_mapping=WGS84\r\n",
      "    NETCDF_DIM_z=12\r\n",
      "    NETCDF_VARNAME=QV\r\n",
      "    standard_name=specific_humidity\r\n",
      "    units=kg kg-1\r\n",
      "    _FillValue=9.9999999e+14\r\n",
      "Band 14 Block=37x45 Type=Float32, ColorInterp=Undefined\r\n",
      "  NoData Value=999999986991104\r\n",
      "  Unit Type: kg kg-1\r\n",
      "  Metadata:\r\n",
      "    description=specific humidity\r\n",
      "    grid_mapping=WGS84\r\n",
      "    NETCDF_DIM_z=13\r\n",
      "    NETCDF_VARNAME=QV\r\n",
      "    standard_name=specific_humidity\r\n",
      "    units=kg kg-1\r\n",
      "    _FillValue=9.9999999e+14\r\n",
      "Band 15 Block=37x45 Type=Float32, ColorInterp=Undefined\r\n",
      "  NoData Value=999999986991104\r\n",
      "  Unit Type: kg kg-1\r\n",
      "  Metadata:\r\n",
      "    description=specific humidity\r\n",
      "    grid_mapping=WGS84\r\n",
      "    NETCDF_DIM_z=14\r\n",
      "    NETCDF_VARNAME=QV\r\n",
      "    standard_name=specific_humidity\r\n",
      "    units=kg kg-1\r\n",
      "    _FillValue=9.9999999e+14\r\n",
      "Band 16 Block=37x45 Type=Float32, ColorInterp=Undefined\r",
      "\r\n",
      "  NoData Value=999999986991104\r\n",
      "  Unit Type: kg kg-1\r\n",
      "  Metadata:\r\n",
      "    description=specific humidity\r\n",
      "    grid_mapping=WGS84\r\n",
      "    NETCDF_DIM_z=15\r\n",
      "    NETCDF_VARNAME=QV\r\n",
      "    standard_name=specific_humidity\r\n",
      "    units=kg kg-1\r\n",
      "    _FillValue=9.9999999e+14\r\n",
      "Band 17 Block=37x45 Type=Float32, ColorInterp=Undefined\r\n",
      "  NoData Value=999999986991104\r\n",
      "  Unit Type: kg kg-1\r\n",
      "  Metadata:\r\n",
      "    description=specific humidity\r\n",
      "    grid_mapping=WGS84\r\n",
      "    NETCDF_DIM_z=16\r\n",
      "    NETCDF_VARNAME=QV\r\n",
      "    standard_name=specific_humidity\r\n",
      "    units=kg kg-1\r\n",
      "    _FillValue=9.9999999e+14\r\n",
      "Band 18 Block=37x45 Type=Float32, ColorInterp=Undefined\r\n",
      "  NoData Value=999999986991104\r\n",
      "  Unit Type: kg kg-1\r\n",
      "  Metadata:\r\n",
      "    description=specific humidity\r\n",
      "    grid_mapping=WGS84\r\n",
      "    NETCDF_DIM_z=17\r\n",
      "    NETCDF_VARNAME=QV\r\n",
      "    standard_name=specific_humidity\r\n",
      "    units=kg kg-1\r\n",
      "    _FillValue=9.9999999e+14\r\n",
      "Band 19 Block=37x45 Type=Float32, ColorInterp=Undefined\r\n",
      "  NoData Value=999999986991104\r\n",
      "  Unit Type: kg kg-1\r\n",
      "  Metadata:\r\n",
      "    description=specific humidity\r\n",
      "    grid_mapping=WGS84\r\n",
      "    NETCDF_DIM_z=18\r\n",
      "    NETCDF_VARNAME=QV\r\n",
      "    standard_name=specific_humidity\r\n",
      "    units=kg kg-1\r\n",
      "    _FillValue=9.9999999e+14\r\n",
      "Band 20 Block=37x45 Type=Float32, ColorInterp=Undefined\r\n",
      "  NoData Value=999999986991104\r\n",
      "  Unit Type: kg kg-1\r\n",
      "  Metadata:\r\n",
      "    description=specific humidity\r\n",
      "    grid_mapping=WGS84\r\n",
      "    NETCDF_DIM_z=19\r\n",
      "    NETCDF_VARNAME=QV\r\n",
      "    standard_name=specific_humidity\r\n",
      "    units=kg kg-1\r\n",
      "    _FillValue=9.9999999e+14\r\n",
      "Band 21 Block=37x45 Type=Float32, ColorInterp=Undefined\r\n",
      "  NoData Value=999999986991104\r\n",
      "  Unit Type: kg kg-1\r\n",
      "  Metadata:\r\n",
      "    description=specific humidity\r\n",
      "    grid_mapping=WGS84\r\n",
      "    NETCDF_DIM_z=20\r\n",
      "    NETCDF_VARNAME=QV\r\n",
      "    standard_name=specific_humidity\r\n",
      "    units=kg kg-1\r\n",
      "    _FillValue=9.9999999e+14\r\n",
      "Band 22 Block=37x45 Type=Float32, ColorInterp=Undefined\r\n",
      "  NoData Value=999999986991104\r\n",
      "  Unit Type: kg kg-1\r\n",
      "  Metadata:\r\n",
      "    description=specific humidity\r\n",
      "    grid_mapping=WGS84\r\n",
      "    NETCDF_DIM_z=21\r\n",
      "    NETCDF_VARNAME=QV\r\n",
      "    standard_name=specific_humidity\r\n",
      "    units=kg kg-1\r\n",
      "    _FillValue=9.9999999e+14\r\n",
      "Band 23 Block=37x45 Type=Float32, ColorInterp=Undefined\r\n",
      "  NoData Value=999999986991104\r\n",
      "  Unit Type: kg kg-1\r\n",
      "  Metadata:\r\n",
      "    description=specific humidity\r\n",
      "    grid_mapping=WGS84\r\n",
      "    NETCDF_DIM_z=22\r\n",
      "    NETCDF_VARNAME=QV\r\n",
      "    standard_name=specific_humidity\r\n",
      "    units=kg kg-1\r\n",
      "    _FillValue=9.9999999e+14\r\n",
      "Band 24 Block=37x45 Type=Float32, ColorInterp=Undefined\r\n",
      "  NoData Value=999999986991104\r\n",
      "  Unit Type: kg kg-1\r\n",
      "  Metadata:\r\n",
      "    description=specific humidity\r\n",
      "    grid_mapping=WGS84\r\n",
      "    NETCDF_DIM_z=23\r\n",
      "    NETCDF_VARNAME=QV\r\n",
      "    standard_name=specific_humidity\r\n",
      "    units=kg kg-1\r\n",
      "    _FillValue=9.9999999e+14\r\n",
      "Band 25 Block=37x45 Type=Float32, ColorInterp=Undefined\r\n",
      "  NoData Value=999999986991104\r\n",
      "  Unit Type: kg kg-1\r\n",
      "  Metadata:\r\n",
      "    description=specific humidity\r\n",
      "    grid_mapping=WGS84\r\n",
      "    NETCDF_DIM_z=24\r\n",
      "    NETCDF_VARNAME=QV\r\n",
      "    standard_name=specific_humidity\r\n",
      "    units=kg kg-1\r\n",
      "    _FillValue=9.9999999e+14\r\n",
      "Band 26 Block=37x45 Type=Float32, ColorInterp=Undefined\r\n",
      "  NoData Value=999999986991104\r\n",
      "  Unit Type: kg kg-1\r\n",
      "  Metadata:\r\n",
      "    description=specific humidity\r\n",
      "    grid_mapping=WGS84\r\n",
      "    NETCDF_DIM_z=25\r\n",
      "    NETCDF_VARNAME=QV\r\n",
      "    standard_name=specific_humidity\r\n",
      "    units=kg kg-1\r\n",
      "    _FillValue=9.9999999e+14\r\n",
      "Band 27 Block=37x45 Type=Float32, ColorInterp=Undefined\r\n",
      "  NoData Value=999999986991104\r\n",
      "  Unit Type: kg kg-1\r\n",
      "  Metadata:\r\n",
      "    description=specific humidity\r\n",
      "    grid_mapping=WGS84\r\n",
      "    NETCDF_DIM_z=26\r\n",
      "    NETCDF_VARNAME=QV\r\n",
      "    standard_name=specific_humidity\r\n",
      "    units=kg kg-1\r\n",
      "    _FillValue=9.9999999e+14\r\n",
      "Band 28 Block=37x45 Type=Float32, ColorInterp=Undefined\r\n",
      "  NoData Value=999999986991104\r\n",
      "  Unit Type: kg kg-1\r\n",
      "  Metadata:\r\n",
      "    description=specific humidity\r\n",
      "    grid_mapping=WGS84\r\n",
      "    NETCDF_DIM_z=27\r\n",
      "    NETCDF_VARNAME=QV\r\n",
      "    standard_name=specific_humidity\r\n",
      "    units=kg kg-1\r\n",
      "    _FillValue=9.9999999e+14\r\n",
      "Band 29 Block=37x45 Type=Float32, ColorInterp=Undefined\r\n",
      "  NoData Value=999999986991104\r\n",
      "  Unit Type: kg kg-1\r\n",
      "  Metadata:\r\n",
      "    description=specific humidity\r\n",
      "    grid_mapping=WGS84\r\n",
      "    NETCDF_DIM_z=28\r\n",
      "    NETCDF_VARNAME=QV\r\n",
      "    standard_name=specific_humidity\r\n",
      "    units=kg kg-1\r\n",
      "    _FillValue=9.9999999e+14\r\n",
      "Band 30 Block=37x45 Type=Float32, ColorInterp=Undefined\r\n",
      "  NoData Value=999999986991104\r\n",
      "  Unit Type: kg kg-1\r\n",
      "  Metadata:\r\n",
      "    description=specific humidity\r\n",
      "    grid_mapping=WGS84\r\n",
      "    NETCDF_DIM_z=29\r\n",
      "    NETCDF_VARNAME=QV\r\n",
      "    standard_name=specific_humidity\r\n",
      "    units=kg kg-1\r\n",
      "    _FillValue=9.9999999e+14\r\n",
      "Band 31 Block=37x45 Type=Float32, ColorInterp=Undefined\r\n",
      "  NoData Value=999999986991104\r\n",
      "  Unit Type: kg kg-1\r\n",
      "  Metadata:\r\n",
      "    description=specific humidity\r\n",
      "    grid_mapping=WGS84\r\n",
      "    NETCDF_DIM_z=30\r\n",
      "    NETCDF_VARNAME=QV\r\n",
      "    standard_name=specific_humidity\r\n",
      "    units=kg kg-1\r\n",
      "    _FillValue=9.9999999e+14\r\n",
      "Band 32 Block=37x45 Type=Float32, ColorInterp=Undefined\r\n",
      "  NoData Value=999999986991104\r\n",
      "  Unit Type: kg kg-1\r\n",
      "  Metadata:\r\n",
      "    description=specific humidity\r\n",
      "    grid_mapping=WGS84\r\n",
      "    NETCDF_DIM_z=31\r\n",
      "    NETCDF_VARNAME=QV\r\n",
      "    standard_name=specific_humidity\r\n",
      "    units=kg kg-1\r\n",
      "    _FillValue=9.9999999e+14\r\n",
      "Band 33 Block=37x45 Type=Float32, ColorInterp=Undefined\r\n",
      "  NoData Value=999999986991104\r\n",
      "  Unit Type: kg kg-1\r\n",
      "  Metadata:\r\n",
      "    description=specific humidity\r\n",
      "    grid_mapping=WGS84\r\n",
      "    NETCDF_DIM_z=32\r\n",
      "    NETCDF_VARNAME=QV\r\n",
      "    standard_name=specific_humidity\r\n",
      "    units=kg kg-1\r\n",
      "    _FillValue=9.9999999e+14\r\n",
      "Band 34 Block=37x45 Type=Float32, ColorInterp=Undefined\r\n",
      "  NoData Value=999999986991104\r\n",
      "  Unit Type: kg kg-1\r\n",
      "  Metadata:\r\n",
      "    description=specific humidity\r\n",
      "    grid_mapping=WGS84\r\n",
      "    NETCDF_DIM_z=33\r\n",
      "    NETCDF_VARNAME=QV\r\n",
      "    standard_name=specific_humidity\r\n",
      "    units=kg kg-1\r\n",
      "    _FillValue=9.9999999e+14\r\n",
      "Band 35 Block=37x45 Type=Float32, ColorInterp=Undefined\r\n",
      "  NoData Value=999999986991104\r\n",
      "  Unit Type: kg kg-1\r\n",
      "  Metadata:\r\n",
      "    description=specific humidity\r\n",
      "    grid_mapping=WGS84\r\n",
      "    NETCDF_DIM_z=34\r\n",
      "    NETCDF_VARNAME=QV\r\n",
      "    standard_name=specific_humidity\r\n",
      "    units=kg kg-1\r\n",
      "    _FillValue=9.9999999e+14\r\n",
      "Band 36 Block=37x45 Type=Float32, ColorInterp=Undefined\r\n",
      "  NoData Value=999999986991104\r\n",
      "  Unit Type: kg kg-1\r\n",
      "  Metadata:\r\n",
      "    description=specific humidity\r\n",
      "    grid_mapping=WGS84\r\n",
      "    NETCDF_DIM_z=35\r\n",
      "    NETCDF_VARNAME=QV\r\n",
      "    standard_name=specific_humidity\r\n",
      "    units=kg kg-1\r\n",
      "    _FillValue=9.9999999e+14\r\n",
      "Band 37 Block=37x45 Type=Float32, ColorInterp=Undefined\r\n",
      "  NoData Value=999999986991104\r\n",
      "  Unit Type: kg kg-1\r\n",
      "  Metadata:\r\n",
      "    description=specific humidity\r\n",
      "    grid_mapping=WGS84\r\n",
      "    NETCDF_DIM_z=36\r\n",
      "    NETCDF_VARNAME=QV\r\n",
      "    standard_name=specific_humidity\r\n",
      "    units=kg kg-1\r\n",
      "    _FillValue=9.9999999e+14\r\n",
      "Band 38 Block=37x45 Type=Float32, ColorInterp=Undefined\r\n",
      "  NoData Value=999999986991104\r\n",
      "  Unit Type: kg kg-1\r\n",
      "  Metadata:\r\n",
      "    description=specific humidity\r\n",
      "    grid_mapping=WGS84\r\n",
      "    NETCDF_DIM_z=37\r\n",
      "    NETCDF_VARNAME=QV\r\n",
      "    standard_name=specific_humidity\r\n",
      "    units=kg kg-1\r\n",
      "    _FillValue=9.9999999e+14\r\n",
      "Band 39 Block=37x45 Type=Float32, ColorInterp=Undefined\r\n",
      "  NoData Value=999999986991104\r\n",
      "  Unit Type: kg kg-1\r\n",
      "  Metadata:\r\n",
      "    description=specific humidity\r\n",
      "    grid_mapping=WGS84\r\n",
      "    NETCDF_DIM_z=38\r\n",
      "    NETCDF_VARNAME=QV\r\n",
      "    standard_name=specific_humidity\r\n",
      "    units=kg kg-1\r\n",
      "    _FillValue=9.9999999e+14\r\n",
      "Band 40 Block=37x45 Type=Float32, ColorInterp=Undefined\r\n",
      "  NoData Value=999999986991104\r\n",
      "  Unit Type: kg kg-1\r\n",
      "  Metadata:\r\n",
      "    description=specific humidity\r\n",
      "    grid_mapping=WGS84\r\n",
      "    NETCDF_DIM_z=39\r\n",
      "    NETCDF_VARNAME=QV\r\n",
      "    standard_name=specific_humidity\r\n",
      "    units=kg kg-1\r\n",
      "    _FillValue=9.9999999e+14\r\n",
      "Band 41 Block=37x45 Type=Float32, ColorInterp=Undefined\r\n",
      "  NoData Value=999999986991104\r\n",
      "  Unit Type: kg kg-1\r\n",
      "  Metadata:\r\n",
      "    description=specific humidity\r\n",
      "    grid_mapping=WGS84\r\n",
      "    NETCDF_DIM_z=40\r\n",
      "    NETCDF_VARNAME=QV\r\n",
      "    standard_name=specific_humidity\r\n",
      "    units=kg kg-1\r\n",
      "    _FillValue=9.9999999e+14\r\n",
      "Band 42 Block=37x45 Type=Float32, ColorInterp=Undefined\r\n",
      "  NoData Value=999999986991104\r\n",
      "  Unit Type: kg kg-1\r\n",
      "  Metadata:\r\n",
      "    description=specific humidity\r\n",
      "    grid_mapping=WGS84\r\n",
      "    NETCDF_DIM_z=41\r\n",
      "    NETCDF_VARNAME=QV\r\n",
      "    standard_name=specific_humidity\r\n",
      "    units=kg kg-1\r\n",
      "    _FillValue=9.9999999e+14\r\n",
      "Band 43 Block=37x45 Type=Float32, ColorInterp=Undefined\r\n",
      "  NoData Value=999999986991104\r\n",
      "  Unit Type: kg kg-1\r\n",
      "  Metadata:\r\n",
      "    description=specific humidity\r\n",
      "    grid_mapping=WGS84\r\n",
      "    NETCDF_DIM_z=42\r\n",
      "    NETCDF_VARNAME=QV\r\n",
      "    standard_name=specific_humidity\r\n",
      "    units=kg kg-1\r\n",
      "    _FillValue=9.9999999e+14\r\n",
      "Band 44 Block=37x45 Type=Float32, ColorInterp=Undefined\r\n",
      "  NoData Value=999999986991104\r\n",
      "  Unit Type: kg kg-1\r\n",
      "  Metadata:\r\n",
      "    description=specific humidity\r\n",
      "    grid_mapping=WGS84\r\n",
      "    NETCDF_DIM_z=43\r\n",
      "    NETCDF_VARNAME=QV\r\n",
      "    standard_name=specific_humidity\r\n",
      "    units=kg kg-1\r\n",
      "    _FillValue=9.9999999e+14\r\n",
      "Band 45 Block=37x45 Type=Float32, ColorInterp=Undefined\r\n",
      "  NoData Value=999999986991104\r\n",
      "  Unit Type: kg kg-1\r\n",
      "  Metadata:\r\n",
      "    description=specific humidity\r\n",
      "    grid_mapping=WGS84\r\n",
      "    NETCDF_DIM_z=44\r\n",
      "    NETCDF_VARNAME=QV\r\n",
      "    standard_name=specific_humidity\r\n",
      "    units=kg kg-1\r\n",
      "    _FillValue=9.9999999e+14\r\n",
      "Band 46 Block=37x45 Type=Float32, ColorInterp=Undefined\r\n",
      "  NoData Value=999999986991104\r\n",
      "  Unit Type: kg kg-1\r\n",
      "  Metadata:\r\n",
      "    description=specific humidity\r\n",
      "    grid_mapping=WGS84\r\n",
      "    NETCDF_DIM_z=45\r\n",
      "    NETCDF_VARNAME=QV\r\n",
      "    standard_name=specific_humidity\r\n",
      "    units=kg kg-1\r\n",
      "    _FillValue=9.9999999e+14\r\n",
      "Band 47 Block=37x45 Type=Float32, ColorInterp=Undefined\r\n",
      "  NoData Value=999999986991104\r\n",
      "  Unit Type: kg kg-1\r\n",
      "  Metadata:\r\n",
      "    description=specific humidity\r\n",
      "    grid_mapping=WGS84\r\n",
      "    NETCDF_DIM_z=46\r\n",
      "    NETCDF_VARNAME=QV\r\n",
      "    standard_name=specific_humidity\r\n",
      "    units=kg kg-1\r\n",
      "    _FillValue=9.9999999e+14\r\n",
      "Band 48 Block=37x45 Type=Float32, ColorInterp=Undefined\r\n",
      "  NoData Value=999999986991104\r\n",
      "  Unit Type: kg kg-1\r\n",
      "  Metadata:\r\n",
      "    description=specific humidity\r\n",
      "    grid_mapping=WGS84\r\n",
      "    NETCDF_DIM_z=47\r\n",
      "    NETCDF_VARNAME=QV\r\n",
      "    standard_name=specific_humidity\r\n",
      "    units=kg kg-1\r\n",
      "    _FillValue=9.9999999e+14\r\n",
      "Band 49 Block=37x45 Type=Float32, ColorInterp=Undefined\r\n",
      "  NoData Value=999999986991104\r\n",
      "  Unit Type: kg kg-1\r\n",
      "  Metadata:\r\n",
      "    description=specific humidity\r\n",
      "    grid_mapping=WGS84\r\n",
      "    NETCDF_DIM_z=48\r\n",
      "    NETCDF_VARNAME=QV\r\n",
      "    standard_name=specific_humidity\r\n",
      "    units=kg kg-1\r\n",
      "    _FillValue=9.9999999e+14\r\n",
      "Band 50 Block=37x45 Type=Float32, ColorInterp=Undefined\r\n",
      "  NoData Value=999999986991104\r\n",
      "  Unit Type: kg kg-1\r\n",
      "  Metadata:\r\n",
      "    description=specific humidity\r\n",
      "    grid_mapping=WGS84\r\n",
      "    NETCDF_DIM_z=49\r\n",
      "    NETCDF_VARNAME=QV\r\n",
      "    standard_name=specific_humidity\r\n",
      "    units=kg kg-1\r\n",
      "    _FillValue=9.9999999e+14\r\n",
      "Band 51 Block=37x45 Type=Float32, ColorInterp=Undefined\r\n",
      "  NoData Value=999999986991104\r\n",
      "  Unit Type: kg kg-1\r\n",
      "  Metadata:\r\n",
      "    description=specific humidity\r\n",
      "    grid_mapping=WGS84\r\n",
      "    NETCDF_DIM_z=50\r\n",
      "    NETCDF_VARNAME=QV\r\n",
      "    standard_name=specific_humidity\r\n",
      "    units=kg kg-1\r\n",
      "    _FillValue=9.9999999e+14\r\n",
      "Band 52 Block=37x45 Type=Float32, ColorInterp=Undefined\r\n",
      "  NoData Value=999999986991104\r\n",
      "  Unit Type: kg kg-1\r\n",
      "  Metadata:\r\n",
      "    description=specific humidity\r\n",
      "    grid_mapping=WGS84\r\n",
      "    NETCDF_DIM_z=51\r\n",
      "    NETCDF_VARNAME=QV\r\n",
      "    standard_name=specific_humidity\r\n",
      "    units=kg kg-1\r\n",
      "    _FillValue=9.9999999e+14\r\n",
      "Band 53 Block=37x45 Type=Float32, ColorInterp=Undefined\r\n",
      "  NoData Value=999999986991104\r\n",
      "  Unit Type: kg kg-1\r\n",
      "  Metadata:\r\n",
      "    description=specific humidity\r\n",
      "    grid_mapping=WGS84\r\n",
      "    NETCDF_DIM_z=52\r\n",
      "    NETCDF_VARNAME=QV\r\n",
      "    standard_name=specific_humidity\r\n",
      "    units=kg kg-1\r\n",
      "    _FillValue=9.9999999e+14\r\n",
      "Band 54 Block=37x45 Type=Float32, ColorInterp=Undefined\r\n",
      "  NoData Value=999999986991104\r\n",
      "  Unit Type: kg kg-1\r\n",
      "  Metadata:\r\n",
      "    description=specific humidity\r\n",
      "    grid_mapping=WGS84\r\n",
      "    NETCDF_DIM_z=53\r\n",
      "    NETCDF_VARNAME=QV\r\n",
      "    standard_name=specific_humidity\r\n",
      "    units=kg kg-1\r\n",
      "    _FillValue=9.9999999e+14\r\n",
      "Band 55 Block=37x45 Type=Float32, ColorInterp=Undefined\r\n",
      "  NoData Value=999999986991104\r\n",
      "  Unit Type: kg kg-1\r\n",
      "  Metadata:\r\n",
      "    description=specific humidity\r\n",
      "    grid_mapping=WGS84\r\n",
      "    NETCDF_DIM_z=54\r\n",
      "    NETCDF_VARNAME=QV\r\n",
      "    standard_name=specific_humidity\r\n",
      "    units=kg kg-1\r\n",
      "    _FillValue=9.9999999e+14\r\n",
      "Band 56 Block=37x45 Type=Float32, ColorInterp=Undefined\r\n",
      "  NoData Value=999999986991104\r\n",
      "  Unit Type: kg kg-1\r\n",
      "  Metadata:\r\n",
      "    description=specific humidity\r\n",
      "    grid_mapping=WGS84\r\n",
      "    NETCDF_DIM_z=55\r\n",
      "    NETCDF_VARNAME=QV\r\n",
      "    standard_name=specific_humidity\r\n",
      "    units=kg kg-1\r\n",
      "    _FillValue=9.9999999e+14\r\n",
      "Band 57 Block=37x45 Type=Float32, ColorInterp=Undefined\r\n",
      "  NoData Value=999999986991104\r\n",
      "  Unit Type: kg kg-1\r\n",
      "  Metadata:\r\n",
      "    description=specific humidity\r\n",
      "    grid_mapping=WGS84\r\n",
      "    NETCDF_DIM_z=56\r\n",
      "    NETCDF_VARNAME=QV\r\n",
      "    standard_name=specific_humidity\r\n",
      "    units=kg kg-1\r\n",
      "    _FillValue=9.9999999e+14\r\n",
      "Band 58 Block=37x45 Type=Float32, ColorInterp=Undefined\r\n",
      "  NoData Value=999999986991104\r\n",
      "  Unit Type: kg kg-1\r\n",
      "  Metadata:\r\n",
      "    description=specific humidity\r\n",
      "    grid_mapping=WGS84\r\n",
      "    NETCDF_DIM_z=57\r\n",
      "    NETCDF_VARNAME=QV\r\n",
      "    standard_name=specific_humidity\r\n",
      "    units=kg kg-1\r\n",
      "    _FillValue=9.9999999e+14\r\n",
      "Band 59 Block=37x45 Type=Float32, ColorInterp=Undefined\r\n",
      "  NoData Value=999999986991104\r\n",
      "  Unit Type: kg kg-1\r\n",
      "  Metadata:\r\n",
      "    description=specific humidity\r\n",
      "    grid_mapping=WGS84\r\n",
      "    NETCDF_DIM_z=58\r\n",
      "    NETCDF_VARNAME=QV\r\n",
      "    standard_name=specific_humidity\r\n",
      "    units=kg kg-1\r\n",
      "    _FillValue=9.9999999e+14\r\n",
      "Band 60 Block=37x45 Type=Float32, ColorInterp=Undefined\r\n",
      "  NoData Value=999999986991104\r\n",
      "  Unit Type: kg kg-1\r\n",
      "  Metadata:\r\n",
      "    description=specific humidity\r\n",
      "    grid_mapping=WGS84\r\n",
      "    NETCDF_DIM_z=59\r\n",
      "    NETCDF_VARNAME=QV\r\n",
      "    standard_name=specific_humidity\r\n",
      "    units=kg kg-1\r\n",
      "    _FillValue=9.9999999e+14\r\n",
      "Band 61 Block=37x45 Type=Float32, ColorInterp=Undefined\r\n",
      "  NoData Value=999999986991104\r\n",
      "  Unit Type: kg kg-1\r\n",
      "  Metadata:\r\n",
      "    description=specific humidity\r\n",
      "    grid_mapping=WGS84\r\n",
      "    NETCDF_DIM_z=60\r\n",
      "    NETCDF_VARNAME=QV\r\n",
      "    standard_name=specific_humidity\r\n",
      "    units=kg kg-1\r\n",
      "    _FillValue=9.9999999e+14\r\n",
      "Band 62 Block=37x45 Type=Float32, ColorInterp=Undefined\r\n",
      "  NoData Value=999999986991104\r\n",
      "  Unit Type: kg kg-1\r\n",
      "  Metadata:\r\n",
      "    description=specific humidity\r\n",
      "    grid_mapping=WGS84\r\n",
      "    NETCDF_DIM_z=61\r\n",
      "    NETCDF_VARNAME=QV\r\n",
      "    standard_name=specific_humidity\r\n",
      "    units=kg kg-1\r\n",
      "    _FillValue=9.9999999e+14\r\n",
      "Band 63 Block=37x45 Type=Float32, ColorInterp=Undefined\r\n",
      "  NoData Value=999999986991104\r\n",
      "  Unit Type: kg kg-1\r\n",
      "  Metadata:\r\n",
      "    description=specific humidity\r\n",
      "    grid_mapping=WGS84\r\n",
      "    NETCDF_DIM_z=62\r\n",
      "    NETCDF_VARNAME=QV\r\n",
      "    standard_name=specific_humidity\r\n",
      "    units=kg kg-1\r\n",
      "    _FillValue=9.9999999e+14\r\n",
      "Band 64 Block=37x45 Type=Float32, ColorInterp=Undefined\r\n",
      "  NoData Value=999999986991104\r\n",
      "  Unit Type: kg kg-1\r\n",
      "  Metadata:\r\n",
      "    description=specific humidity\r\n",
      "    grid_mapping=WGS84\r\n",
      "    NETCDF_DIM_z=63\r\n",
      "    NETCDF_VARNAME=QV\r\n",
      "    standard_name=specific_humidity\r\n",
      "    units=kg kg-1\r\n",
      "    _FillValue=9.9999999e+14\r\n",
      "Band 65 Block=37x45 Type=Float32, ColorInterp=Undefined\r\n",
      "  NoData Value=999999986991104\r\n",
      "  Unit Type: kg kg-1\r\n",
      "  Metadata:\r\n",
      "    description=specific humidity\r\n",
      "    grid_mapping=WGS84\r\n",
      "    NETCDF_DIM_z=64\r\n",
      "    NETCDF_VARNAME=QV\r\n",
      "    standard_name=specific_humidity\r\n",
      "    units=kg kg-1\r\n",
      "    _FillValue=9.9999999e+14\r\n",
      "Band 66 Block=37x45 Type=Float32, ColorInterp=Undefined\r\n",
      "  NoData Value=999999986991104\r\n",
      "  Unit Type: kg kg-1\r\n",
      "  Metadata:\r\n",
      "    description=specific humidity\r\n",
      "    grid_mapping=WGS84\r\n",
      "    NETCDF_DIM_z=65\r\n",
      "    NETCDF_VARNAME=QV\r\n",
      "    standard_name=specific_humidity\r\n",
      "    units=kg kg-1\r\n",
      "    _FillValue=9.9999999e+14\r\n",
      "Band 67 Block=37x45 Type=Float32, ColorInterp=Undefined\r\n",
      "  NoData Value=999999986991104\r\n",
      "  Unit Type: kg kg-1\r\n",
      "  Metadata:\r\n",
      "    description=specific humidity\r\n",
      "    grid_mapping=WGS84\r\n",
      "    NETCDF_DIM_z=66\r\n",
      "    NETCDF_VARNAME=QV\r\n",
      "    standard_name=specific_humidity\r\n",
      "    units=kg kg-1\r\n",
      "    _FillValue=9.9999999e+14\r\n",
      "Band 68 Block=37x45 Type=Float32, ColorInterp=Undefined\r\n",
      "  NoData Value=999999986991104\r\n",
      "  Unit Type: kg kg-1\r\n",
      "  Metadata:\r\n",
      "    description=specific humidity\r\n",
      "    grid_mapping=WGS84\r\n",
      "    NETCDF_DIM_z=67\r\n",
      "    NETCDF_VARNAME=QV\r\n",
      "    standard_name=specific_humidity\r\n",
      "    units=kg kg-1\r\n",
      "    _FillValue=9.9999999e+14\r\n",
      "Band 69 Block=37x45 Type=Float32, ColorInterp=Undefined\r\n",
      "  NoData Value=999999986991104\r\n",
      "  Unit Type: kg kg-1\r\n",
      "  Metadata:\r\n",
      "    description=specific humidity\r\n",
      "    grid_mapping=WGS84\r\n",
      "    NETCDF_DIM_z=68\r\n",
      "    NETCDF_VARNAME=QV\r\n",
      "    standard_name=specific_humidity\r\n",
      "    units=kg kg-1\r\n",
      "    _FillValue=9.9999999e+14\r\n",
      "Band 70 Block=37x45 Type=Float32, ColorInterp=Undefined\r\n",
      "  NoData Value=999999986991104\r\n",
      "  Unit Type: kg kg-1\r\n",
      "  Metadata:\r\n",
      "    description=specific humidity\r\n",
      "    grid_mapping=WGS84\r\n",
      "    NETCDF_DIM_z=69\r\n",
      "    NETCDF_VARNAME=QV\r\n",
      "    standard_name=specific_humidity\r\n",
      "    units=kg kg-1\r\n",
      "    _FillValue=9.9999999e+14\r\n",
      "Band 71 Block=37x45 Type=Float32, ColorInterp=Undefined\r\n",
      "  NoData Value=999999986991104\r\n",
      "  Unit Type: kg kg-1\r\n",
      "  Metadata:\r\n",
      "    description=specific humidity\r\n",
      "    grid_mapping=WGS84\r\n",
      "    NETCDF_DIM_z=70\r\n",
      "    NETCDF_VARNAME=QV\r\n",
      "    standard_name=specific_humidity\r\n",
      "    units=kg kg-1\r\n",
      "    _FillValue=9.9999999e+14\r\n",
      "Band 72 Block=37x45 Type=Float32, ColorInterp=Undefined\r\n",
      "  NoData Value=999999986991104\r\n",
      "  Unit Type: kg kg-1\r\n",
      "  Metadata:\r\n",
      "    description=specific humidity\r\n",
      "    grid_mapping=WGS84\r\n",
      "    NETCDF_DIM_z=71\r\n",
      "    NETCDF_VARNAME=QV\r\n",
      "    standard_name=specific_humidity\r\n",
      "    units=kg kg-1\r\n",
      "    _FillValue=9.9999999e+14\r\n"
     ]
    }
   ],
   "source": [
    "!cd weather_files\n",
    "!gdalinfo NETCDF:\"weather_files/GMAO_2020_01_03_T00_00_00.nc\":QV\n",
    "!cd .."
   ]
  },
  {
   "cell_type": "markdown",
   "metadata": {},
   "source": [
    "Once the weather model file has been downloaded, you can compute delays for the same area without re-downloading. RAiDER will check your input query points against the extents of the downloaded file and proceed with processing if the weather model file includes a large enough area. If not, then it will ask you to delete the existing file so that it can download a new one. "
   ]
  },
  {
   "cell_type": "code",
   "execution_count": 9,
   "metadata": {},
   "outputs": [
    {
     "name": "stdout",
     "output_type": "stream",
     "text": [
      "\u001b[33;21mWARNING: Weather model already exists, please remove it (\"['./weather_files/GMAO_2020_01_03_T00_00_00.nc']\") if you want to download a new one.\u001b[0m\n",
      "Extent of the input lats/lons is: [25.0, 45.0, -123.0, -113.0]\n",
      "Extent of the weather model is: [28.5, 39.5, -123.75, -112.5]\n",
      "The weather model passed does not cover all of the input points; you need to download a larger area.\n"
     ]
    }
   ],
   "source": [
    "# If we try to run the same datetime but a larger bounding box, we get a message asking us to delete the existing file\n",
    "!raiderDelay.py --date 20200103 --time 00:00:00 -b 25 45 -123 -113 --model GMAO"
   ]
  },
  {
   "cell_type": "markdown",
   "metadata": {},
   "source": [
    "### Compute Zenith Delays for a bounding box\n",
    "<a id='bounding_box_ztd'></a>"
   ]
  },
  {
   "cell_type": "markdown",
   "metadata": {},
   "source": [
    "If you only specify a bounding box as your AOI, RAiDER will compute the Zenith delay at the locations of the native grid nodes of the weather model itself. Because our bounding box is the same as before, RAiDER will skip the download step and directly process the delays. \n",
    "\n",
    "RAiDER will warn you that it is using the existing weather model file, which is specific to a 1) date, 2) time, 3) model, and 4) AOI. "
   ]
  },
  {
   "cell_type": "code",
   "execution_count": 10,
   "metadata": {},
   "outputs": [
    {
     "name": "stdout",
     "output_type": "stream",
     "text": [
      "\u001b[33;21mWARNING: Weather model already exists, please remove it (\"['./weather_files/GMAO_2020_01_03_T00_00_00.nc']\") if you want to download a new one.\u001b[0m\r\n"
     ]
    }
   ],
   "source": [
    "# passing the original bounding \n",
    "!raiderDelay.py --date 20200103 --time 00:00:00 -b 29 39 -123 -113 --model GMAO"
   ]
  },
  {
   "cell_type": "markdown",
   "metadata": {},
   "source": [
    "Once the delays have been processed, there are several files that get created. One is a set of plots that are for sanity checking the weather model data. These are .pdf files and show the weather model variables at two different heights and a profile at a central point. These plots are mainly used to ensure that custom weather models are getting processed correctly (see __[Defining Custom Weather Models](../Defining_Custom_Weather_Models/Defining_custom_Weather_Models_in_RAiDER.ipynb)__ for more details)."
   ]
  },
  {
   "cell_type": "code",
   "execution_count": 11,
   "metadata": {},
   "outputs": [
    {
     "name": "stdout",
     "output_type": "stream",
     "text": [
      "GMAO_refractivity_hgt500_and_15000m.pdf GMAO_weather_hgt500_and_15000m.pdf\r\n"
     ]
    }
   ],
   "source": [
    "!ls *.pdf"
   ]
  },
  {
   "cell_type": "markdown",
   "metadata": {},
   "source": [
    "In addition, there are log files that get printed out. These can be especially helpful when troubleshooting or debugging. The \"debug.log\" file records all of the same information that gets printed to the console, while the \"error.log\" file records warnings and error messages, including tracebacks. These files are appended to instead of being overwritten, so the output of several calls to raiderDelay.py will be saved. "
   ]
  },
  {
   "cell_type": "code",
   "execution_count": 15,
   "metadata": {},
   "outputs": [
    {
     "name": "stdout",
     "output_type": "stream",
     "text": [
      "debug.log error.log\r\n"
     ]
    }
   ],
   "source": [
    "!ls *.log"
   ]
  },
  {
   "cell_type": "code",
   "execution_count": 16,
   "metadata": {},
   "outputs": [
    {
     "name": "stdout",
     "output_type": "stream",
     "text": [
      "[2021-02-22 21:51:35,650]            checkTime:254   INFO       Weather model GMAO is available from 2014-02-20 00:00:00-Present\r\n",
      "[2021-02-22 21:51:45,650]  prepareWeatherModel:71    WARNING    download_only flag selected. No further processing will happen.\r\n",
      "[2021-02-22 21:52:52,612]  prepareWeatherModel:55    WARNING    Weather model already exists, please remove it (\"['./weather_files/GMAO_2020_01_03_T00_00_00.nc']\") if you want to download a new one.\r\n",
      "[2021-02-22 21:52:53,007]         _adjust_grid:345   INFO       Extent of the input lats/lons is: [25.0, 45.0, -123.0, -113.0]\r\n",
      "[2021-02-22 21:52:53,008]         _adjust_grid:346   INFO       Extent of the weather model is: [28.5, 39.5, -123.75, -112.5]\r\n",
      "[2021-02-22 21:52:53,008]         _adjust_grid:348   INFO       The weather model passed does not cover all of the input points; you need to download a larger area.\r\n",
      "[2021-02-22 21:53:07,785]  prepareWeatherModel:55    WARNING    Weather model already exists, please remove it (\"['./weather_files/GMAO_2020_01_03_T00_00_00.nc']\") if you want to download a new one.\r\n"
     ]
    }
   ],
   "source": [
    "!head debug.log"
   ]
  },
  {
   "cell_type": "code",
   "execution_count": 17,
   "metadata": {},
   "outputs": [
    {
     "name": "stdout",
     "output_type": "stream",
     "text": [
      "[2021-02-22 21:51:45,650]  prepareWeatherModel:71    WARNING    download_only flag selected. No further processing will happen.\r\n",
      "[2021-02-22 21:52:52,612]  prepareWeatherModel:55    WARNING    Weather model already exists, please remove it (\"['./weather_files/GMAO_2020_01_03_T00_00_00.nc']\") if you want to download a new one.\r\n",
      "[2021-02-22 21:53:07,785]  prepareWeatherModel:55    WARNING    Weather model already exists, please remove it (\"['./weather_files/GMAO_2020_01_03_T00_00_00.nc']\") if you want to download a new one.\r\n"
     ]
    }
   ],
   "source": [
    "!head error.log"
   ]
  },
  {
   "cell_type": "markdown",
   "metadata": {},
   "source": [
    "Notice that there are flags (\"INFO\", \"WARNING\", etc.) that alert you to the type of message that is being saved. "
   ]
  },
  {
   "cell_type": "markdown",
   "metadata": {},
   "source": [
    "Finally, we have the processed delay files. These are of two types: \n",
    "1) A NETCDF file containing a modified version of the weather model that has been processed and regularized   \n",
    "2) Depending on the type of input query points, there may be a separate final delay file  "
   ]
  },
  {
   "cell_type": "code",
   "execution_count": 22,
   "metadata": {},
   "outputs": [
    {
     "name": "stdout",
     "output_type": "stream",
     "text": [
      "GMAO_2020_01_03_T00_00_00.nc\r\n",
      "GMAO_2020_01_03_T00_00_00_29N_40N_125W_113W.nc\r\n"
     ]
    }
   ],
   "source": [
    "!ls -lt weather_files/"
   ]
  },
  {
   "cell_type": "markdown",
   "metadata": {},
   "source": [
    "In the case of a bounding box input, there is no additional file written; the delays are stored in the processed weather model file. \n",
    "\n",
    "As before, we can use GDAL to examine the processed NETCDF file."
   ]
  },
  {
   "cell_type": "code",
   "execution_count": 23,
   "metadata": {},
   "outputs": [
    {
     "name": "stdout",
     "output_type": "stream",
     "text": [
      "Driver: netCDF/Network Common Data Format\r\n",
      "Files: weather_files/GMAO_2020_01_03_T00_00_00_29N_40N_125W_113W.nc\r\n",
      "Size is 512, 512\r\n",
      "Metadata:\r\n",
      "  NC_GLOBAL#Conventions=CF-1.6\r\n",
      "  NC_GLOBAL#datetime=2020_01_03T00_00_00\r\n",
      "  NC_GLOBAL#date_created=2021_02_22T21_53_10\r\n",
      "  NC_GLOBAL#title=Weather model data and delay calculations\r\n",
      "Subdatasets:\r\n",
      "  SUBDATASET_1_NAME=NETCDF:\"weather_files/GMAO_2020_01_03_T00_00_00_29N_40N_125W_113W.nc\":latitude\r\n",
      "  SUBDATASET_1_DESC=[73x42x35] latitude (64-bit floating-point)\r\n",
      "  SUBDATASET_2_NAME=NETCDF:\"weather_files/GMAO_2020_01_03_T00_00_00_29N_40N_125W_113W.nc\":longitude\r\n",
      "  SUBDATASET_2_DESC=[73x42x35] longitude (64-bit floating-point)\r\n",
      "  SUBDATASET_3_NAME=NETCDF:\"weather_files/GMAO_2020_01_03_T00_00_00_29N_40N_125W_113W.nc\":t\r\n",
      "  SUBDATASET_3_DESC=[73x42x35] temperature (32-bit floating-point)\r\n",
      "  SUBDATASET_4_NAME=NETCDF:\"weather_files/GMAO_2020_01_03_T00_00_00_29N_40N_125W_113W.nc\":p\r\n",
      "  SUBDATASET_4_DESC=[73x42x35] pressure (32-bit floating-point)\r\n",
      "  SUBDATASET_5_NAME=NETCDF:\"weather_files/GMAO_2020_01_03_T00_00_00_29N_40N_125W_113W.nc\":e\r\n",
      "  SUBDATASET_5_DESC=[73x42x35] humidity (32-bit floating-point)\r\n",
      "  SUBDATASET_6_NAME=NETCDF:\"weather_files/GMAO_2020_01_03_T00_00_00_29N_40N_125W_113W.nc\":wet\r\n",
      "  SUBDATASET_6_DESC=[73x42x35] wet_refractivity (32-bit floating-point)\r\n",
      "  SUBDATASET_7_NAME=NETCDF:\"weather_files/GMAO_2020_01_03_T00_00_00_29N_40N_125W_113W.nc\":hydro\r\n",
      "  SUBDATASET_7_DESC=[73x42x35] hydrostatic_refractivity (32-bit floating-point)\r\n",
      "  SUBDATASET_8_NAME=NETCDF:\"weather_files/GMAO_2020_01_03_T00_00_00_29N_40N_125W_113W.nc\":wet_total\r\n",
      "  SUBDATASET_8_DESC=[73x42x35] total_wet_refractivity (32-bit floating-point)\r\n",
      "  SUBDATASET_9_NAME=NETCDF:\"weather_files/GMAO_2020_01_03_T00_00_00_29N_40N_125W_113W.nc\":hydro_total\r\n",
      "  SUBDATASET_9_DESC=[73x42x35] total_hydrostatic_refractivity (32-bit floating-point)\r\n",
      "Corner Coordinates:\r\n",
      "Upper Left  (    0.0,    0.0)\r\n",
      "Lower Left  (    0.0,  512.0)\r\n",
      "Upper Right (  512.0,    0.0)\r\n",
      "Lower Right (  512.0,  512.0)\r\n",
      "Center      (  256.0,  256.0)\r\n"
     ]
    }
   ],
   "source": [
    "!gdalinfo weather_files/GMAO_2020_01_03_T00_00_00_29N_40N_125W_113W.nc"
   ]
  },
  {
   "cell_type": "markdown",
   "metadata": {},
   "source": [
    "Notice that there are several new variables in comparison with the original weather model data, including lats/lons and two new variables \"wet\" and \"hydro;\" these are the wet and hydrostatic refractivities (point-wise delays) that are calculated using the equation:\n",
    "\n",
    "$$ N_{\\text{hydro}} = k_1 \\frac{P}{T} $$\n",
    "\n",
    "$$ N_{\\text{wet}} = k_2 \\frac{e}{T} + k_3 \\frac{e}{T^2} $$\n",
    "\n",
    "These are integrated in the z-direction to produce the \"wet_total\" and \"hydro_total\" variables, which are the integrated (i.e. total) delays:\n",
    "\n",
    "$$ \\text{ZTD}_{\\text{wet}} = 10^{-6} \\int_{z = h}^{z_{ref}} N_{\\text{wet}}(z) $$\n",
    "\n",
    "$$ \\text{ZTD}_{\\text{hydro}} = 10^{-6} \\int_{z = h}^{z_{ref}} N_{\\text{hydro}}(z) $$\n",
    "\n",
    "When passing a station list or raster files containing query points, RAiDER will generate separate files containing the wet and hydrostatic total delays in the main directory. "
   ]
  },
  {
   "cell_type": "markdown",
   "metadata": {},
   "source": [
    "Although not explicit in variable descriptions above, a further difference between the original and processed weather model data is that it is all in a uniform cube; i.e. the grid heights are the same across the entire area of interest. In contrast, the native weather models typically use some other fixed variable such as pressure levels. "
   ]
  },
  {
   "cell_type": "markdown",
   "metadata": {},
   "source": [
    "### Compute Zenith delays using a GNSS station list\n",
    "<a id='station_list_example'></a>"
   ]
  },
  {
   "cell_type": "markdown",
   "metadata": {},
   "source": [
    "When using a GNSS station list, the program by default will create a bounding box around the list of points. \n",
    "For demonstration purposes, we will use an example list of stations from\n",
    "the L.A. area so that we don't have to download another weather model file. \n",
    "\n",
    "The station file **must be comma-delimited, and must contain at the minimum column names \"Lat\" and \"Lon.\"** By default, RAiDER will download a DEM to get the height information for the list of stations; if the heights are specified in a column named \"Hgt_m\" RAiDER will use those and this will save some processing time. "
   ]
  },
  {
   "cell_type": "code",
   "execution_count": 24,
   "metadata": {},
   "outputs": [
    {
     "name": "stdout",
     "output_type": "stream",
     "text": [
      "\u001b[33;21mWARNING: Weather model already exists, please remove it (\"['./weather_files/GMAO_2020_01_03_T00_00_00.nc']\") if you want to download a new one.\u001b[0m\n",
      "Finished writing data to ['./GMAO_Delay_20200103T000000_Zmax15000.0.csv']\n"
     ]
    }
   ],
   "source": [
    "!raiderDelay.py --date 20200103 --time 00:00:00 --station_file data/sample_gnss_list.csv --model GMAO"
   ]
  },
  {
   "cell_type": "markdown",
   "metadata": {},
   "source": [
    "We can compare the files in weather_files to see what has been added: "
   ]
  },
  {
   "cell_type": "code",
   "execution_count": 30,
   "metadata": {},
   "outputs": [
    {
     "name": "stdout",
     "output_type": "stream",
     "text": [
      "total 5312\r\n",
      "-rw-r--r--  1 jeremym  staff  2090742 Feb 22 22:12 GMAO_2020_01_03_T00_00_00_29N_40N_125W_113W.nc\r\n",
      "-rw-r--r--  1 jeremym  staff   614492 Feb 22 21:51 GMAO_2020_01_03_T00_00_00.nc\r\n"
     ]
    }
   ],
   "source": [
    "!ls -lt weather_files/"
   ]
  },
  {
   "cell_type": "markdown",
   "metadata": {},
   "source": [
    "We now have a new file in the base directory, which has been copied from the original station list file and to which has been added some new variables."
   ]
  },
  {
   "cell_type": "code",
   "execution_count": 32,
   "metadata": {},
   "outputs": [
    {
     "name": "stdout",
     "output_type": "stream",
     "text": [
      "GMAO_Delay_20200103T000000_Zmax15000.0.csv\r\n"
     ]
    }
   ],
   "source": [
    "!ls *.csv"
   ]
  },
  {
   "cell_type": "code",
   "execution_count": 33,
   "metadata": {},
   "outputs": [
    {
     "name": "stdout",
     "output_type": "stream",
     "text": [
      "ID,Lat,Lon,Hgt_m,wetDelay,hydroDelay,totalDelay\r\n",
      "5PTS,36.429178603000004,-120.264976914,56.5231551,0.067772780891204,2.0252343290089683,2.093007109900172\r\n",
      "7OAK,37.59498606,-114.75908955700001,1713.2781037999994,0.04629423450288038,1.678122532838138,1.7244167673410182\r\n",
      "7ODM,34.116406899999994,-117.093191981,762.0717087,0.056575950936041584,1.8651668205113614,1.921742771447403\r\n",
      "ACSB,33.274264933000005,-117.444891086,-12.2960356,0.07332437843809947,2.0297132880746167,2.103037666512716\r\n",
      "ACSX,33.274265297,-117.44489206899999,-12.291230300000002,0.07332422488962133,2.0297122903449143,2.103036515234536\r\n",
      "AERO,32.80746746,-117.12437979399999,92.6906227,0.06676666247363311,2.007724844423338,2.074491506896971\r\n",
      "AGMT,34.594281855,-116.429377366,1337.8227700999996,0.04941655198114424,1.7523424504975753,1.8017590024787196\r\n",
      "AIAH,33.849159884,-117.86247482200001,38.2203257,0.08493009923168751,2.020132422176894,2.105062521408582\r\n",
      "AISD,33.023891888,-117.085783284,141.587007,0.07102242577585183,1.9973516893911119,2.0683741151669635\r\n"
     ]
    }
   ],
   "source": [
    "!head GMAO_Delay_20200103T000000_Zmax15000.0.csv"
   ]
  },
  {
   "cell_type": "markdown",
   "metadata": {},
   "source": [
    "You can see that the new .csv file contains the original station data, but with the addition of the wet, hydrostatic, and total delays, all in meters. "
   ]
  },
  {
   "cell_type": "markdown",
   "metadata": {},
   "source": [
    "### Visualizing Zenith delays for a list of GNSS stations\n",
    "<a id='station_list_visualization'></a>"
   ]
  },
  {
   "cell_type": "markdown",
   "metadata": {},
   "source": [
    "Once we have the delays in the .csv file, we can use Pandas to view and manipulate the data"
   ]
  },
  {
   "cell_type": "code",
   "execution_count": 35,
   "metadata": {},
   "outputs": [],
   "source": [
    "delays = pd.read_csv('GMAO_Delay_20200103T000000_Zmax15000.0.csv')"
   ]
  },
  {
   "cell_type": "code",
   "execution_count": 36,
   "metadata": {},
   "outputs": [
    {
     "data": {
      "text/html": [
       "<div>\n",
       "<style scoped>\n",
       "    .dataframe tbody tr th:only-of-type {\n",
       "        vertical-align: middle;\n",
       "    }\n",
       "\n",
       "    .dataframe tbody tr th {\n",
       "        vertical-align: top;\n",
       "    }\n",
       "\n",
       "    .dataframe thead th {\n",
       "        text-align: right;\n",
       "    }\n",
       "</style>\n",
       "<table border=\"1\" class=\"dataframe\">\n",
       "  <thead>\n",
       "    <tr style=\"text-align: right;\">\n",
       "      <th></th>\n",
       "      <th>ID</th>\n",
       "      <th>Lat</th>\n",
       "      <th>Lon</th>\n",
       "      <th>Hgt_m</th>\n",
       "      <th>wetDelay</th>\n",
       "      <th>hydroDelay</th>\n",
       "      <th>totalDelay</th>\n",
       "    </tr>\n",
       "  </thead>\n",
       "  <tbody>\n",
       "    <tr>\n",
       "      <th>0</th>\n",
       "      <td>5PTS</td>\n",
       "      <td>36.429179</td>\n",
       "      <td>-120.264977</td>\n",
       "      <td>56.523155</td>\n",
       "      <td>0.067773</td>\n",
       "      <td>2.025234</td>\n",
       "      <td>2.093007</td>\n",
       "    </tr>\n",
       "    <tr>\n",
       "      <th>1</th>\n",
       "      <td>7OAK</td>\n",
       "      <td>37.594986</td>\n",
       "      <td>-114.759090</td>\n",
       "      <td>1713.278104</td>\n",
       "      <td>0.046294</td>\n",
       "      <td>1.678123</td>\n",
       "      <td>1.724417</td>\n",
       "    </tr>\n",
       "    <tr>\n",
       "      <th>2</th>\n",
       "      <td>7ODM</td>\n",
       "      <td>34.116407</td>\n",
       "      <td>-117.093192</td>\n",
       "      <td>762.071709</td>\n",
       "      <td>0.056576</td>\n",
       "      <td>1.865167</td>\n",
       "      <td>1.921743</td>\n",
       "    </tr>\n",
       "    <tr>\n",
       "      <th>3</th>\n",
       "      <td>ACSB</td>\n",
       "      <td>33.274265</td>\n",
       "      <td>-117.444891</td>\n",
       "      <td>-12.296036</td>\n",
       "      <td>0.073324</td>\n",
       "      <td>2.029713</td>\n",
       "      <td>2.103038</td>\n",
       "    </tr>\n",
       "    <tr>\n",
       "      <th>4</th>\n",
       "      <td>ACSX</td>\n",
       "      <td>33.274265</td>\n",
       "      <td>-117.444892</td>\n",
       "      <td>-12.291230</td>\n",
       "      <td>0.073324</td>\n",
       "      <td>2.029712</td>\n",
       "      <td>2.103037</td>\n",
       "    </tr>\n",
       "  </tbody>\n",
       "</table>\n",
       "</div>"
      ],
      "text/plain": [
       "     ID        Lat         Lon        Hgt_m  wetDelay  hydroDelay  totalDelay\n",
       "0  5PTS  36.429179 -120.264977    56.523155  0.067773    2.025234    2.093007\n",
       "1  7OAK  37.594986 -114.759090  1713.278104  0.046294    1.678123    1.724417\n",
       "2  7ODM  34.116407 -117.093192   762.071709  0.056576    1.865167    1.921743\n",
       "3  ACSB  33.274265 -117.444891   -12.296036  0.073324    2.029713    2.103038\n",
       "4  ACSX  33.274265 -117.444892   -12.291230  0.073324    2.029712    2.103037"
      ]
     },
     "execution_count": 36,
     "metadata": {},
     "output_type": "execute_result"
    }
   ],
   "source": [
    "delays.head()"
   ]
  },
  {
   "cell_type": "code",
   "execution_count": 37,
   "metadata": {},
   "outputs": [
    {
     "data": {
      "text/plain": [
       "<AxesSubplot:xlabel='Hgt_m', ylabel='totalDelay'>"
      ]
     },
     "execution_count": 37,
     "metadata": {},
     "output_type": "execute_result"
    },
    {
     "data": {
      "image/png": "[encoded data removed]",
      "text/plain": [
       "<Figure size 432x288 with 1 Axes>"
      ]
     },
     "metadata": {
      "needs_background": "light"
     },
     "output_type": "display_data"
    }
   ],
   "source": [
    "delays.plot.scatter(x='Hgt_m',y='totalDelay', marker='.')"
   ]
  },
  {
   "cell_type": "markdown",
   "metadata": {},
   "source": [
    "We can also plot the total (absolute) delays in space. "
   ]
  },
  {
   "cell_type": "code",
   "execution_count": 39,
   "metadata": {},
   "outputs": [
    {
     "data": {
      "text/plain": [
       "<AxesSubplot:xlabel='Lon', ylabel='Lat'>"
      ]
     },
     "execution_count": 39,
     "metadata": {},
     "output_type": "execute_result"
    },
    {
     "data": {
      "image/png": "[encoded data removed]",
      "text/plain": [
       "<Figure size 432x288 with 2 Axes>"
      ]
     },
     "metadata": {
      "needs_background": "light"
     },
     "output_type": "display_data"
    }
   ],
   "source": [
    "delays.plot.scatter(x='Lon',y='Lat', marker='.', c='totalDelay')"
   ]
  },
  {
   "cell_type": "markdown",
   "metadata": {},
   "source": [
    "### Compute Slant Delays with ISCE raster files\n",
    "<a id='raster_example'></a>"
   ]
  },
  {
   "cell_type": "code",
   "execution_count": null,
   "metadata": {},
   "outputs": [],
   "source": [
    "# To be completed"
   ]
  }
 ],
 "metadata": {
  "kernelspec": {
   "display_name": "Python 3",
   "language": "python",
   "name": "python3"
  },
  "language_info": {
   "codemirror_mode": {
    "name": "ipython",
    "version": 3
   },
   "file_extension": ".py",
   "mimetype": "text/x-python",
   "name": "python",
   "nbconvert_exporter": "python",
   "pygments_lexer": "ipython3",
   "version": "3.7.8"
  },
  "latex_envs": {
   "LaTeX_envs_menu_present": true,
   "autoclose": false,
   "autocomplete": false,
   "bibliofile": "biblio.bib",
   "cite_by": "apalike",
   "current_citInitial": 1,
   "eqLabelWithNumbers": true,
   "eqNumInitial": 1,
   "hotkeys": {
    "equation": "Ctrl-E",
    "itemize": "Ctrl-I"
   },
   "labels_anchors": false,
   "latex_user_defs": false,
   "report_style_numbering": false,
   "user_envs_cfg": false
  }
 },
 "nbformat": 4,
 "nbformat_minor": 4
}
