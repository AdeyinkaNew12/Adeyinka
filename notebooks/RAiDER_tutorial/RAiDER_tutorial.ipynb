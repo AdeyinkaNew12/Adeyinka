{
 "cells": [
  {
   "cell_type": "markdown",
   "metadata": {},
   "source": [
    "# Getting Started with RAiDER\n",
    "\n",
    "**Author**: Jeremy Maurer, David Bekaert, Simran Sangha, Yang Lei - Jet Propulsion Laboratory, California Institute of Technology\n",
    "\n",
    "This notebook provides an overview of how to get started using the RAiDER package for estimating tropospheric RADAR delays, and other functionality included in the **raiderDelay.py** program. We give an example of how to download and process delays using ERA-5 and HRRR weather models for the Los Angeles region. \n",
    "\n",
    "In this notebook, we will demonstrate how to:\n",
    "- Download and install the RAiDER package\n",
    "- Run RAiDER to generate a grid of delays over the Los Angeles region\n",
    "    \n",
    "<div class=\"alert alert-warning\">\n",
    "The initial setup (<b>Prep A</b> section) should be run at the start of the notebook. The overview sections do not need to be run in order. \n",
    "</div>\n",
    "\n",
    "<div class=\"alert alert-danger\">\n",
    "<b>Potential Errors:</b> \n",
    "    \n",
    "- GDAL uses \"HDF5\" driver instead of \"netCDF/Network Common Data Format.\" Verify GDAL version >= 3.\n",
    "- RAiDER needs to be installed to run this notebook\n",
    "</div>\n",
    "\n",
    "\n",
    "<div class=\"alert alert-info\">\n",
    "    <b>Terminology:</b>\n",
    "    \n",
    "- *Acquisition*: A single image acquired by a satellite at a particular time\n",
    "- *Interferogram*: An unwrapped image containing the surface displacement accumulated between two acquisitions.\n",
    "- *SLC*: Single-look complex image. A complex single-band raster that contains a single focused RADAR frame from a SAR satellite. For Sentinel-1, SLCs are Level-1 products. \n",
    "- *Weather model*: A reanalysis weather product defining temperature, pressure, and humidity on a regular grid in some coordinate system (e.g., at regular lat/lon intervals in the standard EPSG:4326 reference frame).\n",
    "- *Delay*: The apparent displacement in an interferogram that occurs solely due to changes in weather conditions between two acquisitions.\n",
    "    </div>\n",
    "    "
   ]
  },
  {
   "cell_type": "markdown",
   "metadata": {},
   "source": [
    "## Table of Contents"
   ]
  },
  {
   "cell_type": "markdown",
   "metadata": {},
   "source": [
    "[**Overview of the raiderDelay.py program**](#overview)  \n",
    "[1. Details of the user input options](#user-input)  \n",
    "[- DateList](#date_arg)  \n",
    "[- Time](#time_arg)  \n",
    "[- Area of Interest](#aoi_arg)  \n",
    "[- Line-of-sight information](#los_arg)   \n",
    "[- Height information](#height_arg)  \n",
    "[- Weather Model Type](#weather_model_arg)  \n",
    "[- Other Runtime Parameters](#runtime_arg)\n",
    "  \n",
    "[**Example Calculations**](#examples)  \n",
    "[1. Example using a bounding box](#bounding_box_example)  \n",
    "[2. Example using a list of GNSS stations](#station_list_example)  "
   ]
  },
  {
   "cell_type": "markdown",
   "metadata": {},
   "source": [
    "## Prep: Initial setup of the notebook"
   ]
  },
  {
   "cell_type": "code",
   "execution_count": 17,
   "metadata": {},
   "outputs": [
    {
     "name": "stdout",
     "output_type": "stream",
     "text": [
      "Tutorial directory:  /Users/jeremym/software/RAiDER-docs/notebooks/RAiDER_tutorial\n",
      "Work directory:  /Users/jeremym/software/RAiDER-docs/notebooks/RAiDER_tutorial\n"
     ]
    }
   ],
   "source": [
    "import os\n",
    "import numpy as np\n",
    "import matplotlib.pyplot as plt\n",
    "import pandas as pd\n",
    "\n",
    "## Defining the home and data directories\n",
    "tutorial_home_dir = os.path.abspath(os.getcwd())\n",
    "work_dir = os.path.abspath(os.getcwd())\n",
    "print(\"Tutorial directory: \", tutorial_home_dir)\n",
    "print(\"Work directory: \", work_dir)\n",
    "\n",
    "# Verifying if RAiDER is installed correctly\n",
    "try:\n",
    "    import RAiDER\n",
    "except:\n",
    "    raise Exception('RAiDER is missing from your PYTHONPATH')\n",
    "\n",
    "os.chdir(work_dir)"
   ]
  },
  {
   "cell_type": "markdown",
   "metadata": {
    "hidden": true
   },
   "source": [
    "## Overview of the raiderDelay.py program\n",
    "<a id='overview'></a>\n",
    "\n",
    "**`raiderDelay.py`** is a command-line program that allows for easy downloading and processing of tropospheric weather delays for InSAR correction or comparison with GNSS tropospheric delays.\n",
    "\n",
    "We can explore the options by looking at the help menu for the program."
   ]
  },
  {
   "cell_type": "code",
   "execution_count": 1,
   "metadata": {
    "hidden": true
   },
   "outputs": [
    {
     "name": "stdout",
     "output_type": "stream",
     "text": [
      "usage: raiderDelay.py [-h] --date DATELIST [DATELIST ...] --time TIME\n",
      "                      (--latlon LAT LONG | --bbox S N W E | --station_file QUERY_AREA)\n",
      "                      [--lineofsight LOS | --statevectors SV] [--dem DEM]\n",
      "                      [--heightlvs HEIGHTLVS [HEIGHTLVS ...]]\n",
      "                      [--model {ERA5,ERA5T,ERAI,MERRA2,WRF,HRRR,GMAO,HDF5,HRES,NCMR}]\n",
      "                      [--files FILES [FILES ...]] [--weatherFiles WMLOC]\n",
      "                      [--zref ZREF] [--parallel PARALLEL]\n",
      "                      [--outformat OUTFORMAT] [--out OUT] [--download_only]\n",
      "                      [--verbose]\n",
      "\n",
      "Calculate tropospheric delay from a weather model.\n",
      "Usage examples:\n",
      "raiderDelay.py --date 20200103 --time 23:00:00 -b 39 40 -79 -78 --model ERA5 --zref 15000 -v\n",
      "raiderDelay.py --date 20200103 --time 23:00:00 -b 39 40 -79 -78 --model ERA5 --zref 15000 --heightlvs 0 100 200 -v\n",
      "raiderDelay.py --date 20200103 --time 23:00:00 --latlon test/scenario_1/geom/lat.dat test/scenario_1/geom/lon.dat --model ERA5 --zref 20000 -v --out test/scenario_1/\n",
      "\n",
      "optional arguments:\n",
      "  -h, --help            show this help message and exit\n",
      "\n",
      "Datetime:\n",
      "  --date DATELIST [DATELIST ...]\n",
      "                        Date to calculate delay. Can be a single date, a list\n",
      "                        of two dates (earlier, later) with 1-day interval, or\n",
      "                        a list of two dates and interval in days (earlier,\n",
      "                        later, interval). Example accepted formats: YYYYMMDD\n",
      "                        or YYYYMMDD YYYYMMDD YYYYMMDD YYYYMMDD N\n",
      "  --time TIME           Calculate delay at this time. Example formats:\n",
      "                        THHMMSS, HHMMSS, or HH:MM:SS\n",
      "\n",
      "Area of Interest (Supply one):\n",
      "  --latlon LAT LONG, -ll LAT LONG\n",
      "                        GDAL-readable latitude and longitude raster files (2\n",
      "                        single-band files)\n",
      "  --bbox S N W E, -b S N W E\n",
      "                        Bounding box\n",
      "  --station_file QUERY_AREA\n",
      "                        CSV file with a list of stations, containing at least\n",
      "                        the columns \"Lat\" and \"Lon\"\n",
      "\n",
      "Specify a Line-of-sight or state vector file. If neither argument is supplied, the Zenith delay will be returned:\n",
      "  --lineofsight LOS, -l LOS\n",
      "                        GDAL-readable two-band line-of-sight file (B1:\n",
      "                        inclination, B2: heading)\n",
      "  --statevectors SV, -s SV\n",
      "                        An ESA orbit file or text file containing state\n",
      "                        vectors specifying the orbit of the sensor.\n",
      "\n",
      "Height data. Default is ground surface for specified lat/lons, height levels otherwise:\n",
      "  --dem DEM, -d DEM     Specify a DEM to use with lat/lon inputs.\n",
      "  --heightlvs HEIGHTLVS [HEIGHTLVS ...]\n",
      "                        A space-deliminited list of heights\n",
      "\n",
      "Weather model. See documentation for details:\n",
      "  --model {ERA5,ERA5T,ERAI,MERRA2,WRF,HRRR,GMAO,HDF5,HRES,NCMR}\n",
      "                        Weather model option to use.\n",
      "  --files FILES [FILES ...]\n",
      "                        OUT/PLEV or HDF5 file(s)\n",
      "  --weatherFiles WMLOC, -w WMLOC\n",
      "                        Directory location of/to write weather model files\n",
      "\n",
      "Run parameters:\n",
      "  --zref ZREF, -z ZREF  Height limit when integrating (meters) (default:\n",
      "                        15000.0 m)\n",
      "  --parallel PARALLEL, -p PARALLEL\n",
      "                        Number of parallel delays computations or weather\n",
      "                        model downloads (with download_only enabled) that are\n",
      "                        ran concurrently (default: 1)\n",
      "  --outformat OUTFORMAT\n",
      "                        GDAL-compatible file format if surface delays are\n",
      "                        requested.\n",
      "  --out OUT             Output directory\n",
      "  --download_only       Download weather model only without processing?\n",
      "                        Default False\n",
      "  --verbose, -v         Run in verbose mode\n"
     ]
    }
   ],
   "source": [
    "# Running raiderDelay.py -h will print the help menu\n",
    "!raiderDelay.py -h"
   ]
  },
  {
   "cell_type": "markdown",
   "metadata": {},
   "source": [
    "## Details of the user input options\n",
    "<a id='user-input'></a>\n",
    "RAiDER is quite flexible in terms of the input arguments it allows.  "
   ]
  },
  {
   "cell_type": "markdown",
   "metadata": {
    "heading_collapsed": true,
    "hidden": true
   },
   "source": [
    "### 1. Date or date list (**`--date DATELIST`**)\n",
    "<a id='date_arg'></a>"
   ]
  },
  {
   "cell_type": "markdown",
   "metadata": {
    "hidden": true
   },
   "source": [
    "This argument is required unless the weather model files are directly specified. The date(s) passed can be either: \n",
    "1) a single date, specified in psuedo-ISO 8601 format: 20180101, 2018-01-01, etc.  \n",
    "2) a space-deliminated pair of dates, in which case all the dates between the pair listed will be downloaded and processed. E.g., '20180101 20190101'  \n",
    "3) a space-delimited pair of dates plus an interval in days, to specify the date interval to download. E.g., '20180101 20190101 12'"
   ]
  },
  {
   "cell_type": "markdown",
   "metadata": {
    "heading_collapsed": true,
    "hidden": true
   },
   "source": [
    "### 2. Time of day (**`--time TIME`**)\n",
    "<a id='time_arg'></a>"
   ]
  },
  {
   "cell_type": "markdown",
   "metadata": {
    "hidden": true
   },
   "source": [
    "This argument is also required unless files are explicitly passed. Specify the time of day to download and process in psuedo-ISO 8601 format: \n",
    "1) T020000  \n",
    "2) T02:00:00.000  \n",
    "3) T0200  \n",
    "4) 12:00:00  \n",
    "5) 120000  \n",
    "etc. "
   ]
  },
  {
   "cell_type": "markdown",
   "metadata": {},
   "source": [
    "### 3. Area of Interest (AOI) arguments\n",
    "<a id='aoi_arg'></a>\n",
    "\n",
    "RAiDER requires one of three different options as inputs for the AOI: 1) a bounding box, in which case the weather model grid nodes are used for x/y locations, 2) a station file, which should be a .csv containing at minimum the columns \"Lat\" and \"Lon,\" and 3) ISCE-style latitude and longitude grid files in radar coordinates. Only one option should be used, and the arguments can be passed as described below.  "
   ]
  },
  {
   "cell_type": "markdown",
   "metadata": {},
   "source": [
    "#### Latitude / Longitude files (**`--latlon LAT LONG`**)\n",
    "- Format is ```--latlon <latitude file> <longitude file>```. \n",
    "- Files in gridded radar coordinates; i.e. 2-D files containing the latitude and longitude of each pixel\n",
    "- Example: ```--latlon lat.rdr lon.rdr```  "
   ]
  },
  {
   "cell_type": "markdown",
   "metadata": {},
   "source": [
    "#### Bounding Box (**`--bbox S N W E`**)\n",
    "- A list of four numbers describing a bounding box\n",
    "- Format is South North West East\n",
    "- Values can be integers or decimals. \n",
    "- A buffer will automatically be added to compensate for rays at the edge of the bounding box\n",
    "- Example: ```--bbox 41 42 -78 -77```  "
   ]
  },
  {
   "cell_type": "markdown",
   "metadata": {},
   "source": [
    "#### Station file (**`--station_file STATION_FILE`**)\n",
    "- A comma-delimited file with at least the columns \"Lat\" and \"Lon\"\n",
    "- An example is a file containing a list of GNSS stations with location info\n",
    "- If the heights of the stations are known, the height column should have the name \"Hgt_m\" and give ellipsoidal heights in meters. If heights are not known, RAiDER will download a DEM for the region encompassing the station locations to get the height info. \n",
    "- Example: ```--station_file stations.csv```"
   ]
  },
  {
   "cell_type": "markdown",
   "metadata": {
    "heading_collapsed": true,
    "hidden": true
   },
   "source": [
    "### 4. Line-of-sight Information\n",
    "<a id='los_arg'></a>"
   ]
  },
  {
   "cell_type": "markdown",
   "metadata": {
    "hidden": true
   },
   "source": [
    "This option is used to specify line-of-sight information. \n",
    "The line-of-sight is used to calculate the true rays from the ground pixel to the top of the troposphere, along of the line-of-sight to the sensor platform. One of the following two optional arguments may be specified; otherwise, RAiDER will compute the zenith delay (ZTD). "
   ]
  },
  {
   "cell_type": "markdown",
   "metadata": {
    "hidden": true
   },
   "source": [
    "#### RADAR Line-of-sight file in ISCE format (**`--lineofsight LOS`**)\n",
    "- A two-band GDAL-readable raster file containing the look vector components for the sensor, of the same size as the radar/SLC images\n",
    "- Band 1 should be incidence angle in degrees from vertical\n",
    "- Band 2 should be heading in degrees clockwise from north\n",
    "- Example: ```--lineofsight los.rdr```"
   ]
  },
  {
   "cell_type": "markdown",
   "metadata": {},
   "source": [
    "#### State vector file (**`--statevectors SV`**)\n",
    "- An ISCE-derived XML file, shelve file, text file, or ESA orbit file containing state vectors specifying the orbit of the sensor. \n",
    "- Example: ```--statevectors orbit.xml```"
   ]
  },
  {
   "cell_type": "markdown",
   "metadata": {
    "hidden": true
   },
   "source": [
    "### 5. Height information\n",
    "<a id='height_arg'></a>\n",
    "\n",
    "Ellipsoidal heights are needed to compute absolute delays. These can come from a DEM or simply by specifying fixed height levels. By default, RAiDER will download a DEM. A user can also specify an existing DEM or a set of specified height levels. For the latter, RAiDER will produce a 3D cube of delays, where the xy information is specified by the AOI arguments and the z-levels are specified directly. "
   ]
  },
  {
   "cell_type": "markdown",
   "metadata": {
    "heading_collapsed": true,
    "hidden": true
   },
   "source": [
    "#### DEM (**`--dem DEM`**)\n",
    "- The DEM over the area of interest can be specified explicitly, or it will be downloaded on-the-fly. RAiDER will check the default location for a DEM (./geom), so if you download the DEM once it will not be downloaded again. "
   ]
  },
  {
   "cell_type": "markdown",
   "metadata": {
    "hidden": true
   },
   "source": [
    "#### Height levels (**`--heightlvs HEIGHTLVS`**)\n",
    "- This option specifies a list of heights, for which the delay will be calculated. The result is a full 3-D cube of delays at the specified lat/lon grid and height levels. "
   ]
  },
  {
   "cell_type": "markdown",
   "metadata": {},
   "source": [
    "### 6. Weather Model Information\n",
    "<a id='weather_model_arg'></a>"
   ]
  },
  {
   "cell_type": "markdown",
   "metadata": {
    "hidden": true
   },
   "source": [
    "#### Weather model (**`--model {ERA5,ERA5T,ERAI,MERRA2,WRF,HRRR,GMAO,HDF5,HRES,NCMR}`**)\n",
    "- Specifies the type of weather model to use\n",
    "- Allowed models currently include ERA5, ERA5T, ERAI, MERRA2, HRRR, GMAO, HRES, and NCMR\n",
    "- Must be included in the ALLOWED_MODELS list in allowed.py and have a reader module defined\n",
    "- New weather models can be included following the template given in template.py"
   ]
  },
  {
   "cell_type": "markdown",
   "metadata": {},
   "source": [
    "#### Files (**`--files FILES`**)\n",
    "- A file containing the weather model data that can be processed using a defined reader\n",
    "- An example usage is to re-process a file previously downloaded"
   ]
  },
  {
   "cell_type": "markdown",
   "metadata": {},
   "source": [
    "#### Weather file directory (**`--weatherFiles WMLOC`**)\n",
    "- Specifies the directory location of/to write weather model files\n",
    "- Default is ./weather_files"
   ]
  },
  {
   "cell_type": "markdown",
   "metadata": {},
   "source": [
    "### 7. Runtime parameters\n",
    "<a id='runtime_arg'></a>"
   ]
  },
  {
   "cell_type": "markdown",
   "metadata": {
    "heading_collapsed": true,
    "hidden": true
   },
   "source": [
    "#### Reference integration height (**`--zref ZREF`**)\n",
    "- Integration height to use when computing the total delay. \n",
    "- Default is 15 km. "
   ]
  },
  {
   "cell_type": "markdown",
   "metadata": {},
   "source": [
    "#### Parallel Computation flag (**`--parallel`**)\n",
    "- Specifies the number of CPUs to use for parallel calculations\n",
    "- Default is 1 (one) for serial processing"
   ]
  },
  {
   "cell_type": "markdown",
   "metadata": {
    "hidden": true
   },
   "source": [
    "#### Output file format (**`--outformat OUTFORMAT`**)\n",
    "- GDAL-compatible raster image format\n",
    "- Default is ENVI\n",
    "- For other types of inputs (bounding box, station list) this argument is not used"
   ]
  },
  {
   "cell_type": "markdown",
   "metadata": {
    "hidden": true
   },
   "source": [
    "#### Output file directory (**`--out OUT`**)\n",
    "- This specifies the location of the output files. \n",
    "- Default is the current directory"
   ]
  },
  {
   "cell_type": "markdown",
   "metadata": {},
   "source": [
    "#### Download the weather model only (**`--download_only`**)\n",
    "- Download the weather model only and do nothing else. "
   ]
  },
  {
   "cell_type": "markdown",
   "metadata": {},
   "source": [
    "#### Run in verbose mode (**`-v/--verbose`**)\n",
    "- Runs the code in verbose mode. "
   ]
  },
  {
   "cell_type": "markdown",
   "metadata": {
    "hidden": true
   },
   "source": [
    "## Examples using RAiDER\n",
    "<a id='runtime_arg'></a>"
   ]
  },
  {
   "cell_type": "markdown",
   "metadata": {},
   "source": [
    "In this section we will demostrate some of the basic capabilities of RAiDER, using a region in southern California shown below. \n",
    "The study area is around Los Angles, chosen to be a a square box 10 x 10 deg centered on 34 deg latitude, -118 deg  longitude. (See the optical image below.)\n",
    "\n",
    "The debugging plots have been generated for several weather models (ERA-5, ERA-5T, ERA-I, MERRA-2, GMAO, HRRR, ECMWF HRES, NCMR) on July 1st, 2018 at 00:00:00. ERA-5 is shown below, and the others are in the img directory in this folder.  \n",
    "\n",
    "For each weather model, the first debugging plot (with option 'pqt') shows the pressure/humidity/temperature at an altitude of 500 m (top row) and 15,000 m (middle row), and then the bottom row shows the vertical variation of pressure/humidity/temperature located specifically at the black point (Los Angeles).\n",
    "\n",
    "The second debugging plot (with option 'wh') shows the wet and hydrostatic refractivity at the altitude of 500 m (top row) and 15,000 m (bottomw row)."
   ]
  },
  {
   "cell_type": "markdown",
   "metadata": {},
   "source": [
    "![Optical Image at Los Angeles]()\n",
    "<img src=\"img/optical.png\" width=\"300\" height=\"150\">\n",
    "\\\n",
    "\\\n",
    "![ERA-5 Weather Model Data 20180701T00:00:00]()\n",
    "![ERA-5_weather_hgt500_and_15000m.pdf](img/ERA-5_weather_hgt500_and_15000m.png)\n",
    "![ERA-5 Wet and Hydrostatic Refractivity 20180701T00:00:00]()\n",
    "![ERA-5_refractivity_hgt500_and_15000m](img/ERA-5_refractivity_hgt500_and_15000m.png)\n",
    "\\"
   ]
  },
  {
   "cell_type": "markdown",
   "metadata": {},
   "source": [
    "### Example using a bounding box\n",
    "<a id='bounding_box_example'></a>"
   ]
  },
  {
   "cell_type": "code",
   "execution_count": 3,
   "metadata": {},
   "outputs": [
    {
     "name": "stdout",
     "output_type": "stream",
     "text": [
      "Weather model ERA-5 is available from 1950-01-01 00:00:00-Present\n",
      "/Users/jeremym/.local/lib/python3.7/site-packages/urllib3/connectionpool.py:858: InsecureRequestWarning: Unverified HTTPS request is being made. Adding certificate verification is strongly advised. See: https://urllib3.readthedocs.io/en/latest/advanced-usage.html#ssl-warnings\n",
      "  InsecureRequestWarning)\n",
      "2021-02-18 20:41:28,409 INFO Welcome to the CDS\n",
      "2021-02-18 20:41:28,409 INFO Sending request to https://cds.climate.copernicus.eu/api/v2/resources/reanalysis-era5-pressure-levels\n",
      "/Users/jeremym/.local/lib/python3.7/site-packages/urllib3/connectionpool.py:858: InsecureRequestWarning: Unverified HTTPS request is being made. Adding certificate verification is strongly advised. See: https://urllib3.readthedocs.io/en/latest/advanced-usage.html#ssl-warnings\n",
      "  InsecureRequestWarning)\n",
      "2021-02-18 20:41:29,185 INFO Request is queued\n",
      "/Users/jeremym/.local/lib/python3.7/site-packages/urllib3/connectionpool.py:858: InsecureRequestWarning: Unverified HTTPS request is being made. Adding certificate verification is strongly advised. See: https://urllib3.readthedocs.io/en/latest/advanced-usage.html#ssl-warnings\n",
      "  InsecureRequestWarning)\n",
      "2021-02-18 20:41:30,310 INFO Request is running\n",
      "/Users/jeremym/.local/lib/python3.7/site-packages/urllib3/connectionpool.py:858: InsecureRequestWarning: Unverified HTTPS request is being made. Adding certificate verification is strongly advised. See: https://urllib3.readthedocs.io/en/latest/advanced-usage.html#ssl-warnings\n",
      "  InsecureRequestWarning)\n",
      "/Users/jeremym/.local/lib/python3.7/site-packages/urllib3/connectionpool.py:858: InsecureRequestWarning: Unverified HTTPS request is being made. Adding certificate verification is strongly advised. See: https://urllib3.readthedocs.io/en/latest/advanced-usage.html#ssl-warnings\n",
      "  InsecureRequestWarning)\n",
      "/Users/jeremym/.local/lib/python3.7/site-packages/urllib3/connectionpool.py:858: InsecureRequestWarning: Unverified HTTPS request is being made. Adding certificate verification is strongly advised. See: https://urllib3.readthedocs.io/en/latest/advanced-usage.html#ssl-warnings\n",
      "  InsecureRequestWarning)\n",
      "2021-02-18 20:41:37,814 INFO Request is completed\n",
      "2021-02-18 20:41:37,814 INFO Downloading https://download-0009.copernicus-climate.eu/cache-compute-0009/cache/data9/adaptor.mars.internal-1613702489.318871-31256-19-9d7245a0-7f4e-4bc6-860e-2f68051d5b0c.nc to ./weather_files/ERA-5_2020_01_03_T00_00_00.nc (562.2K)\n",
      "/Users/jeremym/.local/lib/python3.7/site-packages/urllib3/connectionpool.py:858: InsecureRequestWarning: Unverified HTTPS request is being made. Adding certificate verification is strongly advised. See: https://urllib3.readthedocs.io/en/latest/advanced-usage.html#ssl-warnings\n",
      "  InsecureRequestWarning)\n",
      "2021-02-18 20:41:38,984 INFO Download rate 480.5K/s                             \n",
      "/Users/jeremym/.local/lib/python3.7/site-packages/urllib3/connectionpool.py:858: InsecureRequestWarning: Unverified HTTPS request is being made. Adding certificate verification is strongly advised. See: https://urllib3.readthedocs.io/en/latest/advanced-usage.html#ssl-warnings\n",
      "  InsecureRequestWarning)\n",
      "\u001b[33;21mWARNING: download_only flag selected. No further processing will happen.\u001b[0m\n",
      "2021-02-18 20:41:39,126 WARNING download_only flag selected. No further processing will happen.\n"
     ]
    }
   ],
   "source": [
    "# Try downloading the data \n",
    "!raiderDelay.py --date 20200103 --time 00:00:00 -b 29 39 -123 -113 --model ERA5 --download_only -v"
   ]
  },
  {
   "cell_type": "code",
   "execution_count": 5,
   "metadata": {},
   "outputs": [
    {
     "name": "stdout",
     "output_type": "stream",
     "text": [
      "ERA-5_2020_01_03_T00_00_00.nc\r\n"
     ]
    }
   ],
   "source": [
    "# We can look at the downloaded file\n",
    "!ls weather_files/"
   ]
  },
  {
   "cell_type": "code",
   "execution_count": 6,
   "metadata": {},
   "outputs": [
    {
     "name": "stdout",
     "output_type": "stream",
     "text": [
      "Driver: netCDF/Network Common Data Format\r\n",
      "Files: weather_files/ERA-5_2020_01_03_T00_00_00.nc\r\n",
      "Size is 512, 512\r\n",
      "Metadata:\r\n",
      "  NC_GLOBAL#Conventions=CF-1.6\r\n",
      "  NC_GLOBAL#history=2021-02-19 02:41:36 GMT by grib_to_netcdf-2.16.0: /opt/ecmwf/eccodes/bin/grib_to_netcdf -S param -o /cache/data9/adaptor.mars.internal-1613702489.318871-31256-19-9d7245a0-7f4e-4bc6-860e-2f68051d5b0c.nc /cache/tmp/9d7245a0-7f4e-4bc6-860e-2f68051d5b0c-adaptor.mars.internal-1613702489.3194246-31256-7-tmp.grib\r\n",
      "Subdatasets:\r\n",
      "  SUBDATASET_1_NAME=NETCDF:\"weather_files/ERA-5_2020_01_03_T00_00_00.nc\":z\r\n",
      "  SUBDATASET_1_DESC=[1x37x44x44] geopotential (16-bit integer)\r\n",
      "  SUBDATASET_2_NAME=NETCDF:\"weather_files/ERA-5_2020_01_03_T00_00_00.nc\":r\r\n",
      "  SUBDATASET_2_DESC=[1x37x44x44] relative_humidity (16-bit integer)\r\n",
      "  SUBDATASET_3_NAME=NETCDF:\"weather_files/ERA-5_2020_01_03_T00_00_00.nc\":q\r\n",
      "  SUBDATASET_3_DESC=[1x37x44x44] specific_humidity (16-bit integer)\r\n",
      "  SUBDATASET_4_NAME=NETCDF:\"weather_files/ERA-5_2020_01_03_T00_00_00.nc\":t\r\n",
      "  SUBDATASET_4_DESC=[1x37x44x44] air_temperature (16-bit integer)\r\n",
      "Corner Coordinates:\r\n",
      "Upper Left  (    0.0,    0.0)\r\n",
      "Lower Left  (    0.0,  512.0)\r\n",
      "Upper Right (  512.0,    0.0)\r\n",
      "Lower Right (  512.0,  512.0)\r\n",
      "Center      (  256.0,  256.0)\r\n"
     ]
    }
   ],
   "source": [
    "# GDAL provides an API to access the variables and attributes of the file\n",
    "!gdalinfo weather_files/ERA-5_2020_01_03_T00_00_00.nc"
   ]
  },
  {
   "cell_type": "code",
   "execution_count": 7,
   "metadata": {},
   "outputs": [
    {
     "name": "stdout",
     "output_type": "stream",
     "text": [
      "\u001b[33;21mWARNING: Weather model already exists, please remove it (\"['./weather_files/ERA-5_2020_01_03_T00_00_00.nc']\") if you want to download a new one.\u001b[0m\r\n"
     ]
    }
   ],
   "source": [
    "# We can re-run the same command, and RAiDER won't re-download the weather model as long as it is the default location\n",
    "!raiderDelay.py --date 20200103 --time 00:00:00 -b 29 39 -123 -113 --model ERA5"
   ]
  },
  {
   "cell_type": "markdown",
   "metadata": {},
   "source": [
    "### Example using a GNSS station list\n",
    "<a id='station_list_example'></a>"
   ]
  },
  {
   "cell_type": "markdown",
   "metadata": {},
   "source": [
    "When using a GNSS station list, the program will create a bounding box around the list of points. \n",
    "For demonstration purposes, we will use a small list of stations from the L.A. area so that we don't have to download another weather model file. "
   ]
  },
  {
   "cell_type": "code",
   "execution_count": 10,
   "metadata": {},
   "outputs": [
    {
     "name": "stdout",
     "output_type": "stream",
     "text": [
      "\u001b[33;21mWARNING: Weather model already exists, please remove it (\"['./weather_files/ERA-5_2020_01_03_T00_00_00.nc']\") if you want to download a new one.\u001b[0m\n",
      "\u001b[33;21mWARNING: The processed weather model file already exists, so I will use that.\u001b[0m\n",
      "Finished writing data to ['./ERA5_Delay_20200103T000000_Zmax15000.0.csv']\n"
     ]
    }
   ],
   "source": [
    "!raiderDelay.py --date 20200103 --time 00:00:00 --station_file data/sample_gnss_list.csv --model ERA5"
   ]
  },
  {
   "cell_type": "markdown",
   "metadata": {},
   "source": [
    "After running RAiDER, you can look at the debug plots and the final delay files"
   ]
  },
  {
   "cell_type": "code",
   "execution_count": 13,
   "metadata": {},
   "outputs": [
    {
     "name": "stdout",
     "output_type": "stream",
     "text": [
      "ERA-5_refractivity_hgt500_and_15000m.pdf\r\n",
      "ERA-5_weather_hgt500_and_15000m.pdf\r\n",
      "ERA5_Delay_20200103T000000_Zmax15000.0.csv\r\n",
      "\u001b[31mRAiDER_tutorial.ipynb\u001b[m\u001b[m\r\n",
      "\u001b[34mdata\u001b[m\u001b[m\r\n",
      "debug.log\r\n",
      "error.log\r\n",
      "\u001b[34mgeom\u001b[m\u001b[m\r\n",
      "\u001b[34mimg\u001b[m\u001b[m\r\n",
      "\u001b[34mweather_files\u001b[m\u001b[m\r\n"
     ]
    }
   ],
   "source": [
    "!ls"
   ]
  },
  {
   "cell_type": "markdown",
   "metadata": {},
   "source": [
    "Once we have the delays in the .csv file, we can use Pandas to view and manipulate the data"
   ]
  },
  {
   "cell_type": "code",
   "execution_count": 18,
   "metadata": {},
   "outputs": [],
   "source": [
    "delays = pd.read_csv('ERA5_Delay_20200103T000000_Zmax15000.0.csv')"
   ]
  },
  {
   "cell_type": "code",
   "execution_count": 20,
   "metadata": {},
   "outputs": [
    {
     "data": {
      "text/html": [
       "<div>\n",
       "<style scoped>\n",
       "    .dataframe tbody tr th:only-of-type {\n",
       "        vertical-align: middle;\n",
       "    }\n",
       "\n",
       "    .dataframe tbody tr th {\n",
       "        vertical-align: top;\n",
       "    }\n",
       "\n",
       "    .dataframe thead th {\n",
       "        text-align: right;\n",
       "    }\n",
       "</style>\n",
       "<table border=\"1\" class=\"dataframe\">\n",
       "  <thead>\n",
       "    <tr style=\"text-align: right;\">\n",
       "      <th></th>\n",
       "      <th>ID</th>\n",
       "      <th>Lat</th>\n",
       "      <th>Lon</th>\n",
       "      <th>Hgt_m</th>\n",
       "      <th>wetDelay</th>\n",
       "      <th>hydroDelay</th>\n",
       "      <th>totalDelay</th>\n",
       "    </tr>\n",
       "  </thead>\n",
       "  <tbody>\n",
       "    <tr>\n",
       "      <th>0</th>\n",
       "      <td>5PTS</td>\n",
       "      <td>36.429179</td>\n",
       "      <td>-120.264977</td>\n",
       "      <td>56.523155</td>\n",
       "      <td>0.079500</td>\n",
       "      <td>2.029683</td>\n",
       "      <td>2.109182</td>\n",
       "    </tr>\n",
       "    <tr>\n",
       "      <th>1</th>\n",
       "      <td>7OAK</td>\n",
       "      <td>37.594986</td>\n",
       "      <td>-114.759090</td>\n",
       "      <td>1713.278104</td>\n",
       "      <td>0.047108</td>\n",
       "      <td>1.681415</td>\n",
       "      <td>1.728524</td>\n",
       "    </tr>\n",
       "    <tr>\n",
       "      <th>2</th>\n",
       "      <td>7ODM</td>\n",
       "      <td>34.116407</td>\n",
       "      <td>-117.093192</td>\n",
       "      <td>762.071709</td>\n",
       "      <td>0.057447</td>\n",
       "      <td>1.870133</td>\n",
       "      <td>1.927580</td>\n",
       "    </tr>\n",
       "    <tr>\n",
       "      <th>3</th>\n",
       "      <td>ACSB</td>\n",
       "      <td>33.274265</td>\n",
       "      <td>-117.444891</td>\n",
       "      <td>-12.296036</td>\n",
       "      <td>0.088613</td>\n",
       "      <td>2.036586</td>\n",
       "      <td>2.125199</td>\n",
       "    </tr>\n",
       "    <tr>\n",
       "      <th>4</th>\n",
       "      <td>ACSX</td>\n",
       "      <td>33.274265</td>\n",
       "      <td>-117.444892</td>\n",
       "      <td>-12.291230</td>\n",
       "      <td>0.088613</td>\n",
       "      <td>2.036585</td>\n",
       "      <td>2.125198</td>\n",
       "    </tr>\n",
       "  </tbody>\n",
       "</table>\n",
       "</div>"
      ],
      "text/plain": [
       "     ID        Lat         Lon        Hgt_m  wetDelay  hydroDelay  totalDelay\n",
       "0  5PTS  36.429179 -120.264977    56.523155  0.079500    2.029683    2.109182\n",
       "1  7OAK  37.594986 -114.759090  1713.278104  0.047108    1.681415    1.728524\n",
       "2  7ODM  34.116407 -117.093192   762.071709  0.057447    1.870133    1.927580\n",
       "3  ACSB  33.274265 -117.444891   -12.296036  0.088613    2.036586    2.125199\n",
       "4  ACSX  33.274265 -117.444892   -12.291230  0.088613    2.036585    2.125198"
      ]
     },
     "execution_count": 20,
     "metadata": {},
     "output_type": "execute_result"
    }
   ],
   "source": [
    "delays.head()"
   ]
  },
  {
   "cell_type": "code",
   "execution_count": 24,
   "metadata": {},
   "outputs": [
    {
     "data": {
      "text/plain": [
       "<AxesSubplot:xlabel='Hgt_m', ylabel='totalDelay'>"
      ]
     },
     "execution_count": 24,
     "metadata": {},
     "output_type": "execute_result"
    },
    {
     "data": {
      "image/png": "[encoded data removed]",
      "text/plain": [
       "<Figure size 432x288 with 1 Axes>"
      ]
     },
     "metadata": {
      "needs_background": "light"
     },
     "output_type": "display_data"
    }
   ],
   "source": [
    "delays.plot.scatter(x='Hgt_m',y='totalDelay', marker='.')"
   ]
  }
 ],
 "metadata": {
  "kernelspec": {
   "display_name": "Python 3",
   "language": "python",
   "name": "python3"
  },
  "language_info": {
   "codemirror_mode": {
    "name": "ipython",
    "version": 3
   },
   "file_extension": ".py",
   "mimetype": "text/x-python",
   "name": "python",
   "nbconvert_exporter": "python",
   "pygments_lexer": "ipython3",
   "version": "3.7.8"
  },
  "latex_envs": {
   "LaTeX_envs_menu_present": true,
   "autoclose": false,
   "autocomplete": false,
   "bibliofile": "biblio.bib",
   "cite_by": "apalike",
   "current_citInitial": 1,
   "eqLabelWithNumbers": true,
   "eqNumInitial": 1,
   "hotkeys": {
    "equation": "Ctrl-E",
    "itemize": "Ctrl-I"
   },
   "labels_anchors": false,
   "latex_user_defs": false,
   "report_style_numbering": false,
   "user_envs_cfg": false
  }
 },
 "nbformat": 4,
 "nbformat_minor": 4
}
