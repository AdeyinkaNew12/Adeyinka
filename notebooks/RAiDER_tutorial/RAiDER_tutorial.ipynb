{
 "cells": [
  {
   "cell_type": "markdown",
   "metadata": {},
   "source": [
    "# Getting Started with RAiDER\n",
    "\n",
    "**Author**: Jeremy Maurer, David Bekaert, Simran Sangha, Yang Lei - Jet Propulsion Laboratory, California Institute of Technology\n",
    "\n",
    "This notebook provides an overview of how to get started using the RAiDER package for estimating tropospheric RADAR delays, and other functionality included in the **raiderDelay.py** program. We give an example of how to download and process delays using the ERA-5 weather model for the Los Angeles region. \n",
    "\n",
    "In this notebook, we will demonstrate how to:\n",
    "- Use the raiderDelay.py command-line utility to download and process tropospheric delays\n",
    "- Generate Zenith Delays over the Los Angeles region\n",
    "- Generate Zenith Delays for a set of GNSS stations over the Los Angeles region\n",
    "\n",
    "The notebook will take approximately 15 minutes to run all the way through aside from the data download step. "
   ]
  },
  {
   "cell_type": "markdown",
   "metadata": {},
   "source": [
    "<div class=\"alert alert-warning\">\n",
    "The initial setup (<b>Prep A</b> section) should be run at the start of the notebook. The overview sections do not need to be run in order. \n",
    "</div>\n",
    "\n",
    "<div class=\"alert alert-danger\">\n",
    "<b>Potential Errors:</b> \n",
    "    \n",
    "- Pandas 1.2.0 or greater is required for some of the the plotting examples.   \n",
    "- RAiDER needs to be installed to run this notebook  \n",
    "</div>\n",
    "\n",
    "\n",
    "<div class=\"alert alert-info\">\n",
    "    <b>Terminology:</b>\n",
    "    \n",
    "- *Acquisition*: A single image acquired by a satellite at a particular time\n",
    "- *AOI*: Area of interest: the lat/lon area (in RAiDER a square region) containing your query points\n",
    "- *Interferogram*: An unwrapped image containing the surface displacement accumulated between two acquisitions.\n",
    "- *SLC*: Single-look complex image. A complex single-band raster that contains a single focused RADAR frame from a SAR satellite. For Sentinel-1, SLCs are Level-1 products. \n",
    "- *Weather model*: A reanalysis weather product defining temperature, pressure, and humidity on a regular grid in some coordinate system (e.g., at regular lat/lon intervals in the standard EPSG:4326 reference frame).\n",
    "- *Delay*: The apparent displacement in an interferogram that occurs solely due to changes in weather conditions between two acquisitions.\n",
    "    </div>\n",
    "    "
   ]
  },
  {
   "cell_type": "markdown",
   "metadata": {},
   "source": [
    "## Table of Contents"
   ]
  },
  {
   "cell_type": "markdown",
   "metadata": {},
   "source": [
    "[**Overview of the raiderDelay.py program**](#overview)  \n",
    "[1. Details of the user input options](#user-input)  \n",
    "[- DateList](#date_arg)  \n",
    "[- Time](#time_arg)  \n",
    "[- Area of Interest](#aoi_arg)  \n",
    "[- Line-of-sight information](#los_arg)   \n",
    "[- Height information](#height_arg)  \n",
    "[- Weather Model Type](#weather_model_arg)  \n",
    "[- Other Runtime Parameters](#runtime_arg)\n",
    "  \n",
    "[**Example Calculations**](#examples)  \n",
    "[1. Downloading the weather model data using a bounding box](#bounding_box_example)  \n",
    "[2. Compute Zenith Delays using a bounding box](#bounding_box_ztd)  \n",
    "[3. Compute Zenith Delays using a list of GNSS stations](#station_list_example)  \n",
    "[4. Visualizing Zenith Delays for a list of GNSS stations](#station_list_visualization)  \n",
    "[5. Compute Slant Delays using ISCE raster files](#raster_example)  "
   ]
  },
  {
   "cell_type": "markdown",
   "metadata": {},
   "source": [
    "## Prep: Initial setup of the notebook"
   ]
  },
  {
   "cell_type": "markdown",
   "metadata": {},
   "source": [
    "Please run the cell below prior to running the rest of the notebook to ensure RAiDER is installed and set your working directory. You can change the relevant directories as desired for your system.  "
   ]
  },
  {
   "cell_type": "code",
   "execution_count": 2,
   "metadata": {},
   "outputs": [
    {
     "name": "stdout",
     "output_type": "stream",
     "text": [
      "Tutorial directory:  /Users/jlmd9g/software/RAiDER-docs/notebooks/RAiDER_tutorial\n",
      "Work directory:  /Users/jlmd9g/software/RAiDER-docs/notebooks/RAiDER_tutorial\n"
     ]
    }
   ],
   "source": [
    "import os\n",
    "import numpy as np\n",
    "import matplotlib.pyplot as plt\n",
    "import pandas as pd\n",
    "\n",
    "## Defining the home and data directories\n",
    "tutorial_home_dir = os.path.abspath(os.getcwd())\n",
    "work_dir = os.path.abspath(os.getcwd())\n",
    "print(\"Tutorial directory: \", tutorial_home_dir)\n",
    "print(\"Work directory: \", work_dir)\n",
    "\n",
    "# Verifying if RAiDER is installed correctly\n",
    "try:\n",
    "    import RAiDER\n",
    "except:\n",
    "    raise Exception('RAiDER is missing from your PYTHONPATH')\n",
    "\n",
    "os.chdir(work_dir)"
   ]
  },
  {
   "cell_type": "markdown",
   "metadata": {
    "hidden": true
   },
   "source": [
    "## Overview of the raiderDelay.py program\n",
    "<a id='overview'></a>\n",
    "\n",
    "**`raiderDelay.py`** is a command-line program written in Python that allows for easy downloading and processing of tropospheric weather delays for InSAR correction or comparison with GNSS tropospheric delays.\n",
    "raiderDelay.yaml shows all the different options that can be passed to RAiDER; the software is extensible such that arguments can also be passed for custom workflows if desired. "
   ]
  },
  {
   "cell_type": "code",
   "execution_count": 2,
   "metadata": {
    "hidden": true
   },
   "outputs": [
    {
     "name": "stdout",
     "output_type": "stream",
     "text": [
      "usage: raiderDelay.py [-h] [-g] [--start STEP] [--end STEP] [--dostep STEP]\n",
      "                      [customTemplateFile]\n",
      "\n",
      "Command line options for RAiDER processing to calculate tropospheric\n",
      "delay from a weather model. Default options can be found by running\n",
      "raiderDelay.py --generate_config.\n",
      "\n",
      "positional arguments:\n",
      "  customTemplateFile    custom template with option settings. ignored if the\n",
      "                        default smallbaselineApp.cfg is input.\n",
      "\n",
      "options:\n",
      "  -h, --help            show this help message and exit\n",
      "  -g, --generate_template\n",
      "                        generate default template (if it does not exist) and\n",
      "                        exit.\n",
      "\n",
      "steps processing (start/end/dostep):\n",
      "  Command line options for steps processing with names are chosen from the following list:\n",
      "  ['load_weather_model', 'calculate_delays']\n",
      "  In order to use either --start or --dostep, it is necessary that a\n",
      "  previous run was done using one of the steps options to process at least\n",
      "  through the step immediately preceding the starting step of the current run.\n",
      "\n",
      "  --start STEP          start processing at the named step (default:\n",
      "                        load_weather_model).\n",
      "  --end STEP, --stop STEP\n",
      "                        end processing at the named step (default:\n",
      "                        calculate_delays)\n",
      "  --dostep STEP         run processing at the named step only\n",
      "\n",
      "Usage examples:\n",
      "raiderDelay.py -g\n",
      "raiderDelay.py customTemplatefile.cfg\n",
      "raiderDelay.py --dostep=load_weather_model\n"
     ]
    }
   ],
   "source": [
    "# Running raiderDelay.py -h will print the help menu\n",
    "!raiderDelay.py -h"
   ]
  },
  {
   "attachments": {
    "350ef453-f997-4a53-b91a-8e7da11fb72b.png": {
     "image/png": "[encoded data removed]"
    }
   },
   "cell_type": "markdown",
   "metadata": {},
   "source": [
    "## Details of the user input options\n",
    "<a id='user-input'></a>\n",
    "RAiDER is quite flexible in terms of the input arguments it allows.  \n",
    "Options are specified in a configuration file. An example is shown below and in raider_example_1.yaml\n",
    "\n",
    "![example_yaml.png](attachment:350ef453-f997-4a53-b91a-8e7da11fb72b.png)"
   ]
  },
  {
   "cell_type": "markdown",
   "metadata": {},
   "source": [
    "### 1. weather_model\n",
    "<a id='weather_model_arg'></a>"
   ]
  },
  {
   "cell_type": "markdown",
   "metadata": {
    "hidden": true
   },
   "source": [
    "This parameter is required. \n",
    "\n",
    "RAiDER supports several weather models, including: \n",
    "- ERA-5,\n",
    "- ERA-5T,\n",
    "- ERA-I,\n",
    "- MERRA-2,\n",
    "- HRRR,\n",
    "- GMAO,\n",
    "- HRES, and\n",
    "- NCMR\n",
    "\n",
    "Custom weather models can also be defined using the [template file](https://github.com/dbekaert/RAiDER/blob/8265cfb05678b156f10ad9866f5753fbd91b6f7f/tools/RAiDER/models/template.py) to define a custom reader and adding the model to the [ALLOWED_MODELS](https://github.com/dbekaert/RAiDER/blob/8265cfb05678b156f10ad9866f5753fbd91b6f7f/tools/RAiDER/models/allowed.py) list. \n",
    "Setting up the licensing and API keys for each weather model is different; see [WeatherModels.md](https://github.com/dbekaert/RAiDER/blob/8265cfb05678b156f10ad9866f5753fbd91b6f7f/WeatherModels.md) in the main RAiDER repository for more details. "
   ]
  },
  {
   "cell_type": "markdown",
   "metadata": {
    "heading_collapsed": true,
    "hidden": true
   },
   "source": [
    "### 2. date_group\n",
    "<a id='date_arg'></a>"
   ]
  },
  {
   "cell_type": "markdown",
   "metadata": {
    "hidden": true
   },
   "source": [
    "This argument group is required. \n",
    "\n",
    "Dates are specified as either a single date, a date range, or a date list.  \n",
    "`date_start`: a single date, specified in psuedo-ISO 8601 format: 20180101, 2018-01-01, etc.   \n",
    "`date_end`: a single date, specified in psuedo-ISO 8601 format, last date in range minus one `date_step` to process.  \n",
    "`date_step`: integer, interval in days between date_start and date_end to process.  \n",
    "`date_list`: Python list of dates to process in psuedo-ISO 8601 format.  "
   ]
  },
  {
   "cell_type": "markdown",
   "metadata": {
    "heading_collapsed": true,
    "hidden": true
   },
   "source": [
    "### 3. time_group\n",
    "<a id='time_arg'></a>"
   ]
  },
  {
   "cell_type": "markdown",
   "metadata": {
    "hidden": true
   },
   "source": [
    "This argument is required. \n",
    "\n",
    "`time`: UTC time to process in psuedo-ISO 8601 format. Accepted formats include:\n",
    "1) T020000  \n",
    "2) T02:00:00.000  \n",
    "3) T0200  \n",
    "4) 12:00:00  \n",
    "5) 120000  \n",
    "etc. \n",
    "\n",
    "`time_end`: Last UTC time to consider when processing an orbit file. This option is only needed if an orbit file is specified in the `los_group`"
   ]
  },
  {
   "cell_type": "markdown",
   "metadata": {},
   "source": [
    "### 4. aoi_group\n",
    "<a id='aoi_arg'></a>"
   ]
  },
  {
   "cell_type": "markdown",
   "metadata": {},
   "source": [
    "This group is required if not pulling lat/lon info from a geocoded file (see `los_group` options).\n",
    "\n",
    "RAiDER can handle several different types of AOIs: \n",
    "1) `bounding_box`: a bounding box in SNWE format, in which case the weather model grid nodes are used for x/y or lat/lon locations.  \n",
    "2) `lat_file, lon_file`: Latitude and longitude grid files in gridded radar coordinates; e.g., files generated using ISCE\n",
    "3) `station_file`: a comma-delimited file containing at minimum the columns \"Lat\" and \"Lon,\" and optionally \"Hgt_m.\"  \n",
    "4) `utm_zone, grid_x, grid_y`: A UTM grid with specified x- and y-spacing in meters.  \n",
    "5) A geocoded DEM or line-of-sight files, from which the lat/lon information can be used (see DEM/LOS options below).  "
   ]
  },
  {
   "cell_type": "markdown",
   "metadata": {
    "hidden": true
   },
   "source": [
    "### 5. height_group\n",
    "<a id='height_arg'></a>"
   ]
  },
  {
   "cell_type": "markdown",
   "metadata": {},
   "source": [
    "This group is optional. \n",
    "\n",
    "Ellipsoidal heights are needed to compute absolute delays.\n",
    "If using a bounding box or UTM cube, the heights of the weather model grid will be used by default; optionally a list of height_levels may be passed. \n",
    "For lat/lon rasters or a station file, a DEM can either be provided by the user or downloaded on the fly. Options include: \n",
    "1) `dem`: user-provided DEM file to use\n",
    "2) `use_dem_latlon`: This option should be specified as True if the user wishes to compute delays on the DEM grid. **NOTE**: This option is only available for ZTD calculation. \n",
    "3) `height_file_rdr`: A gridded height file in radar coordinates, such as produced by ISCE. This is to be used with corresponding lat/lon gridded files (see the information on [AOI group](#aoi_arg) above). \n",
    "4) `height_levels`: A Python list of height levels. Can be used with the bounding box / UTM grid AOI options and will return delays at the specified heights. \n",
    "5) If no DEM is specified and a bounding box / UTM cube is not used, RAiDER will automatically download the [Copernicus GLO-30 DEM](https://spacedata.copernicus.eu/explore-more/news-archive/-/asset_publisher/Ye8egYeRPLEs/blog/id/434960) on the fly and interpolate to the specified query points in the AOI group. \n",
    "\n",
    "**NOTE**: No DEM is needed for the `bounding_box` option. If nothing is specified under this group, delays will be calculated at the weather model grid nodes. \n",
    "If `height_levels` is specified, delays will be calculated at the weather model grid lat/lon coordinates and the specified heights. \n",
    "If either of these options or a UTM grid is provided, delays are returned as a 3D cube in netcdf file format. "
   ]
  },
  {
   "cell_type": "markdown",
   "metadata": {
    "heading_collapsed": true,
    "hidden": true
   },
   "source": [
    "### 6. los_group\n",
    "<a id='los_arg'></a>"
   ]
  },
  {
   "cell_type": "markdown",
   "metadata": {
    "hidden": true
   },
   "source": [
    "This option is optional and used to specify line-of-sight information. \n",
    "\n",
    "Three options are available in RAiDER. Calculation of: \n",
    "1) Zenith delays (ZTD)\n",
    "2) Slant delays (STD) by projection of ZTD using the incidence angle: STD = ZTD / cos(inc)\n",
    "3) Slant delays (STD) by using numerically integrating the delays along along raypaths extending from the ground pixels to the top of the atmosphere. The rays follow the look vector at the ground pixel (i.e. no bending). \n",
    "\n",
    "ZTD is calculated by default. \n",
    "\n",
    "STD parameters include:  \n",
    "`ray_trace`: whether or not to use ray-tracing if line-of-sight files are provided; i.e. option 3 above as opposed to projection, option 2 above.  \n",
    "`zref`: if `ray_trace` is True, then this is the maximum integration height to use in meters.  \n",
    "\n",
    "STD input options include:  \n",
    "`los_file`: a gridded raster file containing look vector information. Format is specified by `los_convention`.  \n",
    "`los_convention`: File format of the `los_file`. Options are `isce` or `hyp3`.  \n",
    "`los_cube`: a NETCDF file containing georeferenced look vectors defined on a 3D grid.  \n",
    "`orbit_file`: A compatible orbit file to use in determining look vectors.  \n",
    "\n",
    "ISCE format line-of-sight files are two-band files with incidence angle in band 1 and heading in degrees clockwise from north in band 2. \n",
    "\n",
    "HYP3 format is ..."
   ]
  },
  {
   "cell_type": "markdown",
   "metadata": {},
   "source": [
    "### 7. runtime_group\n",
    "<a id='runtime_arg'></a>"
   ]
  },
  {
   "cell_type": "markdown",
   "metadata": {},
   "source": [
    "RAiDER allows user flexibility by specifying a variety of runtime parameters, including directories to write to, file formats, and projections. "
   ]
  },
  {
   "cell_type": "markdown",
   "metadata": {
    "hidden": true
   },
   "source": [
    "#### raster_format\n",
    "- rasterio-compatible raster image format\n",
    "- Default is GTiff\n",
    "- Only used when outputs are rasters"
   ]
  },
  {
   "cell_type": "markdown",
   "metadata": {
    "hidden": true
   },
   "source": [
    "#### output_directory\n",
    "- This specifies the location of the output files. \n",
    "- Default is the current directory"
   ]
  },
  {
   "cell_type": "markdown",
   "metadata": {},
   "source": [
    "#### weather_model_directory\n",
    "- Specifies the directory location of/to write weather model files\n",
    "- Default is \\<output_location\\>/weather_files"
   ]
  },
  {
   "cell_type": "markdown",
   "metadata": {},
   "source": [
    "#### output_projection\n",
    "- CRS (geographic projection) of the output delays. \n",
    "- Default is WGS-84"
   ]
  },
  {
   "cell_type": "code",
   "execution_count": 3,
   "metadata": {},
   "outputs": [],
   "source": [
    "# To see many of the options that RAiDER supports, you can generate the default config file\n",
    "!raiderDelay.py -g"
   ]
  },
  {
   "cell_type": "markdown",
   "metadata": {
    "hidden": true
   },
   "source": [
    "## Examples using RAiDER\n",
    "<a id='runtime_arg'></a>"
   ]
  },
  {
   "cell_type": "markdown",
   "metadata": {},
   "source": [
    "In this section we will demostrate some of the basic capabilities of RAiDER, using a region in southern California shown below. \n",
    "The study area is around Los Angles, chosen to be a a square box 10 x 10 deg centered on 34 deg latitude, -118 deg  longitude. (See the optical image below.)"
   ]
  },
  {
   "cell_type": "markdown",
   "metadata": {},
   "source": [
    "![Optical Image at Los Angeles]()\n",
    "<img src=\"img/optical.png\" width=\"300\" height=\"150\">"
   ]
  },
  {
   "cell_type": "markdown",
   "metadata": {},
   "source": [
    "### Downloading the weather model data using a bounding box\n",
    "<a id='bounding_box_example'></a>"
   ]
  },
  {
   "cell_type": "markdown",
   "metadata": {},
   "source": [
    "RAiDER uses weather model data from third parties to calculate weather model delays. For this excercise we will use the weather model available from the __[Global Model Assimilation Office](https://gmao.gsfc.nasa.gov/weather_prediction/)__ at NASA. \n",
    "\n",
    "You can also try the ERA-5 model from the __[European Medium-range Weather Forecast](https://www.ecmwf.int/)__ if you have access to ECMWF weather models, simply change \"GMAO\" to \"ERA5\"."
   ]
  },
  {
   "cell_type": "code",
   "execution_count": 7,
   "metadata": {},
   "outputs": [
    {
     "name": "stdout",
     "output_type": "stream",
     "text": [
      "# vim: set filetype=yaml:\n",
      "look_dir: right\n",
      "date_group: # Groups mean that there are several different possible options, see documentation for details\n",
      "date_start: 20200103\n",
      "time_group:\n",
      "time: \"00:00:00\" # UTC time as a string\n",
      "weather_model: GMAO # RAiDER supports several models, including ECMWF, HRRR, GMAO, and MERRA-2\n",
      "aoi_group:\n",
      "bounding_box: 29 39 -123 -113 # bounding box uses the weather model grid nodes\n",
      "height_group:\n",
      "height_levels: 0 50 100 500 1000 # Return only these specific height levels\n",
      "los_group: # absent other options ZTD is calculated\n",
      "runtime_group:\n",
      "verbose: True\n",
      "\n",
      "\n"
     ]
    }
   ],
   "source": [
    "# take a look at the configuration file\n",
    "with open('raider_example_2.yaml', 'r') as f:\n",
    "    for line in f.readlines():\n",
    "        print(line.strip())"
   ]
  },
  {
   "cell_type": "code",
   "execution_count": 3,
   "metadata": {},
   "outputs": [
    {
     "name": "stdout",
     "output_type": "stream",
     "text": [
      "Run routine processing with raiderDelay.py on steps: ['load_weather_model', 'calculate_delays']\n",
      "Remaining steps: ['calculate_delays']\n",
      "--------------------------------------------------\n",
      "\u001b[33;21mWARNING: Weather model already exists, please remove it (\"['/Users/jlmd9g/software/RAiDER-docs/notebooks/RAiDER_tutorial/weather_files/GMAO_2020_01_03_T00_00_00.nc']\") if you want to download a new one.\u001b[0m\n",
      "Traceback (most recent call last):\n",
      "  File \"/Users/jlmd9g/software/mambaforge/envs/RAiDER/bin/raiderDelay.py\", line 8, in <module>\n",
      "    sys.exit(main())\n",
      "             ^^^^^^\n",
      "  File \"/Users/jlmd9g/software/RAiDER/tools/RAiDER/runProgram.py\", line 33, in main\n",
      "    (_, _) = tropo_delay(t, w, f, params)\n",
      "             ^^^^^^^^^^^^^^^^^^^^^^^^^^^^\n",
      "  File \"/Users/jlmd9g/software/RAiDER/tools/RAiDER/delay.py\", line 88, in tropo_delay\n",
      "    weather_model_file = prepareWeatherModel(\n",
      "                         ^^^^^^^^^^^^^^^^^^^^\n",
      "  File \"/Users/jlmd9g/software/RAiDER/tools/RAiDER/processWM.py\", line 57, in prepareWeatherModel\n",
      "    containment = weather_model.checkContainment(ll_bounds)\n",
      "                  ^^^^^^^^^^^^^^^^^^^^^^^^^^^^^^^^^^^^^^^^^\n",
      "  File \"/Users/jlmd9g/software/RAiDER/tools/RAiDER/models/weatherModel.py\", line 433, in checkContainment\n",
      "    xmin, ymin, xmax, ymax = self.bbox\n",
      "                             ^^^^^^^^^\n",
      "  File \"/Users/jlmd9g/software/RAiDER/tools/RAiDER/models/weatherModel.py\", line 396, in bbox\n",
      "    raise ValueError('No subdatasets found in the weather model. The file may be corrupt.\\nWeather model path: {}'.format(weather_model_path))\n",
      "ValueError: No subdatasets found in the weather model. The file may be corrupt.\n",
      "Weather model path: /Users/jlmd9g/software/RAiDER-docs/notebooks/RAiDER_tutorial/weather_files/GMAO_2020_01_03_T00_00_00.nc\n"
     ]
    }
   ],
   "source": [
    "# Try downloading the data \n",
    "!raiderDelay.py raider_example_2.yaml"
   ]
  },
  {
   "cell_type": "markdown",
   "metadata": {},
   "source": [
    "The weather model data is accessed through different APIs depending on the model. GMAO and MERRA-2 are both directly accessed using the OpenDAP interface, while ECMWF models have a custom API. RAiDER automatically uses the appropriate API for the weather model that you specify. Each model has a custom reader defined that is used to access the API and manipulate it to a consistent set of variables."
   ]
  },
  {
   "cell_type": "markdown",
   "metadata": {},
   "source": [
    "By default the weather model files are stored in a subfolder of the local directory called \"weather_files.\" You can change this using the `--weatherFiles` option described above. "
   ]
  },
  {
   "cell_type": "code",
   "execution_count": 4,
   "metadata": {},
   "outputs": [
    {
     "name": "stdout",
     "output_type": "stream",
     "text": [
      "GMAO_2020_01_03_T00_00_00.nc\n",
      "GMAO_2020_01_03_T00_00_00_28N_40N_125W_113W.nc\n",
      "GMAO_2020_01_03_T00_00_00_29N_40N_125W_113W.nc\n"
     ]
    }
   ],
   "source": [
    "# We can look at the downloaded file\n",
    "!ls weather_files/"
   ]
  },
  {
   "cell_type": "markdown",
   "metadata": {},
   "source": [
    "The downloaded weather model is a NETCDF file, so it can be viewed and manipulated using GDAL or any NETCDF utility or package. "
   ]
  },
  {
   "cell_type": "code",
   "execution_count": 5,
   "metadata": {},
   "outputs": [
    {
     "name": "stdout",
     "output_type": "stream",
     "text": [
      "Driver: netCDF/Network Common Data Format\n",
      "Files: weather_files/GMAO_2020_01_03_T00_00_00.nc\n",
      "Size is 512, 512\n",
      "Metadata:\n",
      "  NC_GLOBAL#Conventions=CF-1.6\n",
      "  NC_GLOBAL#datetime=2020_01_03T00_00_00\n",
      "  NC_GLOBAL#date_created=2021_02_22T22_23_21\n",
      "  NC_GLOBAL#title=GMAO weather model data\n",
      "Subdatasets:\n",
      "  SUBDATASET_1_NAME=NETCDF:\"weather_files/GMAO_2020_01_03_T00_00_00.nc\":H\n",
      "  SUBDATASET_1_DESC=[72x45x37] mid_layer_heights (32-bit floating-point)\n",
      "  SUBDATASET_2_NAME=NETCDF:\"weather_files/GMAO_2020_01_03_T00_00_00.nc\":QV\n",
      "  SUBDATASET_2_DESC=[72x45x37] specific_humidity (32-bit floating-point)\n",
      "  SUBDATASET_3_NAME=NETCDF:\"weather_files/GMAO_2020_01_03_T00_00_00.nc\":PL\n",
      "  SUBDATASET_3_DESC=[72x45x37] mid_level_pressure (32-bit floating-point)\n",
      "  SUBDATASET_4_NAME=NETCDF:\"weather_files/GMAO_2020_01_03_T00_00_00.nc\":T\n",
      "  SUBDATASET_4_DESC=[72x45x37] air_temperature (32-bit floating-point)\n",
      "Corner Coordinates:\n",
      "Upper Left  (    0.0,    0.0)\n",
      "Lower Left  (    0.0,  512.0)\n",
      "Upper Right (  512.0,    0.0)\n",
      "Lower Right (  512.0,  512.0)\n",
      "Center      (  256.0,  256.0)\n"
     ]
    }
   ],
   "source": [
    "# GDAL provides an API to access the variables and attributes of the file\n",
    "!gdalinfo weather_files/GMAO_2020_01_03_T00_00_00.nc"
   ]
  },
  {
   "cell_type": "markdown",
   "metadata": {},
   "source": [
    "Notice the file contains (usually) four variables, including height, pressure, temperature, and humidity. In some cases, pressure is not explicitly stored; instead the variables are provided at fixed pressure levels, or an intermediate variable like geopotential is provided. "
   ]
  },
  {
   "cell_type": "markdown",
   "metadata": {},
   "source": [
    "Notice that no information is printed about the projection or size of the variables. These variables can be queried using GDAL individually to show the projection and shape information. "
   ]
  },
  {
   "cell_type": "code",
   "execution_count": 6,
   "metadata": {},
   "outputs": [
    {
     "name": "stdout",
     "output_type": "stream",
     "text": [
      "Driver: netCDF/Network Common Data Format\n",
      "Files: weather_files/GMAO_2020_01_03_T00_00_00.nc\n",
      "Size is 37, 45\n",
      "Coordinate System is:\n",
      "GEOGCRS[\"WGS 84\",\n",
      "    DATUM[\"World Geodetic System 1984\",\n",
      "        ELLIPSOID[\"WGS 84\",6378137,298.257223563,\n",
      "            LENGTHUNIT[\"metre\",1]]],\n",
      "    PRIMEM[\"Greenwich\",0,\n",
      "        ANGLEUNIT[\"degree\",0.0174532925199433]],\n",
      "    CS[ellipsoidal,2],\n",
      "        AXIS[\"geodetic latitude (Lat)\",north,\n",
      "            ORDER[1],\n",
      "            ANGLEUNIT[\"degree\",0.0174532925199433]],\n",
      "        AXIS[\"geodetic longitude (Lon)\",east,\n",
      "            ORDER[2],\n",
      "            ANGLEUNIT[\"degree\",0.0174532925199433]],\n",
      "    ID[\"EPSG\",4326]]\n",
      "Data axis to CRS axis mapping: 2,1\n",
      "Origin = (-123.906250000000000,39.625000000000000)\n",
      "Pixel Size = (0.312500000000000,-0.250000000000000)\n",
      "Metadata:\n",
      "  NC_GLOBAL#Conventions=CF-1.6\n",
      "  NC_GLOBAL#datetime=2020_01_03T00_00_00\n",
      "  NC_GLOBAL#date_created=2021_02_22T22_23_21\n",
      "  NC_GLOBAL#title=GMAO weather model data\n",
      "  NETCDF_DIM_EXTRA={z}\n",
      "  NETCDF_DIM_z_DEF={72,5}\n",
      "  NETCDF_DIM_z_VALUES={0,1,2,3,4,5,6,7,8,9,10,11,12,13,14,15,16,17,18,19,20,21,22,23,24,25,26,27,28,29,30,31,32,33,34,35,36,37,38,39,40,41,42,43,44,45,46,47,48,49,50,51,52,53,54,55,56,57,58,59,60,61,62,63,64,65,66,67,68,69,70,71}\n",
      "  QV#description=specific humidity\n",
      "  QV#grid_mapping=WGS84\n",
      "  QV#standard_name=specific_humidity\n",
      "  QV#units=kg kg-1\n",
      "  QV#_FillValue=9.9999999e+14\n",
      "  WGS84#false_easting=0\n",
      "  WGS84#false_northing=0\n",
      "  WGS84#GeoTransform=-123.75 0.3125 0.0 28.5 0.0 0.25\n",
      "  WGS84#grid_mapping_name=WGS84\n",
      "  WGS84#inverse_flattening=298.257223563\n",
      "  WGS84#latitude_of_origin=0\n",
      "  WGS84#latitude_of_projection_origin=0\n",
      "  WGS84#scale_factor_at_projection_origin=1\n",
      "  WGS84#semi_major_axis=6378137\n",
      "  WGS84#spatial_epsg=4326\n",
      "  WGS84#spatial_proj4=+proj=longlat +datum=WGS84 +no_defs\n",
      "  WGS84#spatial_ref=GEOGCS[\"WGS 84\",DATUM[\"WGS_1984\",SPHEROID[\"WGS 84\",6378137,298.257223563,AUTHORITY[\"EPSG\",\"7030\"]],AUTHORITY[\"EPSG\",\"6326\"]],PRIMEM[\"Greenwich\",0,AUTHORITY[\"EPSG\",\"8901\"]],UNIT[\"degree\",0.0174532925199433,AUTHORITY[\"EPSG\",\"9122\"]],AXIS[\"Latitude\",NORTH],AXIS[\"Longitude\",EAST],AUTHORITY[\"EPSG\",\"4326\"]]\n",
      "  WGS84#straight_vertical_longitude_from_pole=0\n",
      "  x#description=longitude\n",
      "  x#standard_name=longitude\n",
      "  x#units=degrees_east\n",
      "  y#description=latitude\n",
      "  y#standard_name=latitude\n",
      "  y#units=degrees_north\n",
      "  z#description=model layers\n",
      "  z#standard_name=model_layers\n",
      "  z#units=layer\n",
      "Corner Coordinates:\n",
      "Upper Left  (-123.9062500,  39.6250000) (123d54'22.50\"W, 39d37'30.00\"N)\n",
      "Lower Left  (-123.9062500,  28.3750000) (123d54'22.50\"W, 28d22'30.00\"N)\n",
      "Upper Right (-112.3437500,  39.6250000) (112d20'37.50\"W, 39d37'30.00\"N)\n",
      "Lower Right (-112.3437500,  28.3750000) (112d20'37.50\"W, 28d22'30.00\"N)\n",
      "Center      (-118.1250000,  34.0000000) (118d 7'30.00\"W, 34d 0' 0.00\"N)\n",
      "Band 1 Block=37x45 Type=Float32, ColorInterp=Undefined\n",
      "  NoData Value=999999986991104\n",
      "  Unit Type: kg kg-1\n",
      "  Metadata:\n",
      "    description=specific humidity\n",
      "    grid_mapping=WGS84\n",
      "    NETCDF_DIM_z=0\n",
      "    NETCDF_VARNAME=QV\n",
      "    standard_name=specific_humidity\n",
      "    units=kg kg-1\n",
      "    _FillValue=9.9999999e+14\n",
      "Band 2 Block=37x45 Type=Float32, ColorInterp=Undefined\n",
      "  NoData Value=999999986991104\n",
      "  Unit Type: kg kg-1\n",
      "  Metadata:\n",
      "    description=specific humidity\n",
      "    grid_mapping=WGS84\n",
      "    NETCDF_DIM_z=1\n",
      "    NETCDF_VARNAME=QV\n",
      "    standard_name=specific_humidity\n",
      "    units=kg kg-1\n",
      "    _FillValue=9.9999999e+14\n",
      "Band 3 Block=37x45 Type=Float32, ColorInterp=Undefined\n",
      "  NoData Value=999999986991104\n",
      "  Unit Type: kg kg-1\n",
      "  Metadata:\n",
      "    description=specific humidity\n",
      "    grid_mapping=WGS84\n",
      "    NETCDF_DIM_z=2\n",
      "    NETCDF_VARNAME=QV\n",
      "    standard_name=specific_humidity\n",
      "    units=kg kg-1\n",
      "    _FillValue=9.9999999e+14\n",
      "Band 4 Block=37x45 Type=Float32, ColorInterp=Undefined\n",
      "  NoData Value=999999986991104\n",
      "  Unit Type: kg kg-1\n",
      "  Metadata:\n",
      "    description=specific humidity\n",
      "    grid_mapping=WGS84\n",
      "    NETCDF_DIM_z=3\n",
      "    NETCDF_VARNAME=QV\n",
      "    standard_name=specific_humidity\n",
      "    units=kg kg-1\n",
      "    _FillValue=9.9999999e+14\n",
      "Band 5 Block=37x45 Type=Float32, ColorInterp=Undefined\n",
      "  NoData Value=999999986991104\n",
      "  Unit Type: kg kg-1\n",
      "  Metadata:\n",
      "    description=specific humidity\n",
      "    grid_mapping=WGS84\n",
      "    NETCDF_DIM_z=4\n",
      "    NETCDF_VARNAME=QV\n",
      "    standard_name=specific_humidity\n",
      "    units=kg kg-1\n",
      "    _FillValue=9.9999999e+14\n",
      "Band 6 Block=37x45 Type=Float32, ColorInterp=Undefined\n",
      "  NoData Value=999999986991104\n",
      "  Unit Type: kg kg-1\n",
      "  Metadata:\n",
      "    description=specific humidity\n",
      "    grid_mapping=WGS84\n",
      "    NETCDF_DIM_z=5\n",
      "    NETCDF_VARNAME=QV\n",
      "    standard_name=specific_humidity\n",
      "    units=kg kg-1\n",
      "    _FillValue=9.9999999e+14\n",
      "Band 7 Block=37x45 Type=Float32, ColorInterp=Undefined\n",
      "  NoData Value=999999986991104\n",
      "  Unit Type: kg kg-1\n",
      "  Metadata:\n",
      "    description=specific humidity\n",
      "    grid_mapping=WGS84\n",
      "    NETCDF_DIM_z=6\n",
      "    NETCDF_VARNAME=QV\n",
      "    standard_name=specific_humidity\n",
      "    units=kg kg-1\n",
      "    _FillValue=9.9999999e+14\n",
      "Band 8 Block=37x45 Type=Float32, ColorInterp=Undefined\n",
      "  NoData Value=999999986991104\n",
      "  Unit Type: kg kg-1\n",
      "  Metadata:\n",
      "    description=specific humidity\n",
      "    grid_mapping=WGS84\n",
      "    NETCDF_DIM_z=7\n",
      "    NETCDF_VARNAME=QV\n",
      "    standard_name=specific_humidity\n",
      "    units=kg kg-1\n",
      "    _FillValue=9.9999999e+14\n",
      "Band 9 Block=37x45 Type=Float32, ColorInterp=Undefined\n",
      "  NoData Value=999999986991104\n",
      "  Unit Type: kg kg-1\n",
      "  Metadata:\n",
      "    description=specific humidity\n",
      "    grid_mapping=WGS84\n",
      "    NETCDF_DIM_z=8\n",
      "    NETCDF_VARNAME=QV\n",
      "    standard_name=specific_humidity\n",
      "    units=kg kg-1\n",
      "    _FillValue=9.9999999e+14\n",
      "Band 10 Block=37x45 Type=Float32, ColorInterp=Undefined\n",
      "  NoData Value=999999986991104\n",
      "  Unit Type: kg kg-1\n",
      "  Metadata:\n",
      "    description=specific humidity\n",
      "    grid_mapping=WGS84\n",
      "    NETCDF_DIM_z=9\n",
      "    NETCDF_VARNAME=QV\n",
      "    standard_name=specific_humidity\n",
      "    units=kg kg-1\n",
      "    _FillValue=9.9999999e+14\n",
      "Band 11 Block=37x45 Type=Float32, ColorInterp=Undefined\n",
      "  NoData Value=999999986991104\n",
      "  Unit Type: kg kg-1\n",
      "  Metadata:\n",
      "    description=specific humidity\n",
      "    grid_mapping=WGS84\n",
      "    NETCDF_DIM_z=10\n",
      "    NETCDF_VARNAME=QV\n",
      "    standard_name=specific_humidity\n",
      "    units=kg kg-1\n",
      "    _FillValue=9.9999999e+14\n",
      "Band 12 Block=37x45 Type=Float32, ColorInterp=Undefined\n",
      "  NoData Value=999999986991104\n",
      "  Unit Type: kg kg-1\n",
      "  Metadata:\n",
      "    description=specific humidity\n",
      "    grid_mapping=WGS84\n",
      "    NETCDF_DIM_z=11\n",
      "    NETCDF_VARNAME=QV\n",
      "    standard_name=specific_humidity\n",
      "    units=kg kg-1\n",
      "    _FillValue=9.9999999e+14\n",
      "Band 13 Block=37x45 Type=Float32, ColorInterp=Undefined\n",
      "  NoData Value=999999986991104\n",
      "  Unit Type: kg kg-1\n",
      "  Metadata:\n",
      "    description=specific humidity\n",
      "    grid_mapping=WGS84\n",
      "    NETCDF_DIM_z=12\n",
      "    NETCDF_VARNAME=QV\n",
      "    standard_name=specific_humidity\n",
      "    units=kg kg-1\n",
      "    _FillValue=9.9999999e+14\n",
      "Band 14 Block=37x45 Type=Float32, ColorInterp=Undefined\n",
      "  NoData Value=999999986991104\n",
      "  Unit Type: kg kg-1\n",
      "  Metadata:\n",
      "    description=specific humidity\n",
      "    grid_mapping=WGS84\n",
      "    NETCDF_DIM_z=13\n",
      "    NETCDF_VARNAME=QV\n",
      "    standard_name=specific_humidity\n",
      "    units=kg kg-1\n",
      "    _FillValue=9.9999999e+14\n",
      "Band 15 Block=37x45 Type=Float32, ColorInterp=Undefined\n",
      "  NoData Value=999999986991104\n",
      "  Unit Type: kg kg-1\n",
      "  Metadata:\n",
      "    description=specific humidity\n",
      "    grid_mapping=WGS84\n",
      "    NETCDF_DIM_z=14\n",
      "    NETCDF_VARNAME=QV\n",
      "    standard_name=specific_humidity\n",
      "    units=kg kg-1\n",
      "    _FillValue=9.9999999e+14\n",
      "Band 16 Block=37x45 Type=Float32, ColorInterp=Undefined\n",
      "  NoData Value=999999986991104\n",
      "  Unit Type: kg kg-1\n",
      "  Metadata:\n",
      "    description=specific humidity\n",
      "    grid_mapping=WGS84\n",
      "    NETCDF_DIM_z=15\n",
      "    NETCDF_VARNAME=QV\n",
      "    standard_name=specific_humidity\n",
      "    units=kg kg-1\n",
      "    _FillValue=9.9999999e+14\n",
      "Band 17 Block=37x45 Type=Float32, ColorInterp=Undefined\n",
      "  NoData Value=999999986991104\n",
      "  Unit Type: kg kg-1\n",
      "  Metadata:\n",
      "    description=specific humidity\n",
      "    grid_mapping=WGS84\n",
      "    NETCDF_DIM_z=16\n",
      "    NETCDF_VARNAME=QV\n",
      "    standard_name=specific_humidity\n",
      "    units=kg kg-1\n",
      "    _FillValue=9.9999999e+14\n",
      "Band 18 Block=37x45 Type=Float32, ColorInterp=Undefined\n",
      "  NoData Value=999999986991104\n",
      "  Unit Type: kg kg-1\n",
      "  Metadata:\n",
      "    description=specific humidity\n",
      "    grid_mapping=WGS84\n",
      "    NETCDF_DIM_z=17\n",
      "    NETCDF_VARNAME=QV\n",
      "    standard_name=specific_humidity\n",
      "    units=kg kg-1\n",
      "    _FillValue=9.9999999e+14\n",
      "Band 19 Block=37x45 Type=Float32, ColorInterp=Undefined\n",
      "  NoData Value=999999986991104\n",
      "  Unit Type: kg kg-1\n",
      "  Metadata:\n",
      "    description=specific humidity\n",
      "    grid_mapping=WGS84\n",
      "    NETCDF_DIM_z=18\n",
      "    NETCDF_VARNAME=QV\n",
      "    standard_name=specific_humidity\n",
      "    units=kg kg-1\n",
      "    _FillValue=9.9999999e+14\n",
      "Band 20 Block=37x45 Type=Float32, ColorInterp=Undefined\n",
      "  NoData Value=999999986991104\n",
      "  Unit Type: kg kg-1\n",
      "  Metadata:\n",
      "    description=specific humidity\n",
      "    grid_mapping=WGS84\n",
      "    NETCDF_DIM_z=19\n",
      "    NETCDF_VARNAME=QV\n",
      "    standard_name=specific_humidity\n",
      "    units=kg kg-1\n",
      "    _FillValue=9.9999999e+14\n",
      "Band 21 Block=37x45 Type=Float32, ColorInterp=Undefined\n",
      "  NoData Value=999999986991104\n",
      "  Unit Type: kg kg-1\n",
      "  Metadata:\n",
      "    description=specific humidity\n",
      "    grid_mapping=WGS84\n",
      "    NETCDF_DIM_z=20\n",
      "    NETCDF_VARNAME=QV\n",
      "    standard_name=specific_humidity\n",
      "    units=kg kg-1\n",
      "    _FillValue=9.9999999e+14\n",
      "Band 22 Block=37x45 Type=Float32, ColorInterp=Undefined\n",
      "  NoData Value=999999986991104\n",
      "  Unit Type: kg kg-1\n",
      "  Metadata:\n",
      "    description=specific humidity\n",
      "    grid_mapping=WGS84\n",
      "    NETCDF_DIM_z=21\n",
      "    NETCDF_VARNAME=QV\n",
      "    standard_name=specific_humidity\n",
      "    units=kg kg-1\n",
      "    _FillValue=9.9999999e+14\n",
      "Band 23 Block=37x45 Type=Float32, ColorInterp=Undefined\n",
      "  NoData Value=999999986991104\n",
      "  Unit Type: kg kg-1\n",
      "  Metadata:\n",
      "    description=specific humidity\n",
      "    grid_mapping=WGS84\n",
      "    NETCDF_DIM_z=22\n",
      "    NETCDF_VARNAME=QV\n",
      "    standard_name=specific_humidity\n",
      "    units=kg kg-1\n",
      "    _FillValue=9.9999999e+14\n",
      "Band 24 Block=37x45 Type=Float32, ColorInterp=Undefined\n",
      "  NoData Value=999999986991104\n",
      "  Unit Type: kg kg-1\n",
      "  Metadata:\n",
      "    description=specific humidity\n",
      "    grid_mapping=WGS84\n",
      "    NETCDF_DIM_z=23\n",
      "    NETCDF_VARNAME=QV\n",
      "    standard_name=specific_humidity\n",
      "    units=kg kg-1\n",
      "    _FillValue=9.9999999e+14\n",
      "Band 25 Block=37x45 Type=Float32, ColorInterp=Undefined\n",
      "  NoData Value=999999986991104\n",
      "  Unit Type: kg kg-1\n",
      "  Metadata:\n",
      "    description=specific humidity\n",
      "    grid_mapping=WGS84\n",
      "    NETCDF_DIM_z=24\n",
      "    NETCDF_VARNAME=QV\n",
      "    standard_name=specific_humidity\n",
      "    units=kg kg-1\n",
      "    _FillValue=9.9999999e+14\n",
      "Band 26 Block=37x45 Type=Float32, ColorInterp=Undefined\n",
      "  NoData Value=999999986991104\n",
      "  Unit Type: kg kg-1\n",
      "  Metadata:\n",
      "    description=specific humidity\n",
      "    grid_mapping=WGS84\n",
      "    NETCDF_DIM_z=25\n",
      "    NETCDF_VARNAME=QV\n",
      "    standard_name=specific_humidity\n",
      "    units=kg kg-1\n",
      "    _FillValue=9.9999999e+14\n",
      "Band 27 Block=37x45 Type=Float32, ColorInterp=Undefined\n",
      "  NoData Value=999999986991104\n",
      "  Unit Type: kg kg-1\n",
      "  Metadata:\n",
      "    description=specific humidity\n",
      "    grid_mapping=WGS84\n",
      "    NETCDF_DIM_z=26\n",
      "    NETCDF_VARNAME=QV\n",
      "    standard_name=specific_humidity\n",
      "    units=kg kg-1\n",
      "    _FillValue=9.9999999e+14\n",
      "Band 28 Block=37x45 Type=Float32, ColorInterp=Undefined\n",
      "  NoData Value=999999986991104\n",
      "  Unit Type: kg kg-1\n",
      "  Metadata:\n",
      "    description=specific humidity\n",
      "    grid_mapping=WGS84\n",
      "    NETCDF_DIM_z=27\n",
      "    NETCDF_VARNAME=QV\n",
      "    standard_name=specific_humidity\n",
      "    units=kg kg-1\n",
      "    _FillValue=9.9999999e+14\n",
      "Band 29 Block=37x45 Type=Float32, ColorInterp=Undefined\n",
      "  NoData Value=999999986991104\n",
      "  Unit Type: kg kg-1\n",
      "  Metadata:\n",
      "    description=specific humidity\n",
      "    grid_mapping=WGS84\n",
      "    NETCDF_DIM_z=28\n",
      "    NETCDF_VARNAME=QV\n",
      "    standard_name=specific_humidity\n",
      "    units=kg kg-1\n",
      "    _FillValue=9.9999999e+14\n",
      "Band 30 Block=37x45 Type=Float32, ColorInterp=Undefined\n",
      "  NoData Value=999999986991104\n",
      "  Unit Type: kg kg-1\n",
      "  Metadata:\n",
      "    description=specific humidity\n",
      "    grid_mapping=WGS84\n",
      "    NETCDF_DIM_z=29\n",
      "    NETCDF_VARNAME=QV\n",
      "    standard_name=specific_humidity\n",
      "    units=kg kg-1\n",
      "    _FillValue=9.9999999e+14\n",
      "Band 31 Block=37x45 Type=Float32, ColorInterp=Undefined\n",
      "  NoData Value=999999986991104\n",
      "  Unit Type: kg kg-1\n",
      "  Metadata:\n",
      "    description=specific humidity\n",
      "    grid_mapping=WGS84\n",
      "    NETCDF_DIM_z=30\n",
      "    NETCDF_VARNAME=QV\n",
      "    standard_name=specific_humidity\n",
      "    units=kg kg-1\n",
      "    _FillValue=9.9999999e+14\n",
      "Band 32 Block=37x45 Type=Float32, ColorInterp=Undefined\n",
      "  NoData Value=999999986991104\n",
      "  Unit Type: kg kg-1\n",
      "  Metadata:\n",
      "    description=specific humidity\n",
      "    grid_mapping=WGS84\n",
      "    NETCDF_DIM_z=31\n",
      "    NETCDF_VARNAME=QV\n",
      "    standard_name=specific_humidity\n",
      "    units=kg kg-1\n",
      "    _FillValue=9.9999999e+14\n",
      "Band 33 Block=37x45 Type=Float32, ColorInterp=Undefined\n",
      "  NoData Value=999999986991104\n",
      "  Unit Type: kg kg-1\n",
      "  Metadata:\n",
      "    description=specific humidity\n",
      "    grid_mapping=WGS84\n",
      "    NETCDF_DIM_z=32\n",
      "    NETCDF_VARNAME=QV\n",
      "    standard_name=specific_humidity\n",
      "    units=kg kg-1\n",
      "    _FillValue=9.9999999e+14\n",
      "Band 34 Block=37x45 Type=Float32, ColorInterp=Undefined\n",
      "  NoData Value=999999986991104\n",
      "  Unit Type: kg kg-1\n",
      "  Metadata:\n",
      "    description=specific humidity\n",
      "    grid_mapping=WGS84\n",
      "    NETCDF_DIM_z=33\n",
      "    NETCDF_VARNAME=QV\n",
      "    standard_name=specific_humidity\n",
      "    units=kg kg-1\n",
      "    _FillValue=9.9999999e+14\n",
      "Band 35 Block=37x45 Type=Float32, ColorInterp=Undefined\n",
      "  NoData Value=999999986991104\n",
      "  Unit Type: kg kg-1\n",
      "  Metadata:\n",
      "    description=specific humidity\n",
      "    grid_mapping=WGS84\n",
      "    NETCDF_DIM_z=34\n",
      "    NETCDF_VARNAME=QV\n",
      "    standard_name=specific_humidity\n",
      "    units=kg kg-1\n",
      "    _FillValue=9.9999999e+14\n",
      "Band 36 Block=37x45 Type=Float32, ColorInterp=Undefined\n",
      "  NoData Value=999999986991104\n",
      "  Unit Type: kg kg-1\n",
      "  Metadata:\n",
      "    description=specific humidity\n",
      "    grid_mapping=WGS84\n",
      "    NETCDF_DIM_z=35\n",
      "    NETCDF_VARNAME=QV\n",
      "    standard_name=specific_humidity\n",
      "    units=kg kg-1\n",
      "    _FillValue=9.9999999e+14\n",
      "Band 37 Block=37x45 Type=Float32, ColorInterp=Undefined\n",
      "  NoData Value=999999986991104\n",
      "  Unit Type: kg kg-1\n",
      "  Metadata:\n",
      "    description=specific humidity\n",
      "    grid_mapping=WGS84\n",
      "    NETCDF_DIM_z=36\n",
      "    NETCDF_VARNAME=QV\n",
      "    standard_name=specific_humidity\n",
      "    units=kg kg-1\n",
      "    _FillValue=9.9999999e+14\n",
      "Band 38 Block=37x45 Type=Float32, ColorInterp=Undefined\n",
      "  NoData Value=999999986991104\n",
      "  Unit Type: kg kg-1\n",
      "  Metadata:\n",
      "    description=specific humidity\n",
      "    grid_mapping=WGS84\n",
      "    NETCDF_DIM_z=37\n",
      "    NETCDF_VARNAME=QV\n",
      "    standard_name=specific_humidity\n",
      "    units=kg kg-1\n",
      "    _FillValue=9.9999999e+14\n",
      "Band 39 Block=37x45 Type=Float32, ColorInterp=Undefined\n",
      "  NoData Value=999999986991104\n",
      "  Unit Type: kg kg-1\n",
      "  Metadata:\n",
      "    description=specific humidity\n",
      "    grid_mapping=WGS84\n",
      "    NETCDF_DIM_z=38\n",
      "    NETCDF_VARNAME=QV\n",
      "    standard_name=specific_humidity\n",
      "    units=kg kg-1\n",
      "    _FillValue=9.9999999e+14\n",
      "Band 40 Block=37x45 Type=Float32, ColorInterp=Undefined\n",
      "  NoData Value=999999986991104\n",
      "  Unit Type: kg kg-1\n",
      "  Metadata:\n",
      "    description=specific humidity\n",
      "    grid_mapping=WGS84\n",
      "    NETCDF_DIM_z=39\n",
      "    NETCDF_VARNAME=QV\n",
      "    standard_name=specific_humidity\n",
      "    units=kg kg-1\n",
      "    _FillValue=9.9999999e+14\n",
      "Band 41 Block=37x45 Type=Float32, ColorInterp=Undefined\n",
      "  NoData Value=999999986991104\n",
      "  Unit Type: kg kg-1\n",
      "  Metadata:\n",
      "    description=specific humidity\n",
      "    grid_mapping=WGS84\n",
      "    NETCDF_DIM_z=40\n",
      "    NETCDF_VARNAME=QV\n",
      "    standard_name=specific_humidity\n",
      "    units=kg kg-1\n",
      "    _FillValue=9.9999999e+14\n",
      "Band 42 Block=37x45 Type=Float32, ColorInterp=Undefined\n",
      "  NoData Value=999999986991104\n",
      "  Unit Type: kg kg-1\n",
      "  Metadata:\n",
      "    description=specific humidity\n",
      "    grid_mapping=WGS84\n",
      "    NETCDF_DIM_z=41\n",
      "    NETCDF_VARNAME=QV\n",
      "    standard_name=specific_humidity\n",
      "    units=kg kg-1\n",
      "    _FillValue=9.9999999e+14\n",
      "Band 43 Block=37x45 Type=Float32, ColorInterp=Undefined\n",
      "  NoData Value=999999986991104\n",
      "  Unit Type: kg kg-1\n",
      "  Metadata:\n",
      "    description=specific humidity\n",
      "    grid_mapping=WGS84\n",
      "    NETCDF_DIM_z=42\n",
      "    NETCDF_VARNAME=QV\n",
      "    standard_name=specific_humidity\n",
      "    units=kg kg-1\n",
      "    _FillValue=9.9999999e+14\n",
      "Band 44 Block=37x45 Type=Float32, ColorInterp=Undefined\n",
      "  NoData Value=999999986991104\n",
      "  Unit Type: kg kg-1\n",
      "  Metadata:\n",
      "    description=specific humidity\n",
      "    grid_mapping=WGS84\n",
      "    NETCDF_DIM_z=43\n",
      "    NETCDF_VARNAME=QV\n",
      "    standard_name=specific_humidity\n",
      "    units=kg kg-1\n",
      "    _FillValue=9.9999999e+14\n",
      "Band 45 Block=37x45 Type=Float32, ColorInterp=Undefined\n",
      "  NoData Value=999999986991104\n",
      "  Unit Type: kg kg-1\n",
      "  Metadata:\n",
      "    description=specific humidity\n",
      "    grid_mapping=WGS84\n",
      "    NETCDF_DIM_z=44\n",
      "    NETCDF_VARNAME=QV\n",
      "    standard_name=specific_humidity\n",
      "    units=kg kg-1\n",
      "    _FillValue=9.9999999e+14\n",
      "Band 46 Block=37x45 Type=Float32, ColorInterp=Undefined\n",
      "  NoData Value=999999986991104\n",
      "  Unit Type: kg kg-1\n",
      "  Metadata:\n",
      "    description=specific humidity\n",
      "    grid_mapping=WGS84\n",
      "    NETCDF_DIM_z=45\n",
      "    NETCDF_VARNAME=QV\n",
      "    standard_name=specific_humidity\n",
      "    units=kg kg-1\n",
      "    _FillValue=9.9999999e+14\n",
      "Band 47 Block=37x45 Type=Float32, ColorInterp=Undefined\n",
      "  NoData Value=999999986991104\n",
      "  Unit Type: kg kg-1\n",
      "  Metadata:\n",
      "    description=specific humidity\n",
      "    grid_mapping=WGS84\n",
      "    NETCDF_DIM_z=46\n",
      "    NETCDF_VARNAME=QV\n",
      "    standard_name=specific_humidity\n",
      "    units=kg kg-1\n",
      "    _FillValue=9.9999999e+14\n",
      "Band 48 Block=37x45 Type=Float32, ColorInterp=Undefined\n",
      "  NoData Value=999999986991104\n",
      "  Unit Type: kg kg-1\n",
      "  Metadata:\n",
      "    description=specific humidity\n",
      "    grid_mapping=WGS84\n",
      "    NETCDF_DIM_z=47\n",
      "    NETCDF_VARNAME=QV\n",
      "    standard_name=specific_humidity\n",
      "    units=kg kg-1\n",
      "    _FillValue=9.9999999e+14\n",
      "Band 49 Block=37x45 Type=Float32, ColorInterp=Undefined\n",
      "  NoData Value=999999986991104\n",
      "  Unit Type: kg kg-1\n",
      "  Metadata:\n",
      "    description=specific humidity\n",
      "    grid_mapping=WGS84\n",
      "    NETCDF_DIM_z=48\n",
      "    NETCDF_VARNAME=QV\n",
      "    standard_name=specific_humidity\n",
      "    units=kg kg-1\n",
      "    _FillValue=9.9999999e+14\n",
      "Band 50 Block=37x45 Type=Float32, ColorInterp=Undefined\n",
      "  NoData Value=999999986991104\n",
      "  Unit Type: kg kg-1\n",
      "  Metadata:\n",
      "    description=specific humidity\n",
      "    grid_mapping=WGS84\n",
      "    NETCDF_DIM_z=49\n",
      "    NETCDF_VARNAME=QV\n",
      "    standard_name=specific_humidity\n",
      "    units=kg kg-1\n",
      "    _FillValue=9.9999999e+14\n",
      "Band 51 Block=37x45 Type=Float32, ColorInterp=Undefined\n",
      "  NoData Value=999999986991104\n",
      "  Unit Type: kg kg-1\n",
      "  Metadata:\n",
      "    description=specific humidity\n",
      "    grid_mapping=WGS84\n",
      "    NETCDF_DIM_z=50\n",
      "    NETCDF_VARNAME=QV\n",
      "    standard_name=specific_humidity\n",
      "    units=kg kg-1\n",
      "    _FillValue=9.9999999e+14\n",
      "Band 52 Block=37x45 Type=Float32, ColorInterp=Undefined\n",
      "  NoData Value=999999986991104\n",
      "  Unit Type: kg kg-1\n",
      "  Metadata:\n",
      "    description=specific humidity\n",
      "    grid_mapping=WGS84\n",
      "    NETCDF_DIM_z=51\n",
      "    NETCDF_VARNAME=QV\n",
      "    standard_name=specific_humidity\n",
      "    units=kg kg-1\n",
      "    _FillValue=9.9999999e+14\n",
      "Band 53 Block=37x45 Type=Float32, ColorInterp=Undefined\n",
      "  NoData Value=999999986991104\n",
      "  Unit Type: kg kg-1\n",
      "  Metadata:\n",
      "    description=specific humidity\n",
      "    grid_mapping=WGS84\n",
      "    NETCDF_DIM_z=52\n",
      "    NETCDF_VARNAME=QV\n",
      "    standard_name=specific_humidity\n",
      "    units=kg kg-1\n",
      "    _FillValue=9.9999999e+14\n",
      "Band 54 Block=37x45 Type=Float32, ColorInterp=Undefined\n",
      "  NoData Value=999999986991104\n",
      "  Unit Type: kg kg-1\n",
      "  Metadata:\n",
      "    description=specific humidity\n",
      "    grid_mapping=WGS84\n",
      "    NETCDF_DIM_z=53\n",
      "    NETCDF_VARNAME=QV\n",
      "    standard_name=specific_humidity\n",
      "    units=kg kg-1\n",
      "    _FillValue=9.9999999e+14\n",
      "Band 55 Block=37x45 Type=Float32, ColorInterp=Undefined\n",
      "  NoData Value=999999986991104\n",
      "  Unit Type: kg kg-1\n",
      "  Metadata:\n",
      "    description=specific humidity\n",
      "    grid_mapping=WGS84\n",
      "    NETCDF_DIM_z=54\n",
      "    NETCDF_VARNAME=QV\n",
      "    standard_name=specific_humidity\n",
      "    units=kg kg-1\n",
      "    _FillValue=9.9999999e+14\n",
      "Band 56 Block=37x45 Type=Float32, ColorInterp=Undefined\n",
      "  NoData Value=999999986991104\n",
      "  Unit Type: kg kg-1\n",
      "  Metadata:\n",
      "    description=specific humidity\n",
      "    grid_mapping=WGS84\n",
      "    NETCDF_DIM_z=55\n",
      "    NETCDF_VARNAME=QV\n",
      "    standard_name=specific_humidity\n",
      "    units=kg kg-1\n",
      "    _FillValue=9.9999999e+14\n",
      "Band 57 Block=37x45 Type=Float32, ColorInterp=Undefined\n",
      "  NoData Value=999999986991104\n",
      "  Unit Type: kg kg-1\n",
      "  Metadata:\n",
      "    description=specific humidity\n",
      "    grid_mapping=WGS84\n",
      "    NETCDF_DIM_z=56\n",
      "    NETCDF_VARNAME=QV\n",
      "    standard_name=specific_humidity\n",
      "    units=kg kg-1\n",
      "    _FillValue=9.9999999e+14\n",
      "Band 58 Block=37x45 Type=Float32, ColorInterp=Undefined\n",
      "  NoData Value=999999986991104\n",
      "  Unit Type: kg kg-1\n",
      "  Metadata:\n",
      "    description=specific humidity\n",
      "    grid_mapping=WGS84\n",
      "    NETCDF_DIM_z=57\n",
      "    NETCDF_VARNAME=QV\n",
      "    standard_name=specific_humidity\n",
      "    units=kg kg-1\n",
      "    _FillValue=9.9999999e+14\n",
      "Band 59 Block=37x45 Type=Float32, ColorInterp=Undefined\n",
      "  NoData Value=999999986991104\n",
      "  Unit Type: kg kg-1\n",
      "  Metadata:\n",
      "    description=specific humidity\n",
      "    grid_mapping=WGS84\n",
      "    NETCDF_DIM_z=58\n",
      "    NETCDF_VARNAME=QV\n",
      "    standard_name=specific_humidity\n",
      "    units=kg kg-1\n",
      "    _FillValue=9.9999999e+14\n",
      "Band 60 Block=37x45 Type=Float32, ColorInterp=Undefined\n",
      "  NoData Value=999999986991104\n",
      "  Unit Type: kg kg-1\n",
      "  Metadata:\n",
      "    description=specific humidity\n",
      "    grid_mapping=WGS84\n",
      "    NETCDF_DIM_z=59\n",
      "    NETCDF_VARNAME=QV\n",
      "    standard_name=specific_humidity\n",
      "    units=kg kg-1\n",
      "    _FillValue=9.9999999e+14\n",
      "Band 61 Block=37x45 Type=Float32, ColorInterp=Undefined\n",
      "  NoData Value=999999986991104\n",
      "  Unit Type: kg kg-1\n",
      "  Metadata:\n",
      "    description=specific humidity\n",
      "    grid_mapping=WGS84\n",
      "    NETCDF_DIM_z=60\n",
      "    NETCDF_VARNAME=QV\n",
      "    standard_name=specific_humidity\n",
      "    units=kg kg-1\n",
      "    _FillValue=9.9999999e+14\n",
      "Band 62 Block=37x45 Type=Float32, ColorInterp=Undefined\n",
      "  NoData Value=999999986991104\n",
      "  Unit Type: kg kg-1\n",
      "  Metadata:\n",
      "    description=specific humidity\n",
      "    grid_mapping=WGS84\n",
      "    NETCDF_DIM_z=61\n",
      "    NETCDF_VARNAME=QV\n",
      "    standard_name=specific_humidity\n",
      "    units=kg kg-1\n",
      "    _FillValue=9.9999999e+14\n",
      "Band 63 Block=37x45 Type=Float32, ColorInterp=Undefined\n",
      "  NoData Value=999999986991104\n",
      "  Unit Type: kg kg-1\n",
      "  Metadata:\n",
      "    description=specific humidity\n",
      "    grid_mapping=WGS84\n",
      "    NETCDF_DIM_z=62\n",
      "    NETCDF_VARNAME=QV\n",
      "    standard_name=specific_humidity\n",
      "    units=kg kg-1\n",
      "    _FillValue=9.9999999e+14\n",
      "Band 64 Block=37x45 Type=Float32, ColorInterp=Undefined\n",
      "  NoData Value=999999986991104\n",
      "  Unit Type: kg kg-1\n",
      "  Metadata:\n",
      "    description=specific humidity\n",
      "    grid_mapping=WGS84\n",
      "    NETCDF_DIM_z=63\n",
      "    NETCDF_VARNAME=QV\n",
      "    standard_name=specific_humidity\n",
      "    units=kg kg-1\n",
      "    _FillValue=9.9999999e+14\n",
      "Band 65 Block=37x45 Type=Float32, ColorInterp=Undefined\n",
      "  NoData Value=999999986991104\n",
      "  Unit Type: kg kg-1\n",
      "  Metadata:\n",
      "    description=specific humidity\n",
      "    grid_mapping=WGS84\n",
      "    NETCDF_DIM_z=64\n",
      "    NETCDF_VARNAME=QV\n",
      "    standard_name=specific_humidity\n",
      "    units=kg kg-1\n",
      "    _FillValue=9.9999999e+14\n",
      "Band 66 Block=37x45 Type=Float32, ColorInterp=Undefined\n",
      "  NoData Value=999999986991104\n",
      "  Unit Type: kg kg-1\n",
      "  Metadata:\n",
      "    description=specific humidity\n",
      "    grid_mapping=WGS84\n",
      "    NETCDF_DIM_z=65\n",
      "    NETCDF_VARNAME=QV\n",
      "    standard_name=specific_humidity\n",
      "    units=kg kg-1\n",
      "    _FillValue=9.9999999e+14\n",
      "Band 67 Block=37x45 Type=Float32, ColorInterp=Undefined\n",
      "  NoData Value=999999986991104\n",
      "  Unit Type: kg kg-1\n",
      "  Metadata:\n",
      "    description=specific humidity\n",
      "    grid_mapping=WGS84\n",
      "    NETCDF_DIM_z=66\n",
      "    NETCDF_VARNAME=QV\n",
      "    standard_name=specific_humidity\n",
      "    units=kg kg-1\n",
      "    _FillValue=9.9999999e+14\n",
      "Band 68 Block=37x45 Type=Float32, ColorInterp=Undefined\n",
      "  NoData Value=999999986991104\n",
      "  Unit Type: kg kg-1\n",
      "  Metadata:\n",
      "    description=specific humidity\n",
      "    grid_mapping=WGS84\n",
      "    NETCDF_DIM_z=67\n",
      "    NETCDF_VARNAME=QV\n",
      "    standard_name=specific_humidity\n",
      "    units=kg kg-1\n",
      "    _FillValue=9.9999999e+14\n",
      "Band 69 Block=37x45 Type=Float32, ColorInterp=Undefined\n",
      "  NoData Value=999999986991104\n",
      "  Unit Type: kg kg-1\n",
      "  Metadata:\n",
      "    description=specific humidity\n",
      "    grid_mapping=WGS84\n",
      "    NETCDF_DIM_z=68\n",
      "    NETCDF_VARNAME=QV\n",
      "    standard_name=specific_humidity\n",
      "    units=kg kg-1\n",
      "    _FillValue=9.9999999e+14\n",
      "Band 70 Block=37x45 Type=Float32, ColorInterp=Undefined\n",
      "  NoData Value=999999986991104\n",
      "  Unit Type: kg kg-1\n",
      "  Metadata:\n",
      "    description=specific humidity\n",
      "    grid_mapping=WGS84\n",
      "    NETCDF_DIM_z=69\n",
      "    NETCDF_VARNAME=QV\n",
      "    standard_name=specific_humidity\n",
      "    units=kg kg-1\n",
      "    _FillValue=9.9999999e+14\n",
      "Band 71 Block=37x45 Type=Float32, ColorInterp=Undefined\n",
      "  NoData Value=999999986991104\n",
      "  Unit Type: kg kg-1\n",
      "  Metadata:\n",
      "    description=specific humidity\n",
      "    grid_mapping=WGS84\n",
      "    NETCDF_DIM_z=70\n",
      "    NETCDF_VARNAME=QV\n",
      "    standard_name=specific_humidity\n",
      "    units=kg kg-1\n",
      "    _FillValue=9.9999999e+14\n",
      "Band 72 Block=37x45 Type=Float32, ColorInterp=Undefined\n",
      "  NoData Value=999999986991104\n",
      "  Unit Type: kg kg-1\n",
      "  Metadata:\n",
      "    description=specific humidity\n",
      "    grid_mapping=WGS84\n",
      "    NETCDF_DIM_z=71\n",
      "    NETCDF_VARNAME=QV\n",
      "    standard_name=specific_humidity\n",
      "    units=kg kg-1\n",
      "    _FillValue=9.9999999e+14\n"
     ]
    }
   ],
   "source": [
    "!cd weather_files\n",
    "!gdalinfo NETCDF:\"weather_files/GMAO_2020_01_03_T00_00_00.nc\":QV\n",
    "!cd .."
   ]
  },
  {
   "cell_type": "markdown",
   "metadata": {},
   "source": [
    "Once the weather model file has been downloaded, you can compute delays for the same area without re-downloading. RAiDER will check your input query points against the extents of the downloaded file and proceed with processing if the weather model file includes a large enough area. If not, then it will ask you to delete the existing file so that it can download a new one. "
   ]
  },
  {
   "cell_type": "code",
   "execution_count": 7,
   "metadata": {},
   "outputs": [
    {
     "name": "stdout",
     "output_type": "stream",
     "text": [
      "\u001b[33;21mWARNING: Weather model already exists, please remove it (\"['./weather_files/GMAO_2020_01_03_T00_00_00.nc']\") if you want to download a new one.\u001b[0m\n",
      "Extent of the input lats/lons is: [25.0, 45.0, -123.0, -113.0]\n",
      "Extent of the weather model is: [28.5, 39.5, -123.75, -112.5]\n",
      "The weather model passed does not cover all of the input points; you need to download a larger area.\n"
     ]
    }
   ],
   "source": [
    "# If we try to run the same datetime but a larger bounding box, we get a message asking us to delete the existing file\n",
    "!raiderDelay.py --date 20200103 --time 00:00:00 -b 25 45 -123 -113 --model GMAO"
   ]
  },
  {
   "cell_type": "markdown",
   "metadata": {},
   "source": [
    "### Compute Zenith Delays for a bounding box\n",
    "<a id='bounding_box_ztd'></a>"
   ]
  },
  {
   "cell_type": "markdown",
   "metadata": {},
   "source": [
    "If you only specify a bounding box as your AOI, RAiDER will compute the Zenith delay at the locations of the native grid nodes of the weather model itself. Because our bounding box is the same as before, RAiDER will skip the download step and directly process the delays. \n",
    "\n",
    "RAiDER will warn you that it is using the existing weather model file, which is specific to a 1) date, 2) time, 3) model, and 4) AOI. "
   ]
  },
  {
   "cell_type": "code",
   "execution_count": 8,
   "metadata": {},
   "outputs": [
    {
     "name": "stdout",
     "output_type": "stream",
     "text": [
      "GMAO_2020_01_03_T00_00_00.nc\n",
      "GMAO_2020_01_03_T00_00_00_28N_40N_125W_113W.nc\n",
      "GMAO_2020_01_03_T00_00_00_29N_40N_125W_113W.nc\n"
     ]
    }
   ],
   "source": [
    "!ls weather_files/"
   ]
  },
  {
   "cell_type": "markdown",
   "metadata": {},
   "source": [
    "Since we've already downloaded the file and we're using the native grid nodes as our query points, the processing happens fairly quickly. \n",
    "\n",
    "<div class=\"alert alert-danger\">\n",
    "<b>Note:</b> \n",
    "Different weather models have different resolutions. GMAO has about a 50 km horizontal grid node spacing, while HRRR for example has a 3-km horizontal grid node spacing. As a result, some weather models will be much faster to process than others. </div>\n",
    "\n"
   ]
  },
  {
   "cell_type": "code",
   "execution_count": 9,
   "metadata": {},
   "outputs": [
    {
     "name": "stdout",
     "output_type": "stream",
     "text": [
      "\u001b[33;21mWARNING: Weather model already exists, please remove it (\"['./weather_files/GMAO_2020_01_03_T00_00_00.nc']\") if you want to download a new one.\u001b[0m\n"
     ]
    }
   ],
   "source": [
    "# passing the original bounding \n",
    "!raiderDelay.py --date 20200103 --time 00:00:00 -b 29 39 -123 -113 --model GMAO"
   ]
  },
  {
   "cell_type": "markdown",
   "metadata": {},
   "source": [
    "Once the delays have been processed, there are several files that get created. One is a set of plots that are for sanity checking the weather model data. These are .pdf files and show the weather model variables at two different heights and a profile at a central point. These plots are mainly used to ensure that custom weather models are getting processed correctly (see __[Defining Custom Weather Models](../Defining_Custom_Weather_Models/Defining_custom_Weather_Models_in_RAiDER.ipynb)__ for more details)."
   ]
  },
  {
   "cell_type": "code",
   "execution_count": 10,
   "metadata": {},
   "outputs": [
    {
     "name": "stdout",
     "output_type": "stream",
     "text": [
      "GMAO_refractivity_hgt500_and_15000m.pdf GMAO_weather_hgt500_and_15000m.pdf\n"
     ]
    }
   ],
   "source": [
    "!ls *.pdf"
   ]
  },
  {
   "cell_type": "markdown",
   "metadata": {},
   "source": [
    "In addition, there are log files that get printed out. These can be especially helpful when troubleshooting or debugging. The \"debug.log\" file records all of the same information that gets printed to the console, while the \"error.log\" file records warnings and error messages, including tracebacks. These files are appended to instead of being overwritten, so the output of several calls to raiderDelay.py will be saved. "
   ]
  },
  {
   "cell_type": "code",
   "execution_count": 11,
   "metadata": {},
   "outputs": [
    {
     "name": "stdout",
     "output_type": "stream",
     "text": [
      "debug.log error.log\n"
     ]
    }
   ],
   "source": [
    "!ls *.log"
   ]
  },
  {
   "cell_type": "code",
   "execution_count": 12,
   "metadata": {},
   "outputs": [
    {
     "name": "stdout",
     "output_type": "stream",
     "text": [
      "[2021-02-22 22:23:11,260]            checkTime:254   INFO       Weather model GMAO is available from 2014-02-20 00:00:00-Present\n",
      "[2021-02-22 22:23:21,340]  prepareWeatherModel:71    WARNING    download_only flag selected. No further processing will happen.\n",
      "[2021-02-22 22:23:36,882]  prepareWeatherModel:55    WARNING    Weather model already exists, please remove it (\"['./weather_files/GMAO_2020_01_03_T00_00_00.nc']\") if you want to download a new one.\n",
      "[2021-02-22 22:23:37,282]         _adjust_grid:345   INFO       Extent of the input lats/lons is: [25.0, 45.0, -123.0, -113.0]\n",
      "[2021-02-22 22:23:37,282]         _adjust_grid:346   INFO       Extent of the weather model is: [28.5, 39.5, -123.75, -112.5]\n",
      "[2021-02-22 22:23:37,282]         _adjust_grid:348   INFO       The weather model passed does not cover all of the input points; you need to download a larger area.\n",
      "[2021-02-22 22:33:00,390]  prepareWeatherModel:55    WARNING    Weather model already exists, please remove it (\"['./weather_files/GMAO_2020_01_03_T00_00_00.nc']\") if you want to download a new one.\n",
      "[2021-02-22 22:33:22,932]  prepareWeatherModel:55    WARNING    Weather model already exists, please remove it (\"['./weather_files/GMAO_2020_01_03_T00_00_00.nc']\") if you want to download a new one.\n",
      "[2021-02-22 22:33:26,803]          tropo_delay:182   INFO       Finished writing data to ['./GMAO_Delay_20200103T000000_Zmax15000.0.csv']\n",
      "[2021-02-22 22:43:33,880]  prepareWeatherModel:55    WARNING    Weather model already exists, please remove it (\"['./weather_files/GMAO_2020_01_03_T00_00_00.nc']\") if you want to download a new one.\n"
     ]
    }
   ],
   "source": [
    "!head debug.log"
   ]
  },
  {
   "cell_type": "code",
   "execution_count": 13,
   "metadata": {},
   "outputs": [
    {
     "name": "stdout",
     "output_type": "stream",
     "text": [
      "[2021-02-22 22:23:21,340]  prepareWeatherModel:71    WARNING    download_only flag selected. No further processing will happen.\n",
      "[2021-02-22 22:23:36,882]  prepareWeatherModel:55    WARNING    Weather model already exists, please remove it (\"['./weather_files/GMAO_2020_01_03_T00_00_00.nc']\") if you want to download a new one.\n",
      "[2021-02-22 22:33:00,390]  prepareWeatherModel:55    WARNING    Weather model already exists, please remove it (\"['./weather_files/GMAO_2020_01_03_T00_00_00.nc']\") if you want to download a new one.\n",
      "[2021-02-22 22:33:22,932]  prepareWeatherModel:55    WARNING    Weather model already exists, please remove it (\"['./weather_files/GMAO_2020_01_03_T00_00_00.nc']\") if you want to download a new one.\n",
      "[2021-02-22 22:43:33,880]  prepareWeatherModel:55    WARNING    Weather model already exists, please remove it (\"['./weather_files/GMAO_2020_01_03_T00_00_00.nc']\") if you want to download a new one.\n",
      "[2021-02-22 22:43:33,882]  prepareWeatherModel:71    WARNING    download_only flag selected. No further processing will happen.\n",
      "[2021-02-22 22:43:37,188]  prepareWeatherModel:55    WARNING    Weather model already exists, please remove it (\"['./weather_files/GMAO_2020_01_03_T00_00_00.nc']\") if you want to download a new one.\n",
      "[2021-02-22 22:43:43,419]  prepareWeatherModel:55    WARNING    Weather model already exists, please remove it (\"['./weather_files/GMAO_2020_01_03_T00_00_00.nc']\") if you want to download a new one.\n"
     ]
    }
   ],
   "source": [
    "!head error.log"
   ]
  },
  {
   "cell_type": "markdown",
   "metadata": {},
   "source": [
    "Notice that there are flags (\"INFO\", \"WARNING\", etc.) that alert you to the type of message that is being saved. "
   ]
  },
  {
   "cell_type": "markdown",
   "metadata": {},
   "source": [
    "Finally, we have the processed delay files. These are of two types: \n",
    "1) A NETCDF file containing a modified version of the weather model that has been processed and regularized   \n",
    "2) Depending on the type of input query points, there may be a separate final delay file  "
   ]
  },
  {
   "cell_type": "code",
   "execution_count": 14,
   "metadata": {},
   "outputs": [
    {
     "name": "stdout",
     "output_type": "stream",
     "text": [
      "total 11464\n",
      "-rw-r--r--  1 jeremym  staff  2090742 Feb 22 22:43 GMAO_2020_01_03_T00_00_00_29N_40N_125W_113W.nc\n",
      "-rw-r--r--  1 jeremym  staff  2228902 Feb 22 22:43 GMAO_2020_01_03_T00_00_00_28N_40N_125W_113W.nc\n",
      "-rw-r--r--  1 jeremym  staff   614492 Feb 22 22:23 GMAO_2020_01_03_T00_00_00.nc\n"
     ]
    }
   ],
   "source": [
    "!ls -lt weather_files/"
   ]
  },
  {
   "cell_type": "markdown",
   "metadata": {},
   "source": [
    "In the case of a bounding box input, there is no additional file written; the delays are stored in the processed weather model file. \n",
    "\n",
    "As before, we can use GDAL to examine the processed NETCDF file."
   ]
  },
  {
   "cell_type": "code",
   "execution_count": 15,
   "metadata": {},
   "outputs": [
    {
     "name": "stdout",
     "output_type": "stream",
     "text": [
      "Driver: netCDF/Network Common Data Format\n",
      "Files: weather_files/GMAO_2020_01_03_T00_00_00_29N_40N_125W_113W.nc\n",
      "Size is 512, 512\n",
      "Metadata:\n",
      "  NC_GLOBAL#Conventions=CF-1.6\n",
      "  NC_GLOBAL#datetime=2020_01_03T00_00_00\n",
      "  NC_GLOBAL#date_created=2021_02_22T22_43_46\n",
      "  NC_GLOBAL#title=Weather model data and delay calculations\n",
      "Subdatasets:\n",
      "  SUBDATASET_1_NAME=NETCDF:\"weather_files/GMAO_2020_01_03_T00_00_00_29N_40N_125W_113W.nc\":latitude\n",
      "  SUBDATASET_1_DESC=[73x42x35] latitude (64-bit floating-point)\n",
      "  SUBDATASET_2_NAME=NETCDF:\"weather_files/GMAO_2020_01_03_T00_00_00_29N_40N_125W_113W.nc\":longitude\n",
      "  SUBDATASET_2_DESC=[73x42x35] longitude (64-bit floating-point)\n",
      "  SUBDATASET_3_NAME=NETCDF:\"weather_files/GMAO_2020_01_03_T00_00_00_29N_40N_125W_113W.nc\":t\n",
      "  SUBDATASET_3_DESC=[73x42x35] temperature (32-bit floating-point)\n",
      "  SUBDATASET_4_NAME=NETCDF:\"weather_files/GMAO_2020_01_03_T00_00_00_29N_40N_125W_113W.nc\":p\n",
      "  SUBDATASET_4_DESC=[73x42x35] pressure (32-bit floating-point)\n",
      "  SUBDATASET_5_NAME=NETCDF:\"weather_files/GMAO_2020_01_03_T00_00_00_29N_40N_125W_113W.nc\":e\n",
      "  SUBDATASET_5_DESC=[73x42x35] humidity (32-bit floating-point)\n",
      "  SUBDATASET_6_NAME=NETCDF:\"weather_files/GMAO_2020_01_03_T00_00_00_29N_40N_125W_113W.nc\":wet\n",
      "  SUBDATASET_6_DESC=[73x42x35] wet_refractivity (32-bit floating-point)\n",
      "  SUBDATASET_7_NAME=NETCDF:\"weather_files/GMAO_2020_01_03_T00_00_00_29N_40N_125W_113W.nc\":hydro\n",
      "  SUBDATASET_7_DESC=[73x42x35] hydrostatic_refractivity (32-bit floating-point)\n",
      "  SUBDATASET_8_NAME=NETCDF:\"weather_files/GMAO_2020_01_03_T00_00_00_29N_40N_125W_113W.nc\":wet_total\n",
      "  SUBDATASET_8_DESC=[73x42x35] total_wet_refractivity (32-bit floating-point)\n",
      "  SUBDATASET_9_NAME=NETCDF:\"weather_files/GMAO_2020_01_03_T00_00_00_29N_40N_125W_113W.nc\":hydro_total\n",
      "  SUBDATASET_9_DESC=[73x42x35] total_hydrostatic_refractivity (32-bit floating-point)\n",
      "Corner Coordinates:\n",
      "Upper Left  (    0.0,    0.0)\n",
      "Lower Left  (    0.0,  512.0)\n",
      "Upper Right (  512.0,    0.0)\n",
      "Lower Right (  512.0,  512.0)\n",
      "Center      (  256.0,  256.0)\n"
     ]
    }
   ],
   "source": [
    "!gdalinfo weather_files/GMAO_2020_01_03_T00_00_00_29N_40N_125W_113W.nc"
   ]
  },
  {
   "cell_type": "markdown",
   "metadata": {},
   "source": [
    "Notice that there are several new variables in comparison with the original weather model data, including lats/lons and two new variables \"wet\" and \"hydro;\" these are the wet and hydrostatic refractivities (point-wise delays) that are calculated using the equation:\n",
    "\n",
    "$$ N_{\\text{hydro}} = k_1 \\frac{P}{T} $$\n",
    "\n",
    "$$ N_{\\text{wet}} = k_2 \\frac{e}{T} + k_3 \\frac{e}{T^2} $$\n",
    "\n",
    "These are integrated in the z-direction to produce the \"wet_total\" and \"hydro_total\" variables, which are the integrated (i.e. total) delays:\n",
    "\n",
    "$$ \\text{ZTD}_{\\text{wet}} = 10^{-6} \\int_{z = h}^{z_{ref}} N_{\\text{wet}}(z) \\hspace{3pt} dz $$\n",
    "\n",
    "$$ \\text{ZTD}_{\\text{hydro}} = 10^{-6} \\int_{z = h}^{z_{ref}} N_{\\text{hydro}}(z) \\hspace{3pt} dz $$\n",
    "\n",
    "When passing a station list or raster files containing query points, RAiDER will generate separate files containing the wet and hydrostatic total delays in the main directory. "
   ]
  },
  {
   "cell_type": "markdown",
   "metadata": {},
   "source": [
    "Although not explicit in variable descriptions above, a further difference between the original and processed weather model data is that it is all in a uniform cube; i.e. the grid heights are the same across the entire area of interest. In contrast, the native weather models typically use some other fixed variable such as pressure levels. "
   ]
  },
  {
   "cell_type": "markdown",
   "metadata": {},
   "source": [
    "### Compute Zenith delays using a GNSS station list\n",
    "<a id='station_list_example'></a>"
   ]
  },
  {
   "cell_type": "markdown",
   "metadata": {},
   "source": [
    "When using a GNSS station list, the program by default will create a bounding box around the list of points. \n",
    "For demonstration purposes, we will use an example list of stations from\n",
    "the L.A. area so that we don't have to download another weather model file. \n",
    "\n",
    "The station file **must be comma-delimited, and must contain at the minimum column names \"Lat\" and \"Lon.\"** By default, RAiDER will download a DEM to get the height information for the list of stations; if the heights are specified in a column named \"Hgt_m\" RAiDER will use those and this will save some processing time. "
   ]
  },
  {
   "cell_type": "code",
   "execution_count": 16,
   "metadata": {},
   "outputs": [
    {
     "name": "stdout",
     "output_type": "stream",
     "text": [
      "\u001b[33;21mWARNING: Weather model already exists, please remove it (\"['./weather_files/GMAO_2020_01_03_T00_00_00.nc']\") if you want to download a new one.\u001b[0m\n",
      "Finished writing data to ['./GMAO_Delay_20200103T000000_Zmax15000.0.csv']\n"
     ]
    }
   ],
   "source": [
    "!raiderDelay.py --date 20200103 --time 00:00:00 --station_file data/sample_gnss_list.csv --model GMAO"
   ]
  },
  {
   "cell_type": "markdown",
   "metadata": {},
   "source": [
    "We can compare the files in weather_files to see what has been added: "
   ]
  },
  {
   "cell_type": "code",
   "execution_count": 17,
   "metadata": {},
   "outputs": [
    {
     "name": "stdout",
     "output_type": "stream",
     "text": [
      "total 11464\n",
      "-rw-r--r--  1 jeremym  staff  2090742 Feb 22 22:43 GMAO_2020_01_03_T00_00_00_29N_40N_125W_113W.nc\n",
      "-rw-r--r--  1 jeremym  staff  2228902 Feb 22 22:43 GMAO_2020_01_03_T00_00_00_28N_40N_125W_113W.nc\n",
      "-rw-r--r--  1 jeremym  staff   614492 Feb 22 22:23 GMAO_2020_01_03_T00_00_00.nc\n"
     ]
    }
   ],
   "source": [
    "!ls -lt weather_files/"
   ]
  },
  {
   "cell_type": "markdown",
   "metadata": {},
   "source": [
    "We now have a new file in the base directory, which has been copied from the original station list file and to which has been added some new variables."
   ]
  },
  {
   "cell_type": "code",
   "execution_count": 18,
   "metadata": {},
   "outputs": [
    {
     "name": "stdout",
     "output_type": "stream",
     "text": [
      "GMAO_Delay_20200103T000000_Zmax15000.0.csv\n"
     ]
    }
   ],
   "source": [
    "!ls *.csv"
   ]
  },
  {
   "cell_type": "code",
   "execution_count": 19,
   "metadata": {},
   "outputs": [
    {
     "name": "stdout",
     "output_type": "stream",
     "text": [
      "ID,Lat,Lon,Hgt_m,wetDelay,hydroDelay,totalDelay\n",
      "5PTS,36.429178603,-120.264976914,56.5231551,0.067772780891204,2.0252343290089683,2.093007109900172\n",
      "7OAK,37.59498606,-114.759089557,1713.2781037999996,0.04629423450288038,1.678122532838138,1.7244167673410182\n",
      "7ODM,34.116406899999994,-117.093191981,762.0717087,0.056575950936041584,1.8651668205113614,1.921742771447403\n",
      "ACSB,33.274264933000005,-117.444891086,-12.2960356,0.07332437843809947,2.0297132880746167,2.103037666512716\n",
      "ACSX,33.274265297,-117.444892069,-12.291230300000002,0.07332422488962133,2.0297122903449143,2.103036515234536\n",
      "AERO,32.80746746,-117.124379794,92.6906227,0.06676666247363311,2.007724844423338,2.074491506896971\n",
      "AGMT,34.594281855,-116.429377366,1337.8227700999996,0.04941655198114424,1.7523424504975753,1.8017590024787196\n",
      "AIAH,33.849159884,-117.862474822,38.2203257,0.08493009923168751,2.020132422176894,2.105062521408582\n",
      "AISD,33.023891888,-117.085783284,141.587007,0.07102242577585183,1.9973516893911119,2.0683741151669635\n"
     ]
    }
   ],
   "source": [
    "!head GMAO_Delay_20200103T000000_Zmax15000.0.csv"
   ]
  },
  {
   "cell_type": "markdown",
   "metadata": {},
   "source": [
    "You can see that the new .csv file contains the original station data, but with the addition of the wet, hydrostatic, and total delays, all in meters. "
   ]
  },
  {
   "cell_type": "markdown",
   "metadata": {},
   "source": [
    "### Visualizing Zenith delays for a list of GNSS stations\n",
    "<a id='station_list_visualization'></a>"
   ]
  },
  {
   "cell_type": "markdown",
   "metadata": {},
   "source": [
    "Once we have the delays in the .csv file, we can use Pandas to view and manipulate the data"
   ]
  },
  {
   "cell_type": "code",
   "execution_count": 20,
   "metadata": {},
   "outputs": [],
   "source": [
    "delays = pd.read_csv('GMAO_Delay_20200103T000000_Zmax15000.0.csv')"
   ]
  },
  {
   "cell_type": "code",
   "execution_count": 21,
   "metadata": {},
   "outputs": [
    {
     "data": {
      "text/html": [
       "<div>\n",
       "<style scoped>\n",
       "    .dataframe tbody tr th:only-of-type {\n",
       "        vertical-align: middle;\n",
       "    }\n",
       "\n",
       "    .dataframe tbody tr th {\n",
       "        vertical-align: top;\n",
       "    }\n",
       "\n",
       "    .dataframe thead th {\n",
       "        text-align: right;\n",
       "    }\n",
       "</style>\n",
       "<table border=\"1\" class=\"dataframe\">\n",
       "  <thead>\n",
       "    <tr style=\"text-align: right;\">\n",
       "      <th></th>\n",
       "      <th>ID</th>\n",
       "      <th>Lat</th>\n",
       "      <th>Lon</th>\n",
       "      <th>Hgt_m</th>\n",
       "      <th>wetDelay</th>\n",
       "      <th>hydroDelay</th>\n",
       "      <th>totalDelay</th>\n",
       "    </tr>\n",
       "  </thead>\n",
       "  <tbody>\n",
       "    <tr>\n",
       "      <th>0</th>\n",
       "      <td>5PTS</td>\n",
       "      <td>36.429179</td>\n",
       "      <td>-120.264977</td>\n",
       "      <td>56.523155</td>\n",
       "      <td>0.067773</td>\n",
       "      <td>2.025234</td>\n",
       "      <td>2.093007</td>\n",
       "    </tr>\n",
       "    <tr>\n",
       "      <th>1</th>\n",
       "      <td>7OAK</td>\n",
       "      <td>37.594986</td>\n",
       "      <td>-114.759090</td>\n",
       "      <td>1713.278104</td>\n",
       "      <td>0.046294</td>\n",
       "      <td>1.678123</td>\n",
       "      <td>1.724417</td>\n",
       "    </tr>\n",
       "    <tr>\n",
       "      <th>2</th>\n",
       "      <td>7ODM</td>\n",
       "      <td>34.116407</td>\n",
       "      <td>-117.093192</td>\n",
       "      <td>762.071709</td>\n",
       "      <td>0.056576</td>\n",
       "      <td>1.865167</td>\n",
       "      <td>1.921743</td>\n",
       "    </tr>\n",
       "    <tr>\n",
       "      <th>3</th>\n",
       "      <td>ACSB</td>\n",
       "      <td>33.274265</td>\n",
       "      <td>-117.444891</td>\n",
       "      <td>-12.296036</td>\n",
       "      <td>0.073324</td>\n",
       "      <td>2.029713</td>\n",
       "      <td>2.103038</td>\n",
       "    </tr>\n",
       "    <tr>\n",
       "      <th>4</th>\n",
       "      <td>ACSX</td>\n",
       "      <td>33.274265</td>\n",
       "      <td>-117.444892</td>\n",
       "      <td>-12.291230</td>\n",
       "      <td>0.073324</td>\n",
       "      <td>2.029712</td>\n",
       "      <td>2.103037</td>\n",
       "    </tr>\n",
       "  </tbody>\n",
       "</table>\n",
       "</div>"
      ],
      "text/plain": [
       "     ID        Lat         Lon        Hgt_m  wetDelay  hydroDelay  totalDelay\n",
       "0  5PTS  36.429179 -120.264977    56.523155  0.067773    2.025234    2.093007\n",
       "1  7OAK  37.594986 -114.759090  1713.278104  0.046294    1.678123    1.724417\n",
       "2  7ODM  34.116407 -117.093192   762.071709  0.056576    1.865167    1.921743\n",
       "3  ACSB  33.274265 -117.444891   -12.296036  0.073324    2.029713    2.103038\n",
       "4  ACSX  33.274265 -117.444892   -12.291230  0.073324    2.029712    2.103037"
      ]
     },
     "execution_count": 21,
     "metadata": {},
     "output_type": "execute_result"
    }
   ],
   "source": [
    "delays.head()"
   ]
  },
  {
   "cell_type": "code",
   "execution_count": 22,
   "metadata": {},
   "outputs": [
    {
     "data": {
      "text/plain": [
       "<AxesSubplot:xlabel='Height (m)', ylabel='Total Delay (m)'>"
      ]
     },
     "execution_count": 22,
     "metadata": {},
     "output_type": "execute_result"
    },
    {
     "data": {
      "image/png": "[encoded data removed]",
      "text/plain": [
       "<Figure size 432x288 with 1 Axes>"
      ]
     },
     "metadata": {
      "needs_background": "light"
     },
     "output_type": "display_data"
    }
   ],
   "source": [
    "delays.plot.scatter(x='Hgt_m',y='totalDelay', marker='.', xlabel = 'Height (m)', ylabel='Total Delay (m)')"
   ]
  },
  {
   "cell_type": "markdown",
   "metadata": {},
   "source": [
    "We can also plot the total (absolute) delays in space. "
   ]
  },
  {
   "cell_type": "code",
   "execution_count": 27,
   "metadata": {},
   "outputs": [
    {
     "data": {
      "text/plain": [
       "<AxesSubplot:xlabel='Lon', ylabel='Lat'>"
      ]
     },
     "execution_count": 27,
     "metadata": {},
     "output_type": "execute_result"
    },
    {
     "data": {
      "image/png": "[encoded data removed]",
      "text/plain": [
       "<Figure size 432x288 with 2 Axes>"
      ]
     },
     "metadata": {
      "needs_background": "light"
     },
     "output_type": "display_data"
    }
   ],
   "source": [
    "delays.plot.scatter(x='Lon',y='Lat', marker='.', c='totalDelay')"
   ]
  },
  {
   "cell_type": "markdown",
   "metadata": {},
   "source": [
    "### Compute Slant Delays with ISCE raster files\n",
    "<a id='raster_example'></a>"
   ]
  },
  {
   "cell_type": "code",
   "execution_count": 24,
   "metadata": {},
   "outputs": [],
   "source": [
    "# To be completed"
   ]
  }
 ],
 "metadata": {
  "kernelspec": {
   "display_name": "Python 3 (ipykernel)",
   "language": "python",
   "name": "python3"
  },
  "language_info": {
   "codemirror_mode": {
    "name": "ipython",
    "version": 3
   },
   "file_extension": ".py",
   "mimetype": "text/x-python",
   "name": "python",
   "nbconvert_exporter": "python",
   "pygments_lexer": "ipython3",
   "version": "3.11.0"
  },
  "latex_envs": {
   "LaTeX_envs_menu_present": true,
   "autoclose": false,
   "autocomplete": false,
   "bibliofile": "biblio.bib",
   "cite_by": "apalike",
   "current_citInitial": 1,
   "eqLabelWithNumbers": true,
   "eqNumInitial": 1,
   "hotkeys": {
    "equation": "Ctrl-E",
    "itemize": "Ctrl-I"
   },
   "labels_anchors": false,
   "latex_user_defs": false,
   "report_style_numbering": false,
   "user_envs_cfg": false
  }
 },
 "nbformat": 4,
 "nbformat_minor": 4
}
