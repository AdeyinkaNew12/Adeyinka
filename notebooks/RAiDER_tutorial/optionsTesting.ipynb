{
 "cells": [
  {
   "cell_type": "code",
   "execution_count": 83,
   "id": "9aa3f367",
   "metadata": {
    "scrolled": true
   },
   "outputs": [
    {
     "name": "stdout",
     "output_type": "stream",
     "text": [
      "Tutorial directory:  /Users/buzzanga/Software_InSAR/RAiDER-docs_git/notebooks/RAiDER_tutorial\n",
      "Work directory:  /Users/buzzanga/Software_InSAR/RAiDER-docs_git/notebooks/RAiDER_tutorial\n"
     ]
    }
   ],
   "source": [
    "import os, os.path as op\n",
    "import shutil\n",
    "import yaml\n",
    "import numpy as np\n",
    "import matplotlib.pyplot as plt\n",
    "from mpl_toolkits.axes_grid1 import make_axes_locatable\n",
    "\n",
    "import pandas as pd\n",
    "import xarray as xr\n",
    "from wand.image import Image as WImage\n",
    "\n",
    "## Defining the home and data directories\n",
    "tutorial_home_dir = os.path.abspath(os.getcwd())\n",
    "work_dir = os.path.abspath(os.getcwd())\n",
    "print(\"Tutorial directory: \", tutorial_home_dir)\n",
    "print(\"Work directory: \", work_dir)\n",
    "\n",
    "# Verifying if RAiDER is installed correctly\n",
    "try:\n",
    "    import RAiDER\n",
    "except:\n",
    "    raise Exception('RAiDER is missing from your PYTHONPATH')\n",
    "\n",
    "os.chdir(work_dir)"
   ]
  },
  {
   "cell_type": "markdown",
   "id": "2c5f91f7",
   "metadata": {},
   "source": [
    "### Helpers"
   ]
  },
  {
   "cell_type": "code",
   "execution_count": 2,
   "id": "73236916",
   "metadata": {},
   "outputs": [],
   "source": [
    "def new_yaml_group(example_yaml, dct_group, dst='tmp.yaml'):\n",
    "    \"\"\" Write a temporary yaml file with the new 'value' for 'key', preserving parms in example_yaml\"\"\"\n",
    "    with open(example_yaml, 'r') as f:\n",
    "        try:\n",
    "            params = yaml.safe_load(f)\n",
    "        except yaml.YAMLError as exc:\n",
    "            print(exc)\n",
    "            raise ValueError(f'Something is wrong with the yaml file {example_yaml}')\n",
    "    \n",
    "    params = {**params, **dct_group}\n",
    "    dst = op.join(os.path.dirname(example_yaml), dst)\n",
    "#     print (params)\n",
    "    \n",
    "    with open(dst, 'w') as fh:\n",
    "        yaml.dump(params, fh, default_flow_style=False)\n",
    "    \n",
    "    print ('Wrote new cfg file:', dst)\n",
    "    return dst"
   ]
  },
  {
   "cell_type": "code",
   "execution_count": 3,
   "id": "5bccf371",
   "metadata": {},
   "outputs": [],
   "source": [
    "yaml_base = os.path.join(tutorial_home_dir, 'example_yamls', 'raider_example_LA_bbox.yaml')"
   ]
  },
  {
   "cell_type": "code",
   "execution_count": 4,
   "id": "ea1d2706",
   "metadata": {},
   "outputs": [
    {
     "name": "stdout",
     "output_type": "stream",
     "text": [
      "Run routine processing with raider.py on steps: ['calculate_delays']\n",
      "--------------------------------------------------\n",
      "Starting to run the weather model calculation\n",
      "Time type: <class 'datetime.datetime'>\n",
      "Time: 20200103\n",
      "Max integration height is 15000.0 m\n",
      "Beginning weather model pre-processing\n",
      "\u001b[33;21mWARNING: Weather model already exists, please remove it (\"['/Users/buzzanga/Software_InSAR/RAiDER-docs_git/notebooks/RAiDER_tutorial/weather_files/GMAO_2020_01_03_T00_00_00.nc']\") if you want to download a new one.\u001b[0m\n",
      "Extent of the weather model is (xmin, ymin, xmax, ymax):-123.12, 29.00, -113.12, 39.00\n",
      "Extent of the input is (xmin, ymin, xmax, ymax): -123.00, 29.00, -113.00, 39.00\n",
      "\u001b[33;21mWARNING: The weather model passed does not cover all of the input points; you may need to download a larger area.\u001b[0m\n",
      "\u001b[33;21mWARNING: The processed weather model file already exists, so I will use that.\u001b[0m\n",
      "Starting to run the weather model cube calculation\n",
      "Time: 2020-01-03 00:00:00\n",
      "Max integration height is 15000.0 m\n",
      "Output cube projection is GEOGCRS[\"Hu Tzu Shan 1950\",DATUM[\"Hu Tzu Shan 1950\",ELLIPSOID[\"International 1924\",6378388,297,LENGTHUNIT[\"metre\",1]]],PRIMEM[\"Greenwich\",0,ANGLEUNIT[\"degree\",0.0174532925199433]],CS[ellipsoidal,2],AXIS[\"geodetic latitude (Lat)\",north,ORDER[1],ANGLEUNIT[\"degree\",0.0174532925199433]],AXIS[\"geodetic longitude (Lon)\",east,ORDER[2],ANGLEUNIT[\"degree\",0.0174532925199433]],USAGE[SCOPE[\"Geodesy.\"],AREA[\"Taiwan, Republic of China - onshore - Taiwan Island, Penghu (Pescadores) Islands.\"],BBOX[21.87,119.25,25.34,122.06]],ID[\"EPSG\",4236]]\n",
      "Output cube spacing is 2000.0 m\n",
      "Beginning weather model pre-processing\n",
      "Output SNWE: [29.0, 39.02, -123.0, -112.98]\n",
      "Output cube spacing: 0.02\n",
      "Output height range is 0.0 to 1000.0\n",
      "Invalid extension ('/Users/buzzanga/Software_InSAR/RAiDER-docs_git/notebooks/RAiDER_tutorial/GMAO_tropo_20200103T000000_ztd', '.GTiff') for cube. Defaulting to .nc\n",
      "Finished writing data to: /Users/buzzanga/Software_InSAR/RAiDER-docs_git/notebooks/RAiDER_tutorial/GMAO_tropo_20200103T000000_ztd.nc\n"
     ]
    }
   ],
   "source": [
    "# check the base file works\n",
    "!raider.py {yaml_base}"
   ]
  },
  {
   "cell_type": "markdown",
   "id": "e0ce6867",
   "metadata": {},
   "source": [
    "## Models"
   ]
  },
  {
   "cell_type": "code",
   "execution_count": 68,
   "id": "e13f4bf6",
   "metadata": {},
   "outputs": [
    {
     "name": "stdout",
     "output_type": "stream",
     "text": [
      "Testing Models ['ERA5', 'ERA5T', 'HRRR', 'GMAO', 'HRES']\n"
     ]
    }
   ],
   "source": [
    "from RAiDER.models.allowed import ALLOWED_MODELS\n",
    "models = ALLOWED_MODELS.copy()\n",
    "models.remove('NCMR')\n",
    "print ('Testing Models:', models)"
   ]
  },
  {
   "cell_type": "code",
   "execution_count": 84,
   "id": "08cacfeb",
   "metadata": {},
   "outputs": [],
   "source": [
    "## may want to test downloading\n",
    "shutil.rmtree('weather_files')"
   ]
  },
  {
   "cell_type": "code",
   "execution_count": 85,
   "id": "d4f71dad",
   "metadata": {},
   "outputs": [
    {
     "name": "stdout",
     "output_type": "stream",
     "text": [
      "Wrote new cfg file: /Users/buzzanga/Software_InSAR/RAiDER-docs_git/notebooks/RAiDER_tutorial/example_yamls/tmp.yaml\n",
      "Running: ERA5\n",
      "Starting to run the weather model calculation\n",
      "Time type: <class 'datetime.datetime'>\n",
      "Time: 20200103\n",
      "Max integration height is 15000.0 m\n",
      "Beginning weather model pre-processing\n",
      "Weather model ERA-5 is available from 1950-01-01 00:00:00-Present\n",
      "/Users/buzzanga/Miniconda3/envs/RAiDER/lib/python3.10/site-packages/urllib3/connectionpool.py:1045: InsecureRequestWarning: Unverified HTTPS request is being made to host 'cds.climate.copernicus.eu'. Adding certificate verification is strongly advised. See: https://urllib3.readthedocs.io/en/1.26.x/advanced-usage.html#ssl-warnings\n",
      "  warnings.warn(\n",
      "2022-11-29 18:30:52,889 INFO Welcome to the CDS\n",
      "2022-11-29 18:30:52,890 INFO Sending request to https://cds.climate.copernicus.eu/api/v2/resources/reanalysis-era5-complete\n",
      "/Users/buzzanga/Miniconda3/envs/RAiDER/lib/python3.10/site-packages/urllib3/connectionpool.py:1045: InsecureRequestWarning: Unverified HTTPS request is being made to host 'cds.climate.copernicus.eu'. Adding certificate verification is strongly advised. See: https://urllib3.readthedocs.io/en/1.26.x/advanced-usage.html#ssl-warnings\n",
      "  warnings.warn(\n",
      "2022-11-29 18:30:53,120 INFO Request is completed\n",
      "2022-11-29 18:30:53,120 INFO Downloading https://download-0019.copernicus-climate.eu/cache-compute-0019/cache/data2/adaptor.mars.external-1669773521.3902743-635-3-13bb7945-abc7-45d3-9e38-305f38658b6b.nc to /Users/buzzanga/Software_InSAR/RAiDER-docs_git/notebooks/RAiDER_tutorial/weather_files/ERA-5_2020_01_03_T00_00_00.nc (422K)\n",
      "/Users/buzzanga/Miniconda3/envs/RAiDER/lib/python3.10/site-packages/urllib3/connectionpool.py:1045: InsecureRequestWarning: Unverified HTTPS request is being made to host 'download-0019.copernicus-climate.eu'. Adding certificate verification is strongly advised. See: https://urllib3.readthedocs.io/en/1.26.x/advanced-usage.html#ssl-warnings\n",
      "  warnings.warn(\n",
      "2022-11-29 18:30:54,637 INFO Download rate 278.3K/s                             \n",
      "/Users/buzzanga/Miniconda3/envs/RAiDER/lib/python3.10/site-packages/urllib3/connectionpool.py:1045: InsecureRequestWarning: Unverified HTTPS request is being made to host 'cds.climate.copernicus.eu'. Adding certificate verification is strongly advised. See: https://urllib3.readthedocs.io/en/1.26.x/advanced-usage.html#ssl-warnings\n",
      "  warnings.warn(\n",
      "\u001b[33;21mWARNING: download_only flag selected. No further processing will happen.\u001b[0m\n",
      "2022-11-29 18:30:54,811 WARNING download_only flag selected. No further processing will happen.\n",
      "Weather model has downloaded. Finished.\n",
      "2022-11-29 18:30:54,812 DEBUG Weather model has downloaded. Finished.\n"
     ]
    }
   ],
   "source": [
    "for model in models:\n",
    "    grp  = {'weather_model': model}\n",
    "    cfg  = new_yaml_group(yaml_base, grp)\n",
    "    print ('Running:', model)\n",
    "    !raider.py {cfg} \n",
    "    "
   ]
  },
  {
   "cell_type": "markdown",
   "id": "044f55ca",
   "metadata": {},
   "source": [
    "## Date Options"
   ]
  },
  {
   "cell_type": "code",
   "execution_count": 5,
   "id": "8ec06939",
   "metadata": {},
   "outputs": [],
   "source": [
    "# date start only is default"
   ]
  },
  {
   "cell_type": "code",
   "execution_count": 6,
   "id": "36641aad",
   "metadata": {},
   "outputs": [
    {
     "name": "stdout",
     "output_type": "stream",
     "text": [
      "Wrote new cfg file: /Users/buzzanga/Software_InSAR/RAiDER-docs_git/notebooks/RAiDER_tutorial/example_yamls/tmp.yaml\n",
      "Run routine processing with raider.py on steps: ['calculate_delays']\n",
      "--------------------------------------------------\n",
      "Starting to run the weather model calculation\n",
      "Time type: <class 'datetime.datetime'>\n",
      "Time: 20200103\n",
      "Max integration height is 15000.0 m\n",
      "Beginning weather model pre-processing\n",
      "\u001b[33;21mWARNING: Weather model already exists, please remove it (\"['/Users/buzzanga/Software_InSAR/RAiDER-docs_git/notebooks/RAiDER_tutorial/weather_files/GMAO_2020_01_03_T00_00_00.nc']\") if you want to download a new one.\u001b[0m\n",
      "Extent of the weather model is (xmin, ymin, xmax, ymax):-123.12, 29.00, -113.12, 39.00\n",
      "Extent of the input is (xmin, ymin, xmax, ymax): -123.00, 29.00, -113.00, 39.00\n",
      "\u001b[33;21mWARNING: The weather model passed does not cover all of the input points; you may need to download a larger area.\u001b[0m\n",
      "\u001b[33;21mWARNING: The processed weather model file already exists, so I will use that.\u001b[0m\n",
      "Starting to run the weather model cube calculation\n",
      "Time: 2020-01-03 00:00:00\n",
      "Max integration height is 15000.0 m\n",
      "Output cube projection is GEOGCRS[\"Hu Tzu Shan 1950\",DATUM[\"Hu Tzu Shan 1950\",ELLIPSOID[\"International 1924\",6378388,297,LENGTHUNIT[\"metre\",1]]],PRIMEM[\"Greenwich\",0,ANGLEUNIT[\"degree\",0.0174532925199433]],CS[ellipsoidal,2],AXIS[\"geodetic latitude (Lat)\",north,ORDER[1],ANGLEUNIT[\"degree\",0.0174532925199433]],AXIS[\"geodetic longitude (Lon)\",east,ORDER[2],ANGLEUNIT[\"degree\",0.0174532925199433]],USAGE[SCOPE[\"Geodesy.\"],AREA[\"Taiwan, Republic of China - onshore - Taiwan Island, Penghu (Pescadores) Islands.\"],BBOX[21.87,119.25,25.34,122.06]],ID[\"EPSG\",4236]]\n",
      "Output cube spacing is 2000.0 m\n",
      "Beginning weather model pre-processing\n",
      "Output SNWE: [29.0, 39.02, -123.0, -112.98]\n",
      "Output cube spacing: 0.02\n",
      "Output height range is 0.0 to 1000.0\n",
      "Invalid extension ('/Users/buzzanga/Software_InSAR/RAiDER-docs_git/notebooks/RAiDER_tutorial/GMAO_tropo_20200103T000000_ztd', '.GTiff') for cube. Defaulting to .nc\n",
      "Finished writing data to: /Users/buzzanga/Software_InSAR/RAiDER-docs_git/notebooks/RAiDER_tutorial/GMAO_tropo_20200103T000000_ztd.nc\n",
      "Starting to run the weather model calculation\n",
      "Time type: <class 'datetime.datetime'>\n",
      "Time: 20200104\n",
      "Max integration height is 15000.0 m\n",
      "Beginning weather model pre-processing\n",
      "Extent of the weather model is (xmin, ymin, xmax, ymax):-123.12, 29.00, -113.12, 39.00\n",
      "Extent of the input is (xmin, ymin, xmax, ymax): -123.00, 29.00, -113.00, 39.00\n",
      "\u001b[33;21mWARNING: The weather model passed does not cover all of the input points; you may need to download a larger area.\u001b[0m\n",
      "\u001b[33;21mWARNING: The processed weather model file already exists, so I will use that.\u001b[0m\n",
      "Starting to run the weather model cube calculation\n",
      "Time: 2020-01-04 00:00:00\n",
      "Max integration height is 15000.0 m\n",
      "Output cube projection is GEOGCRS[\"Hu Tzu Shan 1950\",DATUM[\"Hu Tzu Shan 1950\",ELLIPSOID[\"International 1924\",6378388,297,LENGTHUNIT[\"metre\",1]]],PRIMEM[\"Greenwich\",0,ANGLEUNIT[\"degree\",0.0174532925199433]],CS[ellipsoidal,2],AXIS[\"geodetic latitude (Lat)\",north,ORDER[1],ANGLEUNIT[\"degree\",0.0174532925199433]],AXIS[\"geodetic longitude (Lon)\",east,ORDER[2],ANGLEUNIT[\"degree\",0.0174532925199433]],USAGE[SCOPE[\"Geodesy.\"],AREA[\"Taiwan, Republic of China - onshore - Taiwan Island, Penghu (Pescadores) Islands.\"],BBOX[21.87,119.25,25.34,122.06]],ID[\"EPSG\",4236]]\n",
      "Output cube spacing is 2000.0 m\n",
      "Beginning weather model pre-processing\n",
      "Output SNWE: [29.0, 39.02, -123.0, -112.98]\n",
      "Output cube spacing: 0.02\n",
      "Output height range is 0.0 to 1000.0\n",
      "Invalid extension ('/Users/buzzanga/Software_InSAR/RAiDER-docs_git/notebooks/RAiDER_tutorial/GMAO_tropo_20200104T000000_ztd', '.GTiff') for cube. Defaulting to .nc\n",
      "Finished writing data to: /Users/buzzanga/Software_InSAR/RAiDER-docs_git/notebooks/RAiDER_tutorial/GMAO_tropo_20200104T000000_ztd.nc\n",
      "Starting to run the weather model calculation\n",
      "Time type: <class 'datetime.datetime'>\n",
      "Time: 20200105\n",
      "Max integration height is 15000.0 m\n",
      "Beginning weather model pre-processing\n",
      "Extent of the weather model is (xmin, ymin, xmax, ymax):-123.12, 29.00, -113.12, 39.00\n",
      "Extent of the input is (xmin, ymin, xmax, ymax): -123.00, 29.00, -113.00, 39.00\n",
      "\u001b[33;21mWARNING: The weather model passed does not cover all of the input points; you may need to download a larger area.\u001b[0m\n",
      "\u001b[33;21mWARNING: The processed weather model file already exists, so I will use that.\u001b[0m\n",
      "Starting to run the weather model cube calculation\n",
      "Time: 2020-01-05 00:00:00\n",
      "Max integration height is 15000.0 m\n",
      "Output cube projection is GEOGCRS[\"Hu Tzu Shan 1950\",DATUM[\"Hu Tzu Shan 1950\",ELLIPSOID[\"International 1924\",6378388,297,LENGTHUNIT[\"metre\",1]]],PRIMEM[\"Greenwich\",0,ANGLEUNIT[\"degree\",0.0174532925199433]],CS[ellipsoidal,2],AXIS[\"geodetic latitude (Lat)\",north,ORDER[1],ANGLEUNIT[\"degree\",0.0174532925199433]],AXIS[\"geodetic longitude (Lon)\",east,ORDER[2],ANGLEUNIT[\"degree\",0.0174532925199433]],USAGE[SCOPE[\"Geodesy.\"],AREA[\"Taiwan, Republic of China - onshore - Taiwan Island, Penghu (Pescadores) Islands.\"],BBOX[21.87,119.25,25.34,122.06]],ID[\"EPSG\",4236]]\n",
      "Output cube spacing is 2000.0 m\n",
      "Beginning weather model pre-processing\n",
      "Output SNWE: [29.0, 39.02, -123.0, -112.98]\n",
      "Output cube spacing: 0.02\n",
      "Output height range is 0.0 to 1000.0\n",
      "Invalid extension ('/Users/buzzanga/Software_InSAR/RAiDER-docs_git/notebooks/RAiDER_tutorial/GMAO_tropo_20200105T000000_ztd', '.GTiff') for cube. Defaulting to .nc\n",
      "Finished writing data to: /Users/buzzanga/Software_InSAR/RAiDER-docs_git/notebooks/RAiDER_tutorial/GMAO_tropo_20200105T000000_ztd.nc\n",
      "Starting to run the weather model calculation\n",
      "Time type: <class 'datetime.datetime'>\n",
      "Time: 20200106\n",
      "Max integration height is 15000.0 m\n",
      "Beginning weather model pre-processing\n",
      "Extent of the weather model is (xmin, ymin, xmax, ymax):-123.12, 29.00, -113.12, 39.00\n",
      "Extent of the input is (xmin, ymin, xmax, ymax): -123.00, 29.00, -113.00, 39.00\n",
      "\u001b[33;21mWARNING: The weather model passed does not cover all of the input points; you may need to download a larger area.\u001b[0m\n",
      "\u001b[33;21mWARNING: The processed weather model file already exists, so I will use that.\u001b[0m\n",
      "Starting to run the weather model cube calculation\n",
      "Time: 2020-01-06 00:00:00\n",
      "Max integration height is 15000.0 m\n",
      "Output cube projection is GEOGCRS[\"Hu Tzu Shan 1950\",DATUM[\"Hu Tzu Shan 1950\",ELLIPSOID[\"International 1924\",6378388,297,LENGTHUNIT[\"metre\",1]]],PRIMEM[\"Greenwich\",0,ANGLEUNIT[\"degree\",0.0174532925199433]],CS[ellipsoidal,2],AXIS[\"geodetic latitude (Lat)\",north,ORDER[1],ANGLEUNIT[\"degree\",0.0174532925199433]],AXIS[\"geodetic longitude (Lon)\",east,ORDER[2],ANGLEUNIT[\"degree\",0.0174532925199433]],USAGE[SCOPE[\"Geodesy.\"],AREA[\"Taiwan, Republic of China - onshore - Taiwan Island, Penghu (Pescadores) Islands.\"],BBOX[21.87,119.25,25.34,122.06]],ID[\"EPSG\",4236]]\n",
      "Output cube spacing is 2000.0 m\n",
      "Beginning weather model pre-processing\n",
      "Output SNWE: [29.0, 39.02, -123.0, -112.98]\n",
      "Output cube spacing: 0.02\n",
      "Output height range is 0.0 to 1000.0\n",
      "Invalid extension ('/Users/buzzanga/Software_InSAR/RAiDER-docs_git/notebooks/RAiDER_tutorial/GMAO_tropo_20200106T000000_ztd', '.GTiff') for cube. Defaulting to .nc\n",
      "Finished writing data to: /Users/buzzanga/Software_InSAR/RAiDER-docs_git/notebooks/RAiDER_tutorial/GMAO_tropo_20200106T000000_ztd.nc\n",
      "Starting to run the weather model calculation\n",
      "Time type: <class 'datetime.datetime'>\n",
      "Time: 20200107\n",
      "Max integration height is 15000.0 m\n",
      "Beginning weather model pre-processing\n",
      "Extent of the weather model is (xmin, ymin, xmax, ymax):-123.12, 29.00, -113.12, 39.00\n",
      "Extent of the input is (xmin, ymin, xmax, ymax): -123.00, 29.00, -113.00, 39.00\n",
      "\u001b[33;21mWARNING: The weather model passed does not cover all of the input points; you may need to download a larger area.\u001b[0m\n",
      "\u001b[33;21mWARNING: The processed weather model file already exists, so I will use that.\u001b[0m\n",
      "Starting to run the weather model cube calculation\n",
      "Time: 2020-01-07 00:00:00\n",
      "Max integration height is 15000.0 m\n",
      "Output cube projection is GEOGCRS[\"Hu Tzu Shan 1950\",DATUM[\"Hu Tzu Shan 1950\",ELLIPSOID[\"International 1924\",6378388,297,LENGTHUNIT[\"metre\",1]]],PRIMEM[\"Greenwich\",0,ANGLEUNIT[\"degree\",0.0174532925199433]],CS[ellipsoidal,2],AXIS[\"geodetic latitude (Lat)\",north,ORDER[1],ANGLEUNIT[\"degree\",0.0174532925199433]],AXIS[\"geodetic longitude (Lon)\",east,ORDER[2],ANGLEUNIT[\"degree\",0.0174532925199433]],USAGE[SCOPE[\"Geodesy.\"],AREA[\"Taiwan, Republic of China - onshore - Taiwan Island, Penghu (Pescadores) Islands.\"],BBOX[21.87,119.25,25.34,122.06]],ID[\"EPSG\",4236]]\n",
      "Output cube spacing is 2000.0 m\n",
      "Beginning weather model pre-processing\n",
      "Output SNWE: [29.0, 39.02, -123.0, -112.98]\n",
      "Output cube spacing: 0.02\n"
     ]
    },
    {
     "name": "stdout",
     "output_type": "stream",
     "text": [
      "Output height range is 0.0 to 1000.0\n",
      "Invalid extension ('/Users/buzzanga/Software_InSAR/RAiDER-docs_git/notebooks/RAiDER_tutorial/GMAO_tropo_20200107T000000_ztd', '.GTiff') for cube. Defaulting to .nc\n",
      "Finished writing data to: /Users/buzzanga/Software_InSAR/RAiDER-docs_git/notebooks/RAiDER_tutorial/GMAO_tropo_20200107T000000_ztd.nc\n"
     ]
    }
   ],
   "source": [
    "# date start and end\n",
    "grp = {'date_group': {'date_start' : 20200103, 'date_end': 20200107}}\n",
    "cfg = new_yaml_group(yaml_base, grp)\n",
    "!raider.py {cfg}"
   ]
  },
  {
   "cell_type": "code",
   "execution_count": 7,
   "id": "e3471500",
   "metadata": {},
   "outputs": [
    {
     "name": "stdout",
     "output_type": "stream",
     "text": [
      "Wrote new cfg file: /Users/buzzanga/Software_InSAR/RAiDER-docs_git/notebooks/RAiDER_tutorial/example_yamls/tmp.yaml\n",
      "Run routine processing with raider.py on steps: ['calculate_delays']\n",
      "--------------------------------------------------\n",
      "Starting to run the weather model calculation\n",
      "Time type: <class 'datetime.datetime'>\n",
      "Time: 20200103\n",
      "Max integration height is 15000.0 m\n",
      "Beginning weather model pre-processing\n",
      "\u001b[33;21mWARNING: Weather model already exists, please remove it (\"['/Users/buzzanga/Software_InSAR/RAiDER-docs_git/notebooks/RAiDER_tutorial/weather_files/GMAO_2020_01_03_T00_00_00.nc']\") if you want to download a new one.\u001b[0m\n",
      "Extent of the weather model is (xmin, ymin, xmax, ymax):-123.12, 29.00, -113.12, 39.00\n",
      "Extent of the input is (xmin, ymin, xmax, ymax): -123.00, 29.00, -113.00, 39.00\n",
      "\u001b[33;21mWARNING: The weather model passed does not cover all of the input points; you may need to download a larger area.\u001b[0m\n",
      "\u001b[33;21mWARNING: The processed weather model file already exists, so I will use that.\u001b[0m\n",
      "Starting to run the weather model cube calculation\n",
      "Time: 2020-01-03 00:00:00\n",
      "Max integration height is 15000.0 m\n",
      "Output cube projection is GEOGCRS[\"Hu Tzu Shan 1950\",DATUM[\"Hu Tzu Shan 1950\",ELLIPSOID[\"International 1924\",6378388,297,LENGTHUNIT[\"metre\",1]]],PRIMEM[\"Greenwich\",0,ANGLEUNIT[\"degree\",0.0174532925199433]],CS[ellipsoidal,2],AXIS[\"geodetic latitude (Lat)\",north,ORDER[1],ANGLEUNIT[\"degree\",0.0174532925199433]],AXIS[\"geodetic longitude (Lon)\",east,ORDER[2],ANGLEUNIT[\"degree\",0.0174532925199433]],USAGE[SCOPE[\"Geodesy.\"],AREA[\"Taiwan, Republic of China - onshore - Taiwan Island, Penghu (Pescadores) Islands.\"],BBOX[21.87,119.25,25.34,122.06]],ID[\"EPSG\",4236]]\n",
      "Output cube spacing is 2000.0 m\n",
      "Beginning weather model pre-processing\n",
      "Output SNWE: [29.0, 39.02, -123.0, -112.98]\n",
      "Output cube spacing: 0.02\n",
      "Output height range is 0.0 to 1000.0\n",
      "Invalid extension ('/Users/buzzanga/Software_InSAR/RAiDER-docs_git/notebooks/RAiDER_tutorial/GMAO_tropo_20200103T000000_ztd', '.GTiff') for cube. Defaulting to .nc\n",
      "Finished writing data to: /Users/buzzanga/Software_InSAR/RAiDER-docs_git/notebooks/RAiDER_tutorial/GMAO_tropo_20200103T000000_ztd.nc\n",
      "Starting to run the weather model calculation\n",
      "Time type: <class 'datetime.datetime'>\n",
      "Time: 20200105\n",
      "Max integration height is 15000.0 m\n",
      "Beginning weather model pre-processing\n",
      "Extent of the weather model is (xmin, ymin, xmax, ymax):-123.12, 29.00, -113.12, 39.00\n",
      "Extent of the input is (xmin, ymin, xmax, ymax): -123.00, 29.00, -113.00, 39.00\n",
      "\u001b[33;21mWARNING: The weather model passed does not cover all of the input points; you may need to download a larger area.\u001b[0m\n",
      "\u001b[33;21mWARNING: The processed weather model file already exists, so I will use that.\u001b[0m\n",
      "Starting to run the weather model cube calculation\n",
      "Time: 2020-01-05 00:00:00\n",
      "Max integration height is 15000.0 m\n",
      "Output cube projection is GEOGCRS[\"Hu Tzu Shan 1950\",DATUM[\"Hu Tzu Shan 1950\",ELLIPSOID[\"International 1924\",6378388,297,LENGTHUNIT[\"metre\",1]]],PRIMEM[\"Greenwich\",0,ANGLEUNIT[\"degree\",0.0174532925199433]],CS[ellipsoidal,2],AXIS[\"geodetic latitude (Lat)\",north,ORDER[1],ANGLEUNIT[\"degree\",0.0174532925199433]],AXIS[\"geodetic longitude (Lon)\",east,ORDER[2],ANGLEUNIT[\"degree\",0.0174532925199433]],USAGE[SCOPE[\"Geodesy.\"],AREA[\"Taiwan, Republic of China - onshore - Taiwan Island, Penghu (Pescadores) Islands.\"],BBOX[21.87,119.25,25.34,122.06]],ID[\"EPSG\",4236]]\n",
      "Output cube spacing is 2000.0 m\n",
      "Beginning weather model pre-processing\n",
      "Output SNWE: [29.0, 39.02, -123.0, -112.98]\n",
      "Output cube spacing: 0.02\n",
      "Output height range is 0.0 to 1000.0\n",
      "Invalid extension ('/Users/buzzanga/Software_InSAR/RAiDER-docs_git/notebooks/RAiDER_tutorial/GMAO_tropo_20200105T000000_ztd', '.GTiff') for cube. Defaulting to .nc\n",
      "Finished writing data to: /Users/buzzanga/Software_InSAR/RAiDER-docs_git/notebooks/RAiDER_tutorial/GMAO_tropo_20200105T000000_ztd.nc\n",
      "Starting to run the weather model calculation\n",
      "Time type: <class 'datetime.datetime'>\n",
      "Time: 20200107\n",
      "Max integration height is 15000.0 m\n",
      "Beginning weather model pre-processing\n",
      "Extent of the weather model is (xmin, ymin, xmax, ymax):-123.12, 29.00, -113.12, 39.00\n",
      "Extent of the input is (xmin, ymin, xmax, ymax): -123.00, 29.00, -113.00, 39.00\n",
      "\u001b[33;21mWARNING: The weather model passed does not cover all of the input points; you may need to download a larger area.\u001b[0m\n",
      "\u001b[33;21mWARNING: The processed weather model file already exists, so I will use that.\u001b[0m\n",
      "Starting to run the weather model cube calculation\n",
      "Time: 2020-01-07 00:00:00\n",
      "Max integration height is 15000.0 m\n",
      "Output cube projection is GEOGCRS[\"Hu Tzu Shan 1950\",DATUM[\"Hu Tzu Shan 1950\",ELLIPSOID[\"International 1924\",6378388,297,LENGTHUNIT[\"metre\",1]]],PRIMEM[\"Greenwich\",0,ANGLEUNIT[\"degree\",0.0174532925199433]],CS[ellipsoidal,2],AXIS[\"geodetic latitude (Lat)\",north,ORDER[1],ANGLEUNIT[\"degree\",0.0174532925199433]],AXIS[\"geodetic longitude (Lon)\",east,ORDER[2],ANGLEUNIT[\"degree\",0.0174532925199433]],USAGE[SCOPE[\"Geodesy.\"],AREA[\"Taiwan, Republic of China - onshore - Taiwan Island, Penghu (Pescadores) Islands.\"],BBOX[21.87,119.25,25.34,122.06]],ID[\"EPSG\",4236]]\n",
      "Output cube spacing is 2000.0 m\n",
      "Beginning weather model pre-processing\n",
      "Output SNWE: [29.0, 39.02, -123.0, -112.98]\n",
      "Output cube spacing: 0.02\n",
      "Output height range is 0.0 to 1000.0\n",
      "Invalid extension ('/Users/buzzanga/Software_InSAR/RAiDER-docs_git/notebooks/RAiDER_tutorial/GMAO_tropo_20200107T000000_ztd', '.GTiff') for cube. Defaulting to .nc\n",
      "Finished writing data to: /Users/buzzanga/Software_InSAR/RAiDER-docs_git/notebooks/RAiDER_tutorial/GMAO_tropo_20200107T000000_ztd.nc\n"
     ]
    }
   ],
   "source": [
    "# date start and end every 2 days\n",
    "grp = {'date_group': {'date_start' : 20200103, 'date_end': 20200107, 'date_step': 2}}\n",
    "cfg = new_yaml_group(yaml_base, grp)\n",
    "!raider.py {cfg}"
   ]
  },
  {
   "cell_type": "code",
   "execution_count": 27,
   "id": "0c404c22",
   "metadata": {},
   "outputs": [
    {
     "name": "stdout",
     "output_type": "stream",
     "text": [
      "Wrote new cfg file: /Users/buzzanga/Software_InSAR/RAiDER-docs_git/notebooks/RAiDER_tutorial/example_yamls/tmp.yaml\n",
      "Run routine processing with raider.py on steps: ['calculate_delays']\n",
      "--------------------------------------------------\n",
      "Starting to run the weather model calculation\n",
      "Time type: <class 'datetime.datetime'>\n",
      "Time: 20200110\n",
      "Max integration height is 15000.0 m\n",
      "Beginning weather model pre-processing\n",
      "Weather model GMAO is available from 2014-02-20 00:00:00-Present\n",
      "Number of weather model nodes: 247950\n",
      "Shape of weather model: (45, 38, 145)\n",
      "Bounds of the weather model: 28.50/39.50/-123.75/-112.19 (SNWE)\n",
      "Weather model: GMAO\n",
      "Mean value of the wet refractivity: 8.561081\n",
      "Mean value of the hydrostatic refractivity: 104.999130\n",
      "\n",
      "======Weather Model class object=====\n",
      "Weather model time: 2020-01-10 00:00:00\n",
      "Latitude resolution: 0.25\n",
      "Longitude resolution: 0.3125\n",
      "Native projection: epsg:4326\n",
      "ZMIN: -100.0\n",
      "ZMAX: 15000.0\n",
      "k1 = 0.776\n",
      "k2 = 0.233\n",
      "k3 = 3750.0\n",
      "Humidity type = q\n",
      "=====================================\n",
      "Class name: gmao\n",
      "Dataset: gmao\n",
      "=====================================\n",
      "A: []\n",
      "B: []\n",
      "Number of points in Lon/Lat = 45/38\n",
      "Total number of grid points (3D): 247950\n",
      "=====================================\n",
      "\n",
      "Starting to run the weather model cube calculation\n",
      "Time: 2020-01-10 00:00:00\n",
      "Max integration height is 15000.0 m\n",
      "Output cube projection is GEOGCRS[\"Hu Tzu Shan 1950\",DATUM[\"Hu Tzu Shan 1950\",ELLIPSOID[\"International 1924\",6378388,297,LENGTHUNIT[\"metre\",1]]],PRIMEM[\"Greenwich\",0,ANGLEUNIT[\"degree\",0.0174532925199433]],CS[ellipsoidal,2],AXIS[\"geodetic latitude (Lat)\",north,ORDER[1],ANGLEUNIT[\"degree\",0.0174532925199433]],AXIS[\"geodetic longitude (Lon)\",east,ORDER[2],ANGLEUNIT[\"degree\",0.0174532925199433]],USAGE[SCOPE[\"Geodesy.\"],AREA[\"Taiwan, Republic of China - onshore - Taiwan Island, Penghu (Pescadores) Islands.\"],BBOX[21.87,119.25,25.34,122.06]],ID[\"EPSG\",4236]]\n",
      "Output cube spacing is 2000.0 m\n",
      "Beginning weather model pre-processing\n",
      "Output SNWE: [29.0, 39.02, -123.0, -112.98]\n",
      "Output cube spacing: 0.02\n",
      "Output height range is 0.0 to 1000.0\n",
      "Invalid extension ('/Users/buzzanga/Software_InSAR/RAiDER-docs_git/notebooks/RAiDER_tutorial/GMAO_tropo_20200110T000000_ztd', '.GTiff') for cube. Defaulting to .nc\n",
      "Finished writing data to: /Users/buzzanga/Software_InSAR/RAiDER-docs_git/notebooks/RAiDER_tutorial/GMAO_tropo_20200110T000000_ztd.nc\n",
      "Starting to run the weather model calculation\n",
      "Time type: <class 'datetime.datetime'>\n",
      "Time: 20200115\n",
      "Max integration height is 15000.0 m\n",
      "Beginning weather model pre-processing\n",
      "Extent of the weather model is (xmin, ymin, xmax, ymax):-123.75, 28.50, -112.19, 39.50\n",
      "Extent of the input is (xmin, ymin, xmax, ymax): -123.00, 29.00, -113.00, 39.00\n",
      "\u001b[33;21mWARNING: The processed weather model file already exists, so I will use that.\u001b[0m\n",
      "Starting to run the weather model cube calculation\n",
      "Time: 2020-01-15 00:00:00\n",
      "Max integration height is 15000.0 m\n",
      "Output cube projection is GEOGCRS[\"Hu Tzu Shan 1950\",DATUM[\"Hu Tzu Shan 1950\",ELLIPSOID[\"International 1924\",6378388,297,LENGTHUNIT[\"metre\",1]]],PRIMEM[\"Greenwich\",0,ANGLEUNIT[\"degree\",0.0174532925199433]],CS[ellipsoidal,2],AXIS[\"geodetic latitude (Lat)\",north,ORDER[1],ANGLEUNIT[\"degree\",0.0174532925199433]],AXIS[\"geodetic longitude (Lon)\",east,ORDER[2],ANGLEUNIT[\"degree\",0.0174532925199433]],USAGE[SCOPE[\"Geodesy.\"],AREA[\"Taiwan, Republic of China - onshore - Taiwan Island, Penghu (Pescadores) Islands.\"],BBOX[21.87,119.25,25.34,122.06]],ID[\"EPSG\",4236]]\n",
      "Output cube spacing is 2000.0 m\n",
      "Beginning weather model pre-processing\n",
      "Output SNWE: [29.0, 39.02, -123.0, -112.98]\n",
      "Output cube spacing: 0.02\n",
      "Output height range is 0.0 to 1000.0\n",
      "Invalid extension ('/Users/buzzanga/Software_InSAR/RAiDER-docs_git/notebooks/RAiDER_tutorial/GMAO_tropo_20200115T000000_ztd', '.GTiff') for cube. Defaulting to .nc\n",
      "Finished writing data to: /Users/buzzanga/Software_InSAR/RAiDER-docs_git/notebooks/RAiDER_tutorial/GMAO_tropo_20200115T000000_ztd.nc\n"
     ]
    }
   ],
   "source": [
    "# list of dates\n",
    "grp = {'date_group': {'date_list': [20200110, 20200115]}}\n",
    "cfg = new_yaml_group(yaml_base, grp)\n",
    "!raider.py {cfg}"
   ]
  },
  {
   "cell_type": "markdown",
   "id": "27f57e39",
   "metadata": {},
   "source": [
    "## Time Options"
   ]
  },
  {
   "cell_type": "code",
   "execution_count": 28,
   "id": "18426a14",
   "metadata": {},
   "outputs": [],
   "source": [
    "# start time only is default"
   ]
  },
  {
   "cell_type": "code",
   "execution_count": 29,
   "id": "3b7b0b69",
   "metadata": {},
   "outputs": [
    {
     "name": "stdout",
     "output_type": "stream",
     "text": [
      "Wrote new cfg file: /Users/buzzanga/Software_InSAR/RAiDER-docs_git/notebooks/RAiDER_tutorial/example_yamls/tmp.yaml\n",
      "Run routine processing with raider.py on steps: ['calculate_delays']\n",
      "--------------------------------------------------\n",
      "Starting to run the weather model calculation\n",
      "Time type: <class 'datetime.datetime'>\n",
      "Time: 20200103\n",
      "Max integration height is 15000.0 m\n",
      "Beginning weather model pre-processing\n",
      "\u001b[33;21mWARNING: Weather model already exists, please remove it (\"['/Users/buzzanga/Software_InSAR/RAiDER-docs_git/notebooks/RAiDER_tutorial/weather_files/GMAO_2020_01_03_T00_00_00.nc']\") if you want to download a new one.\u001b[0m\n",
      "Extent of the weather model is (xmin, ymin, xmax, ymax):-123.12, 29.00, -113.12, 39.00\n",
      "Extent of the input is (xmin, ymin, xmax, ymax): -123.00, 29.00, -113.00, 39.00\n",
      "\u001b[33;21mWARNING: The weather model passed does not cover all of the input points; you may need to download a larger area.\u001b[0m\n",
      "\u001b[33;21mWARNING: The processed weather model file already exists, so I will use that.\u001b[0m\n",
      "Starting to run the weather model cube calculation\n",
      "Time: 2020-01-03 00:00:00\n",
      "Max integration height is 15000.0 m\n",
      "Output cube projection is GEOGCRS[\"Hu Tzu Shan 1950\",DATUM[\"Hu Tzu Shan 1950\",ELLIPSOID[\"International 1924\",6378388,297,LENGTHUNIT[\"metre\",1]]],PRIMEM[\"Greenwich\",0,ANGLEUNIT[\"degree\",0.0174532925199433]],CS[ellipsoidal,2],AXIS[\"geodetic latitude (Lat)\",north,ORDER[1],ANGLEUNIT[\"degree\",0.0174532925199433]],AXIS[\"geodetic longitude (Lon)\",east,ORDER[2],ANGLEUNIT[\"degree\",0.0174532925199433]],USAGE[SCOPE[\"Geodesy.\"],AREA[\"Taiwan, Republic of China - onshore - Taiwan Island, Penghu (Pescadores) Islands.\"],BBOX[21.87,119.25,25.34,122.06]],ID[\"EPSG\",4236]]\n",
      "Output cube spacing is 2000.0 m\n",
      "Beginning weather model pre-processing\n",
      "Output SNWE: [29.0, 39.02, -123.0, -112.98]\n",
      "Output cube spacing: 0.02\n",
      "Output height range is 0.0 to 1000.0\n",
      "Invalid extension ('/Users/buzzanga/Software_InSAR/RAiDER-docs_git/notebooks/RAiDER_tutorial/GMAO_tropo_20200103T000000_ztd', '.GTiff') for cube. Defaulting to .nc\n",
      "Finished writing data to: /Users/buzzanga/Software_InSAR/RAiDER-docs_git/notebooks/RAiDER_tutorial/GMAO_tropo_20200103T000000_ztd.nc\n"
     ]
    }
   ],
   "source": [
    "# start and end time\n",
    "grp = {'time_group': {'time': '00:00:00', 'end_time': '06:00:00'}}\n",
    "cfg = new_yaml_group(yaml_base, grp)\n",
    "!raider.py {cfg}"
   ]
  },
  {
   "cell_type": "markdown",
   "id": "0ea094c7",
   "metadata": {},
   "source": [
    "## AOI Options"
   ]
  },
  {
   "cell_type": "code",
   "execution_count": 30,
   "id": "6e582efe",
   "metadata": {},
   "outputs": [
    {
     "name": "stdout",
     "output_type": "stream",
     "text": [
      "Run routine processing with raider.py on steps: ['calculate_delays']\n",
      "--------------------------------------------------\n",
      "Starting to run the weather model calculation\n",
      "Time type: <class 'datetime.datetime'>\n",
      "Time: 20200103\n",
      "Max integration height is 15000.0 m\n",
      "Beginning weather model pre-processing\n",
      "\u001b[33;21mWARNING: Weather model already exists, please remove it (\"['/Users/buzzanga/Software_InSAR/RAiDER-docs_git/notebooks/RAiDER_tutorial/weather_files/GMAO_2020_01_03_T00_00_00.nc']\") if you want to download a new one.\u001b[0m\n",
      "Extent of the weather model is (xmin, ymin, xmax, ymax):-123.12, 29.00, -113.12, 39.00\n",
      "Extent of the input is (xmin, ymin, xmax, ymax): -123.00, 29.00, -113.00, 39.00\n",
      "\u001b[33;21mWARNING: The weather model passed does not cover all of the input points; you may need to download a larger area.\u001b[0m\n",
      "\u001b[33;21mWARNING: The processed weather model file already exists, so I will use that.\u001b[0m\n",
      "Starting to run the weather model cube calculation\n",
      "Time: 2020-01-03 00:00:00\n",
      "Max integration height is 15000.0 m\n",
      "Output cube projection is GEOGCRS[\"Hu Tzu Shan 1950\",DATUM[\"Hu Tzu Shan 1950\",ELLIPSOID[\"International 1924\",6378388,297,LENGTHUNIT[\"metre\",1]]],PRIMEM[\"Greenwich\",0,ANGLEUNIT[\"degree\",0.0174532925199433]],CS[ellipsoidal,2],AXIS[\"geodetic latitude (Lat)\",north,ORDER[1],ANGLEUNIT[\"degree\",0.0174532925199433]],AXIS[\"geodetic longitude (Lon)\",east,ORDER[2],ANGLEUNIT[\"degree\",0.0174532925199433]],USAGE[SCOPE[\"Geodesy.\"],AREA[\"Taiwan, Republic of China - onshore - Taiwan Island, Penghu (Pescadores) Islands.\"],BBOX[21.87,119.25,25.34,122.06]],ID[\"EPSG\",4236]]\n",
      "Output cube spacing is 2000.0 m\n",
      "Beginning weather model pre-processing\n",
      "Output SNWE: [29.0, 39.02, -123.0, -112.98]\n",
      "Output cube spacing: 0.02\n",
      "Output height range is 0.0 to 1000.0\n",
      "Invalid extension ('/Users/buzzanga/Software_InSAR/RAiDER-docs_git/notebooks/RAiDER_tutorial/GMAO_tropo_20200103T000000_ztd', '.GTiff') for cube. Defaulting to .nc\n",
      "Finished writing data to: /Users/buzzanga/Software_InSAR/RAiDER-docs_git/notebooks/RAiDER_tutorial/GMAO_tropo_20200103T000000_ztd.nc\n"
     ]
    }
   ],
   "source": [
    "# bbox \n",
    "!raider.py {yaml_base}"
   ]
  },
  {
   "cell_type": "code",
   "execution_count": 55,
   "id": "82b7b71f",
   "metadata": {},
   "outputs": [
    {
     "name": "stdout",
     "output_type": "stream",
     "text": [
      "Wrote new cfg file: /Users/buzzanga/Software_InSAR/RAiDER-docs_git/notebooks/RAiDER_tutorial/example_yamls/tmp.yaml\n",
      "Run routine processing with raider.py on steps: ['download_gnss']\n",
      "--------------------------------------------------\n",
      "11489 stations were found in [-90.0, 90.0, 180.0, 360.0]\n",
      "8931 stations were found in [-90.0, 90.0, 0.0, 180.0]\n"
     ]
    }
   ],
   "source": [
    "# bbox global for GNSS\n",
    "grp  = {'aoi_group': {'bounding_box': '-90 90 -180 180'}}\n",
    "cfg  = new_yaml_group(yaml_base, grp)\n",
    "\n",
    "!raider.py {cfg} --dostep download_gnss"
   ]
  },
  {
   "cell_type": "code",
   "execution_count": 56,
   "id": "544d9d57",
   "metadata": {},
   "outputs": [
    {
     "name": "stdout",
     "output_type": "stream",
     "text": [
      "Wrote new cfg file: /Users/buzzanga/Software_InSAR/RAiDER-docs_git/notebooks/RAiDER_tutorial/example_yamls/tmp.yaml\n",
      "Run routine processing with raider.py on steps: ['calculate_delays']\n",
      "--------------------------------------------------\n",
      "Starting to run the weather model calculation\n",
      "Time type: <class 'datetime.datetime'>\n",
      "Time: 20200103\n",
      "Max integration height is 15000.0 m\n",
      "Beginning weather model pre-processing\n",
      "\u001b[33;21mWARNING: Weather model already exists, please remove it (\"['/Users/buzzanga/Software_InSAR/RAiDER-docs_git/notebooks/RAiDER_tutorial/weather_files/GMAO_2020_01_03_T00_00_00.nc']\") if you want to download a new one.\u001b[0m\n",
      "Extent of the weather model is (xmin, ymin, xmax, ymax):-123.12, 29.00, -113.12, 39.00\n",
      "Extent of the input is (xmin, ymin, xmax, ymax): -119.36, 32.98, -116.24, 34.96\n",
      "\u001b[33;21mWARNING: The processed weather model file already exists, so I will use that.\u001b[0m\n",
      "Starting to run the weather model cube calculation\n",
      "Time: 2020-01-03 00:00:00\n",
      "Max integration height is 15000.0 m\n",
      "Output cube projection is GEOGCRS[\"Hu Tzu Shan 1950\",DATUM[\"Hu Tzu Shan 1950\",ELLIPSOID[\"International 1924\",6378388,297,LENGTHUNIT[\"metre\",1]]],PRIMEM[\"Greenwich\",0,ANGLEUNIT[\"degree\",0.0174532925199433]],CS[ellipsoidal,2],AXIS[\"geodetic latitude (Lat)\",north,ORDER[1],ANGLEUNIT[\"degree\",0.0174532925199433]],AXIS[\"geodetic longitude (Lon)\",east,ORDER[2],ANGLEUNIT[\"degree\",0.0174532925199433]],USAGE[SCOPE[\"Geodesy.\"],AREA[\"Taiwan, Republic of China - onshore - Taiwan Island, Penghu (Pescadores) Islands.\"],BBOX[21.87,119.25,25.34,122.06]],ID[\"EPSG\",4236]]\n",
      "Output cube spacing is 2000.0 m\n",
      "Beginning weather model pre-processing\n",
      "Output SNWE: [32.980000000000004, 34.980000000000004, -119.38, -116.22]\n",
      "Output cube spacing: 0.02\n",
      "Output height range is 0.0 to 1000.0\n",
      "Invalid extension ('/Users/buzzanga/Software_InSAR/RAiDER-docs_git/notebooks/RAiDER_tutorial/GMAO_tropo_20200103T000000_ztd', '.GTiff') for cube. Defaulting to .nc\n",
      "Finished writing data to: /Users/buzzanga/Software_InSAR/RAiDER-docs_git/notebooks/RAiDER_tutorial/GMAO_tropo_20200103T000000_ztd.nc\n"
     ]
    }
   ],
   "source": [
    "# geocoded file (GUNW)\n",
    "aria = op.join(op.expanduser('~'), 'data', 'VLM', 'Sentinel1', 'LA_ARIA', 'products')\n",
    "prod = 'S1-GUNW-D-R-071-tops-20200130_20200124-135156-34956N_32979N-PP-913f-v2_0_4.nc'\n",
    "grp  = {'aoi_group': {'geocoded_file': op.join(aria, prod)}}\n",
    "cfg  = new_yaml_group(yaml_base, grp)\n",
    "!raider.py {cfg}"
   ]
  },
  {
   "cell_type": "code",
   "execution_count": 57,
   "id": "ced94fa9",
   "metadata": {},
   "outputs": [
    {
     "name": "stdout",
     "output_type": "stream",
     "text": [
      "Wrote new cfg file: /Users/buzzanga/Software_InSAR/RAiDER-docs_git/notebooks/RAiDER_tutorial/example_yamls/tmp.yaml\n",
      "Run routine processing with raider.py on steps: ['calculate_delays']\n",
      "--------------------------------------------------\n",
      "Starting to run the weather model calculation\n",
      "Time type: <class 'datetime.datetime'>\n",
      "Time: 20200103\n",
      "Max integration height is 15000.0 m\n",
      "Beginning weather model pre-processing\n",
      "\u001b[33;21mWARNING: Weather model already exists, please remove it (\"['/Users/buzzanga/Software_InSAR/RAiDER-docs_git/notebooks/RAiDER_tutorial/weather_files/GMAO_2020_01_03_T00_00_00.nc']\") if you want to download a new one.\u001b[0m\n",
      "Extent of the weather model is (xmin, ymin, xmax, ymax):-123.12, 29.00, -113.12, 39.00\n",
      "Extent of the input is (xmin, ymin, xmax, ymax): -123.00, 29.00, -113.00, 39.00\n",
      "\u001b[33;21mWARNING: The weather model passed does not cover all of the input points; you may need to download a larger area.\u001b[0m\n",
      "\u001b[33;21mWARNING: The processed weather model file already exists, so I will use that.\u001b[0m\n",
      "Starting to run the weather model cube calculation\n",
      "Time: 2020-01-03 00:00:00\n",
      "Max integration height is 15000.0 m\n",
      "Output cube projection is GEOGCRS[\"Hu Tzu Shan 1950\",DATUM[\"Hu Tzu Shan 1950\",ELLIPSOID[\"International 1924\",6378388,297,LENGTHUNIT[\"metre\",1]]],PRIMEM[\"Greenwich\",0,ANGLEUNIT[\"degree\",0.0174532925199433]],CS[ellipsoidal,2],AXIS[\"geodetic latitude (Lat)\",north,ORDER[1],ANGLEUNIT[\"degree\",0.0174532925199433]],AXIS[\"geodetic longitude (Lon)\",east,ORDER[2],ANGLEUNIT[\"degree\",0.0174532925199433]],USAGE[SCOPE[\"Geodesy.\"],AREA[\"Taiwan, Republic of China - onshore - Taiwan Island, Penghu (Pescadores) Islands.\"],BBOX[21.87,119.25,25.34,122.06]],ID[\"EPSG\",4236]]\n",
      "Output cube spacing is 2000.0 m\n",
      "Beginning weather model pre-processing\n",
      "Output SNWE: [29.0, 39.02, -123.0, -112.98]\n",
      "Output cube spacing: 0.02\n",
      "Output height range is 0.0 to 1000.0\n",
      "Invalid extension ('/Users/buzzanga/Software_InSAR/RAiDER-docs_git/notebooks/RAiDER_tutorial/GMAO_tropo_20200103T000000_ztd', '.GTiff') for cube. Defaulting to .nc\n",
      "Finished writing data to: /Users/buzzanga/Software_InSAR/RAiDER-docs_git/notebooks/RAiDER_tutorial/GMAO_tropo_20200103T000000_ztd.nc\n"
     ]
    }
   ],
   "source": [
    "# geocoded file (SRTM DEM)\n",
    "aria = op.join(op.expanduser('~'), 'data', 'VLM', 'Sentinel1', 'LA_ARIA', 'DEM')\n",
    "prod = 'SRTM_3arcsec.dem'\n",
    "grp  = {'aoi_group': {'geocoded_file': op.join(aria, prod)}}\n",
    "cfg  = new_yaml_group(yaml_base, grp)\n",
    "!raider.py {cfg}"
   ]
  },
  {
   "cell_type": "code",
   "execution_count": 58,
   "id": "479c8c9e",
   "metadata": {},
   "outputs": [
    {
     "name": "stdout",
     "output_type": "stream",
     "text": [
      "Wrote new cfg file: /Users/buzzanga/Software_InSAR/RAiDER-docs_git/notebooks/RAiDER_tutorial/example_yamls/tmp.yaml\n",
      "Run routine processing with raider.py on steps: ['calculate_delays']\n",
      "--------------------------------------------------\n",
      "/Users/buzzanga/Miniconda3/envs/RAiDER/lib/python3.10/site-packages/rasterio/__init__.py:304: NotGeoreferencedWarning: Dataset has no geotransform, gcps, or rpcs. The identity matrix will be returned.\n",
      "  dataset = DatasetReader(path, driver=driver, sharing=sharing, **kwargs)\n",
      "Starting to run the weather model calculation\n",
      "Time type: <class 'datetime.datetime'>\n",
      "Time: 20181113\n",
      "Max integration height is 15000.0 m\n",
      "Beginning weather model pre-processing\n",
      "\u001b[33;21mWARNING: Weather model already exists, please remove it (\"['/Users/buzzanga/Software_InSAR/RAiDER-docs_git/notebooks/RAiDER_tutorial/weather_files/GMAO_2018_11_13_T23_00_00.nc']\") if you want to download a new one.\u001b[0m\n",
      "Extent of the weather model is (xmin, ymin, xmax, ymax):-76.88, 36.50, -75.94, 37.25\n",
      "Extent of the input is (xmin, ymin, xmax, ymax): -76.65, 36.67, -75.93, 37.31\n",
      "\u001b[33;21mWARNING: The weather model passed does not cover all of the input points; you may need to download a larger area.\u001b[0m\n",
      "\u001b[33;21mWARNING: The processed weather model file already exists, so I will use that.\u001b[0m\n",
      "Starting to run the weather model cube calculation\n",
      "Time: 2018-11-13 23:00:00\n",
      "Max integration height is 15000.0 m\n",
      "Output cube projection is GEOGCRS[\"Hu Tzu Shan 1950\",DATUM[\"Hu Tzu Shan 1950\",ELLIPSOID[\"International 1924\",6378388,297,LENGTHUNIT[\"metre\",1]]],PRIMEM[\"Greenwich\",0,ANGLEUNIT[\"degree\",0.0174532925199433]],CS[ellipsoidal,2],AXIS[\"geodetic latitude (Lat)\",north,ORDER[1],ANGLEUNIT[\"degree\",0.0174532925199433]],AXIS[\"geodetic longitude (Lon)\",east,ORDER[2],ANGLEUNIT[\"degree\",0.0174532925199433]],USAGE[SCOPE[\"Geodesy.\"],AREA[\"Taiwan, Republic of China - onshore - Taiwan Island, Penghu (Pescadores) Islands.\"],BBOX[21.87,119.25,25.34,122.06]],ID[\"EPSG\",4236]]\n",
      "Output cube spacing is 2000.0 m\n",
      "Beginning weather model pre-processing\n",
      "Output SNWE: [36.660000000000004, 37.32, -76.66, -75.9]\n",
      "Output cube spacing: 0.02\n",
      "Output height range is 0.0 to 1000.0\n",
      "Invalid extension ('/Users/buzzanga/Software_InSAR/RAiDER-docs_git/notebooks/RAiDER_tutorial/GMAO_tropo_20181113T230000_ztd', '.GTiff') for cube. Defaulting to .nc\n",
      "Finished writing data to: /Users/buzzanga/Software_InSAR/RAiDER-docs_git/notebooks/RAiDER_tutorial/GMAO_tropo_20181113T230000_ztd.nc\n"
     ]
    }
   ],
   "source": [
    "# ISCE lat/lon files\n",
    "path_test = os.path.join(op.expanduser('~'), 'Google_Drive', 'BZ_RAiDER', 'LOS_SV_experiments', 'geom')\n",
    "lats = op.join(path_test, 'lat1.geo')\n",
    "lons = op.join(path_test, 'lon1.geo')\n",
    "grp = {'aoi_group': {'lat_file':lats, 'lon_file':lons}, \n",
    "       # hampton roads\n",
    "      'date_group': {'date_start': '20181113'},\n",
    "      'time_group': {'time': '23:00:00'}\n",
    "\n",
    "      }\n",
    "cfg = new_yaml_group(yaml_base, grp)\n",
    "!raider.py {cfg}"
   ]
  },
  {
   "cell_type": "code",
   "execution_count": 59,
   "id": "777af6e1",
   "metadata": {},
   "outputs": [
    {
     "name": "stdout",
     "output_type": "stream",
     "text": [
      "Run routine processing with raider.py on steps: ['calculate_delays']\n",
      "--------------------------------------------------\n",
      "Starting to run the weather model calculation\n",
      "Time type: <class 'datetime.datetime'>\n",
      "Time: 20200103\n",
      "Max integration height is 15000.0 m\n",
      "Beginning weather model pre-processing\n",
      "\u001b[33;21mWARNING: Weather model already exists, please remove it (\"['/Users/buzzanga/Software_InSAR/RAiDER-docs_git/notebooks/RAiDER_tutorial/weather_files/GMAO_2020_01_03_T00_00_00.nc']\") if you want to download a new one.\u001b[0m\n",
      "Extent of the weather model is (xmin, ymin, xmax, ymax):-123.12, 29.00, -113.12, 39.00\n",
      "Extent of the input is (xmin, ymin, xmax, ymax): -122.96, 29.03, -113.01, 39.00\n",
      "\u001b[33;21mWARNING: The weather model passed does not cover all of the input points; you may need to download a larger area.\u001b[0m\n",
      "\u001b[33;21mWARNING: The processed weather model file already exists, so I will use that.\u001b[0m\n",
      "Beginning DEM calculation\n",
      "Finished writing data to file\n"
     ]
    }
   ],
   "source": [
    "# gnss station file\n",
    "yaml_gnss = yaml_base.replace('bbox', 'GNSS')\n",
    "!raider.py {yaml_gnss}"
   ]
  },
  {
   "cell_type": "markdown",
   "id": "694b2f8c",
   "metadata": {},
   "source": [
    "## Height Options"
   ]
  },
  {
   "cell_type": "code",
   "execution_count": 60,
   "id": "fb0965d9",
   "metadata": {},
   "outputs": [
    {
     "name": "stdout",
     "output_type": "stream",
     "text": [
      "Run routine processing with raider.py on steps: ['calculate_delays']\n",
      "--------------------------------------------------\n",
      "Starting to run the weather model calculation\n",
      "Time type: <class 'datetime.datetime'>\n",
      "Time: 20200103\n",
      "Max integration height is 15000.0 m\n",
      "Beginning weather model pre-processing\n",
      "\u001b[33;21mWARNING: Weather model already exists, please remove it (\"['/Users/buzzanga/Software_InSAR/RAiDER-docs_git/notebooks/RAiDER_tutorial/weather_files/GMAO_2020_01_03_T00_00_00.nc']\") if you want to download a new one.\u001b[0m\n",
      "Extent of the weather model is (xmin, ymin, xmax, ymax):-123.12, 29.00, -113.12, 39.00\n",
      "Extent of the input is (xmin, ymin, xmax, ymax): -123.00, 29.00, -113.00, 39.00\n",
      "\u001b[33;21mWARNING: The weather model passed does not cover all of the input points; you may need to download a larger area.\u001b[0m\n",
      "\u001b[33;21mWARNING: The processed weather model file already exists, so I will use that.\u001b[0m\n",
      "Starting to run the weather model cube calculation\n",
      "Time: 2020-01-03 00:00:00\n",
      "Max integration height is 15000.0 m\n",
      "Output cube projection is GEOGCRS[\"Hu Tzu Shan 1950\",DATUM[\"Hu Tzu Shan 1950\",ELLIPSOID[\"International 1924\",6378388,297,LENGTHUNIT[\"metre\",1]]],PRIMEM[\"Greenwich\",0,ANGLEUNIT[\"degree\",0.0174532925199433]],CS[ellipsoidal,2],AXIS[\"geodetic latitude (Lat)\",north,ORDER[1],ANGLEUNIT[\"degree\",0.0174532925199433]],AXIS[\"geodetic longitude (Lon)\",east,ORDER[2],ANGLEUNIT[\"degree\",0.0174532925199433]],USAGE[SCOPE[\"Geodesy.\"],AREA[\"Taiwan, Republic of China - onshore - Taiwan Island, Penghu (Pescadores) Islands.\"],BBOX[21.87,119.25,25.34,122.06]],ID[\"EPSG\",4236]]\n",
      "Output cube spacing is 2000.0 m\n",
      "Beginning weather model pre-processing\n",
      "Output SNWE: [29.0, 39.02, -123.0, -112.98]\n",
      "Output cube spacing: 0.02\n",
      "Output height range is 0.0 to 1000.0\n",
      "Invalid extension ('/Users/buzzanga/Software_InSAR/RAiDER-docs_git/notebooks/RAiDER_tutorial/GMAO_tropo_20200103T000000_ztd', '.GTiff') for cube. Defaulting to .nc\n",
      "Finished writing data to: /Users/buzzanga/Software_InSAR/RAiDER-docs_git/notebooks/RAiDER_tutorial/GMAO_tropo_20200103T000000_ztd.nc\n"
     ]
    }
   ],
   "source": [
    "# list of heights\n",
    "!raider.py {yaml_base}"
   ]
  },
  {
   "cell_type": "code",
   "execution_count": 61,
   "id": "5be5e6c1",
   "metadata": {},
   "outputs": [
    {
     "name": "stdout",
     "output_type": "stream",
     "text": [
      "Wrote new cfg file: /Users/buzzanga/Software_InSAR/RAiDER-docs_git/notebooks/RAiDER_tutorial/example_yamls/tmp.yaml\n",
      "Run routine processing with raider.py on steps: ['calculate_delays']\n",
      "--------------------------------------------------\n",
      "Starting to run the weather model calculation\n",
      "Time type: <class 'datetime.datetime'>\n",
      "Time: 20200103\n",
      "Max integration height is 15000.0 m\n",
      "Beginning weather model pre-processing\n",
      "\u001b[33;21mWARNING: Weather model already exists, please remove it (\"['/Users/buzzanga/Software_InSAR/RAiDER-docs_git/notebooks/RAiDER_tutorial/weather_files/GMAO_2020_01_03_T00_00_00.nc']\") if you want to download a new one.\u001b[0m\n",
      "Extent of the weather model is (xmin, ymin, xmax, ymax):-123.12, 29.00, -113.12, 39.00\n",
      "Extent of the input is (xmin, ymin, xmax, ymax): -123.00, 29.00, -113.00, 39.00\n",
      "\u001b[33;21mWARNING: The weather model passed does not cover all of the input points; you may need to download a larger area.\u001b[0m\n",
      "\u001b[33;21mWARNING: The processed weather model file already exists, so I will use that.\u001b[0m\n",
      "Beginning DEM calculation\n",
      "/Users/buzzanga/Miniconda3/envs/RAiDER/lib/python3.10/site-packages/rasterio/__init__.py:314: NotGeoreferencedWarning: Dataset has no geotransform, gcps, or rpcs. The identity matrix will be returned.\n",
      "  dataset = writer(\n",
      "Finished writing data to file\n"
     ]
    }
   ],
   "source": [
    "# dem\n",
    "# geocoded file (SRTM DEM)\n",
    "aria = op.join(op.expanduser('~'), 'data', 'VLM', 'Sentinel1', 'LA_ARIA', 'DEM')\n",
    "prod = 'SRTM_3arcsec.dem'\n",
    "grp  = {'height_group': {'dem': op.join(aria, prod), 'use_dem_latlon': True}}\n",
    "        \n",
    "cfg  = new_yaml_group(yaml_base, grp)\n",
    "\n",
    "!raider.py {cfg}"
   ]
  },
  {
   "cell_type": "code",
   "execution_count": 64,
   "id": "d30fb567",
   "metadata": {},
   "outputs": [
    {
     "name": "stdout",
     "output_type": "stream",
     "text": [
      "Run routine processing with raider.py on steps: ['calculate_delays']\n",
      "--------------------------------------------------\n",
      "Starting to run the weather model calculation\n",
      "Time type: <class 'datetime.datetime'>\n",
      "Time: 20200103\n",
      "Max integration height is 15000.0 m\n",
      "Beginning weather model pre-processing\n",
      "\u001b[33;21mWARNING: Weather model already exists, please remove it (\"['/Users/buzzanga/Software_InSAR/RAiDER-docs_git/notebooks/RAiDER_tutorial/weather_files/GMAO_2020_01_03_T00_00_00.nc']\") if you want to download a new one.\u001b[0m\n",
      "Extent of the weather model is (xmin, ymin, xmax, ymax):-123.12, 29.00, -113.12, 39.00\n",
      "Extent of the input is (xmin, ymin, xmax, ymax): -123.00, 29.00, -113.00, 39.00\n",
      "\u001b[33;21mWARNING: The weather model passed does not cover all of the input points; you may need to download a larger area.\u001b[0m\n",
      "\u001b[33;21mWARNING: The processed weather model file already exists, so I will use that.\u001b[0m\n",
      "Starting to run the weather model cube calculation\n",
      "Time: 2020-01-03 00:00:00\n",
      "Max integration height is 15000.0 m\n",
      "Output cube projection is GEOGCRS[\"Hu Tzu Shan 1950\",DATUM[\"Hu Tzu Shan 1950\",ELLIPSOID[\"International 1924\",6378388,297,LENGTHUNIT[\"metre\",1]]],PRIMEM[\"Greenwich\",0,ANGLEUNIT[\"degree\",0.0174532925199433]],CS[ellipsoidal,2],AXIS[\"geodetic latitude (Lat)\",north,ORDER[1],ANGLEUNIT[\"degree\",0.0174532925199433]],AXIS[\"geodetic longitude (Lon)\",east,ORDER[2],ANGLEUNIT[\"degree\",0.0174532925199433]],USAGE[SCOPE[\"Geodesy.\"],AREA[\"Taiwan, Republic of China - onshore - Taiwan Island, Penghu (Pescadores) Islands.\"],BBOX[21.87,119.25,25.34,122.06]],ID[\"EPSG\",4236]]\n",
      "Output cube spacing is 2000.0 m\n",
      "Beginning weather model pre-processing\n",
      "Output SNWE: [29.0, 39.02, -123.0, -112.98]\n",
      "Output cube spacing: 0.02\n",
      "Output height range is 0.0 to 1000.0\n",
      "Invalid extension ('/Users/buzzanga/Software_InSAR/RAiDER-docs_git/notebooks/RAiDER_tutorial/GMAO_tropo_20200103T000000_ztd', '.GTiff') for cube. Defaulting to .nc\n",
      "Finished writing data to: /Users/buzzanga/Software_InSAR/RAiDER-docs_git/notebooks/RAiDER_tutorial/GMAO_tropo_20200103T000000_ztd.nc\n"
     ]
    }
   ],
   "source": [
    "# geocoded hgt file from ISCE\n",
    "!raider.py {yaml_base}"
   ]
  },
  {
   "cell_type": "code",
   "execution_count": 65,
   "id": "c84980a0",
   "metadata": {},
   "outputs": [
    {
     "name": "stdout",
     "output_type": "stream",
     "text": [
      "Run routine processing with raider.py on steps: ['calculate_delays']\n",
      "--------------------------------------------------\n",
      "Starting to run the weather model calculation\n",
      "Time type: <class 'datetime.datetime'>\n",
      "Time: 20200103\n",
      "Max integration height is 15000.0 m\n",
      "Beginning weather model pre-processing\n",
      "\u001b[33;21mWARNING: Weather model already exists, please remove it (\"['/Users/buzzanga/Software_InSAR/RAiDER-docs_git/notebooks/RAiDER_tutorial/weather_files/GMAO_2020_01_03_T00_00_00.nc']\") if you want to download a new one.\u001b[0m\n",
      "Extent of the weather model is (xmin, ymin, xmax, ymax):-123.12, 29.00, -113.12, 39.00\n",
      "Extent of the input is (xmin, ymin, xmax, ymax): -122.96, 29.03, -113.01, 39.00\n",
      "\u001b[33;21mWARNING: The weather model passed does not cover all of the input points; you may need to download a larger area.\u001b[0m\n",
      "\u001b[33;21mWARNING: The processed weather model file already exists, so I will use that.\u001b[0m\n",
      "Beginning DEM calculation\n",
      "Finished writing data to file\n"
     ]
    }
   ],
   "source": [
    "# gnss station file\n",
    "yaml_gnss = yaml_base.replace('bbox', 'GNSS')\n",
    "!raider.py {yaml_gnss}"
   ]
  },
  {
   "cell_type": "markdown",
   "id": "0d6c3c22",
   "metadata": {},
   "source": [
    "## LOS Options?"
   ]
  },
  {
   "cell_type": "markdown",
   "id": "d336c7ee",
   "metadata": {
    "heading_collapsed": true
   },
   "source": [
    "## Projection Options"
   ]
  },
  {
   "cell_type": "code",
   "execution_count": 41,
   "id": "5ab99f03",
   "metadata": {
    "hidden": true
   },
   "outputs": [],
   "source": [
    "# os.chdir('UTM_DEM')"
   ]
  },
  {
   "cell_type": "code",
   "execution_count": 42,
   "id": "092645ac",
   "metadata": {
    "hidden": true
   },
   "outputs": [],
   "source": [
    "## UTM DEM with WGS Model\n",
    "# !raider.py raiderDelay_utm_CA-ERA5.yaml"
   ]
  },
  {
   "cell_type": "code",
   "execution_count": 43,
   "id": "b9d9479b",
   "metadata": {
    "hidden": true
   },
   "outputs": [],
   "source": [
    "## UTM DEM with UTM Model\n",
    "# !raider.py raiderDelay_utm_CA-HRRR.yaml"
   ]
  },
  {
   "cell_type": "code",
   "execution_count": 44,
   "id": "755f2930",
   "metadata": {
    "hidden": true
   },
   "outputs": [],
   "source": [
    "## WGS DEM with UTM Model\n",
    "# !raider.py raiderDelay_geo_CA-HRRR.yaml"
   ]
  },
  {
   "cell_type": "code",
   "execution_count": 45,
   "id": "cbf4d443",
   "metadata": {
    "hidden": true
   },
   "outputs": [],
   "source": [
    "# os.chdir('..')"
   ]
  }
 ],
 "metadata": {
  "kernelspec": {
   "display_name": "Python 3 (ipykernel)",
   "language": "python",
   "name": "python3"
  },
  "language_info": {
   "codemirror_mode": {
    "name": "ipython",
    "version": 3
   },
   "file_extension": ".py",
   "mimetype": "text/x-python",
   "name": "python",
   "nbconvert_exporter": "python",
   "pygments_lexer": "ipython3",
   "version": "3.10.6"
  }
 },
 "nbformat": 4,
 "nbformat_minor": 5
}
